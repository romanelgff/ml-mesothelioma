{
 "cells": [
  {
   "cell_type": "markdown",
   "metadata": {},
   "source": [
    "# Machine learning techniques for diagnosis of malignant pleural mesothelioma\n",
    "\n",
    "MPM is a highly aggressive tumor of the serous membranes, which in humans results from exposure to **asbestos** and **asbestiform fibers**. It is a fatal cancer and a malignancy that is resistant to the common tumor directed therapies.\n",
    "\n",
    "Overall: \n",
    "* around half of people diagnosed with mesothelioma will live at least a year after the diagnosis\n",
    "* around 10% of people with mesothelioma will live at least 5 years after diagnosis\n",
    "\n",
    "The symptoms of mesothelioma develop usually gradually over time and don't appear until several decades (typically 20 years) after exposure to asbestos ! For mesothelioma in the lining of the lungs, they include :\n",
    "* chest pain\n",
    "* shortness of breath\n",
    "* fatigue\n",
    "* fever and sweating\n",
    "* couch\n",
    "* loss of appetite and unexplained weight loss\n",
    "* swollen fingertips\n",
    "\n",
    "As for mesothelioma in the lining of the tummy, they include :\n",
    "* swelling or tummy pain\n",
    "* feeling sick\n",
    "* loss of appetite and unexplained weight loss\n",
    "* diarrhoea or consitupation\n",
    "\n",
    "Diagnostics of mesothelioma:\n",
    "* X-ray of chest or tummy\n",
    "* CT scan\n",
    "* fluid drainage\n",
    "* thoracoscopy or laparoscopy"
   ]
  },
  {
   "cell_type": "markdown",
   "metadata": {},
   "source": [
    "## Findings in the studied paper \n",
    "\n",
    "The paper compares the results of the multilayer neural network (MLNN) structure and Artificial Immune Systems (AIS) on MPM diagnosis. The dataset used comes from a faculty of medecine's database using patient's hospital reports. This dataset includes 324 patients suffering from variety of MPM disease. Each of them have 34 features and diagnostic tests of each patient were recorded by an attending physician."
   ]
  },
  {
   "cell_type": "markdown",
   "metadata": {},
   "source": [
    "## Data importation"
   ]
  },
  {
   "cell_type": "code",
   "execution_count": 57,
   "metadata": {},
   "outputs": [
    {
     "data": {
      "text/plain": [
       "'/Users/romanelgff/Documents/Master/M2/S1/R1/ML/ml-mesothelioma'"
      ]
     },
     "execution_count": 57,
     "metadata": {},
     "output_type": "execute_result"
    }
   ],
   "source": [
    "import os\n",
    "import pandas as pd\n",
    "import matplotlib.pyplot as plt\n",
    "from mca import MCA # pip install --user mca\n",
    "# doc: https://github.com/esafak/mca/blob/master/docs/usage.rst\n",
    "\n",
    "# configuration bibliotheque pour les graphiques\n",
    "%matplotlib inline \n",
    "\n",
    "os.getcwd()"
   ]
  },
  {
   "cell_type": "code",
   "execution_count": 58,
   "metadata": {},
   "outputs": [
    {
     "data": {
      "text/html": [
       "<div>\n",
       "<style scoped>\n",
       "    .dataframe tbody tr th:only-of-type {\n",
       "        vertical-align: middle;\n",
       "    }\n",
       "\n",
       "    .dataframe tbody tr th {\n",
       "        vertical-align: top;\n",
       "    }\n",
       "\n",
       "    .dataframe thead th {\n",
       "        text-align: right;\n",
       "    }\n",
       "</style>\n",
       "<table border=\"1\" class=\"dataframe\">\n",
       "  <thead>\n",
       "    <tr style=\"text-align: right;\">\n",
       "      <th></th>\n",
       "      <th>age</th>\n",
       "      <th>gender</th>\n",
       "      <th>city</th>\n",
       "      <th>asbestos exposure</th>\n",
       "      <th>type of MM</th>\n",
       "      <th>duration of asbestos exposure</th>\n",
       "      <th>keep side</th>\n",
       "      <th>cytology</th>\n",
       "      <th>duration of symptoms</th>\n",
       "      <th>dyspnoea</th>\n",
       "      <th>...</th>\n",
       "      <th>pleural lactic dehydrogenise</th>\n",
       "      <th>pleural protein</th>\n",
       "      <th>pleural albumin</th>\n",
       "      <th>pleural glucose</th>\n",
       "      <th>dead or not</th>\n",
       "      <th>pleural effusion</th>\n",
       "      <th>pleural thickness on tomography</th>\n",
       "      <th>pleural level of acidity (pH)</th>\n",
       "      <th>C-reactive protein (CRP)</th>\n",
       "      <th>class of diagnosis</th>\n",
       "    </tr>\n",
       "  </thead>\n",
       "  <tbody>\n",
       "    <tr>\n",
       "      <td>0</td>\n",
       "      <td>47.0</td>\n",
       "      <td>1</td>\n",
       "      <td>0</td>\n",
       "      <td>1</td>\n",
       "      <td>0.0</td>\n",
       "      <td>20.0</td>\n",
       "      <td>0</td>\n",
       "      <td>1</td>\n",
       "      <td>24.0</td>\n",
       "      <td>1</td>\n",
       "      <td>...</td>\n",
       "      <td>289.0</td>\n",
       "      <td>0.0</td>\n",
       "      <td>0.00</td>\n",
       "      <td>79.0</td>\n",
       "      <td>1</td>\n",
       "      <td>0.0</td>\n",
       "      <td>0.0</td>\n",
       "      <td>0.0</td>\n",
       "      <td>34</td>\n",
       "      <td>1</td>\n",
       "    </tr>\n",
       "    <tr>\n",
       "      <td>1</td>\n",
       "      <td>55.0</td>\n",
       "      <td>1</td>\n",
       "      <td>0</td>\n",
       "      <td>1</td>\n",
       "      <td>0.0</td>\n",
       "      <td>45.0</td>\n",
       "      <td>0</td>\n",
       "      <td>0</td>\n",
       "      <td>1.0</td>\n",
       "      <td>1</td>\n",
       "      <td>...</td>\n",
       "      <td>7541.0</td>\n",
       "      <td>1.6</td>\n",
       "      <td>0.80</td>\n",
       "      <td>6.0</td>\n",
       "      <td>1</td>\n",
       "      <td>1.0</td>\n",
       "      <td>1.0</td>\n",
       "      <td>1.0</td>\n",
       "      <td>42</td>\n",
       "      <td>1</td>\n",
       "    </tr>\n",
       "    <tr>\n",
       "      <td>2</td>\n",
       "      <td>29.0</td>\n",
       "      <td>1</td>\n",
       "      <td>1</td>\n",
       "      <td>1</td>\n",
       "      <td>0.0</td>\n",
       "      <td>23.0</td>\n",
       "      <td>1</td>\n",
       "      <td>0</td>\n",
       "      <td>1.0</td>\n",
       "      <td>0</td>\n",
       "      <td>...</td>\n",
       "      <td>480.0</td>\n",
       "      <td>0.0</td>\n",
       "      <td>0.00</td>\n",
       "      <td>90.0</td>\n",
       "      <td>1</td>\n",
       "      <td>0.0</td>\n",
       "      <td>0.0</td>\n",
       "      <td>0.0</td>\n",
       "      <td>43</td>\n",
       "      <td>2</td>\n",
       "    </tr>\n",
       "    <tr>\n",
       "      <td>3</td>\n",
       "      <td>39.0</td>\n",
       "      <td>1</td>\n",
       "      <td>0</td>\n",
       "      <td>1</td>\n",
       "      <td>0.0</td>\n",
       "      <td>10.0</td>\n",
       "      <td>0</td>\n",
       "      <td>0</td>\n",
       "      <td>3.0</td>\n",
       "      <td>0</td>\n",
       "      <td>...</td>\n",
       "      <td>459.0</td>\n",
       "      <td>5.0</td>\n",
       "      <td>2.80</td>\n",
       "      <td>45.0</td>\n",
       "      <td>1</td>\n",
       "      <td>1.0</td>\n",
       "      <td>0.0</td>\n",
       "      <td>0.0</td>\n",
       "      <td>21</td>\n",
       "      <td>1</td>\n",
       "    </tr>\n",
       "    <tr>\n",
       "      <td>4</td>\n",
       "      <td>47.0</td>\n",
       "      <td>1</td>\n",
       "      <td>0</td>\n",
       "      <td>1</td>\n",
       "      <td>0.0</td>\n",
       "      <td>10.0</td>\n",
       "      <td>1</td>\n",
       "      <td>1</td>\n",
       "      <td>1.5</td>\n",
       "      <td>1</td>\n",
       "      <td>...</td>\n",
       "      <td>213.0</td>\n",
       "      <td>3.6</td>\n",
       "      <td>1.95</td>\n",
       "      <td>53.0</td>\n",
       "      <td>1</td>\n",
       "      <td>1.0</td>\n",
       "      <td>0.0</td>\n",
       "      <td>0.0</td>\n",
       "      <td>11</td>\n",
       "      <td>1</td>\n",
       "    </tr>\n",
       "  </tbody>\n",
       "</table>\n",
       "<p>5 rows × 34 columns</p>\n",
       "</div>"
      ],
      "text/plain": [
       "    age  gender  city  asbestos exposure  type of MM  \\\n",
       "0  47.0       1     0                  1         0.0   \n",
       "1  55.0       1     0                  1         0.0   \n",
       "2  29.0       1     1                  1         0.0   \n",
       "3  39.0       1     0                  1         0.0   \n",
       "4  47.0       1     0                  1         0.0   \n",
       "\n",
       "   duration of asbestos exposure  keep side  cytology  duration of symptoms  \\\n",
       "0                           20.0          0         1                  24.0   \n",
       "1                           45.0          0         0                   1.0   \n",
       "2                           23.0          1         0                   1.0   \n",
       "3                           10.0          0         0                   3.0   \n",
       "4                           10.0          1         1                   1.5   \n",
       "\n",
       "   dyspnoea  ...  pleural lactic dehydrogenise  pleural protein  \\\n",
       "0         1  ...                         289.0              0.0   \n",
       "1         1  ...                        7541.0              1.6   \n",
       "2         0  ...                         480.0              0.0   \n",
       "3         0  ...                         459.0              5.0   \n",
       "4         1  ...                         213.0              3.6   \n",
       "\n",
       "   pleural albumin  pleural glucose  dead or not  pleural effusion  \\\n",
       "0             0.00             79.0            1               0.0   \n",
       "1             0.80              6.0            1               1.0   \n",
       "2             0.00             90.0            1               0.0   \n",
       "3             2.80             45.0            1               1.0   \n",
       "4             1.95             53.0            1               1.0   \n",
       "\n",
       "   pleural thickness on tomography  pleural level of acidity (pH)  \\\n",
       "0                              0.0                            0.0   \n",
       "1                              1.0                            1.0   \n",
       "2                              0.0                            0.0   \n",
       "3                              0.0                            0.0   \n",
       "4                              0.0                            0.0   \n",
       "\n",
       "   C-reactive protein (CRP)  class of diagnosis  \n",
       "0                        34                   1  \n",
       "1                        42                   1  \n",
       "2                        43                   2  \n",
       "3                        21                   1  \n",
       "4                        11                   1  \n",
       "\n",
       "[5 rows x 34 columns]"
      ]
     },
     "execution_count": 58,
     "metadata": {},
     "output_type": "execute_result"
    }
   ],
   "source": [
    "df = pd.read_excel(\"mesothelioma_dataset.xlsx\")\n",
    "df = df.drop(columns = [\"diagnosis method\"]) # variable correlee avec la variable explicative donc a enlever (d'apres Valérie)\n",
    "df.head()"
   ]
  },
  {
   "cell_type": "code",
   "execution_count": 59,
   "metadata": {},
   "outputs": [
    {
     "data": {
      "text/plain": [
       "(324, 34)"
      ]
     },
     "execution_count": 59,
     "metadata": {},
     "output_type": "execute_result"
    }
   ],
   "source": [
    "# dimensions\n",
    "df.shape "
   ]
  },
  {
   "cell_type": "code",
   "execution_count": 60,
   "metadata": {},
   "outputs": [
    {
     "data": {
      "text/plain": [
       "11016"
      ]
     },
     "execution_count": 60,
     "metadata": {},
     "output_type": "execute_result"
    }
   ],
   "source": [
    "# nombre total d'éléments\n",
    "df.size"
   ]
  },
  {
   "cell_type": "code",
   "execution_count": 61,
   "metadata": {},
   "outputs": [
    {
     "data": {
      "text/html": [
       "<div>\n",
       "<style scoped>\n",
       "    .dataframe tbody tr th:only-of-type {\n",
       "        vertical-align: middle;\n",
       "    }\n",
       "\n",
       "    .dataframe tbody tr th {\n",
       "        vertical-align: top;\n",
       "    }\n",
       "\n",
       "    .dataframe thead th {\n",
       "        text-align: right;\n",
       "    }\n",
       "</style>\n",
       "<table border=\"1\" class=\"dataframe\">\n",
       "  <thead>\n",
       "    <tr style=\"text-align: right;\">\n",
       "      <th></th>\n",
       "      <th>age</th>\n",
       "      <th>gender</th>\n",
       "      <th>city</th>\n",
       "      <th>asbestos_exposure</th>\n",
       "      <th>type_of_MM</th>\n",
       "      <th>duration_of_asbestos_exposure</th>\n",
       "      <th>keep_side</th>\n",
       "      <th>cytology</th>\n",
       "      <th>duration_of_symptoms</th>\n",
       "      <th>dyspnoea</th>\n",
       "      <th>...</th>\n",
       "      <th>pleural_lactic_dehydrogenise</th>\n",
       "      <th>pleural_protein</th>\n",
       "      <th>pleural_albumin</th>\n",
       "      <th>pleural_glucose</th>\n",
       "      <th>dead_or_not</th>\n",
       "      <th>pleural_effusion</th>\n",
       "      <th>pleural_thickness_on_tomography</th>\n",
       "      <th>pleural_level_of_acidity_(pH)</th>\n",
       "      <th>C-reactive_protein_(CRP)</th>\n",
       "      <th>class_of_diagnosis</th>\n",
       "    </tr>\n",
       "  </thead>\n",
       "  <tbody>\n",
       "    <tr>\n",
       "      <td>0</td>\n",
       "      <td>47.0</td>\n",
       "      <td>1</td>\n",
       "      <td>0</td>\n",
       "      <td>1</td>\n",
       "      <td>0.0</td>\n",
       "      <td>20.0</td>\n",
       "      <td>0</td>\n",
       "      <td>1</td>\n",
       "      <td>24.0</td>\n",
       "      <td>1</td>\n",
       "      <td>...</td>\n",
       "      <td>289.0</td>\n",
       "      <td>0.0</td>\n",
       "      <td>0.00</td>\n",
       "      <td>79.0</td>\n",
       "      <td>1</td>\n",
       "      <td>0.0</td>\n",
       "      <td>0.0</td>\n",
       "      <td>0.0</td>\n",
       "      <td>34</td>\n",
       "      <td>1</td>\n",
       "    </tr>\n",
       "    <tr>\n",
       "      <td>1</td>\n",
       "      <td>55.0</td>\n",
       "      <td>1</td>\n",
       "      <td>0</td>\n",
       "      <td>1</td>\n",
       "      <td>0.0</td>\n",
       "      <td>45.0</td>\n",
       "      <td>0</td>\n",
       "      <td>0</td>\n",
       "      <td>1.0</td>\n",
       "      <td>1</td>\n",
       "      <td>...</td>\n",
       "      <td>7541.0</td>\n",
       "      <td>1.6</td>\n",
       "      <td>0.80</td>\n",
       "      <td>6.0</td>\n",
       "      <td>1</td>\n",
       "      <td>1.0</td>\n",
       "      <td>1.0</td>\n",
       "      <td>1.0</td>\n",
       "      <td>42</td>\n",
       "      <td>1</td>\n",
       "    </tr>\n",
       "    <tr>\n",
       "      <td>2</td>\n",
       "      <td>29.0</td>\n",
       "      <td>1</td>\n",
       "      <td>1</td>\n",
       "      <td>1</td>\n",
       "      <td>0.0</td>\n",
       "      <td>23.0</td>\n",
       "      <td>1</td>\n",
       "      <td>0</td>\n",
       "      <td>1.0</td>\n",
       "      <td>0</td>\n",
       "      <td>...</td>\n",
       "      <td>480.0</td>\n",
       "      <td>0.0</td>\n",
       "      <td>0.00</td>\n",
       "      <td>90.0</td>\n",
       "      <td>1</td>\n",
       "      <td>0.0</td>\n",
       "      <td>0.0</td>\n",
       "      <td>0.0</td>\n",
       "      <td>43</td>\n",
       "      <td>2</td>\n",
       "    </tr>\n",
       "    <tr>\n",
       "      <td>3</td>\n",
       "      <td>39.0</td>\n",
       "      <td>1</td>\n",
       "      <td>0</td>\n",
       "      <td>1</td>\n",
       "      <td>0.0</td>\n",
       "      <td>10.0</td>\n",
       "      <td>0</td>\n",
       "      <td>0</td>\n",
       "      <td>3.0</td>\n",
       "      <td>0</td>\n",
       "      <td>...</td>\n",
       "      <td>459.0</td>\n",
       "      <td>5.0</td>\n",
       "      <td>2.80</td>\n",
       "      <td>45.0</td>\n",
       "      <td>1</td>\n",
       "      <td>1.0</td>\n",
       "      <td>0.0</td>\n",
       "      <td>0.0</td>\n",
       "      <td>21</td>\n",
       "      <td>1</td>\n",
       "    </tr>\n",
       "    <tr>\n",
       "      <td>4</td>\n",
       "      <td>47.0</td>\n",
       "      <td>1</td>\n",
       "      <td>0</td>\n",
       "      <td>1</td>\n",
       "      <td>0.0</td>\n",
       "      <td>10.0</td>\n",
       "      <td>1</td>\n",
       "      <td>1</td>\n",
       "      <td>1.5</td>\n",
       "      <td>1</td>\n",
       "      <td>...</td>\n",
       "      <td>213.0</td>\n",
       "      <td>3.6</td>\n",
       "      <td>1.95</td>\n",
       "      <td>53.0</td>\n",
       "      <td>1</td>\n",
       "      <td>1.0</td>\n",
       "      <td>0.0</td>\n",
       "      <td>0.0</td>\n",
       "      <td>11</td>\n",
       "      <td>1</td>\n",
       "    </tr>\n",
       "  </tbody>\n",
       "</table>\n",
       "<p>5 rows × 34 columns</p>\n",
       "</div>"
      ],
      "text/plain": [
       "    age  gender  city  asbestos_exposure  type_of_MM  \\\n",
       "0  47.0       1     0                  1         0.0   \n",
       "1  55.0       1     0                  1         0.0   \n",
       "2  29.0       1     1                  1         0.0   \n",
       "3  39.0       1     0                  1         0.0   \n",
       "4  47.0       1     0                  1         0.0   \n",
       "\n",
       "   duration_of_asbestos_exposure  keep_side  cytology  duration_of_symptoms  \\\n",
       "0                           20.0          0         1                  24.0   \n",
       "1                           45.0          0         0                   1.0   \n",
       "2                           23.0          1         0                   1.0   \n",
       "3                           10.0          0         0                   3.0   \n",
       "4                           10.0          1         1                   1.5   \n",
       "\n",
       "   dyspnoea  ...  pleural_lactic_dehydrogenise  pleural_protein  \\\n",
       "0         1  ...                         289.0              0.0   \n",
       "1         1  ...                        7541.0              1.6   \n",
       "2         0  ...                         480.0              0.0   \n",
       "3         0  ...                         459.0              5.0   \n",
       "4         1  ...                         213.0              3.6   \n",
       "\n",
       "   pleural_albumin  pleural_glucose  dead_or_not  pleural_effusion  \\\n",
       "0             0.00             79.0            1               0.0   \n",
       "1             0.80              6.0            1               1.0   \n",
       "2             0.00             90.0            1               0.0   \n",
       "3             2.80             45.0            1               1.0   \n",
       "4             1.95             53.0            1               1.0   \n",
       "\n",
       "   pleural_thickness_on_tomography  pleural_level_of_acidity_(pH)  \\\n",
       "0                              0.0                            0.0   \n",
       "1                              1.0                            1.0   \n",
       "2                              0.0                            0.0   \n",
       "3                              0.0                            0.0   \n",
       "4                              0.0                            0.0   \n",
       "\n",
       "   C-reactive_protein_(CRP)  class_of_diagnosis  \n",
       "0                        34                   1  \n",
       "1                        42                   1  \n",
       "2                        43                   2  \n",
       "3                        21                   1  \n",
       "4                        11                   1  \n",
       "\n",
       "[5 rows x 34 columns]"
      ]
     },
     "execution_count": 61,
     "metadata": {},
     "output_type": "execute_result"
    }
   ],
   "source": [
    "# removing blank spaces in column names\n",
    "df.columns = df.columns.str.replace(' ', '_')\n",
    "df.head()"
   ]
  },
  {
   "cell_type": "markdown",
   "metadata": {},
   "source": [
    "* **age**: âge de l'individu \n",
    "* **gender**: genre \n",
    "* **city**: où habite le patient (plus ou moins proche de la ville)\n",
    "* **asbestos exposure**: exposition à l'amiante, un silicate fibreux d’origine naturelle\n",
    "* **type of MM**: type de mésothéliomes malins (trois types)\n",
    "* **duration of asbetos exposure**: durée d'exposition à l'amiante\n",
    "* **diagnosis method**: méthode/procédé de diagnostic (0 ou 1?)\n",
    "* **keep side**: ??? garder de côté le patient? => d'après un autre papier c'est lung side !\n",
    "* **cytology**: dépistage par cytologie (= étude des cellules isolées)\n",
    "* **duration of symptoms**: durée des symptômes\n",
    "* **dyspnoea**: présence ou non de dyspnée (souffle court)\n",
    "* **ache on chest**: présence ou non d'une douleur à la poitrine \n",
    "* **weakness**: faiblesse (ou non)\n",
    "* **habit of cigarette**: fumeur (ou non)\n",
    "* **performance status**: statut de performance??\n",
    "* **White Blood cell count (WBC)**: quantité de globule blanc\n",
    "* **haemoglobin (HGB)**: 0 ou 1 = anémie ou non??\n",
    "* **platelet count (PLT)**: nombre de plaquettes (thrombocytes) (low platelet concentration is called thrombocytopenia, and is due to either decreased production or increased destruction. Elevated platelet concentration is called thrombocytosis, and is either congenital, reactive (to cytokines), or due to unregulated production)\n",
    "* **sedimentation**:  sedimentation rate = blood test that checks for inflammation in your body (measures how fast red blood cells fall to the bottom of a tube. Inflammation creates proteins that make red blood cells fall more quickly)\n",
    "* **blood lactic dehydrogenise (LDH)**: taux de LDH ou Lactate déshydrogénase (type de protéine aussi appelé enzyme), quand des tissus sont endommagés ou malades, ils relâchent des isoenzymes de LDH dans le sang => le type de LDH rejetté dépend du tissu endommagé\n",
    "* **alkaline phosphatise (ALP)**: enzyme présente dans le sang, si le taux présent est élevé => problème éventuel = foie, hépatite, obstruction des voies biliaires, cirrhose ou problèmes au niveau des os\n",
    "* **total protein**: quantité totale de protéine (albumin+globulin) dans le sang (normal values = 6.0 to 8.3 grams per deciliter)\n",
    "* **albumin**:\n",
    "* **glucose**:\n",
    "* **pleural lactic dehydrogenise**:\n",
    "* **pleural protein**:\n",
    "* **pleural albumin**:\n",
    "* **pleural glucose**:\n",
    "* **dead or not**:\n",
    "* **pleural effusion**:\n",
    "* **pleural thickness on tomography**:\n",
    "* **pleural level of acidity (pH)**\n",
    "* **C-reactive protein (CRP)**:"
   ]
  },
  {
   "cell_type": "code",
   "execution_count": 62,
   "metadata": {},
   "outputs": [
    {
     "data": {
      "text/plain": [
       "age                                 float64\n",
       "gender                                int64\n",
       "city                                  int64\n",
       "asbestos_exposure                     int64\n",
       "type_of_MM                          float64\n",
       "duration_of_asbestos_exposure       float64\n",
       "keep_side                             int64\n",
       "cytology                              int64\n",
       "duration_of_symptoms                float64\n",
       "dyspnoea                              int64\n",
       "ache_on_chest                         int64\n",
       "weakness                              int64\n",
       "habit_of_cigarette                    int64\n",
       "performance_status                    int64\n",
       "white_blood                         float64\n",
       "cell_count_(WBC)                      int64\n",
       "hemoglobin_(HGB)                      int64\n",
       "platelet_count_(PLT)                float64\n",
       "sedimentation                       float64\n",
       "blood_lactic_dehydrogenise_(LDH)    float64\n",
       "alkaline_phosphatise_(ALP)          float64\n",
       "total_protein                       float64\n",
       "albumin                             float64\n",
       "glucose                             float64\n",
       "pleural_lactic_dehydrogenise        float64\n",
       "pleural_protein                     float64\n",
       "pleural_albumin                     float64\n",
       "pleural_glucose                     float64\n",
       "dead_or_not                           int64\n",
       "pleural_effusion                    float64\n",
       "pleural_thickness_on_tomography     float64\n",
       "pleural_level_of_acidity_(pH)       float64\n",
       "C-reactive_protein_(CRP)              int64\n",
       "class_of_diagnosis                    int64\n",
       "dtype: object"
      ]
     },
     "execution_count": 62,
     "metadata": {},
     "output_type": "execute_result"
    }
   ],
   "source": [
    "# classes des colonnes\n",
    "df.dtypes"
   ]
  },
  {
   "cell_type": "code",
   "execution_count": 63,
   "metadata": {},
   "outputs": [
    {
     "data": {
      "text/plain": [
       "array([1, 2])"
      ]
     },
     "execution_count": 63,
     "metadata": {},
     "output_type": "execute_result"
    }
   ],
   "source": [
    "df[\"class_of_diagnosis\"].unique() # target variable"
   ]
  },
  {
   "cell_type": "code",
   "execution_count": 64,
   "metadata": {},
   "outputs": [
    {
     "data": {
      "text/plain": [
       "array([0, 1, 3, 4, 5, 2, 6, 7, 8])"
      ]
     },
     "execution_count": 64,
     "metadata": {},
     "output_type": "execute_result"
    }
   ],
   "source": [
    "df[\"city\"].unique()"
   ]
  },
  {
   "cell_type": "code",
   "execution_count": 65,
   "metadata": {},
   "outputs": [
    {
     "data": {
      "text/plain": [
       "array([0., 1., 2.])"
      ]
     },
     "execution_count": 65,
     "metadata": {},
     "output_type": "execute_result"
    }
   ],
   "source": [
    "df[\"type_of_MM\"].unique() # float instead of int"
   ]
  },
  {
   "cell_type": "code",
   "execution_count": 66,
   "metadata": {},
   "outputs": [
    {
     "data": {
      "text/plain": [
       "array([0., 1.])"
      ]
     },
     "execution_count": 66,
     "metadata": {},
     "output_type": "execute_result"
    }
   ],
   "source": [
    "df[\"pleural_level_of_acidity_(pH)\"].unique() # same"
   ]
  },
  {
   "cell_type": "code",
   "execution_count": 67,
   "metadata": {},
   "outputs": [
    {
     "data": {
      "text/plain": [
       "array([0, 1, 2])"
      ]
     },
     "execution_count": 67,
     "metadata": {},
     "output_type": "execute_result"
    }
   ],
   "source": [
    "df[\"keep_side\"].unique() # keep_side is lung_side in another paper using the same data"
   ]
  },
  {
   "cell_type": "code",
   "execution_count": 69,
   "metadata": {},
   "outputs": [
    {
     "data": {
      "text/plain": [
       "0      0\n",
       "1      0\n",
       "2      1\n",
       "3      0\n",
       "4      1\n",
       "      ..\n",
       "319    1\n",
       "320    1\n",
       "321    0\n",
       "322    1\n",
       "323    1\n",
       "Name: lung_side, Length: 324, dtype: int64"
      ]
     },
     "execution_count": 69,
     "metadata": {},
     "output_type": "execute_result"
    }
   ],
   "source": [
    "df = df.rename(columns={'keep_side':'lung_side'}) # changing name\n",
    "df.lung_side # 0 = no pleural plaque (1 or 2 = right or left side of the lung)"
   ]
  },
  {
   "cell_type": "code",
   "execution_count": 70,
   "metadata": {},
   "outputs": [
    {
     "data": {
      "text/plain": [
       "array([1, 0])"
      ]
     },
     "execution_count": 70,
     "metadata": {},
     "output_type": "execute_result"
    }
   ],
   "source": [
    "df[\"cytology\"].unique()"
   ]
  },
  {
   "cell_type": "code",
   "execution_count": 71,
   "metadata": {},
   "outputs": [
    {
     "data": {
      "text/plain": [
       "array([1, 0])"
      ]
     },
     "execution_count": 71,
     "metadata": {},
     "output_type": "execute_result"
    }
   ],
   "source": [
    "df[\"gender\"].unique()"
   ]
  },
  {
   "cell_type": "code",
   "execution_count": 72,
   "metadata": {},
   "outputs": [
    {
     "data": {
      "text/plain": [
       "array([2, 3, 0, 1])"
      ]
     },
     "execution_count": 72,
     "metadata": {},
     "output_type": "execute_result"
    }
   ],
   "source": [
    "df[\"habit_of_cigarette\"].unique()"
   ]
  },
  {
   "cell_type": "code",
   "execution_count": 73,
   "metadata": {},
   "outputs": [
    {
     "data": {
      "text/plain": [
       "array([ 274.,  615.,  189.,  462.,  530.,  330.,  275.,  441.,  188.,\n",
       "        329.,  617.,  292.,  522.,  563.,  114.,  264.,  847.,  632.,\n",
       "        405.,  280.,  479.,  366.,  568.,  403.,  668.,  754.,  419.,\n",
       "        785.,  389.,  468.,  565.,  383.,  595.,  477.,  904.,  564.,\n",
       "        165.,  445.,  195.,  456.,  398.,  212.,  314.,  183.,  508.,\n",
       "        613.,  492.,  458.,  463.,  410.,  317.,  248.,  266.,  192.,\n",
       "        542.,  792.,  293.,  487.,  255.,  263.,  355.,  322.,  324.,\n",
       "        234.,  455.,  465.,  655.,  435.,  552.,  344.,  444.,  235.,\n",
       "        411.,  222.,  333.,  342.,  245.,  467.,  534.,  437.,  345.,\n",
       "        256.,  466.,  544.,  167.,  122.,  133.,  125.,  145.,  432.,\n",
       "        433.,  132.,  135.,  211.,  232.,  233.,  136.,  123.,  124.,\n",
       "        126.,  554.,  678.,  332.,  111.,  134.,  156.,  654.,  555.,\n",
       "        533.,  623.,  666., 3335.,  198.,  604.,  320.,  238.,  220.,\n",
       "        174.,  318.,  304.,  393.,  478.,  267.,  510.,  391.,  343.,\n",
       "        751.,  351.,  249.,  246.,  447.,  556.,  207.,  169.,  583.,\n",
       "        408.,  474.,  573.,  299.,  295.,  311.,  291.,  310.,  380.,\n",
       "        421.,  486.,  276.,  484.,  541.,  442.,  286.,  567.,  326.,\n",
       "        321.,  527.,  261.,  374.,  372.,  548.,  270.,  454.,  226.,\n",
       "        523.])"
      ]
     },
     "execution_count": 73,
     "metadata": {},
     "output_type": "execute_result"
    }
   ],
   "source": [
    "df[\"platelet_count_(PLT)\"].unique() "
   ]
  },
  {
   "cell_type": "code",
   "execution_count": 179,
   "metadata": {},
   "outputs": [
    {
     "name": "stdout",
     "output_type": "stream",
     "text": [
      "<class 'pandas.core.frame.DataFrame'>\n",
      "RangeIndex: 324 entries, 0 to 323\n",
      "Data columns (total 34 columns):\n",
      "age                                324 non-null float64\n",
      "gender                             324 non-null int64\n",
      "city                               324 non-null int64\n",
      "asbestos_exposure                  324 non-null int64\n",
      "type_of_MM                         324 non-null int64\n",
      "duration_of_asbestos_exposure      324 non-null float64\n",
      "lung_side                          324 non-null int64\n",
      "cytology                           324 non-null int64\n",
      "duration_of_symptoms               324 non-null float64\n",
      "dyspnoea                           324 non-null int64\n",
      "ache_on_chest                      324 non-null int64\n",
      "weakness                           324 non-null int64\n",
      "habit_of_cigarette                 324 non-null int64\n",
      "performance_status                 324 non-null int64\n",
      "white_blood                        324 non-null float64\n",
      "cell_count                         324 non-null int64\n",
      "hemoglobin                         324 non-null int64\n",
      "platelet_count                     324 non-null float64\n",
      "sedimentation                      324 non-null float64\n",
      "blood_lactic_dehydrogenise         324 non-null float64\n",
      "alkaline_phosphatise               324 non-null float64\n",
      "total_protein                      324 non-null float64\n",
      "albumin                            324 non-null float64\n",
      "glucose                            324 non-null float64\n",
      "pleural_lactic_dehydrogenise       324 non-null float64\n",
      "pleural_protein                    324 non-null float64\n",
      "pleural_albumin                    324 non-null float64\n",
      "pleural_glucose                    324 non-null float64\n",
      "dead_or_not                        324 non-null int64\n",
      "pleural_effusion                   324 non-null int64\n",
      "pleural_thickness_on_tomography    324 non-null int64\n",
      "pleural_level_of_acidity           324 non-null int64\n",
      "C_reactive_protein                 324 non-null int64\n",
      "class_of_diagnosis                 324 non-null int64\n",
      "dtypes: float64(15), int64(19)\n",
      "memory usage: 86.2 KB\n"
     ]
    }
   ],
   "source": [
    "df.info() # no NA"
   ]
  },
  {
   "cell_type": "code",
   "execution_count": 180,
   "metadata": {},
   "outputs": [
    {
     "data": {
      "text/html": [
       "<div>\n",
       "<style scoped>\n",
       "    .dataframe tbody tr th:only-of-type {\n",
       "        vertical-align: middle;\n",
       "    }\n",
       "\n",
       "    .dataframe tbody tr th {\n",
       "        vertical-align: top;\n",
       "    }\n",
       "\n",
       "    .dataframe thead th {\n",
       "        text-align: right;\n",
       "    }\n",
       "</style>\n",
       "<table border=\"1\" class=\"dataframe\">\n",
       "  <thead>\n",
       "    <tr style=\"text-align: right;\">\n",
       "      <th></th>\n",
       "      <th>age</th>\n",
       "      <th>gender</th>\n",
       "      <th>city</th>\n",
       "      <th>asbestos_exposure</th>\n",
       "      <th>type_of_MM</th>\n",
       "      <th>duration_of_asbestos_exposure</th>\n",
       "      <th>lung_side</th>\n",
       "      <th>cytology</th>\n",
       "      <th>duration_of_symptoms</th>\n",
       "      <th>dyspnoea</th>\n",
       "      <th>...</th>\n",
       "      <th>pleural_lactic_dehydrogenise</th>\n",
       "      <th>pleural_protein</th>\n",
       "      <th>pleural_albumin</th>\n",
       "      <th>pleural_glucose</th>\n",
       "      <th>dead_or_not</th>\n",
       "      <th>pleural_effusion</th>\n",
       "      <th>pleural_thickness_on_tomography</th>\n",
       "      <th>pleural_level_of_acidity</th>\n",
       "      <th>C_reactive_protein</th>\n",
       "      <th>class_of_diagnosis</th>\n",
       "    </tr>\n",
       "  </thead>\n",
       "  <tbody>\n",
       "    <tr>\n",
       "      <td>count</td>\n",
       "      <td>324.000000</td>\n",
       "      <td>324.000000</td>\n",
       "      <td>324.000000</td>\n",
       "      <td>324.000000</td>\n",
       "      <td>324.000000</td>\n",
       "      <td>324.000000</td>\n",
       "      <td>324.000000</td>\n",
       "      <td>324.000000</td>\n",
       "      <td>324.000000</td>\n",
       "      <td>324.000000</td>\n",
       "      <td>...</td>\n",
       "      <td>324.000000</td>\n",
       "      <td>324.000000</td>\n",
       "      <td>324.000000</td>\n",
       "      <td>324.000000</td>\n",
       "      <td>324.000000</td>\n",
       "      <td>324.000000</td>\n",
       "      <td>324.000000</td>\n",
       "      <td>324.000000</td>\n",
       "      <td>324.000000</td>\n",
       "      <td>324.000000</td>\n",
       "    </tr>\n",
       "    <tr>\n",
       "      <td>mean</td>\n",
       "      <td>54.743827</td>\n",
       "      <td>0.586420</td>\n",
       "      <td>2.530864</td>\n",
       "      <td>0.864198</td>\n",
       "      <td>0.052469</td>\n",
       "      <td>30.188272</td>\n",
       "      <td>0.759259</td>\n",
       "      <td>0.280864</td>\n",
       "      <td>5.442901</td>\n",
       "      <td>0.817901</td>\n",
       "      <td>...</td>\n",
       "      <td>518.472222</td>\n",
       "      <td>3.937562</td>\n",
       "      <td>2.076883</td>\n",
       "      <td>48.444444</td>\n",
       "      <td>0.944444</td>\n",
       "      <td>0.870370</td>\n",
       "      <td>0.595679</td>\n",
       "      <td>0.521605</td>\n",
       "      <td>64.188272</td>\n",
       "      <td>1.296296</td>\n",
       "    </tr>\n",
       "    <tr>\n",
       "      <td>std</td>\n",
       "      <td>11.002637</td>\n",
       "      <td>0.493237</td>\n",
       "      <td>2.429623</td>\n",
       "      <td>0.343109</td>\n",
       "      <td>0.261622</td>\n",
       "      <td>16.419945</td>\n",
       "      <td>0.565308</td>\n",
       "      <td>0.450116</td>\n",
       "      <td>4.717792</td>\n",
       "      <td>0.386523</td>\n",
       "      <td>...</td>\n",
       "      <td>536.279128</td>\n",
       "      <td>1.575008</td>\n",
       "      <td>0.915411</td>\n",
       "      <td>27.232516</td>\n",
       "      <td>0.229416</td>\n",
       "      <td>0.336415</td>\n",
       "      <td>0.491519</td>\n",
       "      <td>0.500306</td>\n",
       "      <td>22.661837</td>\n",
       "      <td>0.457330</td>\n",
       "    </tr>\n",
       "    <tr>\n",
       "      <td>min</td>\n",
       "      <td>19.000000</td>\n",
       "      <td>0.000000</td>\n",
       "      <td>0.000000</td>\n",
       "      <td>0.000000</td>\n",
       "      <td>0.000000</td>\n",
       "      <td>0.000000</td>\n",
       "      <td>0.000000</td>\n",
       "      <td>0.000000</td>\n",
       "      <td>0.500000</td>\n",
       "      <td>0.000000</td>\n",
       "      <td>...</td>\n",
       "      <td>110.000000</td>\n",
       "      <td>0.000000</td>\n",
       "      <td>0.000000</td>\n",
       "      <td>2.000000</td>\n",
       "      <td>0.000000</td>\n",
       "      <td>0.000000</td>\n",
       "      <td>0.000000</td>\n",
       "      <td>0.000000</td>\n",
       "      <td>11.000000</td>\n",
       "      <td>1.000000</td>\n",
       "    </tr>\n",
       "    <tr>\n",
       "      <td>25%</td>\n",
       "      <td>47.000000</td>\n",
       "      <td>0.000000</td>\n",
       "      <td>0.000000</td>\n",
       "      <td>1.000000</td>\n",
       "      <td>0.000000</td>\n",
       "      <td>19.750000</td>\n",
       "      <td>0.000000</td>\n",
       "      <td>0.000000</td>\n",
       "      <td>2.875000</td>\n",
       "      <td>1.000000</td>\n",
       "      <td>...</td>\n",
       "      <td>322.000000</td>\n",
       "      <td>3.400000</td>\n",
       "      <td>1.607500</td>\n",
       "      <td>29.000000</td>\n",
       "      <td>1.000000</td>\n",
       "      <td>1.000000</td>\n",
       "      <td>0.000000</td>\n",
       "      <td>0.000000</td>\n",
       "      <td>42.000000</td>\n",
       "      <td>1.000000</td>\n",
       "    </tr>\n",
       "    <tr>\n",
       "      <td>50%</td>\n",
       "      <td>55.000000</td>\n",
       "      <td>1.000000</td>\n",
       "      <td>2.000000</td>\n",
       "      <td>1.000000</td>\n",
       "      <td>0.000000</td>\n",
       "      <td>34.000000</td>\n",
       "      <td>1.000000</td>\n",
       "      <td>0.000000</td>\n",
       "      <td>5.000000</td>\n",
       "      <td>1.000000</td>\n",
       "      <td>...</td>\n",
       "      <td>510.000000</td>\n",
       "      <td>4.200000</td>\n",
       "      <td>2.200000</td>\n",
       "      <td>38.000000</td>\n",
       "      <td>1.000000</td>\n",
       "      <td>1.000000</td>\n",
       "      <td>1.000000</td>\n",
       "      <td>1.000000</td>\n",
       "      <td>68.000000</td>\n",
       "      <td>1.000000</td>\n",
       "    </tr>\n",
       "    <tr>\n",
       "      <td>75%</td>\n",
       "      <td>63.000000</td>\n",
       "      <td>1.000000</td>\n",
       "      <td>5.000000</td>\n",
       "      <td>1.000000</td>\n",
       "      <td>0.000000</td>\n",
       "      <td>43.000000</td>\n",
       "      <td>1.000000</td>\n",
       "      <td>1.000000</td>\n",
       "      <td>7.000000</td>\n",
       "      <td>1.000000</td>\n",
       "      <td>...</td>\n",
       "      <td>545.000000</td>\n",
       "      <td>4.925000</td>\n",
       "      <td>2.725000</td>\n",
       "      <td>75.000000</td>\n",
       "      <td>1.000000</td>\n",
       "      <td>1.000000</td>\n",
       "      <td>1.000000</td>\n",
       "      <td>1.000000</td>\n",
       "      <td>79.000000</td>\n",
       "      <td>2.000000</td>\n",
       "    </tr>\n",
       "    <tr>\n",
       "      <td>max</td>\n",
       "      <td>85.000000</td>\n",
       "      <td>1.000000</td>\n",
       "      <td>8.000000</td>\n",
       "      <td>1.000000</td>\n",
       "      <td>2.000000</td>\n",
       "      <td>70.000000</td>\n",
       "      <td>2.000000</td>\n",
       "      <td>1.000000</td>\n",
       "      <td>52.000000</td>\n",
       "      <td>1.000000</td>\n",
       "      <td>...</td>\n",
       "      <td>7541.000000</td>\n",
       "      <td>6.700000</td>\n",
       "      <td>4.400000</td>\n",
       "      <td>151.000000</td>\n",
       "      <td>1.000000</td>\n",
       "      <td>1.000000</td>\n",
       "      <td>1.000000</td>\n",
       "      <td>1.000000</td>\n",
       "      <td>103.000000</td>\n",
       "      <td>2.000000</td>\n",
       "    </tr>\n",
       "  </tbody>\n",
       "</table>\n",
       "<p>8 rows × 34 columns</p>\n",
       "</div>"
      ],
      "text/plain": [
       "              age      gender        city  asbestos_exposure  type_of_MM  \\\n",
       "count  324.000000  324.000000  324.000000         324.000000  324.000000   \n",
       "mean    54.743827    0.586420    2.530864           0.864198    0.052469   \n",
       "std     11.002637    0.493237    2.429623           0.343109    0.261622   \n",
       "min     19.000000    0.000000    0.000000           0.000000    0.000000   \n",
       "25%     47.000000    0.000000    0.000000           1.000000    0.000000   \n",
       "50%     55.000000    1.000000    2.000000           1.000000    0.000000   \n",
       "75%     63.000000    1.000000    5.000000           1.000000    0.000000   \n",
       "max     85.000000    1.000000    8.000000           1.000000    2.000000   \n",
       "\n",
       "       duration_of_asbestos_exposure   lung_side    cytology  \\\n",
       "count                     324.000000  324.000000  324.000000   \n",
       "mean                       30.188272    0.759259    0.280864   \n",
       "std                        16.419945    0.565308    0.450116   \n",
       "min                         0.000000    0.000000    0.000000   \n",
       "25%                        19.750000    0.000000    0.000000   \n",
       "50%                        34.000000    1.000000    0.000000   \n",
       "75%                        43.000000    1.000000    1.000000   \n",
       "max                        70.000000    2.000000    1.000000   \n",
       "\n",
       "       duration_of_symptoms    dyspnoea  ...  pleural_lactic_dehydrogenise  \\\n",
       "count            324.000000  324.000000  ...                    324.000000   \n",
       "mean               5.442901    0.817901  ...                    518.472222   \n",
       "std                4.717792    0.386523  ...                    536.279128   \n",
       "min                0.500000    0.000000  ...                    110.000000   \n",
       "25%                2.875000    1.000000  ...                    322.000000   \n",
       "50%                5.000000    1.000000  ...                    510.000000   \n",
       "75%                7.000000    1.000000  ...                    545.000000   \n",
       "max               52.000000    1.000000  ...                   7541.000000   \n",
       "\n",
       "       pleural_protein  pleural_albumin  pleural_glucose  dead_or_not  \\\n",
       "count       324.000000       324.000000       324.000000   324.000000   \n",
       "mean          3.937562         2.076883        48.444444     0.944444   \n",
       "std           1.575008         0.915411        27.232516     0.229416   \n",
       "min           0.000000         0.000000         2.000000     0.000000   \n",
       "25%           3.400000         1.607500        29.000000     1.000000   \n",
       "50%           4.200000         2.200000        38.000000     1.000000   \n",
       "75%           4.925000         2.725000        75.000000     1.000000   \n",
       "max           6.700000         4.400000       151.000000     1.000000   \n",
       "\n",
       "       pleural_effusion  pleural_thickness_on_tomography  \\\n",
       "count        324.000000                       324.000000   \n",
       "mean           0.870370                         0.595679   \n",
       "std            0.336415                         0.491519   \n",
       "min            0.000000                         0.000000   \n",
       "25%            1.000000                         0.000000   \n",
       "50%            1.000000                         1.000000   \n",
       "75%            1.000000                         1.000000   \n",
       "max            1.000000                         1.000000   \n",
       "\n",
       "       pleural_level_of_acidity  C_reactive_protein  class_of_diagnosis  \n",
       "count                324.000000          324.000000          324.000000  \n",
       "mean                   0.521605           64.188272            1.296296  \n",
       "std                    0.500306           22.661837            0.457330  \n",
       "min                    0.000000           11.000000            1.000000  \n",
       "25%                    0.000000           42.000000            1.000000  \n",
       "50%                    1.000000           68.000000            1.000000  \n",
       "75%                    1.000000           79.000000            2.000000  \n",
       "max                    1.000000          103.000000            2.000000  \n",
       "\n",
       "[8 rows x 34 columns]"
      ]
     },
     "execution_count": 180,
     "metadata": {},
     "output_type": "execute_result"
    }
   ],
   "source": [
    "df.describe()"
   ]
  },
  {
   "cell_type": "code",
   "execution_count": 74,
   "metadata": {},
   "outputs": [],
   "source": [
    "# changing names of columns with brackets in it\n",
    "df = df.rename(columns={'platelet_count_(PLT)':'platelet_count'}) # changing name\n",
    "df = df.rename(columns={'cell_count_(WBC)':'cell_count'}) # changing name\n",
    "df = df.rename(columns={'hemoglobin_(HGB)':'hemoglobin'}) # changing name\n",
    "df = df.rename(columns={'blood_lactic_dehydrogenise_(LDH)':'blood_lactic_dehydrogenise'}) \n",
    "df = df.rename(columns={'alkaline_phosphatise_(ALP)':'alkaline_phosphatise'}) \n",
    "df = df.rename(columns={'pleural_level_of_acidity_(pH)':'pleural_level_of_acidity'}) \n",
    "df = df.rename(columns={'C-reactive_protein_(CRP)':'C_reactive_protein'}) "
   ]
  },
  {
   "cell_type": "code",
   "execution_count": 75,
   "metadata": {},
   "outputs": [],
   "source": [
    "# conversion des var quali en var catégorielles en prenant soin de convertir en int avant (car certaines var sont de type float)\n",
    "df[\"gender\"] = pd.Categorical(df[\"gender\"].astype('int'), ordered=False)\n",
    "df[\"asbestos_exposure\"] = pd.Categorical(df[\"asbestos_exposure\"].astype('int'), ordered=False)\n",
    "df[\"city\"] = pd.Categorical(df[\"city\"].astype('int'), ordered=False)\n",
    "df[\"type_of_MM\"] = pd.Categorical(df[\"type_of_MM\"].astype('int'), ordered=False)\n",
    "df[\"lung_side\"] = pd.Categorical(df[\"lung_side\"].astype('int'), ordered=False)\n",
    "df[\"cytology\"] = pd.Categorical(df[\"cytology\"].astype('int'), ordered=False)\n",
    "df[\"dyspnoea\"] = pd.Categorical(df[\"dyspnoea\"].astype('int'), ordered=False)\n",
    "df[\"ache_on_chest\"] = pd.Categorical(df[\"ache_on_chest\"].astype('int'), ordered=False)\n",
    "df[\"weakness\"] = pd.Categorical(df[\"weakness\"].astype('int'), ordered=False)\n",
    "df[\"habit_of_cigarette\"] = pd.Categorical(df[\"habit_of_cigarette\"].astype('int'), ordered=False)\n",
    "df[\"performance_status\"] = pd.Categorical(df[\"performance_status\"].astype('int'), ordered=False)\n",
    "df[\"hemoglobin\"] = pd.Categorical(df[\"hemoglobin\"].astype('int'), ordered=False)\n",
    "df[\"dead_or_not\"] = pd.Categorical(df[\"dead_or_not\"].astype('int'), ordered=False)\n",
    "df[\"pleural_thickness_on_tomography\"] = pd.Categorical(df[\"pleural_thickness_on_tomography\"].astype('int'), ordered=False)\n",
    "df[\"pleural_effusion\"] = pd.Categorical(df[\"pleural_effusion\"].astype('int'), ordered=False)\n",
    "df[\"pleural_level_of_acidity\"] = pd.Categorical(df[\"pleural_level_of_acidity\"].astype('int'), ordered=False)\n",
    "df[\"class_of_diagnosis\"] = pd.Categorical(df[\"class_of_diagnosis\"].astype('int'), ordered=False)"
   ]
  },
  {
   "cell_type": "code",
   "execution_count": 77,
   "metadata": {},
   "outputs": [
    {
     "data": {
      "text/html": [
       "<div>\n",
       "<style scoped>\n",
       "    .dataframe tbody tr th:only-of-type {\n",
       "        vertical-align: middle;\n",
       "    }\n",
       "\n",
       "    .dataframe tbody tr th {\n",
       "        vertical-align: top;\n",
       "    }\n",
       "\n",
       "    .dataframe thead th {\n",
       "        text-align: right;\n",
       "    }\n",
       "</style>\n",
       "<table border=\"1\" class=\"dataframe\">\n",
       "  <thead>\n",
       "    <tr style=\"text-align: right;\">\n",
       "      <th></th>\n",
       "      <th>age</th>\n",
       "      <th>duration_of_asbestos_exposure</th>\n",
       "      <th>duration_of_symptoms</th>\n",
       "      <th>white_blood</th>\n",
       "      <th>cell_count</th>\n",
       "      <th>platelet_count</th>\n",
       "      <th>sedimentation</th>\n",
       "      <th>blood_lactic_dehydrogenise</th>\n",
       "      <th>alkaline_phosphatise</th>\n",
       "      <th>total_protein</th>\n",
       "      <th>...</th>\n",
       "      <th>hemoglobin_0</th>\n",
       "      <th>hemoglobin_1</th>\n",
       "      <th>dead_or_not_0</th>\n",
       "      <th>dead_or_not_1</th>\n",
       "      <th>pleural_effusion_0</th>\n",
       "      <th>pleural_effusion_1</th>\n",
       "      <th>pleural_thickness_on_tomography_0</th>\n",
       "      <th>pleural_thickness_on_tomography_1</th>\n",
       "      <th>pleural_level_of_acidity_0</th>\n",
       "      <th>pleural_level_of_acidity_1</th>\n",
       "    </tr>\n",
       "  </thead>\n",
       "  <tbody>\n",
       "    <tr>\n",
       "      <td>0</td>\n",
       "      <td>47.0</td>\n",
       "      <td>20.0</td>\n",
       "      <td>24.0</td>\n",
       "      <td>8050.0</td>\n",
       "      <td>9</td>\n",
       "      <td>274.0</td>\n",
       "      <td>60.0</td>\n",
       "      <td>258.0</td>\n",
       "      <td>65.0</td>\n",
       "      <td>7.0</td>\n",
       "      <td>...</td>\n",
       "      <td>0</td>\n",
       "      <td>1</td>\n",
       "      <td>0</td>\n",
       "      <td>1</td>\n",
       "      <td>1</td>\n",
       "      <td>0</td>\n",
       "      <td>1</td>\n",
       "      <td>0</td>\n",
       "      <td>1</td>\n",
       "      <td>0</td>\n",
       "    </tr>\n",
       "    <tr>\n",
       "      <td>1</td>\n",
       "      <td>55.0</td>\n",
       "      <td>45.0</td>\n",
       "      <td>1.0</td>\n",
       "      <td>11200.0</td>\n",
       "      <td>7</td>\n",
       "      <td>615.0</td>\n",
       "      <td>86.0</td>\n",
       "      <td>531.0</td>\n",
       "      <td>97.0</td>\n",
       "      <td>5.4</td>\n",
       "      <td>...</td>\n",
       "      <td>1</td>\n",
       "      <td>0</td>\n",
       "      <td>0</td>\n",
       "      <td>1</td>\n",
       "      <td>0</td>\n",
       "      <td>1</td>\n",
       "      <td>0</td>\n",
       "      <td>1</td>\n",
       "      <td>0</td>\n",
       "      <td>1</td>\n",
       "    </tr>\n",
       "    <tr>\n",
       "      <td>2</td>\n",
       "      <td>29.0</td>\n",
       "      <td>23.0</td>\n",
       "      <td>1.0</td>\n",
       "      <td>5300.0</td>\n",
       "      <td>12</td>\n",
       "      <td>189.0</td>\n",
       "      <td>30.0</td>\n",
       "      <td>203.0</td>\n",
       "      <td>72.0</td>\n",
       "      <td>7.0</td>\n",
       "      <td>...</td>\n",
       "      <td>0</td>\n",
       "      <td>1</td>\n",
       "      <td>0</td>\n",
       "      <td>1</td>\n",
       "      <td>1</td>\n",
       "      <td>0</td>\n",
       "      <td>1</td>\n",
       "      <td>0</td>\n",
       "      <td>1</td>\n",
       "      <td>0</td>\n",
       "    </tr>\n",
       "    <tr>\n",
       "      <td>3</td>\n",
       "      <td>39.0</td>\n",
       "      <td>10.0</td>\n",
       "      <td>3.0</td>\n",
       "      <td>7910.0</td>\n",
       "      <td>14</td>\n",
       "      <td>462.0</td>\n",
       "      <td>28.0</td>\n",
       "      <td>197.0</td>\n",
       "      <td>50.0</td>\n",
       "      <td>8.0</td>\n",
       "      <td>...</td>\n",
       "      <td>0</td>\n",
       "      <td>1</td>\n",
       "      <td>0</td>\n",
       "      <td>1</td>\n",
       "      <td>0</td>\n",
       "      <td>1</td>\n",
       "      <td>1</td>\n",
       "      <td>0</td>\n",
       "      <td>1</td>\n",
       "      <td>0</td>\n",
       "    </tr>\n",
       "    <tr>\n",
       "      <td>4</td>\n",
       "      <td>47.0</td>\n",
       "      <td>10.0</td>\n",
       "      <td>1.5</td>\n",
       "      <td>9120.0</td>\n",
       "      <td>4</td>\n",
       "      <td>530.0</td>\n",
       "      <td>71.0</td>\n",
       "      <td>181.0</td>\n",
       "      <td>60.0</td>\n",
       "      <td>6.2</td>\n",
       "      <td>...</td>\n",
       "      <td>1</td>\n",
       "      <td>0</td>\n",
       "      <td>0</td>\n",
       "      <td>1</td>\n",
       "      <td>0</td>\n",
       "      <td>1</td>\n",
       "      <td>1</td>\n",
       "      <td>0</td>\n",
       "      <td>1</td>\n",
       "      <td>0</td>\n",
       "    </tr>\n",
       "  </tbody>\n",
       "</table>\n",
       "<p>5 rows × 60 columns</p>\n",
       "</div>"
      ],
      "text/plain": [
       "    age  duration_of_asbestos_exposure  duration_of_symptoms  white_blood  \\\n",
       "0  47.0                           20.0                  24.0       8050.0   \n",
       "1  55.0                           45.0                   1.0      11200.0   \n",
       "2  29.0                           23.0                   1.0       5300.0   \n",
       "3  39.0                           10.0                   3.0       7910.0   \n",
       "4  47.0                           10.0                   1.5       9120.0   \n",
       "\n",
       "   cell_count  platelet_count  sedimentation  blood_lactic_dehydrogenise  \\\n",
       "0           9           274.0           60.0                       258.0   \n",
       "1           7           615.0           86.0                       531.0   \n",
       "2          12           189.0           30.0                       203.0   \n",
       "3          14           462.0           28.0                       197.0   \n",
       "4           4           530.0           71.0                       181.0   \n",
       "\n",
       "   alkaline_phosphatise  total_protein  ...  hemoglobin_0  hemoglobin_1  \\\n",
       "0                  65.0            7.0  ...             0             1   \n",
       "1                  97.0            5.4  ...             1             0   \n",
       "2                  72.0            7.0  ...             0             1   \n",
       "3                  50.0            8.0  ...             0             1   \n",
       "4                  60.0            6.2  ...             1             0   \n",
       "\n",
       "   dead_or_not_0  dead_or_not_1  pleural_effusion_0  pleural_effusion_1  \\\n",
       "0              0              1                   1                   0   \n",
       "1              0              1                   0                   1   \n",
       "2              0              1                   1                   0   \n",
       "3              0              1                   0                   1   \n",
       "4              0              1                   0                   1   \n",
       "\n",
       "   pleural_thickness_on_tomography_0  pleural_thickness_on_tomography_1  \\\n",
       "0                                  1                                  0   \n",
       "1                                  0                                  1   \n",
       "2                                  1                                  0   \n",
       "3                                  1                                  0   \n",
       "4                                  1                                  0   \n",
       "\n",
       "   pleural_level_of_acidity_0  pleural_level_of_acidity_1  \n",
       "0                           1                           0  \n",
       "1                           0                           1  \n",
       "2                           1                           0  \n",
       "3                           1                           0  \n",
       "4                           1                           0  \n",
       "\n",
       "[5 rows x 60 columns]"
      ]
     },
     "execution_count": 77,
     "metadata": {},
     "output_type": "execute_result"
    }
   ],
   "source": [
    "# mis en place indicatrices au cas où, pour que la fonction MCA repère bien les variables catégorielles\n",
    "dc = pd.DataFrame(pd.get_dummies(df.drop('class_of_diagnosis', axis=1)))\n",
    "dc.head()"
   ]
  },
  {
   "cell_type": "markdown",
   "metadata": {},
   "source": [
    "## Stat descriptives"
   ]
  },
  {
   "cell_type": "markdown",
   "metadata": {},
   "source": [
    "### Statistiques univariées"
   ]
  },
  {
   "cell_type": "code",
   "execution_count": 181,
   "metadata": {},
   "outputs": [],
   "source": [
    "# library & dataset\n",
    "import seaborn as sns\n",
    "\n",
    "# style \n",
    "sns.set(style=\"darkgrid\")"
   ]
  },
  {
   "cell_type": "code",
   "execution_count": 191,
   "metadata": {},
   "outputs": [
    {
     "data": {
      "text/plain": [
       "0    310\n",
       "1     11\n",
       "2      3\n",
       "Name: type_of_MM, dtype: int64"
      ]
     },
     "execution_count": 191,
     "metadata": {},
     "output_type": "execute_result"
    }
   ],
   "source": [
    "df[\"type_of_MM\"].value_counts() # more people with 0 as type of MM (which stands for no MM)"
   ]
  },
  {
   "cell_type": "code",
   "execution_count": 195,
   "metadata": {},
   "outputs": [
    {
     "data": {
      "text/plain": [
       "1    228\n",
       "2     96\n",
       "Name: class_of_diagnosis, dtype: int64"
      ]
     },
     "execution_count": 195,
     "metadata": {},
     "output_type": "execute_result"
    }
   ],
   "source": [
    "df[\"class_of_diagnosis\"].value_counts() # 96 non-healthy for 228 healthy"
   ]
  },
  {
   "cell_type": "code",
   "execution_count": 204,
   "metadata": {},
   "outputs": [
    {
     "name": "stdout",
     "output_type": "stream",
     "text": [
      "70.37% healthy and 29.54% non healthy in the dataset\n"
     ]
    }
   ],
   "source": [
    "print(\"{:.2f}% healthy and {:.2f}% non healthy in the dataset\".format(228/(228+96)*100,\n",
    "                                                            96/(229+96)*100))"
   ]
  },
  {
   "cell_type": "code",
   "execution_count": 205,
   "metadata": {},
   "outputs": [],
   "source": [
    "# type_of_MM has information only on 14 out of 96 patients on the type of MM\n",
    "# so we will remove it from the dataset\n",
    "df = df.drop(\"type_of_MM\", axis=1)"
   ]
  },
  {
   "cell_type": "code",
   "execution_count": 182,
   "metadata": {},
   "outputs": [
    {
     "data": {
      "text/plain": [
       "<seaborn.axisgrid.FacetGrid at 0x7f827ebec310>"
      ]
     },
     "execution_count": 182,
     "metadata": {},
     "output_type": "execute_result"
    },
    {
     "data": {
      "image/png": "[encoded data removed]",
      "text/plain": [
       "<Figure size 360x360 with 1 Axes>"
      ]
     },
     "metadata": {},
     "output_type": "display_data"
    }
   ],
   "source": [
    "sns.displot(df, x=\"age\")"
   ]
  },
  {
   "cell_type": "code",
   "execution_count": 185,
   "metadata": {},
   "outputs": [
    {
     "data": {
      "text/plain": [
       "<seaborn.axisgrid.FacetGrid at 0x7f827e817c50>"
      ]
     },
     "execution_count": 185,
     "metadata": {},
     "output_type": "execute_result"
    },
    {
     "data": {
      "image/png": "[encoded data removed]",
      "text/plain": [
       "<Figure size 360x360 with 1 Axes>"
      ]
     },
     "metadata": {},
     "output_type": "display_data"
    }
   ],
   "source": [
    "sns.displot(df, x=\"duration_of_asbestos_exposure\")"
   ]
  },
  {
   "cell_type": "markdown",
   "metadata": {},
   "source": [
    "### Statistiques bivariées"
   ]
  },
  {
   "cell_type": "code",
   "execution_count": 171,
   "metadata": {},
   "outputs": [
    {
     "data": {
      "text/html": [
       "<div>\n",
       "<style scoped>\n",
       "    .dataframe tbody tr th:only-of-type {\n",
       "        vertical-align: middle;\n",
       "    }\n",
       "\n",
       "    .dataframe tbody tr th {\n",
       "        vertical-align: top;\n",
       "    }\n",
       "\n",
       "    .dataframe thead th {\n",
       "        text-align: right;\n",
       "    }\n",
       "</style>\n",
       "<table border=\"1\" class=\"dataframe\">\n",
       "  <thead>\n",
       "    <tr style=\"text-align: right;\">\n",
       "      <th>asbestos_exposure</th>\n",
       "      <th>0</th>\n",
       "      <th>1</th>\n",
       "    </tr>\n",
       "    <tr>\n",
       "      <th>class_of_diagnosis</th>\n",
       "      <th></th>\n",
       "      <th></th>\n",
       "    </tr>\n",
       "  </thead>\n",
       "  <tbody>\n",
       "    <tr>\n",
       "      <td>1</td>\n",
       "      <td>35</td>\n",
       "      <td>193</td>\n",
       "    </tr>\n",
       "    <tr>\n",
       "      <td>2</td>\n",
       "      <td>9</td>\n",
       "      <td>87</td>\n",
       "    </tr>\n",
       "  </tbody>\n",
       "</table>\n",
       "</div>"
      ],
      "text/plain": [
       "asbestos_exposure    0    1\n",
       "class_of_diagnosis         \n",
       "1                   35  193\n",
       "2                    9   87"
      ]
     },
     "execution_count": 171,
     "metadata": {},
     "output_type": "execute_result"
    }
   ],
   "source": [
    "pd.crosstab(df[\"class_of_diagnosis\"], df[\"asbestos_exposure\"]) "
   ]
  },
  {
   "cell_type": "code",
   "execution_count": 78,
   "metadata": {},
   "outputs": [
    {
     "data": {
      "text/html": [
       "<div>\n",
       "<style scoped>\n",
       "    .dataframe tbody tr th:only-of-type {\n",
       "        vertical-align: middle;\n",
       "    }\n",
       "\n",
       "    .dataframe tbody tr th {\n",
       "        vertical-align: top;\n",
       "    }\n",
       "\n",
       "    .dataframe thead th {\n",
       "        text-align: right;\n",
       "    }\n",
       "</style>\n",
       "<table border=\"1\" class=\"dataframe\">\n",
       "  <thead>\n",
       "    <tr style=\"text-align: right;\">\n",
       "      <th>dead_or_not</th>\n",
       "      <th>0</th>\n",
       "      <th>1</th>\n",
       "    </tr>\n",
       "    <tr>\n",
       "      <th>class_of_diagnosis</th>\n",
       "      <th></th>\n",
       "      <th></th>\n",
       "    </tr>\n",
       "  </thead>\n",
       "  <tbody>\n",
       "    <tr>\n",
       "      <td>1</td>\n",
       "      <td>14</td>\n",
       "      <td>214</td>\n",
       "    </tr>\n",
       "    <tr>\n",
       "      <td>2</td>\n",
       "      <td>4</td>\n",
       "      <td>92</td>\n",
       "    </tr>\n",
       "  </tbody>\n",
       "</table>\n",
       "</div>"
      ],
      "text/plain": [
       "dead_or_not          0    1\n",
       "class_of_diagnosis         \n",
       "1                   14  214\n",
       "2                    4   92"
      ]
     },
     "execution_count": 78,
     "metadata": {},
     "output_type": "execute_result"
    }
   ],
   "source": [
    "pd.crosstab(df[\"class_of_diagnosis\"], df[\"dead_or_not\"]) # + de healthy (diagnosis=1) qui meurent que de not healthy, strange"
   ]
  },
  {
   "cell_type": "markdown",
   "metadata": {},
   "source": [
    "### Réprésentations graphiques"
   ]
  },
  {
   "cell_type": "code",
   "execution_count": 84,
   "metadata": {},
   "outputs": [
    {
     "data": {
      "text/plain": [
       "<matplotlib.axes._subplots.AxesSubplot at 0x7f827bded5d0>"
      ]
     },
     "execution_count": 84,
     "metadata": {},
     "output_type": "execute_result"
    },
    {
     "data": {
      "image/png": "[encoded data removed]",
      "text/plain": [
       "<Figure size 504x360 with 1 Axes>"
      ]
     },
     "metadata": {
      "needs_background": "light"
     },
     "output_type": "display_data"
    }
   ],
   "source": [
    "var = df[df[\"asbestos_exposure\"] == 1]\n",
    "\n",
    "plt.rcParams['figure.figsize'] = [7, 5]\n",
    "var.plot.scatter(title=\"Age représenté p/r à la durée d'exposition à l'amiante\",\n",
    "         x=\"age\",\n",
    "         y=\"duration_of_asbestos_exposure\")"
   ]
  },
  {
   "cell_type": "code",
   "execution_count": null,
   "metadata": {},
   "outputs": [],
   "source": []
  },
  {
   "cell_type": "markdown",
   "metadata": {},
   "source": [
    "### Matrices des corrélations"
   ]
  },
  {
   "cell_type": "code",
   "execution_count": 79,
   "metadata": {},
   "outputs": [
    {
     "data": {
      "image/png": "[encoded data removed]",
      "text/plain": [
       "<Figure size 1080x720 with 2 Axes>"
      ]
     },
     "metadata": {
      "needs_background": "light"
     },
     "output_type": "display_data"
    }
   ],
   "source": [
    "import seaborn as sns\n",
    "\n",
    "corrMatrix = df.select_dtypes(include='number').corr()\n",
    "\n",
    "plt.rcParams['figure.figsize'] = [15, 10]\n",
    "sns.heatmap(corrMatrix, annot=True)\n",
    "plt.show()"
   ]
  },
  {
   "cell_type": "markdown",
   "metadata": {},
   "source": [
    "Aucune variable quanti n'est corrélée fortement avec une autre = bonne chose."
   ]
  },
  {
   "cell_type": "markdown",
   "metadata": {},
   "source": [
    "### V de Cramer"
   ]
  },
  {
   "cell_type": "code",
   "execution_count": 80,
   "metadata": {},
   "outputs": [
    {
     "data": {
      "image/png": "[encoded data removed]",
      "text/plain": [
       "<Figure size 1080x720 with 2 Axes>"
      ]
     },
     "metadata": {
      "needs_background": "light"
     },
     "output_type": "display_data"
    }
   ],
   "source": [
    "# corrMatrixD = df.select_dtypes(exclude='number').astype('int').apply(lambda x : pd.factorize(x)[0]).corr(method='pearson', min_periods=1) # use of pd.factorize\n",
    "# au dessus fait differement en calculant un semblant de correlation (avec Pearson), le code vient de: https://stackoverflow.com/questions/48035381/correlation-among-multiple-categorical-variables-pandas\n",
    "\n",
    "from scipy.stats import chi2_contingency\n",
    "import numpy as np\n",
    "\n",
    "# def fonction calculant le V de Cramer\n",
    "def cramers_V(var1,var2) :\n",
    "  crosstab = np.array(pd.crosstab(var1,var2, rownames = None, colnames = None)) # Cross table building\n",
    "  stat = chi2_contingency(crosstab)[0] # Keeping of the test statistic of the Chi2 test\n",
    "  obs = np.sum(crosstab) # Number of observations\n",
    "  mini = min(crosstab.shape)-1 # Take the minimum value between the columns and the rows of the cross table\n",
    "  return (stat/(obs*mini))\n",
    "\n",
    "rows= []\n",
    "\n",
    "# selection uniquement des var de type categorielle\n",
    "dfCat = df.select_dtypes(exclude='number')\n",
    "for var1 in dfCat:\n",
    "  col = []\n",
    "  for var2 in dfCat :\n",
    "    cramers = cramers_V(dfCat[var1], dfCat[var2]) # Cramer's V test\n",
    "    col.append(round(cramers,2)) # Keeping of the rounded value of the Cramer's V  \n",
    "  rows.append(col)\n",
    "  \n",
    "cramers_results = np.array(rows)\n",
    "corrMatrixD = pd.DataFrame(cramers_results, columns = dfCat.columns, index = dfCat.columns)\n",
    "\n",
    "plt.rcParams['figure.figsize'] = [15, 10]\n",
    "sns.heatmap(corrMatrixD, annot=True)\n",
    "plt.show()"
   ]
  },
  {
   "cell_type": "markdown",
   "metadata": {},
   "source": [
    "Aucune variable quali n'est corrélée fortement avec une autre = bonne chose. On remarque tout de même que l'exposition à l'amiante est modérément lié avec le fait de vivre en ville."
   ]
  },
  {
   "cell_type": "code",
   "execution_count": 65,
   "metadata": {},
   "outputs": [],
   "source": [
    "#corrMatrixO = df.apply(lambda x : pd.factorize(x)[0]).corr(method='pearson', min_periods=1)\n",
    "#plt.rcParams['figure.figsize'] = [25, 20]\n",
    "#sns.heatmap(corrMatrixO, annot=True)\n",
    "#plt.show()"
   ]
  },
  {
   "cell_type": "markdown",
   "metadata": {},
   "source": [
    "### V de Cramer entre Y et les variables numériques"
   ]
  },
  {
   "cell_type": "code",
   "execution_count": 82,
   "metadata": {},
   "outputs": [
    {
     "data": {
      "image/png": "[encoded data removed]",
      "text/plain": [
       "<Figure size 144x360 with 2 Axes>"
      ]
     },
     "metadata": {
      "needs_background": "light"
     },
     "output_type": "display_data"
    }
   ],
   "source": [
    "# creation d'une table avec les var numeriques et diagnosis\n",
    "dfYnum = pd.concat([df.select_dtypes(include='number'), df[\"class_of_diagnosis\"]], axis = 1)\n",
    "rows = []\n",
    "\n",
    "for var in dfYnum:\n",
    "  col = []\n",
    "  cramers = cramers_V(dfYnum[\"class_of_diagnosis\"], dfYnum[var]) # Cramer's V test\n",
    "  col.append(round(cramers,2)) # Keeping of the rounded value of the Cramer's V  \n",
    "  rows.append(col)\n",
    "  \n",
    "cramers_results = np.array(rows)\n",
    "corrMatrixYnum = pd.DataFrame(cramers_results, columns=[\"Diagnosis\"], index=dfYnum.columns)\n",
    "\n",
    "plt.rcParams['figure.figsize'] = [2, 5]\n",
    "sns.heatmap(corrMatrixYnum, annot=True)\n",
    "plt.show()"
   ]
  },
  {
   "cell_type": "markdown",
   "metadata": {},
   "source": [
    "Variables très peu corrélées avec la variable cible (< 0.2) = Durée d'exposition à l'amiante, l'âge, la durée des symptômes, WBC, ALP, albumin, total_protein, glucose, pleural portein, pleural albumin et CRP. On les garde tout de même pour l'instant."
   ]
  },
  {
   "cell_type": "code",
   "execution_count": 86,
   "metadata": {},
   "outputs": [],
   "source": [
    "#df_mod = df.drop([\"age\",\"asbestos_exp_dur\", \"WBC\", \"ALP\", \"albumin\", \"total_protein\", \"glucose\", \"pleural_protein\", \"pleural_albumin\", \"CRP\", \"symptoms_dur\"], axis = 1)\n",
    "#df_mod.head()\n",
    "df_mod = df"
   ]
  },
  {
   "cell_type": "markdown",
   "metadata": {},
   "source": [
    "Maybe faire un premier test avec toutes les variables comme il n'y en a pas tant que ça et qu'aucune variable explicative n'est corrélée fortement/n'a de relation forte avec une autre ?"
   ]
  },
  {
   "cell_type": "markdown",
   "metadata": {},
   "source": [
    "## MCA and PCA analyses"
   ]
  },
  {
   "cell_type": "code",
   "execution_count": 87,
   "metadata": {},
   "outputs": [
    {
     "data": {
      "text/html": [
       "<div>\n",
       "<style scoped>\n",
       "    .dataframe tbody tr th:only-of-type {\n",
       "        vertical-align: middle;\n",
       "    }\n",
       "\n",
       "    .dataframe tbody tr th {\n",
       "        vertical-align: top;\n",
       "    }\n",
       "\n",
       "    .dataframe thead th {\n",
       "        text-align: right;\n",
       "    }\n",
       "</style>\n",
       "<table border=\"1\" class=\"dataframe\">\n",
       "  <thead>\n",
       "    <tr style=\"text-align: right;\">\n",
       "      <th></th>\n",
       "      <th>age</th>\n",
       "      <th>duration_of_asbestos_exposure</th>\n",
       "      <th>duration_of_symptoms</th>\n",
       "      <th>white_blood</th>\n",
       "      <th>cell_count</th>\n",
       "      <th>platelet_count</th>\n",
       "      <th>sedimentation</th>\n",
       "      <th>blood_lactic_dehydrogenise</th>\n",
       "      <th>alkaline_phosphatise</th>\n",
       "      <th>total_protein</th>\n",
       "      <th>...</th>\n",
       "      <th>hemoglobin_0</th>\n",
       "      <th>hemoglobin_1</th>\n",
       "      <th>dead_or_not_0</th>\n",
       "      <th>dead_or_not_1</th>\n",
       "      <th>pleural_effusion_0</th>\n",
       "      <th>pleural_effusion_1</th>\n",
       "      <th>pleural_thickness_on_tomography_0</th>\n",
       "      <th>pleural_thickness_on_tomography_1</th>\n",
       "      <th>pleural_level_of_acidity_0</th>\n",
       "      <th>pleural_level_of_acidity_1</th>\n",
       "    </tr>\n",
       "  </thead>\n",
       "  <tbody>\n",
       "    <tr>\n",
       "      <td>0</td>\n",
       "      <td>47.0</td>\n",
       "      <td>20.0</td>\n",
       "      <td>24.0</td>\n",
       "      <td>8050.0</td>\n",
       "      <td>9</td>\n",
       "      <td>274.0</td>\n",
       "      <td>60.0</td>\n",
       "      <td>258.0</td>\n",
       "      <td>65.0</td>\n",
       "      <td>7.0</td>\n",
       "      <td>...</td>\n",
       "      <td>0</td>\n",
       "      <td>1</td>\n",
       "      <td>0</td>\n",
       "      <td>1</td>\n",
       "      <td>1</td>\n",
       "      <td>0</td>\n",
       "      <td>1</td>\n",
       "      <td>0</td>\n",
       "      <td>1</td>\n",
       "      <td>0</td>\n",
       "    </tr>\n",
       "    <tr>\n",
       "      <td>1</td>\n",
       "      <td>55.0</td>\n",
       "      <td>45.0</td>\n",
       "      <td>1.0</td>\n",
       "      <td>11200.0</td>\n",
       "      <td>7</td>\n",
       "      <td>615.0</td>\n",
       "      <td>86.0</td>\n",
       "      <td>531.0</td>\n",
       "      <td>97.0</td>\n",
       "      <td>5.4</td>\n",
       "      <td>...</td>\n",
       "      <td>1</td>\n",
       "      <td>0</td>\n",
       "      <td>0</td>\n",
       "      <td>1</td>\n",
       "      <td>0</td>\n",
       "      <td>1</td>\n",
       "      <td>0</td>\n",
       "      <td>1</td>\n",
       "      <td>0</td>\n",
       "      <td>1</td>\n",
       "    </tr>\n",
       "    <tr>\n",
       "      <td>2</td>\n",
       "      <td>29.0</td>\n",
       "      <td>23.0</td>\n",
       "      <td>1.0</td>\n",
       "      <td>5300.0</td>\n",
       "      <td>12</td>\n",
       "      <td>189.0</td>\n",
       "      <td>30.0</td>\n",
       "      <td>203.0</td>\n",
       "      <td>72.0</td>\n",
       "      <td>7.0</td>\n",
       "      <td>...</td>\n",
       "      <td>0</td>\n",
       "      <td>1</td>\n",
       "      <td>0</td>\n",
       "      <td>1</td>\n",
       "      <td>1</td>\n",
       "      <td>0</td>\n",
       "      <td>1</td>\n",
       "      <td>0</td>\n",
       "      <td>1</td>\n",
       "      <td>0</td>\n",
       "    </tr>\n",
       "    <tr>\n",
       "      <td>3</td>\n",
       "      <td>39.0</td>\n",
       "      <td>10.0</td>\n",
       "      <td>3.0</td>\n",
       "      <td>7910.0</td>\n",
       "      <td>14</td>\n",
       "      <td>462.0</td>\n",
       "      <td>28.0</td>\n",
       "      <td>197.0</td>\n",
       "      <td>50.0</td>\n",
       "      <td>8.0</td>\n",
       "      <td>...</td>\n",
       "      <td>0</td>\n",
       "      <td>1</td>\n",
       "      <td>0</td>\n",
       "      <td>1</td>\n",
       "      <td>0</td>\n",
       "      <td>1</td>\n",
       "      <td>1</td>\n",
       "      <td>0</td>\n",
       "      <td>1</td>\n",
       "      <td>0</td>\n",
       "    </tr>\n",
       "    <tr>\n",
       "      <td>4</td>\n",
       "      <td>47.0</td>\n",
       "      <td>10.0</td>\n",
       "      <td>1.5</td>\n",
       "      <td>9120.0</td>\n",
       "      <td>4</td>\n",
       "      <td>530.0</td>\n",
       "      <td>71.0</td>\n",
       "      <td>181.0</td>\n",
       "      <td>60.0</td>\n",
       "      <td>6.2</td>\n",
       "      <td>...</td>\n",
       "      <td>1</td>\n",
       "      <td>0</td>\n",
       "      <td>0</td>\n",
       "      <td>1</td>\n",
       "      <td>0</td>\n",
       "      <td>1</td>\n",
       "      <td>1</td>\n",
       "      <td>0</td>\n",
       "      <td>1</td>\n",
       "      <td>0</td>\n",
       "    </tr>\n",
       "  </tbody>\n",
       "</table>\n",
       "<p>5 rows × 60 columns</p>\n",
       "</div>"
      ],
      "text/plain": [
       "    age  duration_of_asbestos_exposure  duration_of_symptoms  white_blood  \\\n",
       "0  47.0                           20.0                  24.0       8050.0   \n",
       "1  55.0                           45.0                   1.0      11200.0   \n",
       "2  29.0                           23.0                   1.0       5300.0   \n",
       "3  39.0                           10.0                   3.0       7910.0   \n",
       "4  47.0                           10.0                   1.5       9120.0   \n",
       "\n",
       "   cell_count  platelet_count  sedimentation  blood_lactic_dehydrogenise  \\\n",
       "0           9           274.0           60.0                       258.0   \n",
       "1           7           615.0           86.0                       531.0   \n",
       "2          12           189.0           30.0                       203.0   \n",
       "3          14           462.0           28.0                       197.0   \n",
       "4           4           530.0           71.0                       181.0   \n",
       "\n",
       "   alkaline_phosphatise  total_protein  ...  hemoglobin_0  hemoglobin_1  \\\n",
       "0                  65.0            7.0  ...             0             1   \n",
       "1                  97.0            5.4  ...             1             0   \n",
       "2                  72.0            7.0  ...             0             1   \n",
       "3                  50.0            8.0  ...             0             1   \n",
       "4                  60.0            6.2  ...             1             0   \n",
       "\n",
       "   dead_or_not_0  dead_or_not_1  pleural_effusion_0  pleural_effusion_1  \\\n",
       "0              0              1                   1                   0   \n",
       "1              0              1                   0                   1   \n",
       "2              0              1                   1                   0   \n",
       "3              0              1                   0                   1   \n",
       "4              0              1                   0                   1   \n",
       "\n",
       "   pleural_thickness_on_tomography_0  pleural_thickness_on_tomography_1  \\\n",
       "0                                  1                                  0   \n",
       "1                                  0                                  1   \n",
       "2                                  1                                  0   \n",
       "3                                  1                                  0   \n",
       "4                                  1                                  0   \n",
       "\n",
       "   pleural_level_of_acidity_0  pleural_level_of_acidity_1  \n",
       "0                           1                           0  \n",
       "1                           0                           1  \n",
       "2                           1                           0  \n",
       "3                           1                           0  \n",
       "4                           1                           0  \n",
       "\n",
       "[5 rows x 60 columns]"
      ]
     },
     "execution_count": 87,
     "metadata": {},
     "output_type": "execute_result"
    }
   ],
   "source": [
    "dc = pd.DataFrame(pd.get_dummies(df_mod.drop('class_of_diagnosis', axis=1)))\n",
    "dc.head()"
   ]
  },
  {
   "cell_type": "code",
   "execution_count": 88,
   "metadata": {},
   "outputs": [
    {
     "name": "stdout",
     "output_type": "stream",
     "text": [
      "[0.0463952  0.01652517 0.00655703 0.00448786 0.00142094 0.00115388\n",
      " 0.00098087 0.00082993 0.00056012 0.00042659 0.00027033 0.00018909\n",
      " 0.00017938 0.00014548 0.00014046 0.00013729 0.00012904 0.00011575\n",
      " 0.00010621 0.00010462 0.00010175 0.00010068]\n",
      "0.08216556732822088 0.08105766741885642\n"
     ]
    }
   ],
   "source": [
    "mca_res = MCA(dc, benzecri=False) # disabling benzecri correction \n",
    "print(mca_res.L) # eigenvalues of the factors\n",
    "print(mca_res.inertia, sum(mca_res.L)) # inertia"
   ]
  },
  {
   "cell_type": "code",
   "execution_count": 89,
   "metadata": {},
   "outputs": [
    {
     "data": {
      "text/html": [
       "<div>\n",
       "<style scoped>\n",
       "    .dataframe tbody tr th:only-of-type {\n",
       "        vertical-align: middle;\n",
       "    }\n",
       "\n",
       "    .dataframe tbody tr th {\n",
       "        vertical-align: top;\n",
       "    }\n",
       "\n",
       "    .dataframe thead th {\n",
       "        text-align: right;\n",
       "    }\n",
       "</style>\n",
       "<table border=\"1\" class=\"dataframe\">\n",
       "  <thead>\n",
       "    <tr style=\"text-align: right;\">\n",
       "      <th></th>\n",
       "      <th>Iλ</th>\n",
       "    </tr>\n",
       "    <tr>\n",
       "      <th>Factor</th>\n",
       "      <th></th>\n",
       "    </tr>\n",
       "  </thead>\n",
       "  <tbody>\n",
       "    <tr>\n",
       "      <td>1</td>\n",
       "      <td>0.046395</td>\n",
       "    </tr>\n",
       "    <tr>\n",
       "      <td>2</td>\n",
       "      <td>0.016525</td>\n",
       "    </tr>\n",
       "    <tr>\n",
       "      <td>3</td>\n",
       "      <td>0.006557</td>\n",
       "    </tr>\n",
       "    <tr>\n",
       "      <td>4</td>\n",
       "      <td>0.004488</td>\n",
       "    </tr>\n",
       "    <tr>\n",
       "      <td>5</td>\n",
       "      <td>0.001421</td>\n",
       "    </tr>\n",
       "  </tbody>\n",
       "</table>\n",
       "</div>"
      ],
      "text/plain": [
       "              Iλ\n",
       "Factor          \n",
       "1       0.046395\n",
       "2       0.016525\n",
       "3       0.006557\n",
       "4       0.004488\n",
       "5       0.001421"
      ]
     },
     "execution_count": 89,
     "metadata": {},
     "output_type": "execute_result"
    }
   ],
   "source": [
    "data = {'Iλ': pd.Series(mca_res.L)}\n",
    "\n",
    "# 'Indicator Matrix', 'Benzecri Correction', 'Greenacre Correction'\n",
    "columns = ['Iλ']\n",
    "table2 = pd.DataFrame(data=data, columns=columns).fillna(0)\n",
    "table2.index += 1\n",
    "table2.loc['Σ'] = table2.sum()\n",
    "table2.index.name = 'Factor'\n",
    "\n",
    "table2.head() # NUL"
   ]
  },
  {
   "cell_type": "code",
   "execution_count": 90,
   "metadata": {},
   "outputs": [],
   "source": [
    "import numpy as np\n",
    "from sklearn.decomposition import PCA\n",
    "from sklearn import preprocessing"
   ]
  },
  {
   "cell_type": "code",
   "execution_count": 91,
   "metadata": {},
   "outputs": [
    {
     "data": {
      "text/html": [
       "<div>\n",
       "<style scoped>\n",
       "    .dataframe tbody tr th:only-of-type {\n",
       "        vertical-align: middle;\n",
       "    }\n",
       "\n",
       "    .dataframe tbody tr th {\n",
       "        vertical-align: top;\n",
       "    }\n",
       "\n",
       "    .dataframe thead th {\n",
       "        text-align: right;\n",
       "    }\n",
       "</style>\n",
       "<table border=\"1\" class=\"dataframe\">\n",
       "  <thead>\n",
       "    <tr style=\"text-align: right;\">\n",
       "      <th></th>\n",
       "      <th>0</th>\n",
       "      <th>1</th>\n",
       "      <th>2</th>\n",
       "      <th>3</th>\n",
       "      <th>4</th>\n",
       "      <th>5</th>\n",
       "      <th>6</th>\n",
       "      <th>7</th>\n",
       "      <th>8</th>\n",
       "      <th>9</th>\n",
       "      <th>10</th>\n",
       "      <th>11</th>\n",
       "      <th>12</th>\n",
       "      <th>13</th>\n",
       "      <th>14</th>\n",
       "      <th>15</th>\n",
       "      <th>16</th>\n",
       "    </tr>\n",
       "  </thead>\n",
       "  <tbody>\n",
       "    <tr>\n",
       "      <td>0</td>\n",
       "      <td>-0.704904</td>\n",
       "      <td>-0.621441</td>\n",
       "      <td>3.939513</td>\n",
       "      <td>-0.408502</td>\n",
       "      <td>-0.167178</td>\n",
       "      <td>-0.420994</td>\n",
       "      <td>-0.492093</td>\n",
       "      <td>-0.275420</td>\n",
       "      <td>-0.033224</td>\n",
       "      <td>0.502317</td>\n",
       "      <td>-0.159627</td>\n",
       "      <td>-0.192962</td>\n",
       "      <td>-0.428559</td>\n",
       "      <td>-2.503893</td>\n",
       "      <td>-2.272308</td>\n",
       "      <td>1.123760</td>\n",
       "      <td>-1.334180</td>\n",
       "    </tr>\n",
       "    <tr>\n",
       "      <td>1</td>\n",
       "      <td>0.023319</td>\n",
       "      <td>0.903452</td>\n",
       "      <td>-0.943190</td>\n",
       "      <td>0.505760</td>\n",
       "      <td>-0.765693</td>\n",
       "      <td>1.079865</td>\n",
       "      <td>0.705305</td>\n",
       "      <td>1.201391</td>\n",
       "      <td>0.880472</td>\n",
       "      <td>-1.428726</td>\n",
       "      <td>-1.106574</td>\n",
       "      <td>-0.427312</td>\n",
       "      <td>13.115167</td>\n",
       "      <td>-1.486454</td>\n",
       "      <td>-1.397032</td>\n",
       "      <td>-1.561005</td>\n",
       "      <td>-0.980617</td>\n",
       "    </tr>\n",
       "    <tr>\n",
       "      <td>2</td>\n",
       "      <td>-2.343406</td>\n",
       "      <td>-0.438454</td>\n",
       "      <td>-0.943190</td>\n",
       "      <td>-1.206667</td>\n",
       "      <td>0.730595</td>\n",
       "      <td>-0.795108</td>\n",
       "      <td>-1.873705</td>\n",
       "      <td>-0.572947</td>\n",
       "      <td>0.166647</td>\n",
       "      <td>0.502317</td>\n",
       "      <td>0.313847</td>\n",
       "      <td>-0.505429</td>\n",
       "      <td>-0.071850</td>\n",
       "      <td>-2.503893</td>\n",
       "      <td>-2.272308</td>\n",
       "      <td>1.528314</td>\n",
       "      <td>-0.936422</td>\n",
       "    </tr>\n",
       "    <tr>\n",
       "      <td>3</td>\n",
       "      <td>-1.433127</td>\n",
       "      <td>-1.231399</td>\n",
       "      <td>-0.518607</td>\n",
       "      <td>-0.449136</td>\n",
       "      <td>1.329110</td>\n",
       "      <td>0.406459</td>\n",
       "      <td>-1.965813</td>\n",
       "      <td>-0.605404</td>\n",
       "      <td>-0.461519</td>\n",
       "      <td>1.709219</td>\n",
       "      <td>1.892092</td>\n",
       "      <td>-0.505429</td>\n",
       "      <td>-0.111069</td>\n",
       "      <td>0.675604</td>\n",
       "      <td>0.791159</td>\n",
       "      <td>-0.126678</td>\n",
       "      <td>-1.908719</td>\n",
       "    </tr>\n",
       "    <tr>\n",
       "      <td>4</td>\n",
       "      <td>-0.704904</td>\n",
       "      <td>-1.231399</td>\n",
       "      <td>-0.837044</td>\n",
       "      <td>-0.097943</td>\n",
       "      <td>-1.663465</td>\n",
       "      <td>0.705750</td>\n",
       "      <td>0.014498</td>\n",
       "      <td>-0.691957</td>\n",
       "      <td>-0.175989</td>\n",
       "      <td>-0.463204</td>\n",
       "      <td>0.787320</td>\n",
       "      <td>-0.765819</td>\n",
       "      <td>-0.570495</td>\n",
       "      <td>-0.214655</td>\n",
       "      <td>-0.138822</td>\n",
       "      <td>0.167542</td>\n",
       "      <td>-2.350672</td>\n",
       "    </tr>\n",
       "  </tbody>\n",
       "</table>\n",
       "</div>"
      ],
      "text/plain": [
       "          0         1         2         3         4         5         6  \\\n",
       "0 -0.704904 -0.621441  3.939513 -0.408502 -0.167178 -0.420994 -0.492093   \n",
       "1  0.023319  0.903452 -0.943190  0.505760 -0.765693  1.079865  0.705305   \n",
       "2 -2.343406 -0.438454 -0.943190 -1.206667  0.730595 -0.795108 -1.873705   \n",
       "3 -1.433127 -1.231399 -0.518607 -0.449136  1.329110  0.406459 -1.965813   \n",
       "4 -0.704904 -1.231399 -0.837044 -0.097943 -1.663465  0.705750  0.014498   \n",
       "\n",
       "          7         8         9        10        11         12        13  \\\n",
       "0 -0.275420 -0.033224  0.502317 -0.159627 -0.192962  -0.428559 -2.503893   \n",
       "1  1.201391  0.880472 -1.428726 -1.106574 -0.427312  13.115167 -1.486454   \n",
       "2 -0.572947  0.166647  0.502317  0.313847 -0.505429  -0.071850 -2.503893   \n",
       "3 -0.605404 -0.461519  1.709219  1.892092 -0.505429  -0.111069  0.675604   \n",
       "4 -0.691957 -0.175989 -0.463204  0.787320 -0.765819  -0.570495 -0.214655   \n",
       "\n",
       "         14        15        16  \n",
       "0 -2.272308  1.123760 -1.334180  \n",
       "1 -1.397032 -1.561005 -0.980617  \n",
       "2 -2.272308  1.528314 -0.936422  \n",
       "3  0.791159 -0.126678 -1.908719  \n",
       "4 -0.138822  0.167542 -2.350672  "
      ]
     },
     "execution_count": 91,
     "metadata": {},
     "output_type": "execute_result"
    }
   ],
   "source": [
    "# essayons une ACP...\n",
    "X = df.select_dtypes(include='number')\n",
    "scaler = preprocessing.StandardScaler().fit(X) # creation d'un scaler\n",
    "\n",
    "X_scaled = pd.DataFrame(scaler.transform(X)) # scaling X\n",
    "y = df[\"class_of_diagnosis\"]\n",
    "X_scaled.head() "
   ]
  },
  {
   "cell_type": "code",
   "execution_count": 93,
   "metadata": {},
   "outputs": [
    {
     "data": {
      "text/plain": [
       "0.5634605521929321"
      ]
     },
     "execution_count": 93,
     "metadata": {},
     "output_type": "execute_result"
    }
   ],
   "source": [
    "n_components = 6\n",
    "\n",
    "#PCA\n",
    "pca = PCA(n_components=n_components)\n",
    "X_pca = pca.fit_transform(X_scaled)\n",
    "\n",
    "sum(pca.explained_variance_ratio_) # sum of the % of variance explained by earch of the selected components"
   ]
  },
  {
   "cell_type": "code",
   "execution_count": 94,
   "metadata": {},
   "outputs": [
    {
     "data": {
      "image/png": "[encoded data removed]",
      "text/plain": [
       "<Figure size 576x576 with 1 Axes>"
      ]
     },
     "metadata": {
      "needs_background": "light"
     },
     "output_type": "display_data"
    }
   ],
   "source": [
    "colors = [\"navy\", \"turquoise\"]#, \"pink\"]\n",
    "\n",
    "plt.figure(figsize=(8, 8))\n",
    "for color, i, target_name in zip(colors, [1, 2], np.array([\"Healthy\", \"Not healthy\"])):\n",
    "    plt.scatter(\n",
    "        X_pca[y == i, 0],\n",
    "        X_pca[y == i, 1],\n",
    "        color=color,\n",
    "        lw=2,\n",
    "        label=target_name,\n",
    "    )\n",
    "\n",
    "plt.title(\"PCA of iris dataset\")\n",
    "plt.legend(loc=\"best\", shadow=False, scatterpoints=1)\n",
    "\n",
    "plt.show() # again: not concluant"
   ]
  },
  {
   "cell_type": "markdown",
   "metadata": {},
   "source": [
    "## Modelling"
   ]
  },
  {
   "cell_type": "code",
   "execution_count": 95,
   "metadata": {},
   "outputs": [],
   "source": [
    "# modules de modelisation\n",
    "from sklearn import preprocessing\n",
    "from sklearn import metrics\n",
    "from sklearn.linear_model import LogisticRegression\n",
    "from sklearn.model_selection import train_test_split\n",
    "from sklearn.feature_selection import RFE\n",
    "from sklearn.ensemble import RandomForestClassifier\n",
    "from sklearn.tree import DecisionTreeClassifier"
   ]
  },
  {
   "cell_type": "code",
   "execution_count": 97,
   "metadata": {},
   "outputs": [
    {
     "name": "stdout",
     "output_type": "stream",
     "text": [
      "Index(['age', 'gender', 'city', 'asbestos_exposure', 'type_of_MM',\n",
      "       'duration_of_asbestos_exposure', 'lung_side', 'cytology',\n",
      "       'duration_of_symptoms', 'dyspnoea', 'ache_on_chest', 'weakness',\n",
      "       'habit_of_cigarette', 'performance_status', 'white_blood', 'cell_count',\n",
      "       'hemoglobin', 'platelet_count', 'sedimentation',\n",
      "       'blood_lactic_dehydrogenise', 'alkaline_phosphatise', 'total_protein',\n",
      "       'albumin', 'glucose', 'pleural_lactic_dehydrogenise', 'pleural_protein',\n",
      "       'pleural_albumin', 'pleural_glucose', 'dead_or_not', 'pleural_effusion',\n",
      "       'pleural_thickness_on_tomography', 'pleural_level_of_acidity',\n",
      "       'C_reactive_protein', 'class_of_diagnosis'],\n",
      "      dtype='object')\n"
     ]
    }
   ],
   "source": [
    "# variables qui vont servir pour la modelisation\n",
    "print(df.columns) # pour l'instant on garde les variables sous forme de dummy"
   ]
  },
  {
   "cell_type": "code",
   "execution_count": 161,
   "metadata": {},
   "outputs": [],
   "source": [
    "# convert categorical variables to numeric for modelling\n",
    "df[\"gender\"] = df[\"gender\"].astype('int')\n",
    "df[\"asbestos_exposure\"] = df[\"asbestos_exposure\"].astype('int')\n",
    "df[\"city\"] = df[\"city\"].astype('int')\n",
    "#df[\"type_of_MM\"] = df[\"type_of_MM\"].astype('int')\n",
    "df[\"lung_side\"] = df[\"lung_side\"].astype('int')\n",
    "df[\"cytology\"] = df[\"cytology\"].astype('int')\n",
    "df[\"dyspnoea\"] = df[\"dyspnoea\"].astype('int')\n",
    "df[\"ache_on_chest\"] = df[\"ache_on_chest\"].astype('int')\n",
    "df[\"weakness\"] = df[\"weakness\"].astype('int')\n",
    "df[\"habit_of_cigarette\"] = df[\"habit_of_cigarette\"].astype('int')\n",
    "df[\"performance_status\"] = df[\"performance_status\"].astype('int')\n",
    "df[\"hemoglobin\"] = df[\"hemoglobin\"].astype('int')\n",
    "df[\"dead_or_not\"] = df[\"dead_or_not\"].astype('int')\n",
    "df[\"pleural_thickness_on_tomography\"] = df[\"pleural_thickness_on_tomography\"].astype('int')\n",
    "df[\"pleural_effusion\"] = df[\"pleural_effusion\"].astype('int')\n",
    "df[\"pleural_level_of_acidity\"] = df[\"pleural_level_of_acidity\"].astype('int')\n",
    "df[\"class_of_diagnosis\"] = df[\"class_of_diagnosis\"].astype('int')"
   ]
  },
  {
   "cell_type": "code",
   "execution_count": 162,
   "metadata": {},
   "outputs": [],
   "source": [
    "X = df.drop(\"class_of_diagnosis\",axis=1).copy()\n",
    "y = df[\"class_of_diagnosis\"].copy()\n",
    "X_train, X_test, y_train, y_test = train_test_split(X, y, test_size = 0.20)"
   ]
  },
  {
   "cell_type": "code",
   "execution_count": 167,
   "metadata": {},
   "outputs": [
    {
     "data": {
      "text/plain": [
       "age                                float64\n",
       "gender                               int64\n",
       "city                                 int64\n",
       "asbestos_exposure                    int64\n",
       "type_of_MM                           int64\n",
       "duration_of_asbestos_exposure      float64\n",
       "lung_side                            int64\n",
       "cytology                             int64\n",
       "duration_of_symptoms               float64\n",
       "dyspnoea                             int64\n",
       "ache_on_chest                        int64\n",
       "weakness                             int64\n",
       "habit_of_cigarette                   int64\n",
       "performance_status                   int64\n",
       "white_blood                        float64\n",
       "cell_count                           int64\n",
       "hemoglobin                           int64\n",
       "platelet_count                     float64\n",
       "sedimentation                      float64\n",
       "blood_lactic_dehydrogenise         float64\n",
       "alkaline_phosphatise               float64\n",
       "total_protein                      float64\n",
       "albumin                            float64\n",
       "glucose                            float64\n",
       "pleural_lactic_dehydrogenise       float64\n",
       "pleural_protein                    float64\n",
       "pleural_albumin                    float64\n",
       "pleural_glucose                    float64\n",
       "dead_or_not                          int64\n",
       "pleural_effusion                     int64\n",
       "pleural_thickness_on_tomography      int64\n",
       "pleural_level_of_acidity             int64\n",
       "C_reactive_protein                   int64\n",
       "dtype: object"
      ]
     },
     "execution_count": 167,
     "metadata": {},
     "output_type": "execute_result"
    }
   ],
   "source": [
    "X_train.dtypes"
   ]
  },
  {
   "cell_type": "markdown",
   "metadata": {},
   "source": [
    "### Recursive feature selection"
   ]
  },
  {
   "cell_type": "code",
   "execution_count": 157,
   "metadata": {},
   "outputs": [],
   "source": [
    "from numpy import mean\n",
    "from numpy import std\n",
    "from sklearn.model_selection import cross_val_score\n",
    "from sklearn.model_selection import RepeatedStratifiedKFold\n",
    "from sklearn.feature_selection import RFECV\n",
    "from sklearn.tree import DecisionTreeClassifier\n",
    "from sklearn.pipeline import Pipeline\n",
    "from matplotlib import pyplot"
   ]
  },
  {
   "cell_type": "code",
   "execution_count": 163,
   "metadata": {},
   "outputs": [
    {
     "name": "stdout",
     "output_type": "stream",
     "text": [
      ">10 0.676 (0.095)\n",
      ">11 0.689 (0.068)\n",
      ">12 0.689 (0.107)\n",
      ">13 0.694 (0.085)\n",
      ">14 0.699 (0.071)\n",
      ">15 0.699 (0.068)\n",
      ">16 0.694 (0.072)\n",
      ">17 0.697 (0.065)\n",
      ">18 0.705 (0.076)\n",
      ">19 0.698 (0.076)\n",
      ">20 0.701 (0.080)\n",
      ">21 0.697 (0.070)\n",
      ">22 0.709 (0.073)\n",
      ">23 0.701 (0.063)\n",
      ">24 0.696 (0.074)\n",
      ">25 0.692 (0.079)\n",
      ">26 0.709 (0.076)\n",
      ">27 0.713 (0.072)\n",
      ">28 0.695 (0.083)\n",
      ">29 0.706 (0.074)\n",
      ">30 0.705 (0.067)\n"
     ]
    },
    {
     "data": {
      "image/png": "[encoded data removed]",
      "text/plain": [
       "<Figure size 504x360 with 1 Axes>"
      ]
     },
     "metadata": {
      "needs_background": "light"
     },
     "output_type": "display_data"
    }
   ],
   "source": [
    "# get a list of models to evaluate\n",
    "def get_models():\n",
    "    models = dict()\n",
    "    for i in range(10, 31):\n",
    "        rfe = RFE(estimator=DecisionTreeClassifier(), n_features_to_select=i)\n",
    "        model = DecisionTreeClassifier()\n",
    "        models[str(i)] = Pipeline(steps=[('s',rfe),('m',model)])\n",
    "    return models\n",
    " \n",
    "# evaluate a give model using cross-validation\n",
    "def evaluate_model(model, X, y):\n",
    "    cv = RepeatedStratifiedKFold(n_splits=10, n_repeats=3, random_state=1)\n",
    "    scores = cross_val_score(model, X, y, scoring='accuracy', cv=cv, n_jobs=-1, error_score='raise')\n",
    "    return scores\n",
    " \n",
    "# define dataset\n",
    "#X, y = get_dataset()\n",
    "# get the models to evaluate\n",
    "models = get_models()\n",
    "# evaluate the models and store results\n",
    "results, names = list(), list()\n",
    "for name, model in models.items():\n",
    "    scores = evaluate_model(model, X, y)\n",
    "    results.append(scores)\n",
    "    names.append(name)\n",
    "    print('>%s %.3f (%.3f)' % (name, mean(scores), std(scores)))\n",
    "# plot model performance for comparison\n",
    "pyplot.boxplot(results, labels=names, showmeans=True)\n",
    "pyplot.show()"
   ]
  },
  {
   "cell_type": "code",
   "execution_count": 170,
   "metadata": {},
   "outputs": [
    {
     "name": "stdout",
     "output_type": "stream",
     "text": [
      "Accuracy: 0.668 (0.069)\n",
      "Column: 0, Selected True, Rank: 1.000\n",
      "Column: 1, Selected False, Rank: 19.000\n",
      "Column: 2, Selected False, Rank: 4.000\n",
      "Column: 3, Selected False, Rank: 15.000\n",
      "Column: 4, Selected False, Rank: 12.000\n",
      "Column: 5, Selected True, Rank: 1.000\n",
      "Column: 6, Selected True, Rank: 1.000\n",
      "Column: 7, Selected False, Rank: 11.000\n",
      "Column: 8, Selected True, Rank: 1.000\n",
      "Column: 9, Selected False, Rank: 22.000\n",
      "Column: 10, Selected False, Rank: 21.000\n",
      "Column: 11, Selected False, Rank: 9.000\n",
      "Column: 12, Selected False, Rank: 6.000\n",
      "Column: 13, Selected False, Rank: 8.000\n",
      "Column: 14, Selected True, Rank: 1.000\n",
      "Column: 15, Selected True, Rank: 1.000\n",
      "Column: 16, Selected False, Rank: 7.000\n",
      "Column: 17, Selected True, Rank: 1.000\n",
      "Column: 18, Selected False, Rank: 13.000\n",
      "Column: 19, Selected True, Rank: 1.000\n",
      "Column: 20, Selected False, Rank: 5.000\n",
      "Column: 21, Selected True, Rank: 1.000\n",
      "Column: 22, Selected True, Rank: 1.000\n",
      "Column: 23, Selected False, Rank: 3.000\n",
      "Column: 24, Selected False, Rank: 14.000\n",
      "Column: 25, Selected True, Rank: 1.000\n",
      "Column: 26, Selected False, Rank: 18.000\n",
      "Column: 27, Selected False, Rank: 2.000\n",
      "Column: 28, Selected False, Rank: 16.000\n",
      "Column: 29, Selected False, Rank: 20.000\n",
      "Column: 30, Selected False, Rank: 17.000\n",
      "Column: 31, Selected False, Rank: 10.000\n",
      "Column: 32, Selected True, Rank: 1.000\n"
     ]
    }
   ],
   "source": [
    "# create pipeline\n",
    "rfe = RFECV(estimator=DecisionTreeClassifier())\n",
    "model = DecisionTreeClassifier()\n",
    "pipeline = Pipeline(steps=[('s',rfe),('m',model)])\n",
    "# evaluate model\n",
    "cv = RepeatedStratifiedKFold(n_splits=10, n_repeats=3, random_state=1)\n",
    "n_scores = cross_val_score(pipeline, X, y, scoring='accuracy', cv=cv, n_jobs=-1, error_score='raise')\n",
    "# report performance\n",
    "print('Accuracy: %.3f (%.3f)' % (mean(n_scores), std(n_scores)))\n",
    "\n",
    "# fit RFE\n",
    "rfe.fit(X.values, y.values)\n",
    "# summarize all features\n",
    "for i in range(X.shape[1]):\n",
    "\tprint('Column: %d, Selected %s, Rank: %.3f' % (i, rfe.support_[i], rfe.ranking_[i]))"
   ]
  },
  {
   "cell_type": "markdown",
   "metadata": {},
   "source": [
    "### Régression logistique"
   ]
  },
  {
   "cell_type": "code",
   "execution_count": 104,
   "metadata": {},
   "outputs": [
    {
     "data": {
      "text/plain": [
       "LogisticRegression(max_iter=10000)"
      ]
     },
     "execution_count": 104,
     "metadata": {},
     "output_type": "execute_result"
    }
   ],
   "source": [
    "logistic = LogisticRegression(max_iter=10000)\n",
    "logistic.fit(X_train, y_train)"
   ]
  },
  {
   "cell_type": "code",
   "execution_count": 107,
   "metadata": {},
   "outputs": [
    {
     "name": "stderr",
     "output_type": "stream",
     "text": [
      "/opt/anaconda3/lib/python3.7/site-packages/sklearn/base.py:561: FutureWarning: Arrays of bytes/strings is being converted to decimal numbers if dtype='numeric'. This behavior is deprecated in 0.24 and will be removed in 1.1 (renaming of 0.26). Please convert your data to numeric values explicitly instead.\n",
      "  X = check_array(X, **check_params)\n"
     ]
    }
   ],
   "source": [
    "pred_log = logistic.predict(X_test)"
   ]
  },
  {
   "cell_type": "code",
   "execution_count": 108,
   "metadata": {},
   "outputs": [
    {
     "name": "stdout",
     "output_type": "stream",
     "text": [
      "0.7076923076923077\n"
     ]
    },
    {
     "name": "stderr",
     "output_type": "stream",
     "text": [
      "/opt/anaconda3/lib/python3.7/site-packages/sklearn/base.py:561: FutureWarning: Arrays of bytes/strings is being converted to decimal numbers if dtype='numeric'. This behavior is deprecated in 0.24 and will be removed in 1.1 (renaming of 0.26). Please convert your data to numeric values explicitly instead.\n",
      "  X = check_array(X, **check_params)\n"
     ]
    }
   ],
   "source": [
    "# Use score method to get accuracy of model\n",
    "score_log = logistic.score(X_test, y_test)\n",
    "print(score_log)"
   ]
  },
  {
   "cell_type": "code",
   "execution_count": 109,
   "metadata": {},
   "outputs": [],
   "source": [
    "cm_log = metrics.confusion_matrix(y_test, pred_log)"
   ]
  },
  {
   "cell_type": "code",
   "execution_count": 110,
   "metadata": {},
   "outputs": [
    {
     "data": {
      "image/png": "[encoded data removed]",
      "text/plain": [
       "<Figure size 504x360 with 2 Axes>"
      ]
     },
     "metadata": {
      "needs_background": "light"
     },
     "output_type": "display_data"
    }
   ],
   "source": [
    "ax = plt.subplot()\n",
    "sns.heatmap(cm_log,annot=True,fmt=\"d\") \n",
    "ax.set_xlabel('Prédictionq'); ax.set_ylabel('Labels réels'); \n",
    "ax.set_title('Matrice de confusion'); \n",
    "plt.show()"
   ]
  },
  {
   "cell_type": "markdown",
   "metadata": {},
   "source": [
    "### Random forest"
   ]
  },
  {
   "cell_type": "code",
   "execution_count": 111,
   "metadata": {},
   "outputs": [],
   "source": [
    "# test avec un random forrest classique\n",
    "rf = RandomForestClassifier(n_estimators = 100,\n",
    "                           n_jobs = 10,\n",
    "                           oob_score = True,\n",
    "                           bootstrap = True,\n",
    "                           random_state = 42)   "
   ]
  },
  {
   "cell_type": "code",
   "execution_count": 112,
   "metadata": {},
   "outputs": [
    {
     "data": {
      "text/plain": [
       "RandomForestClassifier(n_jobs=10, oob_score=True, random_state=42)"
      ]
     },
     "execution_count": 112,
     "metadata": {},
     "output_type": "execute_result"
    }
   ],
   "source": [
    "rf.fit(X_train.values, y_train.values)"
   ]
  },
  {
   "cell_type": "markdown",
   "metadata": {},
   "source": [
    "#### Evaluation des performances"
   ]
  },
  {
   "cell_type": "code",
   "execution_count": 113,
   "metadata": {},
   "outputs": [],
   "source": [
    "# modules complementaires\n",
    "import shap\n",
    "from sklearn.inspection import permutation_importance"
   ]
  },
  {
   "cell_type": "code",
   "execution_count": 114,
   "metadata": {},
   "outputs": [
    {
     "name": "stdout",
     "output_type": "stream",
     "text": [
      "R^2 Training Score: 1.00 \n",
      "OOB Score: 0.72 \n",
      "R^2 Validation Score: 0.77\n"
     ]
    }
   ],
   "source": [
    "print('R^2 Training Score: {:.2f} \\nOOB Score: {:.2f} \\nR^2 Validation Score: {:.2f}'.format(rf.score(X_train.values, y_train.values), \n",
    "                                                                                             rf.oob_score_,\n",
    "                                                                                             rf.score(X_test.values, y_test.values))) "
   ]
  },
  {
   "cell_type": "code",
   "execution_count": 115,
   "metadata": {},
   "outputs": [
    {
     "data": {
      "text/plain": [
       "array([0.05425493, 0.01350089, 0.02956469, 0.00584148, 0.00703222,\n",
       "       0.05134576, 0.04660849, 0.01002539, 0.04984019, 0.00591629,\n",
       "       0.01060562, 0.00758381, 0.01507035, 0.00638901, 0.04615053,\n",
       "       0.03625451, 0.01006048, 0.08823811, 0.04615872, 0.04928556,\n",
       "       0.04052476, 0.03867501, 0.03070848, 0.03919632, 0.05253871,\n",
       "       0.04776549, 0.0416295 , 0.04654163, 0.00279198, 0.00248597,\n",
       "       0.0070481 , 0.00658737, 0.05377964])"
      ]
     },
     "execution_count": 115,
     "metadata": {},
     "output_type": "execute_result"
    }
   ],
   "source": [
    "rf.feature_importances_"
   ]
  },
  {
   "cell_type": "code",
   "execution_count": 117,
   "metadata": {},
   "outputs": [],
   "source": [
    "df_meso = df.loc[df['class_of_diagnosis'] == 1]"
   ]
  },
  {
   "cell_type": "code",
   "execution_count": 118,
   "metadata": {},
   "outputs": [
    {
     "data": {
      "image/png": "[encoded data removed]",
      "text/plain": [
       "<Figure size 504x360 with 1 Axes>"
      ]
     },
     "metadata": {
      "needs_background": "light"
     },
     "output_type": "display_data"
    }
   ],
   "source": [
    "sorted_idx = rf.feature_importances_.argsort()\n",
    "plt.barh(df_meso.columns[sorted_idx], rf.feature_importances_[sorted_idx])\n",
    "plt.xlabel(\"Importance des variables (RF)\")\n",
    "plt.show()"
   ]
  },
  {
   "cell_type": "code",
   "execution_count": 119,
   "metadata": {},
   "outputs": [],
   "source": [
    "perm_importance = permutation_importance(rf, X_test.values, y_test.values)"
   ]
  },
  {
   "cell_type": "code",
   "execution_count": 120,
   "metadata": {},
   "outputs": [
    {
     "data": {
      "image/png": "[encoded data removed]",
      "text/plain": [
       "<Figure size 504x360 with 1 Axes>"
      ]
     },
     "metadata": {
      "needs_background": "light"
     },
     "output_type": "display_data"
    }
   ],
   "source": [
    "sorted_idx = perm_importance.importances_mean.argsort()\n",
    "plt.barh(df_mod.columns[sorted_idx], perm_importance.importances_mean[sorted_idx])\n",
    "plt.xlabel(\"Permutation Importance (RF)\")\n",
    "plt.show()"
   ]
  },
  {
   "cell_type": "code",
   "execution_count": 121,
   "metadata": {},
   "outputs": [],
   "source": [
    "explainer = shap.TreeExplainer(rf)\n",
    "shap_values = explainer.shap_values(X_test.values)"
   ]
  },
  {
   "cell_type": "code",
   "execution_count": 122,
   "metadata": {},
   "outputs": [
    {
     "data": {
      "image/png": "[encoded data removed]",
      "text/plain": [
       "<Figure size 576x684 with 1 Axes>"
      ]
     },
     "metadata": {
      "needs_background": "light"
     },
     "output_type": "display_data"
    }
   ],
   "source": [
    "shap.summary_plot(shap_values, X_test, plot_type=\"bar\")"
   ]
  },
  {
   "cell_type": "markdown",
   "metadata": {},
   "source": [
    "Les variables avec le plus d'influence d'après les 3 critères utilisés ci-dessus sont:\n",
    "\n",
    "* PLT\n",
    "* age\n",
    "* pleural_protein\n",
    "* lung_side\n",
    "* C_reactive_protein\n",
    "* duration_of_asbestos_exposure"
   ]
  },
  {
   "cell_type": "code",
   "execution_count": 123,
   "metadata": {},
   "outputs": [
    {
     "name": "stdout",
     "output_type": "stream",
     "text": [
      "0.7692307692307693\n"
     ]
    }
   ],
   "source": [
    "# calcul du score\n",
    "score = rf.score(X_test.values, y_test.values)\n",
    "print(score)"
   ]
  },
  {
   "cell_type": "code",
   "execution_count": 124,
   "metadata": {},
   "outputs": [
    {
     "name": "stdout",
     "output_type": "stream",
     "text": [
      "              precision    recall  f1-score   support\n",
      "\n",
      "           1       0.76      0.98      0.86        46\n",
      "           2       0.83      0.26      0.40        19\n",
      "\n",
      "    accuracy                           0.77        65\n",
      "   macro avg       0.80      0.62      0.63        65\n",
      "weighted avg       0.78      0.77      0.72        65\n",
      "\n"
     ]
    }
   ],
   "source": [
    "# predictions\n",
    "pred = rf.predict(X_test.values)\n",
    "print(metrics.classification_report(y_test.values, pred))"
   ]
  },
  {
   "cell_type": "code",
   "execution_count": 125,
   "metadata": {},
   "outputs": [],
   "source": [
    "# matrice de confusion\n",
    "cm = metrics.confusion_matrix(y_test, pred)"
   ]
  },
  {
   "cell_type": "code",
   "execution_count": 104,
   "metadata": {},
   "outputs": [
    {
     "data": {
      "image/png": "[encoded data removed]",
      "text/plain": [
       "<Figure size 504x360 with 2 Axes>"
      ]
     },
     "metadata": {
      "needs_background": "light"
     },
     "output_type": "display_data"
    }
   ],
   "source": [
    "ax = plt.subplot()\n",
    "sns.heatmap(cm,annot=True,fmt=\"d\") \n",
    "ax.set_xlabel('Prediction');ax.set_ylabel('Labels reels'); \n",
    "ax.set_title('Matrice de confusion'); \n",
    "plt.show()"
   ]
  },
  {
   "cell_type": "markdown",
   "metadata": {},
   "source": [
    "### XGBoost"
   ]
  },
  {
   "cell_type": "code",
   "execution_count": 126,
   "metadata": {},
   "outputs": [],
   "source": [
    "import xgboost as xgb # XGBoost stuff"
   ]
  },
  {
   "cell_type": "code",
   "execution_count": 128,
   "metadata": {},
   "outputs": [
    {
     "data": {
      "text/plain": [
       "age                                 float64\n",
       "gender                             category\n",
       "city                               category\n",
       "asbestos_exposure                  category\n",
       "type_of_MM                         category\n",
       "duration_of_asbestos_exposure       float64\n",
       "lung_side                          category\n",
       "cytology                           category\n",
       "duration_of_symptoms                float64\n",
       "dyspnoea                           category\n",
       "ache_on_chest                      category\n",
       "weakness                           category\n",
       "habit_of_cigarette                 category\n",
       "performance_status                 category\n",
       "white_blood                         float64\n",
       "cell_count                            int64\n",
       "hemoglobin                         category\n",
       "platelet_count                      float64\n",
       "sedimentation                       float64\n",
       "blood_lactic_dehydrogenise          float64\n",
       "alkaline_phosphatise                float64\n",
       "total_protein                       float64\n",
       "albumin                             float64\n",
       "glucose                             float64\n",
       "pleural_lactic_dehydrogenise        float64\n",
       "pleural_protein                     float64\n",
       "pleural_albumin                     float64\n",
       "pleural_glucose                     float64\n",
       "dead_or_not                        category\n",
       "pleural_effusion                   category\n",
       "pleural_thickness_on_tomography    category\n",
       "pleural_level_of_acidity           category\n",
       "C_reactive_protein                    int64\n",
       "dtype: object"
      ]
     },
     "execution_count": 128,
     "metadata": {},
     "output_type": "execute_result"
    }
   ],
   "source": [
    "X_train.dtypes"
   ]
  },
  {
   "cell_type": "code",
   "execution_count": 132,
   "metadata": {},
   "outputs": [
    {
     "data": {
      "text/plain": [
       "XGBClassifier(eval_metric='logloss', seed=42, use_label_encoder=False)"
      ]
     },
     "execution_count": 132,
     "metadata": {},
     "output_type": "execute_result"
    }
   ],
   "source": [
    "# new training set with get_dummies\n",
    "X = dc.copy()\n",
    "y = df[\"class_of_diagnosis\"].copy()\n",
    "X_train, X_test, y_train, y_test = train_test_split(X, y, test_size = 0.20)\n",
    "clf_xgb = xgb.XGBClassifier(objective='binary:logistic',\n",
    "                            eval_metric=\"logloss\", ## this avoids a warning...\n",
    "                            seed=42, \n",
    "                            use_label_encoder=False)\n",
    "## NOTE: newer versions of XGBoost will issue a warning if you don't explitly tell it that\n",
    "## you are not expecting it to do label encoding on its own (in other words, since we\n",
    "## have ensured that the categorical values are all numeric, we do not expect XGBoost to do label encoding), \n",
    "## so we set use_label_encoder=False\n",
    "\n",
    "clf_xgb.fit(X_train, y_train)"
   ]
  },
  {
   "cell_type": "code",
   "execution_count": 137,
   "metadata": {},
   "outputs": [
    {
     "name": "stdout",
     "output_type": "stream",
     "text": [
      "0.8\n"
     ]
    }
   ],
   "source": [
    "# calcul du score\n",
    "score = clf_xgb.score(X_test, y_test)\n",
    "print(score)"
   ]
  },
  {
   "cell_type": "code",
   "execution_count": 133,
   "metadata": {},
   "outputs": [
    {
     "name": "stdout",
     "output_type": "stream",
     "text": [
      "              precision    recall  f1-score   support\n",
      "\n",
      "           1       0.84      0.92      0.88        50\n",
      "           2       0.60      0.40      0.48        15\n",
      "\n",
      "    accuracy                           0.80        65\n",
      "   macro avg       0.72      0.66      0.68        65\n",
      "weighted avg       0.78      0.80      0.78        65\n",
      "\n"
     ]
    }
   ],
   "source": [
    "# predictions\n",
    "pred = clf_xgb.predict(X_test)\n",
    "print(metrics.classification_report(y_test, pred))"
   ]
  },
  {
   "cell_type": "code",
   "execution_count": 134,
   "metadata": {},
   "outputs": [
    {
     "data": {
      "image/png": "[encoded data removed]",
      "text/plain": [
       "<Figure size 504x360 with 2 Axes>"
      ]
     },
     "metadata": {
      "needs_background": "light"
     },
     "output_type": "display_data"
    }
   ],
   "source": [
    "# matrice de confusion\n",
    "cm = metrics.confusion_matrix(y_test, pred)\n",
    "\n",
    "ax = plt.subplot()\n",
    "sns.heatmap(cm,annot=True,fmt=\"d\") \n",
    "ax.set_xlabel('Prediction');ax.set_ylabel('Labels reels'); \n",
    "ax.set_title('Matrice de confusion'); \n",
    "plt.show()"
   ]
  }
 ],
 "metadata": {
  "kernelspec": {
   "display_name": "Python 3",
   "language": "python",
   "name": "python3"
  },
  "language_info": {
   "codemirror_mode": {
    "name": "ipython",
    "version": 3
   },
   "file_extension": ".py",
   "mimetype": "text/x-python",
   "name": "python",
   "nbconvert_exporter": "python",
   "pygments_lexer": "ipython3",
   "version": "3.7.4"
  }
 },
 "nbformat": 4,
 "nbformat_minor": 2
}
