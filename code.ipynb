{
 "cells": [
  {
   "cell_type": "markdown",
   "metadata": {},
   "source": [
    "# Machine learning techniques for diagnosis of malignant pleural mesothelioma\n",
    "\n",
    "MPM is a highly aggressive tumor of the serous membranes, which in humans results from exposure to **asbestos** and **asbestiform fibers**.\n",
    "\n",
    "Overall: \n",
    "* around half of people diagnosed with mesothelioma will live at least a year after the diagnosis\n",
    "* around 10% of people with mesothelioma will live at least 5 years after diagnosis"
   ]
  },
  {
   "cell_type": "code",
   "execution_count": 40,
   "metadata": {},
   "outputs": [
    {
     "data": {
      "text/plain": [
       "'/Users/romanelgff/Documents/Master/M2/S1/R1/ML/Project'"
      ]
     },
     "execution_count": 40,
     "metadata": {},
     "output_type": "execute_result"
    }
   ],
   "source": [
    "import os\n",
    "import pandas as pd\n",
    "import matplotlib.pyplot as plt\n",
    "from mca import MCA # pip install --user mca\n",
    "# doc: https://github.com/esafak/mca/blob/master/docs/usage.rst\n",
    "\n",
    "# configuration bibliotheque pour les graphiques\n",
    "%matplotlib inline \n",
    "\n",
    "os.getcwd()"
   ]
  },
  {
   "cell_type": "code",
   "execution_count": 41,
   "metadata": {},
   "outputs": [
    {
     "data": {
      "text/html": [
       "<div>\n",
       "<style scoped>\n",
       "    .dataframe tbody tr th:only-of-type {\n",
       "        vertical-align: middle;\n",
       "    }\n",
       "\n",
       "    .dataframe tbody tr th {\n",
       "        vertical-align: top;\n",
       "    }\n",
       "\n",
       "    .dataframe thead th {\n",
       "        text-align: right;\n",
       "    }\n",
       "</style>\n",
       "<table border=\"1\" class=\"dataframe\">\n",
       "  <thead>\n",
       "    <tr style=\"text-align: right;\">\n",
       "      <th></th>\n",
       "      <th>age</th>\n",
       "      <th>gender</th>\n",
       "      <th>city</th>\n",
       "      <th>asbestos_exp</th>\n",
       "      <th>MM_type</th>\n",
       "      <th>asbestos_exp_dur</th>\n",
       "      <th>diag_method</th>\n",
       "      <th>keep_side</th>\n",
       "      <th>cytology</th>\n",
       "      <th>symptoms_dur</th>\n",
       "      <th>...</th>\n",
       "      <th>pleural_dehydrogenise</th>\n",
       "      <th>pleural_protein</th>\n",
       "      <th>pleural_albumin</th>\n",
       "      <th>pleural_glucose</th>\n",
       "      <th>dead</th>\n",
       "      <th>pleural_effusion</th>\n",
       "      <th>pleural_tomography</th>\n",
       "      <th>pleuralPh</th>\n",
       "      <th>CRP</th>\n",
       "      <th>diagnosis</th>\n",
       "    </tr>\n",
       "  </thead>\n",
       "  <tbody>\n",
       "    <tr>\n",
       "      <td>0</td>\n",
       "      <td>47.0</td>\n",
       "      <td>1</td>\n",
       "      <td>0</td>\n",
       "      <td>1</td>\n",
       "      <td>0.0</td>\n",
       "      <td>20.0</td>\n",
       "      <td>1</td>\n",
       "      <td>0</td>\n",
       "      <td>1</td>\n",
       "      <td>24.0</td>\n",
       "      <td>...</td>\n",
       "      <td>289.0</td>\n",
       "      <td>0.0</td>\n",
       "      <td>0.00</td>\n",
       "      <td>79.0</td>\n",
       "      <td>1</td>\n",
       "      <td>0.0</td>\n",
       "      <td>0.0</td>\n",
       "      <td>0.0</td>\n",
       "      <td>34</td>\n",
       "      <td>1</td>\n",
       "    </tr>\n",
       "    <tr>\n",
       "      <td>1</td>\n",
       "      <td>55.0</td>\n",
       "      <td>1</td>\n",
       "      <td>0</td>\n",
       "      <td>1</td>\n",
       "      <td>0.0</td>\n",
       "      <td>45.0</td>\n",
       "      <td>1</td>\n",
       "      <td>0</td>\n",
       "      <td>0</td>\n",
       "      <td>1.0</td>\n",
       "      <td>...</td>\n",
       "      <td>7541.0</td>\n",
       "      <td>1.6</td>\n",
       "      <td>0.80</td>\n",
       "      <td>6.0</td>\n",
       "      <td>1</td>\n",
       "      <td>1.0</td>\n",
       "      <td>1.0</td>\n",
       "      <td>1.0</td>\n",
       "      <td>42</td>\n",
       "      <td>1</td>\n",
       "    </tr>\n",
       "    <tr>\n",
       "      <td>2</td>\n",
       "      <td>29.0</td>\n",
       "      <td>1</td>\n",
       "      <td>1</td>\n",
       "      <td>1</td>\n",
       "      <td>0.0</td>\n",
       "      <td>23.0</td>\n",
       "      <td>0</td>\n",
       "      <td>1</td>\n",
       "      <td>0</td>\n",
       "      <td>1.0</td>\n",
       "      <td>...</td>\n",
       "      <td>480.0</td>\n",
       "      <td>0.0</td>\n",
       "      <td>0.00</td>\n",
       "      <td>90.0</td>\n",
       "      <td>1</td>\n",
       "      <td>0.0</td>\n",
       "      <td>0.0</td>\n",
       "      <td>0.0</td>\n",
       "      <td>43</td>\n",
       "      <td>2</td>\n",
       "    </tr>\n",
       "    <tr>\n",
       "      <td>3</td>\n",
       "      <td>39.0</td>\n",
       "      <td>1</td>\n",
       "      <td>0</td>\n",
       "      <td>1</td>\n",
       "      <td>0.0</td>\n",
       "      <td>10.0</td>\n",
       "      <td>1</td>\n",
       "      <td>0</td>\n",
       "      <td>0</td>\n",
       "      <td>3.0</td>\n",
       "      <td>...</td>\n",
       "      <td>459.0</td>\n",
       "      <td>5.0</td>\n",
       "      <td>2.80</td>\n",
       "      <td>45.0</td>\n",
       "      <td>1</td>\n",
       "      <td>1.0</td>\n",
       "      <td>0.0</td>\n",
       "      <td>0.0</td>\n",
       "      <td>21</td>\n",
       "      <td>1</td>\n",
       "    </tr>\n",
       "    <tr>\n",
       "      <td>4</td>\n",
       "      <td>47.0</td>\n",
       "      <td>1</td>\n",
       "      <td>0</td>\n",
       "      <td>1</td>\n",
       "      <td>0.0</td>\n",
       "      <td>10.0</td>\n",
       "      <td>1</td>\n",
       "      <td>1</td>\n",
       "      <td>1</td>\n",
       "      <td>1.5</td>\n",
       "      <td>...</td>\n",
       "      <td>213.0</td>\n",
       "      <td>3.6</td>\n",
       "      <td>1.95</td>\n",
       "      <td>53.0</td>\n",
       "      <td>1</td>\n",
       "      <td>1.0</td>\n",
       "      <td>0.0</td>\n",
       "      <td>0.0</td>\n",
       "      <td>11</td>\n",
       "      <td>1</td>\n",
       "    </tr>\n",
       "  </tbody>\n",
       "</table>\n",
       "<p>5 rows × 35 columns</p>\n",
       "</div>"
      ],
      "text/plain": [
       "    age  gender  city  asbestos_exp  MM_type  asbestos_exp_dur  diag_method  \\\n",
       "0  47.0       1     0             1      0.0              20.0            1   \n",
       "1  55.0       1     0             1      0.0              45.0            1   \n",
       "2  29.0       1     1             1      0.0              23.0            0   \n",
       "3  39.0       1     0             1      0.0              10.0            1   \n",
       "4  47.0       1     0             1      0.0              10.0            1   \n",
       "\n",
       "   keep_side  cytology  symptoms_dur  ...  pleural_dehydrogenise  \\\n",
       "0          0         1          24.0  ...                  289.0   \n",
       "1          0         0           1.0  ...                 7541.0   \n",
       "2          1         0           1.0  ...                  480.0   \n",
       "3          0         0           3.0  ...                  459.0   \n",
       "4          1         1           1.5  ...                  213.0   \n",
       "\n",
       "   pleural_protein  pleural_albumin  pleural_glucose  dead  pleural_effusion  \\\n",
       "0              0.0             0.00             79.0     1               0.0   \n",
       "1              1.6             0.80              6.0     1               1.0   \n",
       "2              0.0             0.00             90.0     1               0.0   \n",
       "3              5.0             2.80             45.0     1               1.0   \n",
       "4              3.6             1.95             53.0     1               1.0   \n",
       "\n",
       "   pleural_tomography  pleuralPh  CRP  diagnosis  \n",
       "0                 0.0        0.0   34          1  \n",
       "1                 1.0        1.0   42          1  \n",
       "2                 0.0        0.0   43          2  \n",
       "3                 0.0        0.0   21          1  \n",
       "4                 0.0        0.0   11          1  \n",
       "\n",
       "[5 rows x 35 columns]"
      ]
     },
     "execution_count": 41,
     "metadata": {},
     "output_type": "execute_result"
    }
   ],
   "source": [
    "df = pd.read_excel(\"mesothelioma_dataset.xlsx\")\n",
    "df.head()"
   ]
  },
  {
   "cell_type": "code",
   "execution_count": 5,
   "metadata": {},
   "outputs": [
    {
     "data": {
      "text/plain": [
       "(324, 35)"
      ]
     },
     "execution_count": 5,
     "metadata": {},
     "output_type": "execute_result"
    }
   ],
   "source": [
    "# dimensions\n",
    "df.shape "
   ]
  },
  {
   "cell_type": "code",
   "execution_count": 6,
   "metadata": {},
   "outputs": [
    {
     "data": {
      "text/plain": [
       "11340"
      ]
     },
     "execution_count": 6,
     "metadata": {},
     "output_type": "execute_result"
    }
   ],
   "source": [
    "# nombre total d'éléments\n",
    "df.size"
   ]
  },
  {
   "cell_type": "code",
   "execution_count": 7,
   "metadata": {},
   "outputs": [
    {
     "data": {
      "text/plain": [
       "Index(['age', 'gender', 'city', 'asbestos_exp', 'MM_type', 'asbestos_exp_dur',\n",
       "       'diag_method', 'keep_side', 'cytology', 'symptoms_dur', 'dyspnoea',\n",
       "       'chest_ache', 'weakness', 'cigarette', 'perf_status', 'white_blood',\n",
       "       'WBC', 'HGB', 'PLT', 'sedimentation', 'LDH', 'ALP', 'total_protein',\n",
       "       'albumin', 'glucose', 'pleural_dehydrogenise', 'pleural_protein',\n",
       "       'pleural_albumin', 'pleural_glucose', 'dead', 'pleural_effusion',\n",
       "       'pleural_tomography', 'pleuralPh', 'CRP', 'diagnosis'],\n",
       "      dtype='object')"
      ]
     },
     "execution_count": 7,
     "metadata": {},
     "output_type": "execute_result"
    }
   ],
   "source": [
    "# noms des colonnes\n",
    "df.columns"
   ]
  },
  {
   "cell_type": "code",
   "execution_count": 8,
   "metadata": {},
   "outputs": [
    {
     "data": {
      "text/plain": [
       "age                      float64\n",
       "gender                     int64\n",
       "city                       int64\n",
       "asbestos_exp               int64\n",
       "MM_type                  float64\n",
       "asbestos_exp_dur         float64\n",
       "diag_method                int64\n",
       "keep_side                  int64\n",
       "cytology                   int64\n",
       "symptoms_dur             float64\n",
       "dyspnoea                   int64\n",
       "chest_ache                 int64\n",
       "weakness                   int64\n",
       "cigarette                  int64\n",
       "perf_status                int64\n",
       "white_blood              float64\n",
       "WBC                        int64\n",
       "HGB                        int64\n",
       "PLT                      float64\n",
       "sedimentation            float64\n",
       "LDH                      float64\n",
       "ALP                      float64\n",
       "total_protein            float64\n",
       "albumin                  float64\n",
       "glucose                  float64\n",
       "pleural_dehydrogenise    float64\n",
       "pleural_protein          float64\n",
       "pleural_albumin          float64\n",
       "pleural_glucose          float64\n",
       "dead                       int64\n",
       "pleural_effusion         float64\n",
       "pleural_tomography       float64\n",
       "pleuralPh                float64\n",
       "CRP                        int64\n",
       "diagnosis                  int64\n",
       "dtype: object"
      ]
     },
     "execution_count": 8,
     "metadata": {},
     "output_type": "execute_result"
    }
   ],
   "source": [
    "# types des colonnes\n",
    "df.dtypes"
   ]
  },
  {
   "cell_type": "markdown",
   "metadata": {},
   "source": [
    "* **age**: âge de l'individu \n",
    "* **gender**: genre \n",
    "* **city**: si l'individu habite en ville\n",
    "* **asbestos exposure**: exposition à l'amiante, un silicate fibreux d’origine naturelle\n",
    "* **type of MM**: type de mésothéliomes malins (trois types)\n",
    "* **duration of asbetos exposure**: durée d'exposition à l'amiante\n",
    "* **diagnosis method**: méthode/procédé de diagnostic (0 ou 1?)\n",
    "* **keep side**: ??? garder de côté le patient?\n",
    "* **cytology**: dépistage par cytologie (= étude des cellules isolées)\n",
    "* **duration of symptoms**: durée des symptômes\n",
    "* **dyspnoea**: présence ou non de dyspnée (souffle court)\n",
    "* **ache on chest**: présence ou non d'une douleur à la poitrine \n",
    "* **weakness**: faiblesse ou non de l'indivdu\n",
    "* **habit of cigarette**: fumeur ou non\n",
    "* **performance status**: statut de performance??\n",
    "* **White Blood cell count (WBC)**:\n",
    "* **haemoglobin (HGB)**:"
   ]
  },
  {
   "cell_type": "code",
   "execution_count": 42,
   "metadata": {},
   "outputs": [],
   "source": [
    "df[\"gender\"] = pd.Categorical(df[\"gender\"], ordered=False)\n",
    "df[\"city\"] = pd.Categorical(df[\"city\"], ordered=False)\n",
    "df[\"asbestos_exp\"] = pd.Categorical(df[\"asbestos_exp\"], ordered=False)\n",
    "df[\"MM_type\"] = pd.Categorical(df[\"MM_type\"], ordered=False)\n",
    "df[\"diag_method\"] = pd.Categorical(df[\"diag_method\"], ordered=False)\n",
    "df[\"keep_side\"] = pd.Categorical(df[\"keep_side\"], ordered=False)\n",
    "df[\"cytology\"] = pd.Categorical(df[\"cytology\"], ordered=False)\n",
    "df[\"dyspnoea\"] = pd.Categorical(df[\"dyspnoea\"], ordered=False)\n",
    "df[\"chest_ache\"] = pd.Categorical(df[\"chest_ache\"], ordered=False)\n",
    "df[\"weakness\"] = pd.Categorical(df[\"weakness\"], ordered=False)\n",
    "df[\"cigarette\"] = pd.Categorical(df[\"cigarette\"], ordered=False)\n",
    "df[\"perf_status\"] = pd.Categorical(df[\"perf_status\"], ordered=False)\n",
    "df[\"HGB\"] = pd.Categorical(df[\"HGB\"], ordered=False)\n",
    "df[\"dead\"] = pd.Categorical(df[\"dead\"], ordered=False)\n",
    "df[\"pleural_tomography\"] = pd.Categorical(df[\"pleural_tomography\"], ordered=False)\n",
    "df[\"pleural_effusion\"] = pd.Categorical(df[\"pleural_effusion\"], ordered=False)\n",
    "df[\"pleuralPh\"] = pd.Categorical(df[\"pleuralPh\"], ordered=False)\n",
    "df[\"diagnosis\"] = pd.Categorical(df[\"diagnosis\"], ordered=False)"
   ]
  },
  {
   "cell_type": "code",
   "execution_count": 14,
   "metadata": {},
   "outputs": [
    {
     "data": {
      "text/html": [
       "<div>\n",
       "<style scoped>\n",
       "    .dataframe tbody tr th:only-of-type {\n",
       "        vertical-align: middle;\n",
       "    }\n",
       "\n",
       "    .dataframe tbody tr th {\n",
       "        vertical-align: top;\n",
       "    }\n",
       "\n",
       "    .dataframe thead th {\n",
       "        text-align: right;\n",
       "    }\n",
       "</style>\n",
       "<table border=\"1\" class=\"dataframe\">\n",
       "  <thead>\n",
       "    <tr style=\"text-align: right;\">\n",
       "      <th>dead</th>\n",
       "      <th>0</th>\n",
       "      <th>1</th>\n",
       "    </tr>\n",
       "    <tr>\n",
       "      <th>diagnosis</th>\n",
       "      <th></th>\n",
       "      <th></th>\n",
       "    </tr>\n",
       "  </thead>\n",
       "  <tbody>\n",
       "    <tr>\n",
       "      <td>1</td>\n",
       "      <td>14</td>\n",
       "      <td>214</td>\n",
       "    </tr>\n",
       "    <tr>\n",
       "      <td>2</td>\n",
       "      <td>4</td>\n",
       "      <td>92</td>\n",
       "    </tr>\n",
       "  </tbody>\n",
       "</table>\n",
       "</div>"
      ],
      "text/plain": [
       "dead        0    1\n",
       "diagnosis         \n",
       "1          14  214\n",
       "2           4   92"
      ]
     },
     "execution_count": 14,
     "metadata": {},
     "output_type": "execute_result"
    }
   ],
   "source": [
    "pd.crosstab(df[\"diagnosis\"],df[\"dead\"]) # + de healthy (diagnosis=1) qui meurent que de mesotholmia, strange"
   ]
  },
  {
   "cell_type": "code",
   "execution_count": 25,
   "metadata": {},
   "outputs": [
    {
     "data": {
      "text/plain": [
       "[0.0, 1.0, 2.0]\n",
       "Categories (3, float64): [0.0, 1.0, 2.0]"
      ]
     },
     "execution_count": 25,
     "metadata": {},
     "output_type": "execute_result"
    }
   ],
   "source": [
    "df[\"MM_type\"].unique()"
   ]
  },
  {
   "cell_type": "code",
   "execution_count": 44,
   "metadata": {},
   "outputs": [
    {
     "data": {
      "text/plain": [
       "[0.0, 1.0]\n",
       "Categories (2, float64): [0.0, 1.0]"
      ]
     },
     "execution_count": 44,
     "metadata": {},
     "output_type": "execute_result"
    }
   ],
   "source": [
    "df[\"pleuralPh\"].unique()"
   ]
  },
  {
   "cell_type": "code",
   "execution_count": 29,
   "metadata": {},
   "outputs": [
    {
     "data": {
      "text/plain": [
       "[0, 1, 2]\n",
       "Categories (3, int64): [0, 1, 2]"
      ]
     },
     "execution_count": 29,
     "metadata": {},
     "output_type": "execute_result"
    }
   ],
   "source": [
    "df[\"keep_side\"].unique() # ??? qu'est-ce?"
   ]
  },
  {
   "cell_type": "code",
   "execution_count": 33,
   "metadata": {},
   "outputs": [
    {
     "data": {
      "text/plain": [
       "[1, 0]\n",
       "Categories (2, int64): [1, 0]"
      ]
     },
     "execution_count": 33,
     "metadata": {},
     "output_type": "execute_result"
    }
   ],
   "source": [
    "df[\"diag_method\"].unique()"
   ]
  },
  {
   "cell_type": "code",
   "execution_count": 35,
   "metadata": {},
   "outputs": [
    {
     "data": {
      "text/plain": [
       "[1, 0]\n",
       "Categories (2, int64): [1, 0]"
      ]
     },
     "execution_count": 35,
     "metadata": {},
     "output_type": "execute_result"
    }
   ],
   "source": [
    "df[\"cytology\"].unique()"
   ]
  },
  {
   "cell_type": "code",
   "execution_count": 45,
   "metadata": {},
   "outputs": [
    {
     "data": {
      "text/html": [
       "<div>\n",
       "<style scoped>\n",
       "    .dataframe tbody tr th:only-of-type {\n",
       "        vertical-align: middle;\n",
       "    }\n",
       "\n",
       "    .dataframe tbody tr th {\n",
       "        vertical-align: top;\n",
       "    }\n",
       "\n",
       "    .dataframe thead th {\n",
       "        text-align: right;\n",
       "    }\n",
       "</style>\n",
       "<table border=\"1\" class=\"dataframe\">\n",
       "  <thead>\n",
       "    <tr style=\"text-align: right;\">\n",
       "      <th></th>\n",
       "      <th>age</th>\n",
       "      <th>asbestos_exp_dur</th>\n",
       "      <th>symptoms_dur</th>\n",
       "      <th>white_blood</th>\n",
       "      <th>WBC</th>\n",
       "      <th>PLT</th>\n",
       "      <th>sedimentation</th>\n",
       "      <th>LDH</th>\n",
       "      <th>ALP</th>\n",
       "      <th>total_protein</th>\n",
       "      <th>...</th>\n",
       "      <th>HGB_0</th>\n",
       "      <th>HGB_1</th>\n",
       "      <th>dead_0</th>\n",
       "      <th>dead_1</th>\n",
       "      <th>pleural_effusion_0.0</th>\n",
       "      <th>pleural_effusion_1.0</th>\n",
       "      <th>pleural_tomography_0.0</th>\n",
       "      <th>pleural_tomography_1.0</th>\n",
       "      <th>pleuralPh_0.0</th>\n",
       "      <th>pleuralPh_1.0</th>\n",
       "    </tr>\n",
       "  </thead>\n",
       "  <tbody>\n",
       "    <tr>\n",
       "      <td>0</td>\n",
       "      <td>47.0</td>\n",
       "      <td>20.0</td>\n",
       "      <td>24.0</td>\n",
       "      <td>8050.0</td>\n",
       "      <td>9</td>\n",
       "      <td>274.0</td>\n",
       "      <td>60.0</td>\n",
       "      <td>258.0</td>\n",
       "      <td>65.0</td>\n",
       "      <td>7.0</td>\n",
       "      <td>...</td>\n",
       "      <td>0</td>\n",
       "      <td>1</td>\n",
       "      <td>0</td>\n",
       "      <td>1</td>\n",
       "      <td>1</td>\n",
       "      <td>0</td>\n",
       "      <td>1</td>\n",
       "      <td>0</td>\n",
       "      <td>1</td>\n",
       "      <td>0</td>\n",
       "    </tr>\n",
       "    <tr>\n",
       "      <td>1</td>\n",
       "      <td>55.0</td>\n",
       "      <td>45.0</td>\n",
       "      <td>1.0</td>\n",
       "      <td>11200.0</td>\n",
       "      <td>7</td>\n",
       "      <td>615.0</td>\n",
       "      <td>86.0</td>\n",
       "      <td>531.0</td>\n",
       "      <td>97.0</td>\n",
       "      <td>5.4</td>\n",
       "      <td>...</td>\n",
       "      <td>1</td>\n",
       "      <td>0</td>\n",
       "      <td>0</td>\n",
       "      <td>1</td>\n",
       "      <td>0</td>\n",
       "      <td>1</td>\n",
       "      <td>0</td>\n",
       "      <td>1</td>\n",
       "      <td>0</td>\n",
       "      <td>1</td>\n",
       "    </tr>\n",
       "    <tr>\n",
       "      <td>2</td>\n",
       "      <td>29.0</td>\n",
       "      <td>23.0</td>\n",
       "      <td>1.0</td>\n",
       "      <td>5300.0</td>\n",
       "      <td>12</td>\n",
       "      <td>189.0</td>\n",
       "      <td>30.0</td>\n",
       "      <td>203.0</td>\n",
       "      <td>72.0</td>\n",
       "      <td>7.0</td>\n",
       "      <td>...</td>\n",
       "      <td>0</td>\n",
       "      <td>1</td>\n",
       "      <td>0</td>\n",
       "      <td>1</td>\n",
       "      <td>1</td>\n",
       "      <td>0</td>\n",
       "      <td>1</td>\n",
       "      <td>0</td>\n",
       "      <td>1</td>\n",
       "      <td>0</td>\n",
       "    </tr>\n",
       "    <tr>\n",
       "      <td>3</td>\n",
       "      <td>39.0</td>\n",
       "      <td>10.0</td>\n",
       "      <td>3.0</td>\n",
       "      <td>7910.0</td>\n",
       "      <td>14</td>\n",
       "      <td>462.0</td>\n",
       "      <td>28.0</td>\n",
       "      <td>197.0</td>\n",
       "      <td>50.0</td>\n",
       "      <td>8.0</td>\n",
       "      <td>...</td>\n",
       "      <td>0</td>\n",
       "      <td>1</td>\n",
       "      <td>0</td>\n",
       "      <td>1</td>\n",
       "      <td>0</td>\n",
       "      <td>1</td>\n",
       "      <td>1</td>\n",
       "      <td>0</td>\n",
       "      <td>1</td>\n",
       "      <td>0</td>\n",
       "    </tr>\n",
       "    <tr>\n",
       "      <td>4</td>\n",
       "      <td>47.0</td>\n",
       "      <td>10.0</td>\n",
       "      <td>1.5</td>\n",
       "      <td>9120.0</td>\n",
       "      <td>4</td>\n",
       "      <td>530.0</td>\n",
       "      <td>71.0</td>\n",
       "      <td>181.0</td>\n",
       "      <td>60.0</td>\n",
       "      <td>6.2</td>\n",
       "      <td>...</td>\n",
       "      <td>1</td>\n",
       "      <td>0</td>\n",
       "      <td>0</td>\n",
       "      <td>1</td>\n",
       "      <td>0</td>\n",
       "      <td>1</td>\n",
       "      <td>1</td>\n",
       "      <td>0</td>\n",
       "      <td>1</td>\n",
       "      <td>0</td>\n",
       "    </tr>\n",
       "  </tbody>\n",
       "</table>\n",
       "<p>5 rows × 62 columns</p>\n",
       "</div>"
      ],
      "text/plain": [
       "    age  asbestos_exp_dur  symptoms_dur  white_blood  WBC    PLT  \\\n",
       "0  47.0              20.0          24.0       8050.0    9  274.0   \n",
       "1  55.0              45.0           1.0      11200.0    7  615.0   \n",
       "2  29.0              23.0           1.0       5300.0   12  189.0   \n",
       "3  39.0              10.0           3.0       7910.0   14  462.0   \n",
       "4  47.0              10.0           1.5       9120.0    4  530.0   \n",
       "\n",
       "   sedimentation    LDH   ALP  total_protein  ...  HGB_0  HGB_1  dead_0  \\\n",
       "0           60.0  258.0  65.0            7.0  ...      0      1       0   \n",
       "1           86.0  531.0  97.0            5.4  ...      1      0       0   \n",
       "2           30.0  203.0  72.0            7.0  ...      0      1       0   \n",
       "3           28.0  197.0  50.0            8.0  ...      0      1       0   \n",
       "4           71.0  181.0  60.0            6.2  ...      1      0       0   \n",
       "\n",
       "   dead_1  pleural_effusion_0.0  pleural_effusion_1.0  pleural_tomography_0.0  \\\n",
       "0       1                     1                     0                       1   \n",
       "1       1                     0                     1                       0   \n",
       "2       1                     1                     0                       1   \n",
       "3       1                     0                     1                       1   \n",
       "4       1                     0                     1                       1   \n",
       "\n",
       "   pleural_tomography_1.0  pleuralPh_0.0  pleuralPh_1.0  \n",
       "0                       0              1              0  \n",
       "1                       1              0              1  \n",
       "2                       0              1              0  \n",
       "3                       0              1              0  \n",
       "4                       0              1              0  \n",
       "\n",
       "[5 rows x 62 columns]"
      ]
     },
     "execution_count": 45,
     "metadata": {},
     "output_type": "execute_result"
    }
   ],
   "source": [
    "# mis en place indicatrices au cas où, pour que la fonction MCA repère bien les variables catégorielles\n",
    "dc = pd.DataFrame(pd.get_dummies(df.drop('diagnosis', axis=1)))\n",
    "dc.head()"
   ]
  },
  {
   "cell_type": "code",
   "execution_count": 46,
   "metadata": {},
   "outputs": [
    {
     "name": "stdout",
     "output_type": "stream",
     "text": [
      "[0.04639127 0.01652515 0.00655696 0.00449344 0.00142191 0.00115385\n",
      " 0.00098095 0.00082999 0.00056077 0.00042685 0.0002774  0.00019049\n",
      " 0.00018082 0.00014552 0.00014411 0.00013765 0.00012931 0.00012241\n",
      " 0.00010968 0.0001055  0.00010228 0.00010091]\n",
      "0.08226755506886388 0.0810872043388823\n"
     ]
    }
   ],
   "source": [
    "mca_res = MCA(dc, benzecri=False) # disabling benzecri correction \n",
    "print(mca_res.L) # eigenvalues of the factors\n",
    "print(mca_res.inertia, sum(mca_res.L)) # inertia"
   ]
  },
  {
   "cell_type": "code",
   "execution_count": 47,
   "metadata": {},
   "outputs": [
    {
     "data": {
      "text/html": [
       "<div>\n",
       "<style scoped>\n",
       "    .dataframe tbody tr th:only-of-type {\n",
       "        vertical-align: middle;\n",
       "    }\n",
       "\n",
       "    .dataframe tbody tr th {\n",
       "        vertical-align: top;\n",
       "    }\n",
       "\n",
       "    .dataframe thead th {\n",
       "        text-align: right;\n",
       "    }\n",
       "</style>\n",
       "<table border=\"1\" class=\"dataframe\">\n",
       "  <thead>\n",
       "    <tr style=\"text-align: right;\">\n",
       "      <th></th>\n",
       "      <th>Iλ</th>\n",
       "    </tr>\n",
       "    <tr>\n",
       "      <th>Factor</th>\n",
       "      <th></th>\n",
       "    </tr>\n",
       "  </thead>\n",
       "  <tbody>\n",
       "    <tr>\n",
       "      <td>1</td>\n",
       "      <td>0.046391</td>\n",
       "    </tr>\n",
       "    <tr>\n",
       "      <td>2</td>\n",
       "      <td>0.016525</td>\n",
       "    </tr>\n",
       "    <tr>\n",
       "      <td>3</td>\n",
       "      <td>0.006557</td>\n",
       "    </tr>\n",
       "    <tr>\n",
       "      <td>4</td>\n",
       "      <td>0.004493</td>\n",
       "    </tr>\n",
       "    <tr>\n",
       "      <td>5</td>\n",
       "      <td>0.001422</td>\n",
       "    </tr>\n",
       "  </tbody>\n",
       "</table>\n",
       "</div>"
      ],
      "text/plain": [
       "              Iλ\n",
       "Factor          \n",
       "1       0.046391\n",
       "2       0.016525\n",
       "3       0.006557\n",
       "4       0.004493\n",
       "5       0.001422"
      ]
     },
     "execution_count": 47,
     "metadata": {},
     "output_type": "execute_result"
    }
   ],
   "source": [
    "data = {'Iλ': pd.Series(mca_res.L)}\n",
    "\n",
    "# 'Indicator Matrix', 'Benzecri Correction', 'Greenacre Correction'\n",
    "columns = ['Iλ']\n",
    "table2 = pd.DataFrame(data=data, columns=columns).fillna(0)\n",
    "table2.index += 1\n",
    "table2.loc['Σ'] = table2.sum()\n",
    "table2.index.name = 'Factor'\n",
    "\n",
    "table2.head() # NUL"
   ]
  },
  {
   "cell_type": "code",
   "execution_count": 48,
   "metadata": {},
   "outputs": [],
   "source": [
    "import numpy as np\n",
    "from sklearn.decomposition import PCA, IncrementalPCA\n",
    "from sklearn import preprocessing"
   ]
  },
  {
   "cell_type": "code",
   "execution_count": 49,
   "metadata": {},
   "outputs": [
    {
     "data": {
      "text/html": [
       "<div>\n",
       "<style scoped>\n",
       "    .dataframe tbody tr th:only-of-type {\n",
       "        vertical-align: middle;\n",
       "    }\n",
       "\n",
       "    .dataframe tbody tr th {\n",
       "        vertical-align: top;\n",
       "    }\n",
       "\n",
       "    .dataframe thead th {\n",
       "        text-align: right;\n",
       "    }\n",
       "</style>\n",
       "<table border=\"1\" class=\"dataframe\">\n",
       "  <thead>\n",
       "    <tr style=\"text-align: right;\">\n",
       "      <th></th>\n",
       "      <th>0</th>\n",
       "      <th>1</th>\n",
       "      <th>2</th>\n",
       "      <th>3</th>\n",
       "      <th>4</th>\n",
       "      <th>5</th>\n",
       "      <th>6</th>\n",
       "      <th>7</th>\n",
       "      <th>8</th>\n",
       "      <th>9</th>\n",
       "      <th>10</th>\n",
       "      <th>11</th>\n",
       "      <th>12</th>\n",
       "      <th>13</th>\n",
       "      <th>14</th>\n",
       "      <th>15</th>\n",
       "      <th>16</th>\n",
       "    </tr>\n",
       "  </thead>\n",
       "  <tbody>\n",
       "    <tr>\n",
       "      <td>0</td>\n",
       "      <td>-0.704904</td>\n",
       "      <td>-0.621441</td>\n",
       "      <td>3.939513</td>\n",
       "      <td>-0.408502</td>\n",
       "      <td>-0.167178</td>\n",
       "      <td>-0.420994</td>\n",
       "      <td>-0.492093</td>\n",
       "      <td>-0.275420</td>\n",
       "      <td>-0.033224</td>\n",
       "      <td>0.502317</td>\n",
       "      <td>-0.159627</td>\n",
       "      <td>-0.192962</td>\n",
       "      <td>-0.428559</td>\n",
       "      <td>-2.503893</td>\n",
       "      <td>-2.272308</td>\n",
       "      <td>1.123760</td>\n",
       "      <td>-1.334180</td>\n",
       "    </tr>\n",
       "    <tr>\n",
       "      <td>1</td>\n",
       "      <td>0.023319</td>\n",
       "      <td>0.903452</td>\n",
       "      <td>-0.943190</td>\n",
       "      <td>0.505760</td>\n",
       "      <td>-0.765693</td>\n",
       "      <td>1.079865</td>\n",
       "      <td>0.705305</td>\n",
       "      <td>1.201391</td>\n",
       "      <td>0.880472</td>\n",
       "      <td>-1.428726</td>\n",
       "      <td>-1.106574</td>\n",
       "      <td>-0.427312</td>\n",
       "      <td>13.115167</td>\n",
       "      <td>-1.486454</td>\n",
       "      <td>-1.397032</td>\n",
       "      <td>-1.561005</td>\n",
       "      <td>-0.980617</td>\n",
       "    </tr>\n",
       "    <tr>\n",
       "      <td>2</td>\n",
       "      <td>-2.343406</td>\n",
       "      <td>-0.438454</td>\n",
       "      <td>-0.943190</td>\n",
       "      <td>-1.206667</td>\n",
       "      <td>0.730595</td>\n",
       "      <td>-0.795108</td>\n",
       "      <td>-1.873705</td>\n",
       "      <td>-0.572947</td>\n",
       "      <td>0.166647</td>\n",
       "      <td>0.502317</td>\n",
       "      <td>0.313847</td>\n",
       "      <td>-0.505429</td>\n",
       "      <td>-0.071850</td>\n",
       "      <td>-2.503893</td>\n",
       "      <td>-2.272308</td>\n",
       "      <td>1.528314</td>\n",
       "      <td>-0.936422</td>\n",
       "    </tr>\n",
       "    <tr>\n",
       "      <td>3</td>\n",
       "      <td>-1.433127</td>\n",
       "      <td>-1.231399</td>\n",
       "      <td>-0.518607</td>\n",
       "      <td>-0.449136</td>\n",
       "      <td>1.329110</td>\n",
       "      <td>0.406459</td>\n",
       "      <td>-1.965813</td>\n",
       "      <td>-0.605404</td>\n",
       "      <td>-0.461519</td>\n",
       "      <td>1.709219</td>\n",
       "      <td>1.892092</td>\n",
       "      <td>-0.505429</td>\n",
       "      <td>-0.111069</td>\n",
       "      <td>0.675604</td>\n",
       "      <td>0.791159</td>\n",
       "      <td>-0.126678</td>\n",
       "      <td>-1.908719</td>\n",
       "    </tr>\n",
       "    <tr>\n",
       "      <td>4</td>\n",
       "      <td>-0.704904</td>\n",
       "      <td>-1.231399</td>\n",
       "      <td>-0.837044</td>\n",
       "      <td>-0.097943</td>\n",
       "      <td>-1.663465</td>\n",
       "      <td>0.705750</td>\n",
       "      <td>0.014498</td>\n",
       "      <td>-0.691957</td>\n",
       "      <td>-0.175989</td>\n",
       "      <td>-0.463204</td>\n",
       "      <td>0.787320</td>\n",
       "      <td>-0.765819</td>\n",
       "      <td>-0.570495</td>\n",
       "      <td>-0.214655</td>\n",
       "      <td>-0.138822</td>\n",
       "      <td>0.167542</td>\n",
       "      <td>-2.350672</td>\n",
       "    </tr>\n",
       "  </tbody>\n",
       "</table>\n",
       "</div>"
      ],
      "text/plain": [
       "          0         1         2         3         4         5         6  \\\n",
       "0 -0.704904 -0.621441  3.939513 -0.408502 -0.167178 -0.420994 -0.492093   \n",
       "1  0.023319  0.903452 -0.943190  0.505760 -0.765693  1.079865  0.705305   \n",
       "2 -2.343406 -0.438454 -0.943190 -1.206667  0.730595 -0.795108 -1.873705   \n",
       "3 -1.433127 -1.231399 -0.518607 -0.449136  1.329110  0.406459 -1.965813   \n",
       "4 -0.704904 -1.231399 -0.837044 -0.097943 -1.663465  0.705750  0.014498   \n",
       "\n",
       "          7         8         9        10        11         12        13  \\\n",
       "0 -0.275420 -0.033224  0.502317 -0.159627 -0.192962  -0.428559 -2.503893   \n",
       "1  1.201391  0.880472 -1.428726 -1.106574 -0.427312  13.115167 -1.486454   \n",
       "2 -0.572947  0.166647  0.502317  0.313847 -0.505429  -0.071850 -2.503893   \n",
       "3 -0.605404 -0.461519  1.709219  1.892092 -0.505429  -0.111069  0.675604   \n",
       "4 -0.691957 -0.175989 -0.463204  0.787320 -0.765819  -0.570495 -0.214655   \n",
       "\n",
       "         14        15        16  \n",
       "0 -2.272308  1.123760 -1.334180  \n",
       "1 -1.397032 -1.561005 -0.980617  \n",
       "2 -2.272308  1.528314 -0.936422  \n",
       "3  0.791159 -0.126678 -1.908719  \n",
       "4 -0.138822  0.167542 -2.350672  "
      ]
     },
     "execution_count": 49,
     "metadata": {},
     "output_type": "execute_result"
    }
   ],
   "source": [
    "# essayons une ACP...\n",
    "X = df.select_dtypes(include='number')\n",
    "scaler = preprocessing.StandardScaler().fit(X) # creation d'un scaler\n",
    "\n",
    "X_scaled = pd.DataFrame(scaler.transform(X)) # scaling X\n",
    "Y = df[\"diagnosis\"]\n",
    "X_scaled.head() "
   ]
  },
  {
   "cell_type": "code",
   "execution_count": 50,
   "metadata": {},
   "outputs": [
    {
     "data": {
      "text/plain": [
       "0.5634605521929321"
      ]
     },
     "execution_count": 50,
     "metadata": {},
     "output_type": "execute_result"
    }
   ],
   "source": [
    "n_components = 6\n",
    "\n",
    "# IPCA\n",
    "ipca = IncrementalPCA(n_components=n_components, batch_size=10)\n",
    "X_ipca = ipca.fit_transform(X_scaled)\n",
    "\n",
    "#PCA\n",
    "pca = PCA(n_components=n_components)\n",
    "X_pca = pca.fit_transform(X_scaled)\n",
    "\n",
    "sum(pca.explained_variance_ratio_) # sum of the % of variance explained by earch of the selected components"
   ]
  },
  {
   "cell_type": "code",
   "execution_count": 51,
   "metadata": {},
   "outputs": [
    {
     "data": {
      "image/png": "[encoded data removed]",
      "text/plain": [
       "<Figure size 576x576 with 1 Axes>"
      ]
     },
     "metadata": {
      "needs_background": "light"
     },
     "output_type": "display_data"
    },
    {
     "data": {
      "image/png": "[encoded data removed]",
      "text/plain": [
       "<Figure size 576x576 with 1 Axes>"
      ]
     },
     "metadata": {
      "needs_background": "light"
     },
     "output_type": "display_data"
    }
   ],
   "source": [
    "colors = [\"navy\", \"turquoise\"]\n",
    "\n",
    "for X_transformed, title in [(X_ipca, \"Incremental PCA\"), (X_pca, \"PCA\")]:\n",
    "    plt.figure(figsize=(8, 8))\n",
    "    for color, i, target_name in zip(colors, [1, 2], np.array([\"healthy\", \"not healthy\"])):\n",
    "        plt.scatter(\n",
    "            X_transformed[Y == i, 0],\n",
    "            X_transformed[Y == i, 1],\n",
    "            color=color,\n",
    "            lw=2,\n",
    "            label=target_name,\n",
    "        )\n",
    "\n",
    "    if \"Incremental\" in title:\n",
    "        err = np.abs(np.abs(X_pca) - np.abs(X_ipca)).mean()\n",
    "        plt.title(title + \" of iris dataset\\nMean absolute unsigned error %.6f\" % err)\n",
    "    else:\n",
    "        plt.title(title + \" of iris dataset\")\n",
    "    plt.legend(loc=\"best\", shadow=False, scatterpoints=1)\n",
    "\n",
    "plt.show() # again: not concluant"
   ]
  },
  {
   "cell_type": "code",
   "execution_count": 57,
   "metadata": {},
   "outputs": [
    {
     "data": {
      "text/plain": [
       "<matplotlib.axes._subplots.AxesSubplot at 0x7fe1dbc9e090>"
      ]
     },
     "execution_count": 57,
     "metadata": {},
     "output_type": "execute_result"
    },
    {
     "data": {
      "image/png": "[encoded data removed]",
      "text/plain": [
       "<Figure size 432x288 with 1 Axes>"
      ]
     },
     "metadata": {
      "needs_background": "light"
     },
     "output_type": "display_data"
    }
   ],
   "source": [
    "var = df[df[\"asbestos_exp\"] == 1]\n",
    "var.plot.scatter(title=\"Age représenté p/r à la durée d'exposition à l'amiante\",\n",
    "         x=\"age\",\n",
    "         y=\"asbestos_exp_dur\")"
   ]
  },
  {
   "cell_type": "code",
   "execution_count": null,
   "metadata": {},
   "outputs": [],
   "source": []
  }
 ],
 "metadata": {
  "kernelspec": {
   "display_name": "Python 3",
   "language": "python",
   "name": "python3"
  },
  "language_info": {
   "codemirror_mode": {
    "name": "ipython",
    "version": 3
   },
   "file_extension": ".py",
   "mimetype": "text/x-python",
   "name": "python",
   "nbconvert_exporter": "python",
   "pygments_lexer": "ipython3",
   "version": "3.7.4"
  }
 },
 "nbformat": 4,
 "nbformat_minor": 2
}
