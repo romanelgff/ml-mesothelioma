{
 "cells": [
  {
   "cell_type": "markdown",
   "metadata": {},
   "source": [
    "# Machine learning techniques for diagnosis of malignant pleural mesothelioma\n",
    "\n",
    "MPM is a highly aggressive tumor of the serous membranes, which in humans results from exposure to **asbestos** and **asbestiform fibers**. It is a fatal cancer and a malignancy that is resistant to the common tumor directed therapies.\n",
    "\n",
    "Overall: \n",
    "* around half of people diagnosed with mesothelioma will live at least a year after the diagnosis\n",
    "* around 10% of people with mesothelioma will live at least 5 years after diagnosis\n",
    "\n",
    "The symptoms of mesothelioma develop usually gradually over time and don't appear until several decades (typically 20 years) after exposure to asbestos ! For mesothelioma in the lining of the lungs, they include :\n",
    "* chest pain\n",
    "* shortness of breath\n",
    "* fatigue\n",
    "* fever and sweating\n",
    "* couch\n",
    "* loss of appetite and unexplained weight loss\n",
    "* swollen fingertips\n",
    "\n",
    "As for mesothelioma in the lining of the tummy, they include :\n",
    "* swelling or tummy pain\n",
    "* feeling sick\n",
    "* loss of appetite and unexplained weight loss\n",
    "* diarrhoea or consitupation\n",
    "\n",
    "Diagnostics of mesothelioma:\n",
    "* X-ray of chest or tummy\n",
    "* CT scan\n",
    "* fluid drainage\n",
    "* thoracoscopy or laparoscopy"
   ]
  },
  {
   "cell_type": "markdown",
   "metadata": {},
   "source": [
    "## Findings in the studied paper \n",
    "\n",
    "The paper compares the results of the multilayer neural network (MLNN) structure and Artificial Immune Systems (AIS) on MPM diagnosis. The dataset used comes from a faculty of medecine's database using patient's hospital reports. This dataset includes 324 patients suffering from variety of MPM disease. Each of them have 34 features and diagnostic tests of each patient were recorded by an attending physician."
   ]
  },
  {
   "cell_type": "markdown",
   "metadata": {},
   "source": [
    "## Data importation"
   ]
  },
  {
   "cell_type": "code",
   "execution_count": 1,
   "metadata": {},
   "outputs": [
    {
     "data": {
      "text/plain": [
       "'/Users/romanelgff/Documents/Master/M2/S1/R1/ML/ml-mesothelioma'"
      ]
     },
     "execution_count": 1,
     "metadata": {},
     "output_type": "execute_result"
    }
   ],
   "source": [
    "import os\n",
    "import pandas as pd\n",
    "import matplotlib.pyplot as plt\n",
    "\n",
    "from mca import MCA # pip install --user mca\n",
    "# doc: https://github.com/esafak/mca/blob/master/docs/usage.rst\n",
    "\n",
    "# configuration bibliotheque pour les graphiques\n",
    "%matplotlib inline \n",
    "\n",
    "os.getcwd()"
   ]
  },
  {
   "cell_type": "code",
   "execution_count": 2,
   "metadata": {},
   "outputs": [
    {
     "data": {
      "text/html": [
       "<div>\n",
       "<style scoped>\n",
       "    .dataframe tbody tr th:only-of-type {\n",
       "        vertical-align: middle;\n",
       "    }\n",
       "\n",
       "    .dataframe tbody tr th {\n",
       "        vertical-align: top;\n",
       "    }\n",
       "\n",
       "    .dataframe thead th {\n",
       "        text-align: right;\n",
       "    }\n",
       "</style>\n",
       "<table border=\"1\" class=\"dataframe\">\n",
       "  <thead>\n",
       "    <tr style=\"text-align: right;\">\n",
       "      <th></th>\n",
       "      <th>age</th>\n",
       "      <th>gender</th>\n",
       "      <th>city</th>\n",
       "      <th>asbestos exposure</th>\n",
       "      <th>type of MM</th>\n",
       "      <th>duration of asbestos exposure</th>\n",
       "      <th>keep side</th>\n",
       "      <th>cytology</th>\n",
       "      <th>duration of symptoms</th>\n",
       "      <th>dyspnoea</th>\n",
       "      <th>...</th>\n",
       "      <th>pleural lactic dehydrogenise</th>\n",
       "      <th>pleural protein</th>\n",
       "      <th>pleural albumin</th>\n",
       "      <th>pleural glucose</th>\n",
       "      <th>dead or not</th>\n",
       "      <th>pleural effusion</th>\n",
       "      <th>pleural thickness on tomography</th>\n",
       "      <th>pleural level of acidity (pH)</th>\n",
       "      <th>C-reactive protein (CRP)</th>\n",
       "      <th>class of diagnosis</th>\n",
       "    </tr>\n",
       "  </thead>\n",
       "  <tbody>\n",
       "    <tr>\n",
       "      <td>0</td>\n",
       "      <td>47.0</td>\n",
       "      <td>1</td>\n",
       "      <td>0</td>\n",
       "      <td>1</td>\n",
       "      <td>0.0</td>\n",
       "      <td>20.0</td>\n",
       "      <td>0</td>\n",
       "      <td>1</td>\n",
       "      <td>24.0</td>\n",
       "      <td>1</td>\n",
       "      <td>...</td>\n",
       "      <td>289.0</td>\n",
       "      <td>0.0</td>\n",
       "      <td>0.00</td>\n",
       "      <td>79.0</td>\n",
       "      <td>1</td>\n",
       "      <td>0.0</td>\n",
       "      <td>0.0</td>\n",
       "      <td>0.0</td>\n",
       "      <td>34</td>\n",
       "      <td>1</td>\n",
       "    </tr>\n",
       "    <tr>\n",
       "      <td>1</td>\n",
       "      <td>55.0</td>\n",
       "      <td>1</td>\n",
       "      <td>0</td>\n",
       "      <td>1</td>\n",
       "      <td>0.0</td>\n",
       "      <td>45.0</td>\n",
       "      <td>0</td>\n",
       "      <td>0</td>\n",
       "      <td>1.0</td>\n",
       "      <td>1</td>\n",
       "      <td>...</td>\n",
       "      <td>7541.0</td>\n",
       "      <td>1.6</td>\n",
       "      <td>0.80</td>\n",
       "      <td>6.0</td>\n",
       "      <td>1</td>\n",
       "      <td>1.0</td>\n",
       "      <td>1.0</td>\n",
       "      <td>1.0</td>\n",
       "      <td>42</td>\n",
       "      <td>1</td>\n",
       "    </tr>\n",
       "    <tr>\n",
       "      <td>2</td>\n",
       "      <td>29.0</td>\n",
       "      <td>1</td>\n",
       "      <td>1</td>\n",
       "      <td>1</td>\n",
       "      <td>0.0</td>\n",
       "      <td>23.0</td>\n",
       "      <td>1</td>\n",
       "      <td>0</td>\n",
       "      <td>1.0</td>\n",
       "      <td>0</td>\n",
       "      <td>...</td>\n",
       "      <td>480.0</td>\n",
       "      <td>0.0</td>\n",
       "      <td>0.00</td>\n",
       "      <td>90.0</td>\n",
       "      <td>1</td>\n",
       "      <td>0.0</td>\n",
       "      <td>0.0</td>\n",
       "      <td>0.0</td>\n",
       "      <td>43</td>\n",
       "      <td>2</td>\n",
       "    </tr>\n",
       "    <tr>\n",
       "      <td>3</td>\n",
       "      <td>39.0</td>\n",
       "      <td>1</td>\n",
       "      <td>0</td>\n",
       "      <td>1</td>\n",
       "      <td>0.0</td>\n",
       "      <td>10.0</td>\n",
       "      <td>0</td>\n",
       "      <td>0</td>\n",
       "      <td>3.0</td>\n",
       "      <td>0</td>\n",
       "      <td>...</td>\n",
       "      <td>459.0</td>\n",
       "      <td>5.0</td>\n",
       "      <td>2.80</td>\n",
       "      <td>45.0</td>\n",
       "      <td>1</td>\n",
       "      <td>1.0</td>\n",
       "      <td>0.0</td>\n",
       "      <td>0.0</td>\n",
       "      <td>21</td>\n",
       "      <td>1</td>\n",
       "    </tr>\n",
       "    <tr>\n",
       "      <td>4</td>\n",
       "      <td>47.0</td>\n",
       "      <td>1</td>\n",
       "      <td>0</td>\n",
       "      <td>1</td>\n",
       "      <td>0.0</td>\n",
       "      <td>10.0</td>\n",
       "      <td>1</td>\n",
       "      <td>1</td>\n",
       "      <td>1.5</td>\n",
       "      <td>1</td>\n",
       "      <td>...</td>\n",
       "      <td>213.0</td>\n",
       "      <td>3.6</td>\n",
       "      <td>1.95</td>\n",
       "      <td>53.0</td>\n",
       "      <td>1</td>\n",
       "      <td>1.0</td>\n",
       "      <td>0.0</td>\n",
       "      <td>0.0</td>\n",
       "      <td>11</td>\n",
       "      <td>1</td>\n",
       "    </tr>\n",
       "  </tbody>\n",
       "</table>\n",
       "<p>5 rows × 34 columns</p>\n",
       "</div>"
      ],
      "text/plain": [
       "    age  gender  city  asbestos exposure  type of MM  \\\n",
       "0  47.0       1     0                  1         0.0   \n",
       "1  55.0       1     0                  1         0.0   \n",
       "2  29.0       1     1                  1         0.0   \n",
       "3  39.0       1     0                  1         0.0   \n",
       "4  47.0       1     0                  1         0.0   \n",
       "\n",
       "   duration of asbestos exposure  keep side  cytology  duration of symptoms  \\\n",
       "0                           20.0          0         1                  24.0   \n",
       "1                           45.0          0         0                   1.0   \n",
       "2                           23.0          1         0                   1.0   \n",
       "3                           10.0          0         0                   3.0   \n",
       "4                           10.0          1         1                   1.5   \n",
       "\n",
       "   dyspnoea  ...  pleural lactic dehydrogenise  pleural protein  \\\n",
       "0         1  ...                         289.0              0.0   \n",
       "1         1  ...                        7541.0              1.6   \n",
       "2         0  ...                         480.0              0.0   \n",
       "3         0  ...                         459.0              5.0   \n",
       "4         1  ...                         213.0              3.6   \n",
       "\n",
       "   pleural albumin  pleural glucose  dead or not  pleural effusion  \\\n",
       "0             0.00             79.0            1               0.0   \n",
       "1             0.80              6.0            1               1.0   \n",
       "2             0.00             90.0            1               0.0   \n",
       "3             2.80             45.0            1               1.0   \n",
       "4             1.95             53.0            1               1.0   \n",
       "\n",
       "   pleural thickness on tomography  pleural level of acidity (pH)  \\\n",
       "0                              0.0                            0.0   \n",
       "1                              1.0                            1.0   \n",
       "2                              0.0                            0.0   \n",
       "3                              0.0                            0.0   \n",
       "4                              0.0                            0.0   \n",
       "\n",
       "   C-reactive protein (CRP)  class of diagnosis  \n",
       "0                        34                   1  \n",
       "1                        42                   1  \n",
       "2                        43                   2  \n",
       "3                        21                   1  \n",
       "4                        11                   1  \n",
       "\n",
       "[5 rows x 34 columns]"
      ]
     },
     "execution_count": 2,
     "metadata": {},
     "output_type": "execute_result"
    }
   ],
   "source": [
    "df = pd.read_excel(\"mesothelioma_dataset.xlsx\")\n",
    "df = df.drop(columns = [\"diagnosis method\"]) # variable correlee avec la variable explicative donc a enlever (d'apres Valérie)\n",
    "df.head()"
   ]
  },
  {
   "cell_type": "code",
   "execution_count": 3,
   "metadata": {},
   "outputs": [
    {
     "data": {
      "text/plain": [
       "(324, 34)"
      ]
     },
     "execution_count": 3,
     "metadata": {},
     "output_type": "execute_result"
    }
   ],
   "source": [
    "# dimensions\n",
    "df.shape "
   ]
  },
  {
   "cell_type": "code",
   "execution_count": 4,
   "metadata": {},
   "outputs": [
    {
     "data": {
      "text/plain": [
       "11016"
      ]
     },
     "execution_count": 4,
     "metadata": {},
     "output_type": "execute_result"
    }
   ],
   "source": [
    "# nombre total d'éléments\n",
    "df.size"
   ]
  },
  {
   "cell_type": "code",
   "execution_count": 5,
   "metadata": {},
   "outputs": [
    {
     "data": {
      "text/html": [
       "<div>\n",
       "<style scoped>\n",
       "    .dataframe tbody tr th:only-of-type {\n",
       "        vertical-align: middle;\n",
       "    }\n",
       "\n",
       "    .dataframe tbody tr th {\n",
       "        vertical-align: top;\n",
       "    }\n",
       "\n",
       "    .dataframe thead th {\n",
       "        text-align: right;\n",
       "    }\n",
       "</style>\n",
       "<table border=\"1\" class=\"dataframe\">\n",
       "  <thead>\n",
       "    <tr style=\"text-align: right;\">\n",
       "      <th></th>\n",
       "      <th>age</th>\n",
       "      <th>gender</th>\n",
       "      <th>city</th>\n",
       "      <th>asbestos_exposure</th>\n",
       "      <th>type_of_MM</th>\n",
       "      <th>duration_of_asbestos_exposure</th>\n",
       "      <th>keep_side</th>\n",
       "      <th>cytology</th>\n",
       "      <th>duration_of_symptoms</th>\n",
       "      <th>dyspnoea</th>\n",
       "      <th>...</th>\n",
       "      <th>pleural_lactic_dehydrogenise</th>\n",
       "      <th>pleural_protein</th>\n",
       "      <th>pleural_albumin</th>\n",
       "      <th>pleural_glucose</th>\n",
       "      <th>dead_or_not</th>\n",
       "      <th>pleural_effusion</th>\n",
       "      <th>pleural_thickness_on_tomography</th>\n",
       "      <th>pleural_level_of_acidity_(pH)</th>\n",
       "      <th>C-reactive_protein_(CRP)</th>\n",
       "      <th>class_of_diagnosis</th>\n",
       "    </tr>\n",
       "  </thead>\n",
       "  <tbody>\n",
       "    <tr>\n",
       "      <td>0</td>\n",
       "      <td>47.0</td>\n",
       "      <td>1</td>\n",
       "      <td>0</td>\n",
       "      <td>1</td>\n",
       "      <td>0.0</td>\n",
       "      <td>20.0</td>\n",
       "      <td>0</td>\n",
       "      <td>1</td>\n",
       "      <td>24.0</td>\n",
       "      <td>1</td>\n",
       "      <td>...</td>\n",
       "      <td>289.0</td>\n",
       "      <td>0.0</td>\n",
       "      <td>0.00</td>\n",
       "      <td>79.0</td>\n",
       "      <td>1</td>\n",
       "      <td>0.0</td>\n",
       "      <td>0.0</td>\n",
       "      <td>0.0</td>\n",
       "      <td>34</td>\n",
       "      <td>1</td>\n",
       "    </tr>\n",
       "    <tr>\n",
       "      <td>1</td>\n",
       "      <td>55.0</td>\n",
       "      <td>1</td>\n",
       "      <td>0</td>\n",
       "      <td>1</td>\n",
       "      <td>0.0</td>\n",
       "      <td>45.0</td>\n",
       "      <td>0</td>\n",
       "      <td>0</td>\n",
       "      <td>1.0</td>\n",
       "      <td>1</td>\n",
       "      <td>...</td>\n",
       "      <td>7541.0</td>\n",
       "      <td>1.6</td>\n",
       "      <td>0.80</td>\n",
       "      <td>6.0</td>\n",
       "      <td>1</td>\n",
       "      <td>1.0</td>\n",
       "      <td>1.0</td>\n",
       "      <td>1.0</td>\n",
       "      <td>42</td>\n",
       "      <td>1</td>\n",
       "    </tr>\n",
       "    <tr>\n",
       "      <td>2</td>\n",
       "      <td>29.0</td>\n",
       "      <td>1</td>\n",
       "      <td>1</td>\n",
       "      <td>1</td>\n",
       "      <td>0.0</td>\n",
       "      <td>23.0</td>\n",
       "      <td>1</td>\n",
       "      <td>0</td>\n",
       "      <td>1.0</td>\n",
       "      <td>0</td>\n",
       "      <td>...</td>\n",
       "      <td>480.0</td>\n",
       "      <td>0.0</td>\n",
       "      <td>0.00</td>\n",
       "      <td>90.0</td>\n",
       "      <td>1</td>\n",
       "      <td>0.0</td>\n",
       "      <td>0.0</td>\n",
       "      <td>0.0</td>\n",
       "      <td>43</td>\n",
       "      <td>2</td>\n",
       "    </tr>\n",
       "    <tr>\n",
       "      <td>3</td>\n",
       "      <td>39.0</td>\n",
       "      <td>1</td>\n",
       "      <td>0</td>\n",
       "      <td>1</td>\n",
       "      <td>0.0</td>\n",
       "      <td>10.0</td>\n",
       "      <td>0</td>\n",
       "      <td>0</td>\n",
       "      <td>3.0</td>\n",
       "      <td>0</td>\n",
       "      <td>...</td>\n",
       "      <td>459.0</td>\n",
       "      <td>5.0</td>\n",
       "      <td>2.80</td>\n",
       "      <td>45.0</td>\n",
       "      <td>1</td>\n",
       "      <td>1.0</td>\n",
       "      <td>0.0</td>\n",
       "      <td>0.0</td>\n",
       "      <td>21</td>\n",
       "      <td>1</td>\n",
       "    </tr>\n",
       "    <tr>\n",
       "      <td>4</td>\n",
       "      <td>47.0</td>\n",
       "      <td>1</td>\n",
       "      <td>0</td>\n",
       "      <td>1</td>\n",
       "      <td>0.0</td>\n",
       "      <td>10.0</td>\n",
       "      <td>1</td>\n",
       "      <td>1</td>\n",
       "      <td>1.5</td>\n",
       "      <td>1</td>\n",
       "      <td>...</td>\n",
       "      <td>213.0</td>\n",
       "      <td>3.6</td>\n",
       "      <td>1.95</td>\n",
       "      <td>53.0</td>\n",
       "      <td>1</td>\n",
       "      <td>1.0</td>\n",
       "      <td>0.0</td>\n",
       "      <td>0.0</td>\n",
       "      <td>11</td>\n",
       "      <td>1</td>\n",
       "    </tr>\n",
       "  </tbody>\n",
       "</table>\n",
       "<p>5 rows × 34 columns</p>\n",
       "</div>"
      ],
      "text/plain": [
       "    age  gender  city  asbestos_exposure  type_of_MM  \\\n",
       "0  47.0       1     0                  1         0.0   \n",
       "1  55.0       1     0                  1         0.0   \n",
       "2  29.0       1     1                  1         0.0   \n",
       "3  39.0       1     0                  1         0.0   \n",
       "4  47.0       1     0                  1         0.0   \n",
       "\n",
       "   duration_of_asbestos_exposure  keep_side  cytology  duration_of_symptoms  \\\n",
       "0                           20.0          0         1                  24.0   \n",
       "1                           45.0          0         0                   1.0   \n",
       "2                           23.0          1         0                   1.0   \n",
       "3                           10.0          0         0                   3.0   \n",
       "4                           10.0          1         1                   1.5   \n",
       "\n",
       "   dyspnoea  ...  pleural_lactic_dehydrogenise  pleural_protein  \\\n",
       "0         1  ...                         289.0              0.0   \n",
       "1         1  ...                        7541.0              1.6   \n",
       "2         0  ...                         480.0              0.0   \n",
       "3         0  ...                         459.0              5.0   \n",
       "4         1  ...                         213.0              3.6   \n",
       "\n",
       "   pleural_albumin  pleural_glucose  dead_or_not  pleural_effusion  \\\n",
       "0             0.00             79.0            1               0.0   \n",
       "1             0.80              6.0            1               1.0   \n",
       "2             0.00             90.0            1               0.0   \n",
       "3             2.80             45.0            1               1.0   \n",
       "4             1.95             53.0            1               1.0   \n",
       "\n",
       "   pleural_thickness_on_tomography  pleural_level_of_acidity_(pH)  \\\n",
       "0                              0.0                            0.0   \n",
       "1                              1.0                            1.0   \n",
       "2                              0.0                            0.0   \n",
       "3                              0.0                            0.0   \n",
       "4                              0.0                            0.0   \n",
       "\n",
       "   C-reactive_protein_(CRP)  class_of_diagnosis  \n",
       "0                        34                   1  \n",
       "1                        42                   1  \n",
       "2                        43                   2  \n",
       "3                        21                   1  \n",
       "4                        11                   1  \n",
       "\n",
       "[5 rows x 34 columns]"
      ]
     },
     "execution_count": 5,
     "metadata": {},
     "output_type": "execute_result"
    }
   ],
   "source": [
    "# removing blank spaces in column names\n",
    "df.columns = df.columns.str.replace(' ', '_')\n",
    "df.head()"
   ]
  },
  {
   "cell_type": "markdown",
   "metadata": {},
   "source": [
    "Details on: https://www.overleaf.com/2229811927sftxcwqrxthn\n",
    "\n",
    "Résultats recherches en Fr de certaines variables:\n",
    "* **city**: où habite le patient (plus ou moins proche de la ville)\n",
    "* **asbestos exposure**: exposition à l'amiante, un silicate fibreux d’origine naturelle\n",
    "* **cytology**: dépistage par cytologie (= étude des cellules isolées)\n",
    "* **White Blood cell count (WBC)**: quantité de globule blanc\n",
    "* **haemoglobin (HGB)**: 0 ou 1 = anémie ou non??\n",
    "* **platelet count (PLT)**: nombre de plaquettes (thrombocytes) (low platelet concentration is called thrombocytopenia, and is due to either decreased production or increased destruction. Elevated platelet concentration is called thrombocytosis, and is either congenital, reactive (to cytokines), or due to unregulated production)\n",
    "* **sedimentation**:  sedimentation rate = blood test that checks for inflammation in your body (measures how fast red blood cells fall to the bottom of a tube. Inflammation creates proteins that make red blood cells fall more quickly)\n",
    "* **blood lactic dehydrogenise (LDH)**: taux de LDH ou Lactate déshydrogénase (type de protéine aussi appelé enzyme), quand des tissus sont endommagés ou malades, ils relâchent des isoenzymes de LDH dans le sang => le type de LDH rejetté dépend du tissu endommagé\n",
    "* **alkaline phosphatise (ALP)**: enzyme présente dans le sang, si le taux présent est élevé => problème éventuel = foie, hépatite, obstruction des voies biliaires, cirrhose ou problèmes au niveau des os\n",
    "* **total protein**: quantité totale de protéine (albumin+globulin) dans le sang (normal values = 6.0 to 8.3 grams per deciliter)"
   ]
  },
  {
   "cell_type": "code",
   "execution_count": 6,
   "metadata": {},
   "outputs": [
    {
     "data": {
      "text/plain": [
       "age                                 float64\n",
       "gender                                int64\n",
       "city                                  int64\n",
       "asbestos_exposure                     int64\n",
       "type_of_MM                          float64\n",
       "duration_of_asbestos_exposure       float64\n",
       "keep_side                             int64\n",
       "cytology                              int64\n",
       "duration_of_symptoms                float64\n",
       "dyspnoea                              int64\n",
       "ache_on_chest                         int64\n",
       "weakness                              int64\n",
       "habit_of_cigarette                    int64\n",
       "performance_status                    int64\n",
       "white_blood                         float64\n",
       "cell_count_(WBC)                      int64\n",
       "hemoglobin_(HGB)                      int64\n",
       "platelet_count_(PLT)                float64\n",
       "sedimentation                       float64\n",
       "blood_lactic_dehydrogenise_(LDH)    float64\n",
       "alkaline_phosphatise_(ALP)          float64\n",
       "total_protein                       float64\n",
       "albumin                             float64\n",
       "glucose                             float64\n",
       "pleural_lactic_dehydrogenise        float64\n",
       "pleural_protein                     float64\n",
       "pleural_albumin                     float64\n",
       "pleural_glucose                     float64\n",
       "dead_or_not                           int64\n",
       "pleural_effusion                    float64\n",
       "pleural_thickness_on_tomography     float64\n",
       "pleural_level_of_acidity_(pH)       float64\n",
       "C-reactive_protein_(CRP)              int64\n",
       "class_of_diagnosis                    int64\n",
       "dtype: object"
      ]
     },
     "execution_count": 6,
     "metadata": {},
     "output_type": "execute_result"
    }
   ],
   "source": [
    "# column types\n",
    "df.dtypes # some issue with type of categorical/boolean variables"
   ]
  },
  {
   "cell_type": "code",
   "execution_count": 7,
   "metadata": {},
   "outputs": [
    {
     "data": {
      "text/plain": [
       "array([1, 2])"
      ]
     },
     "execution_count": 7,
     "metadata": {},
     "output_type": "execute_result"
    }
   ],
   "source": [
    "df[\"class_of_diagnosis\"].unique() # target variable (boolean)"
   ]
  },
  {
   "cell_type": "code",
   "execution_count": 8,
   "metadata": {},
   "outputs": [],
   "source": [
    "df[\"class_of_diagnosis\"] = df[\"class_of_diagnosis\"].apply(lambda x: 1 if x == 2 else 0)"
   ]
  },
  {
   "cell_type": "code",
   "execution_count": 9,
   "metadata": {},
   "outputs": [
    {
     "data": {
      "text/plain": [
       "array([0, 1, 3, 4, 5, 2, 6, 7, 8])"
      ]
     },
     "execution_count": 9,
     "metadata": {},
     "output_type": "execute_result"
    }
   ],
   "source": [
    "df[\"city\"].unique()"
   ]
  },
  {
   "cell_type": "code",
   "execution_count": 10,
   "metadata": {},
   "outputs": [
    {
     "data": {
      "text/plain": [
       "array([0., 1., 2.])"
      ]
     },
     "execution_count": 10,
     "metadata": {},
     "output_type": "execute_result"
    }
   ],
   "source": [
    "df[\"type_of_MM\"].unique() # float instead of int"
   ]
  },
  {
   "cell_type": "code",
   "execution_count": 11,
   "metadata": {},
   "outputs": [],
   "source": [
    "df[\"type_of_MM\"] = df[\"type_of_MM\"].astype('int')"
   ]
  },
  {
   "cell_type": "code",
   "execution_count": 12,
   "metadata": {},
   "outputs": [
    {
     "data": {
      "text/plain": [
       "array([0., 1.])"
      ]
     },
     "execution_count": 12,
     "metadata": {},
     "output_type": "execute_result"
    }
   ],
   "source": [
    "df[\"pleural_level_of_acidity_(pH)\"].unique() # same"
   ]
  },
  {
   "cell_type": "code",
   "execution_count": 13,
   "metadata": {},
   "outputs": [],
   "source": [
    "df[\"pleural_level_of_acidity_(pH)\"] = df[\"pleural_level_of_acidity_(pH)\"].astype('int')"
   ]
  },
  {
   "cell_type": "code",
   "execution_count": 14,
   "metadata": {},
   "outputs": [
    {
     "data": {
      "text/plain": [
       "array([0, 1, 2])"
      ]
     },
     "execution_count": 14,
     "metadata": {},
     "output_type": "execute_result"
    }
   ],
   "source": [
    "df[\"keep_side\"].unique() # keep_side is lung_side in another paper using the same data"
   ]
  },
  {
   "cell_type": "code",
   "execution_count": 15,
   "metadata": {},
   "outputs": [
    {
     "data": {
      "text/plain": [
       "0      0\n",
       "1      0\n",
       "2      1\n",
       "3      0\n",
       "4      1\n",
       "      ..\n",
       "319    1\n",
       "320    1\n",
       "321    0\n",
       "322    1\n",
       "323    1\n",
       "Name: lung_side, Length: 324, dtype: int64"
      ]
     },
     "execution_count": 15,
     "metadata": {},
     "output_type": "execute_result"
    }
   ],
   "source": [
    "df = df.rename(columns={'keep_side':'lung_side'}) # changing name\n",
    "df.lung_side # 0 = no pleural plaque (1 or 2 = right or left side of the lung)"
   ]
  },
  {
   "cell_type": "code",
   "execution_count": 16,
   "metadata": {},
   "outputs": [
    {
     "data": {
      "text/plain": [
       "array([1, 0])"
      ]
     },
     "execution_count": 16,
     "metadata": {},
     "output_type": "execute_result"
    }
   ],
   "source": [
    "df[\"cytology\"].unique() # boolean"
   ]
  },
  {
   "cell_type": "code",
   "execution_count": 17,
   "metadata": {},
   "outputs": [
    {
     "data": {
      "text/plain": [
       "array([1, 0])"
      ]
     },
     "execution_count": 17,
     "metadata": {},
     "output_type": "execute_result"
    }
   ],
   "source": [
    "df[\"gender\"].unique() # category"
   ]
  },
  {
   "cell_type": "code",
   "execution_count": 18,
   "metadata": {},
   "outputs": [
    {
     "data": {
      "text/plain": [
       "array([2, 3, 0, 1])"
      ]
     },
     "execution_count": 18,
     "metadata": {},
     "output_type": "execute_result"
    }
   ],
   "source": [
    "df[\"habit_of_cigarette\"].unique() # categoryy"
   ]
  },
  {
   "cell_type": "code",
   "execution_count": 19,
   "metadata": {},
   "outputs": [
    {
     "data": {
      "text/plain": [
       "array([0., 1.])"
      ]
     },
     "execution_count": 19,
     "metadata": {},
     "output_type": "execute_result"
    }
   ],
   "source": [
    "df[\"pleural_effusion\"].unique() # boolean (need to be converted in int type)"
   ]
  },
  {
   "cell_type": "code",
   "execution_count": 20,
   "metadata": {},
   "outputs": [],
   "source": [
    "df[\"pleural_effusion\"] = df[\"pleural_effusion\"].astype('int')"
   ]
  },
  {
   "cell_type": "code",
   "execution_count": 21,
   "metadata": {},
   "outputs": [
    {
     "data": {
      "text/plain": [
       "array([0., 1.])"
      ]
     },
     "execution_count": 21,
     "metadata": {},
     "output_type": "execute_result"
    }
   ],
   "source": [
    "df[\"pleural_thickness_on_tomography\"].unique() # boolean (need to be converted in int type)"
   ]
  },
  {
   "cell_type": "code",
   "execution_count": 22,
   "metadata": {},
   "outputs": [],
   "source": [
    "df[\"pleural_thickness_on_tomography\"] = df[\"pleural_thickness_on_tomography\"].astype('int')"
   ]
  },
  {
   "cell_type": "code",
   "execution_count": 23,
   "metadata": {},
   "outputs": [
    {
     "data": {
      "text/plain": [
       "array([1, 0])"
      ]
     },
     "execution_count": 23,
     "metadata": {},
     "output_type": "execute_result"
    }
   ],
   "source": [
    "df[\"hemoglobin_(HGB)\"].unique() # boolean"
   ]
  },
  {
   "cell_type": "code",
   "execution_count": 24,
   "metadata": {},
   "outputs": [
    {
     "data": {
      "text/plain": [
       "array([1, 0])"
      ]
     },
     "execution_count": 24,
     "metadata": {},
     "output_type": "execute_result"
    }
   ],
   "source": [
    "df[\"performance_status\"].unique() # boolean"
   ]
  },
  {
   "cell_type": "code",
   "execution_count": 25,
   "metadata": {},
   "outputs": [
    {
     "data": {
      "text/plain": [
       "array([0, 1])"
      ]
     },
     "execution_count": 25,
     "metadata": {},
     "output_type": "execute_result"
    }
   ],
   "source": [
    "df[\"weakness\"].unique() # boolean"
   ]
  },
  {
   "cell_type": "code",
   "execution_count": 26,
   "metadata": {},
   "outputs": [
    {
     "data": {
      "text/plain": [
       "array([1, 0])"
      ]
     },
     "execution_count": 26,
     "metadata": {},
     "output_type": "execute_result"
    }
   ],
   "source": [
    "df[\"ache_on_chest\"].unique() # boolean"
   ]
  },
  {
   "cell_type": "code",
   "execution_count": 27,
   "metadata": {},
   "outputs": [
    {
     "data": {
      "text/plain": [
       "array([1, 0])"
      ]
     },
     "execution_count": 27,
     "metadata": {},
     "output_type": "execute_result"
    }
   ],
   "source": [
    "df[\"dyspnoea\"].unique() # boolean"
   ]
  },
  {
   "cell_type": "code",
   "execution_count": 28,
   "metadata": {},
   "outputs": [
    {
     "data": {
      "text/plain": [
       "array([1, 0])"
      ]
     },
     "execution_count": 28,
     "metadata": {},
     "output_type": "execute_result"
    }
   ],
   "source": [
    "df[\"asbestos_exposure\"].unique() # boolean"
   ]
  },
  {
   "cell_type": "code",
   "execution_count": 29,
   "metadata": {},
   "outputs": [
    {
     "name": "stdout",
     "output_type": "stream",
     "text": [
      "<class 'pandas.core.frame.DataFrame'>\n",
      "RangeIndex: 324 entries, 0 to 323\n",
      "Data columns (total 34 columns):\n",
      "age                                 324 non-null float64\n",
      "gender                              324 non-null int64\n",
      "city                                324 non-null int64\n",
      "asbestos_exposure                   324 non-null int64\n",
      "type_of_MM                          324 non-null int64\n",
      "duration_of_asbestos_exposure       324 non-null float64\n",
      "lung_side                           324 non-null int64\n",
      "cytology                            324 non-null int64\n",
      "duration_of_symptoms                324 non-null float64\n",
      "dyspnoea                            324 non-null int64\n",
      "ache_on_chest                       324 non-null int64\n",
      "weakness                            324 non-null int64\n",
      "habit_of_cigarette                  324 non-null int64\n",
      "performance_status                  324 non-null int64\n",
      "white_blood                         324 non-null float64\n",
      "cell_count_(WBC)                    324 non-null int64\n",
      "hemoglobin_(HGB)                    324 non-null int64\n",
      "platelet_count_(PLT)                324 non-null float64\n",
      "sedimentation                       324 non-null float64\n",
      "blood_lactic_dehydrogenise_(LDH)    324 non-null float64\n",
      "alkaline_phosphatise_(ALP)          324 non-null float64\n",
      "total_protein                       324 non-null float64\n",
      "albumin                             324 non-null float64\n",
      "glucose                             324 non-null float64\n",
      "pleural_lactic_dehydrogenise        324 non-null float64\n",
      "pleural_protein                     324 non-null float64\n",
      "pleural_albumin                     324 non-null float64\n",
      "pleural_glucose                     324 non-null float64\n",
      "dead_or_not                         324 non-null int64\n",
      "pleural_effusion                    324 non-null int64\n",
      "pleural_thickness_on_tomography     324 non-null int64\n",
      "pleural_level_of_acidity_(pH)       324 non-null int64\n",
      "C-reactive_protein_(CRP)            324 non-null int64\n",
      "class_of_diagnosis                  324 non-null int64\n",
      "dtypes: float64(15), int64(19)\n",
      "memory usage: 86.2 KB\n"
     ]
    }
   ],
   "source": [
    "df.info() # no NA"
   ]
  },
  {
   "cell_type": "code",
   "execution_count": 30,
   "metadata": {},
   "outputs": [
    {
     "data": {
      "text/html": [
       "<div>\n",
       "<style scoped>\n",
       "    .dataframe tbody tr th:only-of-type {\n",
       "        vertical-align: middle;\n",
       "    }\n",
       "\n",
       "    .dataframe tbody tr th {\n",
       "        vertical-align: top;\n",
       "    }\n",
       "\n",
       "    .dataframe thead th {\n",
       "        text-align: right;\n",
       "    }\n",
       "</style>\n",
       "<table border=\"1\" class=\"dataframe\">\n",
       "  <thead>\n",
       "    <tr style=\"text-align: right;\">\n",
       "      <th></th>\n",
       "      <th>age</th>\n",
       "      <th>gender</th>\n",
       "      <th>city</th>\n",
       "      <th>asbestos_exposure</th>\n",
       "      <th>type_of_MM</th>\n",
       "      <th>duration_of_asbestos_exposure</th>\n",
       "      <th>lung_side</th>\n",
       "      <th>cytology</th>\n",
       "      <th>duration_of_symptoms</th>\n",
       "      <th>dyspnoea</th>\n",
       "      <th>...</th>\n",
       "      <th>pleural_lactic_dehydrogenise</th>\n",
       "      <th>pleural_protein</th>\n",
       "      <th>pleural_albumin</th>\n",
       "      <th>pleural_glucose</th>\n",
       "      <th>dead_or_not</th>\n",
       "      <th>pleural_effusion</th>\n",
       "      <th>pleural_thickness_on_tomography</th>\n",
       "      <th>pleural_level_of_acidity_(pH)</th>\n",
       "      <th>C-reactive_protein_(CRP)</th>\n",
       "      <th>class_of_diagnosis</th>\n",
       "    </tr>\n",
       "  </thead>\n",
       "  <tbody>\n",
       "    <tr>\n",
       "      <td>count</td>\n",
       "      <td>324.000000</td>\n",
       "      <td>324.000000</td>\n",
       "      <td>324.000000</td>\n",
       "      <td>324.000000</td>\n",
       "      <td>324.000000</td>\n",
       "      <td>324.000000</td>\n",
       "      <td>324.000000</td>\n",
       "      <td>324.000000</td>\n",
       "      <td>324.000000</td>\n",
       "      <td>324.000000</td>\n",
       "      <td>...</td>\n",
       "      <td>324.000000</td>\n",
       "      <td>324.000000</td>\n",
       "      <td>324.000000</td>\n",
       "      <td>324.000000</td>\n",
       "      <td>324.000000</td>\n",
       "      <td>324.000000</td>\n",
       "      <td>324.000000</td>\n",
       "      <td>324.000000</td>\n",
       "      <td>324.000000</td>\n",
       "      <td>324.000000</td>\n",
       "    </tr>\n",
       "    <tr>\n",
       "      <td>mean</td>\n",
       "      <td>54.743827</td>\n",
       "      <td>0.586420</td>\n",
       "      <td>2.530864</td>\n",
       "      <td>0.864198</td>\n",
       "      <td>0.052469</td>\n",
       "      <td>30.188272</td>\n",
       "      <td>0.759259</td>\n",
       "      <td>0.280864</td>\n",
       "      <td>5.442901</td>\n",
       "      <td>0.817901</td>\n",
       "      <td>...</td>\n",
       "      <td>518.472222</td>\n",
       "      <td>3.937562</td>\n",
       "      <td>2.076883</td>\n",
       "      <td>48.444444</td>\n",
       "      <td>0.944444</td>\n",
       "      <td>0.870370</td>\n",
       "      <td>0.595679</td>\n",
       "      <td>0.521605</td>\n",
       "      <td>64.188272</td>\n",
       "      <td>0.296296</td>\n",
       "    </tr>\n",
       "    <tr>\n",
       "      <td>std</td>\n",
       "      <td>11.002637</td>\n",
       "      <td>0.493237</td>\n",
       "      <td>2.429623</td>\n",
       "      <td>0.343109</td>\n",
       "      <td>0.261622</td>\n",
       "      <td>16.419945</td>\n",
       "      <td>0.565308</td>\n",
       "      <td>0.450116</td>\n",
       "      <td>4.717792</td>\n",
       "      <td>0.386523</td>\n",
       "      <td>...</td>\n",
       "      <td>536.279128</td>\n",
       "      <td>1.575008</td>\n",
       "      <td>0.915411</td>\n",
       "      <td>27.232516</td>\n",
       "      <td>0.229416</td>\n",
       "      <td>0.336415</td>\n",
       "      <td>0.491519</td>\n",
       "      <td>0.500306</td>\n",
       "      <td>22.661837</td>\n",
       "      <td>0.457330</td>\n",
       "    </tr>\n",
       "    <tr>\n",
       "      <td>min</td>\n",
       "      <td>19.000000</td>\n",
       "      <td>0.000000</td>\n",
       "      <td>0.000000</td>\n",
       "      <td>0.000000</td>\n",
       "      <td>0.000000</td>\n",
       "      <td>0.000000</td>\n",
       "      <td>0.000000</td>\n",
       "      <td>0.000000</td>\n",
       "      <td>0.500000</td>\n",
       "      <td>0.000000</td>\n",
       "      <td>...</td>\n",
       "      <td>110.000000</td>\n",
       "      <td>0.000000</td>\n",
       "      <td>0.000000</td>\n",
       "      <td>2.000000</td>\n",
       "      <td>0.000000</td>\n",
       "      <td>0.000000</td>\n",
       "      <td>0.000000</td>\n",
       "      <td>0.000000</td>\n",
       "      <td>11.000000</td>\n",
       "      <td>0.000000</td>\n",
       "    </tr>\n",
       "    <tr>\n",
       "      <td>25%</td>\n",
       "      <td>47.000000</td>\n",
       "      <td>0.000000</td>\n",
       "      <td>0.000000</td>\n",
       "      <td>1.000000</td>\n",
       "      <td>0.000000</td>\n",
       "      <td>19.750000</td>\n",
       "      <td>0.000000</td>\n",
       "      <td>0.000000</td>\n",
       "      <td>2.875000</td>\n",
       "      <td>1.000000</td>\n",
       "      <td>...</td>\n",
       "      <td>322.000000</td>\n",
       "      <td>3.400000</td>\n",
       "      <td>1.607500</td>\n",
       "      <td>29.000000</td>\n",
       "      <td>1.000000</td>\n",
       "      <td>1.000000</td>\n",
       "      <td>0.000000</td>\n",
       "      <td>0.000000</td>\n",
       "      <td>42.000000</td>\n",
       "      <td>0.000000</td>\n",
       "    </tr>\n",
       "    <tr>\n",
       "      <td>50%</td>\n",
       "      <td>55.000000</td>\n",
       "      <td>1.000000</td>\n",
       "      <td>2.000000</td>\n",
       "      <td>1.000000</td>\n",
       "      <td>0.000000</td>\n",
       "      <td>34.000000</td>\n",
       "      <td>1.000000</td>\n",
       "      <td>0.000000</td>\n",
       "      <td>5.000000</td>\n",
       "      <td>1.000000</td>\n",
       "      <td>...</td>\n",
       "      <td>510.000000</td>\n",
       "      <td>4.200000</td>\n",
       "      <td>2.200000</td>\n",
       "      <td>38.000000</td>\n",
       "      <td>1.000000</td>\n",
       "      <td>1.000000</td>\n",
       "      <td>1.000000</td>\n",
       "      <td>1.000000</td>\n",
       "      <td>68.000000</td>\n",
       "      <td>0.000000</td>\n",
       "    </tr>\n",
       "    <tr>\n",
       "      <td>75%</td>\n",
       "      <td>63.000000</td>\n",
       "      <td>1.000000</td>\n",
       "      <td>5.000000</td>\n",
       "      <td>1.000000</td>\n",
       "      <td>0.000000</td>\n",
       "      <td>43.000000</td>\n",
       "      <td>1.000000</td>\n",
       "      <td>1.000000</td>\n",
       "      <td>7.000000</td>\n",
       "      <td>1.000000</td>\n",
       "      <td>...</td>\n",
       "      <td>545.000000</td>\n",
       "      <td>4.925000</td>\n",
       "      <td>2.725000</td>\n",
       "      <td>75.000000</td>\n",
       "      <td>1.000000</td>\n",
       "      <td>1.000000</td>\n",
       "      <td>1.000000</td>\n",
       "      <td>1.000000</td>\n",
       "      <td>79.000000</td>\n",
       "      <td>1.000000</td>\n",
       "    </tr>\n",
       "    <tr>\n",
       "      <td>max</td>\n",
       "      <td>85.000000</td>\n",
       "      <td>1.000000</td>\n",
       "      <td>8.000000</td>\n",
       "      <td>1.000000</td>\n",
       "      <td>2.000000</td>\n",
       "      <td>70.000000</td>\n",
       "      <td>2.000000</td>\n",
       "      <td>1.000000</td>\n",
       "      <td>52.000000</td>\n",
       "      <td>1.000000</td>\n",
       "      <td>...</td>\n",
       "      <td>7541.000000</td>\n",
       "      <td>6.700000</td>\n",
       "      <td>4.400000</td>\n",
       "      <td>151.000000</td>\n",
       "      <td>1.000000</td>\n",
       "      <td>1.000000</td>\n",
       "      <td>1.000000</td>\n",
       "      <td>1.000000</td>\n",
       "      <td>103.000000</td>\n",
       "      <td>1.000000</td>\n",
       "    </tr>\n",
       "  </tbody>\n",
       "</table>\n",
       "<p>8 rows × 34 columns</p>\n",
       "</div>"
      ],
      "text/plain": [
       "              age      gender        city  asbestos_exposure  type_of_MM  \\\n",
       "count  324.000000  324.000000  324.000000         324.000000  324.000000   \n",
       "mean    54.743827    0.586420    2.530864           0.864198    0.052469   \n",
       "std     11.002637    0.493237    2.429623           0.343109    0.261622   \n",
       "min     19.000000    0.000000    0.000000           0.000000    0.000000   \n",
       "25%     47.000000    0.000000    0.000000           1.000000    0.000000   \n",
       "50%     55.000000    1.000000    2.000000           1.000000    0.000000   \n",
       "75%     63.000000    1.000000    5.000000           1.000000    0.000000   \n",
       "max     85.000000    1.000000    8.000000           1.000000    2.000000   \n",
       "\n",
       "       duration_of_asbestos_exposure   lung_side    cytology  \\\n",
       "count                     324.000000  324.000000  324.000000   \n",
       "mean                       30.188272    0.759259    0.280864   \n",
       "std                        16.419945    0.565308    0.450116   \n",
       "min                         0.000000    0.000000    0.000000   \n",
       "25%                        19.750000    0.000000    0.000000   \n",
       "50%                        34.000000    1.000000    0.000000   \n",
       "75%                        43.000000    1.000000    1.000000   \n",
       "max                        70.000000    2.000000    1.000000   \n",
       "\n",
       "       duration_of_symptoms    dyspnoea  ...  pleural_lactic_dehydrogenise  \\\n",
       "count            324.000000  324.000000  ...                    324.000000   \n",
       "mean               5.442901    0.817901  ...                    518.472222   \n",
       "std                4.717792    0.386523  ...                    536.279128   \n",
       "min                0.500000    0.000000  ...                    110.000000   \n",
       "25%                2.875000    1.000000  ...                    322.000000   \n",
       "50%                5.000000    1.000000  ...                    510.000000   \n",
       "75%                7.000000    1.000000  ...                    545.000000   \n",
       "max               52.000000    1.000000  ...                   7541.000000   \n",
       "\n",
       "       pleural_protein  pleural_albumin  pleural_glucose  dead_or_not  \\\n",
       "count       324.000000       324.000000       324.000000   324.000000   \n",
       "mean          3.937562         2.076883        48.444444     0.944444   \n",
       "std           1.575008         0.915411        27.232516     0.229416   \n",
       "min           0.000000         0.000000         2.000000     0.000000   \n",
       "25%           3.400000         1.607500        29.000000     1.000000   \n",
       "50%           4.200000         2.200000        38.000000     1.000000   \n",
       "75%           4.925000         2.725000        75.000000     1.000000   \n",
       "max           6.700000         4.400000       151.000000     1.000000   \n",
       "\n",
       "       pleural_effusion  pleural_thickness_on_tomography  \\\n",
       "count        324.000000                       324.000000   \n",
       "mean           0.870370                         0.595679   \n",
       "std            0.336415                         0.491519   \n",
       "min            0.000000                         0.000000   \n",
       "25%            1.000000                         0.000000   \n",
       "50%            1.000000                         1.000000   \n",
       "75%            1.000000                         1.000000   \n",
       "max            1.000000                         1.000000   \n",
       "\n",
       "       pleural_level_of_acidity_(pH)  C-reactive_protein_(CRP)  \\\n",
       "count                     324.000000                324.000000   \n",
       "mean                        0.521605                 64.188272   \n",
       "std                         0.500306                 22.661837   \n",
       "min                         0.000000                 11.000000   \n",
       "25%                         0.000000                 42.000000   \n",
       "50%                         1.000000                 68.000000   \n",
       "75%                         1.000000                 79.000000   \n",
       "max                         1.000000                103.000000   \n",
       "\n",
       "       class_of_diagnosis  \n",
       "count          324.000000  \n",
       "mean             0.296296  \n",
       "std              0.457330  \n",
       "min              0.000000  \n",
       "25%              0.000000  \n",
       "50%              0.000000  \n",
       "75%              1.000000  \n",
       "max              1.000000  \n",
       "\n",
       "[8 rows x 34 columns]"
      ]
     },
     "execution_count": 30,
     "metadata": {},
     "output_type": "execute_result"
    }
   ],
   "source": [
    "df.describe()"
   ]
  },
  {
   "cell_type": "code",
   "execution_count": 31,
   "metadata": {},
   "outputs": [],
   "source": [
    "# changing names of columns with brackets in it\n",
    "df = df.rename(columns={'platelet_count_(PLT)':'platelet_count'}) # changing name\n",
    "df = df.rename(columns={'cell_count_(WBC)':'cell_count'}) # changing name\n",
    "df = df.rename(columns={'hemoglobin_(HGB)':'hemoglobin'}) # changing name\n",
    "df = df.rename(columns={'blood_lactic_dehydrogenise_(LDH)':'blood_lactic_dehydrogenise'}) \n",
    "df = df.rename(columns={'alkaline_phosphatise_(ALP)':'alkaline_phosphatise'}) \n",
    "df = df.rename(columns={'pleural_level_of_acidity_(pH)':'pleural_level_of_acidity'}) \n",
    "df = df.rename(columns={'C-reactive_protein_(CRP)':'C_reactive_protein'}) "
   ]
  },
  {
   "cell_type": "code",
   "execution_count": 32,
   "metadata": {},
   "outputs": [],
   "source": [
    "# converting categorical variables into \"Categorical\" pandas type\n",
    "df[\"city\"] = pd.Categorical(df[\"city\"], ordered=False)\n",
    "df[\"type_of_MM\"] = pd.Categorical(df[\"type_of_MM\"], ordered=False)\n",
    "df[\"lung_side\"] = pd.Categorical(df[\"lung_side\"], ordered=False)\n",
    "df[\"habit_of_cigarette\"] = pd.Categorical(df[\"habit_of_cigarette\"], ordered=False)\n",
    "df[\"gender\"] = pd.Categorical(df[\"gender\"])\n",
    "df[\"performance_status\"] = pd.Categorical(df[\"performance_status\"], ordered=False)"
   ]
  },
  {
   "cell_type": "markdown",
   "metadata": {},
   "source": [
    "## Descriptive stats"
   ]
  },
  {
   "cell_type": "markdown",
   "metadata": {},
   "source": [
    "### Univariate stats"
   ]
  },
  {
   "cell_type": "code",
   "execution_count": 33,
   "metadata": {},
   "outputs": [],
   "source": [
    "# library & dataset\n",
    "import seaborn as sns\n",
    "\n",
    "# style \n",
    "sns.set(style=\"darkgrid\")"
   ]
  },
  {
   "cell_type": "code",
   "execution_count": 34,
   "metadata": {},
   "outputs": [
    {
     "data": {
      "text/plain": [
       "0    310\n",
       "1     11\n",
       "2      3\n",
       "Name: type_of_MM, dtype: int64"
      ]
     },
     "execution_count": 34,
     "metadata": {},
     "output_type": "execute_result"
    }
   ],
   "source": [
    "df[\"type_of_MM\"].value_counts() # more people with 0 as type of MM (which stands for no MM)"
   ]
  },
  {
   "cell_type": "code",
   "execution_count": 35,
   "metadata": {},
   "outputs": [
    {
     "data": {
      "text/plain": [
       "0    228\n",
       "1     96\n",
       "Name: class_of_diagnosis, dtype: int64"
      ]
     },
     "execution_count": 35,
     "metadata": {},
     "output_type": "execute_result"
    }
   ],
   "source": [
    "df[\"class_of_diagnosis\"].value_counts() # 96 non-healthy for 228 healthy"
   ]
  },
  {
   "cell_type": "code",
   "execution_count": 36,
   "metadata": {},
   "outputs": [
    {
     "name": "stdout",
     "output_type": "stream",
     "text": [
      "70.37% healthy and 29.54% non healthy in the dataset\n"
     ]
    }
   ],
   "source": [
    "print(\"{:.2f}% healthy and {:.2f}% non healthy in the dataset\".format(228/(228+96)*100,\n",
    "                                                            96/(229+96)*100))"
   ]
  },
  {
   "cell_type": "code",
   "execution_count": 37,
   "metadata": {},
   "outputs": [],
   "source": [
    "# type_of_MM has information only on 14 out of 96 patients on the type of MM\n",
    "# so we will remove it from the dataset\n",
    "df = df.drop(\"type_of_MM\", axis=1)"
   ]
  },
  {
   "cell_type": "code",
   "execution_count": 38,
   "metadata": {},
   "outputs": [
    {
     "data": {
      "text/plain": [
       "<seaborn.axisgrid.FacetGrid at 0x7fd39df81ed0>"
      ]
     },
     "execution_count": 38,
     "metadata": {},
     "output_type": "execute_result"
    },
    {
     "data": {
      "image/png": "[encoded data removed]",
      "text/plain": [
       "<Figure size 360x360 with 1 Axes>"
      ]
     },
     "metadata": {},
     "output_type": "display_data"
    }
   ],
   "source": [
    "sns.displot(df, x=\"age\")"
   ]
  },
  {
   "cell_type": "code",
   "execution_count": 39,
   "metadata": {},
   "outputs": [
    {
     "data": {
      "text/plain": [
       "<seaborn.axisgrid.FacetGrid at 0x7fd39e260b90>"
      ]
     },
     "execution_count": 39,
     "metadata": {},
     "output_type": "execute_result"
    },
    {
     "data": {
      "image/png": "[encoded data removed]",
      "text/plain": [
       "<Figure size 360x360 with 1 Axes>"
      ]
     },
     "metadata": {},
     "output_type": "display_data"
    }
   ],
   "source": [
    "sns.displot(df, x=\"duration_of_asbestos_exposure\")"
   ]
  },
  {
   "cell_type": "markdown",
   "metadata": {},
   "source": [
    "### Statistiques bivariées"
   ]
  },
  {
   "cell_type": "code",
   "execution_count": 40,
   "metadata": {},
   "outputs": [
    {
     "data": {
      "text/html": [
       "<div>\n",
       "<style scoped>\n",
       "    .dataframe tbody tr th:only-of-type {\n",
       "        vertical-align: middle;\n",
       "    }\n",
       "\n",
       "    .dataframe tbody tr th {\n",
       "        vertical-align: top;\n",
       "    }\n",
       "\n",
       "    .dataframe thead th {\n",
       "        text-align: right;\n",
       "    }\n",
       "</style>\n",
       "<table border=\"1\" class=\"dataframe\">\n",
       "  <thead>\n",
       "    <tr style=\"text-align: right;\">\n",
       "      <th>asbestos_exposure</th>\n",
       "      <th>0</th>\n",
       "      <th>1</th>\n",
       "    </tr>\n",
       "    <tr>\n",
       "      <th>class_of_diagnosis</th>\n",
       "      <th></th>\n",
       "      <th></th>\n",
       "    </tr>\n",
       "  </thead>\n",
       "  <tbody>\n",
       "    <tr>\n",
       "      <td>0</td>\n",
       "      <td>35</td>\n",
       "      <td>193</td>\n",
       "    </tr>\n",
       "    <tr>\n",
       "      <td>1</td>\n",
       "      <td>9</td>\n",
       "      <td>87</td>\n",
       "    </tr>\n",
       "  </tbody>\n",
       "</table>\n",
       "</div>"
      ],
      "text/plain": [
       "asbestos_exposure    0    1\n",
       "class_of_diagnosis         \n",
       "0                   35  193\n",
       "1                    9   87"
      ]
     },
     "execution_count": 40,
     "metadata": {},
     "output_type": "execute_result"
    }
   ],
   "source": [
    "pd.crosstab(df[\"class_of_diagnosis\"], df[\"asbestos_exposure\"]) "
   ]
  },
  {
   "cell_type": "code",
   "execution_count": 41,
   "metadata": {},
   "outputs": [
    {
     "data": {
      "text/html": [
       "<div>\n",
       "<style scoped>\n",
       "    .dataframe tbody tr th:only-of-type {\n",
       "        vertical-align: middle;\n",
       "    }\n",
       "\n",
       "    .dataframe tbody tr th {\n",
       "        vertical-align: top;\n",
       "    }\n",
       "\n",
       "    .dataframe thead th {\n",
       "        text-align: right;\n",
       "    }\n",
       "</style>\n",
       "<table border=\"1\" class=\"dataframe\">\n",
       "  <thead>\n",
       "    <tr style=\"text-align: right;\">\n",
       "      <th>dead_or_not</th>\n",
       "      <th>0</th>\n",
       "      <th>1</th>\n",
       "    </tr>\n",
       "    <tr>\n",
       "      <th>class_of_diagnosis</th>\n",
       "      <th></th>\n",
       "      <th></th>\n",
       "    </tr>\n",
       "  </thead>\n",
       "  <tbody>\n",
       "    <tr>\n",
       "      <td>0</td>\n",
       "      <td>14</td>\n",
       "      <td>214</td>\n",
       "    </tr>\n",
       "    <tr>\n",
       "      <td>1</td>\n",
       "      <td>4</td>\n",
       "      <td>92</td>\n",
       "    </tr>\n",
       "  </tbody>\n",
       "</table>\n",
       "</div>"
      ],
      "text/plain": [
       "dead_or_not          0    1\n",
       "class_of_diagnosis         \n",
       "0                   14  214\n",
       "1                    4   92"
      ]
     },
     "execution_count": 41,
     "metadata": {},
     "output_type": "execute_result"
    }
   ],
   "source": [
    "pd.crosstab(df[\"class_of_diagnosis\"], df[\"dead_or_not\"]) # more healthy (diagnosis=1) that die than not healthy, strange"
   ]
  },
  {
   "cell_type": "markdown",
   "metadata": {},
   "source": [
    "### Graphic representations"
   ]
  },
  {
   "cell_type": "code",
   "execution_count": 42,
   "metadata": {},
   "outputs": [
    {
     "name": "stderr",
     "output_type": "stream",
     "text": [
      "'c' argument looks like a single numeric RGB or RGBA sequence, which should be avoided as value-mapping will have precedence in case its length matches with 'x' & 'y'.  Please use a 2-D array with a single row if you really want to specify the same RGB or RGBA value for all points.\n"
     ]
    },
    {
     "data": {
      "text/plain": [
       "<matplotlib.axes._subplots.AxesSubplot at 0x7fd39cfc9c90>"
      ]
     },
     "execution_count": 42,
     "metadata": {},
     "output_type": "execute_result"
    },
    {
     "data": {
      "image/png": "[encoded data removed]",
      "text/plain": [
       "<Figure size 432x288 with 1 Axes>"
      ]
     },
     "metadata": {},
     "output_type": "display_data"
    }
   ],
   "source": [
    "var = df[df[\"asbestos_exposure\"] == 1]\n",
    "\n",
    "var.plot.scatter(title=\"Age given duration of asbestos exposure\",\n",
    "         x=\"age\",\n",
    "         y=\"duration_of_asbestos_exposure\")"
   ]
  },
  {
   "cell_type": "code",
   "execution_count": 43,
   "metadata": {},
   "outputs": [
    {
     "data": {
      "text/html": [
       "<div>\n",
       "<style scoped>\n",
       "    .dataframe tbody tr th:only-of-type {\n",
       "        vertical-align: middle;\n",
       "    }\n",
       "\n",
       "    .dataframe tbody tr th {\n",
       "        vertical-align: top;\n",
       "    }\n",
       "\n",
       "    .dataframe thead th {\n",
       "        text-align: right;\n",
       "    }\n",
       "</style>\n",
       "<table border=\"1\" class=\"dataframe\">\n",
       "  <thead>\n",
       "    <tr style=\"text-align: right;\">\n",
       "      <th></th>\n",
       "      <th>age</th>\n",
       "      <th>asbestos_exposure</th>\n",
       "      <th>duration_of_asbestos_exposure</th>\n",
       "      <th>cytology</th>\n",
       "      <th>duration_of_symptoms</th>\n",
       "      <th>dyspnoea</th>\n",
       "      <th>ache_on_chest</th>\n",
       "      <th>weakness</th>\n",
       "      <th>white_blood</th>\n",
       "      <th>cell_count</th>\n",
       "      <th>...</th>\n",
       "      <th>city_8</th>\n",
       "      <th>lung_side_0</th>\n",
       "      <th>lung_side_1</th>\n",
       "      <th>lung_side_2</th>\n",
       "      <th>habit_of_cigarette_0</th>\n",
       "      <th>habit_of_cigarette_1</th>\n",
       "      <th>habit_of_cigarette_2</th>\n",
       "      <th>habit_of_cigarette_3</th>\n",
       "      <th>performance_status_0</th>\n",
       "      <th>performance_status_1</th>\n",
       "    </tr>\n",
       "  </thead>\n",
       "  <tbody>\n",
       "    <tr>\n",
       "      <td>0</td>\n",
       "      <td>47.0</td>\n",
       "      <td>1</td>\n",
       "      <td>20.0</td>\n",
       "      <td>1</td>\n",
       "      <td>24.0</td>\n",
       "      <td>1</td>\n",
       "      <td>1</td>\n",
       "      <td>0</td>\n",
       "      <td>8050.0</td>\n",
       "      <td>9</td>\n",
       "      <td>...</td>\n",
       "      <td>0</td>\n",
       "      <td>1</td>\n",
       "      <td>0</td>\n",
       "      <td>0</td>\n",
       "      <td>0</td>\n",
       "      <td>0</td>\n",
       "      <td>1</td>\n",
       "      <td>0</td>\n",
       "      <td>0</td>\n",
       "      <td>1</td>\n",
       "    </tr>\n",
       "    <tr>\n",
       "      <td>1</td>\n",
       "      <td>55.0</td>\n",
       "      <td>1</td>\n",
       "      <td>45.0</td>\n",
       "      <td>0</td>\n",
       "      <td>1.0</td>\n",
       "      <td>1</td>\n",
       "      <td>1</td>\n",
       "      <td>1</td>\n",
       "      <td>11200.0</td>\n",
       "      <td>7</td>\n",
       "      <td>...</td>\n",
       "      <td>0</td>\n",
       "      <td>1</td>\n",
       "      <td>0</td>\n",
       "      <td>0</td>\n",
       "      <td>0</td>\n",
       "      <td>0</td>\n",
       "      <td>0</td>\n",
       "      <td>1</td>\n",
       "      <td>1</td>\n",
       "      <td>0</td>\n",
       "    </tr>\n",
       "    <tr>\n",
       "      <td>2</td>\n",
       "      <td>29.0</td>\n",
       "      <td>1</td>\n",
       "      <td>23.0</td>\n",
       "      <td>0</td>\n",
       "      <td>1.0</td>\n",
       "      <td>0</td>\n",
       "      <td>0</td>\n",
       "      <td>0</td>\n",
       "      <td>5300.0</td>\n",
       "      <td>12</td>\n",
       "      <td>...</td>\n",
       "      <td>0</td>\n",
       "      <td>0</td>\n",
       "      <td>1</td>\n",
       "      <td>0</td>\n",
       "      <td>0</td>\n",
       "      <td>0</td>\n",
       "      <td>1</td>\n",
       "      <td>0</td>\n",
       "      <td>0</td>\n",
       "      <td>1</td>\n",
       "    </tr>\n",
       "    <tr>\n",
       "      <td>3</td>\n",
       "      <td>39.0</td>\n",
       "      <td>1</td>\n",
       "      <td>10.0</td>\n",
       "      <td>0</td>\n",
       "      <td>3.0</td>\n",
       "      <td>0</td>\n",
       "      <td>1</td>\n",
       "      <td>1</td>\n",
       "      <td>7910.0</td>\n",
       "      <td>14</td>\n",
       "      <td>...</td>\n",
       "      <td>0</td>\n",
       "      <td>1</td>\n",
       "      <td>0</td>\n",
       "      <td>0</td>\n",
       "      <td>1</td>\n",
       "      <td>0</td>\n",
       "      <td>0</td>\n",
       "      <td>0</td>\n",
       "      <td>0</td>\n",
       "      <td>1</td>\n",
       "    </tr>\n",
       "    <tr>\n",
       "      <td>4</td>\n",
       "      <td>47.0</td>\n",
       "      <td>1</td>\n",
       "      <td>10.0</td>\n",
       "      <td>1</td>\n",
       "      <td>1.5</td>\n",
       "      <td>1</td>\n",
       "      <td>1</td>\n",
       "      <td>0</td>\n",
       "      <td>9120.0</td>\n",
       "      <td>4</td>\n",
       "      <td>...</td>\n",
       "      <td>0</td>\n",
       "      <td>0</td>\n",
       "      <td>1</td>\n",
       "      <td>0</td>\n",
       "      <td>0</td>\n",
       "      <td>0</td>\n",
       "      <td>0</td>\n",
       "      <td>1</td>\n",
       "      <td>0</td>\n",
       "      <td>1</td>\n",
       "    </tr>\n",
       "  </tbody>\n",
       "</table>\n",
       "<p>5 rows × 47 columns</p>\n",
       "</div>"
      ],
      "text/plain": [
       "    age  asbestos_exposure  duration_of_asbestos_exposure  cytology  \\\n",
       "0  47.0                  1                           20.0         1   \n",
       "1  55.0                  1                           45.0         0   \n",
       "2  29.0                  1                           23.0         0   \n",
       "3  39.0                  1                           10.0         0   \n",
       "4  47.0                  1                           10.0         1   \n",
       "\n",
       "   duration_of_symptoms  dyspnoea  ache_on_chest  weakness  white_blood  \\\n",
       "0                  24.0         1              1         0       8050.0   \n",
       "1                   1.0         1              1         1      11200.0   \n",
       "2                   1.0         0              0         0       5300.0   \n",
       "3                   3.0         0              1         1       7910.0   \n",
       "4                   1.5         1              1         0       9120.0   \n",
       "\n",
       "   cell_count  ...  city_8  lung_side_0  lung_side_1  lung_side_2  \\\n",
       "0           9  ...       0            1            0            0   \n",
       "1           7  ...       0            1            0            0   \n",
       "2          12  ...       0            0            1            0   \n",
       "3          14  ...       0            1            0            0   \n",
       "4           4  ...       0            0            1            0   \n",
       "\n",
       "   habit_of_cigarette_0  habit_of_cigarette_1  habit_of_cigarette_2  \\\n",
       "0                     0                     0                     1   \n",
       "1                     0                     0                     0   \n",
       "2                     0                     0                     1   \n",
       "3                     1                     0                     0   \n",
       "4                     0                     0                     0   \n",
       "\n",
       "   habit_of_cigarette_3  performance_status_0  performance_status_1  \n",
       "0                     0                     0                     1  \n",
       "1                     1                     1                     0  \n",
       "2                     0                     0                     1  \n",
       "3                     0                     0                     1  \n",
       "4                     1                     0                     1  \n",
       "\n",
       "[5 rows x 47 columns]"
      ]
     },
     "execution_count": 43,
     "metadata": {},
     "output_type": "execute_result"
    }
   ],
   "source": [
    "# dataframe with dummys\n",
    "dc = pd.DataFrame(pd.get_dummies(df.drop('class_of_diagnosis', axis=1)))\n",
    "dc.head()"
   ]
  },
  {
   "cell_type": "markdown",
   "metadata": {},
   "source": [
    "### Correlation matrix"
   ]
  },
  {
   "cell_type": "code",
   "execution_count": 44,
   "metadata": {},
   "outputs": [
    {
     "data": {
      "image/png": "[encoded data removed]",
      "text/plain": [
       "<Figure size 1440x1440 with 2 Axes>"
      ]
     },
     "metadata": {},
     "output_type": "display_data"
    }
   ],
   "source": [
    "import seaborn as sns\n",
    "\n",
    "corrMatrix = df.select_dtypes(include='number').corr()\n",
    "\n",
    "plt.rcParams['figure.figsize'] = [20, 20]\n",
    "sns.heatmap(corrMatrix)\n",
    "plt.show() "
   ]
  },
  {
   "cell_type": "markdown",
   "metadata": {},
   "source": [
    "### Cramer's V"
   ]
  },
  {
   "cell_type": "markdown",
   "metadata": {},
   "source": [
    "Measure of association between two nominal variables. Gives a value between 0 (no association) and +1. It is based on Pearson's chi-squared statistic."
   ]
  },
  {
   "cell_type": "code",
   "execution_count": 46,
   "metadata": {},
   "outputs": [
    {
     "data": {
      "image/png": "[encoded data removed]",
      "text/plain": [
       "<Figure size 1080x720 with 2 Axes>"
      ]
     },
     "metadata": {},
     "output_type": "display_data"
    }
   ],
   "source": [
    "#corrMatrixD = df.select_dtypes(exclude='number').astype('int').apply(lambda x : pd.factorize(x)[0]).corr(method='pearson', min_periods=1) # use of pd.factorize\n",
    "# above done directly with Pearson, code's coming from: https://stackoverflow.com/questions/48035381/correlation-among-multiple-categorical-variables-pandas\n",
    "# => gives almost same results\n",
    "\n",
    "from scipy.stats import chi2_contingency\n",
    "import numpy as np\n",
    "\n",
    "# def fonction calculant le V de Cramer\n",
    "def cramers_V(var1,var2) :\n",
    "  crosstab = np.array(pd.crosstab(var1,var2, rownames = None, colnames = None)) # Cross table building\n",
    "  stat = chi2_contingency(crosstab)[0] # Keeping of the test statistic of the Chi2 test\n",
    "  obs = np.sum(crosstab) # Number of observations\n",
    "  mini = min(crosstab.shape)-1 # Take the minimum value between the columns and the rows of the cross table\n",
    "  return (stat/(obs*mini))\n",
    "\n",
    "rows= []\n",
    "\n",
    "# selection uniquement des var de type categorielle\n",
    "dfCat = df.select_dtypes(exclude='number')\n",
    "for var1 in dfCat:\n",
    "  col = []\n",
    "  for var2 in dfCat :\n",
    "    cramers = cramers_V(dfCat[var1], dfCat[var2]) # Cramer's V test\n",
    "    col.append(round(cramers,2)) # Keeping of the rounded value of the Cramer's V  \n",
    "  rows.append(col)\n",
    "  \n",
    "cramers_results = np.array(rows)\n",
    "corrMatrixD = pd.DataFrame(cramers_results, columns = dfCat.columns, index = dfCat.columns)\n",
    "\n",
    "plt.rcParams['figure.figsize'] = [15, 10]\n",
    "sns.heatmap(corrMatrixD, annot=True)\n",
    "plt.show()"
   ]
  },
  {
   "cell_type": "markdown",
   "metadata": {},
   "source": [
    "### Cramer's between Y and categorical variables"
   ]
  },
  {
   "cell_type": "code",
   "execution_count": 49,
   "metadata": {},
   "outputs": [
    {
     "data": {
      "image/png": "[encoded data removed]",
      "text/plain": [
       "<Figure size 144x360 with 2 Axes>"
      ]
     },
     "metadata": {},
     "output_type": "display_data"
    }
   ],
   "source": [
    "# table with cat var and class_of_diagnosis\n",
    "dfYcat = pd.concat([df.select_dtypes(exclude='number'), df[\"class_of_diagnosis\"]], axis = 1)\n",
    "rows = []\n",
    "\n",
    "for var in dfYcat:\n",
    "  col = []\n",
    "  cramers = cramers_V(dfYcat[\"class_of_diagnosis\"], dfYcat[var]) # Cramer's V test\n",
    "  col.append(round(cramers,2)) # Keeping of the rounded value of the Cramer's V  \n",
    "  rows.append(col)\n",
    "  \n",
    "cramers_results = np.array(rows)\n",
    "corrMatrixYcat = pd.DataFrame(cramers_results, columns=[\"Diagnosis\"], index=dfYcat.columns)\n",
    "\n",
    "plt.rcParams['figure.figsize'] = [2, 5]\n",
    "sns.heatmap(corrMatrixYcat, annot=True)\n",
    "plt.show()"
   ]
  },
  {
   "cell_type": "markdown",
   "metadata": {},
   "source": [
    "## MCA and PCA analyses"
   ]
  },
  {
   "cell_type": "markdown",
   "metadata": {},
   "source": [
    "### MCA"
   ]
  },
  {
   "cell_type": "code",
   "execution_count": 50,
   "metadata": {},
   "outputs": [
    {
     "name": "stdout",
     "output_type": "stream",
     "text": [
      "0.08132246440349405 0.08033162003957803\n"
     ]
    }
   ],
   "source": [
    "mca_res = MCA(dc, benzecri=False) # disabling benzecri correction \n",
    "print(mca_res.inertia, sum(mca_res.L)) # inertia"
   ]
  },
  {
   "cell_type": "code",
   "execution_count": 51,
   "metadata": {},
   "outputs": [
    {
     "data": {
      "text/html": [
       "<div>\n",
       "<style scoped>\n",
       "    .dataframe tbody tr th:only-of-type {\n",
       "        vertical-align: middle;\n",
       "    }\n",
       "\n",
       "    .dataframe tbody tr th {\n",
       "        vertical-align: top;\n",
       "    }\n",
       "\n",
       "    .dataframe thead th {\n",
       "        text-align: right;\n",
       "    }\n",
       "</style>\n",
       "<table border=\"1\" class=\"dataframe\">\n",
       "  <thead>\n",
       "    <tr style=\"text-align: right;\">\n",
       "      <th></th>\n",
       "      <th>Iλ</th>\n",
       "    </tr>\n",
       "    <tr>\n",
       "      <th>Factor</th>\n",
       "      <th></th>\n",
       "    </tr>\n",
       "  </thead>\n",
       "  <tbody>\n",
       "    <tr>\n",
       "      <td>1</td>\n",
       "      <td>0.046411</td>\n",
       "    </tr>\n",
       "    <tr>\n",
       "      <td>2</td>\n",
       "      <td>0.016525</td>\n",
       "    </tr>\n",
       "    <tr>\n",
       "      <td>3</td>\n",
       "      <td>0.006550</td>\n",
       "    </tr>\n",
       "    <tr>\n",
       "      <td>4</td>\n",
       "      <td>0.004435</td>\n",
       "    </tr>\n",
       "    <tr>\n",
       "      <td>5</td>\n",
       "      <td>0.001393</td>\n",
       "    </tr>\n",
       "  </tbody>\n",
       "</table>\n",
       "</div>"
      ],
      "text/plain": [
       "              Iλ\n",
       "Factor          \n",
       "1       0.046411\n",
       "2       0.016525\n",
       "3       0.006550\n",
       "4       0.004435\n",
       "5       0.001393"
      ]
     },
     "execution_count": 51,
     "metadata": {},
     "output_type": "execute_result"
    }
   ],
   "source": [
    "data = {'Iλ': pd.Series(mca_res.L)}\n",
    "\n",
    "# 'Indicator Matrix', 'Benzecri Correction', 'Greenacre Correction'\n",
    "columns = ['Iλ']\n",
    "table2 = pd.DataFrame(data=data, columns=columns).fillna(0)\n",
    "table2.index += 1\n",
    "table2.loc['Σ'] = table2.sum()\n",
    "table2.index.name = 'Factor'\n",
    "\n",
    "table2.head() # eigen values (very low...)"
   ]
  },
  {
   "cell_type": "markdown",
   "metadata": {},
   "source": [
    "### PCA"
   ]
  },
  {
   "cell_type": "code",
   "execution_count": 52,
   "metadata": {},
   "outputs": [],
   "source": [
    "import numpy as np\n",
    "from sklearn.decomposition import PCA\n",
    "from sklearn import preprocessing"
   ]
  },
  {
   "cell_type": "code",
   "execution_count": 54,
   "metadata": {},
   "outputs": [
    {
     "data": {
      "text/html": [
       "<div>\n",
       "<style scoped>\n",
       "    .dataframe tbody tr th:only-of-type {\n",
       "        vertical-align: middle;\n",
       "    }\n",
       "\n",
       "    .dataframe tbody tr th {\n",
       "        vertical-align: top;\n",
       "    }\n",
       "\n",
       "    .dataframe thead th {\n",
       "        text-align: right;\n",
       "    }\n",
       "</style>\n",
       "<table border=\"1\" class=\"dataframe\">\n",
       "  <thead>\n",
       "    <tr style=\"text-align: right;\">\n",
       "      <th></th>\n",
       "      <th>0</th>\n",
       "      <th>1</th>\n",
       "      <th>2</th>\n",
       "      <th>3</th>\n",
       "      <th>4</th>\n",
       "      <th>5</th>\n",
       "      <th>6</th>\n",
       "      <th>7</th>\n",
       "      <th>8</th>\n",
       "      <th>9</th>\n",
       "      <th>...</th>\n",
       "      <th>18</th>\n",
       "      <th>19</th>\n",
       "      <th>20</th>\n",
       "      <th>21</th>\n",
       "      <th>22</th>\n",
       "      <th>23</th>\n",
       "      <th>24</th>\n",
       "      <th>25</th>\n",
       "      <th>26</th>\n",
       "      <th>27</th>\n",
       "    </tr>\n",
       "  </thead>\n",
       "  <tbody>\n",
       "    <tr>\n",
       "      <td>0</td>\n",
       "      <td>-0.704904</td>\n",
       "      <td>0.396412</td>\n",
       "      <td>-0.621441</td>\n",
       "      <td>1.600137</td>\n",
       "      <td>3.939513</td>\n",
       "      <td>0.471849</td>\n",
       "      <td>0.682688</td>\n",
       "      <td>-1.253566</td>\n",
       "      <td>-0.408502</td>\n",
       "      <td>-0.167178</td>\n",
       "      <td>...</td>\n",
       "      <td>-0.428559</td>\n",
       "      <td>-2.503893</td>\n",
       "      <td>-2.272308</td>\n",
       "      <td>1.123760</td>\n",
       "      <td>0.242536</td>\n",
       "      <td>-2.591194</td>\n",
       "      <td>-1.213788</td>\n",
       "      <td>-1.044185</td>\n",
       "      <td>-1.334180</td>\n",
       "      <td>-0.648886</td>\n",
       "    </tr>\n",
       "    <tr>\n",
       "      <td>1</td>\n",
       "      <td>0.023319</td>\n",
       "      <td>0.396412</td>\n",
       "      <td>0.903452</td>\n",
       "      <td>-0.624946</td>\n",
       "      <td>-0.943190</td>\n",
       "      <td>0.471849</td>\n",
       "      <td>0.682688</td>\n",
       "      <td>0.797724</td>\n",
       "      <td>0.505760</td>\n",
       "      <td>-0.765693</td>\n",
       "      <td>...</td>\n",
       "      <td>13.115167</td>\n",
       "      <td>-1.486454</td>\n",
       "      <td>-1.397032</td>\n",
       "      <td>-1.561005</td>\n",
       "      <td>0.242536</td>\n",
       "      <td>0.385922</td>\n",
       "      <td>0.823867</td>\n",
       "      <td>0.957685</td>\n",
       "      <td>-0.980617</td>\n",
       "      <td>-0.648886</td>\n",
       "    </tr>\n",
       "    <tr>\n",
       "      <td>2</td>\n",
       "      <td>-2.343406</td>\n",
       "      <td>0.396412</td>\n",
       "      <td>-0.438454</td>\n",
       "      <td>-0.624946</td>\n",
       "      <td>-0.943190</td>\n",
       "      <td>-2.119322</td>\n",
       "      <td>-1.464797</td>\n",
       "      <td>-1.253566</td>\n",
       "      <td>-1.206667</td>\n",
       "      <td>0.730595</td>\n",
       "      <td>...</td>\n",
       "      <td>-0.071850</td>\n",
       "      <td>-2.503893</td>\n",
       "      <td>-2.272308</td>\n",
       "      <td>1.528314</td>\n",
       "      <td>0.242536</td>\n",
       "      <td>-2.591194</td>\n",
       "      <td>-1.213788</td>\n",
       "      <td>-1.044185</td>\n",
       "      <td>-0.936422</td>\n",
       "      <td>1.541104</td>\n",
       "    </tr>\n",
       "    <tr>\n",
       "      <td>3</td>\n",
       "      <td>-1.433127</td>\n",
       "      <td>0.396412</td>\n",
       "      <td>-1.231399</td>\n",
       "      <td>-0.624946</td>\n",
       "      <td>-0.518607</td>\n",
       "      <td>-2.119322</td>\n",
       "      <td>0.682688</td>\n",
       "      <td>0.797724</td>\n",
       "      <td>-0.449136</td>\n",
       "      <td>1.329110</td>\n",
       "      <td>...</td>\n",
       "      <td>-0.111069</td>\n",
       "      <td>0.675604</td>\n",
       "      <td>0.791159</td>\n",
       "      <td>-0.126678</td>\n",
       "      <td>0.242536</td>\n",
       "      <td>0.385922</td>\n",
       "      <td>-1.213788</td>\n",
       "      <td>-1.044185</td>\n",
       "      <td>-1.908719</td>\n",
       "      <td>-0.648886</td>\n",
       "    </tr>\n",
       "    <tr>\n",
       "      <td>4</td>\n",
       "      <td>-0.704904</td>\n",
       "      <td>0.396412</td>\n",
       "      <td>-1.231399</td>\n",
       "      <td>1.600137</td>\n",
       "      <td>-0.837044</td>\n",
       "      <td>0.471849</td>\n",
       "      <td>0.682688</td>\n",
       "      <td>-1.253566</td>\n",
       "      <td>-0.097943</td>\n",
       "      <td>-1.663465</td>\n",
       "      <td>...</td>\n",
       "      <td>-0.570495</td>\n",
       "      <td>-0.214655</td>\n",
       "      <td>-0.138822</td>\n",
       "      <td>0.167542</td>\n",
       "      <td>0.242536</td>\n",
       "      <td>0.385922</td>\n",
       "      <td>-1.213788</td>\n",
       "      <td>-1.044185</td>\n",
       "      <td>-2.350672</td>\n",
       "      <td>-0.648886</td>\n",
       "    </tr>\n",
       "  </tbody>\n",
       "</table>\n",
       "<p>5 rows × 28 columns</p>\n",
       "</div>"
      ],
      "text/plain": [
       "         0         1         2         3         4         5         6   \\\n",
       "0 -0.704904  0.396412 -0.621441  1.600137  3.939513  0.471849  0.682688   \n",
       "1  0.023319  0.396412  0.903452 -0.624946 -0.943190  0.471849  0.682688   \n",
       "2 -2.343406  0.396412 -0.438454 -0.624946 -0.943190 -2.119322 -1.464797   \n",
       "3 -1.433127  0.396412 -1.231399 -0.624946 -0.518607 -2.119322  0.682688   \n",
       "4 -0.704904  0.396412 -1.231399  1.600137 -0.837044  0.471849  0.682688   \n",
       "\n",
       "         7         8         9   ...         18        19        20        21  \\\n",
       "0 -1.253566 -0.408502 -0.167178  ...  -0.428559 -2.503893 -2.272308  1.123760   \n",
       "1  0.797724  0.505760 -0.765693  ...  13.115167 -1.486454 -1.397032 -1.561005   \n",
       "2 -1.253566 -1.206667  0.730595  ...  -0.071850 -2.503893 -2.272308  1.528314   \n",
       "3  0.797724 -0.449136  1.329110  ...  -0.111069  0.675604  0.791159 -0.126678   \n",
       "4 -1.253566 -0.097943 -1.663465  ...  -0.570495 -0.214655 -0.138822  0.167542   \n",
       "\n",
       "         22        23        24        25        26        27  \n",
       "0  0.242536 -2.591194 -1.213788 -1.044185 -1.334180 -0.648886  \n",
       "1  0.242536  0.385922  0.823867  0.957685 -0.980617 -0.648886  \n",
       "2  0.242536 -2.591194 -1.213788 -1.044185 -0.936422  1.541104  \n",
       "3  0.242536  0.385922 -1.213788 -1.044185 -1.908719 -0.648886  \n",
       "4  0.242536  0.385922 -1.213788 -1.044185 -2.350672 -0.648886  \n",
       "\n",
       "[5 rows x 28 columns]"
      ]
     },
     "execution_count": 54,
     "metadata": {},
     "output_type": "execute_result"
    }
   ],
   "source": [
    "X = df.select_dtypes(include='number')\n",
    "scaler = preprocessing.StandardScaler().fit(X) # scaler\n",
    "\n",
    "X_scaled = pd.DataFrame(scaler.transform(X)) # scaling X\n",
    "y = df[\"class_of_diagnosis\"]\n",
    "X_scaled.head() "
   ]
  },
  {
   "cell_type": "code",
   "execution_count": 55,
   "metadata": {},
   "outputs": [
    {
     "data": {
      "text/plain": [
       "0.7108491532232614"
      ]
     },
     "execution_count": 55,
     "metadata": {},
     "output_type": "execute_result"
    }
   ],
   "source": [
    "n_components = 13\n",
    "\n",
    "#PCA\n",
    "pca = PCA(n_components=n_components)\n",
    "X_pca = pca.fit_transform(X_scaled)\n",
    "\n",
    "sum(pca.explained_variance_ratio_) # sum of the % of variance explained by earch of the selected components"
   ]
  },
  {
   "cell_type": "code",
   "execution_count": 56,
   "metadata": {},
   "outputs": [
    {
     "data": {
      "image/png": "[encoded data removed]",
      "text/plain": [
       "<Figure size 576x576 with 1 Axes>"
      ]
     },
     "metadata": {},
     "output_type": "display_data"
    }
   ],
   "source": [
    "colors = [\"navy\", \"turquoise\"]#, \"pink\"]\n",
    "\n",
    "plt.figure(figsize=(8, 8))\n",
    "for color, i, target_name in zip(colors, [0, 1], np.array([\"Healthy\", \"Not healthy\"])):\n",
    "    plt.scatter(\n",
    "        X_pca[y == i, 0],\n",
    "        X_pca[y == i, 1],\n",
    "        color=color,\n",
    "        lw=2,\n",
    "        label=target_name,\n",
    "    )\n",
    "\n",
    "plt.title(\"PCA of iris dataset\")\n",
    "plt.legend(loc=\"best\", shadow=False, scatterpoints=1)\n",
    "\n",
    "plt.show() # again: not concluant"
   ]
  },
  {
   "cell_type": "markdown",
   "metadata": {},
   "source": [
    "## Modelling"
   ]
  },
  {
   "cell_type": "code",
   "execution_count": 58,
   "metadata": {},
   "outputs": [],
   "source": [
    "# modelisation modules\n",
    "from sklearn import preprocessing\n",
    "from sklearn import metrics\n",
    "from sklearn.linear_model import LogisticRegression\n",
    "from sklearn.model_selection import train_test_split\n",
    "from sklearn.feature_selection import RFE\n",
    "from sklearn.ensemble import RandomForestClassifier\n",
    "from sklearn.tree import DecisionTreeClassifier\n",
    "from sklearn.neural_network import MLPClassifier\n",
    "from sklearn.preprocessing import StandardScaler  \n",
    "\n",
    "# plot configuration\n",
    "plt.rcParams['figure.figsize'] = [10, 10]"
   ]
  },
  {
   "cell_type": "code",
   "execution_count": 59,
   "metadata": {},
   "outputs": [
    {
     "name": "stdout",
     "output_type": "stream",
     "text": [
      "Index(['age', 'asbestos_exposure', 'duration_of_asbestos_exposure', 'cytology',\n",
      "       'duration_of_symptoms', 'dyspnoea', 'ache_on_chest', 'weakness',\n",
      "       'white_blood', 'cell_count', 'hemoglobin', 'platelet_count',\n",
      "       'sedimentation', 'blood_lactic_dehydrogenise', 'alkaline_phosphatise',\n",
      "       'total_protein', 'albumin', 'glucose', 'pleural_lactic_dehydrogenise',\n",
      "       'pleural_protein', 'pleural_albumin', 'pleural_glucose', 'dead_or_not',\n",
      "       'pleural_effusion', 'pleural_thickness_on_tomography',\n",
      "       'pleural_level_of_acidity', 'C_reactive_protein', 'gender_0',\n",
      "       'gender_1', 'city_0', 'city_1', 'city_2', 'city_3', 'city_4', 'city_5',\n",
      "       'city_6', 'city_7', 'city_8', 'lung_side_0', 'lung_side_1',\n",
      "       'lung_side_2', 'habit_of_cigarette_0', 'habit_of_cigarette_1',\n",
      "       'habit_of_cigarette_2', 'habit_of_cigarette_3', 'performance_status_0',\n",
      "       'performance_status_1'],\n",
      "      dtype='object')\n"
     ]
    }
   ],
   "source": [
    "# variables used for modelisation\n",
    "print(dc.columns) # for now we keep variables in terms of dummys"
   ]
  },
  {
   "cell_type": "code",
   "execution_count": 60,
   "metadata": {},
   "outputs": [
    {
     "data": {
      "text/html": [
       "<div>\n",
       "<style scoped>\n",
       "    .dataframe tbody tr th:only-of-type {\n",
       "        vertical-align: middle;\n",
       "    }\n",
       "\n",
       "    .dataframe tbody tr th {\n",
       "        vertical-align: top;\n",
       "    }\n",
       "\n",
       "    .dataframe thead th {\n",
       "        text-align: right;\n",
       "    }\n",
       "</style>\n",
       "<table border=\"1\" class=\"dataframe\">\n",
       "  <thead>\n",
       "    <tr style=\"text-align: right;\">\n",
       "      <th></th>\n",
       "      <th>age</th>\n",
       "      <th>asbestos_exposure</th>\n",
       "      <th>duration_of_asbestos_exposure</th>\n",
       "      <th>cytology</th>\n",
       "      <th>duration_of_symptoms</th>\n",
       "      <th>dyspnoea</th>\n",
       "      <th>ache_on_chest</th>\n",
       "      <th>weakness</th>\n",
       "      <th>white_blood</th>\n",
       "      <th>cell_count</th>\n",
       "      <th>...</th>\n",
       "      <th>city_8</th>\n",
       "      <th>lung_side_0</th>\n",
       "      <th>lung_side_1</th>\n",
       "      <th>lung_side_2</th>\n",
       "      <th>habit_of_cigarette_0</th>\n",
       "      <th>habit_of_cigarette_1</th>\n",
       "      <th>habit_of_cigarette_2</th>\n",
       "      <th>habit_of_cigarette_3</th>\n",
       "      <th>performance_status_0</th>\n",
       "      <th>performance_status_1</th>\n",
       "    </tr>\n",
       "  </thead>\n",
       "  <tbody>\n",
       "    <tr>\n",
       "      <td>0</td>\n",
       "      <td>47.0</td>\n",
       "      <td>1</td>\n",
       "      <td>20.0</td>\n",
       "      <td>1</td>\n",
       "      <td>24.0</td>\n",
       "      <td>1</td>\n",
       "      <td>1</td>\n",
       "      <td>0</td>\n",
       "      <td>8050.0</td>\n",
       "      <td>9</td>\n",
       "      <td>...</td>\n",
       "      <td>0</td>\n",
       "      <td>1</td>\n",
       "      <td>0</td>\n",
       "      <td>0</td>\n",
       "      <td>0</td>\n",
       "      <td>0</td>\n",
       "      <td>1</td>\n",
       "      <td>0</td>\n",
       "      <td>0</td>\n",
       "      <td>1</td>\n",
       "    </tr>\n",
       "    <tr>\n",
       "      <td>1</td>\n",
       "      <td>55.0</td>\n",
       "      <td>1</td>\n",
       "      <td>45.0</td>\n",
       "      <td>0</td>\n",
       "      <td>1.0</td>\n",
       "      <td>1</td>\n",
       "      <td>1</td>\n",
       "      <td>1</td>\n",
       "      <td>11200.0</td>\n",
       "      <td>7</td>\n",
       "      <td>...</td>\n",
       "      <td>0</td>\n",
       "      <td>1</td>\n",
       "      <td>0</td>\n",
       "      <td>0</td>\n",
       "      <td>0</td>\n",
       "      <td>0</td>\n",
       "      <td>0</td>\n",
       "      <td>1</td>\n",
       "      <td>1</td>\n",
       "      <td>0</td>\n",
       "    </tr>\n",
       "    <tr>\n",
       "      <td>2</td>\n",
       "      <td>29.0</td>\n",
       "      <td>1</td>\n",
       "      <td>23.0</td>\n",
       "      <td>0</td>\n",
       "      <td>1.0</td>\n",
       "      <td>0</td>\n",
       "      <td>0</td>\n",
       "      <td>0</td>\n",
       "      <td>5300.0</td>\n",
       "      <td>12</td>\n",
       "      <td>...</td>\n",
       "      <td>0</td>\n",
       "      <td>0</td>\n",
       "      <td>1</td>\n",
       "      <td>0</td>\n",
       "      <td>0</td>\n",
       "      <td>0</td>\n",
       "      <td>1</td>\n",
       "      <td>0</td>\n",
       "      <td>0</td>\n",
       "      <td>1</td>\n",
       "    </tr>\n",
       "    <tr>\n",
       "      <td>3</td>\n",
       "      <td>39.0</td>\n",
       "      <td>1</td>\n",
       "      <td>10.0</td>\n",
       "      <td>0</td>\n",
       "      <td>3.0</td>\n",
       "      <td>0</td>\n",
       "      <td>1</td>\n",
       "      <td>1</td>\n",
       "      <td>7910.0</td>\n",
       "      <td>14</td>\n",
       "      <td>...</td>\n",
       "      <td>0</td>\n",
       "      <td>1</td>\n",
       "      <td>0</td>\n",
       "      <td>0</td>\n",
       "      <td>1</td>\n",
       "      <td>0</td>\n",
       "      <td>0</td>\n",
       "      <td>0</td>\n",
       "      <td>0</td>\n",
       "      <td>1</td>\n",
       "    </tr>\n",
       "    <tr>\n",
       "      <td>4</td>\n",
       "      <td>47.0</td>\n",
       "      <td>1</td>\n",
       "      <td>10.0</td>\n",
       "      <td>1</td>\n",
       "      <td>1.5</td>\n",
       "      <td>1</td>\n",
       "      <td>1</td>\n",
       "      <td>0</td>\n",
       "      <td>9120.0</td>\n",
       "      <td>4</td>\n",
       "      <td>...</td>\n",
       "      <td>0</td>\n",
       "      <td>0</td>\n",
       "      <td>1</td>\n",
       "      <td>0</td>\n",
       "      <td>0</td>\n",
       "      <td>0</td>\n",
       "      <td>0</td>\n",
       "      <td>1</td>\n",
       "      <td>0</td>\n",
       "      <td>1</td>\n",
       "    </tr>\n",
       "  </tbody>\n",
       "</table>\n",
       "<p>5 rows × 47 columns</p>\n",
       "</div>"
      ],
      "text/plain": [
       "    age  asbestos_exposure  duration_of_asbestos_exposure  cytology  \\\n",
       "0  47.0                  1                           20.0         1   \n",
       "1  55.0                  1                           45.0         0   \n",
       "2  29.0                  1                           23.0         0   \n",
       "3  39.0                  1                           10.0         0   \n",
       "4  47.0                  1                           10.0         1   \n",
       "\n",
       "   duration_of_symptoms  dyspnoea  ache_on_chest  weakness  white_blood  \\\n",
       "0                  24.0         1              1         0       8050.0   \n",
       "1                   1.0         1              1         1      11200.0   \n",
       "2                   1.0         0              0         0       5300.0   \n",
       "3                   3.0         0              1         1       7910.0   \n",
       "4                   1.5         1              1         0       9120.0   \n",
       "\n",
       "   cell_count  ...  city_8  lung_side_0  lung_side_1  lung_side_2  \\\n",
       "0           9  ...       0            1            0            0   \n",
       "1           7  ...       0            1            0            0   \n",
       "2          12  ...       0            0            1            0   \n",
       "3          14  ...       0            1            0            0   \n",
       "4           4  ...       0            0            1            0   \n",
       "\n",
       "   habit_of_cigarette_0  habit_of_cigarette_1  habit_of_cigarette_2  \\\n",
       "0                     0                     0                     1   \n",
       "1                     0                     0                     0   \n",
       "2                     0                     0                     1   \n",
       "3                     1                     0                     0   \n",
       "4                     0                     0                     0   \n",
       "\n",
       "   habit_of_cigarette_3  performance_status_0  performance_status_1  \n",
       "0                     0                     0                     1  \n",
       "1                     1                     1                     0  \n",
       "2                     0                     0                     1  \n",
       "3                     0                     0                     1  \n",
       "4                     1                     0                     1  \n",
       "\n",
       "[5 rows x 47 columns]"
      ]
     },
     "execution_count": 60,
     "metadata": {},
     "output_type": "execute_result"
    }
   ],
   "source": [
    "dc.head()"
   ]
  },
  {
   "cell_type": "code",
   "execution_count": 61,
   "metadata": {},
   "outputs": [],
   "source": [
    "X = dc.copy()#.drop(\"class_of_diagnosis\",axis=1).copy()\n",
    "y = df[\"class_of_diagnosis\"].copy()\n",
    "X_train, X_test, y_train, y_test = train_test_split(X, y, test_size=0.2, random_state=1, shuffle=True)"
   ]
  },
  {
   "cell_type": "code",
   "execution_count": 62,
   "metadata": {},
   "outputs": [
    {
     "data": {
      "text/plain": [
       "age                                float64\n",
       "asbestos_exposure                    int64\n",
       "duration_of_asbestos_exposure      float64\n",
       "cytology                             int64\n",
       "duration_of_symptoms               float64\n",
       "dyspnoea                             int64\n",
       "ache_on_chest                        int64\n",
       "weakness                             int64\n",
       "white_blood                        float64\n",
       "cell_count                           int64\n",
       "hemoglobin                           int64\n",
       "platelet_count                     float64\n",
       "sedimentation                      float64\n",
       "blood_lactic_dehydrogenise         float64\n",
       "alkaline_phosphatise               float64\n",
       "total_protein                      float64\n",
       "albumin                            float64\n",
       "glucose                            float64\n",
       "pleural_lactic_dehydrogenise       float64\n",
       "pleural_protein                    float64\n",
       "pleural_albumin                    float64\n",
       "pleural_glucose                    float64\n",
       "dead_or_not                          int64\n",
       "pleural_effusion                     int64\n",
       "pleural_thickness_on_tomography      int64\n",
       "pleural_level_of_acidity             int64\n",
       "C_reactive_protein                   int64\n",
       "gender_0                             uint8\n",
       "gender_1                             uint8\n",
       "city_0                               uint8\n",
       "city_1                               uint8\n",
       "city_2                               uint8\n",
       "city_3                               uint8\n",
       "city_4                               uint8\n",
       "city_5                               uint8\n",
       "city_6                               uint8\n",
       "city_7                               uint8\n",
       "city_8                               uint8\n",
       "lung_side_0                          uint8\n",
       "lung_side_1                          uint8\n",
       "lung_side_2                          uint8\n",
       "habit_of_cigarette_0                 uint8\n",
       "habit_of_cigarette_1                 uint8\n",
       "habit_of_cigarette_2                 uint8\n",
       "habit_of_cigarette_3                 uint8\n",
       "performance_status_0                 uint8\n",
       "performance_status_1                 uint8\n",
       "dtype: object"
      ]
     },
     "execution_count": 62,
     "metadata": {},
     "output_type": "execute_result"
    }
   ],
   "source": [
    "X_train.dtypes"
   ]
  },
  {
   "cell_type": "markdown",
   "metadata": {},
   "source": [
    "### 1st test: Multi-layer perceptron algorithm"
   ]
  },
  {
   "cell_type": "code",
   "execution_count": 78,
   "metadata": {},
   "outputs": [
    {
     "data": {
      "text/plain": [
       "MLPClassifier(alpha=1e-05, hidden_layer_sizes=(5, 2), random_state=1,\n",
       "              solver='lbfgs')"
      ]
     },
     "execution_count": 78,
     "metadata": {},
     "output_type": "execute_result"
    }
   ],
   "source": [
    "scaler = StandardScaler()  \n",
    "scaler.fit(X_train)\n",
    "X_train_s = scaler.transform(X_train)\n",
    "X_test_s = scaler.transform(X_test)\n",
    "\n",
    "clf_mlp = MLPClassifier(solver='lbfgs', alpha=1e-5,\n",
    "                        hidden_layer_sizes=(5, 2), random_state=1)\n",
    "clf_mlp.fit(X_train_s, y_train)"
   ]
  },
  {
   "cell_type": "code",
   "execution_count": 79,
   "metadata": {},
   "outputs": [],
   "source": [
    "pred = clf_mlp.predict(X_test_s)"
   ]
  },
  {
   "cell_type": "code",
   "execution_count": 80,
   "metadata": {},
   "outputs": [
    {
     "name": "stdout",
     "output_type": "stream",
     "text": [
      "0.6923076923076923\n"
     ]
    }
   ],
   "source": [
    "# Use score method to get accuracy of model\n",
    "score = clf_mlp.score(X_test_s, y_test)\n",
    "print(score)"
   ]
  },
  {
   "cell_type": "code",
   "execution_count": 81,
   "metadata": {},
   "outputs": [
    {
     "data": {
      "text/plain": [
       "array([[6.86650344e-01, 3.13349656e-01],\n",
       "       [0.00000000e+00, 1.00000000e+00],\n",
       "       [0.00000000e+00, 1.00000000e+00],\n",
       "       [6.86650344e-01, 3.13349656e-01],\n",
       "       [6.86650344e-01, 3.13349656e-01],\n",
       "       [1.95399252e-14, 1.00000000e+00],\n",
       "       [3.56718321e-01, 6.43281679e-01],\n",
       "       [1.00000000e+00, 3.89740246e-31],\n",
       "       [1.00000000e+00, 1.50656923e-18],\n",
       "       [9.99971564e-01, 2.84363311e-05],\n",
       "       [0.00000000e+00, 1.00000000e+00],\n",
       "       [6.86650344e-01, 3.13349656e-01],\n",
       "       [6.86650344e-01, 3.13349656e-01],\n",
       "       [1.00000000e+00, 7.37346996e-23],\n",
       "       [1.00000000e+00, 1.32183882e-35],\n",
       "       [1.00000000e+00, 2.67537462e-70],\n",
       "       [1.00000000e+00, 2.59898877e-47],\n",
       "       [6.86650344e-01, 3.13349656e-01],\n",
       "       [1.00000000e+00, 1.34152228e-12],\n",
       "       [0.00000000e+00, 1.00000000e+00],\n",
       "       [7.26352312e-12, 1.00000000e+00],\n",
       "       [6.86650344e-01, 3.13349656e-01],\n",
       "       [1.55431223e-15, 1.00000000e+00],\n",
       "       [1.00000000e+00, 2.92659727e-34],\n",
       "       [1.00000000e+00, 3.01283832e-11],\n",
       "       [1.00000000e+00, 3.65739971e-14],\n",
       "       [9.85101568e-01, 1.48984324e-02],\n",
       "       [0.00000000e+00, 1.00000000e+00],\n",
       "       [6.86650344e-01, 3.13349656e-01],\n",
       "       [1.00000000e+00, 9.37029368e-22],\n",
       "       [6.86650344e-01, 3.13349656e-01],\n",
       "       [7.48539129e-01, 2.51460871e-01],\n",
       "       [5.55111512e-14, 1.00000000e+00],\n",
       "       [1.00000000e+00, 8.14254112e-28],\n",
       "       [1.00000000e+00, 2.18558610e-34],\n",
       "       [1.00000000e+00, 3.10867029e-98],\n",
       "       [1.00000000e+00, 1.24227621e-17],\n",
       "       [0.00000000e+00, 1.00000000e+00],\n",
       "       [1.00000000e+00, 5.62796305e-21],\n",
       "       [0.00000000e+00, 1.00000000e+00],\n",
       "       [6.86650344e-01, 3.13349656e-01],\n",
       "       [0.00000000e+00, 1.00000000e+00],\n",
       "       [9.91937557e-01, 8.06244320e-03],\n",
       "       [1.00000000e+00, 1.04953512e-16],\n",
       "       [1.00000000e+00, 4.58975748e-10],\n",
       "       [0.00000000e+00, 1.00000000e+00],\n",
       "       [9.99999901e-01, 9.92806114e-08],\n",
       "       [1.00000000e+00, 4.09509446e-21],\n",
       "       [6.86650344e-01, 3.13349656e-01],\n",
       "       [2.66897615e-12, 1.00000000e+00],\n",
       "       [5.07302981e-01, 4.92697019e-01],\n",
       "       [6.86650344e-01, 3.13349656e-01],\n",
       "       [1.00000000e+00, 7.33155553e-12],\n",
       "       [1.00000000e+00, 1.02466608e-39],\n",
       "       [1.00000000e+00, 5.17715379e-32],\n",
       "       [6.86650344e-01, 3.13349656e-01],\n",
       "       [1.00000000e+00, 7.33865166e-15],\n",
       "       [4.42943496e-07, 9.99999557e-01],\n",
       "       [6.86650344e-01, 3.13349656e-01],\n",
       "       [1.00000000e+00, 1.68432024e-68],\n",
       "       [6.86650344e-01, 3.13349656e-01],\n",
       "       [3.83229680e-02, 9.61677032e-01],\n",
       "       [0.00000000e+00, 1.00000000e+00],\n",
       "       [1.00000000e+00, 1.17837659e-23],\n",
       "       [6.86650344e-01, 3.13349656e-01]])"
      ]
     },
     "execution_count": 81,
     "metadata": {},
     "output_type": "execute_result"
    }
   ],
   "source": [
    "clf_mlp.predict_proba(X_test_s)"
   ]
  },
  {
   "cell_type": "code",
   "execution_count": 82,
   "metadata": {},
   "outputs": [],
   "source": [
    "cm = metrics.confusion_matrix(y_test, pred)"
   ]
  },
  {
   "cell_type": "code",
   "execution_count": 83,
   "metadata": {},
   "outputs": [
    {
     "data": {
      "image/png": "[encoded data removed]",
      "text/plain": [
       "<Figure size 720x720 with 2 Axes>"
      ]
     },
     "metadata": {},
     "output_type": "display_data"
    }
   ],
   "source": [
    "ax = plt.subplot()\n",
    "sns.heatmap(cm,annot=True,fmt=\"d\") \n",
    "ax.set_xlabel('Prédictionq'); ax.set_ylabel('Labels réels'); \n",
    "ax.set_title('Matrice de confusion'); \n",
    "plt.show() # not bad"
   ]
  },
  {
   "cell_type": "code",
   "execution_count": 84,
   "metadata": {},
   "outputs": [],
   "source": [
    "ml_models = []\n",
    "ml_models.append((\"MLP:\", score))"
   ]
  },
  {
   "cell_type": "markdown",
   "metadata": {},
   "source": [
    "### Hierarchical modelling"
   ]
  },
  {
   "cell_type": "markdown",
   "metadata": {},
   "source": [
    "### Recursive feature selection and Decision Tree"
   ]
  },
  {
   "cell_type": "code",
   "execution_count": 71,
   "metadata": {},
   "outputs": [],
   "source": [
    "from numpy import mean\n",
    "from numpy import std\n",
    "from sklearn.model_selection import cross_val_score\n",
    "from sklearn.model_selection import RepeatedStratifiedKFold\n",
    "from sklearn.feature_selection import RFECV\n",
    "from sklearn.pipeline import Pipeline\n",
    "from matplotlib import pyplot"
   ]
  },
  {
   "cell_type": "code",
   "execution_count": 72,
   "metadata": {},
   "outputs": [
    {
     "name": "stdout",
     "output_type": "stream",
     "text": [
      ">10 0.635 (0.095)\n",
      ">11 0.666 (0.082)\n",
      ">12 0.674 (0.084)\n",
      ">13 0.672 (0.075)\n",
      ">14 0.653 (0.068)\n",
      ">15 0.691 (0.073)\n",
      ">16 0.680 (0.083)\n",
      ">17 0.674 (0.082)\n",
      ">18 0.666 (0.083)\n",
      ">19 0.680 (0.097)\n",
      ">20 0.673 (0.081)\n",
      ">21 0.688 (0.094)\n",
      ">22 0.687 (0.094)\n",
      ">23 0.674 (0.086)\n",
      ">24 0.674 (0.088)\n",
      ">25 0.681 (0.097)\n",
      ">26 0.678 (0.085)\n",
      ">27 0.687 (0.089)\n",
      ">28 0.677 (0.097)\n",
      ">29 0.684 (0.090)\n",
      ">30 0.683 (0.088)\n"
     ]
    },
    {
     "data": {
      "image/png": "[encoded data removed]",
      "text/plain": [
       "<Figure size 720x720 with 1 Axes>"
      ]
     },
     "metadata": {},
     "output_type": "display_data"
    }
   ],
   "source": [
    "# get a list of models to evaluate\n",
    "def get_models():\n",
    "    models = dict()\n",
    "    for i in range(10, 31):\n",
    "        rfe = RFE(estimator=DecisionTreeClassifier(), n_features_to_select=i)\n",
    "        model = DecisionTreeClassifier()\n",
    "        models[str(i)] = Pipeline(steps=[('s',rfe),('m',model)])\n",
    "    return models\n",
    " \n",
    "# evaluate a give model using cross-validation\n",
    "def evaluate_model(model, X, y):\n",
    "    cv = RepeatedStratifiedKFold(n_splits=10, n_repeats=3, random_state=1)\n",
    "    scores = cross_val_score(model, X, y, scoring='accuracy', cv=cv, n_jobs=-1, error_score='raise')\n",
    "    return scores\n",
    " \n",
    "# define dataset\n",
    "#X, y = get_dataset()\n",
    "# get the models to evaluate\n",
    "models = get_models()\n",
    "# evaluate the models and store results\n",
    "results, names = list(), list()\n",
    "for name, model in models.items():\n",
    "    scores = evaluate_model(model, X, y)\n",
    "    results.append(scores)\n",
    "    names.append(name)\n",
    "    print('>%s %.3f (%.3f)' % (name, mean(scores), std(scores)))\n",
    "# plot model performance for comparison\n",
    "pyplot.boxplot(results, labels=names, showmeans=True)\n",
    "pyplot.show() # not significant changes in score when increasing the number of variables"
   ]
  },
  {
   "cell_type": "code",
   "execution_count": 73,
   "metadata": {},
   "outputs": [
    {
     "name": "stdout",
     "output_type": "stream",
     "text": [
      "Accuracy: 0.611 (0.194)\n",
      "Column: 0, Selected True, Rank: 1.000\n",
      "Column: 1, Selected True, Rank: 1.000\n",
      "Column: 2, Selected True, Rank: 1.000\n",
      "Column: 3, Selected True, Rank: 1.000\n",
      "Column: 4, Selected True, Rank: 1.000\n",
      "Column: 5, Selected True, Rank: 1.000\n",
      "Column: 6, Selected True, Rank: 1.000\n",
      "Column: 7, Selected True, Rank: 1.000\n",
      "Column: 8, Selected True, Rank: 1.000\n",
      "Column: 9, Selected True, Rank: 1.000\n",
      "Column: 10, Selected True, Rank: 1.000\n",
      "Column: 11, Selected True, Rank: 1.000\n",
      "Column: 12, Selected True, Rank: 1.000\n",
      "Column: 13, Selected True, Rank: 1.000\n",
      "Column: 14, Selected True, Rank: 1.000\n",
      "Column: 15, Selected True, Rank: 1.000\n",
      "Column: 16, Selected True, Rank: 1.000\n",
      "Column: 17, Selected False, Rank: 4.000\n",
      "Column: 18, Selected True, Rank: 1.000\n",
      "Column: 19, Selected True, Rank: 1.000\n",
      "Column: 20, Selected True, Rank: 1.000\n",
      "Column: 21, Selected True, Rank: 1.000\n",
      "Column: 22, Selected False, Rank: 14.000\n",
      "Column: 23, Selected False, Rank: 15.000\n",
      "Column: 24, Selected True, Rank: 1.000\n",
      "Column: 25, Selected True, Rank: 1.000\n",
      "Column: 26, Selected True, Rank: 1.000\n",
      "Column: 27, Selected False, Rank: 2.000\n",
      "Column: 28, Selected False, Rank: 5.000\n",
      "Column: 29, Selected True, Rank: 1.000\n",
      "Column: 30, Selected False, Rank: 7.000\n",
      "Column: 31, Selected True, Rank: 1.000\n",
      "Column: 32, Selected True, Rank: 1.000\n",
      "Column: 33, Selected False, Rank: 3.000\n",
      "Column: 34, Selected False, Rank: 6.000\n",
      "Column: 35, Selected True, Rank: 1.000\n",
      "Column: 36, Selected True, Rank: 1.000\n",
      "Column: 37, Selected True, Rank: 1.000\n",
      "Column: 38, Selected True, Rank: 1.000\n",
      "Column: 39, Selected True, Rank: 1.000\n",
      "Column: 40, Selected True, Rank: 1.000\n",
      "Column: 41, Selected False, Rank: 8.000\n",
      "Column: 42, Selected False, Rank: 9.000\n",
      "Column: 43, Selected False, Rank: 10.000\n",
      "Column: 44, Selected False, Rank: 11.000\n",
      "Column: 45, Selected False, Rank: 12.000\n",
      "Column: 46, Selected False, Rank: 13.000\n"
     ]
    }
   ],
   "source": [
    "# create pipeline\n",
    "rfe = RFECV(estimator=DecisionTreeClassifier())\n",
    "model = DecisionTreeClassifier()\n",
    "pipeline = Pipeline(steps=[('s',rfe),('m',model)])\n",
    "# evaluate model\n",
    "cv = RepeatedStratifiedKFold(n_splits=50, n_repeats=3, random_state=1)\n",
    "n_scores = cross_val_score(pipeline, X_train, y_train, scoring='accuracy', cv=cv, n_jobs=-1, error_score='raise')\n",
    "# report performance\n",
    "print('Accuracy: %.3f (%.3f)' % (mean(n_scores), std(n_scores)))\n",
    "\n",
    "# fit RFE\n",
    "rfe.fit(X_train.values, y_train.values)\n",
    "# summarize all features\n",
    "for i in range(X_train.shape[1]):\n",
    "    print('Column: %d, Selected %s, Rank: %.3f' % (i, rfe.support_[i], rfe.ranking_[i]))"
   ]
  },
  {
   "cell_type": "code",
   "execution_count": 85,
   "metadata": {},
   "outputs": [
    {
     "name": "stdout",
     "output_type": "stream",
     "text": [
      "0.7384615384615385\n"
     ]
    }
   ],
   "source": [
    "score = rfe.score(X_test.values, y_test.values)\n",
    "print(score)"
   ]
  },
  {
   "cell_type": "code",
   "execution_count": 75,
   "metadata": {},
   "outputs": [
    {
     "name": "stderr",
     "output_type": "stream",
     "text": [
      "/opt/anaconda3/lib/python3.7/site-packages/sklearn/base.py:439: UserWarning: X has feature names, but RFECV was fitted without feature names\n",
      "  f\"X has feature names, but {self.__class__.__name__} was fitted without\"\n"
     ]
    },
    {
     "data": {
      "image/png": "[encoded data removed]",
      "text/plain": [
       "<Figure size 720x720 with 2 Axes>"
      ]
     },
     "metadata": {},
     "output_type": "display_data"
    }
   ],
   "source": [
    "rfe_pred = rfe.predict(X_test)\n",
    "\n",
    "cm_log = metrics.confusion_matrix(y_test, rfe_pred)\n",
    "\n",
    "ax = plt.subplot()\n",
    "sns.heatmap(cm_log,annot=True,fmt=\"d\") \n",
    "ax.set_xlabel('Prediction'); ax.set_ylabel('True labels'); \n",
    "ax.set_title('Confusion matrix'); \n",
    "plt.show()"
   ]
  },
  {
   "cell_type": "code",
   "execution_count": 86,
   "metadata": {},
   "outputs": [],
   "source": [
    "ml_models.append((\"CART:\", score))"
   ]
  },
  {
   "cell_type": "markdown",
   "metadata": {},
   "source": [
    "### Régression logistique"
   ]
  },
  {
   "cell_type": "code",
   "execution_count": 87,
   "metadata": {},
   "outputs": [
    {
     "data": {
      "text/plain": [
       "LogisticRegression(max_iter=10000)"
      ]
     },
     "execution_count": 87,
     "metadata": {},
     "output_type": "execute_result"
    }
   ],
   "source": [
    "logistic = LogisticRegression(max_iter=10000)\n",
    "logistic.fit(X_train, y_train)"
   ]
  },
  {
   "cell_type": "code",
   "execution_count": 88,
   "metadata": {},
   "outputs": [],
   "source": [
    "pred = logistic.predict(X_test)"
   ]
  },
  {
   "cell_type": "code",
   "execution_count": 89,
   "metadata": {},
   "outputs": [
    {
     "name": "stdout",
     "output_type": "stream",
     "text": [
      "0.7230769230769231\n"
     ]
    }
   ],
   "source": [
    "# Use score method to get accuracy of model\n",
    "score = logistic.score(X_test, y_test)\n",
    "print(score)"
   ]
  },
  {
   "cell_type": "code",
   "execution_count": 90,
   "metadata": {},
   "outputs": [],
   "source": [
    "cm_log = metrics.confusion_matrix(y_test, pred)"
   ]
  },
  {
   "cell_type": "code",
   "execution_count": 91,
   "metadata": {},
   "outputs": [
    {
     "data": {
      "image/png": "[encoded data removed]",
      "text/plain": [
       "<Figure size 720x720 with 2 Axes>"
      ]
     },
     "metadata": {},
     "output_type": "display_data"
    }
   ],
   "source": [
    "ax = plt.subplot()\n",
    "sns.heatmap(cm_log,annot=True,fmt=\"d\") \n",
    "ax.set_xlabel('Prédictionq'); ax.set_ylabel('Labels réels'); \n",
    "ax.set_title('Matrice de confusion'); \n",
    "plt.show()"
   ]
  },
  {
   "cell_type": "markdown",
   "metadata": {},
   "source": [
    "### Random forest"
   ]
  },
  {
   "cell_type": "code",
   "execution_count": 93,
   "metadata": {},
   "outputs": [],
   "source": [
    "# RF (perhaps will improve decition tree performance)\n",
    "rf = RandomForestClassifier(n_estimators = 150,\n",
    "                           n_jobs = 10,\n",
    "                           oob_score = True,\n",
    "                           bootstrap = True,\n",
    "                           random_state = 42)   "
   ]
  },
  {
   "cell_type": "code",
   "execution_count": 94,
   "metadata": {},
   "outputs": [
    {
     "data": {
      "text/plain": [
       "RandomForestClassifier(n_estimators=150, n_jobs=10, oob_score=True,\n",
       "                       random_state=42)"
      ]
     },
     "execution_count": 94,
     "metadata": {},
     "output_type": "execute_result"
    }
   ],
   "source": [
    "rf.fit(X_train.values, y_train.values)"
   ]
  },
  {
   "cell_type": "markdown",
   "metadata": {},
   "source": [
    "#### Evaluation des performances"
   ]
  },
  {
   "cell_type": "code",
   "execution_count": 95,
   "metadata": {},
   "outputs": [],
   "source": [
    "# modules complementaires\n",
    "import shap\n",
    "from sklearn.inspection import permutation_importance"
   ]
  },
  {
   "cell_type": "code",
   "execution_count": 96,
   "metadata": {},
   "outputs": [
    {
     "name": "stdout",
     "output_type": "stream",
     "text": [
      "R^2 Training Score: 1.00 \n",
      "OOB Score: 0.74 \n",
      "R^2 Validation Score: 0.77\n"
     ]
    }
   ],
   "source": [
    "print('R^2 Training Score: {:.2f} \\nOOB Score: {:.2f} \\nR^2 Validation Score: {:.2f}'.format(rf.score(X_train.values, y_train.values), \n",
    "                                                                                             rf.oob_score_,\n",
    "                                                                                             rf.score(X_test.values, y_test.values))) "
   ]
  },
  {
   "cell_type": "code",
   "execution_count": 97,
   "metadata": {},
   "outputs": [
    {
     "data": {
      "text/plain": [
       "array([4.70805951e-02, 7.33927072e-03, 4.26725715e-02, 6.58609946e-03,\n",
       "       5.09623419e-02, 7.42237945e-03, 1.00741452e-02, 7.82340685e-03,\n",
       "       3.39424289e-02, 3.73919993e-02, 1.02940022e-02, 6.33015398e-02,\n",
       "       4.58138263e-02, 4.84363693e-02, 4.53261245e-02, 3.83731571e-02,\n",
       "       3.79501610e-02, 4.64594022e-02, 4.90455612e-02, 3.73214286e-02,\n",
       "       3.88127265e-02, 4.34717405e-02, 2.30428013e-03, 5.32641298e-03,\n",
       "       8.77910296e-03, 6.62604967e-03, 5.16409097e-02, 1.05118824e-02,\n",
       "       1.30707792e-02, 1.11383504e-02, 7.33651370e-03, 8.28880398e-03,\n",
       "       1.49242031e-02, 3.07517813e-03, 5.56630131e-05, 7.47445038e-03,\n",
       "       1.03821033e-03, 1.88798309e-04, 1.03856272e-02, 1.40570039e-02,\n",
       "       2.71760555e-02, 8.77464519e-03, 4.38454087e-03, 7.04827160e-03,\n",
       "       7.05936242e-03, 5.33057139e-03, 8.10305605e-03])"
      ]
     },
     "execution_count": 97,
     "metadata": {},
     "output_type": "execute_result"
    }
   ],
   "source": [
    "rf.feature_importances_"
   ]
  },
  {
   "cell_type": "code",
   "execution_count": 98,
   "metadata": {},
   "outputs": [],
   "source": [
    "df_meso = pd.concat([dc,df['class_of_diagnosis']],axis=1).loc[df['class_of_diagnosis'] == 1]"
   ]
  },
  {
   "cell_type": "code",
   "execution_count": 99,
   "metadata": {},
   "outputs": [
    {
     "data": {
      "image/png": "[encoded data removed]",
      "text/plain": [
       "<Figure size 720x720 with 1 Axes>"
      ]
     },
     "metadata": {},
     "output_type": "display_data"
    }
   ],
   "source": [
    "sorted_idx = rf.feature_importances_.argsort()\n",
    "plt.barh(df_meso.columns[sorted_idx], rf.feature_importances_[sorted_idx])\n",
    "plt.xlabel(\"Importance des variables (RF)\")\n",
    "plt.show()"
   ]
  },
  {
   "cell_type": "code",
   "execution_count": 100,
   "metadata": {},
   "outputs": [],
   "source": [
    "perm_importance = permutation_importance(rf, X_test.values, y_test.values)"
   ]
  },
  {
   "cell_type": "code",
   "execution_count": 101,
   "metadata": {},
   "outputs": [
    {
     "data": {
      "image/png": "[encoded data removed]",
      "text/plain": [
       "<Figure size 720x720 with 1 Axes>"
      ]
     },
     "metadata": {},
     "output_type": "display_data"
    }
   ],
   "source": [
    "sorted_idx = perm_importance.importances_mean.argsort()\n",
    "plt.barh(df_meso.columns[sorted_idx], perm_importance.importances_mean[sorted_idx])\n",
    "plt.xlabel(\"Permutation Importance (RF)\")\n",
    "plt.show()"
   ]
  },
  {
   "cell_type": "code",
   "execution_count": 102,
   "metadata": {},
   "outputs": [],
   "source": [
    "explainer = shap.TreeExplainer(rf)\n",
    "shap_values = explainer.shap_values(X_test.values)"
   ]
  },
  {
   "cell_type": "code",
   "execution_count": 103,
   "metadata": {},
   "outputs": [
    {
     "data": {
      "image/png": "[encoded data removed]",
      "text/plain": [
       "<Figure size 576x684 with 1 Axes>"
      ]
     },
     "metadata": {},
     "output_type": "display_data"
    }
   ],
   "source": [
    "shap.summary_plot(shap_values, X_test, plot_type=\"bar\")"
   ]
  },
  {
   "cell_type": "markdown",
   "metadata": {},
   "source": [
    "Les variables avec le plus d'influence d'après les 3 critères utilisés ci-dessus sont:\n",
    "\n",
    "* PLT\n",
    "* gender_1\n",
    "* glucose\n",
    "* age2\n",
    "* C_reactive_protein\n",
    "* are\n",
    "* duration_of_asbestos_exposure\n",
    "* duration_of_symptoms"
   ]
  },
  {
   "cell_type": "code",
   "execution_count": 104,
   "metadata": {},
   "outputs": [
    {
     "name": "stdout",
     "output_type": "stream",
     "text": [
      "0.7692307692307693\n"
     ]
    }
   ],
   "source": [
    "# calcul du score\n",
    "score = rf.score(X_test.values, y_test.values)\n",
    "print(score)"
   ]
  },
  {
   "cell_type": "code",
   "execution_count": 105,
   "metadata": {},
   "outputs": [
    {
     "name": "stdout",
     "output_type": "stream",
     "text": [
      "              precision    recall  f1-score   support\n",
      "\n",
      "           0       0.76      1.00      0.86        47\n",
      "           1       1.00      0.17      0.29        18\n",
      "\n",
      "    accuracy                           0.77        65\n",
      "   macro avg       0.88      0.58      0.57        65\n",
      "weighted avg       0.83      0.77      0.70        65\n",
      "\n"
     ]
    }
   ],
   "source": [
    "# predictions\n",
    "pred = rf.predict(X_test.values)\n",
    "print(metrics.classification_report(y_test.values, pred))"
   ]
  },
  {
   "cell_type": "code",
   "execution_count": 106,
   "metadata": {},
   "outputs": [],
   "source": [
    "# matrice de confusion\n",
    "cm = metrics.confusion_matrix(y_test, pred)"
   ]
  },
  {
   "cell_type": "code",
   "execution_count": 107,
   "metadata": {},
   "outputs": [
    {
     "data": {
      "image/png": "[encoded data removed]",
      "text/plain": [
       "<Figure size 720x720 with 2 Axes>"
      ]
     },
     "metadata": {},
     "output_type": "display_data"
    }
   ],
   "source": [
    "ax = plt.subplot()\n",
    "sns.heatmap(cm,annot=True,fmt=\"d\") \n",
    "ax.set_xlabel('Prediction');ax.set_ylabel('Labels reels'); \n",
    "ax.set_title('Matrice de confusion'); \n",
    "plt.show()"
   ]
  },
  {
   "cell_type": "markdown",
   "metadata": {},
   "source": [
    "### AdaBoost"
   ]
  },
  {
   "cell_type": "code",
   "execution_count": 109,
   "metadata": {},
   "outputs": [],
   "source": [
    "from sklearn.ensemble import AdaBoostClassifier # AdaBoost stuff\n",
    "from sklearn.model_selection import GridSearchCV"
   ]
  },
  {
   "cell_type": "code",
   "execution_count": 110,
   "metadata": {},
   "outputs": [
    {
     "data": {
      "text/plain": [
       "AdaBoostClassifier(n_estimators=100, random_state=0)"
      ]
     },
     "execution_count": 110,
     "metadata": {},
     "output_type": "execute_result"
    }
   ],
   "source": [
    "clf_ada = AdaBoostClassifier(n_estimators=100, random_state=0)\n",
    "\n",
    "clf_ada.fit(X_train, y_train)"
   ]
  },
  {
   "cell_type": "code",
   "execution_count": 111,
   "metadata": {},
   "outputs": [
    {
     "name": "stdout",
     "output_type": "stream",
     "text": [
      "0.7230769230769231\n"
     ]
    }
   ],
   "source": [
    "# calcul du score\n",
    "score = clf_ada.score(X_test, y_test)\n",
    "print(score)"
   ]
  },
  {
   "cell_type": "code",
   "execution_count": 112,
   "metadata": {},
   "outputs": [
    {
     "name": "stdout",
     "output_type": "stream",
     "text": [
      "              precision    recall  f1-score   support\n",
      "\n",
      "           0       0.78      0.85      0.82        47\n",
      "           1       0.50      0.39      0.44        18\n",
      "\n",
      "    accuracy                           0.72        65\n",
      "   macro avg       0.64      0.62      0.63        65\n",
      "weighted avg       0.71      0.72      0.71        65\n",
      "\n"
     ]
    }
   ],
   "source": [
    "# predictions\n",
    "pred = clf_ada.predict(X_test)\n",
    "print(metrics.classification_report(y_test, pred))"
   ]
  },
  {
   "cell_type": "code",
   "execution_count": 113,
   "metadata": {},
   "outputs": [
    {
     "data": {
      "image/png": "[encoded data removed]",
      "text/plain": [
       "<Figure size 720x720 with 2 Axes>"
      ]
     },
     "metadata": {},
     "output_type": "display_data"
    }
   ],
   "source": [
    "# matrice de confusion\n",
    "cm = metrics.confusion_matrix(y_test, pred)\n",
    "\n",
    "ax = plt.subplot()\n",
    "sns.heatmap(cm,annot=True,fmt=\"d\") \n",
    "ax.set_xlabel('Prediction');ax.set_ylabel('Labels reels'); \n",
    "ax.set_title('Matrice de confusion'); \n",
    "plt.show()"
   ]
  },
  {
   "cell_type": "code",
   "execution_count": 114,
   "metadata": {},
   "outputs": [],
   "source": []
  },
  {
   "cell_type": "markdown",
   "metadata": {},
   "source": [
    "### Comparison of scores\n",
    "Evaluate a score by cross-validation."
   ]
  },
  {
   "cell_type": "code",
   "execution_count": 131,
   "metadata": {},
   "outputs": [],
   "source": [
    "ml_models = []\n",
    "ml_models.append((\"CART\", DecisionTreeClassifier()))\n",
    "ml_models.append((\"LR\", LogisticRegression(max_iter=10000)))\n",
    "ml_models.append((\"RF\", RandomForestClassifier(n_estimators = 150,\n",
    "                           n_jobs = 10,\n",
    "                           oob_score = True,\n",
    "                           bootstrap = True,\n",
    "                           random_state = 42) ))\n",
    "ml_models.append((\"AdaBoost\", AdaBoostClassifier(n_estimators=100, random_state=0)))"
   ]
  },
  {
   "cell_type": "code",
   "execution_count": 132,
   "metadata": {},
   "outputs": [
    {
     "name": "stdout",
     "output_type": "stream",
     "text": [
      "CART: 0.642857 (0.161484)\n",
      "LR: 0.642857 (0.161484)\n",
      "RF: 0.704762 (0.178873)\n",
      "AdaBoost: 0.652381 (0.188442)\n",
      "MLP: 0.592857 (0.187310)\n"
     ]
    },
    {
     "data": {
      "image/png": "[encoded data removed]",
      "text/plain": [
       "<Figure size 720x720 with 1 Axes>"
      ]
     },
     "metadata": {},
     "output_type": "display_data"
    }
   ],
   "source": [
    "#import matplotlib.pyplot as plt\n",
    "from sklearn import model_selection\n",
    "\n",
    "# evaluate each model in turn\n",
    "results = []\n",
    "names = []\n",
    "scoring = 'accuracy'\n",
    "for name, model in ml_models:\n",
    "    model.fit(X_train.values, y_train)\n",
    "    kfold = model_selection.KFold(n_splits=10)\n",
    "    cv_results = model_selection.cross_val_score(model, X_test.values, y_test, cv=kfold, scoring=scoring)\n",
    "    results.append(cv_results)\n",
    "    names.append(name)\n",
    "    msg = \"%s: %f (%f)\" % (name, cv_results.mean(), cv_results.std())\n",
    "    print(msg)\n",
    "\n",
    "# for MLP Classifier since it needs scaled X_train\n",
    "model = MLPClassifier(solver='lbfgs', alpha=1e-5,\n",
    "                        hidden_layer_sizes=(5, 2), random_state=1)\n",
    "model.fit(X_train_s, y_train)\n",
    "kfold = model_selection.KFold(n_splits=10)\n",
    "cv_results = model_selection.cross_val_score(model, X_test_s, y_test, cv=kfold, scoring=scoring)\n",
    "results.append(cv_results)\n",
    "names.append(\"MLP\")\n",
    "msg = \"%s: %f (%f)\" % (\"MLP\", cv_results.mean(), cv_results.std())\n",
    "print(msg)\n",
    "\n",
    "# boxplot algorithm comparison\n",
    "fig = plt.figure()\n",
    "fig.suptitle('Algorithm Comparison')\n",
    "ax = fig.add_subplot(111)\n",
    "plt.boxplot(results)\n",
    "ax.set_xticklabels(names)\n",
    "plt.show()"
   ]
  },
  {
   "cell_type": "markdown",
   "metadata": {},
   "source": [
    "RF is doing much better than other classifiers."
   ]
  },
  {
   "cell_type": "markdown",
   "metadata": {},
   "source": [
    "#### Hyperparameters tuning for RF algorithm (not concluant)"
   ]
  },
  {
   "cell_type": "code",
   "execution_count": 369,
   "metadata": {},
   "outputs": [
    {
     "data": {
      "text/plain": [
       "dict_keys(['bootstrap', 'ccp_alpha', 'class_weight', 'criterion', 'max_depth', 'max_features', 'max_leaf_nodes', 'max_samples', 'min_impurity_decrease', 'min_samples_leaf', 'min_samples_split', 'min_weight_fraction_leaf', 'n_estimators', 'n_jobs', 'oob_score', 'random_state', 'verbose', 'warm_start'])"
      ]
     },
     "execution_count": 369,
     "metadata": {},
     "output_type": "execute_result"
    }
   ],
   "source": [
    "RandomForestClassifier().get_params().keys()"
   ]
  },
  {
   "cell_type": "code",
   "execution_count": 370,
   "metadata": {},
   "outputs": [
    {
     "name": "stdout",
     "output_type": "stream",
     "text": [
      "{'bootstrap': [True, False],\n",
      " 'max_features': ['auto', 'sqrt'],\n",
      " 'min_samples_leaf': [1, 2, 4],\n",
      " 'min_samples_split': [2, 5, 10],\n",
      " 'n_estimators': range(50, 300, 50)}\n",
      "{'bootstrap': False, 'max_features': 'auto', 'min_samples_leaf': 1, 'min_samples_split': 2, 'n_estimators': 250}\n"
     ]
    }
   ],
   "source": [
    "# module necessaire\n",
    "from pprint import pprint\n",
    "import numpy as np\n",
    "\n",
    "param_grid = {\n",
    "    'n_estimators': range(50, 300, 50),\n",
    "    'max_features': ['auto', 'sqrt'],\n",
    "    'min_samples_split': [2, 5, 10],\n",
    "    'min_samples_leaf': [1, 2, 4],\n",
    "    'bootstrap': [True, False]\n",
    "}\n",
    "pprint(param_grid)\n",
    "\n",
    "optimal_params = GridSearchCV(\n",
    "    estimator=RandomForestClassifier(n_jobs=10, random_state=42),\n",
    "    param_grid=param_grid,\n",
    "#     scoring = 'roc_auc',## For more scoring metics see: \n",
    "        ## https://scikit-learn.org/stable/modules/model_evaluation.html#scoring-parameter\n",
    "    verbose=0, # NOTE: If you want to see what Grid Search is doing, set verbose=2\n",
    "    n_jobs=10,\n",
    "    cv=3\n",
    ")\n",
    "\n",
    "optimal_params.fit(X_train, y_train)\n",
    "print(optimal_params.best_params_)"
   ]
  },
  {
   "cell_type": "code",
   "execution_count": 112,
   "metadata": {},
   "outputs": [
    {
     "data": {
      "text/plain": [
       "RandomForestClassifier(bootstrap=False, min_samples_leaf=2, min_samples_split=5,\n",
       "                       n_estimators=50, random_state=42)"
      ]
     },
     "execution_count": 112,
     "metadata": {},
     "output_type": "execute_result"
    }
   ],
   "source": [
    "rf_opt = RandomForestClassifier(bootstrap=False,\n",
    "                                n_estimators=50, \n",
    "                                min_samples_leaf=2,\n",
    "                                min_samples_split=5,\n",
    "                                max_features='auto',\n",
    "                                random_state=42)\n",
    "rf_opt.fit(X_train, y_train)"
   ]
  },
  {
   "cell_type": "code",
   "execution_count": 113,
   "metadata": {},
   "outputs": [
    {
     "name": "stdout",
     "output_type": "stream",
     "text": [
      "0.6923076923076923\n"
     ]
    }
   ],
   "source": [
    "# calcul du score\n",
    "score = rf_opt.score(X_test, y_test)\n",
    "print(score)"
   ]
  },
  {
   "cell_type": "code",
   "execution_count": 114,
   "metadata": {},
   "outputs": [
    {
     "name": "stdout",
     "output_type": "stream",
     "text": [
      "              precision    recall  f1-score   support\n",
      "\n",
      "           0       0.68      0.98      0.80        42\n",
      "           1       0.80      0.17      0.29        23\n",
      "\n",
      "    accuracy                           0.69        65\n",
      "   macro avg       0.74      0.58      0.54        65\n",
      "weighted avg       0.72      0.69      0.62        65\n",
      "\n"
     ]
    }
   ],
   "source": [
    "# predictions\n",
    "pred = rf_opt.predict(X_test)\n",
    "print(metrics.classification_report(y_test, pred))"
   ]
  },
  {
   "cell_type": "code",
   "execution_count": 115,
   "metadata": {},
   "outputs": [
    {
     "data": {
      "image/png": "[encoded data removed]",
      "text/plain": [
       "<Figure size 720x720 with 2 Axes>"
      ]
     },
     "metadata": {},
     "output_type": "display_data"
    }
   ],
   "source": [
    "# matrice de confusion\n",
    "cm = metrics.confusion_matrix(y_test, pred)\n",
    "\n",
    "ax = plt.subplot()\n",
    "sns.heatmap(cm,annot=True,fmt=\"d\") \n",
    "ax.set_xlabel('Prediction');ax.set_ylabel('Labels reels'); \n",
    "ax.set_title('Matrice de confusion'); \n",
    "plt.show()"
   ]
  },
  {
   "cell_type": "code",
   "execution_count": null,
   "metadata": {},
   "outputs": [],
   "source": []
  }
 ],
 "metadata": {
  "kernelspec": {
   "display_name": "Python 3",
   "language": "python",
   "name": "python3"
  },
  "language_info": {
   "codemirror_mode": {
    "name": "ipython",
    "version": 3
   },
   "file_extension": ".py",
   "mimetype": "text/x-python",
   "name": "python",
   "nbconvert_exporter": "python",
   "pygments_lexer": "ipython3",
   "version": "3.7.4"
  }
 },
 "nbformat": 4,
 "nbformat_minor": 2
}
