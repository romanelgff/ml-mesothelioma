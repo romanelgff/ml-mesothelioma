{
 "cells": [
  {
   "cell_type": "markdown",
   "metadata": {},
   "source": [
    "# Machine learning techniques for diagnosis of malignant pleural mesothelioma\n",
    "\n",
    "MPM is a highly aggressive tumor of the serous membranes, which in humans results from exposure to **asbestos** and **asbestiform fibers**. It is a fatal cancer and a malignancy that is resistant to the common tumor directed therapies.\n",
    "\n",
    "Overall: \n",
    "* around half of people diagnosed with mesothelioma will live at least a year after the diagnosis\n",
    "* around 10% of people with mesothelioma will live at least 5 years after diagnosis\n",
    "\n",
    "The symptoms of mesothelioma develop usually gradually over time and don't appear until several decades (typically 20 years) after exposure to asbestos ! For mesothelioma in the lining of the lungs, they include :\n",
    "* chest pain\n",
    "* shortness of breath\n",
    "* fatigue\n",
    "* fever and sweating\n",
    "* couch\n",
    "* loss of appetite and unexplained weight loss\n",
    "* swollen fingertips\n",
    "\n",
    "As for mesothelioma in the lining of the tummy, they include :\n",
    "* swelling or tummy pain\n",
    "* feeling sick\n",
    "* loss of appetite and unexplained weight loss\n",
    "* diarrhoea or consitupation\n",
    "\n",
    "Diagnostics of mesothelioma:\n",
    "* X-ray of chest or tummy\n",
    "* CT scan\n",
    "* fluid drainage\n",
    "* thoracoscopy or laparoscopy"
   ]
  },
  {
   "cell_type": "markdown",
   "metadata": {},
   "source": [
    "## Findings in the studied paper \n",
    "\n",
    "The paper compares the results of the multilayer neural network (MLNN) structure and Artificial Immune Systems (AIS) on MPM diagnosis. The dataset used comes from a faculty of medecine's database using patient's hospital reports. This dataset includes 324 patients suffering from variety of MPM disease. Each of them have 34 features and diagnostic tests of each patient were recorded by an attending physician."
   ]
  },
  {
   "cell_type": "markdown",
   "metadata": {},
   "source": [
    "## Data importation"
   ]
  },
  {
   "cell_type": "code",
   "execution_count": 1,
   "metadata": {},
   "outputs": [
    {
     "data": {
      "text/plain": [
       "'/Users/romanelgff/Documents/Master/M2/S1/R1/ML/ml-mesothelioma'"
      ]
     },
     "execution_count": 1,
     "metadata": {},
     "output_type": "execute_result"
    }
   ],
   "source": [
    "import os\n",
    "import pandas as pd\n",
    "import matplotlib.pyplot as plt\n",
    "\n",
    "# configuration bibliotheque pour les graphiques\n",
    "%matplotlib inline \n",
    "\n",
    "os.getcwd()"
   ]
  },
  {
   "cell_type": "code",
   "execution_count": 4,
   "metadata": {},
   "outputs": [
    {
     "data": {
      "text/html": [
       "<div>\n",
       "<style scoped>\n",
       "    .dataframe tbody tr th:only-of-type {\n",
       "        vertical-align: middle;\n",
       "    }\n",
       "\n",
       "    .dataframe tbody tr th {\n",
       "        vertical-align: top;\n",
       "    }\n",
       "\n",
       "    .dataframe thead th {\n",
       "        text-align: right;\n",
       "    }\n",
       "</style>\n",
       "<table border=\"1\" class=\"dataframe\">\n",
       "  <thead>\n",
       "    <tr style=\"text-align: right;\">\n",
       "      <th></th>\n",
       "      <th>age</th>\n",
       "      <th>gender</th>\n",
       "      <th>city</th>\n",
       "      <th>asbestos exposure</th>\n",
       "      <th>type of MM</th>\n",
       "      <th>duration of asbestos exposure</th>\n",
       "      <th>keep side</th>\n",
       "      <th>cytology</th>\n",
       "      <th>duration of symptoms</th>\n",
       "      <th>dyspnoea</th>\n",
       "      <th>...</th>\n",
       "      <th>pleural lactic dehydrogenise</th>\n",
       "      <th>pleural protein</th>\n",
       "      <th>pleural albumin</th>\n",
       "      <th>pleural glucose</th>\n",
       "      <th>dead or not</th>\n",
       "      <th>pleural effusion</th>\n",
       "      <th>pleural thickness on tomography</th>\n",
       "      <th>pleural level of acidity (pH)</th>\n",
       "      <th>C-reactive protein (CRP)</th>\n",
       "      <th>class of diagnosis</th>\n",
       "    </tr>\n",
       "  </thead>\n",
       "  <tbody>\n",
       "    <tr>\n",
       "      <th>0</th>\n",
       "      <td>47.0</td>\n",
       "      <td>1</td>\n",
       "      <td>0</td>\n",
       "      <td>1</td>\n",
       "      <td>0.0</td>\n",
       "      <td>20.0</td>\n",
       "      <td>0</td>\n",
       "      <td>1</td>\n",
       "      <td>24.0</td>\n",
       "      <td>1</td>\n",
       "      <td>...</td>\n",
       "      <td>289.0</td>\n",
       "      <td>0.0</td>\n",
       "      <td>0.00</td>\n",
       "      <td>79.0</td>\n",
       "      <td>1</td>\n",
       "      <td>0.0</td>\n",
       "      <td>0.0</td>\n",
       "      <td>0.0</td>\n",
       "      <td>34</td>\n",
       "      <td>1</td>\n",
       "    </tr>\n",
       "    <tr>\n",
       "      <th>1</th>\n",
       "      <td>55.0</td>\n",
       "      <td>1</td>\n",
       "      <td>0</td>\n",
       "      <td>1</td>\n",
       "      <td>0.0</td>\n",
       "      <td>45.0</td>\n",
       "      <td>0</td>\n",
       "      <td>0</td>\n",
       "      <td>1.0</td>\n",
       "      <td>1</td>\n",
       "      <td>...</td>\n",
       "      <td>7541.0</td>\n",
       "      <td>1.6</td>\n",
       "      <td>0.80</td>\n",
       "      <td>6.0</td>\n",
       "      <td>1</td>\n",
       "      <td>1.0</td>\n",
       "      <td>1.0</td>\n",
       "      <td>1.0</td>\n",
       "      <td>42</td>\n",
       "      <td>1</td>\n",
       "    </tr>\n",
       "    <tr>\n",
       "      <th>2</th>\n",
       "      <td>29.0</td>\n",
       "      <td>1</td>\n",
       "      <td>1</td>\n",
       "      <td>1</td>\n",
       "      <td>0.0</td>\n",
       "      <td>23.0</td>\n",
       "      <td>1</td>\n",
       "      <td>0</td>\n",
       "      <td>1.0</td>\n",
       "      <td>0</td>\n",
       "      <td>...</td>\n",
       "      <td>480.0</td>\n",
       "      <td>0.0</td>\n",
       "      <td>0.00</td>\n",
       "      <td>90.0</td>\n",
       "      <td>1</td>\n",
       "      <td>0.0</td>\n",
       "      <td>0.0</td>\n",
       "      <td>0.0</td>\n",
       "      <td>43</td>\n",
       "      <td>2</td>\n",
       "    </tr>\n",
       "    <tr>\n",
       "      <th>3</th>\n",
       "      <td>39.0</td>\n",
       "      <td>1</td>\n",
       "      <td>0</td>\n",
       "      <td>1</td>\n",
       "      <td>0.0</td>\n",
       "      <td>10.0</td>\n",
       "      <td>0</td>\n",
       "      <td>0</td>\n",
       "      <td>3.0</td>\n",
       "      <td>0</td>\n",
       "      <td>...</td>\n",
       "      <td>459.0</td>\n",
       "      <td>5.0</td>\n",
       "      <td>2.80</td>\n",
       "      <td>45.0</td>\n",
       "      <td>1</td>\n",
       "      <td>1.0</td>\n",
       "      <td>0.0</td>\n",
       "      <td>0.0</td>\n",
       "      <td>21</td>\n",
       "      <td>1</td>\n",
       "    </tr>\n",
       "    <tr>\n",
       "      <th>4</th>\n",
       "      <td>47.0</td>\n",
       "      <td>1</td>\n",
       "      <td>0</td>\n",
       "      <td>1</td>\n",
       "      <td>0.0</td>\n",
       "      <td>10.0</td>\n",
       "      <td>1</td>\n",
       "      <td>1</td>\n",
       "      <td>1.5</td>\n",
       "      <td>1</td>\n",
       "      <td>...</td>\n",
       "      <td>213.0</td>\n",
       "      <td>3.6</td>\n",
       "      <td>1.95</td>\n",
       "      <td>53.0</td>\n",
       "      <td>1</td>\n",
       "      <td>1.0</td>\n",
       "      <td>0.0</td>\n",
       "      <td>0.0</td>\n",
       "      <td>11</td>\n",
       "      <td>1</td>\n",
       "    </tr>\n",
       "  </tbody>\n",
       "</table>\n",
       "<p>5 rows × 34 columns</p>\n",
       "</div>"
      ],
      "text/plain": [
       "    age  gender  city  asbestos exposure  type of MM  \\\n",
       "0  47.0       1     0                  1         0.0   \n",
       "1  55.0       1     0                  1         0.0   \n",
       "2  29.0       1     1                  1         0.0   \n",
       "3  39.0       1     0                  1         0.0   \n",
       "4  47.0       1     0                  1         0.0   \n",
       "\n",
       "   duration of asbestos exposure  keep side  cytology  duration of symptoms  \\\n",
       "0                           20.0          0         1                  24.0   \n",
       "1                           45.0          0         0                   1.0   \n",
       "2                           23.0          1         0                   1.0   \n",
       "3                           10.0          0         0                   3.0   \n",
       "4                           10.0          1         1                   1.5   \n",
       "\n",
       "   dyspnoea  ...  pleural lactic dehydrogenise  pleural protein  \\\n",
       "0         1  ...                         289.0              0.0   \n",
       "1         1  ...                        7541.0              1.6   \n",
       "2         0  ...                         480.0              0.0   \n",
       "3         0  ...                         459.0              5.0   \n",
       "4         1  ...                         213.0              3.6   \n",
       "\n",
       "   pleural albumin  pleural glucose  dead or not  pleural effusion  \\\n",
       "0             0.00             79.0            1               0.0   \n",
       "1             0.80              6.0            1               1.0   \n",
       "2             0.00             90.0            1               0.0   \n",
       "3             2.80             45.0            1               1.0   \n",
       "4             1.95             53.0            1               1.0   \n",
       "\n",
       "   pleural thickness on tomography  pleural level of acidity (pH)  \\\n",
       "0                              0.0                            0.0   \n",
       "1                              1.0                            1.0   \n",
       "2                              0.0                            0.0   \n",
       "3                              0.0                            0.0   \n",
       "4                              0.0                            0.0   \n",
       "\n",
       "   C-reactive protein (CRP)  class of diagnosis  \n",
       "0                        34                   1  \n",
       "1                        42                   1  \n",
       "2                        43                   2  \n",
       "3                        21                   1  \n",
       "4                        11                   1  \n",
       "\n",
       "[5 rows x 34 columns]"
      ]
     },
     "execution_count": 4,
     "metadata": {},
     "output_type": "execute_result"
    }
   ],
   "source": [
    "df = pd.read_excel(\"mesothelioma_dataset.xlsx\")\n",
    "df = df.drop(columns = [\"diagnosis method\"]) # variable correlee avec la variable explicative donc a enlever (d'apres Valérie)\n",
    "df.head()"
   ]
  },
  {
   "cell_type": "code",
   "execution_count": 5,
   "metadata": {},
   "outputs": [
    {
     "data": {
      "text/plain": [
       "(324, 34)"
      ]
     },
     "execution_count": 5,
     "metadata": {},
     "output_type": "execute_result"
    }
   ],
   "source": [
    "# dimensions\n",
    "df.shape "
   ]
  },
  {
   "cell_type": "code",
   "execution_count": 6,
   "metadata": {},
   "outputs": [
    {
     "data": {
      "text/plain": [
       "11016"
      ]
     },
     "execution_count": 6,
     "metadata": {},
     "output_type": "execute_result"
    }
   ],
   "source": [
    "# nombre total d'éléments\n",
    "df.size"
   ]
  },
  {
   "cell_type": "code",
   "execution_count": 7,
   "metadata": {},
   "outputs": [
    {
     "data": {
      "text/html": [
       "<div>\n",
       "<style scoped>\n",
       "    .dataframe tbody tr th:only-of-type {\n",
       "        vertical-align: middle;\n",
       "    }\n",
       "\n",
       "    .dataframe tbody tr th {\n",
       "        vertical-align: top;\n",
       "    }\n",
       "\n",
       "    .dataframe thead th {\n",
       "        text-align: right;\n",
       "    }\n",
       "</style>\n",
       "<table border=\"1\" class=\"dataframe\">\n",
       "  <thead>\n",
       "    <tr style=\"text-align: right;\">\n",
       "      <th></th>\n",
       "      <th>age</th>\n",
       "      <th>gender</th>\n",
       "      <th>city</th>\n",
       "      <th>asbestos_exposure</th>\n",
       "      <th>type_of_MM</th>\n",
       "      <th>duration_of_asbestos_exposure</th>\n",
       "      <th>keep_side</th>\n",
       "      <th>cytology</th>\n",
       "      <th>duration_of_symptoms</th>\n",
       "      <th>dyspnoea</th>\n",
       "      <th>...</th>\n",
       "      <th>pleural_lactic_dehydrogenise</th>\n",
       "      <th>pleural_protein</th>\n",
       "      <th>pleural_albumin</th>\n",
       "      <th>pleural_glucose</th>\n",
       "      <th>dead_or_not</th>\n",
       "      <th>pleural_effusion</th>\n",
       "      <th>pleural_thickness_on_tomography</th>\n",
       "      <th>pleural_level_of_acidity_(pH)</th>\n",
       "      <th>C-reactive_protein_(CRP)</th>\n",
       "      <th>class_of_diagnosis</th>\n",
       "    </tr>\n",
       "  </thead>\n",
       "  <tbody>\n",
       "    <tr>\n",
       "      <th>0</th>\n",
       "      <td>47.0</td>\n",
       "      <td>1</td>\n",
       "      <td>0</td>\n",
       "      <td>1</td>\n",
       "      <td>0.0</td>\n",
       "      <td>20.0</td>\n",
       "      <td>0</td>\n",
       "      <td>1</td>\n",
       "      <td>24.0</td>\n",
       "      <td>1</td>\n",
       "      <td>...</td>\n",
       "      <td>289.0</td>\n",
       "      <td>0.0</td>\n",
       "      <td>0.00</td>\n",
       "      <td>79.0</td>\n",
       "      <td>1</td>\n",
       "      <td>0.0</td>\n",
       "      <td>0.0</td>\n",
       "      <td>0.0</td>\n",
       "      <td>34</td>\n",
       "      <td>1</td>\n",
       "    </tr>\n",
       "    <tr>\n",
       "      <th>1</th>\n",
       "      <td>55.0</td>\n",
       "      <td>1</td>\n",
       "      <td>0</td>\n",
       "      <td>1</td>\n",
       "      <td>0.0</td>\n",
       "      <td>45.0</td>\n",
       "      <td>0</td>\n",
       "      <td>0</td>\n",
       "      <td>1.0</td>\n",
       "      <td>1</td>\n",
       "      <td>...</td>\n",
       "      <td>7541.0</td>\n",
       "      <td>1.6</td>\n",
       "      <td>0.80</td>\n",
       "      <td>6.0</td>\n",
       "      <td>1</td>\n",
       "      <td>1.0</td>\n",
       "      <td>1.0</td>\n",
       "      <td>1.0</td>\n",
       "      <td>42</td>\n",
       "      <td>1</td>\n",
       "    </tr>\n",
       "    <tr>\n",
       "      <th>2</th>\n",
       "      <td>29.0</td>\n",
       "      <td>1</td>\n",
       "      <td>1</td>\n",
       "      <td>1</td>\n",
       "      <td>0.0</td>\n",
       "      <td>23.0</td>\n",
       "      <td>1</td>\n",
       "      <td>0</td>\n",
       "      <td>1.0</td>\n",
       "      <td>0</td>\n",
       "      <td>...</td>\n",
       "      <td>480.0</td>\n",
       "      <td>0.0</td>\n",
       "      <td>0.00</td>\n",
       "      <td>90.0</td>\n",
       "      <td>1</td>\n",
       "      <td>0.0</td>\n",
       "      <td>0.0</td>\n",
       "      <td>0.0</td>\n",
       "      <td>43</td>\n",
       "      <td>2</td>\n",
       "    </tr>\n",
       "    <tr>\n",
       "      <th>3</th>\n",
       "      <td>39.0</td>\n",
       "      <td>1</td>\n",
       "      <td>0</td>\n",
       "      <td>1</td>\n",
       "      <td>0.0</td>\n",
       "      <td>10.0</td>\n",
       "      <td>0</td>\n",
       "      <td>0</td>\n",
       "      <td>3.0</td>\n",
       "      <td>0</td>\n",
       "      <td>...</td>\n",
       "      <td>459.0</td>\n",
       "      <td>5.0</td>\n",
       "      <td>2.80</td>\n",
       "      <td>45.0</td>\n",
       "      <td>1</td>\n",
       "      <td>1.0</td>\n",
       "      <td>0.0</td>\n",
       "      <td>0.0</td>\n",
       "      <td>21</td>\n",
       "      <td>1</td>\n",
       "    </tr>\n",
       "    <tr>\n",
       "      <th>4</th>\n",
       "      <td>47.0</td>\n",
       "      <td>1</td>\n",
       "      <td>0</td>\n",
       "      <td>1</td>\n",
       "      <td>0.0</td>\n",
       "      <td>10.0</td>\n",
       "      <td>1</td>\n",
       "      <td>1</td>\n",
       "      <td>1.5</td>\n",
       "      <td>1</td>\n",
       "      <td>...</td>\n",
       "      <td>213.0</td>\n",
       "      <td>3.6</td>\n",
       "      <td>1.95</td>\n",
       "      <td>53.0</td>\n",
       "      <td>1</td>\n",
       "      <td>1.0</td>\n",
       "      <td>0.0</td>\n",
       "      <td>0.0</td>\n",
       "      <td>11</td>\n",
       "      <td>1</td>\n",
       "    </tr>\n",
       "  </tbody>\n",
       "</table>\n",
       "<p>5 rows × 34 columns</p>\n",
       "</div>"
      ],
      "text/plain": [
       "    age  gender  city  asbestos_exposure  type_of_MM  \\\n",
       "0  47.0       1     0                  1         0.0   \n",
       "1  55.0       1     0                  1         0.0   \n",
       "2  29.0       1     1                  1         0.0   \n",
       "3  39.0       1     0                  1         0.0   \n",
       "4  47.0       1     0                  1         0.0   \n",
       "\n",
       "   duration_of_asbestos_exposure  keep_side  cytology  duration_of_symptoms  \\\n",
       "0                           20.0          0         1                  24.0   \n",
       "1                           45.0          0         0                   1.0   \n",
       "2                           23.0          1         0                   1.0   \n",
       "3                           10.0          0         0                   3.0   \n",
       "4                           10.0          1         1                   1.5   \n",
       "\n",
       "   dyspnoea  ...  pleural_lactic_dehydrogenise  pleural_protein  \\\n",
       "0         1  ...                         289.0              0.0   \n",
       "1         1  ...                        7541.0              1.6   \n",
       "2         0  ...                         480.0              0.0   \n",
       "3         0  ...                         459.0              5.0   \n",
       "4         1  ...                         213.0              3.6   \n",
       "\n",
       "   pleural_albumin  pleural_glucose  dead_or_not  pleural_effusion  \\\n",
       "0             0.00             79.0            1               0.0   \n",
       "1             0.80              6.0            1               1.0   \n",
       "2             0.00             90.0            1               0.0   \n",
       "3             2.80             45.0            1               1.0   \n",
       "4             1.95             53.0            1               1.0   \n",
       "\n",
       "   pleural_thickness_on_tomography  pleural_level_of_acidity_(pH)  \\\n",
       "0                              0.0                            0.0   \n",
       "1                              1.0                            1.0   \n",
       "2                              0.0                            0.0   \n",
       "3                              0.0                            0.0   \n",
       "4                              0.0                            0.0   \n",
       "\n",
       "   C-reactive_protein_(CRP)  class_of_diagnosis  \n",
       "0                        34                   1  \n",
       "1                        42                   1  \n",
       "2                        43                   2  \n",
       "3                        21                   1  \n",
       "4                        11                   1  \n",
       "\n",
       "[5 rows x 34 columns]"
      ]
     },
     "execution_count": 7,
     "metadata": {},
     "output_type": "execute_result"
    }
   ],
   "source": [
    "# removing blank spaces in column names\n",
    "df.columns = df.columns.str.replace(' ', '_')\n",
    "df.head()"
   ]
  },
  {
   "cell_type": "markdown",
   "metadata": {},
   "source": [
    "Details on: https://www.overleaf.com/2229811927sftxcwqrxthn\n",
    "\n",
    "Résultats recherches en Fr de certaines variables:\n",
    "* **city**: où habite le patient (plus ou moins proche de la ville)\n",
    "* **asbestos exposure**: exposition à l'amiante, un silicate fibreux d’origine naturelle\n",
    "* **cytology**: dépistage par cytologie (= étude des cellules isolées)\n",
    "* **White Blood cell count (WBC)**: quantité de globule blanc\n",
    "* **haemoglobin (HGB)**: 0 ou 1 = anémie ou non??\n",
    "* **platelet count (PLT)**: nombre de plaquettes (thrombocytes) (low platelet concentration is called thrombocytopenia, and is due to either decreased production or increased destruction. Elevated platelet concentration is called thrombocytosis, and is either congenital, reactive (to cytokines), or due to unregulated production)\n",
    "* **sedimentation**:  sedimentation rate = blood test that checks for inflammation in your body (measures how fast red blood cells fall to the bottom of a tube. Inflammation creates proteins that make red blood cells fall more quickly)\n",
    "* **blood lactic dehydrogenise (LDH)**: taux de LDH ou Lactate déshydrogénase (type de protéine aussi appelé enzyme), quand des tissus sont endommagés ou malades, ils relâchent des isoenzymes de LDH dans le sang => le type de LDH rejetté dépend du tissu endommagé\n",
    "* **alkaline phosphatise (ALP)**: enzyme présente dans le sang, si le taux présent est élevé => problème éventuel = foie, hépatite, obstruction des voies biliaires, cirrhose ou problèmes au niveau des os\n",
    "* **total protein**: quantité totale de protéine (albumin+globulin) dans le sang (normal values = 6.0 to 8.3 grams per deciliter)"
   ]
  },
  {
   "cell_type": "code",
   "execution_count": 8,
   "metadata": {},
   "outputs": [
    {
     "data": {
      "text/plain": [
       "age                                 float64\n",
       "gender                                int64\n",
       "city                                  int64\n",
       "asbestos_exposure                     int64\n",
       "type_of_MM                          float64\n",
       "duration_of_asbestos_exposure       float64\n",
       "keep_side                             int64\n",
       "cytology                              int64\n",
       "duration_of_symptoms                float64\n",
       "dyspnoea                              int64\n",
       "ache_on_chest                         int64\n",
       "weakness                              int64\n",
       "habit_of_cigarette                    int64\n",
       "performance_status                    int64\n",
       "white_blood                         float64\n",
       "cell_count_(WBC)                      int64\n",
       "hemoglobin_(HGB)                      int64\n",
       "platelet_count_(PLT)                float64\n",
       "sedimentation                       float64\n",
       "blood_lactic_dehydrogenise_(LDH)    float64\n",
       "alkaline_phosphatise_(ALP)          float64\n",
       "total_protein                       float64\n",
       "albumin                             float64\n",
       "glucose                             float64\n",
       "pleural_lactic_dehydrogenise        float64\n",
       "pleural_protein                     float64\n",
       "pleural_albumin                     float64\n",
       "pleural_glucose                     float64\n",
       "dead_or_not                           int64\n",
       "pleural_effusion                    float64\n",
       "pleural_thickness_on_tomography     float64\n",
       "pleural_level_of_acidity_(pH)       float64\n",
       "C-reactive_protein_(CRP)              int64\n",
       "class_of_diagnosis                    int64\n",
       "dtype: object"
      ]
     },
     "execution_count": 8,
     "metadata": {},
     "output_type": "execute_result"
    }
   ],
   "source": [
    "# column types\n",
    "df.dtypes # some issue with type of categorical/boolean variables"
   ]
  },
  {
   "cell_type": "code",
   "execution_count": 9,
   "metadata": {},
   "outputs": [
    {
     "data": {
      "text/plain": [
       "array([1, 2])"
      ]
     },
     "execution_count": 9,
     "metadata": {},
     "output_type": "execute_result"
    }
   ],
   "source": [
    "df[\"class_of_diagnosis\"].unique() # target variable (boolean)"
   ]
  },
  {
   "cell_type": "code",
   "execution_count": 10,
   "metadata": {},
   "outputs": [],
   "source": [
    "df[\"class_of_diagnosis\"] = df[\"class_of_diagnosis\"].apply(lambda x: 1 if x == 2 else 0)"
   ]
  },
  {
   "cell_type": "code",
   "execution_count": 11,
   "metadata": {},
   "outputs": [
    {
     "data": {
      "text/plain": [
       "array([0, 1, 3, 4, 5, 2, 6, 7, 8])"
      ]
     },
     "execution_count": 11,
     "metadata": {},
     "output_type": "execute_result"
    }
   ],
   "source": [
    "df[\"city\"].unique()"
   ]
  },
  {
   "cell_type": "code",
   "execution_count": 12,
   "metadata": {},
   "outputs": [
    {
     "data": {
      "text/plain": [
       "array([0., 1., 2.])"
      ]
     },
     "execution_count": 12,
     "metadata": {},
     "output_type": "execute_result"
    }
   ],
   "source": [
    "df[\"type_of_MM\"].unique() # float instead of int"
   ]
  },
  {
   "cell_type": "code",
   "execution_count": 13,
   "metadata": {},
   "outputs": [],
   "source": [
    "df[\"type_of_MM\"] = df[\"type_of_MM\"].astype('int')"
   ]
  },
  {
   "cell_type": "code",
   "execution_count": 14,
   "metadata": {},
   "outputs": [
    {
     "data": {
      "text/plain": [
       "array([0., 1.])"
      ]
     },
     "execution_count": 14,
     "metadata": {},
     "output_type": "execute_result"
    }
   ],
   "source": [
    "df[\"pleural_level_of_acidity_(pH)\"].unique() # same"
   ]
  },
  {
   "cell_type": "code",
   "execution_count": 15,
   "metadata": {},
   "outputs": [],
   "source": [
    "df[\"pleural_level_of_acidity_(pH)\"] = df[\"pleural_level_of_acidity_(pH)\"].astype('int')"
   ]
  },
  {
   "cell_type": "code",
   "execution_count": 16,
   "metadata": {},
   "outputs": [
    {
     "data": {
      "text/plain": [
       "array([0, 1, 2])"
      ]
     },
     "execution_count": 16,
     "metadata": {},
     "output_type": "execute_result"
    }
   ],
   "source": [
    "df[\"keep_side\"].unique() # keep_side is lung_side in another paper using the same data"
   ]
  },
  {
   "cell_type": "code",
   "execution_count": 17,
   "metadata": {},
   "outputs": [
    {
     "data": {
      "text/plain": [
       "0      0\n",
       "1      0\n",
       "2      1\n",
       "3      0\n",
       "4      1\n",
       "      ..\n",
       "319    1\n",
       "320    1\n",
       "321    0\n",
       "322    1\n",
       "323    1\n",
       "Name: lung_side, Length: 324, dtype: int64"
      ]
     },
     "execution_count": 17,
     "metadata": {},
     "output_type": "execute_result"
    }
   ],
   "source": [
    "df = df.rename(columns={'keep_side':'lung_side'}) # changing name\n",
    "df.lung_side # 0 = no pleural plaque (1 or 2 = right or left side of the lung)"
   ]
  },
  {
   "cell_type": "code",
   "execution_count": 18,
   "metadata": {},
   "outputs": [
    {
     "data": {
      "text/plain": [
       "array([1, 0])"
      ]
     },
     "execution_count": 18,
     "metadata": {},
     "output_type": "execute_result"
    }
   ],
   "source": [
    "df[\"cytology\"].unique() # boolean"
   ]
  },
  {
   "cell_type": "code",
   "execution_count": 19,
   "metadata": {},
   "outputs": [
    {
     "data": {
      "text/plain": [
       "array([1, 0])"
      ]
     },
     "execution_count": 19,
     "metadata": {},
     "output_type": "execute_result"
    }
   ],
   "source": [
    "df[\"gender\"].unique() # category"
   ]
  },
  {
   "cell_type": "code",
   "execution_count": 20,
   "metadata": {},
   "outputs": [
    {
     "data": {
      "text/plain": [
       "array([2, 3, 0, 1])"
      ]
     },
     "execution_count": 20,
     "metadata": {},
     "output_type": "execute_result"
    }
   ],
   "source": [
    "df[\"habit_of_cigarette\"].unique() # categoryy"
   ]
  },
  {
   "cell_type": "code",
   "execution_count": 21,
   "metadata": {},
   "outputs": [
    {
     "data": {
      "text/plain": [
       "array([0., 1.])"
      ]
     },
     "execution_count": 21,
     "metadata": {},
     "output_type": "execute_result"
    }
   ],
   "source": [
    "df[\"pleural_effusion\"].unique() # boolean (need to be converted in int type)"
   ]
  },
  {
   "cell_type": "code",
   "execution_count": 22,
   "metadata": {},
   "outputs": [],
   "source": [
    "df[\"pleural_effusion\"] = df[\"pleural_effusion\"].astype('int')"
   ]
  },
  {
   "cell_type": "code",
   "execution_count": 23,
   "metadata": {},
   "outputs": [
    {
     "data": {
      "text/plain": [
       "array([0., 1.])"
      ]
     },
     "execution_count": 23,
     "metadata": {},
     "output_type": "execute_result"
    }
   ],
   "source": [
    "df[\"pleural_thickness_on_tomography\"].unique() # boolean (need to be converted in int type)"
   ]
  },
  {
   "cell_type": "code",
   "execution_count": 24,
   "metadata": {},
   "outputs": [],
   "source": [
    "df[\"pleural_thickness_on_tomography\"] = df[\"pleural_thickness_on_tomography\"].astype('int')"
   ]
  },
  {
   "cell_type": "code",
   "execution_count": 25,
   "metadata": {},
   "outputs": [
    {
     "data": {
      "text/plain": [
       "array([1, 0])"
      ]
     },
     "execution_count": 25,
     "metadata": {},
     "output_type": "execute_result"
    }
   ],
   "source": [
    "df[\"hemoglobin_(HGB)\"].unique() # boolean"
   ]
  },
  {
   "cell_type": "code",
   "execution_count": 26,
   "metadata": {},
   "outputs": [
    {
     "data": {
      "text/plain": [
       "array([1, 0])"
      ]
     },
     "execution_count": 26,
     "metadata": {},
     "output_type": "execute_result"
    }
   ],
   "source": [
    "df[\"performance_status\"].unique() # boolean"
   ]
  },
  {
   "cell_type": "code",
   "execution_count": 27,
   "metadata": {},
   "outputs": [
    {
     "data": {
      "text/plain": [
       "array([0, 1])"
      ]
     },
     "execution_count": 27,
     "metadata": {},
     "output_type": "execute_result"
    }
   ],
   "source": [
    "df[\"weakness\"].unique() # boolean"
   ]
  },
  {
   "cell_type": "code",
   "execution_count": 28,
   "metadata": {},
   "outputs": [
    {
     "data": {
      "text/plain": [
       "array([1, 0])"
      ]
     },
     "execution_count": 28,
     "metadata": {},
     "output_type": "execute_result"
    }
   ],
   "source": [
    "df[\"ache_on_chest\"].unique() # boolean"
   ]
  },
  {
   "cell_type": "code",
   "execution_count": 29,
   "metadata": {},
   "outputs": [
    {
     "data": {
      "text/plain": [
       "array([1, 0])"
      ]
     },
     "execution_count": 29,
     "metadata": {},
     "output_type": "execute_result"
    }
   ],
   "source": [
    "df[\"dyspnoea\"].unique() # boolean"
   ]
  },
  {
   "cell_type": "code",
   "execution_count": 30,
   "metadata": {},
   "outputs": [
    {
     "data": {
      "text/plain": [
       "array([1, 0])"
      ]
     },
     "execution_count": 30,
     "metadata": {},
     "output_type": "execute_result"
    }
   ],
   "source": [
    "df[\"asbestos_exposure\"].unique() # boolean"
   ]
  },
  {
   "cell_type": "code",
   "execution_count": 31,
   "metadata": {},
   "outputs": [
    {
     "name": "stdout",
     "output_type": "stream",
     "text": [
      "<class 'pandas.core.frame.DataFrame'>\n",
      "RangeIndex: 324 entries, 0 to 323\n",
      "Data columns (total 34 columns):\n",
      " #   Column                            Non-Null Count  Dtype  \n",
      "---  ------                            --------------  -----  \n",
      " 0   age                               324 non-null    float64\n",
      " 1   gender                            324 non-null    int64  \n",
      " 2   city                              324 non-null    int64  \n",
      " 3   asbestos_exposure                 324 non-null    int64  \n",
      " 4   type_of_MM                        324 non-null    int64  \n",
      " 5   duration_of_asbestos_exposure     324 non-null    float64\n",
      " 6   lung_side                         324 non-null    int64  \n",
      " 7   cytology                          324 non-null    int64  \n",
      " 8   duration_of_symptoms              324 non-null    float64\n",
      " 9   dyspnoea                          324 non-null    int64  \n",
      " 10  ache_on_chest                     324 non-null    int64  \n",
      " 11  weakness                          324 non-null    int64  \n",
      " 12  habit_of_cigarette                324 non-null    int64  \n",
      " 13  performance_status                324 non-null    int64  \n",
      " 14  white_blood                       324 non-null    float64\n",
      " 15  cell_count_(WBC)                  324 non-null    int64  \n",
      " 16  hemoglobin_(HGB)                  324 non-null    int64  \n",
      " 17  platelet_count_(PLT)              324 non-null    float64\n",
      " 18  sedimentation                     324 non-null    float64\n",
      " 19  blood_lactic_dehydrogenise_(LDH)  324 non-null    float64\n",
      " 20  alkaline_phosphatise_(ALP)        324 non-null    float64\n",
      " 21  total_protein                     324 non-null    float64\n",
      " 22  albumin                           324 non-null    float64\n",
      " 23  glucose                           324 non-null    float64\n",
      " 24  pleural_lactic_dehydrogenise      324 non-null    float64\n",
      " 25  pleural_protein                   324 non-null    float64\n",
      " 26  pleural_albumin                   324 non-null    float64\n",
      " 27  pleural_glucose                   324 non-null    float64\n",
      " 28  dead_or_not                       324 non-null    int64  \n",
      " 29  pleural_effusion                  324 non-null    int64  \n",
      " 30  pleural_thickness_on_tomography   324 non-null    int64  \n",
      " 31  pleural_level_of_acidity_(pH)     324 non-null    int64  \n",
      " 32  C-reactive_protein_(CRP)          324 non-null    int64  \n",
      " 33  class_of_diagnosis                324 non-null    int64  \n",
      "dtypes: float64(15), int64(19)\n",
      "memory usage: 86.2 KB\n"
     ]
    }
   ],
   "source": [
    "df.info() # no NA"
   ]
  },
  {
   "cell_type": "code",
   "execution_count": 32,
   "metadata": {},
   "outputs": [
    {
     "data": {
      "text/html": [
       "<div>\n",
       "<style scoped>\n",
       "    .dataframe tbody tr th:only-of-type {\n",
       "        vertical-align: middle;\n",
       "    }\n",
       "\n",
       "    .dataframe tbody tr th {\n",
       "        vertical-align: top;\n",
       "    }\n",
       "\n",
       "    .dataframe thead th {\n",
       "        text-align: right;\n",
       "    }\n",
       "</style>\n",
       "<table border=\"1\" class=\"dataframe\">\n",
       "  <thead>\n",
       "    <tr style=\"text-align: right;\">\n",
       "      <th></th>\n",
       "      <th>age</th>\n",
       "      <th>gender</th>\n",
       "      <th>city</th>\n",
       "      <th>asbestos_exposure</th>\n",
       "      <th>type_of_MM</th>\n",
       "      <th>duration_of_asbestos_exposure</th>\n",
       "      <th>lung_side</th>\n",
       "      <th>cytology</th>\n",
       "      <th>duration_of_symptoms</th>\n",
       "      <th>dyspnoea</th>\n",
       "      <th>...</th>\n",
       "      <th>pleural_lactic_dehydrogenise</th>\n",
       "      <th>pleural_protein</th>\n",
       "      <th>pleural_albumin</th>\n",
       "      <th>pleural_glucose</th>\n",
       "      <th>dead_or_not</th>\n",
       "      <th>pleural_effusion</th>\n",
       "      <th>pleural_thickness_on_tomography</th>\n",
       "      <th>pleural_level_of_acidity_(pH)</th>\n",
       "      <th>C-reactive_protein_(CRP)</th>\n",
       "      <th>class_of_diagnosis</th>\n",
       "    </tr>\n",
       "  </thead>\n",
       "  <tbody>\n",
       "    <tr>\n",
       "      <th>count</th>\n",
       "      <td>324.000000</td>\n",
       "      <td>324.000000</td>\n",
       "      <td>324.000000</td>\n",
       "      <td>324.000000</td>\n",
       "      <td>324.000000</td>\n",
       "      <td>324.000000</td>\n",
       "      <td>324.000000</td>\n",
       "      <td>324.000000</td>\n",
       "      <td>324.000000</td>\n",
       "      <td>324.000000</td>\n",
       "      <td>...</td>\n",
       "      <td>324.000000</td>\n",
       "      <td>324.000000</td>\n",
       "      <td>324.000000</td>\n",
       "      <td>324.000000</td>\n",
       "      <td>324.000000</td>\n",
       "      <td>324.000000</td>\n",
       "      <td>324.000000</td>\n",
       "      <td>324.000000</td>\n",
       "      <td>324.000000</td>\n",
       "      <td>324.000000</td>\n",
       "    </tr>\n",
       "    <tr>\n",
       "      <th>mean</th>\n",
       "      <td>54.743827</td>\n",
       "      <td>0.586420</td>\n",
       "      <td>2.530864</td>\n",
       "      <td>0.864198</td>\n",
       "      <td>0.052469</td>\n",
       "      <td>30.188272</td>\n",
       "      <td>0.759259</td>\n",
       "      <td>0.280864</td>\n",
       "      <td>5.442901</td>\n",
       "      <td>0.817901</td>\n",
       "      <td>...</td>\n",
       "      <td>518.472222</td>\n",
       "      <td>3.937562</td>\n",
       "      <td>2.076883</td>\n",
       "      <td>48.444444</td>\n",
       "      <td>0.944444</td>\n",
       "      <td>0.870370</td>\n",
       "      <td>0.595679</td>\n",
       "      <td>0.521605</td>\n",
       "      <td>64.188272</td>\n",
       "      <td>0.296296</td>\n",
       "    </tr>\n",
       "    <tr>\n",
       "      <th>std</th>\n",
       "      <td>11.002637</td>\n",
       "      <td>0.493237</td>\n",
       "      <td>2.429623</td>\n",
       "      <td>0.343109</td>\n",
       "      <td>0.261622</td>\n",
       "      <td>16.419945</td>\n",
       "      <td>0.565308</td>\n",
       "      <td>0.450116</td>\n",
       "      <td>4.717792</td>\n",
       "      <td>0.386523</td>\n",
       "      <td>...</td>\n",
       "      <td>536.279128</td>\n",
       "      <td>1.575008</td>\n",
       "      <td>0.915411</td>\n",
       "      <td>27.232516</td>\n",
       "      <td>0.229416</td>\n",
       "      <td>0.336415</td>\n",
       "      <td>0.491519</td>\n",
       "      <td>0.500306</td>\n",
       "      <td>22.661837</td>\n",
       "      <td>0.457330</td>\n",
       "    </tr>\n",
       "    <tr>\n",
       "      <th>min</th>\n",
       "      <td>19.000000</td>\n",
       "      <td>0.000000</td>\n",
       "      <td>0.000000</td>\n",
       "      <td>0.000000</td>\n",
       "      <td>0.000000</td>\n",
       "      <td>0.000000</td>\n",
       "      <td>0.000000</td>\n",
       "      <td>0.000000</td>\n",
       "      <td>0.500000</td>\n",
       "      <td>0.000000</td>\n",
       "      <td>...</td>\n",
       "      <td>110.000000</td>\n",
       "      <td>0.000000</td>\n",
       "      <td>0.000000</td>\n",
       "      <td>2.000000</td>\n",
       "      <td>0.000000</td>\n",
       "      <td>0.000000</td>\n",
       "      <td>0.000000</td>\n",
       "      <td>0.000000</td>\n",
       "      <td>11.000000</td>\n",
       "      <td>0.000000</td>\n",
       "    </tr>\n",
       "    <tr>\n",
       "      <th>25%</th>\n",
       "      <td>47.000000</td>\n",
       "      <td>0.000000</td>\n",
       "      <td>0.000000</td>\n",
       "      <td>1.000000</td>\n",
       "      <td>0.000000</td>\n",
       "      <td>19.750000</td>\n",
       "      <td>0.000000</td>\n",
       "      <td>0.000000</td>\n",
       "      <td>2.875000</td>\n",
       "      <td>1.000000</td>\n",
       "      <td>...</td>\n",
       "      <td>322.000000</td>\n",
       "      <td>3.400000</td>\n",
       "      <td>1.607500</td>\n",
       "      <td>29.000000</td>\n",
       "      <td>1.000000</td>\n",
       "      <td>1.000000</td>\n",
       "      <td>0.000000</td>\n",
       "      <td>0.000000</td>\n",
       "      <td>42.000000</td>\n",
       "      <td>0.000000</td>\n",
       "    </tr>\n",
       "    <tr>\n",
       "      <th>50%</th>\n",
       "      <td>55.000000</td>\n",
       "      <td>1.000000</td>\n",
       "      <td>2.000000</td>\n",
       "      <td>1.000000</td>\n",
       "      <td>0.000000</td>\n",
       "      <td>34.000000</td>\n",
       "      <td>1.000000</td>\n",
       "      <td>0.000000</td>\n",
       "      <td>5.000000</td>\n",
       "      <td>1.000000</td>\n",
       "      <td>...</td>\n",
       "      <td>510.000000</td>\n",
       "      <td>4.200000</td>\n",
       "      <td>2.200000</td>\n",
       "      <td>38.000000</td>\n",
       "      <td>1.000000</td>\n",
       "      <td>1.000000</td>\n",
       "      <td>1.000000</td>\n",
       "      <td>1.000000</td>\n",
       "      <td>68.000000</td>\n",
       "      <td>0.000000</td>\n",
       "    </tr>\n",
       "    <tr>\n",
       "      <th>75%</th>\n",
       "      <td>63.000000</td>\n",
       "      <td>1.000000</td>\n",
       "      <td>5.000000</td>\n",
       "      <td>1.000000</td>\n",
       "      <td>0.000000</td>\n",
       "      <td>43.000000</td>\n",
       "      <td>1.000000</td>\n",
       "      <td>1.000000</td>\n",
       "      <td>7.000000</td>\n",
       "      <td>1.000000</td>\n",
       "      <td>...</td>\n",
       "      <td>545.000000</td>\n",
       "      <td>4.925000</td>\n",
       "      <td>2.725000</td>\n",
       "      <td>75.000000</td>\n",
       "      <td>1.000000</td>\n",
       "      <td>1.000000</td>\n",
       "      <td>1.000000</td>\n",
       "      <td>1.000000</td>\n",
       "      <td>79.000000</td>\n",
       "      <td>1.000000</td>\n",
       "    </tr>\n",
       "    <tr>\n",
       "      <th>max</th>\n",
       "      <td>85.000000</td>\n",
       "      <td>1.000000</td>\n",
       "      <td>8.000000</td>\n",
       "      <td>1.000000</td>\n",
       "      <td>2.000000</td>\n",
       "      <td>70.000000</td>\n",
       "      <td>2.000000</td>\n",
       "      <td>1.000000</td>\n",
       "      <td>52.000000</td>\n",
       "      <td>1.000000</td>\n",
       "      <td>...</td>\n",
       "      <td>7541.000000</td>\n",
       "      <td>6.700000</td>\n",
       "      <td>4.400000</td>\n",
       "      <td>151.000000</td>\n",
       "      <td>1.000000</td>\n",
       "      <td>1.000000</td>\n",
       "      <td>1.000000</td>\n",
       "      <td>1.000000</td>\n",
       "      <td>103.000000</td>\n",
       "      <td>1.000000</td>\n",
       "    </tr>\n",
       "  </tbody>\n",
       "</table>\n",
       "<p>8 rows × 34 columns</p>\n",
       "</div>"
      ],
      "text/plain": [
       "              age      gender        city  asbestos_exposure  type_of_MM  \\\n",
       "count  324.000000  324.000000  324.000000         324.000000  324.000000   \n",
       "mean    54.743827    0.586420    2.530864           0.864198    0.052469   \n",
       "std     11.002637    0.493237    2.429623           0.343109    0.261622   \n",
       "min     19.000000    0.000000    0.000000           0.000000    0.000000   \n",
       "25%     47.000000    0.000000    0.000000           1.000000    0.000000   \n",
       "50%     55.000000    1.000000    2.000000           1.000000    0.000000   \n",
       "75%     63.000000    1.000000    5.000000           1.000000    0.000000   \n",
       "max     85.000000    1.000000    8.000000           1.000000    2.000000   \n",
       "\n",
       "       duration_of_asbestos_exposure   lung_side    cytology  \\\n",
       "count                     324.000000  324.000000  324.000000   \n",
       "mean                       30.188272    0.759259    0.280864   \n",
       "std                        16.419945    0.565308    0.450116   \n",
       "min                         0.000000    0.000000    0.000000   \n",
       "25%                        19.750000    0.000000    0.000000   \n",
       "50%                        34.000000    1.000000    0.000000   \n",
       "75%                        43.000000    1.000000    1.000000   \n",
       "max                        70.000000    2.000000    1.000000   \n",
       "\n",
       "       duration_of_symptoms    dyspnoea  ...  pleural_lactic_dehydrogenise  \\\n",
       "count            324.000000  324.000000  ...                    324.000000   \n",
       "mean               5.442901    0.817901  ...                    518.472222   \n",
       "std                4.717792    0.386523  ...                    536.279128   \n",
       "min                0.500000    0.000000  ...                    110.000000   \n",
       "25%                2.875000    1.000000  ...                    322.000000   \n",
       "50%                5.000000    1.000000  ...                    510.000000   \n",
       "75%                7.000000    1.000000  ...                    545.000000   \n",
       "max               52.000000    1.000000  ...                   7541.000000   \n",
       "\n",
       "       pleural_protein  pleural_albumin  pleural_glucose  dead_or_not  \\\n",
       "count       324.000000       324.000000       324.000000   324.000000   \n",
       "mean          3.937562         2.076883        48.444444     0.944444   \n",
       "std           1.575008         0.915411        27.232516     0.229416   \n",
       "min           0.000000         0.000000         2.000000     0.000000   \n",
       "25%           3.400000         1.607500        29.000000     1.000000   \n",
       "50%           4.200000         2.200000        38.000000     1.000000   \n",
       "75%           4.925000         2.725000        75.000000     1.000000   \n",
       "max           6.700000         4.400000       151.000000     1.000000   \n",
       "\n",
       "       pleural_effusion  pleural_thickness_on_tomography  \\\n",
       "count        324.000000                       324.000000   \n",
       "mean           0.870370                         0.595679   \n",
       "std            0.336415                         0.491519   \n",
       "min            0.000000                         0.000000   \n",
       "25%            1.000000                         0.000000   \n",
       "50%            1.000000                         1.000000   \n",
       "75%            1.000000                         1.000000   \n",
       "max            1.000000                         1.000000   \n",
       "\n",
       "       pleural_level_of_acidity_(pH)  C-reactive_protein_(CRP)  \\\n",
       "count                     324.000000                324.000000   \n",
       "mean                        0.521605                 64.188272   \n",
       "std                         0.500306                 22.661837   \n",
       "min                         0.000000                 11.000000   \n",
       "25%                         0.000000                 42.000000   \n",
       "50%                         1.000000                 68.000000   \n",
       "75%                         1.000000                 79.000000   \n",
       "max                         1.000000                103.000000   \n",
       "\n",
       "       class_of_diagnosis  \n",
       "count          324.000000  \n",
       "mean             0.296296  \n",
       "std              0.457330  \n",
       "min              0.000000  \n",
       "25%              0.000000  \n",
       "50%              0.000000  \n",
       "75%              1.000000  \n",
       "max              1.000000  \n",
       "\n",
       "[8 rows x 34 columns]"
      ]
     },
     "execution_count": 32,
     "metadata": {},
     "output_type": "execute_result"
    }
   ],
   "source": [
    "df.describe()"
   ]
  },
  {
   "cell_type": "code",
   "execution_count": 33,
   "metadata": {},
   "outputs": [],
   "source": [
    "# changing names of columns with brackets in it\n",
    "df = df.rename(columns={'platelet_count_(PLT)':'platelet_count'}) # changing name\n",
    "df = df.rename(columns={'cell_count_(WBC)':'cell_count'}) # changing name\n",
    "df = df.rename(columns={'hemoglobin_(HGB)':'hemoglobin'}) # changing name\n",
    "df = df.rename(columns={'blood_lactic_dehydrogenise_(LDH)':'blood_lactic_dehydrogenise'}) \n",
    "df = df.rename(columns={'alkaline_phosphatise_(ALP)':'alkaline_phosphatise'}) \n",
    "df = df.rename(columns={'pleural_level_of_acidity_(pH)':'pleural_level_of_acidity'}) \n",
    "df = df.rename(columns={'C-reactive_protein_(CRP)':'C_reactive_protein'}) "
   ]
  },
  {
   "cell_type": "code",
   "execution_count": 34,
   "metadata": {},
   "outputs": [],
   "source": [
    "# converting categorical variables into \"Categorical\" pandas type\n",
    "df[\"city\"] = pd.Categorical(df[\"city\"], ordered=False)\n",
    "df[\"type_of_MM\"] = pd.Categorical(df[\"type_of_MM\"], ordered=False)\n",
    "df[\"lung_side\"] = pd.Categorical(df[\"lung_side\"], ordered=False)\n",
    "df[\"habit_of_cigarette\"] = pd.Categorical(df[\"habit_of_cigarette\"], ordered=False)\n",
    "df[\"gender\"] = pd.Categorical(df[\"gender\"])\n",
    "df[\"performance_status\"] = pd.Categorical(df[\"performance_status\"], ordered=False)"
   ]
  },
  {
   "cell_type": "markdown",
   "metadata": {},
   "source": [
    "## Descriptive stats"
   ]
  },
  {
   "cell_type": "markdown",
   "metadata": {},
   "source": [
    "### Univariate stats"
   ]
  },
  {
   "cell_type": "code",
   "execution_count": 35,
   "metadata": {},
   "outputs": [],
   "source": [
    "# library & dataset\n",
    "import seaborn as sns\n",
    "\n",
    "# style \n",
    "sns.set(style=\"darkgrid\")"
   ]
  },
  {
   "cell_type": "code",
   "execution_count": 36,
   "metadata": {},
   "outputs": [
    {
     "data": {
      "text/plain": [
       "0    310\n",
       "1     11\n",
       "2      3\n",
       "Name: type_of_MM, dtype: int64"
      ]
     },
     "execution_count": 36,
     "metadata": {},
     "output_type": "execute_result"
    }
   ],
   "source": [
    "df[\"type_of_MM\"].value_counts() # more people with 0 as type of MM (which stands for no MM)"
   ]
  },
  {
   "cell_type": "code",
   "execution_count": 37,
   "metadata": {},
   "outputs": [
    {
     "data": {
      "text/plain": [
       "0    228\n",
       "1     96\n",
       "Name: class_of_diagnosis, dtype: int64"
      ]
     },
     "execution_count": 37,
     "metadata": {},
     "output_type": "execute_result"
    }
   ],
   "source": [
    "df[\"class_of_diagnosis\"].value_counts() # 96 non-healthy for 228 healthy"
   ]
  },
  {
   "cell_type": "code",
   "execution_count": 38,
   "metadata": {},
   "outputs": [
    {
     "name": "stdout",
     "output_type": "stream",
     "text": [
      "70.37% healthy and 29.54% non healthy in the dataset\n"
     ]
    }
   ],
   "source": [
    "print(\"{:.2f}% healthy and {:.2f}% non healthy in the dataset\".format(228/(228+96)*100,\n",
    "                                                            96/(229+96)*100))"
   ]
  },
  {
   "cell_type": "code",
   "execution_count": 39,
   "metadata": {},
   "outputs": [],
   "source": [
    "# type_of_MM has information only on 14 out of 96 patients on the type of MM\n",
    "# so we will remove it from the dataset\n",
    "df = df.drop(\"type_of_MM\", axis=1)"
   ]
  },
  {
   "cell_type": "code",
   "execution_count": 40,
   "metadata": {},
   "outputs": [
    {
     "data": {
      "text/plain": [
       "<seaborn.axisgrid.FacetGrid at 0x7fe249cead10>"
      ]
     },
     "execution_count": 40,
     "metadata": {},
     "output_type": "execute_result"
    },
    {
     "data": {
      "image/png": "[encoded data removed]",
      "text/plain": [
       "<Figure size 360x360 with 1 Axes>"
      ]
     },
     "metadata": {},
     "output_type": "display_data"
    }
   ],
   "source": [
    "sns.displot(df, x=\"age\")"
   ]
  },
  {
   "cell_type": "code",
   "execution_count": 41,
   "metadata": {},
   "outputs": [
    {
     "data": {
      "text/plain": [
       "<seaborn.axisgrid.FacetGrid at 0x7fe249d66590>"
      ]
     },
     "execution_count": 41,
     "metadata": {},
     "output_type": "execute_result"
    },
    {
     "data": {
      "image/png": "[encoded data removed]",
      "text/plain": [
       "<Figure size 360x360 with 1 Axes>"
      ]
     },
     "metadata": {},
     "output_type": "display_data"
    }
   ],
   "source": [
    "sns.displot(df, x=\"duration_of_asbestos_exposure\")"
   ]
  },
  {
   "cell_type": "markdown",
   "metadata": {},
   "source": [
    "### Statistiques bivariées"
   ]
  },
  {
   "cell_type": "code",
   "execution_count": 42,
   "metadata": {},
   "outputs": [
    {
     "data": {
      "text/html": [
       "<div>\n",
       "<style scoped>\n",
       "    .dataframe tbody tr th:only-of-type {\n",
       "        vertical-align: middle;\n",
       "    }\n",
       "\n",
       "    .dataframe tbody tr th {\n",
       "        vertical-align: top;\n",
       "    }\n",
       "\n",
       "    .dataframe thead th {\n",
       "        text-align: right;\n",
       "    }\n",
       "</style>\n",
       "<table border=\"1\" class=\"dataframe\">\n",
       "  <thead>\n",
       "    <tr style=\"text-align: right;\">\n",
       "      <th>asbestos_exposure</th>\n",
       "      <th>0</th>\n",
       "      <th>1</th>\n",
       "    </tr>\n",
       "    <tr>\n",
       "      <th>class_of_diagnosis</th>\n",
       "      <th></th>\n",
       "      <th></th>\n",
       "    </tr>\n",
       "  </thead>\n",
       "  <tbody>\n",
       "    <tr>\n",
       "      <th>0</th>\n",
       "      <td>0.795455</td>\n",
       "      <td>0.689286</td>\n",
       "    </tr>\n",
       "    <tr>\n",
       "      <th>1</th>\n",
       "      <td>0.204545</td>\n",
       "      <td>0.310714</td>\n",
       "    </tr>\n",
       "  </tbody>\n",
       "</table>\n",
       "</div>"
      ],
      "text/plain": [
       "asbestos_exposure          0         1\n",
       "class_of_diagnosis                    \n",
       "0                   0.795455  0.689286\n",
       "1                   0.204545  0.310714"
      ]
     },
     "execution_count": 42,
     "metadata": {},
     "output_type": "execute_result"
    }
   ],
   "source": [
    "pd.crosstab(df[\"class_of_diagnosis\"], df[\"asbestos_exposure\"], normalize='columns') "
   ]
  },
  {
   "cell_type": "code",
   "execution_count": 43,
   "metadata": {},
   "outputs": [
    {
     "data": {
      "text/html": [
       "<div>\n",
       "<style scoped>\n",
       "    .dataframe tbody tr th:only-of-type {\n",
       "        vertical-align: middle;\n",
       "    }\n",
       "\n",
       "    .dataframe tbody tr th {\n",
       "        vertical-align: top;\n",
       "    }\n",
       "\n",
       "    .dataframe thead th {\n",
       "        text-align: right;\n",
       "    }\n",
       "</style>\n",
       "<table border=\"1\" class=\"dataframe\">\n",
       "  <thead>\n",
       "    <tr style=\"text-align: right;\">\n",
       "      <th>dead_or_not</th>\n",
       "      <th>0</th>\n",
       "      <th>1</th>\n",
       "    </tr>\n",
       "    <tr>\n",
       "      <th>class_of_diagnosis</th>\n",
       "      <th></th>\n",
       "      <th></th>\n",
       "    </tr>\n",
       "  </thead>\n",
       "  <tbody>\n",
       "    <tr>\n",
       "      <th>0</th>\n",
       "      <td>0.777778</td>\n",
       "      <td>0.699346</td>\n",
       "    </tr>\n",
       "    <tr>\n",
       "      <th>1</th>\n",
       "      <td>0.222222</td>\n",
       "      <td>0.300654</td>\n",
       "    </tr>\n",
       "  </tbody>\n",
       "</table>\n",
       "</div>"
      ],
      "text/plain": [
       "dead_or_not                0         1\n",
       "class_of_diagnosis                    \n",
       "0                   0.777778  0.699346\n",
       "1                   0.222222  0.300654"
      ]
     },
     "execution_count": 43,
     "metadata": {},
     "output_type": "execute_result"
    }
   ],
   "source": [
    "pd.crosstab(df[\"class_of_diagnosis\"], df[\"dead_or_not\"], normalize='columns') # more healthy (diagnosis=1) that die than not healthy, strange"
   ]
  },
  {
   "cell_type": "code",
   "execution_count": 44,
   "metadata": {},
   "outputs": [],
   "source": [
    "#df = df.drop(\"dead_or_not\", axis = 1)"
   ]
  },
  {
   "cell_type": "code",
   "execution_count": 45,
   "metadata": {},
   "outputs": [
    {
     "data": {
      "text/html": [
       "<div>\n",
       "<style scoped>\n",
       "    .dataframe tbody tr th:only-of-type {\n",
       "        vertical-align: middle;\n",
       "    }\n",
       "\n",
       "    .dataframe tbody tr th {\n",
       "        vertical-align: top;\n",
       "    }\n",
       "\n",
       "    .dataframe thead th {\n",
       "        text-align: right;\n",
       "    }\n",
       "</style>\n",
       "<table border=\"1\" class=\"dataframe\">\n",
       "  <thead>\n",
       "    <tr style=\"text-align: right;\">\n",
       "      <th>city</th>\n",
       "      <th>0</th>\n",
       "      <th>1</th>\n",
       "      <th>2</th>\n",
       "      <th>3</th>\n",
       "      <th>4</th>\n",
       "      <th>5</th>\n",
       "      <th>6</th>\n",
       "      <th>7</th>\n",
       "      <th>8</th>\n",
       "    </tr>\n",
       "    <tr>\n",
       "      <th>class_of_diagnosis</th>\n",
       "      <th></th>\n",
       "      <th></th>\n",
       "      <th></th>\n",
       "      <th></th>\n",
       "      <th></th>\n",
       "      <th></th>\n",
       "      <th></th>\n",
       "      <th></th>\n",
       "      <th></th>\n",
       "    </tr>\n",
       "  </thead>\n",
       "  <tbody>\n",
       "    <tr>\n",
       "      <th>0</th>\n",
       "      <td>0.72</td>\n",
       "      <td>0.833333</td>\n",
       "      <td>0.627451</td>\n",
       "      <td>0.52</td>\n",
       "      <td>0.666667</td>\n",
       "      <td>1.0</td>\n",
       "      <td>0.69697</td>\n",
       "      <td>0.846154</td>\n",
       "      <td>1.0</td>\n",
       "    </tr>\n",
       "    <tr>\n",
       "      <th>1</th>\n",
       "      <td>0.28</td>\n",
       "      <td>0.166667</td>\n",
       "      <td>0.372549</td>\n",
       "      <td>0.48</td>\n",
       "      <td>0.333333</td>\n",
       "      <td>0.0</td>\n",
       "      <td>0.30303</td>\n",
       "      <td>0.153846</td>\n",
       "      <td>0.0</td>\n",
       "    </tr>\n",
       "  </tbody>\n",
       "</table>\n",
       "</div>"
      ],
      "text/plain": [
       "city                   0         1         2     3         4    5        6  \\\n",
       "class_of_diagnosis                                                           \n",
       "0                   0.72  0.833333  0.627451  0.52  0.666667  1.0  0.69697   \n",
       "1                   0.28  0.166667  0.372549  0.48  0.333333  0.0  0.30303   \n",
       "\n",
       "city                       7    8  \n",
       "class_of_diagnosis                 \n",
       "0                   0.846154  1.0  \n",
       "1                   0.153846  0.0  "
      ]
     },
     "execution_count": 45,
     "metadata": {},
     "output_type": "execute_result"
    }
   ],
   "source": [
    "pd.crosstab(df[\"class_of_diagnosis\"], df[\"city\"], normalize='columns') "
   ]
  },
  {
   "cell_type": "code",
   "execution_count": 46,
   "metadata": {},
   "outputs": [
    {
     "data": {
      "text/html": [
       "<div>\n",
       "<style scoped>\n",
       "    .dataframe tbody tr th:only-of-type {\n",
       "        vertical-align: middle;\n",
       "    }\n",
       "\n",
       "    .dataframe tbody tr th {\n",
       "        vertical-align: top;\n",
       "    }\n",
       "\n",
       "    .dataframe thead th {\n",
       "        text-align: right;\n",
       "    }\n",
       "</style>\n",
       "<table border=\"1\" class=\"dataframe\">\n",
       "  <thead>\n",
       "    <tr style=\"text-align: right;\">\n",
       "      <th>gender</th>\n",
       "      <th>0</th>\n",
       "      <th>1</th>\n",
       "    </tr>\n",
       "    <tr>\n",
       "      <th>class_of_diagnosis</th>\n",
       "      <th></th>\n",
       "      <th></th>\n",
       "    </tr>\n",
       "  </thead>\n",
       "  <tbody>\n",
       "    <tr>\n",
       "      <th>0</th>\n",
       "      <td>0.619403</td>\n",
       "      <td>0.763158</td>\n",
       "    </tr>\n",
       "    <tr>\n",
       "      <th>1</th>\n",
       "      <td>0.380597</td>\n",
       "      <td>0.236842</td>\n",
       "    </tr>\n",
       "  </tbody>\n",
       "</table>\n",
       "</div>"
      ],
      "text/plain": [
       "gender                     0         1\n",
       "class_of_diagnosis                    \n",
       "0                   0.619403  0.763158\n",
       "1                   0.380597  0.236842"
      ]
     },
     "execution_count": 46,
     "metadata": {},
     "output_type": "execute_result"
    }
   ],
   "source": [
    "pd.crosstab(df[\"class_of_diagnosis\"], df[\"gender\"], normalize='columns')"
   ]
  },
  {
   "cell_type": "code",
   "execution_count": 47,
   "metadata": {},
   "outputs": [
    {
     "data": {
      "text/html": [
       "<div>\n",
       "<style scoped>\n",
       "    .dataframe tbody tr th:only-of-type {\n",
       "        vertical-align: middle;\n",
       "    }\n",
       "\n",
       "    .dataframe tbody tr th {\n",
       "        vertical-align: top;\n",
       "    }\n",
       "\n",
       "    .dataframe thead th {\n",
       "        text-align: right;\n",
       "    }\n",
       "</style>\n",
       "<table border=\"1\" class=\"dataframe\">\n",
       "  <thead>\n",
       "    <tr style=\"text-align: right;\">\n",
       "      <th>performance_status</th>\n",
       "      <th>0</th>\n",
       "      <th>1</th>\n",
       "    </tr>\n",
       "    <tr>\n",
       "      <th>class_of_diagnosis</th>\n",
       "      <th></th>\n",
       "      <th></th>\n",
       "    </tr>\n",
       "  </thead>\n",
       "  <tbody>\n",
       "    <tr>\n",
       "      <th>0</th>\n",
       "      <td>0.722581</td>\n",
       "      <td>0.686391</td>\n",
       "    </tr>\n",
       "    <tr>\n",
       "      <th>1</th>\n",
       "      <td>0.277419</td>\n",
       "      <td>0.313609</td>\n",
       "    </tr>\n",
       "  </tbody>\n",
       "</table>\n",
       "</div>"
      ],
      "text/plain": [
       "performance_status         0         1\n",
       "class_of_diagnosis                    \n",
       "0                   0.722581  0.686391\n",
       "1                   0.277419  0.313609"
      ]
     },
     "execution_count": 47,
     "metadata": {},
     "output_type": "execute_result"
    }
   ],
   "source": [
    "pd.crosstab(df[\"class_of_diagnosis\"], df[\"performance_status\"], normalize='columns')"
   ]
  },
  {
   "cell_type": "code",
   "execution_count": 48,
   "metadata": {},
   "outputs": [
    {
     "data": {
      "text/html": [
       "<div>\n",
       "<style scoped>\n",
       "    .dataframe tbody tr th:only-of-type {\n",
       "        vertical-align: middle;\n",
       "    }\n",
       "\n",
       "    .dataframe tbody tr th {\n",
       "        vertical-align: top;\n",
       "    }\n",
       "\n",
       "    .dataframe thead th {\n",
       "        text-align: right;\n",
       "    }\n",
       "</style>\n",
       "<table border=\"1\" class=\"dataframe\">\n",
       "  <thead>\n",
       "    <tr style=\"text-align: right;\">\n",
       "      <th>habit_of_cigarette</th>\n",
       "      <th>0</th>\n",
       "      <th>1</th>\n",
       "      <th>2</th>\n",
       "      <th>3</th>\n",
       "    </tr>\n",
       "    <tr>\n",
       "      <th>class_of_diagnosis</th>\n",
       "      <th></th>\n",
       "      <th></th>\n",
       "      <th></th>\n",
       "      <th></th>\n",
       "    </tr>\n",
       "  </thead>\n",
       "  <tbody>\n",
       "    <tr>\n",
       "      <th>0</th>\n",
       "      <td>0.688525</td>\n",
       "      <td>0.72973</td>\n",
       "      <td>0.648148</td>\n",
       "      <td>0.8</td>\n",
       "    </tr>\n",
       "    <tr>\n",
       "      <th>1</th>\n",
       "      <td>0.311475</td>\n",
       "      <td>0.27027</td>\n",
       "      <td>0.351852</td>\n",
       "      <td>0.2</td>\n",
       "    </tr>\n",
       "  </tbody>\n",
       "</table>\n",
       "</div>"
      ],
      "text/plain": [
       "habit_of_cigarette         0        1         2    3\n",
       "class_of_diagnosis                                  \n",
       "0                   0.688525  0.72973  0.648148  0.8\n",
       "1                   0.311475  0.27027  0.351852  0.2"
      ]
     },
     "execution_count": 48,
     "metadata": {},
     "output_type": "execute_result"
    }
   ],
   "source": [
    "pd.crosstab(df[\"class_of_diagnosis\"], df[\"habit_of_cigarette\"], normalize='columns')"
   ]
  },
  {
   "cell_type": "markdown",
   "metadata": {},
   "source": [
    "### Graphic representations"
   ]
  },
  {
   "cell_type": "code",
   "execution_count": 49,
   "metadata": {},
   "outputs": [
    {
     "name": "stderr",
     "output_type": "stream",
     "text": [
      "'c' argument looks like a single numeric RGB or RGBA sequence, which should be avoided as value-mapping will have precedence in case its length matches with 'x' & 'y'.  Please use a 2-D array with a single row if you really want to specify the same RGB or RGBA value for all points.\n"
     ]
    },
    {
     "data": {
      "text/plain": [
       "<matplotlib.axes._subplots.AxesSubplot at 0x7fe24a41ce90>"
      ]
     },
     "execution_count": 49,
     "metadata": {},
     "output_type": "execute_result"
    },
    {
     "data": {
      "image/png": "[encoded data removed]",
      "text/plain": [
       "<Figure size 432x288 with 1 Axes>"
      ]
     },
     "metadata": {},
     "output_type": "display_data"
    }
   ],
   "source": [
    "var = df[df[\"asbestos_exposure\"] == 1]\n",
    "\n",
    "var.plot.scatter(title=\"Age given duration of asbestos exposure\",\n",
    "         x=\"duration_of_symptoms\",\n",
    "         y=\"duration_of_asbestos_exposure\")"
   ]
  },
  {
   "cell_type": "code",
   "execution_count": 50,
   "metadata": {},
   "outputs": [
    {
     "data": {
      "text/plain": [
       "<seaborn.axisgrid.FacetGrid at 0x7fe24a41cd10>"
      ]
     },
     "execution_count": 50,
     "metadata": {},
     "output_type": "execute_result"
    },
    {
     "data": {
      "image/png": "[encoded data removed]",
      "text/plain": [
       "<Figure size 469.675x360 with 1 Axes>"
      ]
     },
     "metadata": {},
     "output_type": "display_data"
    }
   ],
   "source": [
    "sns.displot(data=var, x=\"duration_of_asbestos_exposure\", hue=\"class_of_diagnosis\", kind=\"ecdf\")"
   ]
  },
  {
   "cell_type": "code",
   "execution_count": 51,
   "metadata": {},
   "outputs": [
    {
     "data": {
      "text/html": [
       "<div>\n",
       "<style scoped>\n",
       "    .dataframe tbody tr th:only-of-type {\n",
       "        vertical-align: middle;\n",
       "    }\n",
       "\n",
       "    .dataframe tbody tr th {\n",
       "        vertical-align: top;\n",
       "    }\n",
       "\n",
       "    .dataframe thead th {\n",
       "        text-align: right;\n",
       "    }\n",
       "</style>\n",
       "<table border=\"1\" class=\"dataframe\">\n",
       "  <thead>\n",
       "    <tr style=\"text-align: right;\">\n",
       "      <th></th>\n",
       "      <th>age</th>\n",
       "      <th>asbestos_exposure</th>\n",
       "      <th>duration_of_asbestos_exposure</th>\n",
       "      <th>cytology</th>\n",
       "      <th>duration_of_symptoms</th>\n",
       "      <th>dyspnoea</th>\n",
       "      <th>ache_on_chest</th>\n",
       "      <th>weakness</th>\n",
       "      <th>white_blood</th>\n",
       "      <th>cell_count</th>\n",
       "      <th>...</th>\n",
       "      <th>city_8</th>\n",
       "      <th>lung_side_0</th>\n",
       "      <th>lung_side_1</th>\n",
       "      <th>lung_side_2</th>\n",
       "      <th>habit_of_cigarette_0</th>\n",
       "      <th>habit_of_cigarette_1</th>\n",
       "      <th>habit_of_cigarette_2</th>\n",
       "      <th>habit_of_cigarette_3</th>\n",
       "      <th>performance_status_0</th>\n",
       "      <th>performance_status_1</th>\n",
       "    </tr>\n",
       "  </thead>\n",
       "  <tbody>\n",
       "    <tr>\n",
       "      <th>0</th>\n",
       "      <td>47.0</td>\n",
       "      <td>1</td>\n",
       "      <td>20.0</td>\n",
       "      <td>1</td>\n",
       "      <td>24.0</td>\n",
       "      <td>1</td>\n",
       "      <td>1</td>\n",
       "      <td>0</td>\n",
       "      <td>8050.0</td>\n",
       "      <td>9</td>\n",
       "      <td>...</td>\n",
       "      <td>0</td>\n",
       "      <td>1</td>\n",
       "      <td>0</td>\n",
       "      <td>0</td>\n",
       "      <td>0</td>\n",
       "      <td>0</td>\n",
       "      <td>1</td>\n",
       "      <td>0</td>\n",
       "      <td>0</td>\n",
       "      <td>1</td>\n",
       "    </tr>\n",
       "    <tr>\n",
       "      <th>1</th>\n",
       "      <td>55.0</td>\n",
       "      <td>1</td>\n",
       "      <td>45.0</td>\n",
       "      <td>0</td>\n",
       "      <td>1.0</td>\n",
       "      <td>1</td>\n",
       "      <td>1</td>\n",
       "      <td>1</td>\n",
       "      <td>11200.0</td>\n",
       "      <td>7</td>\n",
       "      <td>...</td>\n",
       "      <td>0</td>\n",
       "      <td>1</td>\n",
       "      <td>0</td>\n",
       "      <td>0</td>\n",
       "      <td>0</td>\n",
       "      <td>0</td>\n",
       "      <td>0</td>\n",
       "      <td>1</td>\n",
       "      <td>1</td>\n",
       "      <td>0</td>\n",
       "    </tr>\n",
       "    <tr>\n",
       "      <th>2</th>\n",
       "      <td>29.0</td>\n",
       "      <td>1</td>\n",
       "      <td>23.0</td>\n",
       "      <td>0</td>\n",
       "      <td>1.0</td>\n",
       "      <td>0</td>\n",
       "      <td>0</td>\n",
       "      <td>0</td>\n",
       "      <td>5300.0</td>\n",
       "      <td>12</td>\n",
       "      <td>...</td>\n",
       "      <td>0</td>\n",
       "      <td>0</td>\n",
       "      <td>1</td>\n",
       "      <td>0</td>\n",
       "      <td>0</td>\n",
       "      <td>0</td>\n",
       "      <td>1</td>\n",
       "      <td>0</td>\n",
       "      <td>0</td>\n",
       "      <td>1</td>\n",
       "    </tr>\n",
       "    <tr>\n",
       "      <th>3</th>\n",
       "      <td>39.0</td>\n",
       "      <td>1</td>\n",
       "      <td>10.0</td>\n",
       "      <td>0</td>\n",
       "      <td>3.0</td>\n",
       "      <td>0</td>\n",
       "      <td>1</td>\n",
       "      <td>1</td>\n",
       "      <td>7910.0</td>\n",
       "      <td>14</td>\n",
       "      <td>...</td>\n",
       "      <td>0</td>\n",
       "      <td>1</td>\n",
       "      <td>0</td>\n",
       "      <td>0</td>\n",
       "      <td>1</td>\n",
       "      <td>0</td>\n",
       "      <td>0</td>\n",
       "      <td>0</td>\n",
       "      <td>0</td>\n",
       "      <td>1</td>\n",
       "    </tr>\n",
       "    <tr>\n",
       "      <th>4</th>\n",
       "      <td>47.0</td>\n",
       "      <td>1</td>\n",
       "      <td>10.0</td>\n",
       "      <td>1</td>\n",
       "      <td>1.5</td>\n",
       "      <td>1</td>\n",
       "      <td>1</td>\n",
       "      <td>0</td>\n",
       "      <td>9120.0</td>\n",
       "      <td>4</td>\n",
       "      <td>...</td>\n",
       "      <td>0</td>\n",
       "      <td>0</td>\n",
       "      <td>1</td>\n",
       "      <td>0</td>\n",
       "      <td>0</td>\n",
       "      <td>0</td>\n",
       "      <td>0</td>\n",
       "      <td>1</td>\n",
       "      <td>0</td>\n",
       "      <td>1</td>\n",
       "    </tr>\n",
       "  </tbody>\n",
       "</table>\n",
       "<p>5 rows × 46 columns</p>\n",
       "</div>"
      ],
      "text/plain": [
       "    age  asbestos_exposure  duration_of_asbestos_exposure  cytology  \\\n",
       "0  47.0                  1                           20.0         1   \n",
       "1  55.0                  1                           45.0         0   \n",
       "2  29.0                  1                           23.0         0   \n",
       "3  39.0                  1                           10.0         0   \n",
       "4  47.0                  1                           10.0         1   \n",
       "\n",
       "   duration_of_symptoms  dyspnoea  ache_on_chest  weakness  white_blood  \\\n",
       "0                  24.0         1              1         0       8050.0   \n",
       "1                   1.0         1              1         1      11200.0   \n",
       "2                   1.0         0              0         0       5300.0   \n",
       "3                   3.0         0              1         1       7910.0   \n",
       "4                   1.5         1              1         0       9120.0   \n",
       "\n",
       "   cell_count  ...  city_8  lung_side_0  lung_side_1  lung_side_2  \\\n",
       "0           9  ...       0            1            0            0   \n",
       "1           7  ...       0            1            0            0   \n",
       "2          12  ...       0            0            1            0   \n",
       "3          14  ...       0            1            0            0   \n",
       "4           4  ...       0            0            1            0   \n",
       "\n",
       "   habit_of_cigarette_0  habit_of_cigarette_1  habit_of_cigarette_2  \\\n",
       "0                     0                     0                     1   \n",
       "1                     0                     0                     0   \n",
       "2                     0                     0                     1   \n",
       "3                     1                     0                     0   \n",
       "4                     0                     0                     0   \n",
       "\n",
       "   habit_of_cigarette_3  performance_status_0  performance_status_1  \n",
       "0                     0                     0                     1  \n",
       "1                     1                     1                     0  \n",
       "2                     0                     0                     1  \n",
       "3                     0                     0                     1  \n",
       "4                     1                     0                     1  \n",
       "\n",
       "[5 rows x 46 columns]"
      ]
     },
     "execution_count": 51,
     "metadata": {},
     "output_type": "execute_result"
    }
   ],
   "source": [
    "# dataframe with dummys\n",
    "dc = pd.DataFrame(pd.get_dummies(df.drop('class_of_diagnosis', axis=1)))\n",
    "dc.head()"
   ]
  },
  {
   "cell_type": "markdown",
   "metadata": {},
   "source": [
    "### Correlation matrix"
   ]
  },
  {
   "cell_type": "code",
   "execution_count": null,
   "metadata": {},
   "outputs": [],
   "source": [
    "import seaborn as sns\n",
    "\n",
    "corrMatrix = df.select_dtypes(include='number').corr()\n",
    "\n",
    "plt.rcParams['figure.figsize'] = [20, 20]\n",
    "sns.heatmap(corrMatrix)\n",
    "plt.show() "
   ]
  },
  {
   "cell_type": "markdown",
   "metadata": {},
   "source": [
    "### Cramer's V"
   ]
  },
  {
   "cell_type": "markdown",
   "metadata": {},
   "source": [
    "Measure of association between two nominal variables. Gives a value between 0 (no association) and +1. It is based on Pearson's chi-squared statistic."
   ]
  },
  {
   "cell_type": "code",
   "execution_count": 53,
   "metadata": {},
   "outputs": [
    {
     "data": {
      "image/png": "[encoded data removed]",
      "text/plain": [
       "<Figure size 1080x720 with 2 Axes>"
      ]
     },
     "metadata": {},
     "output_type": "display_data"
    }
   ],
   "source": [
    "#corrMatrixD = df.select_dtypes(exclude='number').astype('int').apply(lambda x : pd.factorize(x)[0]).corr(method='pearson', min_periods=1) # use of pd.factorize\n",
    "# above done directly with Pearson, code's coming from: https://stackoverflow.com/questions/48035381/correlation-among-multiple-categorical-variables-pandas\n",
    "# => gives almost same results\n",
    "\n",
    "from scipy.stats import chi2_contingency\n",
    "import numpy as np\n",
    "\n",
    "# def fonction calculant le V de Cramer\n",
    "def cramers_V(var1,var2) :\n",
    "  crosstab = np.array(pd.crosstab(var1,var2, rownames = None, colnames = None)) # Cross table building\n",
    "  stat = chi2_contingency(crosstab)[0] # Keeping of the test statistic of the Chi2 test\n",
    "  obs = np.sum(crosstab) # Number of observations\n",
    "  mini = min(crosstab.shape)-1 # Take the minimum value between the columns and the rows of the cross table\n",
    "  return (stat/(obs*mini))\n",
    "\n",
    "rows= []\n",
    "\n",
    "# selection uniquement des var de type categorielle\n",
    "dfCat = df.select_dtypes(exclude='number')\n",
    "for var1 in dfCat:\n",
    "  col = []\n",
    "  for var2 in dfCat :\n",
    "    cramers = cramers_V(dfCat[var1], dfCat[var2]) # Cramer's V test\n",
    "    col.append(round(cramers,2)) # Keeping of the rounded value of the Cramer's V  \n",
    "  rows.append(col)\n",
    "  \n",
    "cramers_results = np.array(rows)\n",
    "corrMatrixD = pd.DataFrame(cramers_results, columns = dfCat.columns, index = dfCat.columns)\n",
    "\n",
    "plt.rcParams['figure.figsize'] = [15, 10]\n",
    "sns.heatmap(corrMatrixD, annot=True)\n",
    "plt.show()"
   ]
  },
  {
   "cell_type": "markdown",
   "metadata": {},
   "source": [
    "### Cramer's between Y and categorical variables"
   ]
  },
  {
   "cell_type": "code",
   "execution_count": 54,
   "metadata": {},
   "outputs": [
    {
     "data": {
      "image/png": "[encoded data removed]",
      "text/plain": [
       "<Figure size 144x360 with 2 Axes>"
      ]
     },
     "metadata": {},
     "output_type": "display_data"
    }
   ],
   "source": [
    "# table with cat var and class_of_diagnosis\n",
    "dfYcat = pd.concat([df.select_dtypes(exclude='number'), df[\"class_of_diagnosis\"]], axis = 1)\n",
    "rows = []\n",
    "\n",
    "for var in dfYcat:\n",
    "  col = []\n",
    "  cramers = cramers_V(dfYcat[\"class_of_diagnosis\"], dfYcat[var]) # Cramer's V test\n",
    "  col.append(round(cramers,2)) # Keeping of the rounded value of the Cramer's V  \n",
    "  rows.append(col)\n",
    "  \n",
    "cramers_results = np.array(rows)\n",
    "corrMatrixYcat = pd.DataFrame(cramers_results, columns=[\"Diagnosis\"], index=dfYcat.columns)\n",
    "\n",
    "plt.rcParams['figure.figsize'] = [2, 5]\n",
    "sns.heatmap(corrMatrixYcat, annot=True)\n",
    "plt.show()"
   ]
  },
  {
   "cell_type": "markdown",
   "metadata": {},
   "source": [
    "## PCA "
   ]
  },
  {
   "cell_type": "code",
   "execution_count": 55,
   "metadata": {},
   "outputs": [],
   "source": [
    "import numpy as np\n",
    "from sklearn.decomposition import PCA\n",
    "from sklearn import preprocessing"
   ]
  },
  {
   "cell_type": "code",
   "execution_count": 56,
   "metadata": {},
   "outputs": [
    {
     "data": {
      "text/html": [
       "<div>\n",
       "<style scoped>\n",
       "    .dataframe tbody tr th:only-of-type {\n",
       "        vertical-align: middle;\n",
       "    }\n",
       "\n",
       "    .dataframe tbody tr th {\n",
       "        vertical-align: top;\n",
       "    }\n",
       "\n",
       "    .dataframe thead th {\n",
       "        text-align: right;\n",
       "    }\n",
       "</style>\n",
       "<table border=\"1\" class=\"dataframe\">\n",
       "  <thead>\n",
       "    <tr style=\"text-align: right;\">\n",
       "      <th></th>\n",
       "      <th>0</th>\n",
       "      <th>1</th>\n",
       "      <th>2</th>\n",
       "      <th>3</th>\n",
       "      <th>4</th>\n",
       "      <th>5</th>\n",
       "      <th>6</th>\n",
       "      <th>7</th>\n",
       "      <th>8</th>\n",
       "      <th>9</th>\n",
       "      <th>...</th>\n",
       "      <th>36</th>\n",
       "      <th>37</th>\n",
       "      <th>38</th>\n",
       "      <th>39</th>\n",
       "      <th>40</th>\n",
       "      <th>41</th>\n",
       "      <th>42</th>\n",
       "      <th>43</th>\n",
       "      <th>44</th>\n",
       "      <th>45</th>\n",
       "    </tr>\n",
       "  </thead>\n",
       "  <tbody>\n",
       "    <tr>\n",
       "      <th>0</th>\n",
       "      <td>-0.704904</td>\n",
       "      <td>0.396412</td>\n",
       "      <td>-0.621441</td>\n",
       "      <td>1.600137</td>\n",
       "      <td>3.939513</td>\n",
       "      <td>0.471849</td>\n",
       "      <td>0.682688</td>\n",
       "      <td>-1.253566</td>\n",
       "      <td>-0.408502</td>\n",
       "      <td>-0.167178</td>\n",
       "      <td>...</td>\n",
       "      <td>-0.055641</td>\n",
       "      <td>1.496663</td>\n",
       "      <td>-1.286755</td>\n",
       "      <td>-0.269903</td>\n",
       "      <td>-1.139242</td>\n",
       "      <td>-0.359054</td>\n",
       "      <td>2.236068</td>\n",
       "      <td>-0.427179</td>\n",
       "      <td>-0.957685</td>\n",
       "      <td>0.957685</td>\n",
       "    </tr>\n",
       "    <tr>\n",
       "      <th>1</th>\n",
       "      <td>0.023319</td>\n",
       "      <td>0.396412</td>\n",
       "      <td>0.903452</td>\n",
       "      <td>-0.624946</td>\n",
       "      <td>-0.943190</td>\n",
       "      <td>0.471849</td>\n",
       "      <td>0.682688</td>\n",
       "      <td>0.797724</td>\n",
       "      <td>0.505760</td>\n",
       "      <td>-0.765693</td>\n",
       "      <td>...</td>\n",
       "      <td>-0.055641</td>\n",
       "      <td>1.496663</td>\n",
       "      <td>-1.286755</td>\n",
       "      <td>-0.269903</td>\n",
       "      <td>-1.139242</td>\n",
       "      <td>-0.359054</td>\n",
       "      <td>-0.447214</td>\n",
       "      <td>2.340940</td>\n",
       "      <td>1.044185</td>\n",
       "      <td>-1.044185</td>\n",
       "    </tr>\n",
       "    <tr>\n",
       "      <th>2</th>\n",
       "      <td>-2.343406</td>\n",
       "      <td>0.396412</td>\n",
       "      <td>-0.438454</td>\n",
       "      <td>-0.624946</td>\n",
       "      <td>-0.943190</td>\n",
       "      <td>-2.119322</td>\n",
       "      <td>-1.464797</td>\n",
       "      <td>-1.253566</td>\n",
       "      <td>-1.206667</td>\n",
       "      <td>0.730595</td>\n",
       "      <td>...</td>\n",
       "      <td>-0.055641</td>\n",
       "      <td>-0.668153</td>\n",
       "      <td>0.777149</td>\n",
       "      <td>-0.269903</td>\n",
       "      <td>-1.139242</td>\n",
       "      <td>-0.359054</td>\n",
       "      <td>2.236068</td>\n",
       "      <td>-0.427179</td>\n",
       "      <td>-0.957685</td>\n",
       "      <td>0.957685</td>\n",
       "    </tr>\n",
       "    <tr>\n",
       "      <th>3</th>\n",
       "      <td>-1.433127</td>\n",
       "      <td>0.396412</td>\n",
       "      <td>-1.231399</td>\n",
       "      <td>-0.624946</td>\n",
       "      <td>-0.518607</td>\n",
       "      <td>-2.119322</td>\n",
       "      <td>0.682688</td>\n",
       "      <td>0.797724</td>\n",
       "      <td>-0.449136</td>\n",
       "      <td>1.329110</td>\n",
       "      <td>...</td>\n",
       "      <td>-0.055641</td>\n",
       "      <td>1.496663</td>\n",
       "      <td>-1.286755</td>\n",
       "      <td>-0.269903</td>\n",
       "      <td>0.877777</td>\n",
       "      <td>-0.359054</td>\n",
       "      <td>-0.447214</td>\n",
       "      <td>-0.427179</td>\n",
       "      <td>-0.957685</td>\n",
       "      <td>0.957685</td>\n",
       "    </tr>\n",
       "    <tr>\n",
       "      <th>4</th>\n",
       "      <td>-0.704904</td>\n",
       "      <td>0.396412</td>\n",
       "      <td>-1.231399</td>\n",
       "      <td>1.600137</td>\n",
       "      <td>-0.837044</td>\n",
       "      <td>0.471849</td>\n",
       "      <td>0.682688</td>\n",
       "      <td>-1.253566</td>\n",
       "      <td>-0.097943</td>\n",
       "      <td>-1.663465</td>\n",
       "      <td>...</td>\n",
       "      <td>-0.055641</td>\n",
       "      <td>-0.668153</td>\n",
       "      <td>0.777149</td>\n",
       "      <td>-0.269903</td>\n",
       "      <td>-1.139242</td>\n",
       "      <td>-0.359054</td>\n",
       "      <td>-0.447214</td>\n",
       "      <td>2.340940</td>\n",
       "      <td>-0.957685</td>\n",
       "      <td>0.957685</td>\n",
       "    </tr>\n",
       "  </tbody>\n",
       "</table>\n",
       "<p>5 rows × 46 columns</p>\n",
       "</div>"
      ],
      "text/plain": [
       "         0         1         2         3         4         5         6   \\\n",
       "0 -0.704904  0.396412 -0.621441  1.600137  3.939513  0.471849  0.682688   \n",
       "1  0.023319  0.396412  0.903452 -0.624946 -0.943190  0.471849  0.682688   \n",
       "2 -2.343406  0.396412 -0.438454 -0.624946 -0.943190 -2.119322 -1.464797   \n",
       "3 -1.433127  0.396412 -1.231399 -0.624946 -0.518607 -2.119322  0.682688   \n",
       "4 -0.704904  0.396412 -1.231399  1.600137 -0.837044  0.471849  0.682688   \n",
       "\n",
       "         7         8         9   ...        36        37        38        39  \\\n",
       "0 -1.253566 -0.408502 -0.167178  ... -0.055641  1.496663 -1.286755 -0.269903   \n",
       "1  0.797724  0.505760 -0.765693  ... -0.055641  1.496663 -1.286755 -0.269903   \n",
       "2 -1.253566 -1.206667  0.730595  ... -0.055641 -0.668153  0.777149 -0.269903   \n",
       "3  0.797724 -0.449136  1.329110  ... -0.055641  1.496663 -1.286755 -0.269903   \n",
       "4 -1.253566 -0.097943 -1.663465  ... -0.055641 -0.668153  0.777149 -0.269903   \n",
       "\n",
       "         40        41        42        43        44        45  \n",
       "0 -1.139242 -0.359054  2.236068 -0.427179 -0.957685  0.957685  \n",
       "1 -1.139242 -0.359054 -0.447214  2.340940  1.044185 -1.044185  \n",
       "2 -1.139242 -0.359054  2.236068 -0.427179 -0.957685  0.957685  \n",
       "3  0.877777 -0.359054 -0.447214 -0.427179 -0.957685  0.957685  \n",
       "4 -1.139242 -0.359054 -0.447214  2.340940 -0.957685  0.957685  \n",
       "\n",
       "[5 rows x 46 columns]"
      ]
     },
     "execution_count": 56,
     "metadata": {},
     "output_type": "execute_result"
    }
   ],
   "source": [
    "X = dc#df.select_dtypes(include='number')\n",
    "scaler = preprocessing.StandardScaler().fit(X) # scaler\n",
    "\n",
    "X_scaled = pd.DataFrame(scaler.transform(X)) # scaling X\n",
    "y = df[\"class_of_diagnosis\"]\n",
    "X_scaled.head() "
   ]
  },
  {
   "cell_type": "code",
   "execution_count": 57,
   "metadata": {},
   "outputs": [
    {
     "data": {
      "text/plain": [
       "0.7261901188402051"
      ]
     },
     "execution_count": 57,
     "metadata": {},
     "output_type": "execute_result"
    }
   ],
   "source": [
    "n_components = 19\n",
    "\n",
    "#PCA\n",
    "pca = PCA(n_components=n_components)\n",
    "X_pca = pca.fit_transform(X_scaled)\n",
    "\n",
    "sum(pca.explained_variance_ratio_) # sum of the % of variance explained by earch of the selected components"
   ]
  },
  {
   "cell_type": "code",
   "execution_count": 58,
   "metadata": {},
   "outputs": [
    {
     "data": {
      "image/png": "[encoded data removed]",
      "text/plain": [
       "<Figure size 576x576 with 1 Axes>"
      ]
     },
     "metadata": {},
     "output_type": "display_data"
    }
   ],
   "source": [
    "colors = [\"navy\", \"turquoise\"]#, \"pink\"]\n",
    "\n",
    "plt.figure(figsize=(8, 8))\n",
    "for color, i, target_name in zip(colors, [0, 1], np.array([\"Healthy\", \"Not healthy\"])):\n",
    "    plt.scatter(\n",
    "        X_pca[y == i, 0],\n",
    "        X_pca[y == i, 1],\n",
    "        color=color,\n",
    "        lw=2,\n",
    "        label=target_name,\n",
    "    )\n",
    "\n",
    "plt.title(\"PCA of our dataset\")\n",
    "plt.legend(loc=\"best\", shadow=False, scatterpoints=1)\n",
    "\n",
    "plt.show()"
   ]
  },
  {
   "cell_type": "markdown",
   "metadata": {},
   "source": [
    "## Modelling"
   ]
  },
  {
   "cell_type": "code",
   "execution_count": 289,
   "metadata": {},
   "outputs": [],
   "source": [
    "# modelisation modules\n",
    "from pprint import pprint\n",
    "from numpy import mean, std\n",
    "from sklearn.model_selection import cross_val_score, GridSearchCV, RepeatedStratifiedKFold\n",
    "from sklearn.pipeline import Pipeline\n",
    "from matplotlib import pyplot\n",
    "from sklearn import preprocessing\n",
    "from sklearn import metrics\n",
    "from sklearn.linear_model import LogisticRegression\n",
    "from sklearn.model_selection import train_test_split\n",
    "from sklearn.feature_selection import RFE, RFECV\n",
    "from sklearn.ensemble import RandomForestClassifier\n",
    "from xgboost import XGBClassifier, to_graphviz\n",
    "from sklearn.tree import DecisionTreeClassifier  \n",
    "\n",
    "# plot configuration\n",
    "plt.rcParams['figure.figsize'] = [10, 10]"
   ]
  },
  {
   "cell_type": "code",
   "execution_count": 60,
   "metadata": {},
   "outputs": [
    {
     "name": "stdout",
     "output_type": "stream",
     "text": [
      "Index(['age', 'asbestos_exposure', 'duration_of_asbestos_exposure', 'cytology',\n",
      "       'duration_of_symptoms', 'dyspnoea', 'ache_on_chest', 'weakness',\n",
      "       'white_blood', 'cell_count', 'hemoglobin', 'platelet_count',\n",
      "       'sedimentation', 'blood_lactic_dehydrogenise', 'alkaline_phosphatise',\n",
      "       'total_protein', 'albumin', 'glucose', 'pleural_lactic_dehydrogenise',\n",
      "       'pleural_protein', 'pleural_albumin', 'pleural_glucose',\n",
      "       'pleural_effusion', 'pleural_thickness_on_tomography',\n",
      "       'pleural_level_of_acidity', 'C_reactive_protein', 'gender_0',\n",
      "       'gender_1', 'city_0', 'city_1', 'city_2', 'city_3', 'city_4', 'city_5',\n",
      "       'city_6', 'city_7', 'city_8', 'lung_side_0', 'lung_side_1',\n",
      "       'lung_side_2', 'habit_of_cigarette_0', 'habit_of_cigarette_1',\n",
      "       'habit_of_cigarette_2', 'habit_of_cigarette_3', 'performance_status_0',\n",
      "       'performance_status_1'],\n",
      "      dtype='object')\n"
     ]
    }
   ],
   "source": [
    "# variables used for modelisation\n",
    "print(dc.columns) # for now we keep variables in terms of dummys"
   ]
  },
  {
   "cell_type": "code",
   "execution_count": 61,
   "metadata": {},
   "outputs": [
    {
     "data": {
      "text/html": [
       "<div>\n",
       "<style scoped>\n",
       "    .dataframe tbody tr th:only-of-type {\n",
       "        vertical-align: middle;\n",
       "    }\n",
       "\n",
       "    .dataframe tbody tr th {\n",
       "        vertical-align: top;\n",
       "    }\n",
       "\n",
       "    .dataframe thead th {\n",
       "        text-align: right;\n",
       "    }\n",
       "</style>\n",
       "<table border=\"1\" class=\"dataframe\">\n",
       "  <thead>\n",
       "    <tr style=\"text-align: right;\">\n",
       "      <th></th>\n",
       "      <th>age</th>\n",
       "      <th>asbestos_exposure</th>\n",
       "      <th>duration_of_asbestos_exposure</th>\n",
       "      <th>cytology</th>\n",
       "      <th>duration_of_symptoms</th>\n",
       "      <th>dyspnoea</th>\n",
       "      <th>ache_on_chest</th>\n",
       "      <th>weakness</th>\n",
       "      <th>white_blood</th>\n",
       "      <th>cell_count</th>\n",
       "      <th>...</th>\n",
       "      <th>city_8</th>\n",
       "      <th>lung_side_0</th>\n",
       "      <th>lung_side_1</th>\n",
       "      <th>lung_side_2</th>\n",
       "      <th>habit_of_cigarette_0</th>\n",
       "      <th>habit_of_cigarette_1</th>\n",
       "      <th>habit_of_cigarette_2</th>\n",
       "      <th>habit_of_cigarette_3</th>\n",
       "      <th>performance_status_0</th>\n",
       "      <th>performance_status_1</th>\n",
       "    </tr>\n",
       "  </thead>\n",
       "  <tbody>\n",
       "    <tr>\n",
       "      <th>0</th>\n",
       "      <td>47.0</td>\n",
       "      <td>1</td>\n",
       "      <td>20.0</td>\n",
       "      <td>1</td>\n",
       "      <td>24.0</td>\n",
       "      <td>1</td>\n",
       "      <td>1</td>\n",
       "      <td>0</td>\n",
       "      <td>8050.0</td>\n",
       "      <td>9</td>\n",
       "      <td>...</td>\n",
       "      <td>0</td>\n",
       "      <td>1</td>\n",
       "      <td>0</td>\n",
       "      <td>0</td>\n",
       "      <td>0</td>\n",
       "      <td>0</td>\n",
       "      <td>1</td>\n",
       "      <td>0</td>\n",
       "      <td>0</td>\n",
       "      <td>1</td>\n",
       "    </tr>\n",
       "    <tr>\n",
       "      <th>1</th>\n",
       "      <td>55.0</td>\n",
       "      <td>1</td>\n",
       "      <td>45.0</td>\n",
       "      <td>0</td>\n",
       "      <td>1.0</td>\n",
       "      <td>1</td>\n",
       "      <td>1</td>\n",
       "      <td>1</td>\n",
       "      <td>11200.0</td>\n",
       "      <td>7</td>\n",
       "      <td>...</td>\n",
       "      <td>0</td>\n",
       "      <td>1</td>\n",
       "      <td>0</td>\n",
       "      <td>0</td>\n",
       "      <td>0</td>\n",
       "      <td>0</td>\n",
       "      <td>0</td>\n",
       "      <td>1</td>\n",
       "      <td>1</td>\n",
       "      <td>0</td>\n",
       "    </tr>\n",
       "    <tr>\n",
       "      <th>2</th>\n",
       "      <td>29.0</td>\n",
       "      <td>1</td>\n",
       "      <td>23.0</td>\n",
       "      <td>0</td>\n",
       "      <td>1.0</td>\n",
       "      <td>0</td>\n",
       "      <td>0</td>\n",
       "      <td>0</td>\n",
       "      <td>5300.0</td>\n",
       "      <td>12</td>\n",
       "      <td>...</td>\n",
       "      <td>0</td>\n",
       "      <td>0</td>\n",
       "      <td>1</td>\n",
       "      <td>0</td>\n",
       "      <td>0</td>\n",
       "      <td>0</td>\n",
       "      <td>1</td>\n",
       "      <td>0</td>\n",
       "      <td>0</td>\n",
       "      <td>1</td>\n",
       "    </tr>\n",
       "    <tr>\n",
       "      <th>3</th>\n",
       "      <td>39.0</td>\n",
       "      <td>1</td>\n",
       "      <td>10.0</td>\n",
       "      <td>0</td>\n",
       "      <td>3.0</td>\n",
       "      <td>0</td>\n",
       "      <td>1</td>\n",
       "      <td>1</td>\n",
       "      <td>7910.0</td>\n",
       "      <td>14</td>\n",
       "      <td>...</td>\n",
       "      <td>0</td>\n",
       "      <td>1</td>\n",
       "      <td>0</td>\n",
       "      <td>0</td>\n",
       "      <td>1</td>\n",
       "      <td>0</td>\n",
       "      <td>0</td>\n",
       "      <td>0</td>\n",
       "      <td>0</td>\n",
       "      <td>1</td>\n",
       "    </tr>\n",
       "    <tr>\n",
       "      <th>4</th>\n",
       "      <td>47.0</td>\n",
       "      <td>1</td>\n",
       "      <td>10.0</td>\n",
       "      <td>1</td>\n",
       "      <td>1.5</td>\n",
       "      <td>1</td>\n",
       "      <td>1</td>\n",
       "      <td>0</td>\n",
       "      <td>9120.0</td>\n",
       "      <td>4</td>\n",
       "      <td>...</td>\n",
       "      <td>0</td>\n",
       "      <td>0</td>\n",
       "      <td>1</td>\n",
       "      <td>0</td>\n",
       "      <td>0</td>\n",
       "      <td>0</td>\n",
       "      <td>0</td>\n",
       "      <td>1</td>\n",
       "      <td>0</td>\n",
       "      <td>1</td>\n",
       "    </tr>\n",
       "  </tbody>\n",
       "</table>\n",
       "<p>5 rows × 46 columns</p>\n",
       "</div>"
      ],
      "text/plain": [
       "    age  asbestos_exposure  duration_of_asbestos_exposure  cytology  \\\n",
       "0  47.0                  1                           20.0         1   \n",
       "1  55.0                  1                           45.0         0   \n",
       "2  29.0                  1                           23.0         0   \n",
       "3  39.0                  1                           10.0         0   \n",
       "4  47.0                  1                           10.0         1   \n",
       "\n",
       "   duration_of_symptoms  dyspnoea  ache_on_chest  weakness  white_blood  \\\n",
       "0                  24.0         1              1         0       8050.0   \n",
       "1                   1.0         1              1         1      11200.0   \n",
       "2                   1.0         0              0         0       5300.0   \n",
       "3                   3.0         0              1         1       7910.0   \n",
       "4                   1.5         1              1         0       9120.0   \n",
       "\n",
       "   cell_count  ...  city_8  lung_side_0  lung_side_1  lung_side_2  \\\n",
       "0           9  ...       0            1            0            0   \n",
       "1           7  ...       0            1            0            0   \n",
       "2          12  ...       0            0            1            0   \n",
       "3          14  ...       0            1            0            0   \n",
       "4           4  ...       0            0            1            0   \n",
       "\n",
       "   habit_of_cigarette_0  habit_of_cigarette_1  habit_of_cigarette_2  \\\n",
       "0                     0                     0                     1   \n",
       "1                     0                     0                     0   \n",
       "2                     0                     0                     1   \n",
       "3                     1                     0                     0   \n",
       "4                     0                     0                     0   \n",
       "\n",
       "   habit_of_cigarette_3  performance_status_0  performance_status_1  \n",
       "0                     0                     0                     1  \n",
       "1                     1                     1                     0  \n",
       "2                     0                     0                     1  \n",
       "3                     0                     0                     1  \n",
       "4                     1                     0                     1  \n",
       "\n",
       "[5 rows x 46 columns]"
      ]
     },
     "execution_count": 61,
     "metadata": {},
     "output_type": "execute_result"
    }
   ],
   "source": [
    "dc.head()"
   ]
  },
  {
   "cell_type": "code",
   "execution_count": 251,
   "metadata": {},
   "outputs": [],
   "source": [
    "X = dc.copy()#.drop(\"class_of_diagnosis\",axis=1).copy()\n",
    "y = df[\"class_of_diagnosis\"].copy()\n",
    "X_train, X_test, y_train, y_test = train_test_split(X, y, test_size=0.2, random_state=1, shuffle=True)"
   ]
  },
  {
   "cell_type": "code",
   "execution_count": 63,
   "metadata": {},
   "outputs": [
    {
     "data": {
      "text/plain": [
       "age                                float64\n",
       "asbestos_exposure                    int64\n",
       "duration_of_asbestos_exposure      float64\n",
       "cytology                             int64\n",
       "duration_of_symptoms               float64\n",
       "dyspnoea                             int64\n",
       "ache_on_chest                        int64\n",
       "weakness                             int64\n",
       "white_blood                        float64\n",
       "cell_count                           int64\n",
       "hemoglobin                           int64\n",
       "platelet_count                     float64\n",
       "sedimentation                      float64\n",
       "blood_lactic_dehydrogenise         float64\n",
       "alkaline_phosphatise               float64\n",
       "total_protein                      float64\n",
       "albumin                            float64\n",
       "glucose                            float64\n",
       "pleural_lactic_dehydrogenise       float64\n",
       "pleural_protein                    float64\n",
       "pleural_albumin                    float64\n",
       "pleural_glucose                    float64\n",
       "pleural_effusion                     int64\n",
       "pleural_thickness_on_tomography      int64\n",
       "pleural_level_of_acidity             int64\n",
       "C_reactive_protein                   int64\n",
       "gender_0                             uint8\n",
       "gender_1                             uint8\n",
       "city_0                               uint8\n",
       "city_1                               uint8\n",
       "city_2                               uint8\n",
       "city_3                               uint8\n",
       "city_4                               uint8\n",
       "city_5                               uint8\n",
       "city_6                               uint8\n",
       "city_7                               uint8\n",
       "city_8                               uint8\n",
       "lung_side_0                          uint8\n",
       "lung_side_1                          uint8\n",
       "lung_side_2                          uint8\n",
       "habit_of_cigarette_0                 uint8\n",
       "habit_of_cigarette_1                 uint8\n",
       "habit_of_cigarette_2                 uint8\n",
       "habit_of_cigarette_3                 uint8\n",
       "performance_status_0                 uint8\n",
       "performance_status_1                 uint8\n",
       "dtype: object"
      ]
     },
     "execution_count": 63,
     "metadata": {},
     "output_type": "execute_result"
    }
   ],
   "source": [
    "X_train.dtypes"
   ]
  },
  {
   "cell_type": "markdown",
   "metadata": {},
   "source": [
    "### 1st test: Multi-layer perceptron algorithm"
   ]
  },
  {
   "cell_type": "code",
   "execution_count": 64,
   "metadata": {},
   "outputs": [],
   "source": [
    "from sklearn.neural_network import MLPClassifier\n",
    "from sklearn.preprocessing import StandardScaler "
   ]
  },
  {
   "cell_type": "code",
   "execution_count": 65,
   "metadata": {},
   "outputs": [],
   "source": [
    "scaler = StandardScaler()  \n",
    "scaler.fit(X_train)\n",
    "X_train_s = scaler.transform(X_train)\n",
    "X_test_s = scaler.transform(X_test)"
   ]
  },
  {
   "cell_type": "code",
   "execution_count": 137,
   "metadata": {},
   "outputs": [
    {
     "name": "stdout",
     "output_type": "stream",
     "text": [
      "{'activation': ['tanh', 'relu'],\n",
      " 'alpha': [0.0001, 0.05],\n",
      " 'hidden_layer_sizes': [(5, 1, 2),\n",
      "                        (10, 1, 2),\n",
      "                        (20, 1, 2),\n",
      "                        (25, 1, 2),\n",
      "                        (75, 1, 2),\n",
      "                        (100, 1, 2),\n",
      "                        (5, 2, 2),\n",
      "                        (10, 2, 2),\n",
      "                        (20, 2, 2),\n",
      "                        (25, 2, 2),\n",
      "                        (75, 2, 2),\n",
      "                        (100, 2, 2),\n",
      "                        (5, 3, 2),\n",
      "                        (10, 3, 2),\n",
      "                        (20, 3, 2),\n",
      "                        (25, 3, 2),\n",
      "                        (75, 3, 2),\n",
      "                        (100, 3, 2)],\n",
      " 'learning_rate': ['constant', 'adaptive'],\n",
      " 'learning_rate_init': [0.001, 0.01, 0.05, 0.1],\n",
      " 'solver': ['adam', 'sgd']}\n",
      "{'activation': 'tanh', 'alpha': 0.0001, 'hidden_layer_sizes': (10, 3, 2), 'learning_rate': 'constant', 'learning_rate_init': 0.001, 'solver': 'adam'}\n"
     ]
    },
    {
     "name": "stderr",
     "output_type": "stream",
     "text": [
      "Stochastic Optimizer: Maximum iterations (500) reached and the optimization hasn't converged yet.\n"
     ]
    }
   ],
   "source": [
    "param_grid = {\n",
    "    'solver':['adam','sgd'],\n",
    "    'activation':['tanh','relu'],\n",
    "    'alpha':[0.0001,0.05],\n",
    "    'learning_rate':['constant','adaptive'],\n",
    "    'learning_rate_init': [0.001, 0.01, 0.05, 0.1],\n",
    "    'hidden_layer_sizes':[(5,1,2),(10,1,2),(20,1,2),(25,1,2),(75,1,2),(100,1,2),\n",
    "                          (5,2,2),(10,2,2),(20,2,2),(25,2,2),(75,2,2),(100,2,2),\n",
    "                          (5,3,2),(10,3,2),(20,3,2),(25,3,2),(75,3,2),(100,3,2)]\n",
    "}\n",
    "pprint(param_grid)\n",
    "\n",
    "optimal_params = GridSearchCV(\n",
    "    estimator=MLPClassifier(max_iter=500, solver='sgd'),\n",
    "    param_grid=param_grid,\n",
    "#     scoring = 'roc_auc',## For more scoring metics see: \n",
    "        ## https://scikit-learn.org/stable/modules/model_evaluation.html#scoring-parameter\n",
    "    verbose=0, # NOTE: If you want to see what Grid Search is doing, set verbose=2\n",
    "    n_jobs=10,\n",
    "    cv=3\n",
    ")\n",
    "\n",
    "optimal_params.fit(X_train_s, y_train)\n",
    "print(optimal_params.best_params_)"
   ]
  },
  {
   "cell_type": "code",
   "execution_count": 138,
   "metadata": {},
   "outputs": [
    {
     "data": {
      "text/plain": [
       "MLPClassifier(activation='tanh', hidden_layer_sizes=(10, 3, 2), max_iter=1000)"
      ]
     },
     "execution_count": 138,
     "metadata": {},
     "output_type": "execute_result"
    }
   ],
   "source": [
    "clf_mlp = MLPClassifier(activation='tanh', alpha=0.0001, solver='adam', \n",
    "                        learning_rate='constant', learning_rate_init=0.001,\n",
    "                        hidden_layer_sizes=(10,3,2), max_iter=1000)\n",
    "clf_mlp.fit(X_train_s, y_train)"
   ]
  },
  {
   "cell_type": "code",
   "execution_count": 144,
   "metadata": {},
   "outputs": [
    {
     "name": "stdout",
     "output_type": "stream",
     "text": [
      "              precision    recall  f1-score   support\n",
      "\n",
      "           0       0.77      0.79      0.78        47\n",
      "           1       0.41      0.39      0.40        18\n",
      "\n",
      "    accuracy                           0.68        65\n",
      "   macro avg       0.59      0.59      0.59        65\n",
      "weighted avg       0.67      0.68      0.67        65\n",
      "\n"
     ]
    }
   ],
   "source": [
    "# predictions\n",
    "pred = clf_mlp.predict(X_test_s)\n",
    "print(metrics.classification_report(y_test, pred))"
   ]
  },
  {
   "cell_type": "code",
   "execution_count": 140,
   "metadata": {},
   "outputs": [
    {
     "name": "stdout",
     "output_type": "stream",
     "text": [
      "0.676923076923077\n"
     ]
    }
   ],
   "source": [
    "# Use score method to get accuracy of model\n",
    "score = clf_mlp.score(X_test_s, y_test)\n",
    "print(score)"
   ]
  },
  {
   "cell_type": "code",
   "execution_count": 141,
   "metadata": {},
   "outputs": [
    {
     "data": {
      "text/plain": [
       "array([[0.98790355, 0.01209645],\n",
       "       [0.04018285, 0.95981715],\n",
       "       [0.08476869, 0.91523131],\n",
       "       [0.14050433, 0.85949567],\n",
       "       [0.02748909, 0.97251091],\n",
       "       [0.98749653, 0.01250347],\n",
       "       [0.98746003, 0.01253997],\n",
       "       [0.99157376, 0.00842624],\n",
       "       [0.9913826 , 0.0086174 ],\n",
       "       [0.97797501, 0.02202499],\n",
       "       [0.20270155, 0.79729845],\n",
       "       [0.98669519, 0.01330481],\n",
       "       [0.98947617, 0.01052383],\n",
       "       [0.98930772, 0.01069228],\n",
       "       [0.99107334, 0.00892666],\n",
       "       [0.99159005, 0.00840995],\n",
       "       [0.99132929, 0.00867071],\n",
       "       [0.99146356, 0.00853644],\n",
       "       [0.98902426, 0.01097574],\n",
       "       [0.98914612, 0.01085388],\n",
       "       [0.27686662, 0.72313338],\n",
       "       [0.24313643, 0.75686357],\n",
       "       [0.99063875, 0.00936125],\n",
       "       [0.99154907, 0.00845093],\n",
       "       [0.99133328, 0.00866672],\n",
       "       [0.95320212, 0.04679788],\n",
       "       [0.91315348, 0.08684652],\n",
       "       [0.02465024, 0.97534976],\n",
       "       [0.13455297, 0.86544703],\n",
       "       [0.99034802, 0.00965198],\n",
       "       [0.90612315, 0.09387685],\n",
       "       [0.9777173 , 0.0222827 ],\n",
       "       [0.98969966, 0.01030034],\n",
       "       [0.99152542, 0.00847458],\n",
       "       [0.96632839, 0.03367161],\n",
       "       [0.99056687, 0.00943313],\n",
       "       [0.9904222 , 0.0095778 ],\n",
       "       [0.91576535, 0.08423465],\n",
       "       [0.98767876, 0.01232124],\n",
       "       [0.99137325, 0.00862675],\n",
       "       [0.02498944, 0.97501056],\n",
       "       [0.04970656, 0.95029344],\n",
       "       [0.95843064, 0.04156936],\n",
       "       [0.98964383, 0.01035617],\n",
       "       [0.99113789, 0.00886211],\n",
       "       [0.04026027, 0.95973973],\n",
       "       [0.99116256, 0.00883744],\n",
       "       [0.98100621, 0.01899379],\n",
       "       [0.99070064, 0.00929936],\n",
       "       [0.02363028, 0.97636972],\n",
       "       [0.53308426, 0.46691574],\n",
       "       [0.98814753, 0.01185247],\n",
       "       [0.59565061, 0.40434939],\n",
       "       [0.1420973 , 0.8579027 ],\n",
       "       [0.98597928, 0.01402072],\n",
       "       [0.93749735, 0.06250265],\n",
       "       [0.99137819, 0.00862181],\n",
       "       [0.98463524, 0.01536476],\n",
       "       [0.03009308, 0.96990692],\n",
       "       [0.99152743, 0.00847257],\n",
       "       [0.98666805, 0.01333195],\n",
       "       [0.02381752, 0.97618248],\n",
       "       [0.03032575, 0.96967425],\n",
       "       [0.99155176, 0.00844824],\n",
       "       [0.59057853, 0.40942147]])"
      ]
     },
     "execution_count": 141,
     "metadata": {},
     "output_type": "execute_result"
    }
   ],
   "source": [
    "clf_mlp.predict_proba(X_test_s)"
   ]
  },
  {
   "cell_type": "code",
   "execution_count": 142,
   "metadata": {},
   "outputs": [],
   "source": [
    "cm = metrics.confusion_matrix(y_test, pred)"
   ]
  },
  {
   "cell_type": "code",
   "execution_count": 143,
   "metadata": {},
   "outputs": [
    {
     "data": {
      "image/png": "[encoded data removed]",
      "text/plain": [
       "<Figure size 720x720 with 2 Axes>"
      ]
     },
     "metadata": {},
     "output_type": "display_data"
    }
   ],
   "source": [
    "ax = plt.subplot()\n",
    "sns.heatmap(cm,annot=True,fmt=\"d\") \n",
    "ax.set_xlabel('Predictions'); ax.set_ylabel('True values'); \n",
    "ax.set_title('Confusion matrix'); \n",
    "plt.show() # not bad"
   ]
  },
  {
   "cell_type": "markdown",
   "metadata": {},
   "source": [
    "### SVM"
   ]
  },
  {
   "cell_type": "code",
   "execution_count": 73,
   "metadata": {},
   "outputs": [],
   "source": [
    "from sklearn import svm"
   ]
  },
  {
   "cell_type": "code",
   "execution_count": 89,
   "metadata": {},
   "outputs": [
    {
     "data": {
      "text/plain": [
       "SVC()"
      ]
     },
     "execution_count": 89,
     "metadata": {},
     "output_type": "execute_result"
    }
   ],
   "source": [
    "clf_svm = svm.SVC()\n",
    "clf_svm.fit(X_train_s, y_train)"
   ]
  },
  {
   "cell_type": "code",
   "execution_count": 92,
   "metadata": {},
   "outputs": [
    {
     "name": "stdout",
     "output_type": "stream",
     "text": [
      "              precision    recall  f1-score   support\n",
      "\n",
      "           0       0.76      1.00      0.86        47\n",
      "           1       1.00      0.17      0.29        18\n",
      "\n",
      "    accuracy                           0.77        65\n",
      "   macro avg       0.88      0.58      0.57        65\n",
      "weighted avg       0.83      0.77      0.70        65\n",
      "\n"
     ]
    }
   ],
   "source": [
    "# predictions\n",
    "pred = clf_svm.predict(X_test_s)\n",
    "print(metrics.classification_report(y_test, pred))"
   ]
  },
  {
   "cell_type": "code",
   "execution_count": 91,
   "metadata": {},
   "outputs": [
    {
     "name": "stdout",
     "output_type": "stream",
     "text": [
      "0.7692307692307693\n"
     ]
    }
   ],
   "source": [
    "score = clf_svm.score(X_test_s, y_test.values)\n",
    "print(score)"
   ]
  },
  {
   "cell_type": "code",
   "execution_count": 78,
   "metadata": {},
   "outputs": [
    {
     "data": {
      "image/png": "[encoded data removed]",
      "text/plain": [
       "<Figure size 720x720 with 2 Axes>"
      ]
     },
     "metadata": {},
     "output_type": "display_data"
    }
   ],
   "source": [
    "pred = clf_svm.predict(X_test_s)\n",
    "\n",
    "cm = metrics.confusion_matrix(y_test, pred)\n",
    "\n",
    "ax = plt.subplot()\n",
    "sns.heatmap(cm,annot=True,fmt=\"d\") \n",
    "ax.set_xlabel('Prediction'); ax.set_ylabel('True labels'); \n",
    "ax.set_title('Confusion matrix'); \n",
    "plt.show()"
   ]
  },
  {
   "cell_type": "markdown",
   "metadata": {},
   "source": [
    "### Recursive feature selection and Decision Tree"
   ]
  },
  {
   "cell_type": "code",
   "execution_count": 118,
   "metadata": {
    "scrolled": true
   },
   "outputs": [
    {
     "name": "stdout",
     "output_type": "stream",
     "text": [
      ">10 0.665 (0.089)\n",
      ">11 0.654 (0.086)\n",
      ">12 0.664 (0.092)\n",
      ">13 0.670 (0.081)\n",
      ">14 0.659 (0.078)\n",
      ">15 0.679 (0.063)\n",
      ">16 0.692 (0.080)\n",
      ">17 0.670 (0.083)\n",
      ">18 0.674 (0.084)\n",
      ">19 0.670 (0.083)\n",
      ">20 0.678 (0.091)\n",
      ">21 0.674 (0.092)\n",
      ">22 0.681 (0.099)\n",
      ">23 0.684 (0.086)\n",
      ">24 0.671 (0.091)\n",
      ">25 0.679 (0.086)\n",
      ">26 0.672 (0.088)\n",
      ">27 0.690 (0.092)\n",
      ">28 0.679 (0.101)\n",
      ">29 0.663 (0.098)\n",
      ">30 0.691 (0.091)\n"
     ]
    },
    {
     "data": {
      "image/png": "[encoded data removed]",
      "text/plain": [
       "<Figure size 720x720 with 1 Axes>"
      ]
     },
     "metadata": {},
     "output_type": "display_data"
    }
   ],
   "source": [
    "# get a list of models to evaluate\n",
    "def get_models():\n",
    "    models = dict()\n",
    "    for i in range(10, 31):\n",
    "        rfe = RFE(estimator=DecisionTreeClassifier(), n_features_to_select=i)\n",
    "        model = DecisionTreeClassifier()\n",
    "        models[str(i)] = Pipeline(steps=[('s',rfe),('m',model)])\n",
    "    return models\n",
    " \n",
    "# evaluate a give model using cross-validation\n",
    "def evaluate_model(model, X, y):\n",
    "    cv = RepeatedStratifiedKFold(n_splits=10, n_repeats=3, random_state=1)\n",
    "    scores = cross_val_score(model, X, y, scoring='accuracy', cv=cv, n_jobs=-1, error_score='raise')\n",
    "    return scores\n",
    " \n",
    "# define dataset\n",
    "#X, y = get_dataset()\n",
    "# get the models to evaluate\n",
    "models = get_models()\n",
    "# evaluate the models and store results\n",
    "results, names = list(), list()\n",
    "for name, model in models.items():\n",
    "    scores = evaluate_model(model, X, y)\n",
    "    results.append(scores)\n",
    "    names.append(name)\n",
    "    print('>%s %.3f (%.3f)' % (name, mean(scores), std(scores)))\n",
    "# plot model performance for comparison\n",
    "pyplot.boxplot(results, labels=names, showmeans=True)\n",
    "pyplot.show() # not significant changes in score when increasing the number of variables"
   ]
  },
  {
   "cell_type": "code",
   "execution_count": 85,
   "metadata": {},
   "outputs": [
    {
     "data": {
      "text/plain": [
       "DecisionTreeClassifier()"
      ]
     },
     "execution_count": 85,
     "metadata": {},
     "output_type": "execute_result"
    }
   ],
   "source": [
    "tree = DecisionTreeClassifier()\n",
    "tree.fit(X_train, y_train)"
   ]
  },
  {
   "cell_type": "code",
   "execution_count": 86,
   "metadata": {},
   "outputs": [
    {
     "name": "stdout",
     "output_type": "stream",
     "text": [
      "              precision    recall  f1-score   support\n",
      "\n",
      "           0       0.80      0.87      0.84        47\n",
      "           1       0.57      0.44      0.50        18\n",
      "\n",
      "    accuracy                           0.75        65\n",
      "   macro avg       0.69      0.66      0.67        65\n",
      "weighted avg       0.74      0.75      0.74        65\n",
      "\n"
     ]
    }
   ],
   "source": [
    "# predictions\n",
    "pred = tree.predict(X_test)\n",
    "print(metrics.classification_report(y_test, pred))"
   ]
  },
  {
   "cell_type": "code",
   "execution_count": 75,
   "metadata": {},
   "outputs": [
    {
     "name": "stdout",
     "output_type": "stream",
     "text": [
      "0.7230769230769231\n"
     ]
    }
   ],
   "source": [
    "score = tree.score(X_test, y_test)\n",
    "print(score)"
   ]
  },
  {
   "cell_type": "code",
   "execution_count": 87,
   "metadata": {},
   "outputs": [
    {
     "data": {
      "image/png": "[encoded data removed]",
      "text/plain": [
       "<Figure size 720x720 with 2 Axes>"
      ]
     },
     "metadata": {},
     "output_type": "display_data"
    }
   ],
   "source": [
    "pred = tree.predict(X_test)\n",
    "\n",
    "cm = metrics.confusion_matrix(y_test, pred)\n",
    "\n",
    "ax = plt.subplot()\n",
    "sns.heatmap(cm,annot=True,fmt=\"d\") \n",
    "ax.set_xlabel('Prediction'); ax.set_ylabel('True labels'); \n",
    "ax.set_title('Confusion matrix'); \n",
    "plt.show()"
   ]
  },
  {
   "cell_type": "markdown",
   "metadata": {},
   "source": [
    "### Régression logistique"
   ]
  },
  {
   "cell_type": "code",
   "execution_count": 80,
   "metadata": {},
   "outputs": [
    {
     "data": {
      "text/plain": [
       "LogisticRegression(max_iter=10000)"
      ]
     },
     "execution_count": 80,
     "metadata": {},
     "output_type": "execute_result"
    }
   ],
   "source": [
    "logistic = LogisticRegression(max_iter=10000)\n",
    "logistic.fit(X_train, y_train)"
   ]
  },
  {
   "cell_type": "code",
   "execution_count": 81,
   "metadata": {},
   "outputs": [
    {
     "name": "stdout",
     "output_type": "stream",
     "text": [
      "              precision    recall  f1-score   support\n",
      "\n",
      "           0       0.76      0.89      0.82        47\n",
      "           1       0.50      0.28      0.36        18\n",
      "\n",
      "    accuracy                           0.72        65\n",
      "   macro avg       0.63      0.59      0.59        65\n",
      "weighted avg       0.69      0.72      0.69        65\n",
      "\n"
     ]
    }
   ],
   "source": [
    "# predictions\n",
    "pred = logistic.predict(X_test)\n",
    "print(metrics.classification_report(y_test.values, pred))"
   ]
  },
  {
   "cell_type": "code",
   "execution_count": 82,
   "metadata": {},
   "outputs": [
    {
     "name": "stdout",
     "output_type": "stream",
     "text": [
      "0.7230769230769231\n"
     ]
    }
   ],
   "source": [
    "# Use score method to get accuracy of model\n",
    "score = logistic.score(X_test, y_test)\n",
    "print(score)"
   ]
  },
  {
   "cell_type": "code",
   "execution_count": 83,
   "metadata": {},
   "outputs": [],
   "source": [
    "cm_log = metrics.confusion_matrix(y_test, pred)"
   ]
  },
  {
   "cell_type": "code",
   "execution_count": 84,
   "metadata": {},
   "outputs": [
    {
     "data": {
      "image/png": "[encoded data removed]",
      "text/plain": [
       "<Figure size 720x720 with 2 Axes>"
      ]
     },
     "metadata": {},
     "output_type": "display_data"
    }
   ],
   "source": [
    "ax = plt.subplot()\n",
    "sns.heatmap(cm_log,annot=True,fmt=\"d\") \n",
    "ax.set_xlabel('Prédictionq'); ax.set_ylabel('Labels réels'); \n",
    "ax.set_title('Matrice de confusion'); \n",
    "plt.show()"
   ]
  },
  {
   "cell_type": "markdown",
   "metadata": {},
   "source": [
    "### Random forest"
   ]
  },
  {
   "cell_type": "code",
   "execution_count": 126,
   "metadata": {},
   "outputs": [],
   "source": [
    "# RF (perhaps will improve decision tree performance)\n",
    "rf = RandomForestClassifier(n_estimators = 150,\n",
    "                           n_jobs = 10,\n",
    "                           oob_score = True,\n",
    "                           bootstrap = True,\n",
    "                           random_state = 42)   "
   ]
  },
  {
   "cell_type": "code",
   "execution_count": 127,
   "metadata": {},
   "outputs": [
    {
     "data": {
      "text/plain": [
       "RandomForestClassifier(n_estimators=150, n_jobs=10, oob_score=True,\n",
       "                       random_state=42)"
      ]
     },
     "execution_count": 127,
     "metadata": {},
     "output_type": "execute_result"
    }
   ],
   "source": [
    "rf.fit(X_train.values, y_train.values)"
   ]
  },
  {
   "cell_type": "markdown",
   "metadata": {},
   "source": [
    "#### Evaluation des performances"
   ]
  },
  {
   "cell_type": "code",
   "execution_count": 128,
   "metadata": {},
   "outputs": [],
   "source": [
    "# modules complementaires\n",
    "import shap\n",
    "from sklearn.inspection import permutation_importance"
   ]
  },
  {
   "cell_type": "code",
   "execution_count": 129,
   "metadata": {},
   "outputs": [
    {
     "name": "stdout",
     "output_type": "stream",
     "text": [
      "R^2 Training Score: 1.00 \n",
      "OOB Score: 0.74 \n",
      "R^2 Validation Score: 0.75\n"
     ]
    }
   ],
   "source": [
    "print('R^2 Training Score: {:.2f} \\nOOB Score: {:.2f} \\nR^2 Validation Score: {:.2f}'.format(rf.score(X_train.values, y_train.values), \n",
    "                                                                                             rf.oob_score_,\n",
    "                                                                                             rf.score(X_test.values, y_test.values))) "
   ]
  },
  {
   "cell_type": "code",
   "execution_count": 130,
   "metadata": {},
   "outputs": [
    {
     "data": {
      "text/plain": [
       "array([4.55710060e-02, 3.17130704e-03, 4.27132466e-02, 1.06295888e-02,\n",
       "       5.68700517e-02, 6.43952055e-03, 9.33967595e-03, 9.34820854e-03,\n",
       "       4.35930546e-02, 3.64158148e-02, 9.33509871e-03, 6.54580539e-02,\n",
       "       4.63698518e-02, 5.18714390e-02, 3.82760336e-02, 3.96556854e-02,\n",
       "       3.85021342e-02, 4.91746292e-02, 4.31864458e-02, 3.44461019e-02,\n",
       "       3.65188310e-02, 4.26833761e-02, 5.61843758e-03, 7.71817727e-03,\n",
       "       5.83222769e-03, 4.81303222e-02, 1.06894238e-02, 1.57173726e-02,\n",
       "       1.09599244e-02, 7.60264317e-03, 9.93230193e-03, 1.52493295e-02,\n",
       "       4.50084275e-03, 0.00000000e+00, 6.06587191e-03, 1.48210757e-03,\n",
       "       6.52375101e-05, 9.19119807e-03, 1.38068326e-02, 2.50547417e-02,\n",
       "       9.71016635e-03, 6.39501817e-03, 5.71696371e-03, 8.06506689e-03,\n",
       "       7.04013469e-03, 5.88650274e-03])"
      ]
     },
     "execution_count": 130,
     "metadata": {},
     "output_type": "execute_result"
    }
   ],
   "source": [
    "rf.feature_importances_"
   ]
  },
  {
   "cell_type": "code",
   "execution_count": 131,
   "metadata": {},
   "outputs": [],
   "source": [
    "df_meso = pd.concat([dc,df['class_of_diagnosis']],axis=1).loc[df['class_of_diagnosis'] == 1]"
   ]
  },
  {
   "cell_type": "code",
   "execution_count": 132,
   "metadata": {},
   "outputs": [
    {
     "data": {
      "image/png": "[encoded data removed]",
      "text/plain": [
       "<Figure size 720x720 with 1 Axes>"
      ]
     },
     "metadata": {},
     "output_type": "display_data"
    }
   ],
   "source": [
    "sorted_idx = rf.feature_importances_.argsort()\n",
    "plt.barh(df_meso.columns[sorted_idx], rf.feature_importances_[sorted_idx])\n",
    "plt.xlabel(\"Feature importance when class_of_diagnosis=1 (RF)\")\n",
    "plt.show()"
   ]
  },
  {
   "cell_type": "markdown",
   "metadata": {},
   "source": [
    "Above = feature importance when class_of_diagnosis = 1.\n",
    "\n",
    "Below = permutation feature importance. The permutation feature importance is the decrease in a model score when a single feature value is randomly shuffled. It highlights which features contribute the most to the generalization power of the inspected model. Hence it tells how important the features are."
   ]
  },
  {
   "cell_type": "code",
   "execution_count": 133,
   "metadata": {},
   "outputs": [],
   "source": [
    "perm_importance = permutation_importance(rf, X_test.values, y_test.values)"
   ]
  },
  {
   "cell_type": "code",
   "execution_count": 134,
   "metadata": {},
   "outputs": [
    {
     "data": {
      "image/png": "[encoded data removed]",
      "text/plain": [
       "<Figure size 720x720 with 1 Axes>"
      ]
     },
     "metadata": {},
     "output_type": "display_data"
    }
   ],
   "source": [
    "sorted_idx = perm_importance.importances_mean.argsort()\n",
    "plt.barh(df_meso.columns[sorted_idx], perm_importance.importances_mean[sorted_idx])\n",
    "plt.xlabel(\"Permutation Importance (RF)\")\n",
    "plt.show()"
   ]
  },
  {
   "cell_type": "code",
   "execution_count": 135,
   "metadata": {},
   "outputs": [],
   "source": [
    "explainer = shap.TreeExplainer(rf)\n",
    "shap_values = explainer.shap_values(X_test.values)"
   ]
  },
  {
   "cell_type": "code",
   "execution_count": 136,
   "metadata": {},
   "outputs": [
    {
     "data": {
      "image/png": "[encoded data removed]",
      "text/plain": [
       "<Figure size 576x684 with 1 Axes>"
      ]
     },
     "metadata": {},
     "output_type": "display_data"
    }
   ],
   "source": [
    "shap.summary_plot(shap_values, X_test, plot_type=\"bar\")"
   ]
  },
  {
   "cell_type": "markdown",
   "metadata": {},
   "source": [
    "SHAP values interpret the impact of having a certain value  (in our case class_of_diagnosis = 1) for a given feature in comparison to the prediction we'd make if that feature took some baseline value.\n",
    "\n",
    "Given the three above criterion, the variables with the more importance are:\n",
    "\n",
    "* platelet count\n",
    "* duration of symptoms\n",
    "* glucose\n",
    "* cell_count\n",
    "* C_reactive_protein\n",
    "* lung_side_2\n",
    "* gender_1\n",
    "* lung_side 1\n",
    "* duration_of_asbestos_exposure\n",
    "* age"
   ]
  },
  {
   "cell_type": "code",
   "execution_count": 122,
   "metadata": {},
   "outputs": [
    {
     "name": "stdout",
     "output_type": "stream",
     "text": [
      "0.7384615384615385\n"
     ]
    }
   ],
   "source": [
    "# calcul du score\n",
    "score = rf.score(X_test.values, y_test.values)\n",
    "print(score)"
   ]
  },
  {
   "cell_type": "code",
   "execution_count": 123,
   "metadata": {},
   "outputs": [
    {
     "name": "stdout",
     "output_type": "stream",
     "text": [
      "              precision    recall  f1-score   support\n",
      "\n",
      "           0       0.74      0.98      0.84        47\n",
      "           1       0.67      0.11      0.19        18\n",
      "\n",
      "    accuracy                           0.74        65\n",
      "   macro avg       0.70      0.54      0.52        65\n",
      "weighted avg       0.72      0.74      0.66        65\n",
      "\n"
     ]
    }
   ],
   "source": [
    "# predictions\n",
    "pred = rf.predict(X_test.values)\n",
    "print(metrics.classification_report(y_test.values, pred))"
   ]
  },
  {
   "cell_type": "code",
   "execution_count": 124,
   "metadata": {},
   "outputs": [],
   "source": [
    "# matrice de confusion\n",
    "cm = metrics.confusion_matrix(y_test, pred)"
   ]
  },
  {
   "cell_type": "code",
   "execution_count": 125,
   "metadata": {},
   "outputs": [
    {
     "data": {
      "image/png": "[encoded data removed]",
      "text/plain": [
       "<Figure size 720x720 with 2 Axes>"
      ]
     },
     "metadata": {},
     "output_type": "display_data"
    }
   ],
   "source": [
    "ax = plt.subplot()\n",
    "sns.heatmap(cm,annot=True,fmt=\"d\") \n",
    "ax.set_xlabel('Prediction');ax.set_ylabel('Labels reels'); \n",
    "ax.set_title('Matrice de confusion'); \n",
    "plt.show()"
   ]
  },
  {
   "cell_type": "markdown",
   "metadata": {},
   "source": [
    "Better in predicting 0 but not in predicting 1 (not really good)"
   ]
  },
  {
   "cell_type": "markdown",
   "metadata": {},
   "source": [
    "### Removing not important variables"
   ]
  },
  {
   "cell_type": "code",
   "execution_count": 258,
   "metadata": {},
   "outputs": [],
   "source": [
    "X = dc.copy().drop([\"pleural_lactic_dehydrogenise\",\"habit_of_cigarette_0\", \"weakness\", \"dyspnoea\", \"cytology\", \"asbestos_exposure\", \"hemoglobin\", \"pleural_effusion\", \"pleural_glucose\", \"performance_status_0\", \"lung_side_0\", \"city_8\", \"city_7\", \"city_6\", \"city_5\", \"city_4\", \"city_3\", \"city_2\", \"city_1\", \"gender_0\", \"pleural_thickness_on_tomography\", \"habit_of_cigarette_1\", \"habit_of_cigarette_2\", \"performance_status_1\"], axis=1).copy()\n",
    "y = df[\"class_of_diagnosis\"].copy()\n",
    "X_train, X_test, y_train, y_test = train_test_split(X, y, test_size=0.2, random_state=1, shuffle=True)"
   ]
  },
  {
   "cell_type": "code",
   "execution_count": 259,
   "metadata": {},
   "outputs": [
    {
     "data": {
      "text/plain": [
       "RandomForestClassifier(n_jobs=10, oob_score=True, random_state=42)"
      ]
     },
     "execution_count": 259,
     "metadata": {},
     "output_type": "execute_result"
    }
   ],
   "source": [
    "# RF (perhaps will improve decision tree performance)\n",
    "rf = RandomForestClassifier(n_estimators = 100,\n",
    "                           n_jobs = 10,\n",
    "                           oob_score = True,\n",
    "                           bootstrap = True,\n",
    "                           random_state = 42)   \n",
    "rf.fit(X_train.values, y_train.values)"
   ]
  },
  {
   "cell_type": "code",
   "execution_count": 260,
   "metadata": {},
   "outputs": [],
   "source": [
    "df_meso = pd.concat([X,y],axis=1).loc[df['class_of_diagnosis'] == 1]"
   ]
  },
  {
   "cell_type": "code",
   "execution_count": 261,
   "metadata": {},
   "outputs": [
    {
     "data": {
      "image/png": "[encoded data removed]",
      "text/plain": [
       "<Figure size 720x720 with 1 Axes>"
      ]
     },
     "metadata": {},
     "output_type": "display_data"
    }
   ],
   "source": [
    "sorted_idx = rf.feature_importances_.argsort()\n",
    "plt.barh(df_meso.columns[sorted_idx], rf.feature_importances_[sorted_idx])\n",
    "plt.xlabel(\"Feature importance when class_of_diagnosis=1 (RF)\")\n",
    "plt.show()"
   ]
  },
  {
   "cell_type": "code",
   "execution_count": 262,
   "metadata": {},
   "outputs": [],
   "source": [
    "perm_importance = permutation_importance(rf, X_test.values, y_test.values)"
   ]
  },
  {
   "cell_type": "code",
   "execution_count": 263,
   "metadata": {},
   "outputs": [
    {
     "data": {
      "image/png": "[encoded data removed]",
      "text/plain": [
       "<Figure size 720x720 with 1 Axes>"
      ]
     },
     "metadata": {},
     "output_type": "display_data"
    }
   ],
   "source": [
    "sorted_idx = perm_importance.importances_mean.argsort()\n",
    "plt.barh(df_meso.columns[sorted_idx], perm_importance.importances_mean[sorted_idx])\n",
    "plt.xlabel(\"Permutation Importance (RF)\")\n",
    "plt.show()"
   ]
  },
  {
   "cell_type": "code",
   "execution_count": 264,
   "metadata": {},
   "outputs": [],
   "source": [
    "explainer = shap.TreeExplainer(rf)\n",
    "shap_values = explainer.shap_values(X_test.values)"
   ]
  },
  {
   "cell_type": "code",
   "execution_count": 265,
   "metadata": {},
   "outputs": [
    {
     "data": {
      "image/png": "[encoded data removed]",
      "text/plain": [
       "<Figure size 576x684 with 1 Axes>"
      ]
     },
     "metadata": {},
     "output_type": "display_data"
    }
   ],
   "source": [
    "shap.summary_plot(shap_values, X_test, plot_type=\"bar\")"
   ]
  },
  {
   "cell_type": "code",
   "execution_count": 266,
   "metadata": {},
   "outputs": [
    {
     "name": "stdout",
     "output_type": "stream",
     "text": [
      "0.7692307692307693\n"
     ]
    }
   ],
   "source": [
    "# calcul du score\n",
    "score = rf.score(X_test.values, y_test.values)\n",
    "print(score)"
   ]
  },
  {
   "cell_type": "code",
   "execution_count": 267,
   "metadata": {},
   "outputs": [
    {
     "name": "stdout",
     "output_type": "stream",
     "text": [
      "              precision    recall  f1-score   support\n",
      "\n",
      "           0       0.76      1.00      0.86        47\n",
      "           1       1.00      0.17      0.29        18\n",
      "\n",
      "    accuracy                           0.77        65\n",
      "   macro avg       0.88      0.58      0.57        65\n",
      "weighted avg       0.83      0.77      0.70        65\n",
      "\n"
     ]
    }
   ],
   "source": [
    "# predictions\n",
    "pred = rf.predict(X_test.values)\n",
    "print(metrics.classification_report(y_test.values, pred))"
   ]
  },
  {
   "cell_type": "code",
   "execution_count": 268,
   "metadata": {},
   "outputs": [],
   "source": [
    "# matrice de confusion\n",
    "cm = metrics.confusion_matrix(y_test, pred)"
   ]
  },
  {
   "cell_type": "code",
   "execution_count": 269,
   "metadata": {},
   "outputs": [
    {
     "data": {
      "image/png": "[encoded data removed]",
      "text/plain": [
       "<Figure size 720x720 with 2 Axes>"
      ]
     },
     "metadata": {},
     "output_type": "display_data"
    }
   ],
   "source": [
    "ax = plt.subplot()\n",
    "sns.heatmap(cm,annot=True,fmt=\"d\") \n",
    "ax.set_xlabel('Prediction');ax.set_ylabel('Labels reels'); \n",
    "ax.set_title('Matrice de confusion'); \n",
    "plt.show()"
   ]
  },
  {
   "cell_type": "markdown",
   "metadata": {},
   "source": [
    "### XGBoost"
   ]
  },
  {
   "cell_type": "code",
   "execution_count": 279,
   "metadata": {},
   "outputs": [
    {
     "data": {
      "text/plain": [
       "XGBClassifier()"
      ]
     },
     "execution_count": 279,
     "metadata": {},
     "output_type": "execute_result"
    }
   ],
   "source": [
    "clf_xgb = XGBClassifier(n_estimators=100, random_state=0)\n",
    "\n",
    "clf_xgb.fit(X_train, y_train)"
   ]
  },
  {
   "cell_type": "code",
   "execution_count": 280,
   "metadata": {},
   "outputs": [
    {
     "name": "stdout",
     "output_type": "stream",
     "text": [
      "0.7076923076923077\n"
     ]
    }
   ],
   "source": [
    "# calcul du score\n",
    "score = clf_xgb.score(X_test, y_test)\n",
    "print(score)"
   ]
  },
  {
   "cell_type": "code",
   "execution_count": 281,
   "metadata": {},
   "outputs": [
    {
     "name": "stdout",
     "output_type": "stream",
     "text": [
      "              precision    recall  f1-score   support\n",
      "\n",
      "           0       0.75      0.89      0.82        47\n",
      "           1       0.44      0.22      0.30        18\n",
      "\n",
      "    accuracy                           0.71        65\n",
      "   macro avg       0.60      0.56      0.56        65\n",
      "weighted avg       0.67      0.71      0.67        65\n",
      "\n"
     ]
    }
   ],
   "source": [
    "# predictions\n",
    "pred = clf_xgb.predict(X_test)\n",
    "print(metrics.classification_report(y_test, pred))"
   ]
  },
  {
   "cell_type": "code",
   "execution_count": 282,
   "metadata": {},
   "outputs": [
    {
     "data": {
      "image/png": "[encoded data removed]",
      "text/plain": [
       "<Figure size 720x720 with 2 Axes>"
      ]
     },
     "metadata": {},
     "output_type": "display_data"
    }
   ],
   "source": [
    "# matrice de confusion\n",
    "cm = metrics.confusion_matrix(y_test, pred)\n",
    "\n",
    "ax = plt.subplot()\n",
    "sns.heatmap(cm,annot=True,fmt=\"d\") \n",
    "ax.set_xlabel('Prediction');ax.set_ylabel('Labels reels'); \n",
    "ax.set_title('Matrice de confusion'); \n",
    "plt.show()"
   ]
  },
  {
   "cell_type": "markdown",
   "metadata": {},
   "source": [
    "### Comparison of scores\n",
    "Evaluate a score by cross-validation."
   ]
  },
  {
   "cell_type": "code",
   "execution_count": 298,
   "metadata": {},
   "outputs": [],
   "source": [
    "ml_models = []\n",
    "ml_models.append((\"CART\", DecisionTreeClassifier()))\n",
    "ml_models.append((\"LR\", LogisticRegression(max_iter=10000)))\n",
    "ml_models.append((\"RF\", RandomForestClassifier(n_estimators = 150,\n",
    "                           n_jobs = 10,\n",
    "                           oob_score = True,\n",
    "                           bootstrap = True)\n",
    "                 ))\n",
    "ml_models.append((\"XGBoost\", XGBClassifier(n_estimators=150)))"
   ]
  },
  {
   "cell_type": "code",
   "execution_count": 299,
   "metadata": {},
   "outputs": [
    {
     "name": "stdout",
     "output_type": "stream",
     "text": [
      "CART: 0.659524 (0.140476)\n",
      "LR: 0.626190 (0.178508)\n",
      "RF: 0.671429 (0.211034)\n",
      "XGBoost: 0.761905 (0.180073)\n"
     ]
    },
    {
     "name": "stderr",
     "output_type": "stream",
     "text": [
      "Stochastic Optimizer: Maximum iterations (1000) reached and the optimization hasn't converged yet.\n",
      "Stochastic Optimizer: Maximum iterations (1000) reached and the optimization hasn't converged yet.\n",
      "Stochastic Optimizer: Maximum iterations (1000) reached and the optimization hasn't converged yet.\n",
      "Stochastic Optimizer: Maximum iterations (1000) reached and the optimization hasn't converged yet.\n"
     ]
    },
    {
     "name": "stdout",
     "output_type": "stream",
     "text": [
      "MLP: 0.669048 (0.225236)\n",
      "SVM: 0.707143 (0.198363)\n"
     ]
    },
    {
     "data": {
      "image/png": "[encoded data removed]",
      "text/plain": [
       "<Figure size 720x720 with 1 Axes>"
      ]
     },
     "metadata": {},
     "output_type": "display_data"
    }
   ],
   "source": [
    "from sklearn.model_selection import KFold, cross_val_score\n",
    "\n",
    "# evaluate each model in turn\n",
    "results = []\n",
    "names = []\n",
    "scoring = 'accuracy'\n",
    "kfold = KFold(n_splits=10)\n",
    "for name, model in ml_models:\n",
    "    model.fit(X_train.values, y_train)\n",
    "    cv_results = cross_val_score(model, X_test.values, y_test, cv=kfold, scoring=scoring)\n",
    "    results.append(cv_results)\n",
    "    names.append(name)\n",
    "    msg = \"%s: %f (%f)\" % (name, cv_results.mean(), cv_results.std())\n",
    "    print(msg)\n",
    "\n",
    "# for MLP Classifier and SVC since they need scaled X_train\n",
    "model = MLPClassifier(activation='tanh', alpha=0.05, solver='sgd', \n",
    "                        learning_rate='constant', learning_rate_init=0.001,\n",
    "                        hidden_layer_sizes=(20,1,2), max_iter=1000)\n",
    "model.fit(X_train_s, y_train)\n",
    "kfold = KFold(n_splits=10)\n",
    "cv_results = cross_val_score(model, X_test_s, y_test, cv=kfold, scoring=scoring)\n",
    "results.append(cv_results)\n",
    "names.append(\"MLP\")\n",
    "msg = \"%s: %f (%f)\" % (\"MLP\", cv_results.mean(), cv_results.std())\n",
    "print(msg)\n",
    "\n",
    "model = svm.SVC()\n",
    "model.fit(X_train_s, y_train)\n",
    "kfold = KFold(n_splits=10)\n",
    "cv_results = cross_val_score(model, X_test_s, y_test, cv=kfold, scoring=scoring)\n",
    "results.append(cv_results)\n",
    "names.append(\"SVM\")\n",
    "msg = \"%s: %f (%f)\" % (\"SVM\", cv_results.mean(), cv_results.std())\n",
    "print(msg)\n",
    "\n",
    "# boxplot algorithm comparison\n",
    "fig = plt.figure()\n",
    "fig.suptitle('Algorithm Comparison')\n",
    "ax = fig.add_subplot(111)\n",
    "plt.boxplot(results)\n",
    "ax.set_xticklabels(names)\n",
    "plt.show()"
   ]
  },
  {
   "cell_type": "markdown",
   "metadata": {},
   "source": [
    "XGBoost is doing better than other classifiers (on average)."
   ]
  },
  {
   "cell_type": "markdown",
   "metadata": {},
   "source": [
    "#### Hyperparameters tuning for XGB algorithm"
   ]
  },
  {
   "cell_type": "code",
   "execution_count": 283,
   "metadata": {},
   "outputs": [
    {
     "name": "stdout",
     "output_type": "stream",
     "text": [
      "Fitting 5 folds for each of 1152 candidates, totalling 5760 fits\n",
      "{'gamma': 0, 'learning_rate': 0.01, 'max_depth': 6, 'n_estimators': 50, 'reg_lambda': 0}\n"
     ]
    }
   ],
   "source": [
    "param_grid = {\n",
    "    'max_depth': [3, 4, 5, 6, 7, 8],\n",
    "    'n_estimators': range(50, 250, 50),\n",
    "    'learning_rate': [0.1, 0.01, 0.05],\n",
    "    'gamma': [0, 0.25, 0.5, 1.0],\n",
    "    'reg_lambda': [0, 1.0, 10.0, 100.0]\n",
    "}\n",
    "\n",
    "optimal_params = GridSearchCV(\n",
    "    estimator=XGBClassifier(objective='binary:logistic', eval_metric=\"logloss\", seed=42, use_label_encoder=False),\n",
    "    param_grid=param_grid,\n",
    "    scoring = 'roc_auc',## For more scoring metics see: \n",
    "        ## https://scikit-learn.org/stable/modules/model_evaluation.html#scoring-parameter\n",
    "    verbose = 2, # NOTE: If you want to see what Grid Search is doing, set verbose=2\n",
    "    n_jobs = 10,\n",
    "    cv = 5\n",
    ")\n",
    "\n",
    "optimal_params.fit(X_train, y_train)\n",
    "print(optimal_params.best_params_)"
   ]
  },
  {
   "cell_type": "markdown",
   "metadata": {},
   "source": [
    "So, after testing all possible combinations of the potential parameter values with **Cross Validation**, we see that we should set `gamma=0`, `learn_rate=0.01`, `max_depth=6`, `n_estimators=50` and `reg_lambda=0`."
   ]
  },
  {
   "cell_type": "code",
   "execution_count": 285,
   "metadata": {},
   "outputs": [
    {
     "data": {
      "text/plain": [
       "XGBClassifier(eval_metric='logloss', learning_rate=0.01, max_depth=6,\n",
       "              n_estimators=50, reg_lambda=0, seed=42, use_label_encoder=False)"
      ]
     },
     "execution_count": 285,
     "metadata": {},
     "output_type": "execute_result"
    }
   ],
   "source": [
    "clf_xgb = XGBClassifier(seed=42,\n",
    "                            objective='binary:logistic',\n",
    "                            eval_metric=\"logloss\", ## this avoids a warning...\n",
    "                            gamma=0,\n",
    "                            learning_rate=0.01,\n",
    "                            max_depth=6,\n",
    "                            n_estimators=50,\n",
    "                            reg_lambda=0,\n",
    "                            use_label_encoder=False)\n",
    "clf_xgb.fit(X_train, y_train)"
   ]
  },
  {
   "cell_type": "code",
   "execution_count": 286,
   "metadata": {},
   "outputs": [
    {
     "name": "stdout",
     "output_type": "stream",
     "text": [
      "              precision    recall  f1-score   support\n",
      "\n",
      "           0       0.78      0.98      0.87        47\n",
      "           1       0.83      0.28      0.42        18\n",
      "\n",
      "    accuracy                           0.78        65\n",
      "   macro avg       0.81      0.63      0.64        65\n",
      "weighted avg       0.79      0.78      0.74        65\n",
      "\n"
     ]
    }
   ],
   "source": [
    "# predictions\n",
    "pred = clf_xgb.predict(X_test)\n",
    "print(metrics.classification_report(y_test, pred))"
   ]
  },
  {
   "cell_type": "code",
   "execution_count": 287,
   "metadata": {},
   "outputs": [
    {
     "data": {
      "image/png": "[encoded data removed]",
      "text/plain": [
       "<Figure size 720x720 with 2 Axes>"
      ]
     },
     "metadata": {},
     "output_type": "display_data"
    }
   ],
   "source": [
    "# matrice de confusion\n",
    "cm = metrics.confusion_matrix(y_test, pred)\n",
    "\n",
    "ax = plt.subplot()\n",
    "sns.heatmap(cm,annot=True,fmt=\"d\") \n",
    "ax.set_xlabel('Prediction');ax.set_ylabel('Labels reels'); \n",
    "ax.set_title('Matrice de confusion'); \n",
    "plt.show()"
   ]
  },
  {
   "cell_type": "code",
   "execution_count": 290,
   "metadata": {},
   "outputs": [
    {
     "name": "stdout",
     "output_type": "stream",
     "text": [
      "weight:  {'platelet_count': 64, 'age': 79, 'duration_of_asbestos_exposure': 79, 'sedimentation': 35, 'alkaline_phosphatise': 13, 'lung_side_2': 50, 'duration_of_symptoms': 59, 'cell_count': 56, 'blood_lactic_dehydrogenise': 62, 'white_blood': 46, 'pleural_protein': 66, 'total_protein': 43, 'albumin': 87, 'gender_1': 24, 'C_reactive_protein': 64, 'glucose': 10, 'ache_on_chest': 11, 'city_0': 34, 'lung_side_1': 31}\n",
      "gain:  {'platelet_count': 6.5110840170312505, 'age': 4.56866740322785, 'duration_of_asbestos_exposure': 5.594628613139242, 'sedimentation': 1.925606352657143, 'alkaline_phosphatise': 3.234501326, 'lung_side_2': 7.2256941989999985, 'duration_of_symptoms': 4.610558613898305, 'cell_count': 4.500951988214285, 'blood_lactic_dehydrogenise': 1.1746090616025302, 'white_blood': 1.450216018478261, 'pleural_protein': 3.5506262063181806, 'total_protein': 1.4409358831832555, 'albumin': 3.825103430202643, 'gender_1': 2.7004570858333334, 'C_reactive_protein': 2.5782389454682813, 'glucose': 2.7438139912000006, 'ache_on_chest': 2.0544406499999996, 'city_0': 5.526212328529411, 'lung_side_1': 4.27304215548387}\n",
      "cover:  {'platelet_count': 49.54189764468751, 'age': 9.492678885569623, 'duration_of_asbestos_exposure': 4.494198626962026, 'sedimentation': 6.814654013714286, 'alkaline_phosphatise': 7.390978376923077, 'lung_side_2': 60.524643102, 'duration_of_symptoms': 42.501468876101704, 'cell_count': 40.19846090678572, 'blood_lactic_dehydrogenise': 16.104854270322576, 'white_blood': 8.415950025217391, 'pleural_protein': 11.464776080151516, 'total_protein': 4.446543830697674, 'albumin': 11.387605009310343, 'gender_1': 3.4496789483333337, 'C_reactive_protein': 7.54096846203125, 'glucose': 19.174755111, 'ache_on_chest': 2.7920905027272727, 'city_0': 17.707866096764704, 'lung_side_1': 6.22986495096774}\n",
      "total_gain:  {'platelet_count': 416.70937709000003, 'age': 360.92472485500014, 'duration_of_asbestos_exposure': 441.9756604380001, 'sedimentation': 67.396222343, 'alkaline_phosphatise': 42.048517238, 'lung_side_2': 361.2847099499999, 'duration_of_symptoms': 272.02295821999996, 'cell_count': 252.05331134, 'blood_lactic_dehydrogenise': 72.82576181935687, 'white_blood': 66.70993685, 'pleural_protein': 234.34132961699993, 'total_protein': 61.96024297687998, 'albumin': 332.78399842762997, 'gender_1': 64.81097006, 'C_reactive_protein': 165.00729250997, 'glucose': 27.438139912000004, 'ache_on_chest': 22.598847149999997, 'city_0': 187.89121916999997, 'lung_side_1': 132.46430681999996}\n",
      "total_cover:  {'platelet_count': 3170.6814492600006, 'age': 749.9216319600001, 'duration_of_asbestos_exposure': 355.04169153000004, 'sedimentation': 238.51289048, 'alkaline_phosphatise': 96.0827189, 'lung_side_2': 3026.2321551, 'duration_of_symptoms': 2507.5866636900005, 'cell_count': 2251.11381078, 'blood_lactic_dehydrogenise': 998.5009647599998, 'white_blood': 387.13370116, 'pleural_protein': 756.6752212900001, 'total_protein': 191.20138472, 'albumin': 990.7216358099998, 'gender_1': 82.79229476, 'C_reactive_protein': 482.62198157, 'glucose': 191.74755111, 'ache_on_chest': 30.71299553, 'city_0': 602.0674472899999, 'lung_side_1': 193.12581347999995}\n"
     ]
    },
    {
     "data": {
      "image/svg+xml": [
       "<?xml version=\"1.0\" encoding=\"UTF-8\" standalone=\"no\"?>\n",
       "<!DOCTYPE svg PUBLIC \"-//W3C//DTD SVG 1.1//EN\"\n",
       " \"http://www.w3.org/Graphics/SVG/1.1/DTD/svg11.dtd\">\n",
       "<!-- Generated by graphviz version 2.40.1 (20161225.0304)\n",
       " -->\n",
       "<!-- Title: %3 Pages: 1 -->\n",
       "<svg width=\"72pt\" height=\"24pt\"\n",
       " viewBox=\"0.00 0.00 72.00 24.30\" xmlns=\"http://www.w3.org/2000/svg\" xmlns:xlink=\"http://www.w3.org/1999/xlink\">\n",
       "<g id=\"graph0\" class=\"graph\" transform=\"scale(.0429 .0429) rotate(0) translate(4 562)\">\n",
       "<title>%3</title>\n",
       "<polygon fill=\"#ffffff\" stroke=\"transparent\" points=\"-4,4 -4,-562 1673,-562 1673,4 -4,4\"/>\n",
       "<!-- 0 -->\n",
       "<g id=\"node1\" class=\"node\">\n",
       "<title>0</title>\n",
       "<path fill=\"#78cb0e\" stroke=\"#000000\" d=\"M740,-558C740,-558 639,-558 639,-558 633,-558 627,-552 627,-546 627,-546 627,-534 627,-534 627,-528 633,-522 639,-522 639,-522 740,-522 740,-522 746,-522 752,-528 752,-534 752,-534 752,-546 752,-546 752,-552 746,-558 740,-558\"/>\n",
       "<text text-anchor=\"middle\" x=\"689.5\" y=\"-536.3\" font-family=\"Times,serif\" font-size=\"14.00\" fill=\"#000000\">platelet_count&lt;192</text>\n",
       "</g>\n",
       "<!-- 1 -->\n",
       "<g id=\"node2\" class=\"node\">\n",
       "<title>1</title>\n",
       "<path fill=\"#78cb0e\" stroke=\"#000000\" d=\"M388.5,-471C388.5,-471 344.5,-471 344.5,-471 338.5,-471 332.5,-465 332.5,-459 332.5,-459 332.5,-447 332.5,-447 332.5,-441 338.5,-435 344.5,-435 344.5,-435 388.5,-435 388.5,-435 394.5,-435 400.5,-441 400.5,-447 400.5,-447 400.5,-459 400.5,-459 400.5,-465 394.5,-471 388.5,-471\"/>\n",
       "<text text-anchor=\"middle\" x=\"366.5\" y=\"-449.3\" font-family=\"Times,serif\" font-size=\"14.00\" fill=\"#000000\">age&lt;46.5</text>\n",
       "</g>\n",
       "<!-- 0&#45;&gt;1 -->\n",
       "<g id=\"edge1\" class=\"edge\">\n",
       "<title>0&#45;&gt;1</title>\n",
       "<path fill=\"none\" stroke=\"#0000ff\" d=\"M626.8394,-523.1224C563.2828,-506.0034 466.5428,-479.9465 410.6241,-464.8848\"/>\n",
       "<polygon fill=\"#0000ff\" stroke=\"#0000ff\" points=\"411.2412,-461.4264 400.6751,-462.205 409.4206,-468.1855 411.2412,-461.4264\"/>\n",
       "<text text-anchor=\"middle\" x=\"582.5\" y=\"-492.8\" font-family=\"Times,serif\" font-size=\"14.00\" fill=\"#000000\">yes, missing</text>\n",
       "</g>\n",
       "<!-- 2 -->\n",
       "<g id=\"node3\" class=\"node\">\n",
       "<title>2</title>\n",
       "<path fill=\"#78cb0e\" stroke=\"#000000\" d=\"M1090.5,-471C1090.5,-471 1014.5,-471 1014.5,-471 1008.5,-471 1002.5,-465 1002.5,-459 1002.5,-459 1002.5,-447 1002.5,-447 1002.5,-441 1008.5,-435 1014.5,-435 1014.5,-435 1090.5,-435 1090.5,-435 1096.5,-435 1102.5,-441 1102.5,-447 1102.5,-447 1102.5,-459 1102.5,-459 1102.5,-465 1096.5,-471 1090.5,-471\"/>\n",
       "<text text-anchor=\"middle\" x=\"1052.5\" y=\"-449.3\" font-family=\"Times,serif\" font-size=\"14.00\" fill=\"#000000\">lung_side_2&lt;1</text>\n",
       "</g>\n",
       "<!-- 0&#45;&gt;2 -->\n",
       "<g id=\"edge2\" class=\"edge\">\n",
       "<title>0&#45;&gt;2</title>\n",
       "<path fill=\"none\" stroke=\"#ff0000\" d=\"M752.3154,-524.9451C819.7732,-508.7775 926.1818,-483.2746 992.5223,-467.3748\"/>\n",
       "<polygon fill=\"#ff0000\" stroke=\"#ff0000\" points=\"993.5028,-470.739 1002.4116,-465.0047 991.8712,-463.9318 993.5028,-470.739\"/>\n",
       "<text text-anchor=\"middle\" x=\"901\" y=\"-492.8\" font-family=\"Times,serif\" font-size=\"14.00\" fill=\"#000000\">no</text>\n",
       "</g>\n",
       "<!-- 3 -->\n",
       "<g id=\"node4\" class=\"node\">\n",
       "<title>3</title>\n",
       "<polygon fill=\"#e48038\" stroke=\"#000000\" points=\"235.5,-384 109.5,-384 109.5,-348 235.5,-348 235.5,-384\"/>\n",
       "<text text-anchor=\"middle\" x=\"172.5\" y=\"-362.3\" font-family=\"Times,serif\" font-size=\"14.00\" fill=\"#000000\">leaf=0.0199999996</text>\n",
       "</g>\n",
       "<!-- 1&#45;&gt;3 -->\n",
       "<g id=\"edge3\" class=\"edge\">\n",
       "<title>1&#45;&gt;3</title>\n",
       "<path fill=\"none\" stroke=\"#0000ff\" d=\"M332.2633,-437.6464C301.7387,-423.9576 256.6823,-403.7519 222.1927,-388.2849\"/>\n",
       "<polygon fill=\"#0000ff\" stroke=\"#0000ff\" points=\"223.3226,-384.9558 212.7659,-384.0574 220.4582,-391.3429 223.3226,-384.9558\"/>\n",
       "<text text-anchor=\"middle\" x=\"316.5\" y=\"-405.8\" font-family=\"Times,serif\" font-size=\"14.00\" fill=\"#000000\">yes, missing</text>\n",
       "</g>\n",
       "<!-- 4 -->\n",
       "<g id=\"node5\" class=\"node\">\n",
       "<title>4</title>\n",
       "<path fill=\"#78cb0e\" stroke=\"#000000\" d=\"M467,-384C467,-384 266,-384 266,-384 260,-384 254,-378 254,-372 254,-372 254,-360 254,-360 254,-354 260,-348 266,-348 266,-348 467,-348 467,-348 473,-348 479,-354 479,-360 479,-360 479,-372 479,-372 479,-378 473,-384 467,-384\"/>\n",
       "<text text-anchor=\"middle\" x=\"366.5\" y=\"-362.3\" font-family=\"Times,serif\" font-size=\"14.00\" fill=\"#000000\">duration_of_asbestos_exposure&lt;29.5</text>\n",
       "</g>\n",
       "<!-- 1&#45;&gt;4 -->\n",
       "<g id=\"edge4\" class=\"edge\">\n",
       "<title>1&#45;&gt;4</title>\n",
       "<path fill=\"none\" stroke=\"#ff0000\" d=\"M366.5,-434.9735C366.5,-423.1918 366.5,-407.5607 366.5,-394.1581\"/>\n",
       "<polygon fill=\"#ff0000\" stroke=\"#ff0000\" points=\"370.0001,-394.0033 366.5,-384.0034 363.0001,-394.0034 370.0001,-394.0033\"/>\n",
       "<text text-anchor=\"middle\" x=\"374\" y=\"-405.8\" font-family=\"Times,serif\" font-size=\"14.00\" fill=\"#000000\">no</text>\n",
       "</g>\n",
       "<!-- 5 -->\n",
       "<g id=\"node16\" class=\"node\">\n",
       "<title>5</title>\n",
       "<path fill=\"#78cb0e\" stroke=\"#000000\" d=\"M1124.5,-384C1124.5,-384 980.5,-384 980.5,-384 974.5,-384 968.5,-378 968.5,-372 968.5,-372 968.5,-360 968.5,-360 968.5,-354 974.5,-348 980.5,-348 980.5,-348 1124.5,-348 1124.5,-348 1130.5,-348 1136.5,-354 1136.5,-360 1136.5,-360 1136.5,-372 1136.5,-372 1136.5,-378 1130.5,-384 1124.5,-384\"/>\n",
       "<text text-anchor=\"middle\" x=\"1052.5\" y=\"-362.3\" font-family=\"Times,serif\" font-size=\"14.00\" fill=\"#000000\">duration_of_symptoms&lt;11</text>\n",
       "</g>\n",
       "<!-- 2&#45;&gt;5 -->\n",
       "<g id=\"edge15\" class=\"edge\">\n",
       "<title>2&#45;&gt;5</title>\n",
       "<path fill=\"none\" stroke=\"#0000ff\" d=\"M1052.5,-434.9735C1052.5,-423.1918 1052.5,-407.5607 1052.5,-394.1581\"/>\n",
       "<polygon fill=\"#0000ff\" stroke=\"#0000ff\" points=\"1056.0001,-394.0033 1052.5,-384.0034 1049.0001,-394.0034 1056.0001,-394.0033\"/>\n",
       "<text text-anchor=\"middle\" x=\"1087.5\" y=\"-405.8\" font-family=\"Times,serif\" font-size=\"14.00\" fill=\"#000000\">yes, missing</text>\n",
       "</g>\n",
       "<!-- 6 -->\n",
       "<g id=\"node17\" class=\"node\">\n",
       "<title>6</title>\n",
       "<path fill=\"#78cb0e\" stroke=\"#000000\" d=\"M1391,-384C1391,-384 1200,-384 1200,-384 1194,-384 1188,-378 1188,-372 1188,-372 1188,-360 1188,-360 1188,-354 1194,-348 1200,-348 1200,-348 1391,-348 1391,-348 1397,-348 1403,-354 1403,-360 1403,-360 1403,-372 1403,-372 1403,-378 1397,-384 1391,-384\"/>\n",
       "<text text-anchor=\"middle\" x=\"1295.5\" y=\"-362.3\" font-family=\"Times,serif\" font-size=\"14.00\" fill=\"#000000\">duration_of_asbestos_exposure&lt;28</text>\n",
       "</g>\n",
       "<!-- 2&#45;&gt;6 -->\n",
       "<g id=\"edge16\" class=\"edge\">\n",
       "<title>2&#45;&gt;6</title>\n",
       "<path fill=\"none\" stroke=\"#ff0000\" d=\"M1102.5551,-435.079C1141.1423,-421.2639 1194.6407,-402.1101 1235.5187,-387.4748\"/>\n",
       "<polygon fill=\"#ff0000\" stroke=\"#ff0000\" points=\"1236.8576,-390.7131 1245.0926,-384.0471 1234.4981,-384.1227 1236.8576,-390.7131\"/>\n",
       "<text text-anchor=\"middle\" x=\"1197\" y=\"-405.8\" font-family=\"Times,serif\" font-size=\"14.00\" fill=\"#000000\">no</text>\n",
       "</g>\n",
       "<!-- 7 -->\n",
       "<g id=\"node6\" class=\"node\">\n",
       "<title>7</title>\n",
       "<polygon fill=\"#e48038\" stroke=\"#000000\" points=\"290,-297 159,-297 159,-261 290,-261 290,-297\"/>\n",
       "<text text-anchor=\"middle\" x=\"224.5\" y=\"-275.3\" font-family=\"Times,serif\" font-size=\"14.00\" fill=\"#000000\">leaf=&#45;0.0199999996</text>\n",
       "</g>\n",
       "<!-- 4&#45;&gt;7 -->\n",
       "<g id=\"edge5\" class=\"edge\">\n",
       "<title>4&#45;&gt;7</title>\n",
       "<path fill=\"none\" stroke=\"#0000ff\" d=\"M325.8158,-347.9288C314.7787,-342.5662 302.9866,-336.4026 292.5,-330 279.5272,-322.0795 265.9855,-312.2766 254.4329,-303.3882\"/>\n",
       "<polygon fill=\"#0000ff\" stroke=\"#0000ff\" points=\"256.4434,-300.5174 246.4088,-297.1177 252.1331,-306.0331 256.4434,-300.5174\"/>\n",
       "<text text-anchor=\"middle\" x=\"327.5\" y=\"-318.8\" font-family=\"Times,serif\" font-size=\"14.00\" fill=\"#000000\">yes, missing</text>\n",
       "</g>\n",
       "<!-- 8 -->\n",
       "<g id=\"node7\" class=\"node\">\n",
       "<title>8</title>\n",
       "<path fill=\"#78cb0e\" stroke=\"#000000\" d=\"M413,-297C413,-297 320,-297 320,-297 314,-297 308,-291 308,-285 308,-285 308,-273 308,-273 308,-267 314,-261 320,-261 320,-261 413,-261 413,-261 419,-261 425,-267 425,-273 425,-273 425,-285 425,-285 425,-291 419,-297 413,-297\"/>\n",
       "<text text-anchor=\"middle\" x=\"366.5\" y=\"-275.3\" font-family=\"Times,serif\" font-size=\"14.00\" fill=\"#000000\">sedimentation&lt;55</text>\n",
       "</g>\n",
       "<!-- 4&#45;&gt;8 -->\n",
       "<g id=\"edge6\" class=\"edge\">\n",
       "<title>4&#45;&gt;8</title>\n",
       "<path fill=\"none\" stroke=\"#ff0000\" d=\"M366.5,-347.9735C366.5,-336.1918 366.5,-320.5607 366.5,-307.1581\"/>\n",
       "<polygon fill=\"#ff0000\" stroke=\"#ff0000\" points=\"370.0001,-307.0033 366.5,-297.0034 363.0001,-307.0034 370.0001,-307.0033\"/>\n",
       "<text text-anchor=\"middle\" x=\"374\" y=\"-318.8\" font-family=\"Times,serif\" font-size=\"14.00\" fill=\"#000000\">no</text>\n",
       "</g>\n",
       "<!-- 13 -->\n",
       "<g id=\"node8\" class=\"node\">\n",
       "<title>13</title>\n",
       "<polygon fill=\"#e48038\" stroke=\"#000000\" points=\"265.5,-210 139.5,-210 139.5,-174 265.5,-174 265.5,-210\"/>\n",
       "<text text-anchor=\"middle\" x=\"202.5\" y=\"-188.3\" font-family=\"Times,serif\" font-size=\"14.00\" fill=\"#000000\">leaf=0.0199999996</text>\n",
       "</g>\n",
       "<!-- 8&#45;&gt;13 -->\n",
       "<g id=\"edge7\" class=\"edge\">\n",
       "<title>8&#45;&gt;13</title>\n",
       "<path fill=\"none\" stroke=\"#0000ff\" d=\"M328.2443,-260.9545C316.6834,-255.3497 304.0067,-249.0516 292.5,-243 275.8908,-234.265 257.846,-224.1639 242.3047,-215.2672\"/>\n",
       "<polygon fill=\"#0000ff\" stroke=\"#0000ff\" points=\"243.8868,-212.1396 233.4733,-210.1876 240.3967,-218.2075 243.8868,-212.1396\"/>\n",
       "<text text-anchor=\"middle\" x=\"327.5\" y=\"-231.8\" font-family=\"Times,serif\" font-size=\"14.00\" fill=\"#000000\">yes, missing</text>\n",
       "</g>\n",
       "<!-- 14 -->\n",
       "<g id=\"node9\" class=\"node\">\n",
       "<title>14</title>\n",
       "<path fill=\"#78cb0e\" stroke=\"#000000\" d=\"M437.5,-210C437.5,-210 295.5,-210 295.5,-210 289.5,-210 283.5,-204 283.5,-198 283.5,-198 283.5,-186 283.5,-186 283.5,-180 289.5,-174 295.5,-174 295.5,-174 437.5,-174 437.5,-174 443.5,-174 449.5,-180 449.5,-186 449.5,-186 449.5,-198 449.5,-198 449.5,-204 443.5,-210 437.5,-210\"/>\n",
       "<text text-anchor=\"middle\" x=\"366.5\" y=\"-188.3\" font-family=\"Times,serif\" font-size=\"14.00\" fill=\"#000000\">alkaline_phosphatise&lt;62.5</text>\n",
       "</g>\n",
       "<!-- 8&#45;&gt;14 -->\n",
       "<g id=\"edge8\" class=\"edge\">\n",
       "<title>8&#45;&gt;14</title>\n",
       "<path fill=\"none\" stroke=\"#ff0000\" d=\"M366.5,-260.9735C366.5,-249.1918 366.5,-233.5607 366.5,-220.1581\"/>\n",
       "<polygon fill=\"#ff0000\" stroke=\"#ff0000\" points=\"370.0001,-220.0033 366.5,-210.0034 363.0001,-220.0034 370.0001,-220.0033\"/>\n",
       "<text text-anchor=\"middle\" x=\"374\" y=\"-231.8\" font-family=\"Times,serif\" font-size=\"14.00\" fill=\"#000000\">no</text>\n",
       "</g>\n",
       "<!-- 19 -->\n",
       "<g id=\"node10\" class=\"node\">\n",
       "<title>19</title>\n",
       "<path fill=\"#78cb0e\" stroke=\"#000000\" d=\"M273,-123C273,-123 72,-123 72,-123 66,-123 60,-117 60,-111 60,-111 60,-99 60,-99 60,-93 66,-87 72,-87 72,-87 273,-87 273,-87 279,-87 285,-93 285,-99 285,-99 285,-111 285,-111 285,-117 279,-123 273,-123\"/>\n",
       "<text text-anchor=\"middle\" x=\"172.5\" y=\"-101.3\" font-family=\"Times,serif\" font-size=\"14.00\" fill=\"#000000\">duration_of_asbestos_exposure&lt;42.5</text>\n",
       "</g>\n",
       "<!-- 14&#45;&gt;19 -->\n",
       "<g id=\"edge9\" class=\"edge\">\n",
       "<title>14&#45;&gt;19</title>\n",
       "<path fill=\"none\" stroke=\"#0000ff\" d=\"M326.3031,-173.9735C295.9992,-160.3837 254.2751,-141.6723 221.9299,-127.167\"/>\n",
       "<polygon fill=\"#0000ff\" stroke=\"#0000ff\" points=\"223.2021,-123.9018 212.6454,-123.0034 220.3377,-130.2889 223.2021,-123.9018\"/>\n",
       "<text text-anchor=\"middle\" x=\"316.5\" y=\"-144.8\" font-family=\"Times,serif\" font-size=\"14.00\" fill=\"#000000\">yes, missing</text>\n",
       "</g>\n",
       "<!-- 20 -->\n",
       "<g id=\"node11\" class=\"node\">\n",
       "<title>20</title>\n",
       "<path fill=\"#78cb0e\" stroke=\"#000000\" d=\"M418,-123C418,-123 315,-123 315,-123 309,-123 303,-117 303,-111 303,-111 303,-99 303,-99 303,-93 309,-87 315,-87 315,-87 418,-87 418,-87 424,-87 430,-93 430,-99 430,-99 430,-111 430,-111 430,-117 424,-123 418,-123\"/>\n",
       "<text text-anchor=\"middle\" x=\"366.5\" y=\"-101.3\" font-family=\"Times,serif\" font-size=\"14.00\" fill=\"#000000\">sedimentation&lt;92.5</text>\n",
       "</g>\n",
       "<!-- 14&#45;&gt;20 -->\n",
       "<g id=\"edge10\" class=\"edge\">\n",
       "<title>14&#45;&gt;20</title>\n",
       "<path fill=\"none\" stroke=\"#ff0000\" d=\"M366.5,-173.9735C366.5,-162.1918 366.5,-146.5607 366.5,-133.1581\"/>\n",
       "<polygon fill=\"#ff0000\" stroke=\"#ff0000\" points=\"370.0001,-133.0033 366.5,-123.0034 363.0001,-133.0034 370.0001,-133.0033\"/>\n",
       "<text text-anchor=\"middle\" x=\"374\" y=\"-144.8\" font-family=\"Times,serif\" font-size=\"14.00\" fill=\"#000000\">no</text>\n",
       "</g>\n",
       "<!-- 27 -->\n",
       "<g id=\"node12\" class=\"node\">\n",
       "<title>27</title>\n",
       "<polygon fill=\"#e48038\" stroke=\"#000000\" points=\"131,-36 0,-36 0,0 131,0 131,-36\"/>\n",
       "<text text-anchor=\"middle\" x=\"65.5\" y=\"-14.3\" font-family=\"Times,serif\" font-size=\"14.00\" fill=\"#000000\">leaf=&#45;0.0199999996</text>\n",
       "</g>\n",
       "<!-- 19&#45;&gt;27 -->\n",
       "<g id=\"edge11\" class=\"edge\">\n",
       "<title>19&#45;&gt;27</title>\n",
       "<path fill=\"none\" stroke=\"#0000ff\" d=\"M128.3438,-86.821C118.9329,-81.831 109.4469,-75.868 101.5,-69 93.5884,-62.1625 86.5267,-53.2346 80.7981,-44.7632\"/>\n",
       "<polygon fill=\"#0000ff\" stroke=\"#0000ff\" points=\"83.6649,-42.7493 75.3311,-36.2072 77.7662,-46.5184 83.6649,-42.7493\"/>\n",
       "<text text-anchor=\"middle\" x=\"136.5\" y=\"-57.8\" font-family=\"Times,serif\" font-size=\"14.00\" fill=\"#000000\">yes, missing</text>\n",
       "</g>\n",
       "<!-- 28 -->\n",
       "<g id=\"node13\" class=\"node\">\n",
       "<title>28</title>\n",
       "<polygon fill=\"#e48038\" stroke=\"#000000\" points=\"206,-36 149,-36 149,0 206,0 206,-36\"/>\n",
       "<text text-anchor=\"middle\" x=\"177.5\" y=\"-14.3\" font-family=\"Times,serif\" font-size=\"14.00\" fill=\"#000000\">leaf=&#45;0</text>\n",
       "</g>\n",
       "<!-- 19&#45;&gt;28 -->\n",
       "<g id=\"edge12\" class=\"edge\">\n",
       "<title>19&#45;&gt;28</title>\n",
       "<path fill=\"none\" stroke=\"#ff0000\" d=\"M173.536,-86.9735C174.2131,-75.1918 175.1115,-59.5607 175.8817,-46.1581\"/>\n",
       "<polygon fill=\"#ff0000\" stroke=\"#ff0000\" points=\"179.3857,-46.1877 176.4653,-36.0034 172.3972,-45.786 179.3857,-46.1877\"/>\n",
       "<text text-anchor=\"middle\" x=\"183\" y=\"-57.8\" font-family=\"Times,serif\" font-size=\"14.00\" fill=\"#000000\">no</text>\n",
       "</g>\n",
       "<!-- 29 -->\n",
       "<g id=\"node14\" class=\"node\">\n",
       "<title>29</title>\n",
       "<polygon fill=\"#e48038\" stroke=\"#000000\" points=\"285,-36 228,-36 228,0 285,0 285,-36\"/>\n",
       "<text text-anchor=\"middle\" x=\"256.5\" y=\"-14.3\" font-family=\"Times,serif\" font-size=\"14.00\" fill=\"#000000\">leaf=&#45;0</text>\n",
       "</g>\n",
       "<!-- 20&#45;&gt;29 -->\n",
       "<g id=\"edge13\" class=\"edge\">\n",
       "<title>20&#45;&gt;29</title>\n",
       "<path fill=\"none\" stroke=\"#0000ff\" d=\"M320.077,-86.866C310.3966,-81.9025 300.6645,-75.9393 292.5,-69 284.5323,-62.228 277.4568,-53.3161 271.7328,-44.8394\"/>\n",
       "<polygon fill=\"#0000ff\" stroke=\"#0000ff\" points=\"274.6,-42.826 266.2762,-36.2713 268.6957,-46.5861 274.6,-42.826\"/>\n",
       "<text text-anchor=\"middle\" x=\"327.5\" y=\"-57.8\" font-family=\"Times,serif\" font-size=\"14.00\" fill=\"#000000\">yes, missing</text>\n",
       "</g>\n",
       "<!-- 30 -->\n",
       "<g id=\"node15\" class=\"node\">\n",
       "<title>30</title>\n",
       "<polygon fill=\"#e48038\" stroke=\"#000000\" points=\"429.5,-36 303.5,-36 303.5,0 429.5,0 429.5,-36\"/>\n",
       "<text text-anchor=\"middle\" x=\"366.5\" y=\"-14.3\" font-family=\"Times,serif\" font-size=\"14.00\" fill=\"#000000\">leaf=0.0199999996</text>\n",
       "</g>\n",
       "<!-- 20&#45;&gt;30 -->\n",
       "<g id=\"edge14\" class=\"edge\">\n",
       "<title>20&#45;&gt;30</title>\n",
       "<path fill=\"none\" stroke=\"#ff0000\" d=\"M366.5,-86.9735C366.5,-75.1918 366.5,-59.5607 366.5,-46.1581\"/>\n",
       "<polygon fill=\"#ff0000\" stroke=\"#ff0000\" points=\"370.0001,-46.0033 366.5,-36.0034 363.0001,-46.0034 370.0001,-46.0033\"/>\n",
       "<text text-anchor=\"middle\" x=\"374\" y=\"-57.8\" font-family=\"Times,serif\" font-size=\"14.00\" fill=\"#000000\">no</text>\n",
       "</g>\n",
       "<!-- 9 -->\n",
       "<g id=\"node18\" class=\"node\">\n",
       "<title>9</title>\n",
       "<path fill=\"#78cb0e\" stroke=\"#000000\" d=\"M1022,-297C1022,-297 949,-297 949,-297 943,-297 937,-291 937,-285 937,-285 937,-273 937,-273 937,-267 943,-261 949,-261 949,-261 1022,-261 1022,-261 1028,-261 1034,-267 1034,-273 1034,-273 1034,-285 1034,-285 1034,-291 1028,-297 1022,-297\"/>\n",
       "<text text-anchor=\"middle\" x=\"985.5\" y=\"-275.3\" font-family=\"Times,serif\" font-size=\"14.00\" fill=\"#000000\">cell_count&lt;12</text>\n",
       "</g>\n",
       "<!-- 5&#45;&gt;9 -->\n",
       "<g id=\"edge17\" class=\"edge\">\n",
       "<title>5&#45;&gt;9</title>\n",
       "<path fill=\"none\" stroke=\"#0000ff\" d=\"M1038.6176,-347.9735C1029.0951,-335.6085 1016.3074,-319.0036 1005.6652,-305.1847\"/>\n",
       "<polygon fill=\"#0000ff\" stroke=\"#0000ff\" points=\"1008.2392,-302.7907 999.3647,-297.0034 1002.6932,-307.0618 1008.2392,-302.7907\"/>\n",
       "<text text-anchor=\"middle\" x=\"1058.5\" y=\"-318.8\" font-family=\"Times,serif\" font-size=\"14.00\" fill=\"#000000\">yes, missing</text>\n",
       "</g>\n",
       "<!-- 10 -->\n",
       "<g id=\"node19\" class=\"node\">\n",
       "<title>10</title>\n",
       "<path fill=\"#78cb0e\" stroke=\"#000000\" d=\"M1199.5,-297C1199.5,-297 1093.5,-297 1093.5,-297 1087.5,-297 1081.5,-291 1081.5,-285 1081.5,-285 1081.5,-273 1081.5,-273 1081.5,-267 1087.5,-261 1093.5,-261 1093.5,-261 1199.5,-261 1199.5,-261 1205.5,-261 1211.5,-267 1211.5,-273 1211.5,-273 1211.5,-285 1211.5,-285 1211.5,-291 1205.5,-297 1199.5,-297\"/>\n",
       "<text text-anchor=\"middle\" x=\"1146.5\" y=\"-275.3\" font-family=\"Times,serif\" font-size=\"14.00\" fill=\"#000000\">albumin&lt;2.8499999</text>\n",
       "</g>\n",
       "<!-- 5&#45;&gt;10 -->\n",
       "<g id=\"edge18\" class=\"edge\">\n",
       "<title>5&#45;&gt;10</title>\n",
       "<path fill=\"none\" stroke=\"#ff0000\" d=\"M1076.338,-347.8792C1083.3152,-342.3241 1090.851,-336.072 1097.5,-330 1106.2466,-322.0124 1115.3593,-312.8027 1123.3202,-304.4262\"/>\n",
       "<polygon fill=\"#ff0000\" stroke=\"#ff0000\" points=\"1125.9732,-306.7138 1130.2638,-297.0266 1120.8687,-301.9238 1125.9732,-306.7138\"/>\n",
       "<text text-anchor=\"middle\" x=\"1121\" y=\"-318.8\" font-family=\"Times,serif\" font-size=\"14.00\" fill=\"#000000\">no</text>\n",
       "</g>\n",
       "<!-- 11 -->\n",
       "<g id=\"node38\" class=\"node\">\n",
       "<title>11</title>\n",
       "<polygon fill=\"#e48038\" stroke=\"#000000\" points=\"1361,-297 1230,-297 1230,-261 1361,-261 1361,-297\"/>\n",
       "<text text-anchor=\"middle\" x=\"1295.5\" y=\"-275.3\" font-family=\"Times,serif\" font-size=\"14.00\" fill=\"#000000\">leaf=&#45;0.0199999996</text>\n",
       "</g>\n",
       "<!-- 6&#45;&gt;11 -->\n",
       "<g id=\"edge37\" class=\"edge\">\n",
       "<title>6&#45;&gt;11</title>\n",
       "<path fill=\"none\" stroke=\"#0000ff\" d=\"M1295.5,-347.9735C1295.5,-336.1918 1295.5,-320.5607 1295.5,-307.1581\"/>\n",
       "<polygon fill=\"#0000ff\" stroke=\"#0000ff\" points=\"1299.0001,-307.0033 1295.5,-297.0034 1292.0001,-307.0034 1299.0001,-307.0033\"/>\n",
       "<text text-anchor=\"middle\" x=\"1330.5\" y=\"-318.8\" font-family=\"Times,serif\" font-size=\"14.00\" fill=\"#000000\">yes, missing</text>\n",
       "</g>\n",
       "<!-- 12 -->\n",
       "<g id=\"node39\" class=\"node\">\n",
       "<title>12</title>\n",
       "<polygon fill=\"#e48038\" stroke=\"#000000\" points=\"1505.5,-297 1379.5,-297 1379.5,-261 1505.5,-261 1505.5,-297\"/>\n",
       "<text text-anchor=\"middle\" x=\"1442.5\" y=\"-275.3\" font-family=\"Times,serif\" font-size=\"14.00\" fill=\"#000000\">leaf=0.0199999996</text>\n",
       "</g>\n",
       "<!-- 6&#45;&gt;12 -->\n",
       "<g id=\"edge38\" class=\"edge\">\n",
       "<title>6&#45;&gt;12</title>\n",
       "<path fill=\"none\" stroke=\"#ff0000\" d=\"M1335.6588,-347.8807C1346.8048,-342.4723 1358.7838,-336.2974 1369.5,-330 1383.2539,-321.9175 1397.7804,-312.0647 1410.2221,-303.1819\"/>\n",
       "<polygon fill=\"#ff0000\" stroke=\"#ff0000\" points=\"1412.4139,-305.9162 1418.4673,-297.221 1408.3127,-300.2434 1412.4139,-305.9162\"/>\n",
       "<text text-anchor=\"middle\" x=\"1399\" y=\"-318.8\" font-family=\"Times,serif\" font-size=\"14.00\" fill=\"#000000\">no</text>\n",
       "</g>\n",
       "<!-- 15 -->\n",
       "<g id=\"node20\" class=\"node\">\n",
       "<title>15</title>\n",
       "<path fill=\"#78cb0e\" stroke=\"#000000\" d=\"M848,-210C848,-210 669,-210 669,-210 663,-210 657,-204 657,-198 657,-198 657,-186 657,-186 657,-180 663,-174 669,-174 669,-174 848,-174 848,-174 854,-174 860,-180 860,-186 860,-186 860,-198 860,-198 860,-204 854,-210 848,-210\"/>\n",
       "<text text-anchor=\"middle\" x=\"758.5\" y=\"-188.3\" font-family=\"Times,serif\" font-size=\"14.00\" fill=\"#000000\">blood_lactic_dehydrogenise&lt;142</text>\n",
       "</g>\n",
       "<!-- 9&#45;&gt;15 -->\n",
       "<g id=\"edge19\" class=\"edge\">\n",
       "<title>9&#45;&gt;15</title>\n",
       "<path fill=\"none\" stroke=\"#0000ff\" d=\"M938.4655,-260.9735C902.5503,-247.2087 852.9258,-228.1896 814.8816,-213.6088\"/>\n",
       "<polygon fill=\"#0000ff\" stroke=\"#0000ff\" points=\"816.0646,-210.314 805.4743,-210.0034 813.5594,-216.8504 816.0646,-210.314\"/>\n",
       "<text text-anchor=\"middle\" x=\"921.5\" y=\"-231.8\" font-family=\"Times,serif\" font-size=\"14.00\" fill=\"#000000\">yes, missing</text>\n",
       "</g>\n",
       "<!-- 16 -->\n",
       "<g id=\"node21\" class=\"node\">\n",
       "<title>16</title>\n",
       "<path fill=\"#78cb0e\" stroke=\"#000000\" d=\"M1080.5,-210C1080.5,-210 890.5,-210 890.5,-210 884.5,-210 878.5,-204 878.5,-198 878.5,-198 878.5,-186 878.5,-186 878.5,-180 884.5,-174 890.5,-174 890.5,-174 1080.5,-174 1080.5,-174 1086.5,-174 1092.5,-180 1092.5,-186 1092.5,-186 1092.5,-198 1092.5,-198 1092.5,-204 1086.5,-210 1080.5,-210\"/>\n",
       "<text text-anchor=\"middle\" x=\"985.5\" y=\"-188.3\" font-family=\"Times,serif\" font-size=\"14.00\" fill=\"#000000\">blood_lactic_dehydrogenise&lt;123.5</text>\n",
       "</g>\n",
       "<!-- 9&#45;&gt;16 -->\n",
       "<g id=\"edge20\" class=\"edge\">\n",
       "<title>9&#45;&gt;16</title>\n",
       "<path fill=\"none\" stroke=\"#ff0000\" d=\"M985.5,-260.9735C985.5,-249.1918 985.5,-233.5607 985.5,-220.1581\"/>\n",
       "<polygon fill=\"#ff0000\" stroke=\"#ff0000\" points=\"989.0001,-220.0033 985.5,-210.0034 982.0001,-220.0034 989.0001,-220.0033\"/>\n",
       "<text text-anchor=\"middle\" x=\"993\" y=\"-231.8\" font-family=\"Times,serif\" font-size=\"14.00\" fill=\"#000000\">no</text>\n",
       "</g>\n",
       "<!-- 17 -->\n",
       "<g id=\"node32\" class=\"node\">\n",
       "<title>17</title>\n",
       "<polygon fill=\"#e48038\" stroke=\"#000000\" points=\"1242,-210 1111,-210 1111,-174 1242,-174 1242,-210\"/>\n",
       "<text text-anchor=\"middle\" x=\"1176.5\" y=\"-188.3\" font-family=\"Times,serif\" font-size=\"14.00\" fill=\"#000000\">leaf=&#45;0.0199999996</text>\n",
       "</g>\n",
       "<!-- 10&#45;&gt;17 -->\n",
       "<g id=\"edge31\" class=\"edge\">\n",
       "<title>10&#45;&gt;17</title>\n",
       "<path fill=\"none\" stroke=\"#0000ff\" d=\"M1152.716,-260.9735C1156.8189,-249.0751 1162.2756,-233.2508 1166.9274,-219.7606\"/>\n",
       "<polygon fill=\"#0000ff\" stroke=\"#0000ff\" points=\"1170.3408,-220.5981 1170.2919,-210.0034 1163.7232,-218.3161 1170.3408,-220.5981\"/>\n",
       "<text text-anchor=\"middle\" x=\"1198.5\" y=\"-231.8\" font-family=\"Times,serif\" font-size=\"14.00\" fill=\"#000000\">yes, missing</text>\n",
       "</g>\n",
       "<!-- 18 -->\n",
       "<g id=\"node33\" class=\"node\">\n",
       "<title>18</title>\n",
       "<path fill=\"#78cb0e\" stroke=\"#000000\" d=\"M1338,-210C1338,-210 1279,-210 1279,-210 1273,-210 1267,-204 1267,-198 1267,-198 1267,-186 1267,-186 1267,-180 1273,-174 1279,-174 1279,-174 1338,-174 1338,-174 1344,-174 1350,-180 1350,-186 1350,-186 1350,-198 1350,-198 1350,-204 1344,-210 1338,-210\"/>\n",
       "<text text-anchor=\"middle\" x=\"1308.5\" y=\"-188.3\" font-family=\"Times,serif\" font-size=\"14.00\" fill=\"#000000\">gender_1&lt;1</text>\n",
       "</g>\n",
       "<!-- 10&#45;&gt;18 -->\n",
       "<g id=\"edge32\" class=\"edge\">\n",
       "<title>10&#45;&gt;18</title>\n",
       "<path fill=\"none\" stroke=\"#ff0000\" d=\"M1198.525,-260.9683C1211.5416,-255.77 1225.2725,-249.6769 1237.5,-243 1251.5696,-235.3172 1266.1158,-225.2922 1278.3502,-216.1655\"/>\n",
       "<polygon fill=\"#ff0000\" stroke=\"#ff0000\" points=\"1280.576,-218.8701 1286.4166,-210.0305 1276.3383,-213.2984 1280.576,-218.8701\"/>\n",
       "<text text-anchor=\"middle\" x=\"1268\" y=\"-231.8\" font-family=\"Times,serif\" font-size=\"14.00\" fill=\"#000000\">no</text>\n",
       "</g>\n",
       "<!-- 21 -->\n",
       "<g id=\"node22\" class=\"node\">\n",
       "<title>21</title>\n",
       "<path fill=\"#78cb0e\" stroke=\"#000000\" d=\"M718.5,-123C718.5,-123 620.5,-123 620.5,-123 614.5,-123 608.5,-117 608.5,-111 608.5,-111 608.5,-99 608.5,-99 608.5,-93 614.5,-87 620.5,-87 620.5,-87 718.5,-87 718.5,-87 724.5,-87 730.5,-93 730.5,-99 730.5,-99 730.5,-111 730.5,-111 730.5,-117 724.5,-123 718.5,-123\"/>\n",
       "<text text-anchor=\"middle\" x=\"669.5\" y=\"-101.3\" font-family=\"Times,serif\" font-size=\"14.00\" fill=\"#000000\">white_blood&lt;6645</text>\n",
       "</g>\n",
       "<!-- 15&#45;&gt;21 -->\n",
       "<g id=\"edge21\" class=\"edge\">\n",
       "<title>15&#45;&gt;21</title>\n",
       "<path fill=\"none\" stroke=\"#0000ff\" d=\"M733.3698,-173.8401C726.3674,-168.3839 718.9242,-162.1942 712.5,-156 704.6214,-148.4035 696.7001,-139.4659 689.8411,-131.2123\"/>\n",
       "<polygon fill=\"#0000ff\" stroke=\"#0000ff\" points=\"692.4013,-128.8131 683.3772,-123.2619 686.9699,-133.229 692.4013,-128.8131\"/>\n",
       "<text text-anchor=\"middle\" x=\"747.5\" y=\"-144.8\" font-family=\"Times,serif\" font-size=\"14.00\" fill=\"#000000\">yes, missing</text>\n",
       "</g>\n",
       "<!-- 22 -->\n",
       "<g id=\"node23\" class=\"node\">\n",
       "<title>22</title>\n",
       "<path fill=\"#78cb0e\" stroke=\"#000000\" d=\"M879,-123C879,-123 762,-123 762,-123 756,-123 750,-117 750,-111 750,-111 750,-99 750,-99 750,-93 756,-87 762,-87 762,-87 879,-87 879,-87 885,-87 891,-93 891,-99 891,-99 891,-111 891,-111 891,-117 885,-123 879,-123\"/>\n",
       "<text text-anchor=\"middle\" x=\"820.5\" y=\"-101.3\" font-family=\"Times,serif\" font-size=\"14.00\" fill=\"#000000\">pleural_protein&lt;5.625</text>\n",
       "</g>\n",
       "<!-- 15&#45;&gt;22 -->\n",
       "<g id=\"edge22\" class=\"edge\">\n",
       "<title>15&#45;&gt;22</title>\n",
       "<path fill=\"none\" stroke=\"#ff0000\" d=\"M771.3464,-173.9735C780.1583,-161.6085 791.9917,-145.0036 801.8396,-131.1847\"/>\n",
       "<polygon fill=\"#ff0000\" stroke=\"#ff0000\" points=\"804.7167,-133.1783 807.67,-123.0034 799.0162,-129.1158 804.7167,-133.1783\"/>\n",
       "<text text-anchor=\"middle\" x=\"801\" y=\"-144.8\" font-family=\"Times,serif\" font-size=\"14.00\" fill=\"#000000\">no</text>\n",
       "</g>\n",
       "<!-- 23 -->\n",
       "<g id=\"node28\" class=\"node\">\n",
       "<title>23</title>\n",
       "<polygon fill=\"#e48038\" stroke=\"#000000\" points=\"1047.5,-123 909.5,-123 909.5,-87 1047.5,-87 1047.5,-123\"/>\n",
       "<text text-anchor=\"middle\" x=\"978.5\" y=\"-101.3\" font-family=\"Times,serif\" font-size=\"14.00\" fill=\"#000000\">leaf=&#45;0.00999999978</text>\n",
       "</g>\n",
       "<!-- 16&#45;&gt;23 -->\n",
       "<g id=\"edge27\" class=\"edge\">\n",
       "<title>16&#45;&gt;23</title>\n",
       "<path fill=\"none\" stroke=\"#0000ff\" d=\"M984.0496,-173.9735C983.1016,-162.1918 981.844,-146.5607 980.7656,-133.1581\"/>\n",
       "<polygon fill=\"#0000ff\" stroke=\"#0000ff\" points=\"984.2394,-132.6904 979.9485,-123.0034 977.2619,-133.2519 984.2394,-132.6904\"/>\n",
       "<text text-anchor=\"middle\" x=\"1017.5\" y=\"-144.8\" font-family=\"Times,serif\" font-size=\"14.00\" fill=\"#000000\">yes, missing</text>\n",
       "</g>\n",
       "<!-- 24 -->\n",
       "<g id=\"node29\" class=\"node\">\n",
       "<title>24</title>\n",
       "<path fill=\"#78cb0e\" stroke=\"#000000\" d=\"M1215.5,-123C1215.5,-123 1077.5,-123 1077.5,-123 1071.5,-123 1065.5,-117 1065.5,-111 1065.5,-111 1065.5,-99 1065.5,-99 1065.5,-93 1071.5,-87 1077.5,-87 1077.5,-87 1215.5,-87 1215.5,-87 1221.5,-87 1227.5,-93 1227.5,-99 1227.5,-99 1227.5,-111 1227.5,-111 1227.5,-117 1221.5,-123 1215.5,-123\"/>\n",
       "<text text-anchor=\"middle\" x=\"1146.5\" y=\"-101.3\" font-family=\"Times,serif\" font-size=\"14.00\" fill=\"#000000\">total_protein&lt;5.69999981</text>\n",
       "</g>\n",
       "<!-- 16&#45;&gt;24 -->\n",
       "<g id=\"edge28\" class=\"edge\">\n",
       "<title>16&#45;&gt;24</title>\n",
       "<path fill=\"none\" stroke=\"#ff0000\" d=\"M1022.1523,-173.8224C1033.2427,-168.2131 1045.4176,-161.9455 1056.5,-156 1073.0366,-147.1284 1091.0681,-137.0022 1106.619,-128.1237\"/>\n",
       "<polygon fill=\"#ff0000\" stroke=\"#ff0000\" points=\"1108.5216,-131.0674 1115.4585,-123.0592 1105.0417,-124.9937 1108.5216,-131.0674\"/>\n",
       "<text text-anchor=\"middle\" x=\"1089\" y=\"-144.8\" font-family=\"Times,serif\" font-size=\"14.00\" fill=\"#000000\">no</text>\n",
       "</g>\n",
       "<!-- 31 -->\n",
       "<g id=\"node24\" class=\"node\">\n",
       "<title>31</title>\n",
       "<polygon fill=\"#e48038\" stroke=\"#000000\" points=\"585.5,-36 447.5,-36 447.5,0 585.5,0 585.5,-36\"/>\n",
       "<text text-anchor=\"middle\" x=\"516.5\" y=\"-14.3\" font-family=\"Times,serif\" font-size=\"14.00\" fill=\"#000000\">leaf=&#45;0.00666666683</text>\n",
       "</g>\n",
       "<!-- 21&#45;&gt;31 -->\n",
       "<g id=\"edge23\" class=\"edge\">\n",
       "<title>21&#45;&gt;31</title>\n",
       "<path fill=\"none\" stroke=\"#0000ff\" d=\"M630.2565,-86.9953C618.8979,-81.4934 606.5784,-75.2408 595.5,-69 580.6821,-60.6527 564.8413,-50.6532 551.2642,-41.7286\"/>\n",
       "<polygon fill=\"#0000ff\" stroke=\"#0000ff\" points=\"552.9702,-38.6601 542.7025,-36.0473 549.0997,-44.4928 552.9702,-38.6601\"/>\n",
       "<text text-anchor=\"middle\" x=\"630.5\" y=\"-57.8\" font-family=\"Times,serif\" font-size=\"14.00\" fill=\"#000000\">yes, missing</text>\n",
       "</g>\n",
       "<!-- 32 -->\n",
       "<g id=\"node25\" class=\"node\">\n",
       "<title>32</title>\n",
       "<polygon fill=\"#e48038\" stroke=\"#000000\" points=\"735,-36 604,-36 604,0 735,0 735,-36\"/>\n",
       "<text text-anchor=\"middle\" x=\"669.5\" y=\"-14.3\" font-family=\"Times,serif\" font-size=\"14.00\" fill=\"#000000\">leaf=&#45;0.0199999996</text>\n",
       "</g>\n",
       "<!-- 21&#45;&gt;32 -->\n",
       "<g id=\"edge24\" class=\"edge\">\n",
       "<title>21&#45;&gt;32</title>\n",
       "<path fill=\"none\" stroke=\"#ff0000\" d=\"M669.5,-86.9735C669.5,-75.1918 669.5,-59.5607 669.5,-46.1581\"/>\n",
       "<polygon fill=\"#ff0000\" stroke=\"#ff0000\" points=\"673.0001,-46.0033 669.5,-36.0034 666.0001,-46.0034 673.0001,-46.0033\"/>\n",
       "<text text-anchor=\"middle\" x=\"677\" y=\"-57.8\" font-family=\"Times,serif\" font-size=\"14.00\" fill=\"#000000\">no</text>\n",
       "</g>\n",
       "<!-- 33 -->\n",
       "<g id=\"node26\" class=\"node\">\n",
       "<title>33</title>\n",
       "<polygon fill=\"#e48038\" stroke=\"#000000\" points=\"891.5,-36 753.5,-36 753.5,0 891.5,0 891.5,-36\"/>\n",
       "<text text-anchor=\"middle\" x=\"822.5\" y=\"-14.3\" font-family=\"Times,serif\" font-size=\"14.00\" fill=\"#000000\">leaf=&#45;0.00947368424</text>\n",
       "</g>\n",
       "<!-- 22&#45;&gt;33 -->\n",
       "<g id=\"edge25\" class=\"edge\">\n",
       "<title>22&#45;&gt;33</title>\n",
       "<path fill=\"none\" stroke=\"#0000ff\" d=\"M820.9144,-86.9735C821.1852,-75.1918 821.5446,-59.5607 821.8527,-46.1581\"/>\n",
       "<polygon fill=\"#0000ff\" stroke=\"#0000ff\" points=\"825.3553,-46.0812 822.0861,-36.0034 818.3571,-45.9202 825.3553,-46.0812\"/>\n",
       "<text text-anchor=\"middle\" x=\"857.5\" y=\"-57.8\" font-family=\"Times,serif\" font-size=\"14.00\" fill=\"#000000\">yes, missing</text>\n",
       "</g>\n",
       "<!-- 34 -->\n",
       "<g id=\"node27\" class=\"node\">\n",
       "<title>34</title>\n",
       "<polygon fill=\"#e48038\" stroke=\"#000000\" points=\"1043,-36 910,-36 910,0 1043,0 1043,-36\"/>\n",
       "<text text-anchor=\"middle\" x=\"976.5\" y=\"-14.3\" font-family=\"Times,serif\" font-size=\"14.00\" fill=\"#000000\">leaf=0.00400000019</text>\n",
       "</g>\n",
       "<!-- 22&#45;&gt;34 -->\n",
       "<g id=\"edge26\" class=\"edge\">\n",
       "<title>22&#45;&gt;34</title>\n",
       "<path fill=\"none\" stroke=\"#ff0000\" d=\"M861.205,-86.8674C872.7612,-81.4116 885.2556,-75.2154 896.5,-69 911.518,-60.6987 927.5615,-50.7078 941.3089,-41.7772\"/>\n",
       "<polygon fill=\"#ff0000\" stroke=\"#ff0000\" points=\"943.5361,-44.502 949.9774,-36.09 939.6962,-38.6492 943.5361,-44.502\"/>\n",
       "<text text-anchor=\"middle\" x=\"929\" y=\"-57.8\" font-family=\"Times,serif\" font-size=\"14.00\" fill=\"#000000\">no</text>\n",
       "</g>\n",
       "<!-- 35 -->\n",
       "<g id=\"node30\" class=\"node\">\n",
       "<title>35</title>\n",
       "<polygon fill=\"#e48038\" stroke=\"#000000\" points=\"1207.5,-36 1069.5,-36 1069.5,0 1207.5,0 1207.5,-36\"/>\n",
       "<text text-anchor=\"middle\" x=\"1138.5\" y=\"-14.3\" font-family=\"Times,serif\" font-size=\"14.00\" fill=\"#000000\">leaf=&#45;0.00999999978</text>\n",
       "</g>\n",
       "<!-- 24&#45;&gt;35 -->\n",
       "<g id=\"edge29\" class=\"edge\">\n",
       "<title>24&#45;&gt;35</title>\n",
       "<path fill=\"none\" stroke=\"#0000ff\" d=\"M1144.8424,-86.9735C1143.759,-75.1918 1142.3217,-59.5607 1141.0892,-46.1581\"/>\n",
       "<polygon fill=\"#0000ff\" stroke=\"#0000ff\" points=\"1144.5565,-45.6408 1140.1555,-36.0034 1137.586,-46.2819 1144.5565,-45.6408\"/>\n",
       "<text text-anchor=\"middle\" x=\"1178.5\" y=\"-57.8\" font-family=\"Times,serif\" font-size=\"14.00\" fill=\"#000000\">yes, missing</text>\n",
       "</g>\n",
       "<!-- 36 -->\n",
       "<g id=\"node31\" class=\"node\">\n",
       "<title>36</title>\n",
       "<polygon fill=\"#e48038\" stroke=\"#000000\" points=\"1357,-36 1226,-36 1226,0 1357,0 1357,-36\"/>\n",
       "<text text-anchor=\"middle\" x=\"1291.5\" y=\"-14.3\" font-family=\"Times,serif\" font-size=\"14.00\" fill=\"#000000\">leaf=&#45;0.0199999996</text>\n",
       "</g>\n",
       "<!-- 24&#45;&gt;36 -->\n",
       "<g id=\"edge30\" class=\"edge\">\n",
       "<title>24&#45;&gt;36</title>\n",
       "<path fill=\"none\" stroke=\"#ff0000\" d=\"M1184.5923,-86.8666C1195.3893,-81.4108 1207.0459,-75.2148 1217.5,-69 1231.3394,-60.7728 1246.0449,-50.892 1258.6698,-42.0273\"/>\n",
       "<polygon fill=\"#ff0000\" stroke=\"#ff0000\" points=\"1260.9126,-44.7275 1267.0416,-36.0854 1256.861,-39.0192 1260.9126,-44.7275\"/>\n",
       "<text text-anchor=\"middle\" x=\"1248\" y=\"-57.8\" font-family=\"Times,serif\" font-size=\"14.00\" fill=\"#000000\">no</text>\n",
       "</g>\n",
       "<!-- 25 -->\n",
       "<g id=\"node34\" class=\"node\">\n",
       "<title>25</title>\n",
       "<polygon fill=\"#e48038\" stroke=\"#000000\" points=\"1371.5,-123 1245.5,-123 1245.5,-87 1371.5,-87 1371.5,-123\"/>\n",
       "<text text-anchor=\"middle\" x=\"1308.5\" y=\"-101.3\" font-family=\"Times,serif\" font-size=\"14.00\" fill=\"#000000\">leaf=0.0199999996</text>\n",
       "</g>\n",
       "<!-- 18&#45;&gt;25 -->\n",
       "<g id=\"edge33\" class=\"edge\">\n",
       "<title>18&#45;&gt;25</title>\n",
       "<path fill=\"none\" stroke=\"#0000ff\" d=\"M1308.5,-173.9735C1308.5,-162.1918 1308.5,-146.5607 1308.5,-133.1581\"/>\n",
       "<polygon fill=\"#0000ff\" stroke=\"#0000ff\" points=\"1312.0001,-133.0033 1308.5,-123.0034 1305.0001,-133.0034 1312.0001,-133.0033\"/>\n",
       "<text text-anchor=\"middle\" x=\"1343.5\" y=\"-144.8\" font-family=\"Times,serif\" font-size=\"14.00\" fill=\"#000000\">yes, missing</text>\n",
       "</g>\n",
       "<!-- 26 -->\n",
       "<g id=\"node35\" class=\"node\">\n",
       "<title>26</title>\n",
       "<path fill=\"#78cb0e\" stroke=\"#000000\" d=\"M1503,-123C1503,-123 1402,-123 1402,-123 1396,-123 1390,-117 1390,-111 1390,-111 1390,-99 1390,-99 1390,-93 1396,-87 1402,-87 1402,-87 1503,-87 1503,-87 1509,-87 1515,-93 1515,-99 1515,-99 1515,-111 1515,-111 1515,-117 1509,-123 1503,-123\"/>\n",
       "<text text-anchor=\"middle\" x=\"1452.5\" y=\"-101.3\" font-family=\"Times,serif\" font-size=\"14.00\" fill=\"#000000\">platelet_count&lt;325</text>\n",
       "</g>\n",
       "<!-- 18&#45;&gt;26 -->\n",
       "<g id=\"edge34\" class=\"edge\">\n",
       "<title>18&#45;&gt;26</title>\n",
       "<path fill=\"none\" stroke=\"#ff0000\" d=\"M1349.1259,-173.8325C1360.1627,-168.4695 1371.9693,-162.3298 1382.5,-156 1395.7739,-148.0214 1409.6981,-138.2071 1421.6005,-129.326\"/>\n",
       "<polygon fill=\"#ff0000\" stroke=\"#ff0000\" points=\"1424.0118,-131.8903 1429.8718,-123.0636 1419.7864,-126.3095 1424.0118,-131.8903\"/>\n",
       "<text text-anchor=\"middle\" x=\"1411\" y=\"-144.8\" font-family=\"Times,serif\" font-size=\"14.00\" fill=\"#000000\">no</text>\n",
       "</g>\n",
       "<!-- 37 -->\n",
       "<g id=\"node36\" class=\"node\">\n",
       "<title>37</title>\n",
       "<polygon fill=\"#e48038\" stroke=\"#000000\" points=\"1517.5,-36 1379.5,-36 1379.5,0 1517.5,0 1517.5,-36\"/>\n",
       "<text text-anchor=\"middle\" x=\"1448.5\" y=\"-14.3\" font-family=\"Times,serif\" font-size=\"14.00\" fill=\"#000000\">leaf=&#45;0.00999999978</text>\n",
       "</g>\n",
       "<!-- 26&#45;&gt;37 -->\n",
       "<g id=\"edge35\" class=\"edge\">\n",
       "<title>26&#45;&gt;37</title>\n",
       "<path fill=\"none\" stroke=\"#0000ff\" d=\"M1451.6712,-86.9735C1451.1295,-75.1918 1450.4108,-59.5607 1449.7946,-46.1581\"/>\n",
       "<polygon fill=\"#0000ff\" stroke=\"#0000ff\" points=\"1453.2834,-45.832 1449.3277,-36.0034 1446.2908,-46.1536 1453.2834,-45.832\"/>\n",
       "<text text-anchor=\"middle\" x=\"1485.5\" y=\"-57.8\" font-family=\"Times,serif\" font-size=\"14.00\" fill=\"#000000\">yes, missing</text>\n",
       "</g>\n",
       "<!-- 38 -->\n",
       "<g id=\"node37\" class=\"node\">\n",
       "<title>38</title>\n",
       "<polygon fill=\"#e48038\" stroke=\"#000000\" points=\"1669,-36 1536,-36 1536,0 1669,0 1669,-36\"/>\n",
       "<text text-anchor=\"middle\" x=\"1602.5\" y=\"-14.3\" font-family=\"Times,serif\" font-size=\"14.00\" fill=\"#000000\">leaf=0.00999999978</text>\n",
       "</g>\n",
       "<!-- 26&#45;&gt;38 -->\n",
       "<g id=\"edge36\" class=\"edge\">\n",
       "<title>26&#45;&gt;38</title>\n",
       "<path fill=\"none\" stroke=\"#ff0000\" d=\"M1490.6744,-86.9368C1501.7259,-81.4336 1513.7144,-75.1949 1524.5,-69 1539.1162,-60.6049 1554.7538,-50.5965 1568.1609,-41.6781\"/>\n",
       "<polygon fill=\"#ff0000\" stroke=\"#ff0000\" points=\"1570.2636,-44.4821 1576.616,-36.0029 1566.3624,-38.67 1570.2636,-44.4821\"/>\n",
       "<text text-anchor=\"middle\" x=\"1556\" y=\"-57.8\" font-family=\"Times,serif\" font-size=\"14.00\" fill=\"#000000\">no</text>\n",
       "</g>\n",
       "</g>\n",
       "</svg>\n"
      ],
      "text/plain": [
       "<graphviz.dot.Digraph at 0x7fe25059c690>"
      ]
     },
     "execution_count": 290,
     "metadata": {},
     "output_type": "execute_result"
    }
   ],
   "source": [
    "bst = clf_xgb.get_booster()\n",
    "for importance_type in ('weight', 'gain', 'cover', 'total_gain', 'total_cover'):\n",
    "    print('%s: ' % importance_type, bst.get_score(importance_type=importance_type))\n",
    "\n",
    "node_params = {'shape': 'box', ## make the nodes fancy\n",
    "               'style': 'filled, rounded',\n",
    "               'fillcolor': '#78cbe'} \n",
    "leaf_params = {'shape': 'box',\n",
    "               'style': 'filled',\n",
    "               'fillcolor': '#e48038'}\n",
    "## NOTE: num_trees is NOT the number of trees to plot, but the specific tree you want to plot\n",
    "## The default value is 0, but I'm setting it just to show it in action since it is\n",
    "## counter-intuitive."
   ]
  },
  {
   "cell_type": "code",
   "execution_count": 294,
   "metadata": {},
   "outputs": [
    {
     "data": {
      "image/svg+xml": [
       "<?xml version=\"1.0\" encoding=\"UTF-8\" standalone=\"no\"?>\n",
       "<!DOCTYPE svg PUBLIC \"-//W3C//DTD SVG 1.1//EN\"\n",
       " \"http://www.w3.org/Graphics/SVG/1.1/DTD/svg11.dtd\">\n",
       "<!-- Generated by graphviz version 2.40.1 (20161225.0304)\n",
       " -->\n",
       "<!-- Title: %3 Pages: 1 -->\n",
       "<svg width=\"720pt\" height=\"243pt\"\n",
       " viewBox=\"0.00 0.00 720.00 243.01\" xmlns=\"http://www.w3.org/2000/svg\" xmlns:xlink=\"http://www.w3.org/1999/xlink\">\n",
       "<g id=\"graph0\" class=\"graph\" transform=\"scale(.4293 .4293) rotate(0) translate(4 562)\">\n",
       "<title>%3</title>\n",
       "<polygon fill=\"#ffffff\" stroke=\"transparent\" points=\"-4,4 -4,-562 1673,-562 1673,4 -4,4\"/>\n",
       "<!-- 0 -->\n",
       "<g id=\"node1\" class=\"node\">\n",
       "<title>0</title>\n",
       "<path fill=\"#78cb0e\" stroke=\"#000000\" d=\"M740,-558C740,-558 639,-558 639,-558 633,-558 627,-552 627,-546 627,-546 627,-534 627,-534 627,-528 633,-522 639,-522 639,-522 740,-522 740,-522 746,-522 752,-528 752,-534 752,-534 752,-546 752,-546 752,-552 746,-558 740,-558\"/>\n",
       "<text text-anchor=\"middle\" x=\"689.5\" y=\"-536.3\" font-family=\"Times,serif\" font-size=\"14.00\" fill=\"#000000\">platelet_count&lt;192</text>\n",
       "</g>\n",
       "<!-- 1 -->\n",
       "<g id=\"node2\" class=\"node\">\n",
       "<title>1</title>\n",
       "<path fill=\"#78cb0e\" stroke=\"#000000\" d=\"M388.5,-471C388.5,-471 344.5,-471 344.5,-471 338.5,-471 332.5,-465 332.5,-459 332.5,-459 332.5,-447 332.5,-447 332.5,-441 338.5,-435 344.5,-435 344.5,-435 388.5,-435 388.5,-435 394.5,-435 400.5,-441 400.5,-447 400.5,-447 400.5,-459 400.5,-459 400.5,-465 394.5,-471 388.5,-471\"/>\n",
       "<text text-anchor=\"middle\" x=\"366.5\" y=\"-449.3\" font-family=\"Times,serif\" font-size=\"14.00\" fill=\"#000000\">age&lt;46.5</text>\n",
       "</g>\n",
       "<!-- 0&#45;&gt;1 -->\n",
       "<g id=\"edge1\" class=\"edge\">\n",
       "<title>0&#45;&gt;1</title>\n",
       "<path fill=\"none\" stroke=\"#0000ff\" d=\"M626.8394,-523.1224C563.2828,-506.0034 466.5428,-479.9465 410.6241,-464.8848\"/>\n",
       "<polygon fill=\"#0000ff\" stroke=\"#0000ff\" points=\"411.2412,-461.4264 400.6751,-462.205 409.4206,-468.1855 411.2412,-461.4264\"/>\n",
       "<text text-anchor=\"middle\" x=\"582.5\" y=\"-492.8\" font-family=\"Times,serif\" font-size=\"14.00\" fill=\"#000000\">yes, missing</text>\n",
       "</g>\n",
       "<!-- 2 -->\n",
       "<g id=\"node3\" class=\"node\">\n",
       "<title>2</title>\n",
       "<path fill=\"#78cb0e\" stroke=\"#000000\" d=\"M1090.5,-471C1090.5,-471 1014.5,-471 1014.5,-471 1008.5,-471 1002.5,-465 1002.5,-459 1002.5,-459 1002.5,-447 1002.5,-447 1002.5,-441 1008.5,-435 1014.5,-435 1014.5,-435 1090.5,-435 1090.5,-435 1096.5,-435 1102.5,-441 1102.5,-447 1102.5,-447 1102.5,-459 1102.5,-459 1102.5,-465 1096.5,-471 1090.5,-471\"/>\n",
       "<text text-anchor=\"middle\" x=\"1052.5\" y=\"-449.3\" font-family=\"Times,serif\" font-size=\"14.00\" fill=\"#000000\">lung_side_2&lt;1</text>\n",
       "</g>\n",
       "<!-- 0&#45;&gt;2 -->\n",
       "<g id=\"edge2\" class=\"edge\">\n",
       "<title>0&#45;&gt;2</title>\n",
       "<path fill=\"none\" stroke=\"#ff0000\" d=\"M752.3154,-524.9451C819.7732,-508.7775 926.1818,-483.2746 992.5223,-467.3748\"/>\n",
       "<polygon fill=\"#ff0000\" stroke=\"#ff0000\" points=\"993.5028,-470.739 1002.4116,-465.0047 991.8712,-463.9318 993.5028,-470.739\"/>\n",
       "<text text-anchor=\"middle\" x=\"901\" y=\"-492.8\" font-family=\"Times,serif\" font-size=\"14.00\" fill=\"#000000\">no</text>\n",
       "</g>\n",
       "<!-- 3 -->\n",
       "<g id=\"node4\" class=\"node\">\n",
       "<title>3</title>\n",
       "<polygon fill=\"#e48038\" stroke=\"#000000\" points=\"235.5,-384 109.5,-384 109.5,-348 235.5,-348 235.5,-384\"/>\n",
       "<text text-anchor=\"middle\" x=\"172.5\" y=\"-362.3\" font-family=\"Times,serif\" font-size=\"14.00\" fill=\"#000000\">leaf=0.0199999996</text>\n",
       "</g>\n",
       "<!-- 1&#45;&gt;3 -->\n",
       "<g id=\"edge3\" class=\"edge\">\n",
       "<title>1&#45;&gt;3</title>\n",
       "<path fill=\"none\" stroke=\"#0000ff\" d=\"M332.2633,-437.6464C301.7387,-423.9576 256.6823,-403.7519 222.1927,-388.2849\"/>\n",
       "<polygon fill=\"#0000ff\" stroke=\"#0000ff\" points=\"223.3226,-384.9558 212.7659,-384.0574 220.4582,-391.3429 223.3226,-384.9558\"/>\n",
       "<text text-anchor=\"middle\" x=\"316.5\" y=\"-405.8\" font-family=\"Times,serif\" font-size=\"14.00\" fill=\"#000000\">yes, missing</text>\n",
       "</g>\n",
       "<!-- 4 -->\n",
       "<g id=\"node5\" class=\"node\">\n",
       "<title>4</title>\n",
       "<path fill=\"#78cb0e\" stroke=\"#000000\" d=\"M467,-384C467,-384 266,-384 266,-384 260,-384 254,-378 254,-372 254,-372 254,-360 254,-360 254,-354 260,-348 266,-348 266,-348 467,-348 467,-348 473,-348 479,-354 479,-360 479,-360 479,-372 479,-372 479,-378 473,-384 467,-384\"/>\n",
       "<text text-anchor=\"middle\" x=\"366.5\" y=\"-362.3\" font-family=\"Times,serif\" font-size=\"14.00\" fill=\"#000000\">duration_of_asbestos_exposure&lt;29.5</text>\n",
       "</g>\n",
       "<!-- 1&#45;&gt;4 -->\n",
       "<g id=\"edge4\" class=\"edge\">\n",
       "<title>1&#45;&gt;4</title>\n",
       "<path fill=\"none\" stroke=\"#ff0000\" d=\"M366.5,-434.9735C366.5,-423.1918 366.5,-407.5607 366.5,-394.1581\"/>\n",
       "<polygon fill=\"#ff0000\" stroke=\"#ff0000\" points=\"370.0001,-394.0033 366.5,-384.0034 363.0001,-394.0034 370.0001,-394.0033\"/>\n",
       "<text text-anchor=\"middle\" x=\"374\" y=\"-405.8\" font-family=\"Times,serif\" font-size=\"14.00\" fill=\"#000000\">no</text>\n",
       "</g>\n",
       "<!-- 5 -->\n",
       "<g id=\"node16\" class=\"node\">\n",
       "<title>5</title>\n",
       "<path fill=\"#78cb0e\" stroke=\"#000000\" d=\"M1124.5,-384C1124.5,-384 980.5,-384 980.5,-384 974.5,-384 968.5,-378 968.5,-372 968.5,-372 968.5,-360 968.5,-360 968.5,-354 974.5,-348 980.5,-348 980.5,-348 1124.5,-348 1124.5,-348 1130.5,-348 1136.5,-354 1136.5,-360 1136.5,-360 1136.5,-372 1136.5,-372 1136.5,-378 1130.5,-384 1124.5,-384\"/>\n",
       "<text text-anchor=\"middle\" x=\"1052.5\" y=\"-362.3\" font-family=\"Times,serif\" font-size=\"14.00\" fill=\"#000000\">duration_of_symptoms&lt;11</text>\n",
       "</g>\n",
       "<!-- 2&#45;&gt;5 -->\n",
       "<g id=\"edge15\" class=\"edge\">\n",
       "<title>2&#45;&gt;5</title>\n",
       "<path fill=\"none\" stroke=\"#0000ff\" d=\"M1052.5,-434.9735C1052.5,-423.1918 1052.5,-407.5607 1052.5,-394.1581\"/>\n",
       "<polygon fill=\"#0000ff\" stroke=\"#0000ff\" points=\"1056.0001,-394.0033 1052.5,-384.0034 1049.0001,-394.0034 1056.0001,-394.0033\"/>\n",
       "<text text-anchor=\"middle\" x=\"1087.5\" y=\"-405.8\" font-family=\"Times,serif\" font-size=\"14.00\" fill=\"#000000\">yes, missing</text>\n",
       "</g>\n",
       "<!-- 6 -->\n",
       "<g id=\"node17\" class=\"node\">\n",
       "<title>6</title>\n",
       "<path fill=\"#78cb0e\" stroke=\"#000000\" d=\"M1391,-384C1391,-384 1200,-384 1200,-384 1194,-384 1188,-378 1188,-372 1188,-372 1188,-360 1188,-360 1188,-354 1194,-348 1200,-348 1200,-348 1391,-348 1391,-348 1397,-348 1403,-354 1403,-360 1403,-360 1403,-372 1403,-372 1403,-378 1397,-384 1391,-384\"/>\n",
       "<text text-anchor=\"middle\" x=\"1295.5\" y=\"-362.3\" font-family=\"Times,serif\" font-size=\"14.00\" fill=\"#000000\">duration_of_asbestos_exposure&lt;28</text>\n",
       "</g>\n",
       "<!-- 2&#45;&gt;6 -->\n",
       "<g id=\"edge16\" class=\"edge\">\n",
       "<title>2&#45;&gt;6</title>\n",
       "<path fill=\"none\" stroke=\"#ff0000\" d=\"M1102.5551,-435.079C1141.1423,-421.2639 1194.6407,-402.1101 1235.5187,-387.4748\"/>\n",
       "<polygon fill=\"#ff0000\" stroke=\"#ff0000\" points=\"1236.8576,-390.7131 1245.0926,-384.0471 1234.4981,-384.1227 1236.8576,-390.7131\"/>\n",
       "<text text-anchor=\"middle\" x=\"1197\" y=\"-405.8\" font-family=\"Times,serif\" font-size=\"14.00\" fill=\"#000000\">no</text>\n",
       "</g>\n",
       "<!-- 7 -->\n",
       "<g id=\"node6\" class=\"node\">\n",
       "<title>7</title>\n",
       "<polygon fill=\"#e48038\" stroke=\"#000000\" points=\"290,-297 159,-297 159,-261 290,-261 290,-297\"/>\n",
       "<text text-anchor=\"middle\" x=\"224.5\" y=\"-275.3\" font-family=\"Times,serif\" font-size=\"14.00\" fill=\"#000000\">leaf=&#45;0.0199999996</text>\n",
       "</g>\n",
       "<!-- 4&#45;&gt;7 -->\n",
       "<g id=\"edge5\" class=\"edge\">\n",
       "<title>4&#45;&gt;7</title>\n",
       "<path fill=\"none\" stroke=\"#0000ff\" d=\"M325.8158,-347.9288C314.7787,-342.5662 302.9866,-336.4026 292.5,-330 279.5272,-322.0795 265.9855,-312.2766 254.4329,-303.3882\"/>\n",
       "<polygon fill=\"#0000ff\" stroke=\"#0000ff\" points=\"256.4434,-300.5174 246.4088,-297.1177 252.1331,-306.0331 256.4434,-300.5174\"/>\n",
       "<text text-anchor=\"middle\" x=\"327.5\" y=\"-318.8\" font-family=\"Times,serif\" font-size=\"14.00\" fill=\"#000000\">yes, missing</text>\n",
       "</g>\n",
       "<!-- 8 -->\n",
       "<g id=\"node7\" class=\"node\">\n",
       "<title>8</title>\n",
       "<path fill=\"#78cb0e\" stroke=\"#000000\" d=\"M413,-297C413,-297 320,-297 320,-297 314,-297 308,-291 308,-285 308,-285 308,-273 308,-273 308,-267 314,-261 320,-261 320,-261 413,-261 413,-261 419,-261 425,-267 425,-273 425,-273 425,-285 425,-285 425,-291 419,-297 413,-297\"/>\n",
       "<text text-anchor=\"middle\" x=\"366.5\" y=\"-275.3\" font-family=\"Times,serif\" font-size=\"14.00\" fill=\"#000000\">sedimentation&lt;55</text>\n",
       "</g>\n",
       "<!-- 4&#45;&gt;8 -->\n",
       "<g id=\"edge6\" class=\"edge\">\n",
       "<title>4&#45;&gt;8</title>\n",
       "<path fill=\"none\" stroke=\"#ff0000\" d=\"M366.5,-347.9735C366.5,-336.1918 366.5,-320.5607 366.5,-307.1581\"/>\n",
       "<polygon fill=\"#ff0000\" stroke=\"#ff0000\" points=\"370.0001,-307.0033 366.5,-297.0034 363.0001,-307.0034 370.0001,-307.0033\"/>\n",
       "<text text-anchor=\"middle\" x=\"374\" y=\"-318.8\" font-family=\"Times,serif\" font-size=\"14.00\" fill=\"#000000\">no</text>\n",
       "</g>\n",
       "<!-- 13 -->\n",
       "<g id=\"node8\" class=\"node\">\n",
       "<title>13</title>\n",
       "<polygon fill=\"#e48038\" stroke=\"#000000\" points=\"265.5,-210 139.5,-210 139.5,-174 265.5,-174 265.5,-210\"/>\n",
       "<text text-anchor=\"middle\" x=\"202.5\" y=\"-188.3\" font-family=\"Times,serif\" font-size=\"14.00\" fill=\"#000000\">leaf=0.0199999996</text>\n",
       "</g>\n",
       "<!-- 8&#45;&gt;13 -->\n",
       "<g id=\"edge7\" class=\"edge\">\n",
       "<title>8&#45;&gt;13</title>\n",
       "<path fill=\"none\" stroke=\"#0000ff\" d=\"M328.2443,-260.9545C316.6834,-255.3497 304.0067,-249.0516 292.5,-243 275.8908,-234.265 257.846,-224.1639 242.3047,-215.2672\"/>\n",
       "<polygon fill=\"#0000ff\" stroke=\"#0000ff\" points=\"243.8868,-212.1396 233.4733,-210.1876 240.3967,-218.2075 243.8868,-212.1396\"/>\n",
       "<text text-anchor=\"middle\" x=\"327.5\" y=\"-231.8\" font-family=\"Times,serif\" font-size=\"14.00\" fill=\"#000000\">yes, missing</text>\n",
       "</g>\n",
       "<!-- 14 -->\n",
       "<g id=\"node9\" class=\"node\">\n",
       "<title>14</title>\n",
       "<path fill=\"#78cb0e\" stroke=\"#000000\" d=\"M437.5,-210C437.5,-210 295.5,-210 295.5,-210 289.5,-210 283.5,-204 283.5,-198 283.5,-198 283.5,-186 283.5,-186 283.5,-180 289.5,-174 295.5,-174 295.5,-174 437.5,-174 437.5,-174 443.5,-174 449.5,-180 449.5,-186 449.5,-186 449.5,-198 449.5,-198 449.5,-204 443.5,-210 437.5,-210\"/>\n",
       "<text text-anchor=\"middle\" x=\"366.5\" y=\"-188.3\" font-family=\"Times,serif\" font-size=\"14.00\" fill=\"#000000\">alkaline_phosphatise&lt;62.5</text>\n",
       "</g>\n",
       "<!-- 8&#45;&gt;14 -->\n",
       "<g id=\"edge8\" class=\"edge\">\n",
       "<title>8&#45;&gt;14</title>\n",
       "<path fill=\"none\" stroke=\"#ff0000\" d=\"M366.5,-260.9735C366.5,-249.1918 366.5,-233.5607 366.5,-220.1581\"/>\n",
       "<polygon fill=\"#ff0000\" stroke=\"#ff0000\" points=\"370.0001,-220.0033 366.5,-210.0034 363.0001,-220.0034 370.0001,-220.0033\"/>\n",
       "<text text-anchor=\"middle\" x=\"374\" y=\"-231.8\" font-family=\"Times,serif\" font-size=\"14.00\" fill=\"#000000\">no</text>\n",
       "</g>\n",
       "<!-- 19 -->\n",
       "<g id=\"node10\" class=\"node\">\n",
       "<title>19</title>\n",
       "<path fill=\"#78cb0e\" stroke=\"#000000\" d=\"M273,-123C273,-123 72,-123 72,-123 66,-123 60,-117 60,-111 60,-111 60,-99 60,-99 60,-93 66,-87 72,-87 72,-87 273,-87 273,-87 279,-87 285,-93 285,-99 285,-99 285,-111 285,-111 285,-117 279,-123 273,-123\"/>\n",
       "<text text-anchor=\"middle\" x=\"172.5\" y=\"-101.3\" font-family=\"Times,serif\" font-size=\"14.00\" fill=\"#000000\">duration_of_asbestos_exposure&lt;42.5</text>\n",
       "</g>\n",
       "<!-- 14&#45;&gt;19 -->\n",
       "<g id=\"edge9\" class=\"edge\">\n",
       "<title>14&#45;&gt;19</title>\n",
       "<path fill=\"none\" stroke=\"#0000ff\" d=\"M326.3031,-173.9735C295.9992,-160.3837 254.2751,-141.6723 221.9299,-127.167\"/>\n",
       "<polygon fill=\"#0000ff\" stroke=\"#0000ff\" points=\"223.2021,-123.9018 212.6454,-123.0034 220.3377,-130.2889 223.2021,-123.9018\"/>\n",
       "<text text-anchor=\"middle\" x=\"316.5\" y=\"-144.8\" font-family=\"Times,serif\" font-size=\"14.00\" fill=\"#000000\">yes, missing</text>\n",
       "</g>\n",
       "<!-- 20 -->\n",
       "<g id=\"node11\" class=\"node\">\n",
       "<title>20</title>\n",
       "<path fill=\"#78cb0e\" stroke=\"#000000\" d=\"M418,-123C418,-123 315,-123 315,-123 309,-123 303,-117 303,-111 303,-111 303,-99 303,-99 303,-93 309,-87 315,-87 315,-87 418,-87 418,-87 424,-87 430,-93 430,-99 430,-99 430,-111 430,-111 430,-117 424,-123 418,-123\"/>\n",
       "<text text-anchor=\"middle\" x=\"366.5\" y=\"-101.3\" font-family=\"Times,serif\" font-size=\"14.00\" fill=\"#000000\">sedimentation&lt;92.5</text>\n",
       "</g>\n",
       "<!-- 14&#45;&gt;20 -->\n",
       "<g id=\"edge10\" class=\"edge\">\n",
       "<title>14&#45;&gt;20</title>\n",
       "<path fill=\"none\" stroke=\"#ff0000\" d=\"M366.5,-173.9735C366.5,-162.1918 366.5,-146.5607 366.5,-133.1581\"/>\n",
       "<polygon fill=\"#ff0000\" stroke=\"#ff0000\" points=\"370.0001,-133.0033 366.5,-123.0034 363.0001,-133.0034 370.0001,-133.0033\"/>\n",
       "<text text-anchor=\"middle\" x=\"374\" y=\"-144.8\" font-family=\"Times,serif\" font-size=\"14.00\" fill=\"#000000\">no</text>\n",
       "</g>\n",
       "<!-- 27 -->\n",
       "<g id=\"node12\" class=\"node\">\n",
       "<title>27</title>\n",
       "<polygon fill=\"#e48038\" stroke=\"#000000\" points=\"131,-36 0,-36 0,0 131,0 131,-36\"/>\n",
       "<text text-anchor=\"middle\" x=\"65.5\" y=\"-14.3\" font-family=\"Times,serif\" font-size=\"14.00\" fill=\"#000000\">leaf=&#45;0.0199999996</text>\n",
       "</g>\n",
       "<!-- 19&#45;&gt;27 -->\n",
       "<g id=\"edge11\" class=\"edge\">\n",
       "<title>19&#45;&gt;27</title>\n",
       "<path fill=\"none\" stroke=\"#0000ff\" d=\"M128.3438,-86.821C118.9329,-81.831 109.4469,-75.868 101.5,-69 93.5884,-62.1625 86.5267,-53.2346 80.7981,-44.7632\"/>\n",
       "<polygon fill=\"#0000ff\" stroke=\"#0000ff\" points=\"83.6649,-42.7493 75.3311,-36.2072 77.7662,-46.5184 83.6649,-42.7493\"/>\n",
       "<text text-anchor=\"middle\" x=\"136.5\" y=\"-57.8\" font-family=\"Times,serif\" font-size=\"14.00\" fill=\"#000000\">yes, missing</text>\n",
       "</g>\n",
       "<!-- 28 -->\n",
       "<g id=\"node13\" class=\"node\">\n",
       "<title>28</title>\n",
       "<polygon fill=\"#e48038\" stroke=\"#000000\" points=\"206,-36 149,-36 149,0 206,0 206,-36\"/>\n",
       "<text text-anchor=\"middle\" x=\"177.5\" y=\"-14.3\" font-family=\"Times,serif\" font-size=\"14.00\" fill=\"#000000\">leaf=&#45;0</text>\n",
       "</g>\n",
       "<!-- 19&#45;&gt;28 -->\n",
       "<g id=\"edge12\" class=\"edge\">\n",
       "<title>19&#45;&gt;28</title>\n",
       "<path fill=\"none\" stroke=\"#ff0000\" d=\"M173.536,-86.9735C174.2131,-75.1918 175.1115,-59.5607 175.8817,-46.1581\"/>\n",
       "<polygon fill=\"#ff0000\" stroke=\"#ff0000\" points=\"179.3857,-46.1877 176.4653,-36.0034 172.3972,-45.786 179.3857,-46.1877\"/>\n",
       "<text text-anchor=\"middle\" x=\"183\" y=\"-57.8\" font-family=\"Times,serif\" font-size=\"14.00\" fill=\"#000000\">no</text>\n",
       "</g>\n",
       "<!-- 29 -->\n",
       "<g id=\"node14\" class=\"node\">\n",
       "<title>29</title>\n",
       "<polygon fill=\"#e48038\" stroke=\"#000000\" points=\"285,-36 228,-36 228,0 285,0 285,-36\"/>\n",
       "<text text-anchor=\"middle\" x=\"256.5\" y=\"-14.3\" font-family=\"Times,serif\" font-size=\"14.00\" fill=\"#000000\">leaf=&#45;0</text>\n",
       "</g>\n",
       "<!-- 20&#45;&gt;29 -->\n",
       "<g id=\"edge13\" class=\"edge\">\n",
       "<title>20&#45;&gt;29</title>\n",
       "<path fill=\"none\" stroke=\"#0000ff\" d=\"M320.077,-86.866C310.3966,-81.9025 300.6645,-75.9393 292.5,-69 284.5323,-62.228 277.4568,-53.3161 271.7328,-44.8394\"/>\n",
       "<polygon fill=\"#0000ff\" stroke=\"#0000ff\" points=\"274.6,-42.826 266.2762,-36.2713 268.6957,-46.5861 274.6,-42.826\"/>\n",
       "<text text-anchor=\"middle\" x=\"327.5\" y=\"-57.8\" font-family=\"Times,serif\" font-size=\"14.00\" fill=\"#000000\">yes, missing</text>\n",
       "</g>\n",
       "<!-- 30 -->\n",
       "<g id=\"node15\" class=\"node\">\n",
       "<title>30</title>\n",
       "<polygon fill=\"#e48038\" stroke=\"#000000\" points=\"429.5,-36 303.5,-36 303.5,0 429.5,0 429.5,-36\"/>\n",
       "<text text-anchor=\"middle\" x=\"366.5\" y=\"-14.3\" font-family=\"Times,serif\" font-size=\"14.00\" fill=\"#000000\">leaf=0.0199999996</text>\n",
       "</g>\n",
       "<!-- 20&#45;&gt;30 -->\n",
       "<g id=\"edge14\" class=\"edge\">\n",
       "<title>20&#45;&gt;30</title>\n",
       "<path fill=\"none\" stroke=\"#ff0000\" d=\"M366.5,-86.9735C366.5,-75.1918 366.5,-59.5607 366.5,-46.1581\"/>\n",
       "<polygon fill=\"#ff0000\" stroke=\"#ff0000\" points=\"370.0001,-46.0033 366.5,-36.0034 363.0001,-46.0034 370.0001,-46.0033\"/>\n",
       "<text text-anchor=\"middle\" x=\"374\" y=\"-57.8\" font-family=\"Times,serif\" font-size=\"14.00\" fill=\"#000000\">no</text>\n",
       "</g>\n",
       "<!-- 9 -->\n",
       "<g id=\"node18\" class=\"node\">\n",
       "<title>9</title>\n",
       "<path fill=\"#78cb0e\" stroke=\"#000000\" d=\"M1022,-297C1022,-297 949,-297 949,-297 943,-297 937,-291 937,-285 937,-285 937,-273 937,-273 937,-267 943,-261 949,-261 949,-261 1022,-261 1022,-261 1028,-261 1034,-267 1034,-273 1034,-273 1034,-285 1034,-285 1034,-291 1028,-297 1022,-297\"/>\n",
       "<text text-anchor=\"middle\" x=\"985.5\" y=\"-275.3\" font-family=\"Times,serif\" font-size=\"14.00\" fill=\"#000000\">cell_count&lt;12</text>\n",
       "</g>\n",
       "<!-- 5&#45;&gt;9 -->\n",
       "<g id=\"edge17\" class=\"edge\">\n",
       "<title>5&#45;&gt;9</title>\n",
       "<path fill=\"none\" stroke=\"#0000ff\" d=\"M1038.6176,-347.9735C1029.0951,-335.6085 1016.3074,-319.0036 1005.6652,-305.1847\"/>\n",
       "<polygon fill=\"#0000ff\" stroke=\"#0000ff\" points=\"1008.2392,-302.7907 999.3647,-297.0034 1002.6932,-307.0618 1008.2392,-302.7907\"/>\n",
       "<text text-anchor=\"middle\" x=\"1058.5\" y=\"-318.8\" font-family=\"Times,serif\" font-size=\"14.00\" fill=\"#000000\">yes, missing</text>\n",
       "</g>\n",
       "<!-- 10 -->\n",
       "<g id=\"node19\" class=\"node\">\n",
       "<title>10</title>\n",
       "<path fill=\"#78cb0e\" stroke=\"#000000\" d=\"M1199.5,-297C1199.5,-297 1093.5,-297 1093.5,-297 1087.5,-297 1081.5,-291 1081.5,-285 1081.5,-285 1081.5,-273 1081.5,-273 1081.5,-267 1087.5,-261 1093.5,-261 1093.5,-261 1199.5,-261 1199.5,-261 1205.5,-261 1211.5,-267 1211.5,-273 1211.5,-273 1211.5,-285 1211.5,-285 1211.5,-291 1205.5,-297 1199.5,-297\"/>\n",
       "<text text-anchor=\"middle\" x=\"1146.5\" y=\"-275.3\" font-family=\"Times,serif\" font-size=\"14.00\" fill=\"#000000\">albumin&lt;2.8499999</text>\n",
       "</g>\n",
       "<!-- 5&#45;&gt;10 -->\n",
       "<g id=\"edge18\" class=\"edge\">\n",
       "<title>5&#45;&gt;10</title>\n",
       "<path fill=\"none\" stroke=\"#ff0000\" d=\"M1076.338,-347.8792C1083.3152,-342.3241 1090.851,-336.072 1097.5,-330 1106.2466,-322.0124 1115.3593,-312.8027 1123.3202,-304.4262\"/>\n",
       "<polygon fill=\"#ff0000\" stroke=\"#ff0000\" points=\"1125.9732,-306.7138 1130.2638,-297.0266 1120.8687,-301.9238 1125.9732,-306.7138\"/>\n",
       "<text text-anchor=\"middle\" x=\"1121\" y=\"-318.8\" font-family=\"Times,serif\" font-size=\"14.00\" fill=\"#000000\">no</text>\n",
       "</g>\n",
       "<!-- 11 -->\n",
       "<g id=\"node38\" class=\"node\">\n",
       "<title>11</title>\n",
       "<polygon fill=\"#e48038\" stroke=\"#000000\" points=\"1361,-297 1230,-297 1230,-261 1361,-261 1361,-297\"/>\n",
       "<text text-anchor=\"middle\" x=\"1295.5\" y=\"-275.3\" font-family=\"Times,serif\" font-size=\"14.00\" fill=\"#000000\">leaf=&#45;0.0199999996</text>\n",
       "</g>\n",
       "<!-- 6&#45;&gt;11 -->\n",
       "<g id=\"edge37\" class=\"edge\">\n",
       "<title>6&#45;&gt;11</title>\n",
       "<path fill=\"none\" stroke=\"#0000ff\" d=\"M1295.5,-347.9735C1295.5,-336.1918 1295.5,-320.5607 1295.5,-307.1581\"/>\n",
       "<polygon fill=\"#0000ff\" stroke=\"#0000ff\" points=\"1299.0001,-307.0033 1295.5,-297.0034 1292.0001,-307.0034 1299.0001,-307.0033\"/>\n",
       "<text text-anchor=\"middle\" x=\"1330.5\" y=\"-318.8\" font-family=\"Times,serif\" font-size=\"14.00\" fill=\"#000000\">yes, missing</text>\n",
       "</g>\n",
       "<!-- 12 -->\n",
       "<g id=\"node39\" class=\"node\">\n",
       "<title>12</title>\n",
       "<polygon fill=\"#e48038\" stroke=\"#000000\" points=\"1505.5,-297 1379.5,-297 1379.5,-261 1505.5,-261 1505.5,-297\"/>\n",
       "<text text-anchor=\"middle\" x=\"1442.5\" y=\"-275.3\" font-family=\"Times,serif\" font-size=\"14.00\" fill=\"#000000\">leaf=0.0199999996</text>\n",
       "</g>\n",
       "<!-- 6&#45;&gt;12 -->\n",
       "<g id=\"edge38\" class=\"edge\">\n",
       "<title>6&#45;&gt;12</title>\n",
       "<path fill=\"none\" stroke=\"#ff0000\" d=\"M1335.6588,-347.8807C1346.8048,-342.4723 1358.7838,-336.2974 1369.5,-330 1383.2539,-321.9175 1397.7804,-312.0647 1410.2221,-303.1819\"/>\n",
       "<polygon fill=\"#ff0000\" stroke=\"#ff0000\" points=\"1412.4139,-305.9162 1418.4673,-297.221 1408.3127,-300.2434 1412.4139,-305.9162\"/>\n",
       "<text text-anchor=\"middle\" x=\"1399\" y=\"-318.8\" font-family=\"Times,serif\" font-size=\"14.00\" fill=\"#000000\">no</text>\n",
       "</g>\n",
       "<!-- 15 -->\n",
       "<g id=\"node20\" class=\"node\">\n",
       "<title>15</title>\n",
       "<path fill=\"#78cb0e\" stroke=\"#000000\" d=\"M848,-210C848,-210 669,-210 669,-210 663,-210 657,-204 657,-198 657,-198 657,-186 657,-186 657,-180 663,-174 669,-174 669,-174 848,-174 848,-174 854,-174 860,-180 860,-186 860,-186 860,-198 860,-198 860,-204 854,-210 848,-210\"/>\n",
       "<text text-anchor=\"middle\" x=\"758.5\" y=\"-188.3\" font-family=\"Times,serif\" font-size=\"14.00\" fill=\"#000000\">blood_lactic_dehydrogenise&lt;142</text>\n",
       "</g>\n",
       "<!-- 9&#45;&gt;15 -->\n",
       "<g id=\"edge19\" class=\"edge\">\n",
       "<title>9&#45;&gt;15</title>\n",
       "<path fill=\"none\" stroke=\"#0000ff\" d=\"M938.4655,-260.9735C902.5503,-247.2087 852.9258,-228.1896 814.8816,-213.6088\"/>\n",
       "<polygon fill=\"#0000ff\" stroke=\"#0000ff\" points=\"816.0646,-210.314 805.4743,-210.0034 813.5594,-216.8504 816.0646,-210.314\"/>\n",
       "<text text-anchor=\"middle\" x=\"921.5\" y=\"-231.8\" font-family=\"Times,serif\" font-size=\"14.00\" fill=\"#000000\">yes, missing</text>\n",
       "</g>\n",
       "<!-- 16 -->\n",
       "<g id=\"node21\" class=\"node\">\n",
       "<title>16</title>\n",
       "<path fill=\"#78cb0e\" stroke=\"#000000\" d=\"M1080.5,-210C1080.5,-210 890.5,-210 890.5,-210 884.5,-210 878.5,-204 878.5,-198 878.5,-198 878.5,-186 878.5,-186 878.5,-180 884.5,-174 890.5,-174 890.5,-174 1080.5,-174 1080.5,-174 1086.5,-174 1092.5,-180 1092.5,-186 1092.5,-186 1092.5,-198 1092.5,-198 1092.5,-204 1086.5,-210 1080.5,-210\"/>\n",
       "<text text-anchor=\"middle\" x=\"985.5\" y=\"-188.3\" font-family=\"Times,serif\" font-size=\"14.00\" fill=\"#000000\">blood_lactic_dehydrogenise&lt;123.5</text>\n",
       "</g>\n",
       "<!-- 9&#45;&gt;16 -->\n",
       "<g id=\"edge20\" class=\"edge\">\n",
       "<title>9&#45;&gt;16</title>\n",
       "<path fill=\"none\" stroke=\"#ff0000\" d=\"M985.5,-260.9735C985.5,-249.1918 985.5,-233.5607 985.5,-220.1581\"/>\n",
       "<polygon fill=\"#ff0000\" stroke=\"#ff0000\" points=\"989.0001,-220.0033 985.5,-210.0034 982.0001,-220.0034 989.0001,-220.0033\"/>\n",
       "<text text-anchor=\"middle\" x=\"993\" y=\"-231.8\" font-family=\"Times,serif\" font-size=\"14.00\" fill=\"#000000\">no</text>\n",
       "</g>\n",
       "<!-- 17 -->\n",
       "<g id=\"node32\" class=\"node\">\n",
       "<title>17</title>\n",
       "<polygon fill=\"#e48038\" stroke=\"#000000\" points=\"1242,-210 1111,-210 1111,-174 1242,-174 1242,-210\"/>\n",
       "<text text-anchor=\"middle\" x=\"1176.5\" y=\"-188.3\" font-family=\"Times,serif\" font-size=\"14.00\" fill=\"#000000\">leaf=&#45;0.0199999996</text>\n",
       "</g>\n",
       "<!-- 10&#45;&gt;17 -->\n",
       "<g id=\"edge31\" class=\"edge\">\n",
       "<title>10&#45;&gt;17</title>\n",
       "<path fill=\"none\" stroke=\"#0000ff\" d=\"M1152.716,-260.9735C1156.8189,-249.0751 1162.2756,-233.2508 1166.9274,-219.7606\"/>\n",
       "<polygon fill=\"#0000ff\" stroke=\"#0000ff\" points=\"1170.3408,-220.5981 1170.2919,-210.0034 1163.7232,-218.3161 1170.3408,-220.5981\"/>\n",
       "<text text-anchor=\"middle\" x=\"1198.5\" y=\"-231.8\" font-family=\"Times,serif\" font-size=\"14.00\" fill=\"#000000\">yes, missing</text>\n",
       "</g>\n",
       "<!-- 18 -->\n",
       "<g id=\"node33\" class=\"node\">\n",
       "<title>18</title>\n",
       "<path fill=\"#78cb0e\" stroke=\"#000000\" d=\"M1338,-210C1338,-210 1279,-210 1279,-210 1273,-210 1267,-204 1267,-198 1267,-198 1267,-186 1267,-186 1267,-180 1273,-174 1279,-174 1279,-174 1338,-174 1338,-174 1344,-174 1350,-180 1350,-186 1350,-186 1350,-198 1350,-198 1350,-204 1344,-210 1338,-210\"/>\n",
       "<text text-anchor=\"middle\" x=\"1308.5\" y=\"-188.3\" font-family=\"Times,serif\" font-size=\"14.00\" fill=\"#000000\">gender_1&lt;1</text>\n",
       "</g>\n",
       "<!-- 10&#45;&gt;18 -->\n",
       "<g id=\"edge32\" class=\"edge\">\n",
       "<title>10&#45;&gt;18</title>\n",
       "<path fill=\"none\" stroke=\"#ff0000\" d=\"M1198.525,-260.9683C1211.5416,-255.77 1225.2725,-249.6769 1237.5,-243 1251.5696,-235.3172 1266.1158,-225.2922 1278.3502,-216.1655\"/>\n",
       "<polygon fill=\"#ff0000\" stroke=\"#ff0000\" points=\"1280.576,-218.8701 1286.4166,-210.0305 1276.3383,-213.2984 1280.576,-218.8701\"/>\n",
       "<text text-anchor=\"middle\" x=\"1268\" y=\"-231.8\" font-family=\"Times,serif\" font-size=\"14.00\" fill=\"#000000\">no</text>\n",
       "</g>\n",
       "<!-- 21 -->\n",
       "<g id=\"node22\" class=\"node\">\n",
       "<title>21</title>\n",
       "<path fill=\"#78cb0e\" stroke=\"#000000\" d=\"M718.5,-123C718.5,-123 620.5,-123 620.5,-123 614.5,-123 608.5,-117 608.5,-111 608.5,-111 608.5,-99 608.5,-99 608.5,-93 614.5,-87 620.5,-87 620.5,-87 718.5,-87 718.5,-87 724.5,-87 730.5,-93 730.5,-99 730.5,-99 730.5,-111 730.5,-111 730.5,-117 724.5,-123 718.5,-123\"/>\n",
       "<text text-anchor=\"middle\" x=\"669.5\" y=\"-101.3\" font-family=\"Times,serif\" font-size=\"14.00\" fill=\"#000000\">white_blood&lt;6645</text>\n",
       "</g>\n",
       "<!-- 15&#45;&gt;21 -->\n",
       "<g id=\"edge21\" class=\"edge\">\n",
       "<title>15&#45;&gt;21</title>\n",
       "<path fill=\"none\" stroke=\"#0000ff\" d=\"M733.3698,-173.8401C726.3674,-168.3839 718.9242,-162.1942 712.5,-156 704.6214,-148.4035 696.7001,-139.4659 689.8411,-131.2123\"/>\n",
       "<polygon fill=\"#0000ff\" stroke=\"#0000ff\" points=\"692.4013,-128.8131 683.3772,-123.2619 686.9699,-133.229 692.4013,-128.8131\"/>\n",
       "<text text-anchor=\"middle\" x=\"747.5\" y=\"-144.8\" font-family=\"Times,serif\" font-size=\"14.00\" fill=\"#000000\">yes, missing</text>\n",
       "</g>\n",
       "<!-- 22 -->\n",
       "<g id=\"node23\" class=\"node\">\n",
       "<title>22</title>\n",
       "<path fill=\"#78cb0e\" stroke=\"#000000\" d=\"M879,-123C879,-123 762,-123 762,-123 756,-123 750,-117 750,-111 750,-111 750,-99 750,-99 750,-93 756,-87 762,-87 762,-87 879,-87 879,-87 885,-87 891,-93 891,-99 891,-99 891,-111 891,-111 891,-117 885,-123 879,-123\"/>\n",
       "<text text-anchor=\"middle\" x=\"820.5\" y=\"-101.3\" font-family=\"Times,serif\" font-size=\"14.00\" fill=\"#000000\">pleural_protein&lt;5.625</text>\n",
       "</g>\n",
       "<!-- 15&#45;&gt;22 -->\n",
       "<g id=\"edge22\" class=\"edge\">\n",
       "<title>15&#45;&gt;22</title>\n",
       "<path fill=\"none\" stroke=\"#ff0000\" d=\"M771.3464,-173.9735C780.1583,-161.6085 791.9917,-145.0036 801.8396,-131.1847\"/>\n",
       "<polygon fill=\"#ff0000\" stroke=\"#ff0000\" points=\"804.7167,-133.1783 807.67,-123.0034 799.0162,-129.1158 804.7167,-133.1783\"/>\n",
       "<text text-anchor=\"middle\" x=\"801\" y=\"-144.8\" font-family=\"Times,serif\" font-size=\"14.00\" fill=\"#000000\">no</text>\n",
       "</g>\n",
       "<!-- 23 -->\n",
       "<g id=\"node28\" class=\"node\">\n",
       "<title>23</title>\n",
       "<polygon fill=\"#e48038\" stroke=\"#000000\" points=\"1047.5,-123 909.5,-123 909.5,-87 1047.5,-87 1047.5,-123\"/>\n",
       "<text text-anchor=\"middle\" x=\"978.5\" y=\"-101.3\" font-family=\"Times,serif\" font-size=\"14.00\" fill=\"#000000\">leaf=&#45;0.00999999978</text>\n",
       "</g>\n",
       "<!-- 16&#45;&gt;23 -->\n",
       "<g id=\"edge27\" class=\"edge\">\n",
       "<title>16&#45;&gt;23</title>\n",
       "<path fill=\"none\" stroke=\"#0000ff\" d=\"M984.0496,-173.9735C983.1016,-162.1918 981.844,-146.5607 980.7656,-133.1581\"/>\n",
       "<polygon fill=\"#0000ff\" stroke=\"#0000ff\" points=\"984.2394,-132.6904 979.9485,-123.0034 977.2619,-133.2519 984.2394,-132.6904\"/>\n",
       "<text text-anchor=\"middle\" x=\"1017.5\" y=\"-144.8\" font-family=\"Times,serif\" font-size=\"14.00\" fill=\"#000000\">yes, missing</text>\n",
       "</g>\n",
       "<!-- 24 -->\n",
       "<g id=\"node29\" class=\"node\">\n",
       "<title>24</title>\n",
       "<path fill=\"#78cb0e\" stroke=\"#000000\" d=\"M1215.5,-123C1215.5,-123 1077.5,-123 1077.5,-123 1071.5,-123 1065.5,-117 1065.5,-111 1065.5,-111 1065.5,-99 1065.5,-99 1065.5,-93 1071.5,-87 1077.5,-87 1077.5,-87 1215.5,-87 1215.5,-87 1221.5,-87 1227.5,-93 1227.5,-99 1227.5,-99 1227.5,-111 1227.5,-111 1227.5,-117 1221.5,-123 1215.5,-123\"/>\n",
       "<text text-anchor=\"middle\" x=\"1146.5\" y=\"-101.3\" font-family=\"Times,serif\" font-size=\"14.00\" fill=\"#000000\">total_protein&lt;5.69999981</text>\n",
       "</g>\n",
       "<!-- 16&#45;&gt;24 -->\n",
       "<g id=\"edge28\" class=\"edge\">\n",
       "<title>16&#45;&gt;24</title>\n",
       "<path fill=\"none\" stroke=\"#ff0000\" d=\"M1022.1523,-173.8224C1033.2427,-168.2131 1045.4176,-161.9455 1056.5,-156 1073.0366,-147.1284 1091.0681,-137.0022 1106.619,-128.1237\"/>\n",
       "<polygon fill=\"#ff0000\" stroke=\"#ff0000\" points=\"1108.5216,-131.0674 1115.4585,-123.0592 1105.0417,-124.9937 1108.5216,-131.0674\"/>\n",
       "<text text-anchor=\"middle\" x=\"1089\" y=\"-144.8\" font-family=\"Times,serif\" font-size=\"14.00\" fill=\"#000000\">no</text>\n",
       "</g>\n",
       "<!-- 31 -->\n",
       "<g id=\"node24\" class=\"node\">\n",
       "<title>31</title>\n",
       "<polygon fill=\"#e48038\" stroke=\"#000000\" points=\"585.5,-36 447.5,-36 447.5,0 585.5,0 585.5,-36\"/>\n",
       "<text text-anchor=\"middle\" x=\"516.5\" y=\"-14.3\" font-family=\"Times,serif\" font-size=\"14.00\" fill=\"#000000\">leaf=&#45;0.00666666683</text>\n",
       "</g>\n",
       "<!-- 21&#45;&gt;31 -->\n",
       "<g id=\"edge23\" class=\"edge\">\n",
       "<title>21&#45;&gt;31</title>\n",
       "<path fill=\"none\" stroke=\"#0000ff\" d=\"M630.2565,-86.9953C618.8979,-81.4934 606.5784,-75.2408 595.5,-69 580.6821,-60.6527 564.8413,-50.6532 551.2642,-41.7286\"/>\n",
       "<polygon fill=\"#0000ff\" stroke=\"#0000ff\" points=\"552.9702,-38.6601 542.7025,-36.0473 549.0997,-44.4928 552.9702,-38.6601\"/>\n",
       "<text text-anchor=\"middle\" x=\"630.5\" y=\"-57.8\" font-family=\"Times,serif\" font-size=\"14.00\" fill=\"#000000\">yes, missing</text>\n",
       "</g>\n",
       "<!-- 32 -->\n",
       "<g id=\"node25\" class=\"node\">\n",
       "<title>32</title>\n",
       "<polygon fill=\"#e48038\" stroke=\"#000000\" points=\"735,-36 604,-36 604,0 735,0 735,-36\"/>\n",
       "<text text-anchor=\"middle\" x=\"669.5\" y=\"-14.3\" font-family=\"Times,serif\" font-size=\"14.00\" fill=\"#000000\">leaf=&#45;0.0199999996</text>\n",
       "</g>\n",
       "<!-- 21&#45;&gt;32 -->\n",
       "<g id=\"edge24\" class=\"edge\">\n",
       "<title>21&#45;&gt;32</title>\n",
       "<path fill=\"none\" stroke=\"#ff0000\" d=\"M669.5,-86.9735C669.5,-75.1918 669.5,-59.5607 669.5,-46.1581\"/>\n",
       "<polygon fill=\"#ff0000\" stroke=\"#ff0000\" points=\"673.0001,-46.0033 669.5,-36.0034 666.0001,-46.0034 673.0001,-46.0033\"/>\n",
       "<text text-anchor=\"middle\" x=\"677\" y=\"-57.8\" font-family=\"Times,serif\" font-size=\"14.00\" fill=\"#000000\">no</text>\n",
       "</g>\n",
       "<!-- 33 -->\n",
       "<g id=\"node26\" class=\"node\">\n",
       "<title>33</title>\n",
       "<polygon fill=\"#e48038\" stroke=\"#000000\" points=\"891.5,-36 753.5,-36 753.5,0 891.5,0 891.5,-36\"/>\n",
       "<text text-anchor=\"middle\" x=\"822.5\" y=\"-14.3\" font-family=\"Times,serif\" font-size=\"14.00\" fill=\"#000000\">leaf=&#45;0.00947368424</text>\n",
       "</g>\n",
       "<!-- 22&#45;&gt;33 -->\n",
       "<g id=\"edge25\" class=\"edge\">\n",
       "<title>22&#45;&gt;33</title>\n",
       "<path fill=\"none\" stroke=\"#0000ff\" d=\"M820.9144,-86.9735C821.1852,-75.1918 821.5446,-59.5607 821.8527,-46.1581\"/>\n",
       "<polygon fill=\"#0000ff\" stroke=\"#0000ff\" points=\"825.3553,-46.0812 822.0861,-36.0034 818.3571,-45.9202 825.3553,-46.0812\"/>\n",
       "<text text-anchor=\"middle\" x=\"857.5\" y=\"-57.8\" font-family=\"Times,serif\" font-size=\"14.00\" fill=\"#000000\">yes, missing</text>\n",
       "</g>\n",
       "<!-- 34 -->\n",
       "<g id=\"node27\" class=\"node\">\n",
       "<title>34</title>\n",
       "<polygon fill=\"#e48038\" stroke=\"#000000\" points=\"1043,-36 910,-36 910,0 1043,0 1043,-36\"/>\n",
       "<text text-anchor=\"middle\" x=\"976.5\" y=\"-14.3\" font-family=\"Times,serif\" font-size=\"14.00\" fill=\"#000000\">leaf=0.00400000019</text>\n",
       "</g>\n",
       "<!-- 22&#45;&gt;34 -->\n",
       "<g id=\"edge26\" class=\"edge\">\n",
       "<title>22&#45;&gt;34</title>\n",
       "<path fill=\"none\" stroke=\"#ff0000\" d=\"M861.205,-86.8674C872.7612,-81.4116 885.2556,-75.2154 896.5,-69 911.518,-60.6987 927.5615,-50.7078 941.3089,-41.7772\"/>\n",
       "<polygon fill=\"#ff0000\" stroke=\"#ff0000\" points=\"943.5361,-44.502 949.9774,-36.09 939.6962,-38.6492 943.5361,-44.502\"/>\n",
       "<text text-anchor=\"middle\" x=\"929\" y=\"-57.8\" font-family=\"Times,serif\" font-size=\"14.00\" fill=\"#000000\">no</text>\n",
       "</g>\n",
       "<!-- 35 -->\n",
       "<g id=\"node30\" class=\"node\">\n",
       "<title>35</title>\n",
       "<polygon fill=\"#e48038\" stroke=\"#000000\" points=\"1207.5,-36 1069.5,-36 1069.5,0 1207.5,0 1207.5,-36\"/>\n",
       "<text text-anchor=\"middle\" x=\"1138.5\" y=\"-14.3\" font-family=\"Times,serif\" font-size=\"14.00\" fill=\"#000000\">leaf=&#45;0.00999999978</text>\n",
       "</g>\n",
       "<!-- 24&#45;&gt;35 -->\n",
       "<g id=\"edge29\" class=\"edge\">\n",
       "<title>24&#45;&gt;35</title>\n",
       "<path fill=\"none\" stroke=\"#0000ff\" d=\"M1144.8424,-86.9735C1143.759,-75.1918 1142.3217,-59.5607 1141.0892,-46.1581\"/>\n",
       "<polygon fill=\"#0000ff\" stroke=\"#0000ff\" points=\"1144.5565,-45.6408 1140.1555,-36.0034 1137.586,-46.2819 1144.5565,-45.6408\"/>\n",
       "<text text-anchor=\"middle\" x=\"1178.5\" y=\"-57.8\" font-family=\"Times,serif\" font-size=\"14.00\" fill=\"#000000\">yes, missing</text>\n",
       "</g>\n",
       "<!-- 36 -->\n",
       "<g id=\"node31\" class=\"node\">\n",
       "<title>36</title>\n",
       "<polygon fill=\"#e48038\" stroke=\"#000000\" points=\"1357,-36 1226,-36 1226,0 1357,0 1357,-36\"/>\n",
       "<text text-anchor=\"middle\" x=\"1291.5\" y=\"-14.3\" font-family=\"Times,serif\" font-size=\"14.00\" fill=\"#000000\">leaf=&#45;0.0199999996</text>\n",
       "</g>\n",
       "<!-- 24&#45;&gt;36 -->\n",
       "<g id=\"edge30\" class=\"edge\">\n",
       "<title>24&#45;&gt;36</title>\n",
       "<path fill=\"none\" stroke=\"#ff0000\" d=\"M1184.5923,-86.8666C1195.3893,-81.4108 1207.0459,-75.2148 1217.5,-69 1231.3394,-60.7728 1246.0449,-50.892 1258.6698,-42.0273\"/>\n",
       "<polygon fill=\"#ff0000\" stroke=\"#ff0000\" points=\"1260.9126,-44.7275 1267.0416,-36.0854 1256.861,-39.0192 1260.9126,-44.7275\"/>\n",
       "<text text-anchor=\"middle\" x=\"1248\" y=\"-57.8\" font-family=\"Times,serif\" font-size=\"14.00\" fill=\"#000000\">no</text>\n",
       "</g>\n",
       "<!-- 25 -->\n",
       "<g id=\"node34\" class=\"node\">\n",
       "<title>25</title>\n",
       "<polygon fill=\"#e48038\" stroke=\"#000000\" points=\"1371.5,-123 1245.5,-123 1245.5,-87 1371.5,-87 1371.5,-123\"/>\n",
       "<text text-anchor=\"middle\" x=\"1308.5\" y=\"-101.3\" font-family=\"Times,serif\" font-size=\"14.00\" fill=\"#000000\">leaf=0.0199999996</text>\n",
       "</g>\n",
       "<!-- 18&#45;&gt;25 -->\n",
       "<g id=\"edge33\" class=\"edge\">\n",
       "<title>18&#45;&gt;25</title>\n",
       "<path fill=\"none\" stroke=\"#0000ff\" d=\"M1308.5,-173.9735C1308.5,-162.1918 1308.5,-146.5607 1308.5,-133.1581\"/>\n",
       "<polygon fill=\"#0000ff\" stroke=\"#0000ff\" points=\"1312.0001,-133.0033 1308.5,-123.0034 1305.0001,-133.0034 1312.0001,-133.0033\"/>\n",
       "<text text-anchor=\"middle\" x=\"1343.5\" y=\"-144.8\" font-family=\"Times,serif\" font-size=\"14.00\" fill=\"#000000\">yes, missing</text>\n",
       "</g>\n",
       "<!-- 26 -->\n",
       "<g id=\"node35\" class=\"node\">\n",
       "<title>26</title>\n",
       "<path fill=\"#78cb0e\" stroke=\"#000000\" d=\"M1503,-123C1503,-123 1402,-123 1402,-123 1396,-123 1390,-117 1390,-111 1390,-111 1390,-99 1390,-99 1390,-93 1396,-87 1402,-87 1402,-87 1503,-87 1503,-87 1509,-87 1515,-93 1515,-99 1515,-99 1515,-111 1515,-111 1515,-117 1509,-123 1503,-123\"/>\n",
       "<text text-anchor=\"middle\" x=\"1452.5\" y=\"-101.3\" font-family=\"Times,serif\" font-size=\"14.00\" fill=\"#000000\">platelet_count&lt;325</text>\n",
       "</g>\n",
       "<!-- 18&#45;&gt;26 -->\n",
       "<g id=\"edge34\" class=\"edge\">\n",
       "<title>18&#45;&gt;26</title>\n",
       "<path fill=\"none\" stroke=\"#ff0000\" d=\"M1349.1259,-173.8325C1360.1627,-168.4695 1371.9693,-162.3298 1382.5,-156 1395.7739,-148.0214 1409.6981,-138.2071 1421.6005,-129.326\"/>\n",
       "<polygon fill=\"#ff0000\" stroke=\"#ff0000\" points=\"1424.0118,-131.8903 1429.8718,-123.0636 1419.7864,-126.3095 1424.0118,-131.8903\"/>\n",
       "<text text-anchor=\"middle\" x=\"1411\" y=\"-144.8\" font-family=\"Times,serif\" font-size=\"14.00\" fill=\"#000000\">no</text>\n",
       "</g>\n",
       "<!-- 37 -->\n",
       "<g id=\"node36\" class=\"node\">\n",
       "<title>37</title>\n",
       "<polygon fill=\"#e48038\" stroke=\"#000000\" points=\"1517.5,-36 1379.5,-36 1379.5,0 1517.5,0 1517.5,-36\"/>\n",
       "<text text-anchor=\"middle\" x=\"1448.5\" y=\"-14.3\" font-family=\"Times,serif\" font-size=\"14.00\" fill=\"#000000\">leaf=&#45;0.00999999978</text>\n",
       "</g>\n",
       "<!-- 26&#45;&gt;37 -->\n",
       "<g id=\"edge35\" class=\"edge\">\n",
       "<title>26&#45;&gt;37</title>\n",
       "<path fill=\"none\" stroke=\"#0000ff\" d=\"M1451.6712,-86.9735C1451.1295,-75.1918 1450.4108,-59.5607 1449.7946,-46.1581\"/>\n",
       "<polygon fill=\"#0000ff\" stroke=\"#0000ff\" points=\"1453.2834,-45.832 1449.3277,-36.0034 1446.2908,-46.1536 1453.2834,-45.832\"/>\n",
       "<text text-anchor=\"middle\" x=\"1485.5\" y=\"-57.8\" font-family=\"Times,serif\" font-size=\"14.00\" fill=\"#000000\">yes, missing</text>\n",
       "</g>\n",
       "<!-- 38 -->\n",
       "<g id=\"node37\" class=\"node\">\n",
       "<title>38</title>\n",
       "<polygon fill=\"#e48038\" stroke=\"#000000\" points=\"1669,-36 1536,-36 1536,0 1669,0 1669,-36\"/>\n",
       "<text text-anchor=\"middle\" x=\"1602.5\" y=\"-14.3\" font-family=\"Times,serif\" font-size=\"14.00\" fill=\"#000000\">leaf=0.00999999978</text>\n",
       "</g>\n",
       "<!-- 26&#45;&gt;38 -->\n",
       "<g id=\"edge36\" class=\"edge\">\n",
       "<title>26&#45;&gt;38</title>\n",
       "<path fill=\"none\" stroke=\"#ff0000\" d=\"M1490.6744,-86.9368C1501.7259,-81.4336 1513.7144,-75.1949 1524.5,-69 1539.1162,-60.6049 1554.7538,-50.5965 1568.1609,-41.6781\"/>\n",
       "<polygon fill=\"#ff0000\" stroke=\"#ff0000\" points=\"1570.2636,-44.4821 1576.616,-36.0029 1566.3624,-38.67 1570.2636,-44.4821\"/>\n",
       "<text text-anchor=\"middle\" x=\"1556\" y=\"-57.8\" font-family=\"Times,serif\" font-size=\"14.00\" fill=\"#000000\">no</text>\n",
       "</g>\n",
       "</g>\n",
       "</svg>\n"
      ],
      "text/plain": [
       "<graphviz.dot.Digraph at 0x7fe2505cb450>"
      ]
     },
     "execution_count": 294,
     "metadata": {},
     "output_type": "execute_result"
    }
   ],
   "source": [
    "to_graphviz(clf_xgb, num_trees=0, size=\"10,10\", \n",
    "                condition_node_params=node_params,\n",
    "                leaf_node_params=leaf_params) "
   ]
  },
  {
   "cell_type": "markdown",
   "metadata": {},
   "source": [
    "#### Hyperparameters tuning for RF algorithm (not conclusive)"
   ]
  },
  {
   "cell_type": "code",
   "execution_count": 369,
   "metadata": {},
   "outputs": [
    {
     "data": {
      "text/plain": [
       "dict_keys(['bootstrap', 'ccp_alpha', 'class_weight', 'criterion', 'max_depth', 'max_features', 'max_leaf_nodes', 'max_samples', 'min_impurity_decrease', 'min_samples_leaf', 'min_samples_split', 'min_weight_fraction_leaf', 'n_estimators', 'n_jobs', 'oob_score', 'random_state', 'verbose', 'warm_start'])"
      ]
     },
     "execution_count": 369,
     "metadata": {},
     "output_type": "execute_result"
    }
   ],
   "source": [
    "RandomForestClassifier().get_params().keys()"
   ]
  },
  {
   "cell_type": "code",
   "execution_count": 300,
   "metadata": {},
   "outputs": [
    {
     "name": "stdout",
     "output_type": "stream",
     "text": [
      "{'bootstrap': [True, False],\n",
      " 'max_features': ['auto', 'sqrt'],\n",
      " 'min_samples_leaf': [1, 2, 4],\n",
      " 'min_samples_split': [2, 5, 10],\n",
      " 'n_estimators': range(50, 300, 50)}\n",
      "{'bootstrap': True, 'max_features': 'auto', 'min_samples_leaf': 2, 'min_samples_split': 5, 'n_estimators': 150}\n"
     ]
    }
   ],
   "source": [
    "param_grid = {\n",
    "    'n_estimators': range(50, 300, 50),\n",
    "    'max_features': ['auto', 'sqrt'],\n",
    "    'min_samples_split': [2, 5, 10],\n",
    "    'min_samples_leaf': [1, 2, 4],\n",
    "    'bootstrap': [True, False]\n",
    "}\n",
    "pprint(param_grid)\n",
    "\n",
    "optimal_params = GridSearchCV(\n",
    "    estimator=RandomForestClassifier(n_jobs=10, random_state=42),\n",
    "    param_grid=param_grid,\n",
    "#     scoring = 'roc_auc',## For more scoring metics see: \n",
    "        ## https://scikit-learn.org/stable/modules/model_evaluation.html#scoring-parameter\n",
    "    verbose=0, # NOTE: If you want to see what Grid Search is doing, set verbose=2\n",
    "    n_jobs=10,\n",
    "    cv=3\n",
    ")\n",
    "\n",
    "optimal_params.fit(X_train, y_train)\n",
    "print(optimal_params.best_params_)"
   ]
  },
  {
   "cell_type": "code",
   "execution_count": 301,
   "metadata": {},
   "outputs": [
    {
     "data": {
      "text/plain": [
       "RandomForestClassifier(min_samples_leaf=2, min_samples_split=5,\n",
       "                       n_estimators=150, n_jobs=10, random_state=42)"
      ]
     },
     "execution_count": 301,
     "metadata": {},
     "output_type": "execute_result"
    }
   ],
   "source": [
    "rf_opt = RandomForestClassifier(bootstrap=True,\n",
    "                                n_jobs=10,\n",
    "                                n_estimators=150, \n",
    "                                min_samples_leaf=2,\n",
    "                                min_samples_split=5,\n",
    "                                max_features='auto',\n",
    "                                random_state=42)\n",
    "rf_opt.fit(X_train, y_train)"
   ]
  },
  {
   "cell_type": "code",
   "execution_count": 302,
   "metadata": {},
   "outputs": [
    {
     "name": "stdout",
     "output_type": "stream",
     "text": [
      "0.7538461538461538\n"
     ]
    }
   ],
   "source": [
    "# calcul du score\n",
    "score = rf_opt.score(X_test, y_test)\n",
    "print(score)"
   ]
  },
  {
   "cell_type": "code",
   "execution_count": 303,
   "metadata": {},
   "outputs": [
    {
     "name": "stdout",
     "output_type": "stream",
     "text": [
      "              precision    recall  f1-score   support\n",
      "\n",
      "           0       0.75      1.00      0.85        47\n",
      "           1       1.00      0.11      0.20        18\n",
      "\n",
      "    accuracy                           0.75        65\n",
      "   macro avg       0.87      0.56      0.53        65\n",
      "weighted avg       0.82      0.75      0.67        65\n",
      "\n"
     ]
    }
   ],
   "source": [
    "# predictions\n",
    "pred = rf_opt.predict(X_test)\n",
    "print(metrics.classification_report(y_test, pred))"
   ]
  },
  {
   "cell_type": "code",
   "execution_count": 304,
   "metadata": {},
   "outputs": [
    {
     "data": {
      "image/png": "[encoded data removed]",
      "text/plain": [
       "<Figure size 720x720 with 2 Axes>"
      ]
     },
     "metadata": {},
     "output_type": "display_data"
    }
   ],
   "source": [
    "# matrice de confusion\n",
    "cm = metrics.confusion_matrix(y_test, pred)\n",
    "\n",
    "ax = plt.subplot()\n",
    "sns.heatmap(cm,annot=True,fmt=\"d\") \n",
    "ax.set_xlabel('Prediction');ax.set_ylabel('Labels reels'); \n",
    "ax.set_title('Matrice de confusion'); \n",
    "plt.show()"
   ]
  }
 ],
 "metadata": {
  "kernelspec": {
   "display_name": "Python 3",
   "language": "python",
   "name": "python3"
  },
  "language_info": {
   "codemirror_mode": {
    "name": "ipython",
    "version": 3
   },
   "file_extension": ".py",
   "mimetype": "text/x-python",
   "name": "python",
   "nbconvert_exporter": "python",
   "pygments_lexer": "ipython3",
   "version": "3.7.4"
  }
 },
 "nbformat": 4,
 "nbformat_minor": 2
}
