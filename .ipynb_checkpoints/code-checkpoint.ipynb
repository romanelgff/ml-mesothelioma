{
 "cells": [
  {
   "cell_type": "markdown",
   "metadata": {},
   "source": [
    "# Machine learning techniques for diagnosis of malignant pleural mesothelioma\n",
    "\n",
    "MPM is a highly aggressive tumor of the serous membranes, which in humans results from exposure to **asbestos** and **asbestiform fibers**. It is a fatal cancer and a malignancy that is resistant to the common tumor directed therapies.\n",
    "\n",
    "Overall: \n",
    "* around half of people diagnosed with mesothelioma will live at least a year after the diagnosis\n",
    "* around 10% of people with mesothelioma will live at least 5 years after diagnosis\n",
    "\n",
    "The symptoms of mesothelioma develop usually gradually over time and don't appear until several decades (typically 20 years) after exposure to asbestos ! For mesothelioma in the lining of the lungs, they include :\n",
    "* chest pain\n",
    "* shortness of breath\n",
    "* fatigue\n",
    "* fever and sweating\n",
    "* couch\n",
    "* loss of appetite and unexplained weight loss\n",
    "* swollen fingertips\n",
    "\n",
    "As for mesothelioma in the lining of the tummy, they include :\n",
    "* swelling or tummy pain\n",
    "* feeling sick\n",
    "* loss of appetite and unexplained weight loss\n",
    "* diarrhoea or consitupation\n",
    "\n",
    "Diagnostics of mesothelioma:\n",
    "* X-ray of chest or tummy\n",
    "* CT scan\n",
    "* fluid drainage\n",
    "* thoracoscopy or laparoscopy"
   ]
  },
  {
   "cell_type": "markdown",
   "metadata": {},
   "source": [
    "## Findings in the studied paper \n",
    "\n",
    "The paper compares the results of the multilayer neural network (MLNN) structure and Artificial Immune Systems (AIS) on MPM diagnosis. The dataset used comes from a faculty of medecine's database using patient's hospital reports. This dataset includes 324 patients suffering from variety of MPM disease. Each of them have 34 features and diagnostic tests of each patient were recorded by an attending physician."
   ]
  },
  {
   "cell_type": "markdown",
   "metadata": {},
   "source": [
    "## Data importation"
   ]
  },
  {
   "cell_type": "code",
   "execution_count": 160,
   "metadata": {},
   "outputs": [
    {
     "data": {
      "text/plain": [
       "'/Users/romanelgff/Documents/Master/M2/S1/R1/ML/ml-mesothelioma'"
      ]
     },
     "execution_count": 160,
     "metadata": {},
     "output_type": "execute_result"
    }
   ],
   "source": [
    "import os\n",
    "import pandas as pd\n",
    "import matplotlib.pyplot as plt\n",
    "\n",
    "# configuration bibliotheque pour les graphiques\n",
    "%matplotlib inline \n",
    "\n",
    "os.getcwd()"
   ]
  },
  {
   "cell_type": "code",
   "execution_count": 161,
   "metadata": {},
   "outputs": [
    {
     "data": {
      "text/html": [
       "<div>\n",
       "<style scoped>\n",
       "    .dataframe tbody tr th:only-of-type {\n",
       "        vertical-align: middle;\n",
       "    }\n",
       "\n",
       "    .dataframe tbody tr th {\n",
       "        vertical-align: top;\n",
       "    }\n",
       "\n",
       "    .dataframe thead th {\n",
       "        text-align: right;\n",
       "    }\n",
       "</style>\n",
       "<table border=\"1\" class=\"dataframe\">\n",
       "  <thead>\n",
       "    <tr style=\"text-align: right;\">\n",
       "      <th></th>\n",
       "      <th>age</th>\n",
       "      <th>gender</th>\n",
       "      <th>city</th>\n",
       "      <th>asbestos exposure</th>\n",
       "      <th>type of MM</th>\n",
       "      <th>duration of asbestos exposure</th>\n",
       "      <th>keep side</th>\n",
       "      <th>cytology</th>\n",
       "      <th>duration of symptoms</th>\n",
       "      <th>dyspnoea</th>\n",
       "      <th>...</th>\n",
       "      <th>pleural lactic dehydrogenise</th>\n",
       "      <th>pleural protein</th>\n",
       "      <th>pleural albumin</th>\n",
       "      <th>pleural glucose</th>\n",
       "      <th>dead or not</th>\n",
       "      <th>pleural effusion</th>\n",
       "      <th>pleural thickness on tomography</th>\n",
       "      <th>pleural level of acidity (pH)</th>\n",
       "      <th>C-reactive protein (CRP)</th>\n",
       "      <th>class of diagnosis</th>\n",
       "    </tr>\n",
       "  </thead>\n",
       "  <tbody>\n",
       "    <tr>\n",
       "      <th>0</th>\n",
       "      <td>47.0</td>\n",
       "      <td>1</td>\n",
       "      <td>0</td>\n",
       "      <td>1</td>\n",
       "      <td>0.0</td>\n",
       "      <td>20.0</td>\n",
       "      <td>0</td>\n",
       "      <td>1</td>\n",
       "      <td>24.0</td>\n",
       "      <td>1</td>\n",
       "      <td>...</td>\n",
       "      <td>289.0</td>\n",
       "      <td>0.0</td>\n",
       "      <td>0.00</td>\n",
       "      <td>79.0</td>\n",
       "      <td>1</td>\n",
       "      <td>0.0</td>\n",
       "      <td>0.0</td>\n",
       "      <td>0.0</td>\n",
       "      <td>34</td>\n",
       "      <td>1</td>\n",
       "    </tr>\n",
       "    <tr>\n",
       "      <th>1</th>\n",
       "      <td>55.0</td>\n",
       "      <td>1</td>\n",
       "      <td>0</td>\n",
       "      <td>1</td>\n",
       "      <td>0.0</td>\n",
       "      <td>45.0</td>\n",
       "      <td>0</td>\n",
       "      <td>0</td>\n",
       "      <td>1.0</td>\n",
       "      <td>1</td>\n",
       "      <td>...</td>\n",
       "      <td>7541.0</td>\n",
       "      <td>1.6</td>\n",
       "      <td>0.80</td>\n",
       "      <td>6.0</td>\n",
       "      <td>1</td>\n",
       "      <td>1.0</td>\n",
       "      <td>1.0</td>\n",
       "      <td>1.0</td>\n",
       "      <td>42</td>\n",
       "      <td>1</td>\n",
       "    </tr>\n",
       "    <tr>\n",
       "      <th>2</th>\n",
       "      <td>29.0</td>\n",
       "      <td>1</td>\n",
       "      <td>1</td>\n",
       "      <td>1</td>\n",
       "      <td>0.0</td>\n",
       "      <td>23.0</td>\n",
       "      <td>1</td>\n",
       "      <td>0</td>\n",
       "      <td>1.0</td>\n",
       "      <td>0</td>\n",
       "      <td>...</td>\n",
       "      <td>480.0</td>\n",
       "      <td>0.0</td>\n",
       "      <td>0.00</td>\n",
       "      <td>90.0</td>\n",
       "      <td>1</td>\n",
       "      <td>0.0</td>\n",
       "      <td>0.0</td>\n",
       "      <td>0.0</td>\n",
       "      <td>43</td>\n",
       "      <td>2</td>\n",
       "    </tr>\n",
       "    <tr>\n",
       "      <th>3</th>\n",
       "      <td>39.0</td>\n",
       "      <td>1</td>\n",
       "      <td>0</td>\n",
       "      <td>1</td>\n",
       "      <td>0.0</td>\n",
       "      <td>10.0</td>\n",
       "      <td>0</td>\n",
       "      <td>0</td>\n",
       "      <td>3.0</td>\n",
       "      <td>0</td>\n",
       "      <td>...</td>\n",
       "      <td>459.0</td>\n",
       "      <td>5.0</td>\n",
       "      <td>2.80</td>\n",
       "      <td>45.0</td>\n",
       "      <td>1</td>\n",
       "      <td>1.0</td>\n",
       "      <td>0.0</td>\n",
       "      <td>0.0</td>\n",
       "      <td>21</td>\n",
       "      <td>1</td>\n",
       "    </tr>\n",
       "    <tr>\n",
       "      <th>4</th>\n",
       "      <td>47.0</td>\n",
       "      <td>1</td>\n",
       "      <td>0</td>\n",
       "      <td>1</td>\n",
       "      <td>0.0</td>\n",
       "      <td>10.0</td>\n",
       "      <td>1</td>\n",
       "      <td>1</td>\n",
       "      <td>1.5</td>\n",
       "      <td>1</td>\n",
       "      <td>...</td>\n",
       "      <td>213.0</td>\n",
       "      <td>3.6</td>\n",
       "      <td>1.95</td>\n",
       "      <td>53.0</td>\n",
       "      <td>1</td>\n",
       "      <td>1.0</td>\n",
       "      <td>0.0</td>\n",
       "      <td>0.0</td>\n",
       "      <td>11</td>\n",
       "      <td>1</td>\n",
       "    </tr>\n",
       "  </tbody>\n",
       "</table>\n",
       "<p>5 rows × 34 columns</p>\n",
       "</div>"
      ],
      "text/plain": [
       "    age  gender  city  asbestos exposure  type of MM  \\\n",
       "0  47.0       1     0                  1         0.0   \n",
       "1  55.0       1     0                  1         0.0   \n",
       "2  29.0       1     1                  1         0.0   \n",
       "3  39.0       1     0                  1         0.0   \n",
       "4  47.0       1     0                  1         0.0   \n",
       "\n",
       "   duration of asbestos exposure  keep side  cytology  duration of symptoms  \\\n",
       "0                           20.0          0         1                  24.0   \n",
       "1                           45.0          0         0                   1.0   \n",
       "2                           23.0          1         0                   1.0   \n",
       "3                           10.0          0         0                   3.0   \n",
       "4                           10.0          1         1                   1.5   \n",
       "\n",
       "   dyspnoea  ...  pleural lactic dehydrogenise  pleural protein  \\\n",
       "0         1  ...                         289.0              0.0   \n",
       "1         1  ...                        7541.0              1.6   \n",
       "2         0  ...                         480.0              0.0   \n",
       "3         0  ...                         459.0              5.0   \n",
       "4         1  ...                         213.0              3.6   \n",
       "\n",
       "   pleural albumin  pleural glucose  dead or not  pleural effusion  \\\n",
       "0             0.00             79.0            1               0.0   \n",
       "1             0.80              6.0            1               1.0   \n",
       "2             0.00             90.0            1               0.0   \n",
       "3             2.80             45.0            1               1.0   \n",
       "4             1.95             53.0            1               1.0   \n",
       "\n",
       "   pleural thickness on tomography  pleural level of acidity (pH)  \\\n",
       "0                              0.0                            0.0   \n",
       "1                              1.0                            1.0   \n",
       "2                              0.0                            0.0   \n",
       "3                              0.0                            0.0   \n",
       "4                              0.0                            0.0   \n",
       "\n",
       "   C-reactive protein (CRP)  class of diagnosis  \n",
       "0                        34                   1  \n",
       "1                        42                   1  \n",
       "2                        43                   2  \n",
       "3                        21                   1  \n",
       "4                        11                   1  \n",
       "\n",
       "[5 rows x 34 columns]"
      ]
     },
     "execution_count": 161,
     "metadata": {},
     "output_type": "execute_result"
    }
   ],
   "source": [
    "df = pd.read_excel(\"mesothelioma_dataset.xlsx\")\n",
    "df = df.drop(columns = [\"diagnosis method\"]) # variable correlee avec la variable explicative donc a enlever (d'apres Valérie)\n",
    "df.head()"
   ]
  },
  {
   "cell_type": "code",
   "execution_count": 162,
   "metadata": {},
   "outputs": [
    {
     "data": {
      "text/plain": [
       "(324, 34)"
      ]
     },
     "execution_count": 162,
     "metadata": {},
     "output_type": "execute_result"
    }
   ],
   "source": [
    "# dimensions\n",
    "df.shape "
   ]
  },
  {
   "cell_type": "code",
   "execution_count": 163,
   "metadata": {},
   "outputs": [
    {
     "data": {
      "text/plain": [
       "11016"
      ]
     },
     "execution_count": 163,
     "metadata": {},
     "output_type": "execute_result"
    }
   ],
   "source": [
    "# nombre total d'éléments\n",
    "df.size"
   ]
  },
  {
   "cell_type": "code",
   "execution_count": 164,
   "metadata": {},
   "outputs": [
    {
     "data": {
      "text/html": [
       "<div>\n",
       "<style scoped>\n",
       "    .dataframe tbody tr th:only-of-type {\n",
       "        vertical-align: middle;\n",
       "    }\n",
       "\n",
       "    .dataframe tbody tr th {\n",
       "        vertical-align: top;\n",
       "    }\n",
       "\n",
       "    .dataframe thead th {\n",
       "        text-align: right;\n",
       "    }\n",
       "</style>\n",
       "<table border=\"1\" class=\"dataframe\">\n",
       "  <thead>\n",
       "    <tr style=\"text-align: right;\">\n",
       "      <th></th>\n",
       "      <th>age</th>\n",
       "      <th>gender</th>\n",
       "      <th>city</th>\n",
       "      <th>asbestos_exposure</th>\n",
       "      <th>type_of_MM</th>\n",
       "      <th>duration_of_asbestos_exposure</th>\n",
       "      <th>keep_side</th>\n",
       "      <th>cytology</th>\n",
       "      <th>duration_of_symptoms</th>\n",
       "      <th>dyspnoea</th>\n",
       "      <th>...</th>\n",
       "      <th>pleural_lactic_dehydrogenise</th>\n",
       "      <th>pleural_protein</th>\n",
       "      <th>pleural_albumin</th>\n",
       "      <th>pleural_glucose</th>\n",
       "      <th>dead_or_not</th>\n",
       "      <th>pleural_effusion</th>\n",
       "      <th>pleural_thickness_on_tomography</th>\n",
       "      <th>pleural_level_of_acidity_(pH)</th>\n",
       "      <th>C-reactive_protein_(CRP)</th>\n",
       "      <th>class_of_diagnosis</th>\n",
       "    </tr>\n",
       "  </thead>\n",
       "  <tbody>\n",
       "    <tr>\n",
       "      <th>0</th>\n",
       "      <td>47.0</td>\n",
       "      <td>1</td>\n",
       "      <td>0</td>\n",
       "      <td>1</td>\n",
       "      <td>0.0</td>\n",
       "      <td>20.0</td>\n",
       "      <td>0</td>\n",
       "      <td>1</td>\n",
       "      <td>24.0</td>\n",
       "      <td>1</td>\n",
       "      <td>...</td>\n",
       "      <td>289.0</td>\n",
       "      <td>0.0</td>\n",
       "      <td>0.00</td>\n",
       "      <td>79.0</td>\n",
       "      <td>1</td>\n",
       "      <td>0.0</td>\n",
       "      <td>0.0</td>\n",
       "      <td>0.0</td>\n",
       "      <td>34</td>\n",
       "      <td>1</td>\n",
       "    </tr>\n",
       "    <tr>\n",
       "      <th>1</th>\n",
       "      <td>55.0</td>\n",
       "      <td>1</td>\n",
       "      <td>0</td>\n",
       "      <td>1</td>\n",
       "      <td>0.0</td>\n",
       "      <td>45.0</td>\n",
       "      <td>0</td>\n",
       "      <td>0</td>\n",
       "      <td>1.0</td>\n",
       "      <td>1</td>\n",
       "      <td>...</td>\n",
       "      <td>7541.0</td>\n",
       "      <td>1.6</td>\n",
       "      <td>0.80</td>\n",
       "      <td>6.0</td>\n",
       "      <td>1</td>\n",
       "      <td>1.0</td>\n",
       "      <td>1.0</td>\n",
       "      <td>1.0</td>\n",
       "      <td>42</td>\n",
       "      <td>1</td>\n",
       "    </tr>\n",
       "    <tr>\n",
       "      <th>2</th>\n",
       "      <td>29.0</td>\n",
       "      <td>1</td>\n",
       "      <td>1</td>\n",
       "      <td>1</td>\n",
       "      <td>0.0</td>\n",
       "      <td>23.0</td>\n",
       "      <td>1</td>\n",
       "      <td>0</td>\n",
       "      <td>1.0</td>\n",
       "      <td>0</td>\n",
       "      <td>...</td>\n",
       "      <td>480.0</td>\n",
       "      <td>0.0</td>\n",
       "      <td>0.00</td>\n",
       "      <td>90.0</td>\n",
       "      <td>1</td>\n",
       "      <td>0.0</td>\n",
       "      <td>0.0</td>\n",
       "      <td>0.0</td>\n",
       "      <td>43</td>\n",
       "      <td>2</td>\n",
       "    </tr>\n",
       "    <tr>\n",
       "      <th>3</th>\n",
       "      <td>39.0</td>\n",
       "      <td>1</td>\n",
       "      <td>0</td>\n",
       "      <td>1</td>\n",
       "      <td>0.0</td>\n",
       "      <td>10.0</td>\n",
       "      <td>0</td>\n",
       "      <td>0</td>\n",
       "      <td>3.0</td>\n",
       "      <td>0</td>\n",
       "      <td>...</td>\n",
       "      <td>459.0</td>\n",
       "      <td>5.0</td>\n",
       "      <td>2.80</td>\n",
       "      <td>45.0</td>\n",
       "      <td>1</td>\n",
       "      <td>1.0</td>\n",
       "      <td>0.0</td>\n",
       "      <td>0.0</td>\n",
       "      <td>21</td>\n",
       "      <td>1</td>\n",
       "    </tr>\n",
       "    <tr>\n",
       "      <th>4</th>\n",
       "      <td>47.0</td>\n",
       "      <td>1</td>\n",
       "      <td>0</td>\n",
       "      <td>1</td>\n",
       "      <td>0.0</td>\n",
       "      <td>10.0</td>\n",
       "      <td>1</td>\n",
       "      <td>1</td>\n",
       "      <td>1.5</td>\n",
       "      <td>1</td>\n",
       "      <td>...</td>\n",
       "      <td>213.0</td>\n",
       "      <td>3.6</td>\n",
       "      <td>1.95</td>\n",
       "      <td>53.0</td>\n",
       "      <td>1</td>\n",
       "      <td>1.0</td>\n",
       "      <td>0.0</td>\n",
       "      <td>0.0</td>\n",
       "      <td>11</td>\n",
       "      <td>1</td>\n",
       "    </tr>\n",
       "  </tbody>\n",
       "</table>\n",
       "<p>5 rows × 34 columns</p>\n",
       "</div>"
      ],
      "text/plain": [
       "    age  gender  city  asbestos_exposure  type_of_MM  \\\n",
       "0  47.0       1     0                  1         0.0   \n",
       "1  55.0       1     0                  1         0.0   \n",
       "2  29.0       1     1                  1         0.0   \n",
       "3  39.0       1     0                  1         0.0   \n",
       "4  47.0       1     0                  1         0.0   \n",
       "\n",
       "   duration_of_asbestos_exposure  keep_side  cytology  duration_of_symptoms  \\\n",
       "0                           20.0          0         1                  24.0   \n",
       "1                           45.0          0         0                   1.0   \n",
       "2                           23.0          1         0                   1.0   \n",
       "3                           10.0          0         0                   3.0   \n",
       "4                           10.0          1         1                   1.5   \n",
       "\n",
       "   dyspnoea  ...  pleural_lactic_dehydrogenise  pleural_protein  \\\n",
       "0         1  ...                         289.0              0.0   \n",
       "1         1  ...                        7541.0              1.6   \n",
       "2         0  ...                         480.0              0.0   \n",
       "3         0  ...                         459.0              5.0   \n",
       "4         1  ...                         213.0              3.6   \n",
       "\n",
       "   pleural_albumin  pleural_glucose  dead_or_not  pleural_effusion  \\\n",
       "0             0.00             79.0            1               0.0   \n",
       "1             0.80              6.0            1               1.0   \n",
       "2             0.00             90.0            1               0.0   \n",
       "3             2.80             45.0            1               1.0   \n",
       "4             1.95             53.0            1               1.0   \n",
       "\n",
       "   pleural_thickness_on_tomography  pleural_level_of_acidity_(pH)  \\\n",
       "0                              0.0                            0.0   \n",
       "1                              1.0                            1.0   \n",
       "2                              0.0                            0.0   \n",
       "3                              0.0                            0.0   \n",
       "4                              0.0                            0.0   \n",
       "\n",
       "   C-reactive_protein_(CRP)  class_of_diagnosis  \n",
       "0                        34                   1  \n",
       "1                        42                   1  \n",
       "2                        43                   2  \n",
       "3                        21                   1  \n",
       "4                        11                   1  \n",
       "\n",
       "[5 rows x 34 columns]"
      ]
     },
     "execution_count": 164,
     "metadata": {},
     "output_type": "execute_result"
    }
   ],
   "source": [
    "# removing blank spaces in column names\n",
    "df.columns = df.columns.str.replace(' ', '_')\n",
    "df.head()"
   ]
  },
  {
   "cell_type": "markdown",
   "metadata": {},
   "source": [
    "Details on: https://www.overleaf.com/2229811927sftxcwqrxthn\n",
    "\n",
    "Résultats recherches en Fr de certaines variables:\n",
    "* **city**: où habite le patient (plus ou moins proche de la ville)\n",
    "* **asbestos exposure**: exposition à l'amiante, un silicate fibreux d’origine naturelle\n",
    "* **cytology**: dépistage par cytologie (= étude des cellules isolées)\n",
    "* **White Blood cell count (WBC)**: quantité de globule blanc\n",
    "* **haemoglobin (HGB)**: 0 ou 1 = anémie ou non??\n",
    "* **platelet count (PLT)**: nombre de plaquettes (thrombocytes) (low platelet concentration is called thrombocytopenia, and is due to either decreased production or increased destruction. Elevated platelet concentration is called thrombocytosis, and is either congenital, reactive (to cytokines), or due to unregulated production)\n",
    "* **sedimentation**:  sedimentation rate = blood test that checks for inflammation in your body (measures how fast red blood cells fall to the bottom of a tube. Inflammation creates proteins that make red blood cells fall more quickly)\n",
    "* **blood lactic dehydrogenise (LDH)**: taux de LDH ou Lactate déshydrogénase (type de protéine aussi appelé enzyme), quand des tissus sont endommagés ou malades, ils relâchent des isoenzymes de LDH dans le sang => le type de LDH rejetté dépend du tissu endommagé\n",
    "* **alkaline phosphatise (ALP)**: enzyme présente dans le sang, si le taux présent est élevé => problème éventuel = foie, hépatite, obstruction des voies biliaires, cirrhose ou problèmes au niveau des os\n",
    "* **total protein**: quantité totale de protéine (albumin+globulin) dans le sang (normal values = 6.0 to 8.3 grams per deciliter)"
   ]
  },
  {
   "cell_type": "code",
   "execution_count": 165,
   "metadata": {},
   "outputs": [
    {
     "data": {
      "text/plain": [
       "age                                 float64\n",
       "gender                                int64\n",
       "city                                  int64\n",
       "asbestos_exposure                     int64\n",
       "type_of_MM                          float64\n",
       "duration_of_asbestos_exposure       float64\n",
       "keep_side                             int64\n",
       "cytology                              int64\n",
       "duration_of_symptoms                float64\n",
       "dyspnoea                              int64\n",
       "ache_on_chest                         int64\n",
       "weakness                              int64\n",
       "habit_of_cigarette                    int64\n",
       "performance_status                    int64\n",
       "white_blood                         float64\n",
       "cell_count_(WBC)                      int64\n",
       "hemoglobin_(HGB)                      int64\n",
       "platelet_count_(PLT)                float64\n",
       "sedimentation                       float64\n",
       "blood_lactic_dehydrogenise_(LDH)    float64\n",
       "alkaline_phosphatise_(ALP)          float64\n",
       "total_protein                       float64\n",
       "albumin                             float64\n",
       "glucose                             float64\n",
       "pleural_lactic_dehydrogenise        float64\n",
       "pleural_protein                     float64\n",
       "pleural_albumin                     float64\n",
       "pleural_glucose                     float64\n",
       "dead_or_not                           int64\n",
       "pleural_effusion                    float64\n",
       "pleural_thickness_on_tomography     float64\n",
       "pleural_level_of_acidity_(pH)       float64\n",
       "C-reactive_protein_(CRP)              int64\n",
       "class_of_diagnosis                    int64\n",
       "dtype: object"
      ]
     },
     "execution_count": 165,
     "metadata": {},
     "output_type": "execute_result"
    }
   ],
   "source": [
    "# column types\n",
    "df.dtypes # some issue with type of categorical/boolean variables"
   ]
  },
  {
   "cell_type": "code",
   "execution_count": 166,
   "metadata": {},
   "outputs": [
    {
     "data": {
      "text/plain": [
       "array([1, 2])"
      ]
     },
     "execution_count": 166,
     "metadata": {},
     "output_type": "execute_result"
    }
   ],
   "source": [
    "df[\"class_of_diagnosis\"].unique() # target variable (boolean)"
   ]
  },
  {
   "cell_type": "code",
   "execution_count": 167,
   "metadata": {},
   "outputs": [],
   "source": [
    "df[\"class_of_diagnosis\"] = df[\"class_of_diagnosis\"].apply(lambda x: 1 if x == 2 else 0)"
   ]
  },
  {
   "cell_type": "code",
   "execution_count": 168,
   "metadata": {},
   "outputs": [
    {
     "data": {
      "text/plain": [
       "array([0, 1, 3, 4, 5, 2, 6, 7, 8])"
      ]
     },
     "execution_count": 168,
     "metadata": {},
     "output_type": "execute_result"
    }
   ],
   "source": [
    "df[\"city\"].unique()"
   ]
  },
  {
   "cell_type": "code",
   "execution_count": 169,
   "metadata": {},
   "outputs": [
    {
     "data": {
      "text/plain": [
       "array([0., 1., 2.])"
      ]
     },
     "execution_count": 169,
     "metadata": {},
     "output_type": "execute_result"
    }
   ],
   "source": [
    "df[\"type_of_MM\"].unique() # float instead of int"
   ]
  },
  {
   "cell_type": "code",
   "execution_count": 170,
   "metadata": {},
   "outputs": [],
   "source": [
    "df[\"type_of_MM\"] = df[\"type_of_MM\"].astype('int')"
   ]
  },
  {
   "cell_type": "code",
   "execution_count": 171,
   "metadata": {},
   "outputs": [
    {
     "data": {
      "text/plain": [
       "array([0., 1.])"
      ]
     },
     "execution_count": 171,
     "metadata": {},
     "output_type": "execute_result"
    }
   ],
   "source": [
    "df[\"pleural_level_of_acidity_(pH)\"].unique() # same"
   ]
  },
  {
   "cell_type": "code",
   "execution_count": 172,
   "metadata": {},
   "outputs": [],
   "source": [
    "df[\"pleural_level_of_acidity_(pH)\"] = df[\"pleural_level_of_acidity_(pH)\"].astype('int')"
   ]
  },
  {
   "cell_type": "code",
   "execution_count": 173,
   "metadata": {},
   "outputs": [
    {
     "data": {
      "text/plain": [
       "array([0, 1, 2])"
      ]
     },
     "execution_count": 173,
     "metadata": {},
     "output_type": "execute_result"
    }
   ],
   "source": [
    "df[\"keep_side\"].unique() # keep_side is lung_side in another paper using the same data"
   ]
  },
  {
   "cell_type": "code",
   "execution_count": 174,
   "metadata": {},
   "outputs": [
    {
     "data": {
      "text/plain": [
       "0      0\n",
       "1      0\n",
       "2      1\n",
       "3      0\n",
       "4      1\n",
       "      ..\n",
       "319    1\n",
       "320    1\n",
       "321    0\n",
       "322    1\n",
       "323    1\n",
       "Name: lung_side, Length: 324, dtype: int64"
      ]
     },
     "execution_count": 174,
     "metadata": {},
     "output_type": "execute_result"
    }
   ],
   "source": [
    "df = df.rename(columns={'keep_side':'lung_side'}) # changing name\n",
    "df.lung_side # 0 = no pleural plaque (1 or 2 = right or left side of the lung)"
   ]
  },
  {
   "cell_type": "code",
   "execution_count": 175,
   "metadata": {},
   "outputs": [
    {
     "data": {
      "text/plain": [
       "array([1, 0])"
      ]
     },
     "execution_count": 175,
     "metadata": {},
     "output_type": "execute_result"
    }
   ],
   "source": [
    "df[\"cytology\"].unique() # boolean"
   ]
  },
  {
   "cell_type": "code",
   "execution_count": 176,
   "metadata": {},
   "outputs": [
    {
     "data": {
      "text/plain": [
       "array([1, 0])"
      ]
     },
     "execution_count": 176,
     "metadata": {},
     "output_type": "execute_result"
    }
   ],
   "source": [
    "df[\"gender\"].unique() # category"
   ]
  },
  {
   "cell_type": "code",
   "execution_count": 177,
   "metadata": {},
   "outputs": [
    {
     "data": {
      "text/plain": [
       "array([2, 3, 0, 1])"
      ]
     },
     "execution_count": 177,
     "metadata": {},
     "output_type": "execute_result"
    }
   ],
   "source": [
    "df[\"habit_of_cigarette\"].unique() # categoryy"
   ]
  },
  {
   "cell_type": "code",
   "execution_count": 178,
   "metadata": {},
   "outputs": [
    {
     "data": {
      "text/plain": [
       "array([0., 1.])"
      ]
     },
     "execution_count": 178,
     "metadata": {},
     "output_type": "execute_result"
    }
   ],
   "source": [
    "df[\"pleural_effusion\"].unique() # boolean (need to be converted in int type)"
   ]
  },
  {
   "cell_type": "code",
   "execution_count": 179,
   "metadata": {},
   "outputs": [],
   "source": [
    "df[\"pleural_effusion\"] = df[\"pleural_effusion\"].astype('int')"
   ]
  },
  {
   "cell_type": "code",
   "execution_count": 180,
   "metadata": {},
   "outputs": [
    {
     "data": {
      "text/plain": [
       "array([0., 1.])"
      ]
     },
     "execution_count": 180,
     "metadata": {},
     "output_type": "execute_result"
    }
   ],
   "source": [
    "df[\"pleural_thickness_on_tomography\"].unique() # boolean (need to be converted in int type)"
   ]
  },
  {
   "cell_type": "code",
   "execution_count": 181,
   "metadata": {},
   "outputs": [],
   "source": [
    "df[\"pleural_thickness_on_tomography\"] = df[\"pleural_thickness_on_tomography\"].astype('int')"
   ]
  },
  {
   "cell_type": "code",
   "execution_count": 182,
   "metadata": {},
   "outputs": [
    {
     "data": {
      "text/plain": [
       "array([1, 0])"
      ]
     },
     "execution_count": 182,
     "metadata": {},
     "output_type": "execute_result"
    }
   ],
   "source": [
    "df[\"hemoglobin_(HGB)\"].unique() # boolean"
   ]
  },
  {
   "cell_type": "code",
   "execution_count": 183,
   "metadata": {},
   "outputs": [
    {
     "data": {
      "text/plain": [
       "array([1, 0])"
      ]
     },
     "execution_count": 183,
     "metadata": {},
     "output_type": "execute_result"
    }
   ],
   "source": [
    "df[\"performance_status\"].unique() # boolean"
   ]
  },
  {
   "cell_type": "code",
   "execution_count": 184,
   "metadata": {},
   "outputs": [
    {
     "data": {
      "text/plain": [
       "array([0, 1])"
      ]
     },
     "execution_count": 184,
     "metadata": {},
     "output_type": "execute_result"
    }
   ],
   "source": [
    "df[\"weakness\"].unique() # boolean"
   ]
  },
  {
   "cell_type": "code",
   "execution_count": 185,
   "metadata": {},
   "outputs": [
    {
     "data": {
      "text/plain": [
       "array([1, 0])"
      ]
     },
     "execution_count": 185,
     "metadata": {},
     "output_type": "execute_result"
    }
   ],
   "source": [
    "df[\"ache_on_chest\"].unique() # boolean"
   ]
  },
  {
   "cell_type": "code",
   "execution_count": 186,
   "metadata": {},
   "outputs": [
    {
     "data": {
      "text/plain": [
       "array([1, 0])"
      ]
     },
     "execution_count": 186,
     "metadata": {},
     "output_type": "execute_result"
    }
   ],
   "source": [
    "df[\"dyspnoea\"].unique() # boolean"
   ]
  },
  {
   "cell_type": "code",
   "execution_count": 187,
   "metadata": {},
   "outputs": [
    {
     "data": {
      "text/plain": [
       "array([1, 0])"
      ]
     },
     "execution_count": 187,
     "metadata": {},
     "output_type": "execute_result"
    }
   ],
   "source": [
    "df[\"asbestos_exposure\"].unique() # boolean"
   ]
  },
  {
   "cell_type": "code",
   "execution_count": 188,
   "metadata": {},
   "outputs": [
    {
     "name": "stdout",
     "output_type": "stream",
     "text": [
      "<class 'pandas.core.frame.DataFrame'>\n",
      "RangeIndex: 324 entries, 0 to 323\n",
      "Data columns (total 34 columns):\n",
      " #   Column                            Non-Null Count  Dtype  \n",
      "---  ------                            --------------  -----  \n",
      " 0   age                               324 non-null    float64\n",
      " 1   gender                            324 non-null    int64  \n",
      " 2   city                              324 non-null    int64  \n",
      " 3   asbestos_exposure                 324 non-null    int64  \n",
      " 4   type_of_MM                        324 non-null    int64  \n",
      " 5   duration_of_asbestos_exposure     324 non-null    float64\n",
      " 6   lung_side                         324 non-null    int64  \n",
      " 7   cytology                          324 non-null    int64  \n",
      " 8   duration_of_symptoms              324 non-null    float64\n",
      " 9   dyspnoea                          324 non-null    int64  \n",
      " 10  ache_on_chest                     324 non-null    int64  \n",
      " 11  weakness                          324 non-null    int64  \n",
      " 12  habit_of_cigarette                324 non-null    int64  \n",
      " 13  performance_status                324 non-null    int64  \n",
      " 14  white_blood                       324 non-null    float64\n",
      " 15  cell_count_(WBC)                  324 non-null    int64  \n",
      " 16  hemoglobin_(HGB)                  324 non-null    int64  \n",
      " 17  platelet_count_(PLT)              324 non-null    float64\n",
      " 18  sedimentation                     324 non-null    float64\n",
      " 19  blood_lactic_dehydrogenise_(LDH)  324 non-null    float64\n",
      " 20  alkaline_phosphatise_(ALP)        324 non-null    float64\n",
      " 21  total_protein                     324 non-null    float64\n",
      " 22  albumin                           324 non-null    float64\n",
      " 23  glucose                           324 non-null    float64\n",
      " 24  pleural_lactic_dehydrogenise      324 non-null    float64\n",
      " 25  pleural_protein                   324 non-null    float64\n",
      " 26  pleural_albumin                   324 non-null    float64\n",
      " 27  pleural_glucose                   324 non-null    float64\n",
      " 28  dead_or_not                       324 non-null    int64  \n",
      " 29  pleural_effusion                  324 non-null    int64  \n",
      " 30  pleural_thickness_on_tomography   324 non-null    int64  \n",
      " 31  pleural_level_of_acidity_(pH)     324 non-null    int64  \n",
      " 32  C-reactive_protein_(CRP)          324 non-null    int64  \n",
      " 33  class_of_diagnosis                324 non-null    int64  \n",
      "dtypes: float64(15), int64(19)\n",
      "memory usage: 86.2 KB\n"
     ]
    }
   ],
   "source": [
    "df.info() # no NA"
   ]
  },
  {
   "cell_type": "code",
   "execution_count": 189,
   "metadata": {},
   "outputs": [
    {
     "data": {
      "text/html": [
       "<div>\n",
       "<style scoped>\n",
       "    .dataframe tbody tr th:only-of-type {\n",
       "        vertical-align: middle;\n",
       "    }\n",
       "\n",
       "    .dataframe tbody tr th {\n",
       "        vertical-align: top;\n",
       "    }\n",
       "\n",
       "    .dataframe thead th {\n",
       "        text-align: right;\n",
       "    }\n",
       "</style>\n",
       "<table border=\"1\" class=\"dataframe\">\n",
       "  <thead>\n",
       "    <tr style=\"text-align: right;\">\n",
       "      <th></th>\n",
       "      <th>age</th>\n",
       "      <th>gender</th>\n",
       "      <th>city</th>\n",
       "      <th>asbestos_exposure</th>\n",
       "      <th>type_of_MM</th>\n",
       "      <th>duration_of_asbestos_exposure</th>\n",
       "      <th>lung_side</th>\n",
       "      <th>cytology</th>\n",
       "      <th>duration_of_symptoms</th>\n",
       "      <th>dyspnoea</th>\n",
       "      <th>...</th>\n",
       "      <th>pleural_lactic_dehydrogenise</th>\n",
       "      <th>pleural_protein</th>\n",
       "      <th>pleural_albumin</th>\n",
       "      <th>pleural_glucose</th>\n",
       "      <th>dead_or_not</th>\n",
       "      <th>pleural_effusion</th>\n",
       "      <th>pleural_thickness_on_tomography</th>\n",
       "      <th>pleural_level_of_acidity_(pH)</th>\n",
       "      <th>C-reactive_protein_(CRP)</th>\n",
       "      <th>class_of_diagnosis</th>\n",
       "    </tr>\n",
       "  </thead>\n",
       "  <tbody>\n",
       "    <tr>\n",
       "      <th>count</th>\n",
       "      <td>324.000000</td>\n",
       "      <td>324.000000</td>\n",
       "      <td>324.000000</td>\n",
       "      <td>324.000000</td>\n",
       "      <td>324.000000</td>\n",
       "      <td>324.000000</td>\n",
       "      <td>324.000000</td>\n",
       "      <td>324.000000</td>\n",
       "      <td>324.000000</td>\n",
       "      <td>324.000000</td>\n",
       "      <td>...</td>\n",
       "      <td>324.000000</td>\n",
       "      <td>324.000000</td>\n",
       "      <td>324.000000</td>\n",
       "      <td>324.000000</td>\n",
       "      <td>324.000000</td>\n",
       "      <td>324.000000</td>\n",
       "      <td>324.000000</td>\n",
       "      <td>324.000000</td>\n",
       "      <td>324.000000</td>\n",
       "      <td>324.000000</td>\n",
       "    </tr>\n",
       "    <tr>\n",
       "      <th>mean</th>\n",
       "      <td>54.743827</td>\n",
       "      <td>0.586420</td>\n",
       "      <td>2.530864</td>\n",
       "      <td>0.864198</td>\n",
       "      <td>0.052469</td>\n",
       "      <td>30.188272</td>\n",
       "      <td>0.759259</td>\n",
       "      <td>0.280864</td>\n",
       "      <td>5.442901</td>\n",
       "      <td>0.817901</td>\n",
       "      <td>...</td>\n",
       "      <td>518.472222</td>\n",
       "      <td>3.937562</td>\n",
       "      <td>2.076883</td>\n",
       "      <td>48.444444</td>\n",
       "      <td>0.944444</td>\n",
       "      <td>0.870370</td>\n",
       "      <td>0.595679</td>\n",
       "      <td>0.521605</td>\n",
       "      <td>64.188272</td>\n",
       "      <td>0.296296</td>\n",
       "    </tr>\n",
       "    <tr>\n",
       "      <th>std</th>\n",
       "      <td>11.002637</td>\n",
       "      <td>0.493237</td>\n",
       "      <td>2.429623</td>\n",
       "      <td>0.343109</td>\n",
       "      <td>0.261622</td>\n",
       "      <td>16.419945</td>\n",
       "      <td>0.565308</td>\n",
       "      <td>0.450116</td>\n",
       "      <td>4.717792</td>\n",
       "      <td>0.386523</td>\n",
       "      <td>...</td>\n",
       "      <td>536.279128</td>\n",
       "      <td>1.575008</td>\n",
       "      <td>0.915411</td>\n",
       "      <td>27.232516</td>\n",
       "      <td>0.229416</td>\n",
       "      <td>0.336415</td>\n",
       "      <td>0.491519</td>\n",
       "      <td>0.500306</td>\n",
       "      <td>22.661837</td>\n",
       "      <td>0.457330</td>\n",
       "    </tr>\n",
       "    <tr>\n",
       "      <th>min</th>\n",
       "      <td>19.000000</td>\n",
       "      <td>0.000000</td>\n",
       "      <td>0.000000</td>\n",
       "      <td>0.000000</td>\n",
       "      <td>0.000000</td>\n",
       "      <td>0.000000</td>\n",
       "      <td>0.000000</td>\n",
       "      <td>0.000000</td>\n",
       "      <td>0.500000</td>\n",
       "      <td>0.000000</td>\n",
       "      <td>...</td>\n",
       "      <td>110.000000</td>\n",
       "      <td>0.000000</td>\n",
       "      <td>0.000000</td>\n",
       "      <td>2.000000</td>\n",
       "      <td>0.000000</td>\n",
       "      <td>0.000000</td>\n",
       "      <td>0.000000</td>\n",
       "      <td>0.000000</td>\n",
       "      <td>11.000000</td>\n",
       "      <td>0.000000</td>\n",
       "    </tr>\n",
       "    <tr>\n",
       "      <th>25%</th>\n",
       "      <td>47.000000</td>\n",
       "      <td>0.000000</td>\n",
       "      <td>0.000000</td>\n",
       "      <td>1.000000</td>\n",
       "      <td>0.000000</td>\n",
       "      <td>19.750000</td>\n",
       "      <td>0.000000</td>\n",
       "      <td>0.000000</td>\n",
       "      <td>2.875000</td>\n",
       "      <td>1.000000</td>\n",
       "      <td>...</td>\n",
       "      <td>322.000000</td>\n",
       "      <td>3.400000</td>\n",
       "      <td>1.607500</td>\n",
       "      <td>29.000000</td>\n",
       "      <td>1.000000</td>\n",
       "      <td>1.000000</td>\n",
       "      <td>0.000000</td>\n",
       "      <td>0.000000</td>\n",
       "      <td>42.000000</td>\n",
       "      <td>0.000000</td>\n",
       "    </tr>\n",
       "    <tr>\n",
       "      <th>50%</th>\n",
       "      <td>55.000000</td>\n",
       "      <td>1.000000</td>\n",
       "      <td>2.000000</td>\n",
       "      <td>1.000000</td>\n",
       "      <td>0.000000</td>\n",
       "      <td>34.000000</td>\n",
       "      <td>1.000000</td>\n",
       "      <td>0.000000</td>\n",
       "      <td>5.000000</td>\n",
       "      <td>1.000000</td>\n",
       "      <td>...</td>\n",
       "      <td>510.000000</td>\n",
       "      <td>4.200000</td>\n",
       "      <td>2.200000</td>\n",
       "      <td>38.000000</td>\n",
       "      <td>1.000000</td>\n",
       "      <td>1.000000</td>\n",
       "      <td>1.000000</td>\n",
       "      <td>1.000000</td>\n",
       "      <td>68.000000</td>\n",
       "      <td>0.000000</td>\n",
       "    </tr>\n",
       "    <tr>\n",
       "      <th>75%</th>\n",
       "      <td>63.000000</td>\n",
       "      <td>1.000000</td>\n",
       "      <td>5.000000</td>\n",
       "      <td>1.000000</td>\n",
       "      <td>0.000000</td>\n",
       "      <td>43.000000</td>\n",
       "      <td>1.000000</td>\n",
       "      <td>1.000000</td>\n",
       "      <td>7.000000</td>\n",
       "      <td>1.000000</td>\n",
       "      <td>...</td>\n",
       "      <td>545.000000</td>\n",
       "      <td>4.925000</td>\n",
       "      <td>2.725000</td>\n",
       "      <td>75.000000</td>\n",
       "      <td>1.000000</td>\n",
       "      <td>1.000000</td>\n",
       "      <td>1.000000</td>\n",
       "      <td>1.000000</td>\n",
       "      <td>79.000000</td>\n",
       "      <td>1.000000</td>\n",
       "    </tr>\n",
       "    <tr>\n",
       "      <th>max</th>\n",
       "      <td>85.000000</td>\n",
       "      <td>1.000000</td>\n",
       "      <td>8.000000</td>\n",
       "      <td>1.000000</td>\n",
       "      <td>2.000000</td>\n",
       "      <td>70.000000</td>\n",
       "      <td>2.000000</td>\n",
       "      <td>1.000000</td>\n",
       "      <td>52.000000</td>\n",
       "      <td>1.000000</td>\n",
       "      <td>...</td>\n",
       "      <td>7541.000000</td>\n",
       "      <td>6.700000</td>\n",
       "      <td>4.400000</td>\n",
       "      <td>151.000000</td>\n",
       "      <td>1.000000</td>\n",
       "      <td>1.000000</td>\n",
       "      <td>1.000000</td>\n",
       "      <td>1.000000</td>\n",
       "      <td>103.000000</td>\n",
       "      <td>1.000000</td>\n",
       "    </tr>\n",
       "  </tbody>\n",
       "</table>\n",
       "<p>8 rows × 34 columns</p>\n",
       "</div>"
      ],
      "text/plain": [
       "              age      gender        city  asbestos_exposure  type_of_MM  \\\n",
       "count  324.000000  324.000000  324.000000         324.000000  324.000000   \n",
       "mean    54.743827    0.586420    2.530864           0.864198    0.052469   \n",
       "std     11.002637    0.493237    2.429623           0.343109    0.261622   \n",
       "min     19.000000    0.000000    0.000000           0.000000    0.000000   \n",
       "25%     47.000000    0.000000    0.000000           1.000000    0.000000   \n",
       "50%     55.000000    1.000000    2.000000           1.000000    0.000000   \n",
       "75%     63.000000    1.000000    5.000000           1.000000    0.000000   \n",
       "max     85.000000    1.000000    8.000000           1.000000    2.000000   \n",
       "\n",
       "       duration_of_asbestos_exposure   lung_side    cytology  \\\n",
       "count                     324.000000  324.000000  324.000000   \n",
       "mean                       30.188272    0.759259    0.280864   \n",
       "std                        16.419945    0.565308    0.450116   \n",
       "min                         0.000000    0.000000    0.000000   \n",
       "25%                        19.750000    0.000000    0.000000   \n",
       "50%                        34.000000    1.000000    0.000000   \n",
       "75%                        43.000000    1.000000    1.000000   \n",
       "max                        70.000000    2.000000    1.000000   \n",
       "\n",
       "       duration_of_symptoms    dyspnoea  ...  pleural_lactic_dehydrogenise  \\\n",
       "count            324.000000  324.000000  ...                    324.000000   \n",
       "mean               5.442901    0.817901  ...                    518.472222   \n",
       "std                4.717792    0.386523  ...                    536.279128   \n",
       "min                0.500000    0.000000  ...                    110.000000   \n",
       "25%                2.875000    1.000000  ...                    322.000000   \n",
       "50%                5.000000    1.000000  ...                    510.000000   \n",
       "75%                7.000000    1.000000  ...                    545.000000   \n",
       "max               52.000000    1.000000  ...                   7541.000000   \n",
       "\n",
       "       pleural_protein  pleural_albumin  pleural_glucose  dead_or_not  \\\n",
       "count       324.000000       324.000000       324.000000   324.000000   \n",
       "mean          3.937562         2.076883        48.444444     0.944444   \n",
       "std           1.575008         0.915411        27.232516     0.229416   \n",
       "min           0.000000         0.000000         2.000000     0.000000   \n",
       "25%           3.400000         1.607500        29.000000     1.000000   \n",
       "50%           4.200000         2.200000        38.000000     1.000000   \n",
       "75%           4.925000         2.725000        75.000000     1.000000   \n",
       "max           6.700000         4.400000       151.000000     1.000000   \n",
       "\n",
       "       pleural_effusion  pleural_thickness_on_tomography  \\\n",
       "count        324.000000                       324.000000   \n",
       "mean           0.870370                         0.595679   \n",
       "std            0.336415                         0.491519   \n",
       "min            0.000000                         0.000000   \n",
       "25%            1.000000                         0.000000   \n",
       "50%            1.000000                         1.000000   \n",
       "75%            1.000000                         1.000000   \n",
       "max            1.000000                         1.000000   \n",
       "\n",
       "       pleural_level_of_acidity_(pH)  C-reactive_protein_(CRP)  \\\n",
       "count                     324.000000                324.000000   \n",
       "mean                        0.521605                 64.188272   \n",
       "std                         0.500306                 22.661837   \n",
       "min                         0.000000                 11.000000   \n",
       "25%                         0.000000                 42.000000   \n",
       "50%                         1.000000                 68.000000   \n",
       "75%                         1.000000                 79.000000   \n",
       "max                         1.000000                103.000000   \n",
       "\n",
       "       class_of_diagnosis  \n",
       "count          324.000000  \n",
       "mean             0.296296  \n",
       "std              0.457330  \n",
       "min              0.000000  \n",
       "25%              0.000000  \n",
       "50%              0.000000  \n",
       "75%              1.000000  \n",
       "max              1.000000  \n",
       "\n",
       "[8 rows x 34 columns]"
      ]
     },
     "execution_count": 189,
     "metadata": {},
     "output_type": "execute_result"
    }
   ],
   "source": [
    "df.describe()"
   ]
  },
  {
   "cell_type": "code",
   "execution_count": 190,
   "metadata": {},
   "outputs": [],
   "source": [
    "# changing names of columns with brackets in it\n",
    "df = df.rename(columns={'platelet_count_(PLT)':'platelet_count'}) # changing name\n",
    "df = df.rename(columns={'cell_count_(WBC)':'cell_count'}) # changing name\n",
    "df = df.rename(columns={'hemoglobin_(HGB)':'hemoglobin'}) # changing name\n",
    "df = df.rename(columns={'blood_lactic_dehydrogenise_(LDH)':'blood_lactic_dehydrogenise'}) \n",
    "df = df.rename(columns={'alkaline_phosphatise_(ALP)':'alkaline_phosphatise'}) \n",
    "df = df.rename(columns={'pleural_level_of_acidity_(pH)':'pleural_level_of_acidity'}) \n",
    "df = df.rename(columns={'C-reactive_protein_(CRP)':'C_reactive_protein'}) "
   ]
  },
  {
   "cell_type": "code",
   "execution_count": 191,
   "metadata": {},
   "outputs": [],
   "source": [
    "# converting categorical variables into \"Categorical\" pandas type\n",
    "df[\"city\"] = pd.Categorical(df[\"city\"], ordered=False)\n",
    "df[\"type_of_MM\"] = pd.Categorical(df[\"type_of_MM\"], ordered=False)\n",
    "df[\"lung_side\"] = pd.Categorical(df[\"lung_side\"], ordered=False)\n",
    "df[\"habit_of_cigarette\"] = pd.Categorical(df[\"habit_of_cigarette\"], ordered=False)\n",
    "df[\"gender\"] = pd.Categorical(df[\"gender\"], ordered=False)\n",
    "df[\"performance_status\"] = pd.Categorical(df[\"performance_status\"], ordered=False)"
   ]
  },
  {
   "cell_type": "markdown",
   "metadata": {},
   "source": [
    "## Descriptive stats"
   ]
  },
  {
   "cell_type": "markdown",
   "metadata": {},
   "source": [
    "### Univariate stats"
   ]
  },
  {
   "cell_type": "code",
   "execution_count": 33,
   "metadata": {},
   "outputs": [],
   "source": [
    "# library & dataset\n",
    "import seaborn as sns\n",
    "\n",
    "# style \n",
    "sns.set(style=\"darkgrid\")"
   ]
  },
  {
   "cell_type": "code",
   "execution_count": 34,
   "metadata": {},
   "outputs": [
    {
     "data": {
      "text/plain": [
       "0    310\n",
       "1     11\n",
       "2      3\n",
       "Name: type_of_MM, dtype: int64"
      ]
     },
     "execution_count": 34,
     "metadata": {},
     "output_type": "execute_result"
    }
   ],
   "source": [
    "df[\"type_of_MM\"].value_counts() # more people with 0 as type of MM (which stands for no MM)"
   ]
  },
  {
   "cell_type": "code",
   "execution_count": 35,
   "metadata": {},
   "outputs": [
    {
     "data": {
      "text/plain": [
       "0    228\n",
       "1     96\n",
       "Name: class_of_diagnosis, dtype: int64"
      ]
     },
     "execution_count": 35,
     "metadata": {},
     "output_type": "execute_result"
    }
   ],
   "source": [
    "df[\"class_of_diagnosis\"].value_counts() # 96 non-healthy for 228 healthy"
   ]
  },
  {
   "cell_type": "code",
   "execution_count": 36,
   "metadata": {},
   "outputs": [
    {
     "name": "stdout",
     "output_type": "stream",
     "text": [
      "70.37% healthy and 29.54% non healthy in the dataset\n"
     ]
    }
   ],
   "source": [
    "print(\"{:.2f}% healthy and {:.2f}% non healthy in the dataset\".format(228/(228+96)*100,\n",
    "                                                            96/(229+96)*100))"
   ]
  },
  {
   "cell_type": "code",
   "execution_count": 192,
   "metadata": {},
   "outputs": [],
   "source": [
    "# type_of_MM has information only on 14 out of 96 patients on the type of MM\n",
    "# so we will remove it from the dataset\n",
    "df = df.drop(\"type_of_MM\", axis=1)"
   ]
  },
  {
   "cell_type": "code",
   "execution_count": 38,
   "metadata": {},
   "outputs": [
    {
     "data": {
      "text/plain": [
       "<seaborn.axisgrid.FacetGrid at 0x7f974e82ba50>"
      ]
     },
     "execution_count": 38,
     "metadata": {},
     "output_type": "execute_result"
    },
    {
     "data": {
      "image/png": "[encoded data removed]",
      "text/plain": [
       "<Figure size 360x360 with 1 Axes>"
      ]
     },
     "metadata": {},
     "output_type": "display_data"
    }
   ],
   "source": [
    "sns.displot(df, x=\"age\")"
   ]
  },
  {
   "cell_type": "code",
   "execution_count": 39,
   "metadata": {},
   "outputs": [
    {
     "data": {
      "text/plain": [
       "<seaborn.axisgrid.FacetGrid at 0x7f974e950f50>"
      ]
     },
     "execution_count": 39,
     "metadata": {},
     "output_type": "execute_result"
    },
    {
     "data": {
      "image/png": "[encoded data removed]",
      "text/plain": [
       "<Figure size 360x360 with 1 Axes>"
      ]
     },
     "metadata": {},
     "output_type": "display_data"
    }
   ],
   "source": [
    "sns.displot(df, x=\"duration_of_asbestos_exposure\")"
   ]
  },
  {
   "cell_type": "markdown",
   "metadata": {},
   "source": [
    "### Statistiques bivariées"
   ]
  },
  {
   "cell_type": "code",
   "execution_count": 40,
   "metadata": {},
   "outputs": [
    {
     "data": {
      "text/html": [
       "<div>\n",
       "<style scoped>\n",
       "    .dataframe tbody tr th:only-of-type {\n",
       "        vertical-align: middle;\n",
       "    }\n",
       "\n",
       "    .dataframe tbody tr th {\n",
       "        vertical-align: top;\n",
       "    }\n",
       "\n",
       "    .dataframe thead th {\n",
       "        text-align: right;\n",
       "    }\n",
       "</style>\n",
       "<table border=\"1\" class=\"dataframe\">\n",
       "  <thead>\n",
       "    <tr style=\"text-align: right;\">\n",
       "      <th>asbestos_exposure</th>\n",
       "      <th>0</th>\n",
       "      <th>1</th>\n",
       "    </tr>\n",
       "    <tr>\n",
       "      <th>class_of_diagnosis</th>\n",
       "      <th></th>\n",
       "      <th></th>\n",
       "    </tr>\n",
       "  </thead>\n",
       "  <tbody>\n",
       "    <tr>\n",
       "      <th>0</th>\n",
       "      <td>0.795455</td>\n",
       "      <td>0.689286</td>\n",
       "    </tr>\n",
       "    <tr>\n",
       "      <th>1</th>\n",
       "      <td>0.204545</td>\n",
       "      <td>0.310714</td>\n",
       "    </tr>\n",
       "  </tbody>\n",
       "</table>\n",
       "</div>"
      ],
      "text/plain": [
       "asbestos_exposure          0         1\n",
       "class_of_diagnosis                    \n",
       "0                   0.795455  0.689286\n",
       "1                   0.204545  0.310714"
      ]
     },
     "execution_count": 40,
     "metadata": {},
     "output_type": "execute_result"
    }
   ],
   "source": [
    "pd.crosstab(df[\"class_of_diagnosis\"], df[\"asbestos_exposure\"], normalize='columns') "
   ]
  },
  {
   "cell_type": "code",
   "execution_count": 41,
   "metadata": {},
   "outputs": [
    {
     "data": {
      "text/html": [
       "<div>\n",
       "<style scoped>\n",
       "    .dataframe tbody tr th:only-of-type {\n",
       "        vertical-align: middle;\n",
       "    }\n",
       "\n",
       "    .dataframe tbody tr th {\n",
       "        vertical-align: top;\n",
       "    }\n",
       "\n",
       "    .dataframe thead th {\n",
       "        text-align: right;\n",
       "    }\n",
       "</style>\n",
       "<table border=\"1\" class=\"dataframe\">\n",
       "  <thead>\n",
       "    <tr style=\"text-align: right;\">\n",
       "      <th>dead_or_not</th>\n",
       "      <th>0</th>\n",
       "      <th>1</th>\n",
       "    </tr>\n",
       "    <tr>\n",
       "      <th>class_of_diagnosis</th>\n",
       "      <th></th>\n",
       "      <th></th>\n",
       "    </tr>\n",
       "  </thead>\n",
       "  <tbody>\n",
       "    <tr>\n",
       "      <th>0</th>\n",
       "      <td>0.777778</td>\n",
       "      <td>0.699346</td>\n",
       "    </tr>\n",
       "    <tr>\n",
       "      <th>1</th>\n",
       "      <td>0.222222</td>\n",
       "      <td>0.300654</td>\n",
       "    </tr>\n",
       "  </tbody>\n",
       "</table>\n",
       "</div>"
      ],
      "text/plain": [
       "dead_or_not                0         1\n",
       "class_of_diagnosis                    \n",
       "0                   0.777778  0.699346\n",
       "1                   0.222222  0.300654"
      ]
     },
     "execution_count": 41,
     "metadata": {},
     "output_type": "execute_result"
    }
   ],
   "source": [
    "pd.crosstab(df[\"class_of_diagnosis\"], df[\"dead_or_not\"], normalize='columns') # more healthy (diagnosis=1) that die than not healthy, strange"
   ]
  },
  {
   "cell_type": "code",
   "execution_count": 42,
   "metadata": {},
   "outputs": [],
   "source": [
    "#df = df.drop(\"dead_or_not\", axis = 1)"
   ]
  },
  {
   "cell_type": "code",
   "execution_count": 43,
   "metadata": {},
   "outputs": [
    {
     "data": {
      "text/html": [
       "<div>\n",
       "<style scoped>\n",
       "    .dataframe tbody tr th:only-of-type {\n",
       "        vertical-align: middle;\n",
       "    }\n",
       "\n",
       "    .dataframe tbody tr th {\n",
       "        vertical-align: top;\n",
       "    }\n",
       "\n",
       "    .dataframe thead th {\n",
       "        text-align: right;\n",
       "    }\n",
       "</style>\n",
       "<table border=\"1\" class=\"dataframe\">\n",
       "  <thead>\n",
       "    <tr style=\"text-align: right;\">\n",
       "      <th>city</th>\n",
       "      <th>0</th>\n",
       "      <th>1</th>\n",
       "      <th>2</th>\n",
       "      <th>3</th>\n",
       "      <th>4</th>\n",
       "      <th>5</th>\n",
       "      <th>6</th>\n",
       "      <th>7</th>\n",
       "      <th>8</th>\n",
       "    </tr>\n",
       "    <tr>\n",
       "      <th>class_of_diagnosis</th>\n",
       "      <th></th>\n",
       "      <th></th>\n",
       "      <th></th>\n",
       "      <th></th>\n",
       "      <th></th>\n",
       "      <th></th>\n",
       "      <th></th>\n",
       "      <th></th>\n",
       "      <th></th>\n",
       "    </tr>\n",
       "  </thead>\n",
       "  <tbody>\n",
       "    <tr>\n",
       "      <th>0</th>\n",
       "      <td>0.72</td>\n",
       "      <td>0.833333</td>\n",
       "      <td>0.627451</td>\n",
       "      <td>0.52</td>\n",
       "      <td>0.666667</td>\n",
       "      <td>1.0</td>\n",
       "      <td>0.69697</td>\n",
       "      <td>0.846154</td>\n",
       "      <td>1.0</td>\n",
       "    </tr>\n",
       "    <tr>\n",
       "      <th>1</th>\n",
       "      <td>0.28</td>\n",
       "      <td>0.166667</td>\n",
       "      <td>0.372549</td>\n",
       "      <td>0.48</td>\n",
       "      <td>0.333333</td>\n",
       "      <td>0.0</td>\n",
       "      <td>0.30303</td>\n",
       "      <td>0.153846</td>\n",
       "      <td>0.0</td>\n",
       "    </tr>\n",
       "  </tbody>\n",
       "</table>\n",
       "</div>"
      ],
      "text/plain": [
       "city                   0         1         2     3         4    5        6  \\\n",
       "class_of_diagnosis                                                           \n",
       "0                   0.72  0.833333  0.627451  0.52  0.666667  1.0  0.69697   \n",
       "1                   0.28  0.166667  0.372549  0.48  0.333333  0.0  0.30303   \n",
       "\n",
       "city                       7    8  \n",
       "class_of_diagnosis                 \n",
       "0                   0.846154  1.0  \n",
       "1                   0.153846  0.0  "
      ]
     },
     "execution_count": 43,
     "metadata": {},
     "output_type": "execute_result"
    }
   ],
   "source": [
    "pd.crosstab(df[\"class_of_diagnosis\"], df[\"city\"], normalize='columns') "
   ]
  },
  {
   "cell_type": "code",
   "execution_count": 44,
   "metadata": {},
   "outputs": [
    {
     "data": {
      "text/html": [
       "<div>\n",
       "<style scoped>\n",
       "    .dataframe tbody tr th:only-of-type {\n",
       "        vertical-align: middle;\n",
       "    }\n",
       "\n",
       "    .dataframe tbody tr th {\n",
       "        vertical-align: top;\n",
       "    }\n",
       "\n",
       "    .dataframe thead th {\n",
       "        text-align: right;\n",
       "    }\n",
       "</style>\n",
       "<table border=\"1\" class=\"dataframe\">\n",
       "  <thead>\n",
       "    <tr style=\"text-align: right;\">\n",
       "      <th>gender</th>\n",
       "      <th>0</th>\n",
       "      <th>1</th>\n",
       "    </tr>\n",
       "    <tr>\n",
       "      <th>class_of_diagnosis</th>\n",
       "      <th></th>\n",
       "      <th></th>\n",
       "    </tr>\n",
       "  </thead>\n",
       "  <tbody>\n",
       "    <tr>\n",
       "      <th>0</th>\n",
       "      <td>0.619403</td>\n",
       "      <td>0.763158</td>\n",
       "    </tr>\n",
       "    <tr>\n",
       "      <th>1</th>\n",
       "      <td>0.380597</td>\n",
       "      <td>0.236842</td>\n",
       "    </tr>\n",
       "  </tbody>\n",
       "</table>\n",
       "</div>"
      ],
      "text/plain": [
       "gender                     0         1\n",
       "class_of_diagnosis                    \n",
       "0                   0.619403  0.763158\n",
       "1                   0.380597  0.236842"
      ]
     },
     "execution_count": 44,
     "metadata": {},
     "output_type": "execute_result"
    }
   ],
   "source": [
    "pd.crosstab(df[\"class_of_diagnosis\"], df[\"gender\"], normalize='columns')"
   ]
  },
  {
   "cell_type": "code",
   "execution_count": 45,
   "metadata": {},
   "outputs": [
    {
     "data": {
      "text/html": [
       "<div>\n",
       "<style scoped>\n",
       "    .dataframe tbody tr th:only-of-type {\n",
       "        vertical-align: middle;\n",
       "    }\n",
       "\n",
       "    .dataframe tbody tr th {\n",
       "        vertical-align: top;\n",
       "    }\n",
       "\n",
       "    .dataframe thead th {\n",
       "        text-align: right;\n",
       "    }\n",
       "</style>\n",
       "<table border=\"1\" class=\"dataframe\">\n",
       "  <thead>\n",
       "    <tr style=\"text-align: right;\">\n",
       "      <th>performance_status</th>\n",
       "      <th>0</th>\n",
       "      <th>1</th>\n",
       "    </tr>\n",
       "    <tr>\n",
       "      <th>class_of_diagnosis</th>\n",
       "      <th></th>\n",
       "      <th></th>\n",
       "    </tr>\n",
       "  </thead>\n",
       "  <tbody>\n",
       "    <tr>\n",
       "      <th>0</th>\n",
       "      <td>0.722581</td>\n",
       "      <td>0.686391</td>\n",
       "    </tr>\n",
       "    <tr>\n",
       "      <th>1</th>\n",
       "      <td>0.277419</td>\n",
       "      <td>0.313609</td>\n",
       "    </tr>\n",
       "  </tbody>\n",
       "</table>\n",
       "</div>"
      ],
      "text/plain": [
       "performance_status         0         1\n",
       "class_of_diagnosis                    \n",
       "0                   0.722581  0.686391\n",
       "1                   0.277419  0.313609"
      ]
     },
     "execution_count": 45,
     "metadata": {},
     "output_type": "execute_result"
    }
   ],
   "source": [
    "pd.crosstab(df[\"class_of_diagnosis\"], df[\"performance_status\"], normalize='columns')"
   ]
  },
  {
   "cell_type": "code",
   "execution_count": 46,
   "metadata": {},
   "outputs": [
    {
     "data": {
      "text/html": [
       "<div>\n",
       "<style scoped>\n",
       "    .dataframe tbody tr th:only-of-type {\n",
       "        vertical-align: middle;\n",
       "    }\n",
       "\n",
       "    .dataframe tbody tr th {\n",
       "        vertical-align: top;\n",
       "    }\n",
       "\n",
       "    .dataframe thead th {\n",
       "        text-align: right;\n",
       "    }\n",
       "</style>\n",
       "<table border=\"1\" class=\"dataframe\">\n",
       "  <thead>\n",
       "    <tr style=\"text-align: right;\">\n",
       "      <th>habit_of_cigarette</th>\n",
       "      <th>0</th>\n",
       "      <th>1</th>\n",
       "      <th>2</th>\n",
       "      <th>3</th>\n",
       "    </tr>\n",
       "    <tr>\n",
       "      <th>class_of_diagnosis</th>\n",
       "      <th></th>\n",
       "      <th></th>\n",
       "      <th></th>\n",
       "      <th></th>\n",
       "    </tr>\n",
       "  </thead>\n",
       "  <tbody>\n",
       "    <tr>\n",
       "      <th>0</th>\n",
       "      <td>0.688525</td>\n",
       "      <td>0.72973</td>\n",
       "      <td>0.648148</td>\n",
       "      <td>0.8</td>\n",
       "    </tr>\n",
       "    <tr>\n",
       "      <th>1</th>\n",
       "      <td>0.311475</td>\n",
       "      <td>0.27027</td>\n",
       "      <td>0.351852</td>\n",
       "      <td>0.2</td>\n",
       "    </tr>\n",
       "  </tbody>\n",
       "</table>\n",
       "</div>"
      ],
      "text/plain": [
       "habit_of_cigarette         0        1         2    3\n",
       "class_of_diagnosis                                  \n",
       "0                   0.688525  0.72973  0.648148  0.8\n",
       "1                   0.311475  0.27027  0.351852  0.2"
      ]
     },
     "execution_count": 46,
     "metadata": {},
     "output_type": "execute_result"
    }
   ],
   "source": [
    "pd.crosstab(df[\"class_of_diagnosis\"], df[\"habit_of_cigarette\"], normalize='columns')"
   ]
  },
  {
   "cell_type": "markdown",
   "metadata": {},
   "source": [
    "### Graphic representations"
   ]
  },
  {
   "cell_type": "code",
   "execution_count": 47,
   "metadata": {},
   "outputs": [
    {
     "name": "stderr",
     "output_type": "stream",
     "text": [
      "'c' argument looks like a single numeric RGB or RGBA sequence, which should be avoided as value-mapping will have precedence in case its length matches with 'x' & 'y'.  Please use a 2-D array with a single row if you really want to specify the same RGB or RGBA value for all points.\n"
     ]
    },
    {
     "data": {
      "text/plain": [
       "<matplotlib.axes._subplots.AxesSubplot at 0x7f974ef6f490>"
      ]
     },
     "execution_count": 47,
     "metadata": {},
     "output_type": "execute_result"
    },
    {
     "data": {
      "image/png": "[encoded data removed]",
      "text/plain": [
       "<Figure size 432x288 with 1 Axes>"
      ]
     },
     "metadata": {},
     "output_type": "display_data"
    }
   ],
   "source": [
    "var = df[df[\"asbestos_exposure\"] == 1]\n",
    "\n",
    "var.plot.scatter(title=\"Age given duration of asbestos exposure\",\n",
    "         x=\"duration_of_symptoms\",\n",
    "         y=\"duration_of_asbestos_exposure\")"
   ]
  },
  {
   "cell_type": "code",
   "execution_count": 48,
   "metadata": {},
   "outputs": [
    {
     "data": {
      "text/plain": [
       "<seaborn.axisgrid.FacetGrid at 0x7f974dba2450>"
      ]
     },
     "execution_count": 48,
     "metadata": {},
     "output_type": "execute_result"
    },
    {
     "data": {
      "image/png": "[encoded data removed]",
      "text/plain": [
       "<Figure size 469.675x360 with 1 Axes>"
      ]
     },
     "metadata": {},
     "output_type": "display_data"
    }
   ],
   "source": [
    "sns.displot(data=var, x=\"duration_of_asbestos_exposure\", hue=\"class_of_diagnosis\", kind=\"ecdf\")"
   ]
  },
  {
   "cell_type": "code",
   "execution_count": 49,
   "metadata": {},
   "outputs": [
    {
     "data": {
      "text/html": [
       "<div>\n",
       "<style scoped>\n",
       "    .dataframe tbody tr th:only-of-type {\n",
       "        vertical-align: middle;\n",
       "    }\n",
       "\n",
       "    .dataframe tbody tr th {\n",
       "        vertical-align: top;\n",
       "    }\n",
       "\n",
       "    .dataframe thead th {\n",
       "        text-align: right;\n",
       "    }\n",
       "</style>\n",
       "<table border=\"1\" class=\"dataframe\">\n",
       "  <thead>\n",
       "    <tr style=\"text-align: right;\">\n",
       "      <th></th>\n",
       "      <th>age</th>\n",
       "      <th>asbestos_exposure</th>\n",
       "      <th>duration_of_asbestos_exposure</th>\n",
       "      <th>cytology</th>\n",
       "      <th>duration_of_symptoms</th>\n",
       "      <th>dyspnoea</th>\n",
       "      <th>ache_on_chest</th>\n",
       "      <th>weakness</th>\n",
       "      <th>white_blood</th>\n",
       "      <th>cell_count</th>\n",
       "      <th>...</th>\n",
       "      <th>city_8</th>\n",
       "      <th>lung_side_0</th>\n",
       "      <th>lung_side_1</th>\n",
       "      <th>lung_side_2</th>\n",
       "      <th>habit_of_cigarette_0</th>\n",
       "      <th>habit_of_cigarette_1</th>\n",
       "      <th>habit_of_cigarette_2</th>\n",
       "      <th>habit_of_cigarette_3</th>\n",
       "      <th>performance_status_0</th>\n",
       "      <th>performance_status_1</th>\n",
       "    </tr>\n",
       "  </thead>\n",
       "  <tbody>\n",
       "    <tr>\n",
       "      <th>0</th>\n",
       "      <td>47.0</td>\n",
       "      <td>1</td>\n",
       "      <td>20.0</td>\n",
       "      <td>1</td>\n",
       "      <td>24.0</td>\n",
       "      <td>1</td>\n",
       "      <td>1</td>\n",
       "      <td>0</td>\n",
       "      <td>8050.0</td>\n",
       "      <td>9</td>\n",
       "      <td>...</td>\n",
       "      <td>0</td>\n",
       "      <td>1</td>\n",
       "      <td>0</td>\n",
       "      <td>0</td>\n",
       "      <td>0</td>\n",
       "      <td>0</td>\n",
       "      <td>1</td>\n",
       "      <td>0</td>\n",
       "      <td>0</td>\n",
       "      <td>1</td>\n",
       "    </tr>\n",
       "    <tr>\n",
       "      <th>1</th>\n",
       "      <td>55.0</td>\n",
       "      <td>1</td>\n",
       "      <td>45.0</td>\n",
       "      <td>0</td>\n",
       "      <td>1.0</td>\n",
       "      <td>1</td>\n",
       "      <td>1</td>\n",
       "      <td>1</td>\n",
       "      <td>11200.0</td>\n",
       "      <td>7</td>\n",
       "      <td>...</td>\n",
       "      <td>0</td>\n",
       "      <td>1</td>\n",
       "      <td>0</td>\n",
       "      <td>0</td>\n",
       "      <td>0</td>\n",
       "      <td>0</td>\n",
       "      <td>0</td>\n",
       "      <td>1</td>\n",
       "      <td>1</td>\n",
       "      <td>0</td>\n",
       "    </tr>\n",
       "    <tr>\n",
       "      <th>2</th>\n",
       "      <td>29.0</td>\n",
       "      <td>1</td>\n",
       "      <td>23.0</td>\n",
       "      <td>0</td>\n",
       "      <td>1.0</td>\n",
       "      <td>0</td>\n",
       "      <td>0</td>\n",
       "      <td>0</td>\n",
       "      <td>5300.0</td>\n",
       "      <td>12</td>\n",
       "      <td>...</td>\n",
       "      <td>0</td>\n",
       "      <td>0</td>\n",
       "      <td>1</td>\n",
       "      <td>0</td>\n",
       "      <td>0</td>\n",
       "      <td>0</td>\n",
       "      <td>1</td>\n",
       "      <td>0</td>\n",
       "      <td>0</td>\n",
       "      <td>1</td>\n",
       "    </tr>\n",
       "    <tr>\n",
       "      <th>3</th>\n",
       "      <td>39.0</td>\n",
       "      <td>1</td>\n",
       "      <td>10.0</td>\n",
       "      <td>0</td>\n",
       "      <td>3.0</td>\n",
       "      <td>0</td>\n",
       "      <td>1</td>\n",
       "      <td>1</td>\n",
       "      <td>7910.0</td>\n",
       "      <td>14</td>\n",
       "      <td>...</td>\n",
       "      <td>0</td>\n",
       "      <td>1</td>\n",
       "      <td>0</td>\n",
       "      <td>0</td>\n",
       "      <td>1</td>\n",
       "      <td>0</td>\n",
       "      <td>0</td>\n",
       "      <td>0</td>\n",
       "      <td>0</td>\n",
       "      <td>1</td>\n",
       "    </tr>\n",
       "    <tr>\n",
       "      <th>4</th>\n",
       "      <td>47.0</td>\n",
       "      <td>1</td>\n",
       "      <td>10.0</td>\n",
       "      <td>1</td>\n",
       "      <td>1.5</td>\n",
       "      <td>1</td>\n",
       "      <td>1</td>\n",
       "      <td>0</td>\n",
       "      <td>9120.0</td>\n",
       "      <td>4</td>\n",
       "      <td>...</td>\n",
       "      <td>0</td>\n",
       "      <td>0</td>\n",
       "      <td>1</td>\n",
       "      <td>0</td>\n",
       "      <td>0</td>\n",
       "      <td>0</td>\n",
       "      <td>0</td>\n",
       "      <td>1</td>\n",
       "      <td>0</td>\n",
       "      <td>1</td>\n",
       "    </tr>\n",
       "  </tbody>\n",
       "</table>\n",
       "<p>5 rows × 47 columns</p>\n",
       "</div>"
      ],
      "text/plain": [
       "    age  asbestos_exposure  duration_of_asbestos_exposure  cytology  \\\n",
       "0  47.0                  1                           20.0         1   \n",
       "1  55.0                  1                           45.0         0   \n",
       "2  29.0                  1                           23.0         0   \n",
       "3  39.0                  1                           10.0         0   \n",
       "4  47.0                  1                           10.0         1   \n",
       "\n",
       "   duration_of_symptoms  dyspnoea  ache_on_chest  weakness  white_blood  \\\n",
       "0                  24.0         1              1         0       8050.0   \n",
       "1                   1.0         1              1         1      11200.0   \n",
       "2                   1.0         0              0         0       5300.0   \n",
       "3                   3.0         0              1         1       7910.0   \n",
       "4                   1.5         1              1         0       9120.0   \n",
       "\n",
       "   cell_count  ...  city_8  lung_side_0  lung_side_1  lung_side_2  \\\n",
       "0           9  ...       0            1            0            0   \n",
       "1           7  ...       0            1            0            0   \n",
       "2          12  ...       0            0            1            0   \n",
       "3          14  ...       0            1            0            0   \n",
       "4           4  ...       0            0            1            0   \n",
       "\n",
       "   habit_of_cigarette_0  habit_of_cigarette_1  habit_of_cigarette_2  \\\n",
       "0                     0                     0                     1   \n",
       "1                     0                     0                     0   \n",
       "2                     0                     0                     1   \n",
       "3                     1                     0                     0   \n",
       "4                     0                     0                     0   \n",
       "\n",
       "   habit_of_cigarette_3  performance_status_0  performance_status_1  \n",
       "0                     0                     0                     1  \n",
       "1                     1                     1                     0  \n",
       "2                     0                     0                     1  \n",
       "3                     0                     0                     1  \n",
       "4                     1                     0                     1  \n",
       "\n",
       "[5 rows x 47 columns]"
      ]
     },
     "execution_count": 49,
     "metadata": {},
     "output_type": "execute_result"
    }
   ],
   "source": [
    "# dataframe with dummys\n",
    "dc = pd.DataFrame(pd.get_dummies(df.drop('class_of_diagnosis', axis=1)))\n",
    "dc.head()"
   ]
  },
  {
   "cell_type": "markdown",
   "metadata": {},
   "source": [
    "### Correlation matrix"
   ]
  },
  {
   "cell_type": "code",
   "execution_count": 50,
   "metadata": {},
   "outputs": [
    {
     "data": {
      "image/png": "[encoded data removed]",
      "text/plain": [
       "<Figure size 1440x1440 with 2 Axes>"
      ]
     },
     "metadata": {},
     "output_type": "display_data"
    }
   ],
   "source": [
    "import seaborn as sns\n",
    "\n",
    "corrMatrix = df.select_dtypes(include='number').corr()\n",
    "\n",
    "plt.rcParams['figure.figsize'] = [20, 20]\n",
    "sns.heatmap(corrMatrix)\n",
    "plt.show() "
   ]
  },
  {
   "cell_type": "markdown",
   "metadata": {},
   "source": [
    "### Cramer's V"
   ]
  },
  {
   "cell_type": "markdown",
   "metadata": {},
   "source": [
    "Measure of association between two nominal variables. Gives a value between 0 (no association) and +1. It is based on Pearson's chi-squared statistic."
   ]
  },
  {
   "cell_type": "code",
   "execution_count": 51,
   "metadata": {},
   "outputs": [
    {
     "data": {
      "image/png": "[encoded data removed]",
      "text/plain": [
       "<Figure size 1080x720 with 2 Axes>"
      ]
     },
     "metadata": {},
     "output_type": "display_data"
    }
   ],
   "source": [
    "#corrMatrixD = df.select_dtypes(exclude='number').astype('int').apply(lambda x : pd.factorize(x)[0]).corr(method='pearson', min_periods=1) # use of pd.factorize\n",
    "# above done directly with Pearson, code's coming from: https://stackoverflow.com/questions/48035381/correlation-among-multiple-categorical-variables-pandas\n",
    "# => gives almost same results\n",
    "\n",
    "from scipy.stats import chi2_contingency\n",
    "import numpy as np\n",
    "\n",
    "# def fonction calculant le V de Cramer\n",
    "def cramers_V(var1,var2) :\n",
    "  crosstab = np.array(pd.crosstab(var1,var2, rownames = None, colnames = None)) # Cross table building\n",
    "  stat = chi2_contingency(crosstab)[0] # Keeping of the test statistic of the Chi2 test\n",
    "  obs = np.sum(crosstab) # Number of observations\n",
    "  mini = min(crosstab.shape)-1 # Take the minimum value between the columns and the rows of the cross table\n",
    "  return (stat/(obs*mini))\n",
    "\n",
    "rows= []\n",
    "\n",
    "# selection uniquement des var de type categorielle\n",
    "dfCat = df.select_dtypes(exclude='number')\n",
    "for var1 in dfCat:\n",
    "  col = []\n",
    "  for var2 in dfCat :\n",
    "    cramers = cramers_V(dfCat[var1], dfCat[var2]) # Cramer's V test\n",
    "    col.append(round(cramers,2)) # Keeping of the rounded value of the Cramer's V  \n",
    "  rows.append(col)\n",
    "  \n",
    "cramers_results = np.array(rows)\n",
    "corrMatrixD = pd.DataFrame(cramers_results, columns = dfCat.columns, index = dfCat.columns)\n",
    "\n",
    "plt.rcParams['figure.figsize'] = [15, 10]\n",
    "sns.heatmap(corrMatrixD, annot=True)\n",
    "plt.show()"
   ]
  },
  {
   "cell_type": "markdown",
   "metadata": {},
   "source": [
    "### Cramer's between Y and categorical variables"
   ]
  },
  {
   "cell_type": "code",
   "execution_count": 52,
   "metadata": {},
   "outputs": [
    {
     "data": {
      "image/png": "[encoded data removed]",
      "text/plain": [
       "<Figure size 144x360 with 2 Axes>"
      ]
     },
     "metadata": {},
     "output_type": "display_data"
    }
   ],
   "source": [
    "# table with cat var and class_of_diagnosis\n",
    "dfYcat = pd.concat([df.select_dtypes(exclude='number'), df[\"class_of_diagnosis\"]], axis = 1)\n",
    "rows = []\n",
    "\n",
    "for var in dfYcat:\n",
    "  col = []\n",
    "  cramers = cramers_V(dfYcat[\"class_of_diagnosis\"], dfYcat[var]) # Cramer's V test\n",
    "  col.append(round(cramers,2)) # Keeping of the rounded value of the Cramer's V  \n",
    "  rows.append(col)\n",
    "  \n",
    "cramers_results = np.array(rows)\n",
    "corrMatrixYcat = pd.DataFrame(cramers_results, columns=[\"Diagnosis\"], index=dfYcat.columns)\n",
    "\n",
    "plt.rcParams['figure.figsize'] = [2, 5]\n",
    "sns.heatmap(corrMatrixYcat, annot=True)\n",
    "plt.show()"
   ]
  },
  {
   "cell_type": "markdown",
   "metadata": {},
   "source": [
    "## PCA "
   ]
  },
  {
   "cell_type": "code",
   "execution_count": 53,
   "metadata": {},
   "outputs": [],
   "source": [
    "import numpy as np\n",
    "from sklearn.decomposition import PCA\n",
    "from sklearn import preprocessing"
   ]
  },
  {
   "cell_type": "code",
   "execution_count": 54,
   "metadata": {},
   "outputs": [
    {
     "data": {
      "text/html": [
       "<div>\n",
       "<style scoped>\n",
       "    .dataframe tbody tr th:only-of-type {\n",
       "        vertical-align: middle;\n",
       "    }\n",
       "\n",
       "    .dataframe tbody tr th {\n",
       "        vertical-align: top;\n",
       "    }\n",
       "\n",
       "    .dataframe thead th {\n",
       "        text-align: right;\n",
       "    }\n",
       "</style>\n",
       "<table border=\"1\" class=\"dataframe\">\n",
       "  <thead>\n",
       "    <tr style=\"text-align: right;\">\n",
       "      <th></th>\n",
       "      <th>0</th>\n",
       "      <th>1</th>\n",
       "      <th>2</th>\n",
       "      <th>3</th>\n",
       "      <th>4</th>\n",
       "      <th>5</th>\n",
       "      <th>6</th>\n",
       "      <th>7</th>\n",
       "      <th>8</th>\n",
       "      <th>9</th>\n",
       "      <th>...</th>\n",
       "      <th>37</th>\n",
       "      <th>38</th>\n",
       "      <th>39</th>\n",
       "      <th>40</th>\n",
       "      <th>41</th>\n",
       "      <th>42</th>\n",
       "      <th>43</th>\n",
       "      <th>44</th>\n",
       "      <th>45</th>\n",
       "      <th>46</th>\n",
       "    </tr>\n",
       "  </thead>\n",
       "  <tbody>\n",
       "    <tr>\n",
       "      <th>0</th>\n",
       "      <td>-0.704904</td>\n",
       "      <td>0.396412</td>\n",
       "      <td>-0.621441</td>\n",
       "      <td>1.600137</td>\n",
       "      <td>3.939513</td>\n",
       "      <td>0.471849</td>\n",
       "      <td>0.682688</td>\n",
       "      <td>-1.253566</td>\n",
       "      <td>-0.408502</td>\n",
       "      <td>-0.167178</td>\n",
       "      <td>...</td>\n",
       "      <td>-0.055641</td>\n",
       "      <td>1.496663</td>\n",
       "      <td>-1.286755</td>\n",
       "      <td>-0.269903</td>\n",
       "      <td>-1.139242</td>\n",
       "      <td>-0.359054</td>\n",
       "      <td>2.236068</td>\n",
       "      <td>-0.427179</td>\n",
       "      <td>-0.957685</td>\n",
       "      <td>0.957685</td>\n",
       "    </tr>\n",
       "    <tr>\n",
       "      <th>1</th>\n",
       "      <td>0.023319</td>\n",
       "      <td>0.396412</td>\n",
       "      <td>0.903452</td>\n",
       "      <td>-0.624946</td>\n",
       "      <td>-0.943190</td>\n",
       "      <td>0.471849</td>\n",
       "      <td>0.682688</td>\n",
       "      <td>0.797724</td>\n",
       "      <td>0.505760</td>\n",
       "      <td>-0.765693</td>\n",
       "      <td>...</td>\n",
       "      <td>-0.055641</td>\n",
       "      <td>1.496663</td>\n",
       "      <td>-1.286755</td>\n",
       "      <td>-0.269903</td>\n",
       "      <td>-1.139242</td>\n",
       "      <td>-0.359054</td>\n",
       "      <td>-0.447214</td>\n",
       "      <td>2.340940</td>\n",
       "      <td>1.044185</td>\n",
       "      <td>-1.044185</td>\n",
       "    </tr>\n",
       "    <tr>\n",
       "      <th>2</th>\n",
       "      <td>-2.343406</td>\n",
       "      <td>0.396412</td>\n",
       "      <td>-0.438454</td>\n",
       "      <td>-0.624946</td>\n",
       "      <td>-0.943190</td>\n",
       "      <td>-2.119322</td>\n",
       "      <td>-1.464797</td>\n",
       "      <td>-1.253566</td>\n",
       "      <td>-1.206667</td>\n",
       "      <td>0.730595</td>\n",
       "      <td>...</td>\n",
       "      <td>-0.055641</td>\n",
       "      <td>-0.668153</td>\n",
       "      <td>0.777149</td>\n",
       "      <td>-0.269903</td>\n",
       "      <td>-1.139242</td>\n",
       "      <td>-0.359054</td>\n",
       "      <td>2.236068</td>\n",
       "      <td>-0.427179</td>\n",
       "      <td>-0.957685</td>\n",
       "      <td>0.957685</td>\n",
       "    </tr>\n",
       "    <tr>\n",
       "      <th>3</th>\n",
       "      <td>-1.433127</td>\n",
       "      <td>0.396412</td>\n",
       "      <td>-1.231399</td>\n",
       "      <td>-0.624946</td>\n",
       "      <td>-0.518607</td>\n",
       "      <td>-2.119322</td>\n",
       "      <td>0.682688</td>\n",
       "      <td>0.797724</td>\n",
       "      <td>-0.449136</td>\n",
       "      <td>1.329110</td>\n",
       "      <td>...</td>\n",
       "      <td>-0.055641</td>\n",
       "      <td>1.496663</td>\n",
       "      <td>-1.286755</td>\n",
       "      <td>-0.269903</td>\n",
       "      <td>0.877777</td>\n",
       "      <td>-0.359054</td>\n",
       "      <td>-0.447214</td>\n",
       "      <td>-0.427179</td>\n",
       "      <td>-0.957685</td>\n",
       "      <td>0.957685</td>\n",
       "    </tr>\n",
       "    <tr>\n",
       "      <th>4</th>\n",
       "      <td>-0.704904</td>\n",
       "      <td>0.396412</td>\n",
       "      <td>-1.231399</td>\n",
       "      <td>1.600137</td>\n",
       "      <td>-0.837044</td>\n",
       "      <td>0.471849</td>\n",
       "      <td>0.682688</td>\n",
       "      <td>-1.253566</td>\n",
       "      <td>-0.097943</td>\n",
       "      <td>-1.663465</td>\n",
       "      <td>...</td>\n",
       "      <td>-0.055641</td>\n",
       "      <td>-0.668153</td>\n",
       "      <td>0.777149</td>\n",
       "      <td>-0.269903</td>\n",
       "      <td>-1.139242</td>\n",
       "      <td>-0.359054</td>\n",
       "      <td>-0.447214</td>\n",
       "      <td>2.340940</td>\n",
       "      <td>-0.957685</td>\n",
       "      <td>0.957685</td>\n",
       "    </tr>\n",
       "  </tbody>\n",
       "</table>\n",
       "<p>5 rows × 47 columns</p>\n",
       "</div>"
      ],
      "text/plain": [
       "         0         1         2         3         4         5         6   \\\n",
       "0 -0.704904  0.396412 -0.621441  1.600137  3.939513  0.471849  0.682688   \n",
       "1  0.023319  0.396412  0.903452 -0.624946 -0.943190  0.471849  0.682688   \n",
       "2 -2.343406  0.396412 -0.438454 -0.624946 -0.943190 -2.119322 -1.464797   \n",
       "3 -1.433127  0.396412 -1.231399 -0.624946 -0.518607 -2.119322  0.682688   \n",
       "4 -0.704904  0.396412 -1.231399  1.600137 -0.837044  0.471849  0.682688   \n",
       "\n",
       "         7         8         9   ...        37        38        39        40  \\\n",
       "0 -1.253566 -0.408502 -0.167178  ... -0.055641  1.496663 -1.286755 -0.269903   \n",
       "1  0.797724  0.505760 -0.765693  ... -0.055641  1.496663 -1.286755 -0.269903   \n",
       "2 -1.253566 -1.206667  0.730595  ... -0.055641 -0.668153  0.777149 -0.269903   \n",
       "3  0.797724 -0.449136  1.329110  ... -0.055641  1.496663 -1.286755 -0.269903   \n",
       "4 -1.253566 -0.097943 -1.663465  ... -0.055641 -0.668153  0.777149 -0.269903   \n",
       "\n",
       "         41        42        43        44        45        46  \n",
       "0 -1.139242 -0.359054  2.236068 -0.427179 -0.957685  0.957685  \n",
       "1 -1.139242 -0.359054 -0.447214  2.340940  1.044185 -1.044185  \n",
       "2 -1.139242 -0.359054  2.236068 -0.427179 -0.957685  0.957685  \n",
       "3  0.877777 -0.359054 -0.447214 -0.427179 -0.957685  0.957685  \n",
       "4 -1.139242 -0.359054 -0.447214  2.340940 -0.957685  0.957685  \n",
       "\n",
       "[5 rows x 47 columns]"
      ]
     },
     "execution_count": 54,
     "metadata": {},
     "output_type": "execute_result"
    }
   ],
   "source": [
    "X = dc#df.select_dtypes(include='number')\n",
    "scaler = preprocessing.StandardScaler().fit(X) # scaler\n",
    "\n",
    "X_scaled = pd.DataFrame(scaler.transform(X)) # scaling X\n",
    "y = df[\"class_of_diagnosis\"]\n",
    "X_scaled.head() "
   ]
  },
  {
   "cell_type": "code",
   "execution_count": 55,
   "metadata": {},
   "outputs": [
    {
     "data": {
      "text/plain": [
       "0.7188475295223933"
      ]
     },
     "execution_count": 55,
     "metadata": {},
     "output_type": "execute_result"
    }
   ],
   "source": [
    "n_components = 19\n",
    "\n",
    "#PCA\n",
    "pca = PCA(n_components=n_components)\n",
    "X_pca = pca.fit_transform(X_scaled)\n",
    "\n",
    "sum(pca.explained_variance_ratio_) # sum of the % of variance explained by earch of the selected components"
   ]
  },
  {
   "cell_type": "code",
   "execution_count": 56,
   "metadata": {},
   "outputs": [
    {
     "data": {
      "image/png": "[encoded data removed]",
      "text/plain": [
       "<Figure size 576x576 with 1 Axes>"
      ]
     },
     "metadata": {},
     "output_type": "display_data"
    }
   ],
   "source": [
    "colors = [\"navy\", \"turquoise\"]#, \"pink\"]\n",
    "\n",
    "plt.figure(figsize=(8, 8))\n",
    "for color, i, target_name in zip(colors, [0, 1], np.array([\"Healthy\", \"Not healthy\"])):\n",
    "    plt.scatter(\n",
    "        X_pca[y == i, 0],\n",
    "        X_pca[y == i, 1],\n",
    "        color=color,\n",
    "        lw=2,\n",
    "        label=target_name,\n",
    "    )\n",
    "\n",
    "plt.title(\"PCA of our dataset\")\n",
    "plt.legend(loc=\"best\", shadow=False, scatterpoints=1)\n",
    "\n",
    "plt.show()"
   ]
  },
  {
   "cell_type": "code",
   "execution_count": 57,
   "metadata": {},
   "outputs": [],
   "source": [
    "from prince import FAMD"
   ]
  },
  {
   "cell_type": "code",
   "execution_count": 58,
   "metadata": {},
   "outputs": [],
   "source": [
    "famd = FAMD(n_components=2,\n",
    "            n_iter=3,\n",
    "            copy=True,\n",
    "            check_input=True,\n",
    "            engine='auto',\n",
    "            random_state=42)"
   ]
  },
  {
   "cell_type": "code",
   "execution_count": 59,
   "metadata": {},
   "outputs": [],
   "source": [
    "#df[\"lung_side\"] = pd.Categorical(df[\"lung_side\"], ordered=False)\n",
    "#famd.fit(df.drop(\"class_of_diagnosis\", axis=1))"
   ]
  },
  {
   "cell_type": "markdown",
   "metadata": {},
   "source": [
    "## Modelling"
   ]
  },
  {
   "cell_type": "code",
   "execution_count": 193,
   "metadata": {},
   "outputs": [],
   "source": [
    "# modelisation modules\n",
    "from pprint import pprint\n",
    "from numpy import mean, std\n",
    "from sklearn.model_selection import cross_val_score, GridSearchCV, RepeatedStratifiedKFold\n",
    "from sklearn.pipeline import Pipeline\n",
    "from matplotlib import pyplot\n",
    "from sklearn import preprocessing\n",
    "from sklearn import metrics\n",
    "from sklearn.linear_model import LogisticRegression\n",
    "from sklearn.model_selection import train_test_split\n",
    "from sklearn.feature_selection import RFE, RFECV\n",
    "from sklearn.ensemble import RandomForestClassifier\n",
    "from xgboost import XGBClassifier, to_graphviz\n",
    "from sklearn.tree import DecisionTreeClassifier  \n",
    "\n",
    "\n",
    "# plot configuration\n",
    "plt.rcParams['figure.figsize'] = [10, 10]"
   ]
  },
  {
   "cell_type": "code",
   "execution_count": 194,
   "metadata": {},
   "outputs": [
    {
     "name": "stdout",
     "output_type": "stream",
     "text": [
      "Index(['age', 'asbestos_exposure', 'duration_of_asbestos_exposure', 'cytology',\n",
      "       'duration_of_symptoms', 'dyspnoea', 'ache_on_chest', 'weakness',\n",
      "       'white_blood', 'cell_count', 'hemoglobin', 'platelet_count',\n",
      "       'sedimentation', 'blood_lactic_dehydrogenise', 'alkaline_phosphatise',\n",
      "       'total_protein', 'albumin', 'glucose', 'pleural_lactic_dehydrogenise',\n",
      "       'pleural_protein', 'pleural_albumin', 'pleural_glucose', 'dead_or_not',\n",
      "       'pleural_effusion', 'pleural_thickness_on_tomography',\n",
      "       'pleural_level_of_acidity', 'C_reactive_protein', 'gender_0',\n",
      "       'gender_1', 'city_0', 'city_1', 'city_2', 'city_3', 'city_4', 'city_5',\n",
      "       'city_6', 'city_7', 'city_8', 'lung_side_0', 'lung_side_1',\n",
      "       'lung_side_2', 'habit_of_cigarette_0', 'habit_of_cigarette_1',\n",
      "       'habit_of_cigarette_2', 'habit_of_cigarette_3', 'performance_status_0',\n",
      "       'performance_status_1'],\n",
      "      dtype='object')\n"
     ]
    }
   ],
   "source": [
    "# variables used for modelisation\n",
    "print(dc.columns) # for now we keep variables in terms of dummys"
   ]
  },
  {
   "cell_type": "code",
   "execution_count": 195,
   "metadata": {},
   "outputs": [
    {
     "data": {
      "text/html": [
       "<div>\n",
       "<style scoped>\n",
       "    .dataframe tbody tr th:only-of-type {\n",
       "        vertical-align: middle;\n",
       "    }\n",
       "\n",
       "    .dataframe tbody tr th {\n",
       "        vertical-align: top;\n",
       "    }\n",
       "\n",
       "    .dataframe thead th {\n",
       "        text-align: right;\n",
       "    }\n",
       "</style>\n",
       "<table border=\"1\" class=\"dataframe\">\n",
       "  <thead>\n",
       "    <tr style=\"text-align: right;\">\n",
       "      <th></th>\n",
       "      <th>age</th>\n",
       "      <th>asbestos_exposure</th>\n",
       "      <th>duration_of_asbestos_exposure</th>\n",
       "      <th>cytology</th>\n",
       "      <th>duration_of_symptoms</th>\n",
       "      <th>dyspnoea</th>\n",
       "      <th>ache_on_chest</th>\n",
       "      <th>weakness</th>\n",
       "      <th>white_blood</th>\n",
       "      <th>cell_count</th>\n",
       "      <th>...</th>\n",
       "      <th>city_8</th>\n",
       "      <th>lung_side_0</th>\n",
       "      <th>lung_side_1</th>\n",
       "      <th>lung_side_2</th>\n",
       "      <th>habit_of_cigarette_0</th>\n",
       "      <th>habit_of_cigarette_1</th>\n",
       "      <th>habit_of_cigarette_2</th>\n",
       "      <th>habit_of_cigarette_3</th>\n",
       "      <th>performance_status_0</th>\n",
       "      <th>performance_status_1</th>\n",
       "    </tr>\n",
       "  </thead>\n",
       "  <tbody>\n",
       "    <tr>\n",
       "      <th>0</th>\n",
       "      <td>47.0</td>\n",
       "      <td>1</td>\n",
       "      <td>20.0</td>\n",
       "      <td>1</td>\n",
       "      <td>24.0</td>\n",
       "      <td>1</td>\n",
       "      <td>1</td>\n",
       "      <td>0</td>\n",
       "      <td>8050.0</td>\n",
       "      <td>9</td>\n",
       "      <td>...</td>\n",
       "      <td>0</td>\n",
       "      <td>1</td>\n",
       "      <td>0</td>\n",
       "      <td>0</td>\n",
       "      <td>0</td>\n",
       "      <td>0</td>\n",
       "      <td>1</td>\n",
       "      <td>0</td>\n",
       "      <td>0</td>\n",
       "      <td>1</td>\n",
       "    </tr>\n",
       "    <tr>\n",
       "      <th>1</th>\n",
       "      <td>55.0</td>\n",
       "      <td>1</td>\n",
       "      <td>45.0</td>\n",
       "      <td>0</td>\n",
       "      <td>1.0</td>\n",
       "      <td>1</td>\n",
       "      <td>1</td>\n",
       "      <td>1</td>\n",
       "      <td>11200.0</td>\n",
       "      <td>7</td>\n",
       "      <td>...</td>\n",
       "      <td>0</td>\n",
       "      <td>1</td>\n",
       "      <td>0</td>\n",
       "      <td>0</td>\n",
       "      <td>0</td>\n",
       "      <td>0</td>\n",
       "      <td>0</td>\n",
       "      <td>1</td>\n",
       "      <td>1</td>\n",
       "      <td>0</td>\n",
       "    </tr>\n",
       "    <tr>\n",
       "      <th>2</th>\n",
       "      <td>29.0</td>\n",
       "      <td>1</td>\n",
       "      <td>23.0</td>\n",
       "      <td>0</td>\n",
       "      <td>1.0</td>\n",
       "      <td>0</td>\n",
       "      <td>0</td>\n",
       "      <td>0</td>\n",
       "      <td>5300.0</td>\n",
       "      <td>12</td>\n",
       "      <td>...</td>\n",
       "      <td>0</td>\n",
       "      <td>0</td>\n",
       "      <td>1</td>\n",
       "      <td>0</td>\n",
       "      <td>0</td>\n",
       "      <td>0</td>\n",
       "      <td>1</td>\n",
       "      <td>0</td>\n",
       "      <td>0</td>\n",
       "      <td>1</td>\n",
       "    </tr>\n",
       "    <tr>\n",
       "      <th>3</th>\n",
       "      <td>39.0</td>\n",
       "      <td>1</td>\n",
       "      <td>10.0</td>\n",
       "      <td>0</td>\n",
       "      <td>3.0</td>\n",
       "      <td>0</td>\n",
       "      <td>1</td>\n",
       "      <td>1</td>\n",
       "      <td>7910.0</td>\n",
       "      <td>14</td>\n",
       "      <td>...</td>\n",
       "      <td>0</td>\n",
       "      <td>1</td>\n",
       "      <td>0</td>\n",
       "      <td>0</td>\n",
       "      <td>1</td>\n",
       "      <td>0</td>\n",
       "      <td>0</td>\n",
       "      <td>0</td>\n",
       "      <td>0</td>\n",
       "      <td>1</td>\n",
       "    </tr>\n",
       "    <tr>\n",
       "      <th>4</th>\n",
       "      <td>47.0</td>\n",
       "      <td>1</td>\n",
       "      <td>10.0</td>\n",
       "      <td>1</td>\n",
       "      <td>1.5</td>\n",
       "      <td>1</td>\n",
       "      <td>1</td>\n",
       "      <td>0</td>\n",
       "      <td>9120.0</td>\n",
       "      <td>4</td>\n",
       "      <td>...</td>\n",
       "      <td>0</td>\n",
       "      <td>0</td>\n",
       "      <td>1</td>\n",
       "      <td>0</td>\n",
       "      <td>0</td>\n",
       "      <td>0</td>\n",
       "      <td>0</td>\n",
       "      <td>1</td>\n",
       "      <td>0</td>\n",
       "      <td>1</td>\n",
       "    </tr>\n",
       "  </tbody>\n",
       "</table>\n",
       "<p>5 rows × 47 columns</p>\n",
       "</div>"
      ],
      "text/plain": [
       "    age  asbestos_exposure  duration_of_asbestos_exposure  cytology  \\\n",
       "0  47.0                  1                           20.0         1   \n",
       "1  55.0                  1                           45.0         0   \n",
       "2  29.0                  1                           23.0         0   \n",
       "3  39.0                  1                           10.0         0   \n",
       "4  47.0                  1                           10.0         1   \n",
       "\n",
       "   duration_of_symptoms  dyspnoea  ache_on_chest  weakness  white_blood  \\\n",
       "0                  24.0         1              1         0       8050.0   \n",
       "1                   1.0         1              1         1      11200.0   \n",
       "2                   1.0         0              0         0       5300.0   \n",
       "3                   3.0         0              1         1       7910.0   \n",
       "4                   1.5         1              1         0       9120.0   \n",
       "\n",
       "   cell_count  ...  city_8  lung_side_0  lung_side_1  lung_side_2  \\\n",
       "0           9  ...       0            1            0            0   \n",
       "1           7  ...       0            1            0            0   \n",
       "2          12  ...       0            0            1            0   \n",
       "3          14  ...       0            1            0            0   \n",
       "4           4  ...       0            0            1            0   \n",
       "\n",
       "   habit_of_cigarette_0  habit_of_cigarette_1  habit_of_cigarette_2  \\\n",
       "0                     0                     0                     1   \n",
       "1                     0                     0                     0   \n",
       "2                     0                     0                     1   \n",
       "3                     1                     0                     0   \n",
       "4                     0                     0                     0   \n",
       "\n",
       "   habit_of_cigarette_3  performance_status_0  performance_status_1  \n",
       "0                     0                     0                     1  \n",
       "1                     1                     1                     0  \n",
       "2                     0                     0                     1  \n",
       "3                     0                     0                     1  \n",
       "4                     1                     0                     1  \n",
       "\n",
       "[5 rows x 47 columns]"
      ]
     },
     "execution_count": 195,
     "metadata": {},
     "output_type": "execute_result"
    }
   ],
   "source": [
    "dc.head()"
   ]
  },
  {
   "cell_type": "code",
   "execution_count": 196,
   "metadata": {},
   "outputs": [],
   "source": [
    "X = dc.copy()#.drop(\"class_of_diagnosis\",axis=1).copy()\n",
    "y = df[\"class_of_diagnosis\"].copy()\n",
    "X_train, X_test, y_train, y_test = train_test_split(X, y, test_size=0.2, random_state=1, shuffle=True)"
   ]
  },
  {
   "cell_type": "code",
   "execution_count": 197,
   "metadata": {},
   "outputs": [
    {
     "data": {
      "text/plain": [
       "age                                float64\n",
       "asbestos_exposure                    int64\n",
       "duration_of_asbestos_exposure      float64\n",
       "cytology                             int64\n",
       "duration_of_symptoms               float64\n",
       "dyspnoea                             int64\n",
       "ache_on_chest                        int64\n",
       "weakness                             int64\n",
       "white_blood                        float64\n",
       "cell_count                           int64\n",
       "hemoglobin                           int64\n",
       "platelet_count                     float64\n",
       "sedimentation                      float64\n",
       "blood_lactic_dehydrogenise         float64\n",
       "alkaline_phosphatise               float64\n",
       "total_protein                      float64\n",
       "albumin                            float64\n",
       "glucose                            float64\n",
       "pleural_lactic_dehydrogenise       float64\n",
       "pleural_protein                    float64\n",
       "pleural_albumin                    float64\n",
       "pleural_glucose                    float64\n",
       "dead_or_not                          int64\n",
       "pleural_effusion                     int64\n",
       "pleural_thickness_on_tomography      int64\n",
       "pleural_level_of_acidity             int64\n",
       "C_reactive_protein                   int64\n",
       "gender_0                             uint8\n",
       "gender_1                             uint8\n",
       "city_0                               uint8\n",
       "city_1                               uint8\n",
       "city_2                               uint8\n",
       "city_3                               uint8\n",
       "city_4                               uint8\n",
       "city_5                               uint8\n",
       "city_6                               uint8\n",
       "city_7                               uint8\n",
       "city_8                               uint8\n",
       "lung_side_0                          uint8\n",
       "lung_side_1                          uint8\n",
       "lung_side_2                          uint8\n",
       "habit_of_cigarette_0                 uint8\n",
       "habit_of_cigarette_1                 uint8\n",
       "habit_of_cigarette_2                 uint8\n",
       "habit_of_cigarette_3                 uint8\n",
       "performance_status_0                 uint8\n",
       "performance_status_1                 uint8\n",
       "dtype: object"
      ]
     },
     "execution_count": 197,
     "metadata": {},
     "output_type": "execute_result"
    }
   ],
   "source": [
    "X_train.dtypes"
   ]
  },
  {
   "cell_type": "markdown",
   "metadata": {},
   "source": [
    "### 1st test: Multi-layer perceptron algorithm"
   ]
  },
  {
   "cell_type": "code",
   "execution_count": 198,
   "metadata": {},
   "outputs": [],
   "source": [
    "from sklearn.neural_network import MLPClassifier\n",
    "from sklearn.preprocessing import StandardScaler "
   ]
  },
  {
   "cell_type": "code",
   "execution_count": 199,
   "metadata": {},
   "outputs": [],
   "source": [
    "scaler = StandardScaler()  \n",
    "scaler.fit(X_train)\n",
    "X_train_s = scaler.transform(X_train)\n",
    "X_test_s = scaler.transform(X_test)"
   ]
  },
  {
   "cell_type": "code",
   "execution_count": 200,
   "metadata": {},
   "outputs": [
    {
     "name": "stdout",
     "output_type": "stream",
     "text": [
      "{'activation': ['tanh', 'relu'],\n",
      " 'alpha': [0.0001, 0.05],\n",
      " 'hidden_layer_sizes': [(5, 1, 2),\n",
      "                        (10, 1, 2),\n",
      "                        (20, 1, 2),\n",
      "                        (25, 1, 2),\n",
      "                        (75, 1, 2),\n",
      "                        (100, 1, 2),\n",
      "                        (5, 2, 2),\n",
      "                        (10, 2, 2),\n",
      "                        (20, 2, 2),\n",
      "                        (25, 2, 2),\n",
      "                        (75, 2, 2),\n",
      "                        (100, 2, 2),\n",
      "                        (5, 3, 2),\n",
      "                        (10, 3, 2),\n",
      "                        (20, 3, 2),\n",
      "                        (25, 3, 2),\n",
      "                        (75, 3, 2),\n",
      "                        (100, 3, 2)],\n",
      " 'learning_rate': ['constant', 'adaptive'],\n",
      " 'learning_rate_init': [0.001, 0.01, 0.05, 0.1],\n",
      " 'solver': ['adam', 'sgd']}\n",
      "{'activation': 'tanh', 'alpha': 0.0001, 'hidden_layer_sizes': (75, 2, 2), 'learning_rate': 'constant', 'learning_rate_init': 0.01, 'solver': 'sgd'}\n"
     ]
    }
   ],
   "source": [
    "param_grid = {\n",
    "    'solver':['adam','sgd'],\n",
    "    'activation':['tanh','relu'],\n",
    "    'alpha':[0.0001,0.05],\n",
    "    'learning_rate':['constant','adaptive'],\n",
    "    'learning_rate_init': [0.001, 0.01, 0.05, 0.1],\n",
    "    'hidden_layer_sizes':[(5,1,2),(10,1,2),(20,1,2),(25,1,2),(75,1,2),(100,1,2),\n",
    "                          (5,2,2),(10,2,2),(20,2,2),(25,2,2),(75,2,2),(100,2,2),\n",
    "                          (5,3,2),(10,3,2),(20,3,2),(25,3,2),(75,3,2),(100,3,2)]\n",
    "}\n",
    "pprint(param_grid)\n",
    "\n",
    "optimal_params = GridSearchCV(\n",
    "    estimator=MLPClassifier(max_iter=1000, random_state=1),\n",
    "    param_grid=param_grid,\n",
    "    scoring = 'roc_auc',## For more scoring metics see: \n",
    "        ## https://scikit-learn.org/stable/modules/model_evaluation.html#scoring-parameter\n",
    "    verbose=0, # NOTE: If you want to see what Grid Search is doing, set verbose=2\n",
    "    n_jobs=10,\n",
    "    cv=3\n",
    ")\n",
    "\n",
    "optimal_params.fit(X_train_s, y_train)\n",
    "print(optimal_params.best_params_)"
   ]
  },
  {
   "cell_type": "code",
   "execution_count": 201,
   "metadata": {},
   "outputs": [
    {
     "data": {
      "text/plain": [
       "MLPClassifier(activation='tanh', hidden_layer_sizes=(75, 2, 2),\n",
       "              learning_rate_init=0.01, max_iter=1000, random_state=1,\n",
       "              solver='sgd')"
      ]
     },
     "execution_count": 201,
     "metadata": {},
     "output_type": "execute_result"
    }
   ],
   "source": [
    "clf_mlp = MLPClassifier(activation='tanh', alpha=0.0001, solver='sgd', \n",
    "                        learning_rate='constant', learning_rate_init=0.01,\n",
    "                        hidden_layer_sizes=(75,2,2), max_iter=1000,\n",
    "                        random_state=1)\n",
    "clf_mlp.fit(X_train_s, y_train)"
   ]
  },
  {
   "cell_type": "code",
   "execution_count": 202,
   "metadata": {},
   "outputs": [
    {
     "name": "stdout",
     "output_type": "stream",
     "text": [
      "              precision    recall  f1-score   support\n",
      "\n",
      "           0       0.81      0.89      0.85        47\n",
      "           1       0.62      0.44      0.52        18\n",
      "\n",
      "    accuracy                           0.77        65\n",
      "   macro avg       0.71      0.67      0.68        65\n",
      "weighted avg       0.75      0.77      0.76        65\n",
      "\n",
      "0.3781877902948909\n"
     ]
    }
   ],
   "source": [
    "# predictions\n",
    "pred = clf_mlp.predict(X_test_s)\n",
    "print(metrics.classification_report(y_test, pred))\n",
    "print(metrics.matthews_corrcoef(y_test, pred))"
   ]
  },
  {
   "cell_type": "code",
   "execution_count": 203,
   "metadata": {},
   "outputs": [
    {
     "name": "stdout",
     "output_type": "stream",
     "text": [
      "0.7692307692307693\n"
     ]
    }
   ],
   "source": [
    "# Use score method to get accuracy of model\n",
    "score = clf_mlp.score(X_test_s, y_test)\n",
    "print(score)"
   ]
  },
  {
   "cell_type": "code",
   "execution_count": 204,
   "metadata": {},
   "outputs": [
    {
     "data": {
      "text/plain": [
       "array([[0.98935332, 0.01064668],\n",
       "       [0.73576716, 0.26423284],\n",
       "       [0.88601761, 0.11398239],\n",
       "       [0.95234894, 0.04765106],\n",
       "       [0.99231216, 0.00768784],\n",
       "       [0.99391776, 0.00608224],\n",
       "       [0.97991646, 0.02008354],\n",
       "       [0.99385942, 0.00614058],\n",
       "       [0.99412709, 0.00587291],\n",
       "       [0.99407608, 0.00592392],\n",
       "       [0.96890722, 0.03109278],\n",
       "       [0.99122708, 0.00877292],\n",
       "       [0.99361622, 0.00638378],\n",
       "       [0.02912645, 0.97087355],\n",
       "       [0.99312688, 0.00687312],\n",
       "       [0.99048679, 0.00951321],\n",
       "       [0.99361067, 0.00638933],\n",
       "       [0.99398428, 0.00601572],\n",
       "       [0.99392311, 0.00607689],\n",
       "       [0.98584115, 0.01415885],\n",
       "       [0.98989839, 0.01010161],\n",
       "       [0.9914142 , 0.0085858 ],\n",
       "       [0.19854191, 0.80145809],\n",
       "       [0.99265388, 0.00734612],\n",
       "       [0.99024726, 0.00975274],\n",
       "       [0.99260109, 0.00739891],\n",
       "       [0.97696274, 0.02303726],\n",
       "       [0.02932041, 0.97067959],\n",
       "       [0.99203521, 0.00796479],\n",
       "       [0.994134  , 0.005866  ],\n",
       "       [0.99338998, 0.00661002],\n",
       "       [0.99405416, 0.00594584],\n",
       "       [0.26859295, 0.73140705],\n",
       "       [0.99137246, 0.00862754],\n",
       "       [0.92284596, 0.07715404],\n",
       "       [0.99402281, 0.00597719],\n",
       "       [0.99411428, 0.00588572],\n",
       "       [0.11992639, 0.88007361],\n",
       "       [0.99413315, 0.00586685],\n",
       "       [0.99366647, 0.00633353],\n",
       "       [0.01251249, 0.98748751],\n",
       "       [0.08301985, 0.91698015],\n",
       "       [0.42076877, 0.57923123],\n",
       "       [0.99413503, 0.00586497],\n",
       "       [0.99398437, 0.00601563],\n",
       "       [0.01783897, 0.98216103],\n",
       "       [0.99401658, 0.00598342],\n",
       "       [0.94044894, 0.05955106],\n",
       "       [0.70486623, 0.29513377],\n",
       "       [0.01247339, 0.98752661],\n",
       "       [0.99413134, 0.00586866],\n",
       "       [0.93043806, 0.06956194],\n",
       "       [0.07327236, 0.92672764],\n",
       "       [0.97955558, 0.02044442],\n",
       "       [0.92805839, 0.07194161],\n",
       "       [0.98684642, 0.01315358],\n",
       "       [0.99236684, 0.00763316],\n",
       "       [0.98253237, 0.01746763],\n",
       "       [0.79583422, 0.20416578],\n",
       "       [0.99411221, 0.00588779],\n",
       "       [0.99387459, 0.00612541],\n",
       "       [0.06780125, 0.93219875],\n",
       "       [0.11725427, 0.88274573],\n",
       "       [0.99311374, 0.00688626],\n",
       "       [0.99379642, 0.00620358]])"
      ]
     },
     "execution_count": 204,
     "metadata": {},
     "output_type": "execute_result"
    }
   ],
   "source": [
    "clf_mlp.predict_proba(X_test_s)"
   ]
  },
  {
   "cell_type": "code",
   "execution_count": 205,
   "metadata": {},
   "outputs": [],
   "source": [
    "cm = metrics.confusion_matrix(y_test, pred)"
   ]
  },
  {
   "cell_type": "code",
   "execution_count": 206,
   "metadata": {},
   "outputs": [
    {
     "data": {
      "image/png": "[encoded data removed]",
      "text/plain": [
       "<Figure size 720x720 with 2 Axes>"
      ]
     },
     "metadata": {
      "needs_background": "light"
     },
     "output_type": "display_data"
    }
   ],
   "source": [
    "ax = plt.subplot()\n",
    "sns.heatmap(cm,annot=True,fmt=\"d\") \n",
    "ax.set_xlabel('Predictions'); ax.set_ylabel('True values'); \n",
    "ax.set_title('Confusion matrix'); \n",
    "plt.show() # not bad"
   ]
  },
  {
   "cell_type": "markdown",
   "metadata": {},
   "source": [
    "### SVM"
   ]
  },
  {
   "cell_type": "code",
   "execution_count": 207,
   "metadata": {},
   "outputs": [],
   "source": [
    "from sklearn import svm"
   ]
  },
  {
   "cell_type": "code",
   "execution_count": 208,
   "metadata": {},
   "outputs": [
    {
     "data": {
      "text/plain": [
       "SVC(random_state=1)"
      ]
     },
     "execution_count": 208,
     "metadata": {},
     "output_type": "execute_result"
    }
   ],
   "source": [
    "clf_svm = svm.SVC(random_state=1)\n",
    "clf_svm.fit(X_train_s, y_train)"
   ]
  },
  {
   "cell_type": "code",
   "execution_count": 209,
   "metadata": {},
   "outputs": [
    {
     "name": "stdout",
     "output_type": "stream",
     "text": [
      "              precision    recall  f1-score   support\n",
      "\n",
      "           0       0.76      1.00      0.86        47\n",
      "           1       1.00      0.17      0.29        18\n",
      "\n",
      "    accuracy                           0.77        65\n",
      "   macro avg       0.88      0.58      0.57        65\n",
      "weighted avg       0.83      0.77      0.70        65\n",
      "\n",
      "0.35544913281861495\n"
     ]
    }
   ],
   "source": [
    "# predictions\n",
    "pred = clf_svm.predict(X_test_s)\n",
    "print(metrics.classification_report(y_test, pred))\n",
    "print(metrics.matthews_corrcoef(y_test, pred))"
   ]
  },
  {
   "cell_type": "code",
   "execution_count": 210,
   "metadata": {},
   "outputs": [
    {
     "name": "stdout",
     "output_type": "stream",
     "text": [
      "0.7692307692307693\n"
     ]
    }
   ],
   "source": [
    "score = clf_svm.score(X_test_s, y_test.values)\n",
    "print(score)"
   ]
  },
  {
   "cell_type": "code",
   "execution_count": 211,
   "metadata": {},
   "outputs": [
    {
     "data": {
      "image/png": "[encoded data removed]",
      "text/plain": [
       "<Figure size 720x720 with 2 Axes>"
      ]
     },
     "metadata": {
      "needs_background": "light"
     },
     "output_type": "display_data"
    }
   ],
   "source": [
    "pred = clf_svm.predict(X_test_s)\n",
    "\n",
    "cm = metrics.confusion_matrix(y_test, pred)\n",
    "\n",
    "ax = plt.subplot()\n",
    "sns.heatmap(cm,annot=True,fmt=\"d\") \n",
    "ax.set_xlabel('Prediction'); ax.set_ylabel('True labels'); \n",
    "ax.set_title('Confusion matrix'); \n",
    "plt.show()"
   ]
  },
  {
   "cell_type": "markdown",
   "metadata": {},
   "source": [
    "### Recursive feature selection and Decision Tree"
   ]
  },
  {
   "cell_type": "code",
   "execution_count": 212,
   "metadata": {
    "scrolled": true
   },
   "outputs": [
    {
     "name": "stdout",
     "output_type": "stream",
     "text": [
      ">10 0.650 (0.082)\n",
      ">11 0.645 (0.082)\n",
      ">12 0.651 (0.081)\n",
      ">13 0.674 (0.087)\n",
      ">14 0.671 (0.073)\n",
      ">15 0.661 (0.069)\n",
      ">16 0.676 (0.089)\n",
      ">17 0.664 (0.079)\n",
      ">18 0.677 (0.087)\n",
      ">19 0.690 (0.099)\n",
      ">20 0.684 (0.084)\n",
      ">21 0.684 (0.090)\n",
      ">22 0.679 (0.094)\n",
      ">23 0.678 (0.095)\n",
      ">24 0.675 (0.087)\n",
      ">25 0.678 (0.097)\n",
      ">26 0.680 (0.084)\n",
      ">27 0.685 (0.090)\n",
      ">28 0.681 (0.094)\n",
      ">29 0.680 (0.097)\n",
      ">30 0.667 (0.107)\n"
     ]
    },
    {
     "data": {
      "image/png": "[encoded data removed]",
      "text/plain": [
       "<Figure size 720x720 with 1 Axes>"
      ]
     },
     "metadata": {
      "needs_background": "light"
     },
     "output_type": "display_data"
    }
   ],
   "source": [
    "# get a list of models to evaluate\n",
    "def get_models():\n",
    "    models = dict()\n",
    "    for i in range(10, 31):\n",
    "        rfe = RFE(estimator=DecisionTreeClassifier(), n_features_to_select=i)\n",
    "        model = DecisionTreeClassifier()\n",
    "        models[str(i)] = Pipeline(steps=[('s',rfe),('m',model)])\n",
    "    return models\n",
    " \n",
    "# evaluate a give model using cross-validation\n",
    "def evaluate_model(model, X, y):\n",
    "    cv = RepeatedStratifiedKFold(n_splits=10, n_repeats=3, random_state=1)\n",
    "    scores = cross_val_score(model, X, y, scoring='accuracy', cv=cv, n_jobs=-1, error_score='raise')\n",
    "    return scores\n",
    " \n",
    "# define dataset\n",
    "#X, y = get_dataset()\n",
    "# get the models to evaluate\n",
    "models = get_models()\n",
    "# evaluate the models and store results\n",
    "results, names = list(), list()\n",
    "for name, model in models.items():\n",
    "    scores = evaluate_model(model, X, y)\n",
    "    results.append(scores)\n",
    "    names.append(name)\n",
    "    print('>%s %.3f (%.3f)' % (name, mean(scores), std(scores)))\n",
    "# plot model performance for comparison\n",
    "pyplot.boxplot(results, labels=names, showmeans=True)\n",
    "pyplot.show() # not significant changes in score when increasing the number of variables"
   ]
  },
  {
   "cell_type": "code",
   "execution_count": 213,
   "metadata": {},
   "outputs": [
    {
     "data": {
      "text/plain": [
       "DecisionTreeClassifier()"
      ]
     },
     "execution_count": 213,
     "metadata": {},
     "output_type": "execute_result"
    }
   ],
   "source": [
    "tree = DecisionTreeClassifier()\n",
    "tree.fit(X_train, y_train)"
   ]
  },
  {
   "cell_type": "code",
   "execution_count": 215,
   "metadata": {},
   "outputs": [
    {
     "name": "stdout",
     "output_type": "stream",
     "text": [
      "              precision    recall  f1-score   support\n",
      "\n",
      "           0       0.80      0.83      0.81        47\n",
      "           1       0.50      0.44      0.47        18\n",
      "\n",
      "    accuracy                           0.72        65\n",
      "   macro avg       0.65      0.64      0.64        65\n",
      "weighted avg       0.71      0.72      0.72        65\n",
      "\n",
      "0.2848687251571906\n"
     ]
    }
   ],
   "source": [
    "# predictions\n",
    "pred = tree.predict(X_test)\n",
    "print(metrics.classification_report(y_test, pred))\n",
    "print(metrics.matthews_corrcoef(y_test, pred))"
   ]
  },
  {
   "cell_type": "code",
   "execution_count": 216,
   "metadata": {},
   "outputs": [
    {
     "name": "stdout",
     "output_type": "stream",
     "text": [
      "0.7230769230769231\n"
     ]
    }
   ],
   "source": [
    "score = tree.score(X_test, y_test)\n",
    "print(score)"
   ]
  },
  {
   "cell_type": "code",
   "execution_count": 217,
   "metadata": {},
   "outputs": [
    {
     "data": {
      "image/png": "[encoded data removed]",
      "text/plain": [
       "<Figure size 720x720 with 2 Axes>"
      ]
     },
     "metadata": {
      "needs_background": "light"
     },
     "output_type": "display_data"
    }
   ],
   "source": [
    "pred = tree.predict(X_test)\n",
    "\n",
    "cm = metrics.confusion_matrix(y_test, pred)\n",
    "\n",
    "ax = plt.subplot()\n",
    "sns.heatmap(cm,annot=True,fmt=\"d\") \n",
    "ax.set_xlabel('Prediction'); ax.set_ylabel('True labels'); \n",
    "ax.set_title('Confusion matrix'); \n",
    "plt.show()"
   ]
  },
  {
   "cell_type": "markdown",
   "metadata": {},
   "source": [
    "### Régression logistique"
   ]
  },
  {
   "cell_type": "code",
   "execution_count": 218,
   "metadata": {},
   "outputs": [
    {
     "data": {
      "text/plain": [
       "LogisticRegression(max_iter=10000)"
      ]
     },
     "execution_count": 218,
     "metadata": {},
     "output_type": "execute_result"
    }
   ],
   "source": [
    "logistic = LogisticRegression(max_iter=10000)\n",
    "logistic.fit(X_train, y_train)"
   ]
  },
  {
   "cell_type": "code",
   "execution_count": 219,
   "metadata": {},
   "outputs": [
    {
     "name": "stdout",
     "output_type": "stream",
     "text": [
      "              precision    recall  f1-score   support\n",
      "\n",
      "           0       0.75      0.91      0.83        47\n",
      "           1       0.50      0.22      0.31        18\n",
      "\n",
      "    accuracy                           0.72        65\n",
      "   macro avg       0.63      0.57      0.57        65\n",
      "weighted avg       0.68      0.72      0.68        65\n",
      "\n",
      "0.1867628043019129\n"
     ]
    }
   ],
   "source": [
    "# predictions\n",
    "pred = logistic.predict(X_test)\n",
    "print(metrics.classification_report(y_test.values, pred))\n",
    "print(metrics.matthews_corrcoef(y_test, pred))"
   ]
  },
  {
   "cell_type": "code",
   "execution_count": 220,
   "metadata": {},
   "outputs": [
    {
     "name": "stdout",
     "output_type": "stream",
     "text": [
      "0.7230769230769231\n"
     ]
    }
   ],
   "source": [
    "# Use score method to get accuracy of model\n",
    "score = logistic.score(X_test, y_test)\n",
    "print(score)"
   ]
  },
  {
   "cell_type": "code",
   "execution_count": 221,
   "metadata": {},
   "outputs": [],
   "source": [
    "cm_log = metrics.confusion_matrix(y_test, pred)"
   ]
  },
  {
   "cell_type": "code",
   "execution_count": 222,
   "metadata": {},
   "outputs": [
    {
     "data": {
      "image/png": "[encoded data removed]",
      "text/plain": [
       "<Figure size 720x720 with 2 Axes>"
      ]
     },
     "metadata": {
      "needs_background": "light"
     },
     "output_type": "display_data"
    }
   ],
   "source": [
    "ax = plt.subplot()\n",
    "sns.heatmap(cm_log,annot=True,fmt=\"d\") \n",
    "ax.set_xlabel('Prédictionq'); ax.set_ylabel('Labels réels'); \n",
    "ax.set_title('Matrice de confusion'); \n",
    "plt.show()"
   ]
  },
  {
   "cell_type": "markdown",
   "metadata": {},
   "source": [
    "### Random forest"
   ]
  },
  {
   "cell_type": "code",
   "execution_count": 223,
   "metadata": {},
   "outputs": [],
   "source": [
    "# RF (perhaps will improve decision tree performance)\n",
    "rf = RandomForestClassifier(n_estimators = 100,\n",
    "                           n_jobs = 10,\n",
    "                           oob_score = True,\n",
    "                           bootstrap = True,\n",
    "                           random_state = 42)   "
   ]
  },
  {
   "cell_type": "code",
   "execution_count": 224,
   "metadata": {},
   "outputs": [
    {
     "data": {
      "text/plain": [
       "RandomForestClassifier(n_jobs=10, oob_score=True, random_state=42)"
      ]
     },
     "execution_count": 224,
     "metadata": {},
     "output_type": "execute_result"
    }
   ],
   "source": [
    "rf.fit(X_train.values, y_train.values)"
   ]
  },
  {
   "cell_type": "markdown",
   "metadata": {},
   "source": [
    "#### Evaluation des performances"
   ]
  },
  {
   "cell_type": "code",
   "execution_count": 225,
   "metadata": {},
   "outputs": [],
   "source": [
    "# modules complementaires\n",
    "import shap\n",
    "from sklearn.inspection import permutation_importance"
   ]
  },
  {
   "cell_type": "code",
   "execution_count": 226,
   "metadata": {},
   "outputs": [
    {
     "name": "stdout",
     "output_type": "stream",
     "text": [
      "R^2 Training Score: 1.00 \n",
      "OOB Score: 0.74 \n",
      "R^2 Validation Score: 0.77\n"
     ]
    }
   ],
   "source": [
    "print('R^2 Training Score: {:.2f} \\nOOB Score: {:.2f} \\nR^2 Validation Score: {:.2f}'.format(rf.score(X_train.values, y_train.values), \n",
    "                                                                                             rf.oob_score_,\n",
    "                                                                                             rf.score(X_test.values, y_test.values))) "
   ]
  },
  {
   "cell_type": "code",
   "execution_count": 227,
   "metadata": {},
   "outputs": [
    {
     "data": {
      "text/plain": [
       "array([4.55645289e-02, 6.27935449e-03, 4.20504670e-02, 6.15002734e-03,\n",
       "       4.65540394e-02, 7.16138702e-03, 9.90520976e-03, 7.15700913e-03,\n",
       "       3.32516519e-02, 3.89309774e-02, 1.04896992e-02, 6.48059592e-02,\n",
       "       4.81785676e-02, 4.87724490e-02, 4.43676347e-02, 3.87893392e-02,\n",
       "       4.00816071e-02, 4.69474444e-02, 4.85856796e-02, 3.82515456e-02,\n",
       "       3.72504882e-02, 4.36210075e-02, 1.77684815e-03, 5.15141307e-03,\n",
       "       9.15068444e-03, 6.53814404e-03, 5.42232116e-02, 1.17742019e-02,\n",
       "       1.47690622e-02, 1.17101821e-02, 6.20650460e-03, 8.60952167e-03,\n",
       "       1.51027019e-02, 3.94910636e-03, 8.34945197e-05, 6.35835286e-03,\n",
       "       1.31043380e-03, 0.00000000e+00, 1.06754553e-02, 1.43177293e-02,\n",
       "       2.71366269e-02, 7.34970330e-03, 3.95821324e-03, 6.77758138e-03,\n",
       "       6.96349387e-03, 5.19718395e-03, 7.76407595e-03])"
      ]
     },
     "execution_count": 227,
     "metadata": {},
     "output_type": "execute_result"
    }
   ],
   "source": [
    "rf.feature_importances_"
   ]
  },
  {
   "cell_type": "code",
   "execution_count": 228,
   "metadata": {},
   "outputs": [],
   "source": [
    "df_meso = pd.concat([dc,df['class_of_diagnosis']],axis=1).loc[df['class_of_diagnosis'] == 1]"
   ]
  },
  {
   "cell_type": "code",
   "execution_count": 229,
   "metadata": {},
   "outputs": [
    {
     "data": {
      "image/png": "[encoded data removed]",
      "text/plain": [
       "<Figure size 720x720 with 1 Axes>"
      ]
     },
     "metadata": {
      "needs_background": "light"
     },
     "output_type": "display_data"
    }
   ],
   "source": [
    "sorted_idx = rf.feature_importances_.argsort()\n",
    "plt.barh(df_meso.columns[sorted_idx], rf.feature_importances_[sorted_idx])\n",
    "plt.xlabel(\"Feature importance when class_of_diagnosis=1 (RF)\")\n",
    "plt.show()"
   ]
  },
  {
   "cell_type": "markdown",
   "metadata": {},
   "source": [
    "Above = feature importance when class_of_diagnosis = 1.\n",
    "\n",
    "Below = permutation feature importance. The permutation feature importance is the decrease in a model score when a single feature value is randomly shuffled. It highlights which features contribute the most to the generalization power of the inspected model. Hence it tells how important the features are."
   ]
  },
  {
   "cell_type": "code",
   "execution_count": 230,
   "metadata": {},
   "outputs": [],
   "source": [
    "perm_importance = permutation_importance(rf, X_test.values, y_test.values)"
   ]
  },
  {
   "cell_type": "code",
   "execution_count": 231,
   "metadata": {},
   "outputs": [
    {
     "data": {
      "image/png": "[encoded data removed]",
      "text/plain": [
       "<Figure size 720x720 with 1 Axes>"
      ]
     },
     "metadata": {
      "needs_background": "light"
     },
     "output_type": "display_data"
    }
   ],
   "source": [
    "sorted_idx = perm_importance.importances_mean.argsort()\n",
    "plt.barh(df_meso.columns[sorted_idx], perm_importance.importances_mean[sorted_idx])\n",
    "plt.xlabel(\"Permutation Importance (RF)\")\n",
    "plt.show()"
   ]
  },
  {
   "cell_type": "code",
   "execution_count": 232,
   "metadata": {},
   "outputs": [],
   "source": [
    "explainer = shap.TreeExplainer(rf)\n",
    "shap_values = explainer.shap_values(X_test.values)"
   ]
  },
  {
   "cell_type": "code",
   "execution_count": 233,
   "metadata": {},
   "outputs": [
    {
     "data": {
      "image/png": "[encoded data removed]",
      "text/plain": [
       "<Figure size 576x684 with 1 Axes>"
      ]
     },
     "metadata": {
      "needs_background": "light"
     },
     "output_type": "display_data"
    }
   ],
   "source": [
    "shap.summary_plot(shap_values, X_test, plot_type=\"bar\")"
   ]
  },
  {
   "cell_type": "markdown",
   "metadata": {},
   "source": [
    "SHAP values interpret the impact of having a certain value  (in our case class_of_diagnosis = 1) for a given feature in comparison to the prediction we'd make if that feature took some baseline value.\n",
    "\n",
    "Given the three above criterion, the variables with the more importance are:\n",
    "\n",
    "* platelet count\n",
    "* duration of symptoms\n",
    "* glucose\n",
    "* cell_count\n",
    "* C_reactive_protein\n",
    "* lung_side_2\n",
    "* gender_1\n",
    "* lung_side 1\n",
    "* duration_of_asbestos_exposure\n",
    "* age"
   ]
  },
  {
   "cell_type": "code",
   "execution_count": 234,
   "metadata": {},
   "outputs": [
    {
     "name": "stdout",
     "output_type": "stream",
     "text": [
      "0.7692307692307693\n"
     ]
    }
   ],
   "source": [
    "# calcul du score\n",
    "score = rf.score(X_test.values, y_test.values)\n",
    "print(score)"
   ]
  },
  {
   "cell_type": "code",
   "execution_count": 235,
   "metadata": {},
   "outputs": [
    {
     "name": "stdout",
     "output_type": "stream",
     "text": [
      "              precision    recall  f1-score   support\n",
      "\n",
      "           0       0.76      1.00      0.86        47\n",
      "           1       1.00      0.17      0.29        18\n",
      "\n",
      "    accuracy                           0.77        65\n",
      "   macro avg       0.88      0.58      0.57        65\n",
      "weighted avg       0.83      0.77      0.70        65\n",
      "\n",
      "0.35544913281861495\n"
     ]
    }
   ],
   "source": [
    "# predictions\n",
    "pred = rf.predict(X_test.values)\n",
    "print(metrics.classification_report(y_test.values, pred))\n",
    "print(metrics.matthews_corrcoef(y_test, pred)) # good !"
   ]
  },
  {
   "cell_type": "code",
   "execution_count": 236,
   "metadata": {},
   "outputs": [],
   "source": [
    "# matrice de confusion\n",
    "cm = metrics.confusion_matrix(y_test, pred)"
   ]
  },
  {
   "cell_type": "code",
   "execution_count": 237,
   "metadata": {},
   "outputs": [
    {
     "data": {
      "image/png": "[encoded data removed]",
      "text/plain": [
       "<Figure size 720x720 with 2 Axes>"
      ]
     },
     "metadata": {
      "needs_background": "light"
     },
     "output_type": "display_data"
    }
   ],
   "source": [
    "ax = plt.subplot()\n",
    "sns.heatmap(cm,annot=True,fmt=\"d\") \n",
    "ax.set_xlabel('Prediction');ax.set_ylabel('Labels reels'); \n",
    "ax.set_title('Matrice de confusion'); \n",
    "plt.show()"
   ]
  },
  {
   "cell_type": "markdown",
   "metadata": {},
   "source": [
    "### Removing (apparently) useless variables"
   ]
  },
  {
   "cell_type": "code",
   "execution_count": 238,
   "metadata": {},
   "outputs": [],
   "source": [
    "X2 = dc.loc[:,(\"lung_side_2\", \"duration_of_symptoms\", \"lung_side_1\", \"gender_0\", \"age\", \"C_reactive_protein\", \"city_0\", \"blood_lactic_dehydrogenise\", \"duration_of_asbestos_exposure\", \"white_blood\", \"albumin\", \"pleural_thickness_on_tomography\", \"pleural_lactic_dehydrogenise\", \"sedimentation\", \"platelet_count\", \"habit_of_cigarette_3\", \"lung_side_0\", \"pleural_glucose\", \"total_protein\")].copy()\n",
    "y2 = df[\"class_of_diagnosis\"].copy()\n",
    "X_train2, X_test2, y_train2, y_test2 = train_test_split(X2, y2, test_size=0.2, random_state=1, shuffle=True)"
   ]
  },
  {
   "cell_type": "code",
   "execution_count": 239,
   "metadata": {},
   "outputs": [],
   "source": [
    "scaler = StandardScaler()  \n",
    "scaler.fit(X_train2)\n",
    "X_train_s2 = scaler.transform(X_train2)\n",
    "X_test_s2 = scaler.transform(X_test2)"
   ]
  },
  {
   "cell_type": "code",
   "execution_count": 240,
   "metadata": {},
   "outputs": [
    {
     "data": {
      "text/plain": [
       "RandomForestClassifier(n_jobs=10, oob_score=True, random_state=42)"
      ]
     },
     "execution_count": 240,
     "metadata": {},
     "output_type": "execute_result"
    }
   ],
   "source": [
    "# RF (perhaps will improve decision tree performance)\n",
    "rf = RandomForestClassifier(n_estimators = 100,\n",
    "                           n_jobs = 10,\n",
    "                           oob_score = True,\n",
    "                           bootstrap = True,\n",
    "                           random_state = 42)   \n",
    "rf.fit(X_train2.values, y_train2.values)"
   ]
  },
  {
   "cell_type": "code",
   "execution_count": 241,
   "metadata": {},
   "outputs": [],
   "source": [
    "df_meso = pd.concat([X2,y2],axis=1).loc[df['class_of_diagnosis'] == 1]"
   ]
  },
  {
   "cell_type": "code",
   "execution_count": 242,
   "metadata": {},
   "outputs": [
    {
     "data": {
      "image/png": "[encoded data removed]",
      "text/plain": [
       "<Figure size 720x720 with 1 Axes>"
      ]
     },
     "metadata": {
      "needs_background": "light"
     },
     "output_type": "display_data"
    }
   ],
   "source": [
    "sorted_idx = rf.feature_importances_.argsort()\n",
    "plt.barh(df_meso.columns[sorted_idx], rf.feature_importances_[sorted_idx])\n",
    "plt.xlabel(\"Feature importance when class_of_diagnosis=1 (RF)\")\n",
    "plt.show()"
   ]
  },
  {
   "cell_type": "code",
   "execution_count": 243,
   "metadata": {},
   "outputs": [],
   "source": [
    "perm_importance = permutation_importance(rf, X_test2.values, y_test2.values)"
   ]
  },
  {
   "cell_type": "code",
   "execution_count": 244,
   "metadata": {},
   "outputs": [
    {
     "data": {
      "image/png": "[encoded data removed]",
      "text/plain": [
       "<Figure size 720x720 with 1 Axes>"
      ]
     },
     "metadata": {
      "needs_background": "light"
     },
     "output_type": "display_data"
    }
   ],
   "source": [
    "sorted_idx = perm_importance.importances_mean.argsort()\n",
    "plt.barh(df_meso.columns[sorted_idx], perm_importance.importances_mean[sorted_idx])\n",
    "plt.xlabel(\"Permutation Importance (RF)\")\n",
    "plt.show()"
   ]
  },
  {
   "cell_type": "code",
   "execution_count": 245,
   "metadata": {},
   "outputs": [],
   "source": [
    "explainer = shap.TreeExplainer(rf)\n",
    "shap_values = explainer.shap_values(X_test2.values)"
   ]
  },
  {
   "cell_type": "code",
   "execution_count": 246,
   "metadata": {},
   "outputs": [
    {
     "data": {
      "image/png": "[encoded data removed]",
      "text/plain": [
       "<Figure size 576x655.2 with 1 Axes>"
      ]
     },
     "metadata": {
      "needs_background": "light"
     },
     "output_type": "display_data"
    }
   ],
   "source": [
    "shap.summary_plot(shap_values, X_test2, plot_type=\"bar\")"
   ]
  },
  {
   "cell_type": "code",
   "execution_count": 247,
   "metadata": {},
   "outputs": [
    {
     "name": "stdout",
     "output_type": "stream",
     "text": [
      "0.7846153846153846\n"
     ]
    }
   ],
   "source": [
    "# calcul du score\n",
    "score = rf.score(X_test2.values, y_test2.values)\n",
    "print(score)"
   ]
  },
  {
   "cell_type": "code",
   "execution_count": 248,
   "metadata": {},
   "outputs": [
    {
     "name": "stdout",
     "output_type": "stream",
     "text": [
      "              precision    recall  f1-score   support\n",
      "\n",
      "           0       0.77      1.00      0.87        47\n",
      "           1       1.00      0.22      0.36        18\n",
      "\n",
      "    accuracy                           0.78        65\n",
      "   macro avg       0.89      0.61      0.62        65\n",
      "weighted avg       0.83      0.78      0.73        65\n",
      "\n",
      "0.4137878692380885\n"
     ]
    }
   ],
   "source": [
    "# predictions\n",
    "pred = rf.predict(X_test2.values)\n",
    "print(metrics.classification_report(y_test2.values, pred))\n",
    "print(metrics.matthews_corrcoef(y_test2, pred)) # better !"
   ]
  },
  {
   "cell_type": "code",
   "execution_count": 136,
   "metadata": {},
   "outputs": [],
   "source": [
    "# matrice de confusion\n",
    "cm = metrics.confusion_matrix(y_test2, pred)"
   ]
  },
  {
   "cell_type": "code",
   "execution_count": 249,
   "metadata": {},
   "outputs": [
    {
     "data": {
      "image/png": "[encoded data removed]",
      "text/plain": [
       "<Figure size 720x720 with 2 Axes>"
      ]
     },
     "metadata": {
      "needs_background": "light"
     },
     "output_type": "display_data"
    }
   ],
   "source": [
    "ax = plt.subplot()\n",
    "sns.heatmap(cm,annot=True,fmt=\"d\") \n",
    "ax.set_xlabel('Prediction');ax.set_ylabel('Labels reels'); \n",
    "ax.set_title('Matrice de confusion'); \n",
    "plt.show()"
   ]
  },
  {
   "cell_type": "markdown",
   "metadata": {},
   "source": [
    "### XGBoost"
   ]
  },
  {
   "cell_type": "code",
   "execution_count": 250,
   "metadata": {},
   "outputs": [
    {
     "data": {
      "text/plain": [
       "XGBClassifier()"
      ]
     },
     "execution_count": 250,
     "metadata": {},
     "output_type": "execute_result"
    }
   ],
   "source": [
    "clf_xgb = XGBClassifier(n_estimators=100, random_state=0)\n",
    "\n",
    "clf_xgb.fit(X_train2, y_train2)"
   ]
  },
  {
   "cell_type": "code",
   "execution_count": 251,
   "metadata": {},
   "outputs": [
    {
     "name": "stdout",
     "output_type": "stream",
     "text": [
      "0.7692307692307693\n"
     ]
    }
   ],
   "source": [
    "# calcul du score\n",
    "score = clf_xgb.score(X_test2, y_test2)\n",
    "print(score)"
   ]
  },
  {
   "cell_type": "code",
   "execution_count": 252,
   "metadata": {},
   "outputs": [
    {
     "name": "stdout",
     "output_type": "stream",
     "text": [
      "              precision    recall  f1-score   support\n",
      "\n",
      "           0       0.78      0.96      0.86        47\n",
      "           1       0.71      0.28      0.40        18\n",
      "\n",
      "    accuracy                           0.77        65\n",
      "   macro avg       0.75      0.62      0.63        65\n",
      "weighted avg       0.76      0.77      0.73        65\n",
      "\n",
      "0.3395508938811017\n"
     ]
    }
   ],
   "source": [
    "# predictions\n",
    "pred = clf_xgb.predict(X_test2)\n",
    "print(metrics.classification_report(y_test2, pred))\n",
    "print(metrics.matthews_corrcoef(y_test2, pred))"
   ]
  },
  {
   "cell_type": "code",
   "execution_count": 253,
   "metadata": {},
   "outputs": [
    {
     "data": {
      "image/png": "[encoded data removed]",
      "text/plain": [
       "<Figure size 720x720 with 2 Axes>"
      ]
     },
     "metadata": {
      "needs_background": "light"
     },
     "output_type": "display_data"
    }
   ],
   "source": [
    "# matrice de confusion\n",
    "cm = metrics.confusion_matrix(y_test2, pred)\n",
    "\n",
    "ax = plt.subplot()\n",
    "sns.heatmap(cm,annot=True,fmt=\"d\") \n",
    "ax.set_xlabel('Prediction');ax.set_ylabel('Labels reels'); \n",
    "ax.set_title('Matrice de confusion'); \n",
    "plt.show()"
   ]
  },
  {
   "cell_type": "markdown",
   "metadata": {},
   "source": [
    "### Comparison of scores\n",
    "Evaluate a score by cross-validation."
   ]
  },
  {
   "cell_type": "code",
   "execution_count": 254,
   "metadata": {},
   "outputs": [],
   "source": [
    "ml_models = []\n",
    "ml_models.append((\"CART\", DecisionTreeClassifier(random_state = 42)))\n",
    "ml_models.append((\"LR\", LogisticRegression(max_iter=10000, random_state = 42)))\n",
    "ml_models.append((\"RF\", RandomForestClassifier(n_estimators = 100,\n",
    "                           n_jobs = 10,\n",
    "                           oob_score = True,\n",
    "                           bootstrap = True,\n",
    "                           random_state = 42)))\n",
    "ml_models.append((\"XGBoost\", XGBClassifier(n_estimators=100, random_state=42)))"
   ]
  },
  {
   "cell_type": "code",
   "execution_count": 255,
   "metadata": {},
   "outputs": [
    {
     "name": "stdout",
     "output_type": "stream",
     "text": [
      "CART: 0.707143 (0.141682) ; MCC = 0.183364\n",
      "LR: 0.642857 (0.161484) ; MCC = 0.082111\n",
      "RF: 0.688095 (0.177999) ; MCC = 0.413788\n",
      "XGBoost: 0.630952 (0.171775) ; MCC = 0.339551\n",
      "MLP: 0.726190 (0.249546) ; MCC = 0.378188\n",
      "SVM: 0.752381 (0.187234) ; MCC = 0.355449\n"
     ]
    },
    {
     "data": {
      "image/png": "[encoded data removed]",
      "text/plain": [
       "<Figure size 720x720 with 1 Axes>"
      ]
     },
     "metadata": {
      "needs_background": "light"
     },
     "output_type": "display_data"
    }
   ],
   "source": [
    "from sklearn.model_selection import KFold, cross_val_score\n",
    "\n",
    "# evaluate each model in turn\n",
    "results = []\n",
    "names = []\n",
    "matthews = []\n",
    "scoring = 'accuracy'\n",
    "kfold = KFold(n_splits=10)\n",
    "for name, model in ml_models:\n",
    "    model.fit(X_train2.values, y_train2)\n",
    "    cv_results = cross_val_score(model, X_test2.values, y_test2, cv=kfold, scoring=scoring)\n",
    "    y_pred = model.predict(X_test2.values)\n",
    "    matthews_coef = metrics.matthews_corrcoef(y_test2, y_pred)\n",
    "    results.append(cv_results)\n",
    "    names.append(name)\n",
    "    matthews.append(matthews_coef)\n",
    "    msg = \"%s: %f (%f) ; MCC = %f\" % (name, cv_results.mean(), cv_results.std(), matthews_coef)\n",
    "    print(msg)\n",
    "\n",
    "# for MLP Classifier and SVC since they need scaled X_train\n",
    "model = MLPClassifier(activation='tanh', alpha=0.0001, solver='sgd', \n",
    "                      learning_rate='constant', learning_rate_init=0.01,\n",
    "                      hidden_layer_sizes=(75,2,2), max_iter=10000,\n",
    "                      random_state=1)\n",
    "model.fit(X_train_s, y_train)\n",
    "y_pred = model.predict(X_test_s)\n",
    "matthews_coef = metrics.matthews_corrcoef(y_test, y_pred)\n",
    "matthews.append(matthews_coef)\n",
    "cv_results = cross_val_score(model, X_test_s, y_test, cv=kfold, scoring=scoring)\n",
    "results.append(cv_results)\n",
    "names.append(\"MLP\")\n",
    "msg = \"%s: %f (%f) ; MCC = %f\" % (\"MLP\", cv_results.mean(), cv_results.std(), matthews_coef)\n",
    "print(msg)\n",
    "\n",
    "model = svm.SVC()\n",
    "model.fit(X_train_s2, y_train2)\n",
    "y_pred = model.predict(X_test_s2)\n",
    "matthews_coef = metrics.matthews_corrcoef(y_test2, y_pred)\n",
    "matthews.append(matthews_coef)\n",
    "cv_results = cross_val_score(model, X_test_s2, y_test2, cv=kfold, scoring=scoring)\n",
    "results.append(cv_results)\n",
    "names.append(\"SVM\")\n",
    "msg = \"%s: %f (%f) ; MCC = %f\" % (\"SVM\", cv_results.mean(), cv_results.std(), matthews_coef)\n",
    "print(msg)\n",
    "\n",
    "# boxplot algorithm comparison\n",
    "fig = plt.figure()\n",
    "fig.suptitle('Algorithm Comparison')\n",
    "ax = fig.add_subplot(111)\n",
    "plt.boxplot(results)\n",
    "ax.set_xticklabels(names)\n",
    "plt.show()"
   ]
  },
  {
   "cell_type": "markdown",
   "metadata": {},
   "source": [
    "SVM or RF or MLP are doing better than others on average (looking at accuracy and MCC)."
   ]
  },
  {
   "cell_type": "markdown",
   "metadata": {},
   "source": [
    "#### Hyperparameters tuning for SVM"
   ]
  },
  {
   "cell_type": "code",
   "execution_count": null,
   "metadata": {},
   "outputs": [],
   "source": []
  },
  {
   "cell_type": "markdown",
   "metadata": {},
   "source": [
    "#### Hyperparameters tuning for XGB algorithm"
   ]
  },
  {
   "cell_type": "code",
   "execution_count": 196,
   "metadata": {},
   "outputs": [
    {
     "name": "stdout",
     "output_type": "stream",
     "text": [
      "Fitting 5 folds for each of 1152 candidates, totalling 5760 fits\n",
      "{'gamma': 0, 'learning_rate': 0.01, 'max_depth': 3, 'n_estimators': 100, 'reg_lambda': 100.0}\n"
     ]
    }
   ],
   "source": [
    "param_grid = {\n",
    "    'max_depth': [3, 4, 5, 6, 7, 8],\n",
    "    'n_estimators': range(50, 250, 50),\n",
    "    'learning_rate': [0.1, 0.01, 0.05],\n",
    "    'gamma': [0, 0.25, 0.5, 1.0],\n",
    "    'reg_lambda': [0, 1.0, 10.0, 100.0]\n",
    "}\n",
    "\n",
    "optimal_params = GridSearchCV(\n",
    "    estimator=XGBClassifier(objective='binary:logistic', eval_metric=\"logloss\", seed=42, use_label_encoder=False),\n",
    "    param_grid=param_grid,\n",
    "    scoring = 'roc_auc',## For more scoring metics see: \n",
    "        ## https://scikit-learn.org/stable/modules/model_evaluation.html#scoring-parameter\n",
    "    verbose = 2, # NOTE: If you want to see what Grid Search is doing, set verbose=2\n",
    "    n_jobs = 10,\n",
    "    cv = 5\n",
    ")\n",
    "\n",
    "optimal_params.fit(X_train, y_train)\n",
    "print(optimal_params.best_params_)"
   ]
  },
  {
   "cell_type": "markdown",
   "metadata": {},
   "source": [
    "So, after testing all possible combinations of the potential parameter values with **Cross Validation**, we see that we should set `gamma=0`, `learn_rate=0.01`, `max_depth=2`, `n_estimators=100` and `reg_lambda=100.0`."
   ]
  },
  {
   "cell_type": "code",
   "execution_count": 197,
   "metadata": {},
   "outputs": [
    {
     "data": {
      "text/plain": [
       "XGBClassifier(eval_metric='logloss', learning_rate=0.01, reg_lambda=100.0,\n",
       "              seed=42, use_label_encoder=False)"
      ]
     },
     "execution_count": 197,
     "metadata": {},
     "output_type": "execute_result"
    }
   ],
   "source": [
    "clf_xgb = XGBClassifier(seed=42,\n",
    "                            objective='binary:logistic',\n",
    "                            eval_metric=\"logloss\", ## this avoids a warning...\n",
    "                            gamma=0,\n",
    "                            learning_rate=0.01,\n",
    "                            max_depth=3,\n",
    "                            n_estimators=100,\n",
    "                            reg_lambda=100.0,\n",
    "                            use_label_encoder=False)\n",
    "clf_xgb.fit(X_train, y_train)"
   ]
  },
  {
   "cell_type": "code",
   "execution_count": 198,
   "metadata": {},
   "outputs": [
    {
     "name": "stdout",
     "output_type": "stream",
     "text": [
      "              precision    recall  f1-score   support\n",
      "\n",
      "           0       0.76      0.96      0.85        47\n",
      "           1       0.67      0.22      0.33        18\n",
      "\n",
      "    accuracy                           0.75        65\n",
      "   macro avg       0.71      0.59      0.59        65\n",
      "weighted avg       0.74      0.75      0.71        65\n",
      "\n"
     ]
    }
   ],
   "source": [
    "# predictions\n",
    "pred = clf_xgb.predict(X_test)\n",
    "print(metrics.classification_report(y_test, pred))"
   ]
  },
  {
   "cell_type": "code",
   "execution_count": 199,
   "metadata": {},
   "outputs": [
    {
     "data": {
      "image/png": "[encoded data removed]",
      "text/plain": [
       "<Figure size 720x720 with 2 Axes>"
      ]
     },
     "metadata": {},
     "output_type": "display_data"
    }
   ],
   "source": [
    "# matrice de confusion\n",
    "cm = metrics.confusion_matrix(y_test, pred)\n",
    "\n",
    "ax = plt.subplot()\n",
    "sns.heatmap(cm,annot=True,fmt=\"d\") \n",
    "ax.set_xlabel('Prediction');ax.set_ylabel('Labels reels'); \n",
    "ax.set_title('Matrice de confusion'); \n",
    "plt.show()"
   ]
  },
  {
   "cell_type": "code",
   "execution_count": 200,
   "metadata": {},
   "outputs": [
    {
     "name": "stdout",
     "output_type": "stream",
     "text": [
      "weight:  {'lung_side_2': 100, 'platelet_count': 100, 'age': 100, 'duration_of_symptoms': 100, 'duration_of_asbestos_exposure': 86, 'city_0': 14}\n",
      "gain:  {'lung_side_2': 2.0621164698999994, 'platelet_count': 1.5557635975999997, 'age': 0.28864177228999993, 'duration_of_symptoms': 1.2183428188999996, 'duration_of_asbestos_exposure': 0.2645405132209302, 'city_0': 0.2608459931428571}\n",
      "cover:  {'lung_side_2': 64.29013629900004, 'platelet_count': 59.79084640300003, 'age': 9.998973541299998, 'duration_of_symptoms': 49.791872865, 'duration_of_asbestos_exposure': 4.499394083720931, 'city_0': 4.498652458571429}\n",
      "total_gain:  {'lung_side_2': 206.21164698999996, 'platelet_count': 155.57635975999997, 'age': 28.864177228999992, 'duration_of_symptoms': 121.83428188999997, 'duration_of_asbestos_exposure': 22.750484136999997, 'city_0': 3.6518439039999997}\n",
      "total_cover:  {'lung_side_2': 6429.013629900003, 'platelet_count': 5979.084640300003, 'age': 999.8973541299998, 'duration_of_symptoms': 4979.1872865000005, 'duration_of_asbestos_exposure': 386.9478912000001, 'city_0': 62.981134420000004}\n"
     ]
    }
   ],
   "source": [
    "bst = clf_xgb.get_booster()\n",
    "for importance_type in ('weight', 'gain', 'cover', 'total_gain', 'total_cover'):\n",
    "    print('%s: ' % importance_type, bst.get_score(importance_type=importance_type))\n",
    "\n",
    "node_params = {'shape': 'box', ## make the nodes fancy\n",
    "               'style': 'filled, rounded',\n",
    "               'fillcolor': '#78cbe'} \n",
    "leaf_params = {'shape': 'box',\n",
    "               'style': 'filled',\n",
    "               'fillcolor': '#e48038'}\n",
    "## NOTE: num_trees is NOT the number of trees to plot, but the specific tree you want to plot\n",
    "## The default value is 0, but I'm setting it just to show it in action since it is\n",
    "## counter-intuitive."
   ]
  },
  {
   "cell_type": "code",
   "execution_count": 201,
   "metadata": {},
   "outputs": [
    {
     "data": {
      "image/svg+xml": [
       "<?xml version=\"1.0\" encoding=\"UTF-8\" standalone=\"no\"?>\n",
       "<!DOCTYPE svg PUBLIC \"-//W3C//DTD SVG 1.1//EN\"\n",
       " \"http://www.w3.org/Graphics/SVG/1.1/DTD/svg11.dtd\">\n",
       "<!-- Generated by graphviz version 2.40.1 (20161225.0304)\n",
       " -->\n",
       "<!-- Title: %3 Pages: 1 -->\n",
       "<svg width=\"720pt\" height=\"271pt\"\n",
       " viewBox=\"0.00 0.00 720.00 270.78\" xmlns=\"http://www.w3.org/2000/svg\" xmlns:xlink=\"http://www.w3.org/1999/xlink\">\n",
       "<g id=\"graph0\" class=\"graph\" transform=\"scale(.8878 .8878) rotate(0) translate(4 301)\">\n",
       "<title>%3</title>\n",
       "<polygon fill=\"#ffffff\" stroke=\"transparent\" points=\"-4,4 -4,-301 807,-301 807,4 -4,4\"/>\n",
       "<!-- 0 -->\n",
       "<g id=\"node1\" class=\"node\">\n",
       "<title>0</title>\n",
       "<path fill=\"#78cb0e\" stroke=\"#000000\" d=\"M517,-297C517,-297 441,-297 441,-297 435,-297 429,-291 429,-285 429,-285 429,-273 429,-273 429,-267 435,-261 441,-261 441,-261 517,-261 517,-261 523,-261 529,-267 529,-273 529,-273 529,-285 529,-285 529,-291 523,-297 517,-297\"/>\n",
       "<text text-anchor=\"middle\" x=\"479\" y=\"-275.3\" font-family=\"Times,serif\" font-size=\"14.00\" fill=\"#000000\">lung_side_2&lt;1</text>\n",
       "</g>\n",
       "<!-- 1 -->\n",
       "<g id=\"node2\" class=\"node\">\n",
       "<title>1</title>\n",
       "<path fill=\"#78cb0e\" stroke=\"#000000\" d=\"M436.5,-210C436.5,-210 335.5,-210 335.5,-210 329.5,-210 323.5,-204 323.5,-198 323.5,-198 323.5,-186 323.5,-186 323.5,-180 329.5,-174 335.5,-174 335.5,-174 436.5,-174 436.5,-174 442.5,-174 448.5,-180 448.5,-186 448.5,-186 448.5,-198 448.5,-198 448.5,-204 442.5,-210 436.5,-210\"/>\n",
       "<text text-anchor=\"middle\" x=\"386\" y=\"-188.3\" font-family=\"Times,serif\" font-size=\"14.00\" fill=\"#000000\">platelet_count&lt;192</text>\n",
       "</g>\n",
       "<!-- 0&#45;&gt;1 -->\n",
       "<g id=\"edge1\" class=\"edge\">\n",
       "<title>0&#45;&gt;1</title>\n",
       "<path fill=\"none\" stroke=\"#0000ff\" d=\"M459.7303,-260.9735C446.1385,-248.2586 427.7541,-231.0603 412.7437,-217.0183\"/>\n",
       "<polygon fill=\"#0000ff\" stroke=\"#0000ff\" points=\"414.9388,-214.279 405.245,-210.0034 410.1567,-219.3909 414.9388,-214.279\"/>\n",
       "<text text-anchor=\"middle\" x=\"474\" y=\"-231.8\" font-family=\"Times,serif\" font-size=\"14.00\" fill=\"#000000\">yes, missing</text>\n",
       "</g>\n",
       "<!-- 2 -->\n",
       "<g id=\"node3\" class=\"node\">\n",
       "<title>2</title>\n",
       "<path fill=\"#78cb0e\" stroke=\"#000000\" d=\"M669.5,-210C669.5,-210 478.5,-210 478.5,-210 472.5,-210 466.5,-204 466.5,-198 466.5,-198 466.5,-186 466.5,-186 466.5,-180 472.5,-174 478.5,-174 478.5,-174 669.5,-174 669.5,-174 675.5,-174 681.5,-180 681.5,-186 681.5,-186 681.5,-198 681.5,-198 681.5,-204 675.5,-210 669.5,-210\"/>\n",
       "<text text-anchor=\"middle\" x=\"574\" y=\"-188.3\" font-family=\"Times,serif\" font-size=\"14.00\" fill=\"#000000\">duration_of_asbestos_exposure&lt;29</text>\n",
       "</g>\n",
       "<!-- 0&#45;&gt;2 -->\n",
       "<g id=\"edge2\" class=\"edge\">\n",
       "<title>0&#45;&gt;2</title>\n",
       "<path fill=\"none\" stroke=\"#ff0000\" d=\"M498.6841,-260.9735C512.5682,-248.2586 531.348,-231.0603 546.6812,-217.0183\"/>\n",
       "<polygon fill=\"#ff0000\" stroke=\"#ff0000\" points=\"549.3302,-219.3383 554.3412,-210.0034 544.6026,-214.1759 549.3302,-219.3383\"/>\n",
       "<text text-anchor=\"middle\" x=\"540.5\" y=\"-231.8\" font-family=\"Times,serif\" font-size=\"14.00\" fill=\"#000000\">no</text>\n",
       "</g>\n",
       "<!-- 3 -->\n",
       "<g id=\"node4\" class=\"node\">\n",
       "<title>3</title>\n",
       "<path fill=\"#78cb0e\" stroke=\"#000000\" d=\"M253,-123C253,-123 209,-123 209,-123 203,-123 197,-117 197,-111 197,-111 197,-99 197,-99 197,-93 203,-87 209,-87 209,-87 253,-87 253,-87 259,-87 265,-93 265,-99 265,-99 265,-111 265,-111 265,-117 259,-123 253,-123\"/>\n",
       "<text text-anchor=\"middle\" x=\"231\" y=\"-101.3\" font-family=\"Times,serif\" font-size=\"14.00\" fill=\"#000000\">age&lt;49.5</text>\n",
       "</g>\n",
       "<!-- 1&#45;&gt;3 -->\n",
       "<g id=\"edge3\" class=\"edge\">\n",
       "<title>1&#45;&gt;3</title>\n",
       "<path fill=\"none\" stroke=\"#0000ff\" d=\"M348.8685,-173.8445C337.8735,-168.2884 325.8709,-162.0445 315,-156 299.4415,-147.349 282.611,-137.2775 268.1302,-128.3806\"/>\n",
       "<polygon fill=\"#0000ff\" stroke=\"#0000ff\" points=\"269.7964,-125.2959 259.4498,-123.016 266.1164,-131.2506 269.7964,-125.2959\"/>\n",
       "<text text-anchor=\"middle\" x=\"350\" y=\"-144.8\" font-family=\"Times,serif\" font-size=\"14.00\" fill=\"#000000\">yes, missing</text>\n",
       "</g>\n",
       "<!-- 4 -->\n",
       "<g id=\"node5\" class=\"node\">\n",
       "<title>4</title>\n",
       "<path fill=\"#78cb0e\" stroke=\"#000000\" d=\"M468.5,-123C468.5,-123 313.5,-123 313.5,-123 307.5,-123 301.5,-117 301.5,-111 301.5,-111 301.5,-99 301.5,-99 301.5,-93 307.5,-87 313.5,-87 313.5,-87 468.5,-87 468.5,-87 474.5,-87 480.5,-93 480.5,-99 480.5,-99 480.5,-111 480.5,-111 480.5,-117 474.5,-123 468.5,-123\"/>\n",
       "<text text-anchor=\"middle\" x=\"391\" y=\"-101.3\" font-family=\"Times,serif\" font-size=\"14.00\" fill=\"#000000\">duration_of_symptoms&lt;13.5</text>\n",
       "</g>\n",
       "<!-- 1&#45;&gt;4 -->\n",
       "<g id=\"edge4\" class=\"edge\">\n",
       "<title>1&#45;&gt;4</title>\n",
       "<path fill=\"none\" stroke=\"#ff0000\" d=\"M387.036,-173.9735C387.7131,-162.1918 388.6115,-146.5607 389.3817,-133.1581\"/>\n",
       "<polygon fill=\"#ff0000\" stroke=\"#ff0000\" points=\"392.8857,-133.1877 389.9653,-123.0034 385.8972,-132.786 392.8857,-133.1877\"/>\n",
       "<text text-anchor=\"middle\" x=\"396.5\" y=\"-144.8\" font-family=\"Times,serif\" font-size=\"14.00\" fill=\"#000000\">no</text>\n",
       "</g>\n",
       "<!-- 5 -->\n",
       "<g id=\"node10\" class=\"node\">\n",
       "<title>5</title>\n",
       "<polygon fill=\"#e48038\" stroke=\"#000000\" points=\"644.5,-123 499.5,-123 499.5,-87 644.5,-87 644.5,-123\"/>\n",
       "<text text-anchor=\"middle\" x=\"572\" y=\"-101.3\" font-family=\"Times,serif\" font-size=\"14.00\" fill=\"#000000\">leaf=&#45;0.000245700241</text>\n",
       "</g>\n",
       "<!-- 2&#45;&gt;5 -->\n",
       "<g id=\"edge9\" class=\"edge\">\n",
       "<title>2&#45;&gt;5</title>\n",
       "<path fill=\"none\" stroke=\"#0000ff\" d=\"M573.5856,-173.9735C573.3148,-162.1918 572.9554,-146.5607 572.6473,-133.1581\"/>\n",
       "<polygon fill=\"#0000ff\" stroke=\"#0000ff\" points=\"576.1429,-132.9202 572.4139,-123.0034 569.1447,-133.0812 576.1429,-132.9202\"/>\n",
       "<text text-anchor=\"middle\" x=\"609\" y=\"-144.8\" font-family=\"Times,serif\" font-size=\"14.00\" fill=\"#000000\">yes, missing</text>\n",
       "</g>\n",
       "<!-- 6 -->\n",
       "<g id=\"node11\" class=\"node\">\n",
       "<title>6</title>\n",
       "<polygon fill=\"#e48038\" stroke=\"#000000\" points=\"803,-123 663,-123 663,-87 803,-87 803,-123\"/>\n",
       "<text text-anchor=\"middle\" x=\"733\" y=\"-101.3\" font-family=\"Times,serif\" font-size=\"14.00\" fill=\"#000000\">leaf=0.000535279803</text>\n",
       "</g>\n",
       "<!-- 2&#45;&gt;6 -->\n",
       "<g id=\"edge10\" class=\"edge\">\n",
       "<title>2&#45;&gt;6</title>\n",
       "<path fill=\"none\" stroke=\"#ff0000\" d=\"M612.7322,-173.9474C624.1927,-168.3943 636.695,-162.1261 648,-156 663.7879,-147.4446 680.8269,-137.3907 695.4743,-128.4812\"/>\n",
       "<polygon fill=\"#ff0000\" stroke=\"#ff0000\" points=\"697.5527,-131.3126 704.2528,-123.1053 693.8969,-125.3431 697.5527,-131.3126\"/>\n",
       "<text text-anchor=\"middle\" x=\"681.5\" y=\"-144.8\" font-family=\"Times,serif\" font-size=\"14.00\" fill=\"#000000\">no</text>\n",
       "</g>\n",
       "<!-- 7 -->\n",
       "<g id=\"node6\" class=\"node\">\n",
       "<title>7</title>\n",
       "<polygon fill=\"#e48038\" stroke=\"#000000\" points=\"140,-36 0,-36 0,0 140,0 140,-36\"/>\n",
       "<text text-anchor=\"middle\" x=\"70\" y=\"-14.3\" font-family=\"Times,serif\" font-size=\"14.00\" fill=\"#000000\">leaf=0.000435835333</text>\n",
       "</g>\n",
       "<!-- 3&#45;&gt;7 -->\n",
       "<g id=\"edge5\" class=\"edge\">\n",
       "<title>3&#45;&gt;7</title>\n",
       "<path fill=\"none\" stroke=\"#0000ff\" d=\"M196.8294,-89.0575C184.2049,-82.9895 169.8476,-75.8775 157,-69 140.8939,-60.3782 123.4638,-50.3121 108.4648,-41.4113\"/>\n",
       "<polygon fill=\"#0000ff\" stroke=\"#0000ff\" points=\"109.8538,-38.1643 99.4734,-36.0433 106.2655,-44.1747 109.8538,-38.1643\"/>\n",
       "<text text-anchor=\"middle\" x=\"192\" y=\"-57.8\" font-family=\"Times,serif\" font-size=\"14.00\" fill=\"#000000\">yes, missing</text>\n",
       "</g>\n",
       "<!-- 8 -->\n",
       "<g id=\"node7\" class=\"node\">\n",
       "<title>8</title>\n",
       "<polygon fill=\"#e48038\" stroke=\"#000000\" points=\"303.5,-36 158.5,-36 158.5,0 303.5,0 303.5,-36\"/>\n",
       "<text text-anchor=\"middle\" x=\"231\" y=\"-14.3\" font-family=\"Times,serif\" font-size=\"14.00\" fill=\"#000000\">leaf=&#45;0.000327868824</text>\n",
       "</g>\n",
       "<!-- 3&#45;&gt;8 -->\n",
       "<g id=\"edge6\" class=\"edge\">\n",
       "<title>3&#45;&gt;8</title>\n",
       "<path fill=\"none\" stroke=\"#ff0000\" d=\"M231,-86.9735C231,-75.1918 231,-59.5607 231,-46.1581\"/>\n",
       "<polygon fill=\"#ff0000\" stroke=\"#ff0000\" points=\"234.5001,-46.0033 231,-36.0034 227.5001,-46.0034 234.5001,-46.0033\"/>\n",
       "<text text-anchor=\"middle\" x=\"238.5\" y=\"-57.8\" font-family=\"Times,serif\" font-size=\"14.00\" fill=\"#000000\">no</text>\n",
       "</g>\n",
       "<!-- 9 -->\n",
       "<g id=\"node8\" class=\"node\">\n",
       "<title>9</title>\n",
       "<polygon fill=\"#e48038\" stroke=\"#000000\" points=\"460,-36 322,-36 322,0 460,0 460,-36\"/>\n",
       "<text text-anchor=\"middle\" x=\"391\" y=\"-14.3\" font-family=\"Times,serif\" font-size=\"14.00\" fill=\"#000000\">leaf=&#45;0.00385135133</text>\n",
       "</g>\n",
       "<!-- 4&#45;&gt;9 -->\n",
       "<g id=\"edge7\" class=\"edge\">\n",
       "<title>4&#45;&gt;9</title>\n",
       "<path fill=\"none\" stroke=\"#0000ff\" d=\"M391,-86.9735C391,-75.1918 391,-59.5607 391,-46.1581\"/>\n",
       "<polygon fill=\"#0000ff\" stroke=\"#0000ff\" points=\"394.5001,-46.0033 391,-36.0034 387.5001,-46.0034 394.5001,-46.0033\"/>\n",
       "<text text-anchor=\"middle\" x=\"426\" y=\"-57.8\" font-family=\"Times,serif\" font-size=\"14.00\" fill=\"#000000\">yes, missing</text>\n",
       "</g>\n",
       "<!-- 10 -->\n",
       "<g id=\"node9\" class=\"node\">\n",
       "<title>10</title>\n",
       "<polygon fill=\"#e48038\" stroke=\"#000000\" points=\"618,-36 478,-36 478,0 618,0 618,-36\"/>\n",
       "<text text-anchor=\"middle\" x=\"548\" y=\"-14.3\" font-family=\"Times,serif\" font-size=\"14.00\" fill=\"#000000\">leaf=0.000146699269</text>\n",
       "</g>\n",
       "<!-- 4&#45;&gt;10 -->\n",
       "<g id=\"edge8\" class=\"edge\">\n",
       "<title>4&#45;&gt;10</title>\n",
       "<path fill=\"none\" stroke=\"#ff0000\" d=\"M430.1557,-86.8373C441.5124,-81.3319 453.8528,-75.117 465,-69 480.471,-60.5103 497.1192,-50.4686 511.4147,-41.5504\"/>\n",
       "<polygon fill=\"#ff0000\" stroke=\"#ff0000\" points=\"513.3762,-44.4516 519.9802,-36.1667 509.6511,-38.525 513.3762,-44.4516\"/>\n",
       "<text text-anchor=\"middle\" x=\"498.5\" y=\"-57.8\" font-family=\"Times,serif\" font-size=\"14.00\" fill=\"#000000\">no</text>\n",
       "</g>\n",
       "</g>\n",
       "</svg>\n"
      ],
      "text/plain": [
       "<graphviz.dot.Digraph at 0x7fdeddf9f890>"
      ]
     },
     "execution_count": 201,
     "metadata": {},
     "output_type": "execute_result"
    }
   ],
   "source": [
    "to_graphviz(clf_xgb, num_trees=0, size=\"10,10\", \n",
    "                condition_node_params=node_params,\n",
    "                leaf_node_params=leaf_params) "
   ]
  },
  {
   "cell_type": "markdown",
   "metadata": {},
   "source": [
    "#### Hyperparameters tuning for RF algorithm (not conclusive)"
   ]
  },
  {
   "cell_type": "code",
   "execution_count": 202,
   "metadata": {},
   "outputs": [
    {
     "data": {
      "text/plain": [
       "dict_keys(['bootstrap', 'ccp_alpha', 'class_weight', 'criterion', 'max_depth', 'max_features', 'max_leaf_nodes', 'max_samples', 'min_impurity_decrease', 'min_samples_leaf', 'min_samples_split', 'min_weight_fraction_leaf', 'n_estimators', 'n_jobs', 'oob_score', 'random_state', 'verbose', 'warm_start'])"
      ]
     },
     "execution_count": 202,
     "metadata": {},
     "output_type": "execute_result"
    }
   ],
   "source": [
    "RandomForestClassifier().get_params().keys()"
   ]
  },
  {
   "cell_type": "code",
   "execution_count": 203,
   "metadata": {},
   "outputs": [
    {
     "name": "stdout",
     "output_type": "stream",
     "text": [
      "{'bootstrap': [True, False],\n",
      " 'max_features': ['auto', 'sqrt'],\n",
      " 'min_samples_leaf': [1, 2, 4],\n",
      " 'min_samples_split': [2, 5, 10],\n",
      " 'n_estimators': range(50, 300, 50)}\n",
      "{'bootstrap': True, 'max_features': 'auto', 'min_samples_leaf': 1, 'min_samples_split': 2, 'n_estimators': 100}\n"
     ]
    }
   ],
   "source": [
    "param_grid = {\n",
    "    'n_estimators': range(50, 300, 50),\n",
    "    'max_features': ['auto', 'sqrt'],\n",
    "    'min_samples_split': [2, 5, 10],\n",
    "    'min_samples_leaf': [1, 2, 4],\n",
    "    'bootstrap': [True, False]\n",
    "}\n",
    "pprint(param_grid)\n",
    "\n",
    "optimal_params = GridSearchCV(\n",
    "    estimator=RandomForestClassifier(n_jobs=10, random_state=42),\n",
    "    param_grid=param_grid,\n",
    "#     scoring = 'roc_auc',## For more scoring metics see: \n",
    "        ## https://scikit-learn.org/stable/modules/model_evaluation.html#scoring-parameter\n",
    "    verbose=0, # NOTE: If you want to see what Grid Search is doing, set verbose=2\n",
    "    n_jobs=10,\n",
    "    cv=3\n",
    ")\n",
    "\n",
    "optimal_params.fit(X_train, y_train)\n",
    "print(optimal_params.best_params_)"
   ]
  },
  {
   "cell_type": "markdown",
   "metadata": {},
   "source": [
    "So, after testing all possible combinations of the potential parameter values with **Cross Validation**, we see that we should set `bootstrap=True`, `max_features='auto'`, `min_samples=1`, `min_samples_split=2` and `n_estimators=100`."
   ]
  },
  {
   "cell_type": "code",
   "execution_count": 145,
   "metadata": {},
   "outputs": [
    {
     "data": {
      "text/plain": [
       "RandomForestClassifier(n_jobs=10, random_state=42)"
      ]
     },
     "execution_count": 145,
     "metadata": {},
     "output_type": "execute_result"
    }
   ],
   "source": [
    "rf_opt = RandomForestClassifier(bootstrap=True,\n",
    "                                n_jobs=10,\n",
    "                                n_estimators=100, \n",
    "                                min_samples_leaf=1,\n",
    "                                min_samples_split=2,\n",
    "                                max_features='auto',\n",
    "                                random_state=42)\n",
    "rf_opt.fit(X_train, y_train)"
   ]
  },
  {
   "cell_type": "code",
   "execution_count": 146,
   "metadata": {},
   "outputs": [
    {
     "name": "stdout",
     "output_type": "stream",
     "text": [
      "0.7846153846153846\n"
     ]
    }
   ],
   "source": [
    "# calcul du score\n",
    "score = rf_opt.score(X_test, y_test)\n",
    "print(score)"
   ]
  },
  {
   "cell_type": "code",
   "execution_count": 147,
   "metadata": {},
   "outputs": [
    {
     "name": "stdout",
     "output_type": "stream",
     "text": [
      "              precision    recall  f1-score   support\n",
      "\n",
      "           0       0.77      1.00      0.87        47\n",
      "           1       1.00      0.22      0.36        18\n",
      "\n",
      "    accuracy                           0.78        65\n",
      "   macro avg       0.89      0.61      0.62        65\n",
      "weighted avg       0.83      0.78      0.73        65\n",
      "\n"
     ]
    }
   ],
   "source": [
    "# predictions\n",
    "pred = rf_opt.predict(X_test)\n",
    "print(metrics.classification_report(y_test, pred))"
   ]
  },
  {
   "cell_type": "code",
   "execution_count": 148,
   "metadata": {},
   "outputs": [
    {
     "data": {
      "image/png": "[encoded data removed]",
      "text/plain": [
       "<Figure size 720x720 with 2 Axes>"
      ]
     },
     "metadata": {},
     "output_type": "display_data"
    }
   ],
   "source": [
    "# matrice de confusion\n",
    "cm = metrics.confusion_matrix(y_test, pred)\n",
    "\n",
    "ax = plt.subplot()\n",
    "sns.heatmap(cm,annot=True,fmt=\"d\") \n",
    "ax.set_xlabel('Prediction');ax.set_ylabel('Labels reels'); \n",
    "ax.set_title('Matrice de confusion'); \n",
    "plt.show()"
   ]
  }
 ],
 "metadata": {
  "kernelspec": {
   "display_name": "Python 3",
   "language": "python",
   "name": "python3"
  },
  "language_info": {
   "codemirror_mode": {
    "name": "ipython",
    "version": 3
   },
   "file_extension": ".py",
   "mimetype": "text/x-python",
   "name": "python",
   "nbconvert_exporter": "python",
   "pygments_lexer": "ipython3",
   "version": "3.7.4"
  }
 },
 "nbformat": 4,
 "nbformat_minor": 2
}
