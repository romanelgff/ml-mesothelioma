{
 "cells": [
  {
   "cell_type": "markdown",
   "metadata": {},
   "source": [
    "# Machine learning techniques for diagnosis of malignant pleural mesothelioma\n",
    "\n",
    "MPM is a highly aggressive tumor of the serous membranes, which in humans results from exposure to **asbestos** and **asbestiform fibers**. It is a fatal cancer and a malignancy that is resistant to the common tumor directed therapies.\n",
    "\n",
    "Overall: \n",
    "* around half of people diagnosed with mesothelioma will live at least a year after the diagnosis\n",
    "* around 10% of people with mesothelioma will live at least 5 years after diagnosis\n",
    "\n",
    "The symptoms of mesothelioma develop usually gradually over time and don't appear until several decades (typically 20 years) after exposure to asbestos ! For mesothelioma in the lining of the lungs, they include :\n",
    "* chest pain\n",
    "* shortness of breath\n",
    "* fatigue\n",
    "* fever and sweating\n",
    "* couch\n",
    "* loss of appetite and unexplained weight loss\n",
    "* swollen fingertips\n",
    "\n",
    "As for mesothelioma in the lining of the tummy, they include :\n",
    "* swelling or tummy pain\n",
    "* feeling sick\n",
    "* loss of appetite and unexplained weight loss\n",
    "* diarrhoea or consitupation\n",
    "\n",
    "Diagnostics of mesothelioma:\n",
    "* X-ray of chest or tummy\n",
    "* CT scan\n",
    "* fluid drainage\n",
    "* thoracoscopy or laparoscopy"
   ]
  },
  {
   "cell_type": "markdown",
   "metadata": {},
   "source": [
    "## Findings in the studied paper \n",
    "\n",
    "The paper compares the results of the multilayer neural network (MLNN) structure and Artificial Immune Systems (AIS) on MPM diagnosis. The dataset used comes from a faculty of medecine's database using patient's hospital reports. This dataset includes 324 patients suffering from variety of MPM disease. Each of them have 34 features and diagnostic tests of each patient were recorded by an attending physician."
   ]
  },
  {
   "cell_type": "markdown",
   "metadata": {},
   "source": [
    "## Data importation"
   ]
  },
  {
   "cell_type": "code",
   "execution_count": 2,
   "metadata": {},
   "outputs": [
    {
     "data": {
      "text/plain": [
       "'/Users/romanelgff/Documents/Master/M2/S1/R1/ML/ml-mesothelioma'"
      ]
     },
     "execution_count": 2,
     "metadata": {},
     "output_type": "execute_result"
    }
   ],
   "source": [
    "import os\n",
    "import pandas as pd\n",
    "import matplotlib.pyplot as plt\n",
    "\n",
    "from mca import MCA # pip install --user mca\n",
    "# doc: https://github.com/esafak/mca/blob/master/docs/usage.rst\n",
    "\n",
    "# configuration bibliotheque pour les graphiques\n",
    "%matplotlib inline \n",
    "\n",
    "os.getcwd()"
   ]
  },
  {
   "cell_type": "code",
   "execution_count": 3,
   "metadata": {},
   "outputs": [
    {
     "data": {
      "text/html": [
       "<div>\n",
       "<style scoped>\n",
       "    .dataframe tbody tr th:only-of-type {\n",
       "        vertical-align: middle;\n",
       "    }\n",
       "\n",
       "    .dataframe tbody tr th {\n",
       "        vertical-align: top;\n",
       "    }\n",
       "\n",
       "    .dataframe thead th {\n",
       "        text-align: right;\n",
       "    }\n",
       "</style>\n",
       "<table border=\"1\" class=\"dataframe\">\n",
       "  <thead>\n",
       "    <tr style=\"text-align: right;\">\n",
       "      <th></th>\n",
       "      <th>age</th>\n",
       "      <th>gender</th>\n",
       "      <th>city</th>\n",
       "      <th>asbestos exposure</th>\n",
       "      <th>type of MM</th>\n",
       "      <th>duration of asbestos exposure</th>\n",
       "      <th>keep side</th>\n",
       "      <th>cytology</th>\n",
       "      <th>duration of symptoms</th>\n",
       "      <th>dyspnoea</th>\n",
       "      <th>...</th>\n",
       "      <th>pleural lactic dehydrogenise</th>\n",
       "      <th>pleural protein</th>\n",
       "      <th>pleural albumin</th>\n",
       "      <th>pleural glucose</th>\n",
       "      <th>dead or not</th>\n",
       "      <th>pleural effusion</th>\n",
       "      <th>pleural thickness on tomography</th>\n",
       "      <th>pleural level of acidity (pH)</th>\n",
       "      <th>C-reactive protein (CRP)</th>\n",
       "      <th>class of diagnosis</th>\n",
       "    </tr>\n",
       "  </thead>\n",
       "  <tbody>\n",
       "    <tr>\n",
       "      <th>0</th>\n",
       "      <td>47.0</td>\n",
       "      <td>1</td>\n",
       "      <td>0</td>\n",
       "      <td>1</td>\n",
       "      <td>0.0</td>\n",
       "      <td>20.0</td>\n",
       "      <td>0</td>\n",
       "      <td>1</td>\n",
       "      <td>24.0</td>\n",
       "      <td>1</td>\n",
       "      <td>...</td>\n",
       "      <td>289.0</td>\n",
       "      <td>0.0</td>\n",
       "      <td>0.00</td>\n",
       "      <td>79.0</td>\n",
       "      <td>1</td>\n",
       "      <td>0.0</td>\n",
       "      <td>0.0</td>\n",
       "      <td>0.0</td>\n",
       "      <td>34</td>\n",
       "      <td>1</td>\n",
       "    </tr>\n",
       "    <tr>\n",
       "      <th>1</th>\n",
       "      <td>55.0</td>\n",
       "      <td>1</td>\n",
       "      <td>0</td>\n",
       "      <td>1</td>\n",
       "      <td>0.0</td>\n",
       "      <td>45.0</td>\n",
       "      <td>0</td>\n",
       "      <td>0</td>\n",
       "      <td>1.0</td>\n",
       "      <td>1</td>\n",
       "      <td>...</td>\n",
       "      <td>7541.0</td>\n",
       "      <td>1.6</td>\n",
       "      <td>0.80</td>\n",
       "      <td>6.0</td>\n",
       "      <td>1</td>\n",
       "      <td>1.0</td>\n",
       "      <td>1.0</td>\n",
       "      <td>1.0</td>\n",
       "      <td>42</td>\n",
       "      <td>1</td>\n",
       "    </tr>\n",
       "    <tr>\n",
       "      <th>2</th>\n",
       "      <td>29.0</td>\n",
       "      <td>1</td>\n",
       "      <td>1</td>\n",
       "      <td>1</td>\n",
       "      <td>0.0</td>\n",
       "      <td>23.0</td>\n",
       "      <td>1</td>\n",
       "      <td>0</td>\n",
       "      <td>1.0</td>\n",
       "      <td>0</td>\n",
       "      <td>...</td>\n",
       "      <td>480.0</td>\n",
       "      <td>0.0</td>\n",
       "      <td>0.00</td>\n",
       "      <td>90.0</td>\n",
       "      <td>1</td>\n",
       "      <td>0.0</td>\n",
       "      <td>0.0</td>\n",
       "      <td>0.0</td>\n",
       "      <td>43</td>\n",
       "      <td>2</td>\n",
       "    </tr>\n",
       "    <tr>\n",
       "      <th>3</th>\n",
       "      <td>39.0</td>\n",
       "      <td>1</td>\n",
       "      <td>0</td>\n",
       "      <td>1</td>\n",
       "      <td>0.0</td>\n",
       "      <td>10.0</td>\n",
       "      <td>0</td>\n",
       "      <td>0</td>\n",
       "      <td>3.0</td>\n",
       "      <td>0</td>\n",
       "      <td>...</td>\n",
       "      <td>459.0</td>\n",
       "      <td>5.0</td>\n",
       "      <td>2.80</td>\n",
       "      <td>45.0</td>\n",
       "      <td>1</td>\n",
       "      <td>1.0</td>\n",
       "      <td>0.0</td>\n",
       "      <td>0.0</td>\n",
       "      <td>21</td>\n",
       "      <td>1</td>\n",
       "    </tr>\n",
       "    <tr>\n",
       "      <th>4</th>\n",
       "      <td>47.0</td>\n",
       "      <td>1</td>\n",
       "      <td>0</td>\n",
       "      <td>1</td>\n",
       "      <td>0.0</td>\n",
       "      <td>10.0</td>\n",
       "      <td>1</td>\n",
       "      <td>1</td>\n",
       "      <td>1.5</td>\n",
       "      <td>1</td>\n",
       "      <td>...</td>\n",
       "      <td>213.0</td>\n",
       "      <td>3.6</td>\n",
       "      <td>1.95</td>\n",
       "      <td>53.0</td>\n",
       "      <td>1</td>\n",
       "      <td>1.0</td>\n",
       "      <td>0.0</td>\n",
       "      <td>0.0</td>\n",
       "      <td>11</td>\n",
       "      <td>1</td>\n",
       "    </tr>\n",
       "  </tbody>\n",
       "</table>\n",
       "<p>5 rows × 34 columns</p>\n",
       "</div>"
      ],
      "text/plain": [
       "    age  gender  city  asbestos exposure  type of MM  \\\n",
       "0  47.0       1     0                  1         0.0   \n",
       "1  55.0       1     0                  1         0.0   \n",
       "2  29.0       1     1                  1         0.0   \n",
       "3  39.0       1     0                  1         0.0   \n",
       "4  47.0       1     0                  1         0.0   \n",
       "\n",
       "   duration of asbestos exposure  keep side  cytology  duration of symptoms  \\\n",
       "0                           20.0          0         1                  24.0   \n",
       "1                           45.0          0         0                   1.0   \n",
       "2                           23.0          1         0                   1.0   \n",
       "3                           10.0          0         0                   3.0   \n",
       "4                           10.0          1         1                   1.5   \n",
       "\n",
       "   dyspnoea  ...  pleural lactic dehydrogenise  pleural protein  \\\n",
       "0         1  ...                         289.0              0.0   \n",
       "1         1  ...                        7541.0              1.6   \n",
       "2         0  ...                         480.0              0.0   \n",
       "3         0  ...                         459.0              5.0   \n",
       "4         1  ...                         213.0              3.6   \n",
       "\n",
       "   pleural albumin  pleural glucose  dead or not  pleural effusion  \\\n",
       "0             0.00             79.0            1               0.0   \n",
       "1             0.80              6.0            1               1.0   \n",
       "2             0.00             90.0            1               0.0   \n",
       "3             2.80             45.0            1               1.0   \n",
       "4             1.95             53.0            1               1.0   \n",
       "\n",
       "   pleural thickness on tomography  pleural level of acidity (pH)  \\\n",
       "0                              0.0                            0.0   \n",
       "1                              1.0                            1.0   \n",
       "2                              0.0                            0.0   \n",
       "3                              0.0                            0.0   \n",
       "4                              0.0                            0.0   \n",
       "\n",
       "   C-reactive protein (CRP)  class of diagnosis  \n",
       "0                        34                   1  \n",
       "1                        42                   1  \n",
       "2                        43                   2  \n",
       "3                        21                   1  \n",
       "4                        11                   1  \n",
       "\n",
       "[5 rows x 34 columns]"
      ]
     },
     "execution_count": 3,
     "metadata": {},
     "output_type": "execute_result"
    }
   ],
   "source": [
    "df = pd.read_excel(\"mesothelioma_dataset.xlsx\")\n",
    "df = df.drop(columns = [\"diagnosis method\"]) # variable correlee avec la variable explicative donc a enlever (d'apres Valérie)\n",
    "df.head()"
   ]
  },
  {
   "cell_type": "code",
   "execution_count": 4,
   "metadata": {},
   "outputs": [
    {
     "data": {
      "text/plain": [
       "(324, 34)"
      ]
     },
     "execution_count": 4,
     "metadata": {},
     "output_type": "execute_result"
    }
   ],
   "source": [
    "# dimensions\n",
    "df.shape "
   ]
  },
  {
   "cell_type": "code",
   "execution_count": 5,
   "metadata": {},
   "outputs": [
    {
     "data": {
      "text/plain": [
       "11016"
      ]
     },
     "execution_count": 5,
     "metadata": {},
     "output_type": "execute_result"
    }
   ],
   "source": [
    "# nombre total d'éléments\n",
    "df.size"
   ]
  },
  {
   "cell_type": "code",
   "execution_count": 6,
   "metadata": {},
   "outputs": [
    {
     "data": {
      "text/html": [
       "<div>\n",
       "<style scoped>\n",
       "    .dataframe tbody tr th:only-of-type {\n",
       "        vertical-align: middle;\n",
       "    }\n",
       "\n",
       "    .dataframe tbody tr th {\n",
       "        vertical-align: top;\n",
       "    }\n",
       "\n",
       "    .dataframe thead th {\n",
       "        text-align: right;\n",
       "    }\n",
       "</style>\n",
       "<table border=\"1\" class=\"dataframe\">\n",
       "  <thead>\n",
       "    <tr style=\"text-align: right;\">\n",
       "      <th></th>\n",
       "      <th>age</th>\n",
       "      <th>gender</th>\n",
       "      <th>city</th>\n",
       "      <th>asbestos_exposure</th>\n",
       "      <th>type_of_MM</th>\n",
       "      <th>duration_of_asbestos_exposure</th>\n",
       "      <th>keep_side</th>\n",
       "      <th>cytology</th>\n",
       "      <th>duration_of_symptoms</th>\n",
       "      <th>dyspnoea</th>\n",
       "      <th>...</th>\n",
       "      <th>pleural_lactic_dehydrogenise</th>\n",
       "      <th>pleural_protein</th>\n",
       "      <th>pleural_albumin</th>\n",
       "      <th>pleural_glucose</th>\n",
       "      <th>dead_or_not</th>\n",
       "      <th>pleural_effusion</th>\n",
       "      <th>pleural_thickness_on_tomography</th>\n",
       "      <th>pleural_level_of_acidity_(pH)</th>\n",
       "      <th>C-reactive_protein_(CRP)</th>\n",
       "      <th>class_of_diagnosis</th>\n",
       "    </tr>\n",
       "  </thead>\n",
       "  <tbody>\n",
       "    <tr>\n",
       "      <th>0</th>\n",
       "      <td>47.0</td>\n",
       "      <td>1</td>\n",
       "      <td>0</td>\n",
       "      <td>1</td>\n",
       "      <td>0.0</td>\n",
       "      <td>20.0</td>\n",
       "      <td>0</td>\n",
       "      <td>1</td>\n",
       "      <td>24.0</td>\n",
       "      <td>1</td>\n",
       "      <td>...</td>\n",
       "      <td>289.0</td>\n",
       "      <td>0.0</td>\n",
       "      <td>0.00</td>\n",
       "      <td>79.0</td>\n",
       "      <td>1</td>\n",
       "      <td>0.0</td>\n",
       "      <td>0.0</td>\n",
       "      <td>0.0</td>\n",
       "      <td>34</td>\n",
       "      <td>1</td>\n",
       "    </tr>\n",
       "    <tr>\n",
       "      <th>1</th>\n",
       "      <td>55.0</td>\n",
       "      <td>1</td>\n",
       "      <td>0</td>\n",
       "      <td>1</td>\n",
       "      <td>0.0</td>\n",
       "      <td>45.0</td>\n",
       "      <td>0</td>\n",
       "      <td>0</td>\n",
       "      <td>1.0</td>\n",
       "      <td>1</td>\n",
       "      <td>...</td>\n",
       "      <td>7541.0</td>\n",
       "      <td>1.6</td>\n",
       "      <td>0.80</td>\n",
       "      <td>6.0</td>\n",
       "      <td>1</td>\n",
       "      <td>1.0</td>\n",
       "      <td>1.0</td>\n",
       "      <td>1.0</td>\n",
       "      <td>42</td>\n",
       "      <td>1</td>\n",
       "    </tr>\n",
       "    <tr>\n",
       "      <th>2</th>\n",
       "      <td>29.0</td>\n",
       "      <td>1</td>\n",
       "      <td>1</td>\n",
       "      <td>1</td>\n",
       "      <td>0.0</td>\n",
       "      <td>23.0</td>\n",
       "      <td>1</td>\n",
       "      <td>0</td>\n",
       "      <td>1.0</td>\n",
       "      <td>0</td>\n",
       "      <td>...</td>\n",
       "      <td>480.0</td>\n",
       "      <td>0.0</td>\n",
       "      <td>0.00</td>\n",
       "      <td>90.0</td>\n",
       "      <td>1</td>\n",
       "      <td>0.0</td>\n",
       "      <td>0.0</td>\n",
       "      <td>0.0</td>\n",
       "      <td>43</td>\n",
       "      <td>2</td>\n",
       "    </tr>\n",
       "    <tr>\n",
       "      <th>3</th>\n",
       "      <td>39.0</td>\n",
       "      <td>1</td>\n",
       "      <td>0</td>\n",
       "      <td>1</td>\n",
       "      <td>0.0</td>\n",
       "      <td>10.0</td>\n",
       "      <td>0</td>\n",
       "      <td>0</td>\n",
       "      <td>3.0</td>\n",
       "      <td>0</td>\n",
       "      <td>...</td>\n",
       "      <td>459.0</td>\n",
       "      <td>5.0</td>\n",
       "      <td>2.80</td>\n",
       "      <td>45.0</td>\n",
       "      <td>1</td>\n",
       "      <td>1.0</td>\n",
       "      <td>0.0</td>\n",
       "      <td>0.0</td>\n",
       "      <td>21</td>\n",
       "      <td>1</td>\n",
       "    </tr>\n",
       "    <tr>\n",
       "      <th>4</th>\n",
       "      <td>47.0</td>\n",
       "      <td>1</td>\n",
       "      <td>0</td>\n",
       "      <td>1</td>\n",
       "      <td>0.0</td>\n",
       "      <td>10.0</td>\n",
       "      <td>1</td>\n",
       "      <td>1</td>\n",
       "      <td>1.5</td>\n",
       "      <td>1</td>\n",
       "      <td>...</td>\n",
       "      <td>213.0</td>\n",
       "      <td>3.6</td>\n",
       "      <td>1.95</td>\n",
       "      <td>53.0</td>\n",
       "      <td>1</td>\n",
       "      <td>1.0</td>\n",
       "      <td>0.0</td>\n",
       "      <td>0.0</td>\n",
       "      <td>11</td>\n",
       "      <td>1</td>\n",
       "    </tr>\n",
       "  </tbody>\n",
       "</table>\n",
       "<p>5 rows × 34 columns</p>\n",
       "</div>"
      ],
      "text/plain": [
       "    age  gender  city  asbestos_exposure  type_of_MM  \\\n",
       "0  47.0       1     0                  1         0.0   \n",
       "1  55.0       1     0                  1         0.0   \n",
       "2  29.0       1     1                  1         0.0   \n",
       "3  39.0       1     0                  1         0.0   \n",
       "4  47.0       1     0                  1         0.0   \n",
       "\n",
       "   duration_of_asbestos_exposure  keep_side  cytology  duration_of_symptoms  \\\n",
       "0                           20.0          0         1                  24.0   \n",
       "1                           45.0          0         0                   1.0   \n",
       "2                           23.0          1         0                   1.0   \n",
       "3                           10.0          0         0                   3.0   \n",
       "4                           10.0          1         1                   1.5   \n",
       "\n",
       "   dyspnoea  ...  pleural_lactic_dehydrogenise  pleural_protein  \\\n",
       "0         1  ...                         289.0              0.0   \n",
       "1         1  ...                        7541.0              1.6   \n",
       "2         0  ...                         480.0              0.0   \n",
       "3         0  ...                         459.0              5.0   \n",
       "4         1  ...                         213.0              3.6   \n",
       "\n",
       "   pleural_albumin  pleural_glucose  dead_or_not  pleural_effusion  \\\n",
       "0             0.00             79.0            1               0.0   \n",
       "1             0.80              6.0            1               1.0   \n",
       "2             0.00             90.0            1               0.0   \n",
       "3             2.80             45.0            1               1.0   \n",
       "4             1.95             53.0            1               1.0   \n",
       "\n",
       "   pleural_thickness_on_tomography  pleural_level_of_acidity_(pH)  \\\n",
       "0                              0.0                            0.0   \n",
       "1                              1.0                            1.0   \n",
       "2                              0.0                            0.0   \n",
       "3                              0.0                            0.0   \n",
       "4                              0.0                            0.0   \n",
       "\n",
       "   C-reactive_protein_(CRP)  class_of_diagnosis  \n",
       "0                        34                   1  \n",
       "1                        42                   1  \n",
       "2                        43                   2  \n",
       "3                        21                   1  \n",
       "4                        11                   1  \n",
       "\n",
       "[5 rows x 34 columns]"
      ]
     },
     "execution_count": 6,
     "metadata": {},
     "output_type": "execute_result"
    }
   ],
   "source": [
    "# removing blank spaces in column names\n",
    "df.columns = df.columns.str.replace(' ', '_')\n",
    "df.head()"
   ]
  },
  {
   "cell_type": "markdown",
   "metadata": {},
   "source": [
    "Details on: https://www.overleaf.com/2229811927sftxcwqrxthn\n",
    "\n",
    "Résultats recherches en Fr de certaines variables:\n",
    "* **city**: où habite le patient (plus ou moins proche de la ville)\n",
    "* **asbestos exposure**: exposition à l'amiante, un silicate fibreux d’origine naturelle\n",
    "* **cytology**: dépistage par cytologie (= étude des cellules isolées)\n",
    "* **White Blood cell count (WBC)**: quantité de globule blanc\n",
    "* **haemoglobin (HGB)**: 0 ou 1 = anémie ou non??\n",
    "* **platelet count (PLT)**: nombre de plaquettes (thrombocytes) (low platelet concentration is called thrombocytopenia, and is due to either decreased production or increased destruction. Elevated platelet concentration is called thrombocytosis, and is either congenital, reactive (to cytokines), or due to unregulated production)\n",
    "* **sedimentation**:  sedimentation rate = blood test that checks for inflammation in your body (measures how fast red blood cells fall to the bottom of a tube. Inflammation creates proteins that make red blood cells fall more quickly)\n",
    "* **blood lactic dehydrogenise (LDH)**: taux de LDH ou Lactate déshydrogénase (type de protéine aussi appelé enzyme), quand des tissus sont endommagés ou malades, ils relâchent des isoenzymes de LDH dans le sang => le type de LDH rejetté dépend du tissu endommagé\n",
    "* **alkaline phosphatise (ALP)**: enzyme présente dans le sang, si le taux présent est élevé => problème éventuel = foie, hépatite, obstruction des voies biliaires, cirrhose ou problèmes au niveau des os\n",
    "* **total protein**: quantité totale de protéine (albumin+globulin) dans le sang (normal values = 6.0 to 8.3 grams per deciliter)"
   ]
  },
  {
   "cell_type": "code",
   "execution_count": 7,
   "metadata": {},
   "outputs": [
    {
     "data": {
      "text/plain": [
       "age                                 float64\n",
       "gender                                int64\n",
       "city                                  int64\n",
       "asbestos_exposure                     int64\n",
       "type_of_MM                          float64\n",
       "duration_of_asbestos_exposure       float64\n",
       "keep_side                             int64\n",
       "cytology                              int64\n",
       "duration_of_symptoms                float64\n",
       "dyspnoea                              int64\n",
       "ache_on_chest                         int64\n",
       "weakness                              int64\n",
       "habit_of_cigarette                    int64\n",
       "performance_status                    int64\n",
       "white_blood                         float64\n",
       "cell_count_(WBC)                      int64\n",
       "hemoglobin_(HGB)                      int64\n",
       "platelet_count_(PLT)                float64\n",
       "sedimentation                       float64\n",
       "blood_lactic_dehydrogenise_(LDH)    float64\n",
       "alkaline_phosphatise_(ALP)          float64\n",
       "total_protein                       float64\n",
       "albumin                             float64\n",
       "glucose                             float64\n",
       "pleural_lactic_dehydrogenise        float64\n",
       "pleural_protein                     float64\n",
       "pleural_albumin                     float64\n",
       "pleural_glucose                     float64\n",
       "dead_or_not                           int64\n",
       "pleural_effusion                    float64\n",
       "pleural_thickness_on_tomography     float64\n",
       "pleural_level_of_acidity_(pH)       float64\n",
       "C-reactive_protein_(CRP)              int64\n",
       "class_of_diagnosis                    int64\n",
       "dtype: object"
      ]
     },
     "execution_count": 7,
     "metadata": {},
     "output_type": "execute_result"
    }
   ],
   "source": [
    "# column types\n",
    "df.dtypes # some issue with type of categorical/boolean variables"
   ]
  },
  {
   "cell_type": "code",
   "execution_count": 8,
   "metadata": {},
   "outputs": [
    {
     "data": {
      "text/plain": [
       "array([1, 2])"
      ]
     },
     "execution_count": 8,
     "metadata": {},
     "output_type": "execute_result"
    }
   ],
   "source": [
    "df[\"class_of_diagnosis\"].unique() # target variable (boolean)"
   ]
  },
  {
   "cell_type": "code",
   "execution_count": 9,
   "metadata": {},
   "outputs": [],
   "source": [
    "df[\"class_of_diagnosis\"] = df[\"class_of_diagnosis\"].apply(lambda x: 1 if x == 2 else 0)"
   ]
  },
  {
   "cell_type": "code",
   "execution_count": 10,
   "metadata": {},
   "outputs": [
    {
     "data": {
      "text/plain": [
       "array([0, 1, 3, 4, 5, 2, 6, 7, 8])"
      ]
     },
     "execution_count": 10,
     "metadata": {},
     "output_type": "execute_result"
    }
   ],
   "source": [
    "df[\"city\"].unique()"
   ]
  },
  {
   "cell_type": "code",
   "execution_count": 11,
   "metadata": {},
   "outputs": [
    {
     "data": {
      "text/plain": [
       "array([0., 1., 2.])"
      ]
     },
     "execution_count": 11,
     "metadata": {},
     "output_type": "execute_result"
    }
   ],
   "source": [
    "df[\"type_of_MM\"].unique() # float instead of int"
   ]
  },
  {
   "cell_type": "code",
   "execution_count": 12,
   "metadata": {},
   "outputs": [],
   "source": [
    "df[\"type_of_MM\"] = df[\"type_of_MM\"].astype('int')"
   ]
  },
  {
   "cell_type": "code",
   "execution_count": 13,
   "metadata": {},
   "outputs": [
    {
     "data": {
      "text/plain": [
       "array([0., 1.])"
      ]
     },
     "execution_count": 13,
     "metadata": {},
     "output_type": "execute_result"
    }
   ],
   "source": [
    "df[\"pleural_level_of_acidity_(pH)\"].unique() # same"
   ]
  },
  {
   "cell_type": "code",
   "execution_count": 14,
   "metadata": {},
   "outputs": [],
   "source": [
    "df[\"pleural_level_of_acidity_(pH)\"] = df[\"pleural_level_of_acidity_(pH)\"].astype('int')"
   ]
  },
  {
   "cell_type": "code",
   "execution_count": 15,
   "metadata": {},
   "outputs": [
    {
     "data": {
      "text/plain": [
       "array([0, 1, 2])"
      ]
     },
     "execution_count": 15,
     "metadata": {},
     "output_type": "execute_result"
    }
   ],
   "source": [
    "df[\"keep_side\"].unique() # keep_side is lung_side in another paper using the same data"
   ]
  },
  {
   "cell_type": "code",
   "execution_count": 16,
   "metadata": {},
   "outputs": [
    {
     "data": {
      "text/plain": [
       "0      0\n",
       "1      0\n",
       "2      1\n",
       "3      0\n",
       "4      1\n",
       "      ..\n",
       "319    1\n",
       "320    1\n",
       "321    0\n",
       "322    1\n",
       "323    1\n",
       "Name: lung_side, Length: 324, dtype: int64"
      ]
     },
     "execution_count": 16,
     "metadata": {},
     "output_type": "execute_result"
    }
   ],
   "source": [
    "df = df.rename(columns={'keep_side':'lung_side'}) # changing name\n",
    "df.lung_side # 0 = no pleural plaque (1 or 2 = right or left side of the lung)"
   ]
  },
  {
   "cell_type": "code",
   "execution_count": 17,
   "metadata": {},
   "outputs": [
    {
     "data": {
      "text/plain": [
       "array([1, 0])"
      ]
     },
     "execution_count": 17,
     "metadata": {},
     "output_type": "execute_result"
    }
   ],
   "source": [
    "df[\"cytology\"].unique() # boolean"
   ]
  },
  {
   "cell_type": "code",
   "execution_count": 18,
   "metadata": {},
   "outputs": [
    {
     "data": {
      "text/plain": [
       "array([1, 0])"
      ]
     },
     "execution_count": 18,
     "metadata": {},
     "output_type": "execute_result"
    }
   ],
   "source": [
    "df[\"gender\"].unique() # category"
   ]
  },
  {
   "cell_type": "code",
   "execution_count": 19,
   "metadata": {},
   "outputs": [
    {
     "data": {
      "text/plain": [
       "array([2, 3, 0, 1])"
      ]
     },
     "execution_count": 19,
     "metadata": {},
     "output_type": "execute_result"
    }
   ],
   "source": [
    "df[\"habit_of_cigarette\"].unique() # categoryy"
   ]
  },
  {
   "cell_type": "code",
   "execution_count": 20,
   "metadata": {},
   "outputs": [
    {
     "data": {
      "text/plain": [
       "array([0., 1.])"
      ]
     },
     "execution_count": 20,
     "metadata": {},
     "output_type": "execute_result"
    }
   ],
   "source": [
    "df[\"pleural_effusion\"].unique() # boolean (need to be converted in int type)"
   ]
  },
  {
   "cell_type": "code",
   "execution_count": 21,
   "metadata": {},
   "outputs": [],
   "source": [
    "df[\"pleural_effusion\"] = df[\"pleural_effusion\"].astype('int')"
   ]
  },
  {
   "cell_type": "code",
   "execution_count": 22,
   "metadata": {},
   "outputs": [
    {
     "data": {
      "text/plain": [
       "array([0., 1.])"
      ]
     },
     "execution_count": 22,
     "metadata": {},
     "output_type": "execute_result"
    }
   ],
   "source": [
    "df[\"pleural_thickness_on_tomography\"].unique() # boolean (need to be converted in int type)"
   ]
  },
  {
   "cell_type": "code",
   "execution_count": 23,
   "metadata": {},
   "outputs": [],
   "source": [
    "df[\"pleural_thickness_on_tomography\"] = df[\"pleural_thickness_on_tomography\"].astype('int')"
   ]
  },
  {
   "cell_type": "code",
   "execution_count": 24,
   "metadata": {},
   "outputs": [
    {
     "data": {
      "text/plain": [
       "array([1, 0])"
      ]
     },
     "execution_count": 24,
     "metadata": {},
     "output_type": "execute_result"
    }
   ],
   "source": [
    "df[\"hemoglobin_(HGB)\"].unique() # boolean"
   ]
  },
  {
   "cell_type": "code",
   "execution_count": 25,
   "metadata": {},
   "outputs": [
    {
     "data": {
      "text/plain": [
       "array([1, 0])"
      ]
     },
     "execution_count": 25,
     "metadata": {},
     "output_type": "execute_result"
    }
   ],
   "source": [
    "df[\"performance_status\"].unique() # boolean"
   ]
  },
  {
   "cell_type": "code",
   "execution_count": 26,
   "metadata": {},
   "outputs": [
    {
     "data": {
      "text/plain": [
       "array([0, 1])"
      ]
     },
     "execution_count": 26,
     "metadata": {},
     "output_type": "execute_result"
    }
   ],
   "source": [
    "df[\"weakness\"].unique() # boolean"
   ]
  },
  {
   "cell_type": "code",
   "execution_count": 27,
   "metadata": {},
   "outputs": [
    {
     "data": {
      "text/plain": [
       "array([1, 0])"
      ]
     },
     "execution_count": 27,
     "metadata": {},
     "output_type": "execute_result"
    }
   ],
   "source": [
    "df[\"ache_on_chest\"].unique() # boolean"
   ]
  },
  {
   "cell_type": "code",
   "execution_count": 28,
   "metadata": {},
   "outputs": [
    {
     "data": {
      "text/plain": [
       "array([1, 0])"
      ]
     },
     "execution_count": 28,
     "metadata": {},
     "output_type": "execute_result"
    }
   ],
   "source": [
    "df[\"dyspnoea\"].unique() # boolean"
   ]
  },
  {
   "cell_type": "code",
   "execution_count": 29,
   "metadata": {},
   "outputs": [
    {
     "data": {
      "text/plain": [
       "array([1, 0])"
      ]
     },
     "execution_count": 29,
     "metadata": {},
     "output_type": "execute_result"
    }
   ],
   "source": [
    "df[\"asbestos_exposure\"].unique() # boolean"
   ]
  },
  {
   "cell_type": "code",
   "execution_count": 30,
   "metadata": {},
   "outputs": [
    {
     "name": "stdout",
     "output_type": "stream",
     "text": [
      "<class 'pandas.core.frame.DataFrame'>\n",
      "RangeIndex: 324 entries, 0 to 323\n",
      "Data columns (total 34 columns):\n",
      " #   Column                            Non-Null Count  Dtype  \n",
      "---  ------                            --------------  -----  \n",
      " 0   age                               324 non-null    float64\n",
      " 1   gender                            324 non-null    int64  \n",
      " 2   city                              324 non-null    int64  \n",
      " 3   asbestos_exposure                 324 non-null    int64  \n",
      " 4   type_of_MM                        324 non-null    int64  \n",
      " 5   duration_of_asbestos_exposure     324 non-null    float64\n",
      " 6   lung_side                         324 non-null    int64  \n",
      " 7   cytology                          324 non-null    int64  \n",
      " 8   duration_of_symptoms              324 non-null    float64\n",
      " 9   dyspnoea                          324 non-null    int64  \n",
      " 10  ache_on_chest                     324 non-null    int64  \n",
      " 11  weakness                          324 non-null    int64  \n",
      " 12  habit_of_cigarette                324 non-null    int64  \n",
      " 13  performance_status                324 non-null    int64  \n",
      " 14  white_blood                       324 non-null    float64\n",
      " 15  cell_count_(WBC)                  324 non-null    int64  \n",
      " 16  hemoglobin_(HGB)                  324 non-null    int64  \n",
      " 17  platelet_count_(PLT)              324 non-null    float64\n",
      " 18  sedimentation                     324 non-null    float64\n",
      " 19  blood_lactic_dehydrogenise_(LDH)  324 non-null    float64\n",
      " 20  alkaline_phosphatise_(ALP)        324 non-null    float64\n",
      " 21  total_protein                     324 non-null    float64\n",
      " 22  albumin                           324 non-null    float64\n",
      " 23  glucose                           324 non-null    float64\n",
      " 24  pleural_lactic_dehydrogenise      324 non-null    float64\n",
      " 25  pleural_protein                   324 non-null    float64\n",
      " 26  pleural_albumin                   324 non-null    float64\n",
      " 27  pleural_glucose                   324 non-null    float64\n",
      " 28  dead_or_not                       324 non-null    int64  \n",
      " 29  pleural_effusion                  324 non-null    int64  \n",
      " 30  pleural_thickness_on_tomography   324 non-null    int64  \n",
      " 31  pleural_level_of_acidity_(pH)     324 non-null    int64  \n",
      " 32  C-reactive_protein_(CRP)          324 non-null    int64  \n",
      " 33  class_of_diagnosis                324 non-null    int64  \n",
      "dtypes: float64(15), int64(19)\n",
      "memory usage: 86.2 KB\n"
     ]
    }
   ],
   "source": [
    "df.info() # no NA"
   ]
  },
  {
   "cell_type": "code",
   "execution_count": 31,
   "metadata": {},
   "outputs": [
    {
     "data": {
      "text/html": [
       "<div>\n",
       "<style scoped>\n",
       "    .dataframe tbody tr th:only-of-type {\n",
       "        vertical-align: middle;\n",
       "    }\n",
       "\n",
       "    .dataframe tbody tr th {\n",
       "        vertical-align: top;\n",
       "    }\n",
       "\n",
       "    .dataframe thead th {\n",
       "        text-align: right;\n",
       "    }\n",
       "</style>\n",
       "<table border=\"1\" class=\"dataframe\">\n",
       "  <thead>\n",
       "    <tr style=\"text-align: right;\">\n",
       "      <th></th>\n",
       "      <th>age</th>\n",
       "      <th>gender</th>\n",
       "      <th>city</th>\n",
       "      <th>asbestos_exposure</th>\n",
       "      <th>type_of_MM</th>\n",
       "      <th>duration_of_asbestos_exposure</th>\n",
       "      <th>lung_side</th>\n",
       "      <th>cytology</th>\n",
       "      <th>duration_of_symptoms</th>\n",
       "      <th>dyspnoea</th>\n",
       "      <th>...</th>\n",
       "      <th>pleural_lactic_dehydrogenise</th>\n",
       "      <th>pleural_protein</th>\n",
       "      <th>pleural_albumin</th>\n",
       "      <th>pleural_glucose</th>\n",
       "      <th>dead_or_not</th>\n",
       "      <th>pleural_effusion</th>\n",
       "      <th>pleural_thickness_on_tomography</th>\n",
       "      <th>pleural_level_of_acidity_(pH)</th>\n",
       "      <th>C-reactive_protein_(CRP)</th>\n",
       "      <th>class_of_diagnosis</th>\n",
       "    </tr>\n",
       "  </thead>\n",
       "  <tbody>\n",
       "    <tr>\n",
       "      <th>count</th>\n",
       "      <td>324.000000</td>\n",
       "      <td>324.000000</td>\n",
       "      <td>324.000000</td>\n",
       "      <td>324.000000</td>\n",
       "      <td>324.000000</td>\n",
       "      <td>324.000000</td>\n",
       "      <td>324.000000</td>\n",
       "      <td>324.000000</td>\n",
       "      <td>324.000000</td>\n",
       "      <td>324.000000</td>\n",
       "      <td>...</td>\n",
       "      <td>324.000000</td>\n",
       "      <td>324.000000</td>\n",
       "      <td>324.000000</td>\n",
       "      <td>324.000000</td>\n",
       "      <td>324.000000</td>\n",
       "      <td>324.000000</td>\n",
       "      <td>324.000000</td>\n",
       "      <td>324.000000</td>\n",
       "      <td>324.000000</td>\n",
       "      <td>324.000000</td>\n",
       "    </tr>\n",
       "    <tr>\n",
       "      <th>mean</th>\n",
       "      <td>54.743827</td>\n",
       "      <td>0.586420</td>\n",
       "      <td>2.530864</td>\n",
       "      <td>0.864198</td>\n",
       "      <td>0.052469</td>\n",
       "      <td>30.188272</td>\n",
       "      <td>0.759259</td>\n",
       "      <td>0.280864</td>\n",
       "      <td>5.442901</td>\n",
       "      <td>0.817901</td>\n",
       "      <td>...</td>\n",
       "      <td>518.472222</td>\n",
       "      <td>3.937562</td>\n",
       "      <td>2.076883</td>\n",
       "      <td>48.444444</td>\n",
       "      <td>0.944444</td>\n",
       "      <td>0.870370</td>\n",
       "      <td>0.595679</td>\n",
       "      <td>0.521605</td>\n",
       "      <td>64.188272</td>\n",
       "      <td>0.296296</td>\n",
       "    </tr>\n",
       "    <tr>\n",
       "      <th>std</th>\n",
       "      <td>11.002637</td>\n",
       "      <td>0.493237</td>\n",
       "      <td>2.429623</td>\n",
       "      <td>0.343109</td>\n",
       "      <td>0.261622</td>\n",
       "      <td>16.419945</td>\n",
       "      <td>0.565308</td>\n",
       "      <td>0.450116</td>\n",
       "      <td>4.717792</td>\n",
       "      <td>0.386523</td>\n",
       "      <td>...</td>\n",
       "      <td>536.279128</td>\n",
       "      <td>1.575008</td>\n",
       "      <td>0.915411</td>\n",
       "      <td>27.232516</td>\n",
       "      <td>0.229416</td>\n",
       "      <td>0.336415</td>\n",
       "      <td>0.491519</td>\n",
       "      <td>0.500306</td>\n",
       "      <td>22.661837</td>\n",
       "      <td>0.457330</td>\n",
       "    </tr>\n",
       "    <tr>\n",
       "      <th>min</th>\n",
       "      <td>19.000000</td>\n",
       "      <td>0.000000</td>\n",
       "      <td>0.000000</td>\n",
       "      <td>0.000000</td>\n",
       "      <td>0.000000</td>\n",
       "      <td>0.000000</td>\n",
       "      <td>0.000000</td>\n",
       "      <td>0.000000</td>\n",
       "      <td>0.500000</td>\n",
       "      <td>0.000000</td>\n",
       "      <td>...</td>\n",
       "      <td>110.000000</td>\n",
       "      <td>0.000000</td>\n",
       "      <td>0.000000</td>\n",
       "      <td>2.000000</td>\n",
       "      <td>0.000000</td>\n",
       "      <td>0.000000</td>\n",
       "      <td>0.000000</td>\n",
       "      <td>0.000000</td>\n",
       "      <td>11.000000</td>\n",
       "      <td>0.000000</td>\n",
       "    </tr>\n",
       "    <tr>\n",
       "      <th>25%</th>\n",
       "      <td>47.000000</td>\n",
       "      <td>0.000000</td>\n",
       "      <td>0.000000</td>\n",
       "      <td>1.000000</td>\n",
       "      <td>0.000000</td>\n",
       "      <td>19.750000</td>\n",
       "      <td>0.000000</td>\n",
       "      <td>0.000000</td>\n",
       "      <td>2.875000</td>\n",
       "      <td>1.000000</td>\n",
       "      <td>...</td>\n",
       "      <td>322.000000</td>\n",
       "      <td>3.400000</td>\n",
       "      <td>1.607500</td>\n",
       "      <td>29.000000</td>\n",
       "      <td>1.000000</td>\n",
       "      <td>1.000000</td>\n",
       "      <td>0.000000</td>\n",
       "      <td>0.000000</td>\n",
       "      <td>42.000000</td>\n",
       "      <td>0.000000</td>\n",
       "    </tr>\n",
       "    <tr>\n",
       "      <th>50%</th>\n",
       "      <td>55.000000</td>\n",
       "      <td>1.000000</td>\n",
       "      <td>2.000000</td>\n",
       "      <td>1.000000</td>\n",
       "      <td>0.000000</td>\n",
       "      <td>34.000000</td>\n",
       "      <td>1.000000</td>\n",
       "      <td>0.000000</td>\n",
       "      <td>5.000000</td>\n",
       "      <td>1.000000</td>\n",
       "      <td>...</td>\n",
       "      <td>510.000000</td>\n",
       "      <td>4.200000</td>\n",
       "      <td>2.200000</td>\n",
       "      <td>38.000000</td>\n",
       "      <td>1.000000</td>\n",
       "      <td>1.000000</td>\n",
       "      <td>1.000000</td>\n",
       "      <td>1.000000</td>\n",
       "      <td>68.000000</td>\n",
       "      <td>0.000000</td>\n",
       "    </tr>\n",
       "    <tr>\n",
       "      <th>75%</th>\n",
       "      <td>63.000000</td>\n",
       "      <td>1.000000</td>\n",
       "      <td>5.000000</td>\n",
       "      <td>1.000000</td>\n",
       "      <td>0.000000</td>\n",
       "      <td>43.000000</td>\n",
       "      <td>1.000000</td>\n",
       "      <td>1.000000</td>\n",
       "      <td>7.000000</td>\n",
       "      <td>1.000000</td>\n",
       "      <td>...</td>\n",
       "      <td>545.000000</td>\n",
       "      <td>4.925000</td>\n",
       "      <td>2.725000</td>\n",
       "      <td>75.000000</td>\n",
       "      <td>1.000000</td>\n",
       "      <td>1.000000</td>\n",
       "      <td>1.000000</td>\n",
       "      <td>1.000000</td>\n",
       "      <td>79.000000</td>\n",
       "      <td>1.000000</td>\n",
       "    </tr>\n",
       "    <tr>\n",
       "      <th>max</th>\n",
       "      <td>85.000000</td>\n",
       "      <td>1.000000</td>\n",
       "      <td>8.000000</td>\n",
       "      <td>1.000000</td>\n",
       "      <td>2.000000</td>\n",
       "      <td>70.000000</td>\n",
       "      <td>2.000000</td>\n",
       "      <td>1.000000</td>\n",
       "      <td>52.000000</td>\n",
       "      <td>1.000000</td>\n",
       "      <td>...</td>\n",
       "      <td>7541.000000</td>\n",
       "      <td>6.700000</td>\n",
       "      <td>4.400000</td>\n",
       "      <td>151.000000</td>\n",
       "      <td>1.000000</td>\n",
       "      <td>1.000000</td>\n",
       "      <td>1.000000</td>\n",
       "      <td>1.000000</td>\n",
       "      <td>103.000000</td>\n",
       "      <td>1.000000</td>\n",
       "    </tr>\n",
       "  </tbody>\n",
       "</table>\n",
       "<p>8 rows × 34 columns</p>\n",
       "</div>"
      ],
      "text/plain": [
       "              age      gender        city  asbestos_exposure  type_of_MM  \\\n",
       "count  324.000000  324.000000  324.000000         324.000000  324.000000   \n",
       "mean    54.743827    0.586420    2.530864           0.864198    0.052469   \n",
       "std     11.002637    0.493237    2.429623           0.343109    0.261622   \n",
       "min     19.000000    0.000000    0.000000           0.000000    0.000000   \n",
       "25%     47.000000    0.000000    0.000000           1.000000    0.000000   \n",
       "50%     55.000000    1.000000    2.000000           1.000000    0.000000   \n",
       "75%     63.000000    1.000000    5.000000           1.000000    0.000000   \n",
       "max     85.000000    1.000000    8.000000           1.000000    2.000000   \n",
       "\n",
       "       duration_of_asbestos_exposure   lung_side    cytology  \\\n",
       "count                     324.000000  324.000000  324.000000   \n",
       "mean                       30.188272    0.759259    0.280864   \n",
       "std                        16.419945    0.565308    0.450116   \n",
       "min                         0.000000    0.000000    0.000000   \n",
       "25%                        19.750000    0.000000    0.000000   \n",
       "50%                        34.000000    1.000000    0.000000   \n",
       "75%                        43.000000    1.000000    1.000000   \n",
       "max                        70.000000    2.000000    1.000000   \n",
       "\n",
       "       duration_of_symptoms    dyspnoea  ...  pleural_lactic_dehydrogenise  \\\n",
       "count            324.000000  324.000000  ...                    324.000000   \n",
       "mean               5.442901    0.817901  ...                    518.472222   \n",
       "std                4.717792    0.386523  ...                    536.279128   \n",
       "min                0.500000    0.000000  ...                    110.000000   \n",
       "25%                2.875000    1.000000  ...                    322.000000   \n",
       "50%                5.000000    1.000000  ...                    510.000000   \n",
       "75%                7.000000    1.000000  ...                    545.000000   \n",
       "max               52.000000    1.000000  ...                   7541.000000   \n",
       "\n",
       "       pleural_protein  pleural_albumin  pleural_glucose  dead_or_not  \\\n",
       "count       324.000000       324.000000       324.000000   324.000000   \n",
       "mean          3.937562         2.076883        48.444444     0.944444   \n",
       "std           1.575008         0.915411        27.232516     0.229416   \n",
       "min           0.000000         0.000000         2.000000     0.000000   \n",
       "25%           3.400000         1.607500        29.000000     1.000000   \n",
       "50%           4.200000         2.200000        38.000000     1.000000   \n",
       "75%           4.925000         2.725000        75.000000     1.000000   \n",
       "max           6.700000         4.400000       151.000000     1.000000   \n",
       "\n",
       "       pleural_effusion  pleural_thickness_on_tomography  \\\n",
       "count        324.000000                       324.000000   \n",
       "mean           0.870370                         0.595679   \n",
       "std            0.336415                         0.491519   \n",
       "min            0.000000                         0.000000   \n",
       "25%            1.000000                         0.000000   \n",
       "50%            1.000000                         1.000000   \n",
       "75%            1.000000                         1.000000   \n",
       "max            1.000000                         1.000000   \n",
       "\n",
       "       pleural_level_of_acidity_(pH)  C-reactive_protein_(CRP)  \\\n",
       "count                     324.000000                324.000000   \n",
       "mean                        0.521605                 64.188272   \n",
       "std                         0.500306                 22.661837   \n",
       "min                         0.000000                 11.000000   \n",
       "25%                         0.000000                 42.000000   \n",
       "50%                         1.000000                 68.000000   \n",
       "75%                         1.000000                 79.000000   \n",
       "max                         1.000000                103.000000   \n",
       "\n",
       "       class_of_diagnosis  \n",
       "count          324.000000  \n",
       "mean             0.296296  \n",
       "std              0.457330  \n",
       "min              0.000000  \n",
       "25%              0.000000  \n",
       "50%              0.000000  \n",
       "75%              1.000000  \n",
       "max              1.000000  \n",
       "\n",
       "[8 rows x 34 columns]"
      ]
     },
     "execution_count": 31,
     "metadata": {},
     "output_type": "execute_result"
    }
   ],
   "source": [
    "df.describe()"
   ]
  },
  {
   "cell_type": "code",
   "execution_count": 32,
   "metadata": {},
   "outputs": [],
   "source": [
    "# changing names of columns with brackets in it\n",
    "df = df.rename(columns={'platelet_count_(PLT)':'platelet_count'}) # changing name\n",
    "df = df.rename(columns={'cell_count_(WBC)':'cell_count'}) # changing name\n",
    "df = df.rename(columns={'hemoglobin_(HGB)':'hemoglobin'}) # changing name\n",
    "df = df.rename(columns={'blood_lactic_dehydrogenise_(LDH)':'blood_lactic_dehydrogenise'}) \n",
    "df = df.rename(columns={'alkaline_phosphatise_(ALP)':'alkaline_phosphatise'}) \n",
    "df = df.rename(columns={'pleural_level_of_acidity_(pH)':'pleural_level_of_acidity'}) \n",
    "df = df.rename(columns={'C-reactive_protein_(CRP)':'C_reactive_protein'}) "
   ]
  },
  {
   "cell_type": "code",
   "execution_count": 33,
   "metadata": {},
   "outputs": [],
   "source": [
    "# converting categorical variables into \"Categorical\" pandas type\n",
    "df[\"city\"] = pd.Categorical(df[\"city\"], ordered=False)\n",
    "df[\"type_of_MM\"] = pd.Categorical(df[\"type_of_MM\"], ordered=False)\n",
    "df[\"lung_side\"] = pd.Categorical(df[\"lung_side\"], ordered=False)\n",
    "df[\"habit_of_cigarette\"] = pd.Categorical(df[\"habit_of_cigarette\"], ordered=False)\n",
    "df[\"gender\"] = pd.Categorical(df[\"gender\"])\n",
    "df[\"performance_status\"] = pd.Categorical(df[\"performance_status\"], ordered=False)"
   ]
  },
  {
   "cell_type": "markdown",
   "metadata": {},
   "source": [
    "## Descriptive stats"
   ]
  },
  {
   "cell_type": "markdown",
   "metadata": {},
   "source": [
    "### Univariate stats"
   ]
  },
  {
   "cell_type": "code",
   "execution_count": 34,
   "metadata": {},
   "outputs": [],
   "source": [
    "# library & dataset\n",
    "import seaborn as sns\n",
    "\n",
    "# style \n",
    "sns.set(style=\"darkgrid\")"
   ]
  },
  {
   "cell_type": "code",
   "execution_count": 35,
   "metadata": {},
   "outputs": [
    {
     "data": {
      "text/plain": [
       "0    310\n",
       "1     11\n",
       "2      3\n",
       "Name: type_of_MM, dtype: int64"
      ]
     },
     "execution_count": 35,
     "metadata": {},
     "output_type": "execute_result"
    }
   ],
   "source": [
    "df[\"type_of_MM\"].value_counts() # more people with 0 as type of MM (which stands for no MM)"
   ]
  },
  {
   "cell_type": "code",
   "execution_count": 36,
   "metadata": {},
   "outputs": [
    {
     "data": {
      "text/plain": [
       "0    228\n",
       "1     96\n",
       "Name: class_of_diagnosis, dtype: int64"
      ]
     },
     "execution_count": 36,
     "metadata": {},
     "output_type": "execute_result"
    }
   ],
   "source": [
    "df[\"class_of_diagnosis\"].value_counts() # 96 non-healthy for 228 healthy"
   ]
  },
  {
   "cell_type": "code",
   "execution_count": 37,
   "metadata": {},
   "outputs": [
    {
     "name": "stdout",
     "output_type": "stream",
     "text": [
      "70.37% healthy and 29.54% non healthy in the dataset\n"
     ]
    }
   ],
   "source": [
    "print(\"{:.2f}% healthy and {:.2f}% non healthy in the dataset\".format(228/(228+96)*100,\n",
    "                                                            96/(229+96)*100))"
   ]
  },
  {
   "cell_type": "code",
   "execution_count": 38,
   "metadata": {},
   "outputs": [],
   "source": [
    "# type_of_MM has information only on 14 out of 96 patients on the type of MM\n",
    "# so we will remove it from the dataset\n",
    "df = df.drop(\"type_of_MM\", axis=1)"
   ]
  },
  {
   "cell_type": "code",
   "execution_count": 39,
   "metadata": {},
   "outputs": [
    {
     "data": {
      "text/plain": [
       "<seaborn.axisgrid.FacetGrid at 0x7fa6193be690>"
      ]
     },
     "execution_count": 39,
     "metadata": {},
     "output_type": "execute_result"
    },
    {
     "data": {
      "image/png": "[encoded data removed]",
      "text/plain": [
       "<Figure size 360x360 with 1 Axes>"
      ]
     },
     "metadata": {},
     "output_type": "display_data"
    }
   ],
   "source": [
    "sns.displot(df, x=\"age\")"
   ]
  },
  {
   "cell_type": "code",
   "execution_count": 40,
   "metadata": {},
   "outputs": [
    {
     "data": {
      "text/plain": [
       "<seaborn.axisgrid.FacetGrid at 0x7fa61958ffd0>"
      ]
     },
     "execution_count": 40,
     "metadata": {},
     "output_type": "execute_result"
    },
    {
     "data": {
      "image/png": "[encoded data removed]",
      "text/plain": [
       "<Figure size 360x360 with 1 Axes>"
      ]
     },
     "metadata": {},
     "output_type": "display_data"
    }
   ],
   "source": [
    "sns.displot(df, x=\"duration_of_asbestos_exposure\")"
   ]
  },
  {
   "cell_type": "markdown",
   "metadata": {},
   "source": [
    "### Statistiques bivariées"
   ]
  },
  {
   "cell_type": "code",
   "execution_count": 41,
   "metadata": {},
   "outputs": [
    {
     "data": {
      "text/html": [
       "<div>\n",
       "<style scoped>\n",
       "    .dataframe tbody tr th:only-of-type {\n",
       "        vertical-align: middle;\n",
       "    }\n",
       "\n",
       "    .dataframe tbody tr th {\n",
       "        vertical-align: top;\n",
       "    }\n",
       "\n",
       "    .dataframe thead th {\n",
       "        text-align: right;\n",
       "    }\n",
       "</style>\n",
       "<table border=\"1\" class=\"dataframe\">\n",
       "  <thead>\n",
       "    <tr style=\"text-align: right;\">\n",
       "      <th>asbestos_exposure</th>\n",
       "      <th>0</th>\n",
       "      <th>1</th>\n",
       "    </tr>\n",
       "    <tr>\n",
       "      <th>class_of_diagnosis</th>\n",
       "      <th></th>\n",
       "      <th></th>\n",
       "    </tr>\n",
       "  </thead>\n",
       "  <tbody>\n",
       "    <tr>\n",
       "      <th>0</th>\n",
       "      <td>35</td>\n",
       "      <td>193</td>\n",
       "    </tr>\n",
       "    <tr>\n",
       "      <th>1</th>\n",
       "      <td>9</td>\n",
       "      <td>87</td>\n",
       "    </tr>\n",
       "  </tbody>\n",
       "</table>\n",
       "</div>"
      ],
      "text/plain": [
       "asbestos_exposure    0    1\n",
       "class_of_diagnosis         \n",
       "0                   35  193\n",
       "1                    9   87"
      ]
     },
     "execution_count": 41,
     "metadata": {},
     "output_type": "execute_result"
    }
   ],
   "source": [
    "pd.crosstab(df[\"class_of_diagnosis\"], df[\"asbestos_exposure\"]) "
   ]
  },
  {
   "cell_type": "code",
   "execution_count": 42,
   "metadata": {},
   "outputs": [
    {
     "data": {
      "text/html": [
       "<div>\n",
       "<style scoped>\n",
       "    .dataframe tbody tr th:only-of-type {\n",
       "        vertical-align: middle;\n",
       "    }\n",
       "\n",
       "    .dataframe tbody tr th {\n",
       "        vertical-align: top;\n",
       "    }\n",
       "\n",
       "    .dataframe thead th {\n",
       "        text-align: right;\n",
       "    }\n",
       "</style>\n",
       "<table border=\"1\" class=\"dataframe\">\n",
       "  <thead>\n",
       "    <tr style=\"text-align: right;\">\n",
       "      <th>dead_or_not</th>\n",
       "      <th>0</th>\n",
       "      <th>1</th>\n",
       "    </tr>\n",
       "    <tr>\n",
       "      <th>class_of_diagnosis</th>\n",
       "      <th></th>\n",
       "      <th></th>\n",
       "    </tr>\n",
       "  </thead>\n",
       "  <tbody>\n",
       "    <tr>\n",
       "      <th>0</th>\n",
       "      <td>14</td>\n",
       "      <td>214</td>\n",
       "    </tr>\n",
       "    <tr>\n",
       "      <th>1</th>\n",
       "      <td>4</td>\n",
       "      <td>92</td>\n",
       "    </tr>\n",
       "  </tbody>\n",
       "</table>\n",
       "</div>"
      ],
      "text/plain": [
       "dead_or_not          0    1\n",
       "class_of_diagnosis         \n",
       "0                   14  214\n",
       "1                    4   92"
      ]
     },
     "execution_count": 42,
     "metadata": {},
     "output_type": "execute_result"
    }
   ],
   "source": [
    "pd.crosstab(df[\"class_of_diagnosis\"], df[\"dead_or_not\"]) # more healthy (diagnosis=1) that die than not healthy, strange"
   ]
  },
  {
   "cell_type": "code",
   "execution_count": 43,
   "metadata": {},
   "outputs": [],
   "source": [
    "df = df.drop(\"dead_or_not\", axis = 1)"
   ]
  },
  {
   "cell_type": "code",
   "execution_count": 44,
   "metadata": {},
   "outputs": [
    {
     "data": {
      "text/html": [
       "<div>\n",
       "<style scoped>\n",
       "    .dataframe tbody tr th:only-of-type {\n",
       "        vertical-align: middle;\n",
       "    }\n",
       "\n",
       "    .dataframe tbody tr th {\n",
       "        vertical-align: top;\n",
       "    }\n",
       "\n",
       "    .dataframe thead th {\n",
       "        text-align: right;\n",
       "    }\n",
       "</style>\n",
       "<table border=\"1\" class=\"dataframe\">\n",
       "  <thead>\n",
       "    <tr style=\"text-align: right;\">\n",
       "      <th>city</th>\n",
       "      <th>0</th>\n",
       "      <th>1</th>\n",
       "      <th>2</th>\n",
       "      <th>3</th>\n",
       "      <th>4</th>\n",
       "      <th>5</th>\n",
       "      <th>6</th>\n",
       "      <th>7</th>\n",
       "      <th>8</th>\n",
       "    </tr>\n",
       "    <tr>\n",
       "      <th>class_of_diagnosis</th>\n",
       "      <th></th>\n",
       "      <th></th>\n",
       "      <th></th>\n",
       "      <th></th>\n",
       "      <th></th>\n",
       "      <th></th>\n",
       "      <th></th>\n",
       "      <th></th>\n",
       "      <th></th>\n",
       "    </tr>\n",
       "  </thead>\n",
       "  <tbody>\n",
       "    <tr>\n",
       "      <th>0</th>\n",
       "      <td>72</td>\n",
       "      <td>35</td>\n",
       "      <td>32</td>\n",
       "      <td>13</td>\n",
       "      <td>16</td>\n",
       "      <td>2</td>\n",
       "      <td>46</td>\n",
       "      <td>11</td>\n",
       "      <td>1</td>\n",
       "    </tr>\n",
       "    <tr>\n",
       "      <th>1</th>\n",
       "      <td>28</td>\n",
       "      <td>7</td>\n",
       "      <td>19</td>\n",
       "      <td>12</td>\n",
       "      <td>8</td>\n",
       "      <td>0</td>\n",
       "      <td>20</td>\n",
       "      <td>2</td>\n",
       "      <td>0</td>\n",
       "    </tr>\n",
       "  </tbody>\n",
       "</table>\n",
       "</div>"
      ],
      "text/plain": [
       "city                 0   1   2   3   4  5   6   7  8\n",
       "class_of_diagnosis                                  \n",
       "0                   72  35  32  13  16  2  46  11  1\n",
       "1                   28   7  19  12   8  0  20   2  0"
      ]
     },
     "execution_count": 44,
     "metadata": {},
     "output_type": "execute_result"
    }
   ],
   "source": [
    "pd.crosstab(df[\"class_of_diagnosis\"], df[\"city\"]) "
   ]
  },
  {
   "cell_type": "code",
   "execution_count": 45,
   "metadata": {},
   "outputs": [
    {
     "data": {
      "text/html": [
       "<div>\n",
       "<style scoped>\n",
       "    .dataframe tbody tr th:only-of-type {\n",
       "        vertical-align: middle;\n",
       "    }\n",
       "\n",
       "    .dataframe tbody tr th {\n",
       "        vertical-align: top;\n",
       "    }\n",
       "\n",
       "    .dataframe thead th {\n",
       "        text-align: right;\n",
       "    }\n",
       "</style>\n",
       "<table border=\"1\" class=\"dataframe\">\n",
       "  <thead>\n",
       "    <tr style=\"text-align: right;\">\n",
       "      <th>gender</th>\n",
       "      <th>0</th>\n",
       "      <th>1</th>\n",
       "    </tr>\n",
       "    <tr>\n",
       "      <th>class_of_diagnosis</th>\n",
       "      <th></th>\n",
       "      <th></th>\n",
       "    </tr>\n",
       "  </thead>\n",
       "  <tbody>\n",
       "    <tr>\n",
       "      <th>0</th>\n",
       "      <td>83</td>\n",
       "      <td>145</td>\n",
       "    </tr>\n",
       "    <tr>\n",
       "      <th>1</th>\n",
       "      <td>51</td>\n",
       "      <td>45</td>\n",
       "    </tr>\n",
       "  </tbody>\n",
       "</table>\n",
       "</div>"
      ],
      "text/plain": [
       "gender               0    1\n",
       "class_of_diagnosis         \n",
       "0                   83  145\n",
       "1                   51   45"
      ]
     },
     "execution_count": 45,
     "metadata": {},
     "output_type": "execute_result"
    }
   ],
   "source": [
    "pd.crosstab(df[\"class_of_diagnosis\"], df[\"gender\"])"
   ]
  },
  {
   "cell_type": "code",
   "execution_count": 46,
   "metadata": {},
   "outputs": [
    {
     "data": {
      "text/html": [
       "<div>\n",
       "<style scoped>\n",
       "    .dataframe tbody tr th:only-of-type {\n",
       "        vertical-align: middle;\n",
       "    }\n",
       "\n",
       "    .dataframe tbody tr th {\n",
       "        vertical-align: top;\n",
       "    }\n",
       "\n",
       "    .dataframe thead th {\n",
       "        text-align: right;\n",
       "    }\n",
       "</style>\n",
       "<table border=\"1\" class=\"dataframe\">\n",
       "  <thead>\n",
       "    <tr style=\"text-align: right;\">\n",
       "      <th>performance_status</th>\n",
       "      <th>0</th>\n",
       "      <th>1</th>\n",
       "    </tr>\n",
       "    <tr>\n",
       "      <th>class_of_diagnosis</th>\n",
       "      <th></th>\n",
       "      <th></th>\n",
       "    </tr>\n",
       "  </thead>\n",
       "  <tbody>\n",
       "    <tr>\n",
       "      <th>0</th>\n",
       "      <td>112</td>\n",
       "      <td>116</td>\n",
       "    </tr>\n",
       "    <tr>\n",
       "      <th>1</th>\n",
       "      <td>43</td>\n",
       "      <td>53</td>\n",
       "    </tr>\n",
       "  </tbody>\n",
       "</table>\n",
       "</div>"
      ],
      "text/plain": [
       "performance_status    0    1\n",
       "class_of_diagnosis          \n",
       "0                   112  116\n",
       "1                    43   53"
      ]
     },
     "execution_count": 46,
     "metadata": {},
     "output_type": "execute_result"
    }
   ],
   "source": [
    "pd.crosstab(df[\"class_of_diagnosis\"], df[\"performance_status\"])"
   ]
  },
  {
   "cell_type": "code",
   "execution_count": 48,
   "metadata": {},
   "outputs": [
    {
     "data": {
      "text/html": [
       "<div>\n",
       "<style scoped>\n",
       "    .dataframe tbody tr th:only-of-type {\n",
       "        vertical-align: middle;\n",
       "    }\n",
       "\n",
       "    .dataframe tbody tr th {\n",
       "        vertical-align: top;\n",
       "    }\n",
       "\n",
       "    .dataframe thead th {\n",
       "        text-align: right;\n",
       "    }\n",
       "</style>\n",
       "<table border=\"1\" class=\"dataframe\">\n",
       "  <thead>\n",
       "    <tr style=\"text-align: right;\">\n",
       "      <th>habit_of_cigarette</th>\n",
       "      <th>0</th>\n",
       "      <th>1</th>\n",
       "      <th>2</th>\n",
       "      <th>3</th>\n",
       "    </tr>\n",
       "    <tr>\n",
       "      <th>class_of_diagnosis</th>\n",
       "      <th></th>\n",
       "      <th></th>\n",
       "      <th></th>\n",
       "      <th></th>\n",
       "    </tr>\n",
       "  </thead>\n",
       "  <tbody>\n",
       "    <tr>\n",
       "      <th>0</th>\n",
       "      <td>126</td>\n",
       "      <td>27</td>\n",
       "      <td>35</td>\n",
       "      <td>40</td>\n",
       "    </tr>\n",
       "    <tr>\n",
       "      <th>1</th>\n",
       "      <td>57</td>\n",
       "      <td>10</td>\n",
       "      <td>19</td>\n",
       "      <td>10</td>\n",
       "    </tr>\n",
       "  </tbody>\n",
       "</table>\n",
       "</div>"
      ],
      "text/plain": [
       "habit_of_cigarette    0   1   2   3\n",
       "class_of_diagnosis                 \n",
       "0                   126  27  35  40\n",
       "1                    57  10  19  10"
      ]
     },
     "execution_count": 48,
     "metadata": {},
     "output_type": "execute_result"
    }
   ],
   "source": [
    "pd.crosstab(df[\"class_of_diagnosis\"], df[\"habit_of_cigarette\"])"
   ]
  },
  {
   "cell_type": "markdown",
   "metadata": {},
   "source": [
    "### Graphic representations"
   ]
  },
  {
   "cell_type": "code",
   "execution_count": 96,
   "metadata": {},
   "outputs": [
    {
     "name": "stderr",
     "output_type": "stream",
     "text": [
      "'c' argument looks like a single numeric RGB or RGBA sequence, which should be avoided as value-mapping will have precedence in case its length matches with 'x' & 'y'.  Please use a 2-D array with a single row if you really want to specify the same RGB or RGBA value for all points.\n"
     ]
    },
    {
     "data": {
      "text/plain": [
       "<matplotlib.axes._subplots.AxesSubplot at 0x7fa61b194e50>"
      ]
     },
     "execution_count": 96,
     "metadata": {},
     "output_type": "execute_result"
    },
    {
     "data": {
      "image/png": "[encoded data removed]",
      "text/plain": [
       "<Figure size 144x360 with 1 Axes>"
      ]
     },
     "metadata": {},
     "output_type": "display_data"
    }
   ],
   "source": [
    "var = df[df[\"asbestos_exposure\"] == 1]\n",
    "\n",
    "var.plot.scatter(title=\"Age given duration of asbestos exposure\",\n",
    "         x=\"duration_of_symptoms\",\n",
    "         y=\"duration_of_asbestos_exposure\")"
   ]
  },
  {
   "cell_type": "code",
   "execution_count": 103,
   "metadata": {},
   "outputs": [
    {
     "data": {
      "text/plain": [
       "<seaborn.axisgrid.FacetGrid at 0x7fa61c44a390>"
      ]
     },
     "execution_count": 103,
     "metadata": {},
     "output_type": "execute_result"
    },
    {
     "data": {
      "image/png": "[encoded data removed]",
      "text/plain": [
       "<Figure size 469.675x360 with 1 Axes>"
      ]
     },
     "metadata": {},
     "output_type": "display_data"
    }
   ],
   "source": [
    "sns.displot(data=var, x=\"duration_of_asbestos_exposure\", hue=\"class_of_diagnosis\", kind=\"ecdf\")"
   ]
  },
  {
   "cell_type": "code",
   "execution_count": 79,
   "metadata": {},
   "outputs": [
    {
     "data": {
      "text/html": [
       "<div>\n",
       "<style scoped>\n",
       "    .dataframe tbody tr th:only-of-type {\n",
       "        vertical-align: middle;\n",
       "    }\n",
       "\n",
       "    .dataframe tbody tr th {\n",
       "        vertical-align: top;\n",
       "    }\n",
       "\n",
       "    .dataframe thead th {\n",
       "        text-align: right;\n",
       "    }\n",
       "</style>\n",
       "<table border=\"1\" class=\"dataframe\">\n",
       "  <thead>\n",
       "    <tr style=\"text-align: right;\">\n",
       "      <th></th>\n",
       "      <th>age</th>\n",
       "      <th>asbestos_exposure</th>\n",
       "      <th>duration_of_asbestos_exposure</th>\n",
       "      <th>cytology</th>\n",
       "      <th>duration_of_symptoms</th>\n",
       "      <th>dyspnoea</th>\n",
       "      <th>ache_on_chest</th>\n",
       "      <th>weakness</th>\n",
       "      <th>white_blood</th>\n",
       "      <th>cell_count</th>\n",
       "      <th>...</th>\n",
       "      <th>city_8</th>\n",
       "      <th>lung_side_0</th>\n",
       "      <th>lung_side_1</th>\n",
       "      <th>lung_side_2</th>\n",
       "      <th>habit_of_cigarette_0</th>\n",
       "      <th>habit_of_cigarette_1</th>\n",
       "      <th>habit_of_cigarette_2</th>\n",
       "      <th>habit_of_cigarette_3</th>\n",
       "      <th>performance_status_0</th>\n",
       "      <th>performance_status_1</th>\n",
       "    </tr>\n",
       "  </thead>\n",
       "  <tbody>\n",
       "    <tr>\n",
       "      <th>0</th>\n",
       "      <td>47.0</td>\n",
       "      <td>1</td>\n",
       "      <td>20.0</td>\n",
       "      <td>1</td>\n",
       "      <td>24.0</td>\n",
       "      <td>1</td>\n",
       "      <td>1</td>\n",
       "      <td>0</td>\n",
       "      <td>8050.0</td>\n",
       "      <td>9</td>\n",
       "      <td>...</td>\n",
       "      <td>0</td>\n",
       "      <td>1</td>\n",
       "      <td>0</td>\n",
       "      <td>0</td>\n",
       "      <td>0</td>\n",
       "      <td>0</td>\n",
       "      <td>1</td>\n",
       "      <td>0</td>\n",
       "      <td>0</td>\n",
       "      <td>1</td>\n",
       "    </tr>\n",
       "    <tr>\n",
       "      <th>1</th>\n",
       "      <td>55.0</td>\n",
       "      <td>1</td>\n",
       "      <td>45.0</td>\n",
       "      <td>0</td>\n",
       "      <td>1.0</td>\n",
       "      <td>1</td>\n",
       "      <td>1</td>\n",
       "      <td>1</td>\n",
       "      <td>11200.0</td>\n",
       "      <td>7</td>\n",
       "      <td>...</td>\n",
       "      <td>0</td>\n",
       "      <td>1</td>\n",
       "      <td>0</td>\n",
       "      <td>0</td>\n",
       "      <td>0</td>\n",
       "      <td>0</td>\n",
       "      <td>0</td>\n",
       "      <td>1</td>\n",
       "      <td>1</td>\n",
       "      <td>0</td>\n",
       "    </tr>\n",
       "    <tr>\n",
       "      <th>2</th>\n",
       "      <td>29.0</td>\n",
       "      <td>1</td>\n",
       "      <td>23.0</td>\n",
       "      <td>0</td>\n",
       "      <td>1.0</td>\n",
       "      <td>0</td>\n",
       "      <td>0</td>\n",
       "      <td>0</td>\n",
       "      <td>5300.0</td>\n",
       "      <td>12</td>\n",
       "      <td>...</td>\n",
       "      <td>0</td>\n",
       "      <td>0</td>\n",
       "      <td>1</td>\n",
       "      <td>0</td>\n",
       "      <td>0</td>\n",
       "      <td>0</td>\n",
       "      <td>1</td>\n",
       "      <td>0</td>\n",
       "      <td>0</td>\n",
       "      <td>1</td>\n",
       "    </tr>\n",
       "    <tr>\n",
       "      <th>3</th>\n",
       "      <td>39.0</td>\n",
       "      <td>1</td>\n",
       "      <td>10.0</td>\n",
       "      <td>0</td>\n",
       "      <td>3.0</td>\n",
       "      <td>0</td>\n",
       "      <td>1</td>\n",
       "      <td>1</td>\n",
       "      <td>7910.0</td>\n",
       "      <td>14</td>\n",
       "      <td>...</td>\n",
       "      <td>0</td>\n",
       "      <td>1</td>\n",
       "      <td>0</td>\n",
       "      <td>0</td>\n",
       "      <td>1</td>\n",
       "      <td>0</td>\n",
       "      <td>0</td>\n",
       "      <td>0</td>\n",
       "      <td>0</td>\n",
       "      <td>1</td>\n",
       "    </tr>\n",
       "    <tr>\n",
       "      <th>4</th>\n",
       "      <td>47.0</td>\n",
       "      <td>1</td>\n",
       "      <td>10.0</td>\n",
       "      <td>1</td>\n",
       "      <td>1.5</td>\n",
       "      <td>1</td>\n",
       "      <td>1</td>\n",
       "      <td>0</td>\n",
       "      <td>9120.0</td>\n",
       "      <td>4</td>\n",
       "      <td>...</td>\n",
       "      <td>0</td>\n",
       "      <td>0</td>\n",
       "      <td>1</td>\n",
       "      <td>0</td>\n",
       "      <td>0</td>\n",
       "      <td>0</td>\n",
       "      <td>0</td>\n",
       "      <td>1</td>\n",
       "      <td>0</td>\n",
       "      <td>1</td>\n",
       "    </tr>\n",
       "  </tbody>\n",
       "</table>\n",
       "<p>5 rows × 46 columns</p>\n",
       "</div>"
      ],
      "text/plain": [
       "    age  asbestos_exposure  duration_of_asbestos_exposure  cytology  \\\n",
       "0  47.0                  1                           20.0         1   \n",
       "1  55.0                  1                           45.0         0   \n",
       "2  29.0                  1                           23.0         0   \n",
       "3  39.0                  1                           10.0         0   \n",
       "4  47.0                  1                           10.0         1   \n",
       "\n",
       "   duration_of_symptoms  dyspnoea  ache_on_chest  weakness  white_blood  \\\n",
       "0                  24.0         1              1         0       8050.0   \n",
       "1                   1.0         1              1         1      11200.0   \n",
       "2                   1.0         0              0         0       5300.0   \n",
       "3                   3.0         0              1         1       7910.0   \n",
       "4                   1.5         1              1         0       9120.0   \n",
       "\n",
       "   cell_count  ...  city_8  lung_side_0  lung_side_1  lung_side_2  \\\n",
       "0           9  ...       0            1            0            0   \n",
       "1           7  ...       0            1            0            0   \n",
       "2          12  ...       0            0            1            0   \n",
       "3          14  ...       0            1            0            0   \n",
       "4           4  ...       0            0            1            0   \n",
       "\n",
       "   habit_of_cigarette_0  habit_of_cigarette_1  habit_of_cigarette_2  \\\n",
       "0                     0                     0                     1   \n",
       "1                     0                     0                     0   \n",
       "2                     0                     0                     1   \n",
       "3                     1                     0                     0   \n",
       "4                     0                     0                     0   \n",
       "\n",
       "   habit_of_cigarette_3  performance_status_0  performance_status_1  \n",
       "0                     0                     0                     1  \n",
       "1                     1                     1                     0  \n",
       "2                     0                     0                     1  \n",
       "3                     0                     0                     1  \n",
       "4                     1                     0                     1  \n",
       "\n",
       "[5 rows x 46 columns]"
      ]
     },
     "execution_count": 79,
     "metadata": {},
     "output_type": "execute_result"
    }
   ],
   "source": [
    "# dataframe with dummys\n",
    "dc = pd.DataFrame(pd.get_dummies(df.drop('class_of_diagnosis', axis=1)))\n",
    "dc.head()"
   ]
  },
  {
   "cell_type": "code",
   "execution_count": null,
   "metadata": {},
   "outputs": [],
   "source": [
    "dc.drop()"
   ]
  },
  {
   "cell_type": "markdown",
   "metadata": {},
   "source": [
    "### Correlation matrix"
   ]
  },
  {
   "cell_type": "code",
   "execution_count": 51,
   "metadata": {},
   "outputs": [
    {
     "data": {
      "image/png": "[encoded data removed]",
      "text/plain": [
       "<Figure size 1440x1440 with 2 Axes>"
      ]
     },
     "metadata": {},
     "output_type": "display_data"
    }
   ],
   "source": [
    "import seaborn as sns\n",
    "\n",
    "corrMatrix = df.select_dtypes(include='number').corr()\n",
    "\n",
    "plt.rcParams['figure.figsize'] = [20, 20]\n",
    "sns.heatmap(corrMatrix)\n",
    "plt.show() "
   ]
  },
  {
   "cell_type": "markdown",
   "metadata": {},
   "source": [
    "### Cramer's V"
   ]
  },
  {
   "cell_type": "markdown",
   "metadata": {},
   "source": [
    "Measure of association between two nominal variables. Gives a value between 0 (no association) and +1. It is based on Pearson's chi-squared statistic."
   ]
  },
  {
   "cell_type": "code",
   "execution_count": 52,
   "metadata": {},
   "outputs": [
    {
     "data": {
      "image/png": "[encoded data removed]",
      "text/plain": [
       "<Figure size 1080x720 with 2 Axes>"
      ]
     },
     "metadata": {},
     "output_type": "display_data"
    }
   ],
   "source": [
    "#corrMatrixD = df.select_dtypes(exclude='number').astype('int').apply(lambda x : pd.factorize(x)[0]).corr(method='pearson', min_periods=1) # use of pd.factorize\n",
    "# above done directly with Pearson, code's coming from: https://stackoverflow.com/questions/48035381/correlation-among-multiple-categorical-variables-pandas\n",
    "# => gives almost same results\n",
    "\n",
    "from scipy.stats import chi2_contingency\n",
    "import numpy as np\n",
    "\n",
    "# def fonction calculant le V de Cramer\n",
    "def cramers_V(var1,var2) :\n",
    "  crosstab = np.array(pd.crosstab(var1,var2, rownames = None, colnames = None)) # Cross table building\n",
    "  stat = chi2_contingency(crosstab)[0] # Keeping of the test statistic of the Chi2 test\n",
    "  obs = np.sum(crosstab) # Number of observations\n",
    "  mini = min(crosstab.shape)-1 # Take the minimum value between the columns and the rows of the cross table\n",
    "  return (stat/(obs*mini))\n",
    "\n",
    "rows= []\n",
    "\n",
    "# selection uniquement des var de type categorielle\n",
    "dfCat = df.select_dtypes(exclude='number')\n",
    "for var1 in dfCat:\n",
    "  col = []\n",
    "  for var2 in dfCat :\n",
    "    cramers = cramers_V(dfCat[var1], dfCat[var2]) # Cramer's V test\n",
    "    col.append(round(cramers,2)) # Keeping of the rounded value of the Cramer's V  \n",
    "  rows.append(col)\n",
    "  \n",
    "cramers_results = np.array(rows)\n",
    "corrMatrixD = pd.DataFrame(cramers_results, columns = dfCat.columns, index = dfCat.columns)\n",
    "\n",
    "plt.rcParams['figure.figsize'] = [15, 10]\n",
    "sns.heatmap(corrMatrixD, annot=True)\n",
    "plt.show()"
   ]
  },
  {
   "cell_type": "markdown",
   "metadata": {},
   "source": [
    "### Cramer's between Y and categorical variables"
   ]
  },
  {
   "cell_type": "code",
   "execution_count": 53,
   "metadata": {},
   "outputs": [
    {
     "data": {
      "image/png": "[encoded data removed]",
      "text/plain": [
       "<Figure size 144x360 with 2 Axes>"
      ]
     },
     "metadata": {},
     "output_type": "display_data"
    }
   ],
   "source": [
    "# table with cat var and class_of_diagnosis\n",
    "dfYcat = pd.concat([df.select_dtypes(exclude='number'), df[\"class_of_diagnosis\"]], axis = 1)\n",
    "rows = []\n",
    "\n",
    "for var in dfYcat:\n",
    "  col = []\n",
    "  cramers = cramers_V(dfYcat[\"class_of_diagnosis\"], dfYcat[var]) # Cramer's V test\n",
    "  col.append(round(cramers,2)) # Keeping of the rounded value of the Cramer's V  \n",
    "  rows.append(col)\n",
    "  \n",
    "cramers_results = np.array(rows)\n",
    "corrMatrixYcat = pd.DataFrame(cramers_results, columns=[\"Diagnosis\"], index=dfYcat.columns)\n",
    "\n",
    "plt.rcParams['figure.figsize'] = [2, 5]\n",
    "sns.heatmap(corrMatrixYcat, annot=True)\n",
    "plt.show()"
   ]
  },
  {
   "cell_type": "markdown",
   "metadata": {},
   "source": [
    "## PCA "
   ]
  },
  {
   "cell_type": "code",
   "execution_count": 54,
   "metadata": {},
   "outputs": [],
   "source": [
    "import numpy as np\n",
    "from sklearn.decomposition import PCA\n",
    "from sklearn import preprocessing"
   ]
  },
  {
   "cell_type": "code",
   "execution_count": 81,
   "metadata": {},
   "outputs": [
    {
     "data": {
      "text/html": [
       "<div>\n",
       "<style scoped>\n",
       "    .dataframe tbody tr th:only-of-type {\n",
       "        vertical-align: middle;\n",
       "    }\n",
       "\n",
       "    .dataframe tbody tr th {\n",
       "        vertical-align: top;\n",
       "    }\n",
       "\n",
       "    .dataframe thead th {\n",
       "        text-align: right;\n",
       "    }\n",
       "</style>\n",
       "<table border=\"1\" class=\"dataframe\">\n",
       "  <thead>\n",
       "    <tr style=\"text-align: right;\">\n",
       "      <th></th>\n",
       "      <th>0</th>\n",
       "      <th>1</th>\n",
       "      <th>2</th>\n",
       "      <th>3</th>\n",
       "      <th>4</th>\n",
       "      <th>5</th>\n",
       "      <th>6</th>\n",
       "      <th>7</th>\n",
       "      <th>8</th>\n",
       "      <th>9</th>\n",
       "      <th>...</th>\n",
       "      <th>36</th>\n",
       "      <th>37</th>\n",
       "      <th>38</th>\n",
       "      <th>39</th>\n",
       "      <th>40</th>\n",
       "      <th>41</th>\n",
       "      <th>42</th>\n",
       "      <th>43</th>\n",
       "      <th>44</th>\n",
       "      <th>45</th>\n",
       "    </tr>\n",
       "  </thead>\n",
       "  <tbody>\n",
       "    <tr>\n",
       "      <th>0</th>\n",
       "      <td>-0.704904</td>\n",
       "      <td>0.396412</td>\n",
       "      <td>-0.621441</td>\n",
       "      <td>1.600137</td>\n",
       "      <td>3.939513</td>\n",
       "      <td>0.471849</td>\n",
       "      <td>0.682688</td>\n",
       "      <td>-1.253566</td>\n",
       "      <td>-0.408502</td>\n",
       "      <td>-0.167178</td>\n",
       "      <td>...</td>\n",
       "      <td>-0.055641</td>\n",
       "      <td>1.496663</td>\n",
       "      <td>-1.286755</td>\n",
       "      <td>-0.269903</td>\n",
       "      <td>-1.139242</td>\n",
       "      <td>-0.359054</td>\n",
       "      <td>2.236068</td>\n",
       "      <td>-0.427179</td>\n",
       "      <td>-0.957685</td>\n",
       "      <td>0.957685</td>\n",
       "    </tr>\n",
       "    <tr>\n",
       "      <th>1</th>\n",
       "      <td>0.023319</td>\n",
       "      <td>0.396412</td>\n",
       "      <td>0.903452</td>\n",
       "      <td>-0.624946</td>\n",
       "      <td>-0.943190</td>\n",
       "      <td>0.471849</td>\n",
       "      <td>0.682688</td>\n",
       "      <td>0.797724</td>\n",
       "      <td>0.505760</td>\n",
       "      <td>-0.765693</td>\n",
       "      <td>...</td>\n",
       "      <td>-0.055641</td>\n",
       "      <td>1.496663</td>\n",
       "      <td>-1.286755</td>\n",
       "      <td>-0.269903</td>\n",
       "      <td>-1.139242</td>\n",
       "      <td>-0.359054</td>\n",
       "      <td>-0.447214</td>\n",
       "      <td>2.340940</td>\n",
       "      <td>1.044185</td>\n",
       "      <td>-1.044185</td>\n",
       "    </tr>\n",
       "    <tr>\n",
       "      <th>2</th>\n",
       "      <td>-2.343406</td>\n",
       "      <td>0.396412</td>\n",
       "      <td>-0.438454</td>\n",
       "      <td>-0.624946</td>\n",
       "      <td>-0.943190</td>\n",
       "      <td>-2.119322</td>\n",
       "      <td>-1.464797</td>\n",
       "      <td>-1.253566</td>\n",
       "      <td>-1.206667</td>\n",
       "      <td>0.730595</td>\n",
       "      <td>...</td>\n",
       "      <td>-0.055641</td>\n",
       "      <td>-0.668153</td>\n",
       "      <td>0.777149</td>\n",
       "      <td>-0.269903</td>\n",
       "      <td>-1.139242</td>\n",
       "      <td>-0.359054</td>\n",
       "      <td>2.236068</td>\n",
       "      <td>-0.427179</td>\n",
       "      <td>-0.957685</td>\n",
       "      <td>0.957685</td>\n",
       "    </tr>\n",
       "    <tr>\n",
       "      <th>3</th>\n",
       "      <td>-1.433127</td>\n",
       "      <td>0.396412</td>\n",
       "      <td>-1.231399</td>\n",
       "      <td>-0.624946</td>\n",
       "      <td>-0.518607</td>\n",
       "      <td>-2.119322</td>\n",
       "      <td>0.682688</td>\n",
       "      <td>0.797724</td>\n",
       "      <td>-0.449136</td>\n",
       "      <td>1.329110</td>\n",
       "      <td>...</td>\n",
       "      <td>-0.055641</td>\n",
       "      <td>1.496663</td>\n",
       "      <td>-1.286755</td>\n",
       "      <td>-0.269903</td>\n",
       "      <td>0.877777</td>\n",
       "      <td>-0.359054</td>\n",
       "      <td>-0.447214</td>\n",
       "      <td>-0.427179</td>\n",
       "      <td>-0.957685</td>\n",
       "      <td>0.957685</td>\n",
       "    </tr>\n",
       "    <tr>\n",
       "      <th>4</th>\n",
       "      <td>-0.704904</td>\n",
       "      <td>0.396412</td>\n",
       "      <td>-1.231399</td>\n",
       "      <td>1.600137</td>\n",
       "      <td>-0.837044</td>\n",
       "      <td>0.471849</td>\n",
       "      <td>0.682688</td>\n",
       "      <td>-1.253566</td>\n",
       "      <td>-0.097943</td>\n",
       "      <td>-1.663465</td>\n",
       "      <td>...</td>\n",
       "      <td>-0.055641</td>\n",
       "      <td>-0.668153</td>\n",
       "      <td>0.777149</td>\n",
       "      <td>-0.269903</td>\n",
       "      <td>-1.139242</td>\n",
       "      <td>-0.359054</td>\n",
       "      <td>-0.447214</td>\n",
       "      <td>2.340940</td>\n",
       "      <td>-0.957685</td>\n",
       "      <td>0.957685</td>\n",
       "    </tr>\n",
       "  </tbody>\n",
       "</table>\n",
       "<p>5 rows × 46 columns</p>\n",
       "</div>"
      ],
      "text/plain": [
       "         0         1         2         3         4         5         6   \\\n",
       "0 -0.704904  0.396412 -0.621441  1.600137  3.939513  0.471849  0.682688   \n",
       "1  0.023319  0.396412  0.903452 -0.624946 -0.943190  0.471849  0.682688   \n",
       "2 -2.343406  0.396412 -0.438454 -0.624946 -0.943190 -2.119322 -1.464797   \n",
       "3 -1.433127  0.396412 -1.231399 -0.624946 -0.518607 -2.119322  0.682688   \n",
       "4 -0.704904  0.396412 -1.231399  1.600137 -0.837044  0.471849  0.682688   \n",
       "\n",
       "         7         8         9   ...        36        37        38        39  \\\n",
       "0 -1.253566 -0.408502 -0.167178  ... -0.055641  1.496663 -1.286755 -0.269903   \n",
       "1  0.797724  0.505760 -0.765693  ... -0.055641  1.496663 -1.286755 -0.269903   \n",
       "2 -1.253566 -1.206667  0.730595  ... -0.055641 -0.668153  0.777149 -0.269903   \n",
       "3  0.797724 -0.449136  1.329110  ... -0.055641  1.496663 -1.286755 -0.269903   \n",
       "4 -1.253566 -0.097943 -1.663465  ... -0.055641 -0.668153  0.777149 -0.269903   \n",
       "\n",
       "         40        41        42        43        44        45  \n",
       "0 -1.139242 -0.359054  2.236068 -0.427179 -0.957685  0.957685  \n",
       "1 -1.139242 -0.359054 -0.447214  2.340940  1.044185 -1.044185  \n",
       "2 -1.139242 -0.359054  2.236068 -0.427179 -0.957685  0.957685  \n",
       "3  0.877777 -0.359054 -0.447214 -0.427179 -0.957685  0.957685  \n",
       "4 -1.139242 -0.359054 -0.447214  2.340940 -0.957685  0.957685  \n",
       "\n",
       "[5 rows x 46 columns]"
      ]
     },
     "execution_count": 81,
     "metadata": {},
     "output_type": "execute_result"
    }
   ],
   "source": [
    "X = dc#df.select_dtypes(include='number')\n",
    "scaler = preprocessing.StandardScaler().fit(X) # scaler\n",
    "\n",
    "X_scaled = pd.DataFrame(scaler.transform(X)) # scaling X\n",
    "y = df[\"class_of_diagnosis\"]\n",
    "X_scaled.head() "
   ]
  },
  {
   "cell_type": "code",
   "execution_count": 82,
   "metadata": {},
   "outputs": [
    {
     "data": {
      "text/plain": [
       "0.7261901188402051"
      ]
     },
     "execution_count": 82,
     "metadata": {},
     "output_type": "execute_result"
    }
   ],
   "source": [
    "n_components = 19\n",
    "\n",
    "#PCA\n",
    "pca = PCA(n_components=n_components)\n",
    "X_pca = pca.fit_transform(X_scaled)\n",
    "\n",
    "sum(pca.explained_variance_ratio_) # sum of the % of variance explained by earch of the selected components"
   ]
  },
  {
   "cell_type": "code",
   "execution_count": 83,
   "metadata": {},
   "outputs": [
    {
     "data": {
      "image/png": "[encoded data removed]",
      "text/plain": [
       "<Figure size 576x576 with 1 Axes>"
      ]
     },
     "metadata": {},
     "output_type": "display_data"
    }
   ],
   "source": [
    "colors = [\"navy\", \"turquoise\"]#, \"pink\"]\n",
    "\n",
    "plt.figure(figsize=(8, 8))\n",
    "for color, i, target_name in zip(colors, [0, 1], np.array([\"Healthy\", \"Not healthy\"])):\n",
    "    plt.scatter(\n",
    "        X_pca[y == i, 0],\n",
    "        X_pca[y == i, 1],\n",
    "        color=color,\n",
    "        lw=2,\n",
    "        label=target_name,\n",
    "    )\n",
    "\n",
    "plt.title(\"PCA of iris dataset\")\n",
    "plt.legend(loc=\"best\", shadow=False, scatterpoints=1)\n",
    "\n",
    "plt.show()"
   ]
  },
  {
   "cell_type": "markdown",
   "metadata": {},
   "source": [
    "## Modelling"
   ]
  },
  {
   "cell_type": "code",
   "execution_count": 115,
   "metadata": {},
   "outputs": [],
   "source": [
    "# modelisation modules\n",
    "from pprint import pprint\n",
    "from numpy import mean, std\n",
    "from sklearn.model_selection import cross_val_score, GridSearchCV, RepeatedStratifiedKFold\n",
    "from sklearn.pipeline import Pipeline\n",
    "from matplotlib import pyplot\n",
    "from sklearn import preprocessing\n",
    "from sklearn import metrics\n",
    "from sklearn.linear_model import LogisticRegression\n",
    "from sklearn.model_selection import train_test_split\n",
    "from sklearn.feature_selection import RFE, RFECV\n",
    "from sklearn.ensemble import RandomForestClassifier, AdaBoostClassifier\n",
    "from sklearn.tree import DecisionTreeClassifier  \n",
    "\n",
    "# plot configuration\n",
    "plt.rcParams['figure.figsize'] = [10, 10]"
   ]
  },
  {
   "cell_type": "code",
   "execution_count": 107,
   "metadata": {},
   "outputs": [
    {
     "name": "stdout",
     "output_type": "stream",
     "text": [
      "Index(['age', 'asbestos_exposure', 'duration_of_asbestos_exposure', 'cytology',\n",
      "       'duration_of_symptoms', 'dyspnoea', 'ache_on_chest', 'weakness',\n",
      "       'white_blood', 'cell_count', 'hemoglobin', 'platelet_count',\n",
      "       'sedimentation', 'blood_lactic_dehydrogenise', 'alkaline_phosphatise',\n",
      "       'total_protein', 'albumin', 'glucose', 'pleural_lactic_dehydrogenise',\n",
      "       'pleural_protein', 'pleural_albumin', 'pleural_glucose',\n",
      "       'pleural_effusion', 'pleural_thickness_on_tomography',\n",
      "       'pleural_level_of_acidity', 'C_reactive_protein', 'gender_0',\n",
      "       'gender_1', 'city_0', 'city_1', 'city_2', 'city_3', 'city_4', 'city_5',\n",
      "       'city_6', 'city_7', 'city_8', 'lung_side_0', 'lung_side_1',\n",
      "       'lung_side_2', 'habit_of_cigarette_0', 'habit_of_cigarette_1',\n",
      "       'habit_of_cigarette_2', 'habit_of_cigarette_3', 'performance_status_0',\n",
      "       'performance_status_1'],\n",
      "      dtype='object')\n"
     ]
    }
   ],
   "source": [
    "# variables used for modelisation\n",
    "print(dc.columns) # for now we keep variables in terms of dummys"
   ]
  },
  {
   "cell_type": "code",
   "execution_count": 108,
   "metadata": {},
   "outputs": [
    {
     "data": {
      "text/html": [
       "<div>\n",
       "<style scoped>\n",
       "    .dataframe tbody tr th:only-of-type {\n",
       "        vertical-align: middle;\n",
       "    }\n",
       "\n",
       "    .dataframe tbody tr th {\n",
       "        vertical-align: top;\n",
       "    }\n",
       "\n",
       "    .dataframe thead th {\n",
       "        text-align: right;\n",
       "    }\n",
       "</style>\n",
       "<table border=\"1\" class=\"dataframe\">\n",
       "  <thead>\n",
       "    <tr style=\"text-align: right;\">\n",
       "      <th></th>\n",
       "      <th>age</th>\n",
       "      <th>asbestos_exposure</th>\n",
       "      <th>duration_of_asbestos_exposure</th>\n",
       "      <th>cytology</th>\n",
       "      <th>duration_of_symptoms</th>\n",
       "      <th>dyspnoea</th>\n",
       "      <th>ache_on_chest</th>\n",
       "      <th>weakness</th>\n",
       "      <th>white_blood</th>\n",
       "      <th>cell_count</th>\n",
       "      <th>...</th>\n",
       "      <th>city_8</th>\n",
       "      <th>lung_side_0</th>\n",
       "      <th>lung_side_1</th>\n",
       "      <th>lung_side_2</th>\n",
       "      <th>habit_of_cigarette_0</th>\n",
       "      <th>habit_of_cigarette_1</th>\n",
       "      <th>habit_of_cigarette_2</th>\n",
       "      <th>habit_of_cigarette_3</th>\n",
       "      <th>performance_status_0</th>\n",
       "      <th>performance_status_1</th>\n",
       "    </tr>\n",
       "  </thead>\n",
       "  <tbody>\n",
       "    <tr>\n",
       "      <th>0</th>\n",
       "      <td>47.0</td>\n",
       "      <td>1</td>\n",
       "      <td>20.0</td>\n",
       "      <td>1</td>\n",
       "      <td>24.0</td>\n",
       "      <td>1</td>\n",
       "      <td>1</td>\n",
       "      <td>0</td>\n",
       "      <td>8050.0</td>\n",
       "      <td>9</td>\n",
       "      <td>...</td>\n",
       "      <td>0</td>\n",
       "      <td>1</td>\n",
       "      <td>0</td>\n",
       "      <td>0</td>\n",
       "      <td>0</td>\n",
       "      <td>0</td>\n",
       "      <td>1</td>\n",
       "      <td>0</td>\n",
       "      <td>0</td>\n",
       "      <td>1</td>\n",
       "    </tr>\n",
       "    <tr>\n",
       "      <th>1</th>\n",
       "      <td>55.0</td>\n",
       "      <td>1</td>\n",
       "      <td>45.0</td>\n",
       "      <td>0</td>\n",
       "      <td>1.0</td>\n",
       "      <td>1</td>\n",
       "      <td>1</td>\n",
       "      <td>1</td>\n",
       "      <td>11200.0</td>\n",
       "      <td>7</td>\n",
       "      <td>...</td>\n",
       "      <td>0</td>\n",
       "      <td>1</td>\n",
       "      <td>0</td>\n",
       "      <td>0</td>\n",
       "      <td>0</td>\n",
       "      <td>0</td>\n",
       "      <td>0</td>\n",
       "      <td>1</td>\n",
       "      <td>1</td>\n",
       "      <td>0</td>\n",
       "    </tr>\n",
       "    <tr>\n",
       "      <th>2</th>\n",
       "      <td>29.0</td>\n",
       "      <td>1</td>\n",
       "      <td>23.0</td>\n",
       "      <td>0</td>\n",
       "      <td>1.0</td>\n",
       "      <td>0</td>\n",
       "      <td>0</td>\n",
       "      <td>0</td>\n",
       "      <td>5300.0</td>\n",
       "      <td>12</td>\n",
       "      <td>...</td>\n",
       "      <td>0</td>\n",
       "      <td>0</td>\n",
       "      <td>1</td>\n",
       "      <td>0</td>\n",
       "      <td>0</td>\n",
       "      <td>0</td>\n",
       "      <td>1</td>\n",
       "      <td>0</td>\n",
       "      <td>0</td>\n",
       "      <td>1</td>\n",
       "    </tr>\n",
       "    <tr>\n",
       "      <th>3</th>\n",
       "      <td>39.0</td>\n",
       "      <td>1</td>\n",
       "      <td>10.0</td>\n",
       "      <td>0</td>\n",
       "      <td>3.0</td>\n",
       "      <td>0</td>\n",
       "      <td>1</td>\n",
       "      <td>1</td>\n",
       "      <td>7910.0</td>\n",
       "      <td>14</td>\n",
       "      <td>...</td>\n",
       "      <td>0</td>\n",
       "      <td>1</td>\n",
       "      <td>0</td>\n",
       "      <td>0</td>\n",
       "      <td>1</td>\n",
       "      <td>0</td>\n",
       "      <td>0</td>\n",
       "      <td>0</td>\n",
       "      <td>0</td>\n",
       "      <td>1</td>\n",
       "    </tr>\n",
       "    <tr>\n",
       "      <th>4</th>\n",
       "      <td>47.0</td>\n",
       "      <td>1</td>\n",
       "      <td>10.0</td>\n",
       "      <td>1</td>\n",
       "      <td>1.5</td>\n",
       "      <td>1</td>\n",
       "      <td>1</td>\n",
       "      <td>0</td>\n",
       "      <td>9120.0</td>\n",
       "      <td>4</td>\n",
       "      <td>...</td>\n",
       "      <td>0</td>\n",
       "      <td>0</td>\n",
       "      <td>1</td>\n",
       "      <td>0</td>\n",
       "      <td>0</td>\n",
       "      <td>0</td>\n",
       "      <td>0</td>\n",
       "      <td>1</td>\n",
       "      <td>0</td>\n",
       "      <td>1</td>\n",
       "    </tr>\n",
       "  </tbody>\n",
       "</table>\n",
       "<p>5 rows × 46 columns</p>\n",
       "</div>"
      ],
      "text/plain": [
       "    age  asbestos_exposure  duration_of_asbestos_exposure  cytology  \\\n",
       "0  47.0                  1                           20.0         1   \n",
       "1  55.0                  1                           45.0         0   \n",
       "2  29.0                  1                           23.0         0   \n",
       "3  39.0                  1                           10.0         0   \n",
       "4  47.0                  1                           10.0         1   \n",
       "\n",
       "   duration_of_symptoms  dyspnoea  ache_on_chest  weakness  white_blood  \\\n",
       "0                  24.0         1              1         0       8050.0   \n",
       "1                   1.0         1              1         1      11200.0   \n",
       "2                   1.0         0              0         0       5300.0   \n",
       "3                   3.0         0              1         1       7910.0   \n",
       "4                   1.5         1              1         0       9120.0   \n",
       "\n",
       "   cell_count  ...  city_8  lung_side_0  lung_side_1  lung_side_2  \\\n",
       "0           9  ...       0            1            0            0   \n",
       "1           7  ...       0            1            0            0   \n",
       "2          12  ...       0            0            1            0   \n",
       "3          14  ...       0            1            0            0   \n",
       "4           4  ...       0            0            1            0   \n",
       "\n",
       "   habit_of_cigarette_0  habit_of_cigarette_1  habit_of_cigarette_2  \\\n",
       "0                     0                     0                     1   \n",
       "1                     0                     0                     0   \n",
       "2                     0                     0                     1   \n",
       "3                     1                     0                     0   \n",
       "4                     0                     0                     0   \n",
       "\n",
       "   habit_of_cigarette_3  performance_status_0  performance_status_1  \n",
       "0                     0                     0                     1  \n",
       "1                     1                     1                     0  \n",
       "2                     0                     0                     1  \n",
       "3                     0                     0                     1  \n",
       "4                     1                     0                     1  \n",
       "\n",
       "[5 rows x 46 columns]"
      ]
     },
     "execution_count": 108,
     "metadata": {},
     "output_type": "execute_result"
    }
   ],
   "source": [
    "dc.head()"
   ]
  },
  {
   "cell_type": "code",
   "execution_count": 136,
   "metadata": {},
   "outputs": [],
   "source": [
    "X = dc.copy()#.drop(\"class_of_diagnosis\",axis=1).copy()\n",
    "y = df[\"class_of_diagnosis\"].copy()\n",
    "X_train, X_test, y_train, y_test = train_test_split(X, y, test_size=0.2, random_state=1, shuffle=True)"
   ]
  },
  {
   "cell_type": "code",
   "execution_count": 110,
   "metadata": {},
   "outputs": [
    {
     "data": {
      "text/plain": [
       "age                                float64\n",
       "asbestos_exposure                    int64\n",
       "duration_of_asbestos_exposure      float64\n",
       "cytology                             int64\n",
       "duration_of_symptoms               float64\n",
       "dyspnoea                             int64\n",
       "ache_on_chest                        int64\n",
       "weakness                             int64\n",
       "white_blood                        float64\n",
       "cell_count                           int64\n",
       "hemoglobin                           int64\n",
       "platelet_count                     float64\n",
       "sedimentation                      float64\n",
       "blood_lactic_dehydrogenise         float64\n",
       "alkaline_phosphatise               float64\n",
       "total_protein                      float64\n",
       "albumin                            float64\n",
       "glucose                            float64\n",
       "pleural_lactic_dehydrogenise       float64\n",
       "pleural_protein                    float64\n",
       "pleural_albumin                    float64\n",
       "pleural_glucose                    float64\n",
       "pleural_effusion                     int64\n",
       "pleural_thickness_on_tomography      int64\n",
       "pleural_level_of_acidity             int64\n",
       "C_reactive_protein                   int64\n",
       "gender_0                             uint8\n",
       "gender_1                             uint8\n",
       "city_0                               uint8\n",
       "city_1                               uint8\n",
       "city_2                               uint8\n",
       "city_3                               uint8\n",
       "city_4                               uint8\n",
       "city_5                               uint8\n",
       "city_6                               uint8\n",
       "city_7                               uint8\n",
       "city_8                               uint8\n",
       "lung_side_0                          uint8\n",
       "lung_side_1                          uint8\n",
       "lung_side_2                          uint8\n",
       "habit_of_cigarette_0                 uint8\n",
       "habit_of_cigarette_1                 uint8\n",
       "habit_of_cigarette_2                 uint8\n",
       "habit_of_cigarette_3                 uint8\n",
       "performance_status_0                 uint8\n",
       "performance_status_1                 uint8\n",
       "dtype: object"
      ]
     },
     "execution_count": 110,
     "metadata": {},
     "output_type": "execute_result"
    }
   ],
   "source": [
    "X_train.dtypes"
   ]
  },
  {
   "cell_type": "markdown",
   "metadata": {},
   "source": [
    "### 1st test: Multi-layer perceptron algorithm"
   ]
  },
  {
   "cell_type": "code",
   "execution_count": null,
   "metadata": {},
   "outputs": [],
   "source": [
    "from sklearn.neural_network import MLPClassifier\n",
    "from sklearn.preprocessing import StandardScaler "
   ]
  },
  {
   "cell_type": "code",
   "execution_count": 137,
   "metadata": {},
   "outputs": [],
   "source": [
    "scaler = StandardScaler()  \n",
    "scaler.fit(X_train)\n",
    "X_train_s = scaler.transform(X_train)\n",
    "X_test_s = scaler.transform(X_test)"
   ]
  },
  {
   "cell_type": "code",
   "execution_count": 135,
   "metadata": {},
   "outputs": [
    {
     "name": "stdout",
     "output_type": "stream",
     "text": [
      "{'activation': ['tanh', 'relu'],\n",
      " 'alpha': [0.0001, 0.05],\n",
      " 'hidden_layer_sizes': [(5, 1, 2),\n",
      "                        (10, 1, 2),\n",
      "                        (20, 1, 2),\n",
      "                        (25, 1, 2),\n",
      "                        (75, 1, 2),\n",
      "                        (100, 1, 2),\n",
      "                        (5, 2, 2),\n",
      "                        (10, 2, 2),\n",
      "                        (20, 2, 2),\n",
      "                        (25, 2, 2),\n",
      "                        (75, 2, 2),\n",
      "                        (100, 2, 2),\n",
      "                        (5, 3, 2),\n",
      "                        (10, 3, 2),\n",
      "                        (20, 3, 2),\n",
      "                        (25, 3, 2),\n",
      "                        (75, 3, 2),\n",
      "                        (100, 3, 2)],\n",
      " 'learning_rate': ['constant', 'adaptive'],\n",
      " 'learning_rate_init': [0.001, 0.01, 0.05, 0.1],\n",
      " 'solver': ['adam', 'sgd']}\n",
      "{'activation': 'relu', 'alpha': 0.0001, 'hidden_layer_sizes': (75, 3, 2), 'learning_rate': 'constant', 'learning_rate_init': 0.05, 'solver': 'sgd'}\n"
     ]
    }
   ],
   "source": [
    "param_grid = {\n",
    "    'solver':['adam','sgd'],\n",
    "    'activation':['tanh','relu'],\n",
    "    'alpha':[0.0001,0.05],\n",
    "    'learning_rate':['constant','adaptive'],\n",
    "    'learning_rate_init': [0.001, 0.01, 0.05, 0.1],\n",
    "    'hidden_layer_sizes':[(5,1,2),(10,1,2),(20,1,2),(25,1,2),(75,1,2),(100,1,2),\n",
    "                          (5,2,2),(10,2,2),(20,2,2),(25,2,2),(75,2,2),(100,2,2),\n",
    "                          (5,3,2),(10,3,2),(20,3,2),(25,3,2),(75,3,2),(100,3,2)]\n",
    "}\n",
    "pprint(param_grid)\n",
    "\n",
    "optimal_params = GridSearchCV(\n",
    "    estimator=MLPClassifier(max_iter=500, solver='sgd'),\n",
    "    param_grid=param_grid,\n",
    "#     scoring = 'roc_auc',## For more scoring metics see: \n",
    "        ## https://scikit-learn.org/stable/modules/model_evaluation.html#scoring-parameter\n",
    "    verbose=0, # NOTE: If you want to see what Grid Search is doing, set verbose=2\n",
    "    n_jobs=10,\n",
    "    cv=3\n",
    ")\n",
    "\n",
    "optimal_params.fit(X_train_s, y_train)\n",
    "print(optimal_params.best_params_)"
   ]
  },
  {
   "cell_type": "code",
   "execution_count": 125,
   "metadata": {},
   "outputs": [
    {
     "name": "stderr",
     "output_type": "stream",
     "text": [
      "Stochastic Optimizer: Maximum iterations (1000) reached and the optimization hasn't converged yet.\n"
     ]
    },
    {
     "data": {
      "text/plain": [
       "MLPClassifier(activation='tanh', alpha=0.05, hidden_layer_sizes=(20, 1, 2),\n",
       "              max_iter=1000, solver='sgd')"
      ]
     },
     "execution_count": 125,
     "metadata": {},
     "output_type": "execute_result"
    }
   ],
   "source": [
    "clf_mlp = MLPClassifier(activation='tanh', alpha=0.05, solver='sgd', \n",
    "                        learning_rate='constant', learning_rate_init=0.001,\n",
    "                        hidden_layer_sizes=(20,1,2), max_iter=1000)\n",
    "clf_mlp.fit(X_train_s, y_train)"
   ]
  },
  {
   "cell_type": "code",
   "execution_count": 126,
   "metadata": {},
   "outputs": [],
   "source": [
    "pred = clf_mlp.predict(X_test_s)"
   ]
  },
  {
   "cell_type": "code",
   "execution_count": 127,
   "metadata": {},
   "outputs": [
    {
     "name": "stdout",
     "output_type": "stream",
     "text": [
      "0.7692307692307693\n"
     ]
    }
   ],
   "source": [
    "# Use score method to get accuracy of model\n",
    "score = clf_mlp.score(X_test_s, y_test)\n",
    "print(score)"
   ]
  },
  {
   "cell_type": "code",
   "execution_count": 128,
   "metadata": {},
   "outputs": [
    {
     "data": {
      "text/plain": [
       "array([[0.81545856, 0.18454144],\n",
       "       [0.67191975, 0.32808025],\n",
       "       [0.39224272, 0.60775728],\n",
       "       [0.60953591, 0.39046409],\n",
       "       [0.83179377, 0.16820623],\n",
       "       [0.85182313, 0.14817687],\n",
       "       [0.82373579, 0.17626421],\n",
       "       [0.8562938 , 0.1437062 ],\n",
       "       [0.85738084, 0.14261916],\n",
       "       [0.85783201, 0.14216799],\n",
       "       [0.7618866 , 0.2381134 ],\n",
       "       [0.75866008, 0.24133992],\n",
       "       [0.84918618, 0.15081382],\n",
       "       [0.42387459, 0.57612541],\n",
       "       [0.8365915 , 0.1634085 ],\n",
       "       [0.85623174, 0.14376826],\n",
       "       [0.57806218, 0.42193782],\n",
       "       [0.73084272, 0.26915728],\n",
       "       [0.85752021, 0.14247979],\n",
       "       [0.83792121, 0.16207879],\n",
       "       [0.83966219, 0.16033781],\n",
       "       [0.63908297, 0.36091703],\n",
       "       [0.72322175, 0.27677825],\n",
       "       [0.84237294, 0.15762706],\n",
       "       [0.85061773, 0.14938227],\n",
       "       [0.85113566, 0.14886434],\n",
       "       [0.85576743, 0.14423257],\n",
       "       [0.21662001, 0.78337999],\n",
       "       [0.84592122, 0.15407878],\n",
       "       [0.85666363, 0.14333637],\n",
       "       [0.85145251, 0.14854749],\n",
       "       [0.84895414, 0.15104586],\n",
       "       [0.68306937, 0.31693063],\n",
       "       [0.85274752, 0.14725248],\n",
       "       [0.64947159, 0.35052841],\n",
       "       [0.85306603, 0.14693397],\n",
       "       [0.74844337, 0.25155663],\n",
       "       [0.41776461, 0.58223539],\n",
       "       [0.85198047, 0.14801953],\n",
       "       [0.77258865, 0.22741135],\n",
       "       [0.24589511, 0.75410489],\n",
       "       [0.82037393, 0.17962607],\n",
       "       [0.29791904, 0.70208096],\n",
       "       [0.85661248, 0.14338752],\n",
       "       [0.85468595, 0.14531405],\n",
       "       [0.85494867, 0.14505133],\n",
       "       [0.84780825, 0.15219175],\n",
       "       [0.84895858, 0.15104142],\n",
       "       [0.84418113, 0.15581887],\n",
       "       [0.24229015, 0.75770985],\n",
       "       [0.85040976, 0.14959024],\n",
       "       [0.83854097, 0.16145903],\n",
       "       [0.84608934, 0.15391066],\n",
       "       [0.84381953, 0.15618047],\n",
       "       [0.6266182 , 0.3733818 ],\n",
       "       [0.61509999, 0.38490001],\n",
       "       [0.70283334, 0.29716666],\n",
       "       [0.8511756 , 0.1488244 ],\n",
       "       [0.82566488, 0.17433512],\n",
       "       [0.83840681, 0.16159319],\n",
       "       [0.8275311 , 0.1724689 ],\n",
       "       [0.36512794, 0.63487206],\n",
       "       [0.18138265, 0.81861735],\n",
       "       [0.81470686, 0.18529314],\n",
       "       [0.84892018, 0.15107982]])"
      ]
     },
     "execution_count": 128,
     "metadata": {},
     "output_type": "execute_result"
    }
   ],
   "source": [
    "clf_mlp.predict_proba(X_test_s)"
   ]
  },
  {
   "cell_type": "code",
   "execution_count": 129,
   "metadata": {},
   "outputs": [],
   "source": [
    "cm = metrics.confusion_matrix(y_test, pred)"
   ]
  },
  {
   "cell_type": "code",
   "execution_count": 130,
   "metadata": {},
   "outputs": [
    {
     "data": {
      "image/png": "[encoded data removed]",
      "text/plain": [
       "<Figure size 720x720 with 2 Axes>"
      ]
     },
     "metadata": {},
     "output_type": "display_data"
    }
   ],
   "source": [
    "ax = plt.subplot()\n",
    "sns.heatmap(cm,annot=True,fmt=\"d\") \n",
    "ax.set_xlabel('Prédictionq'); ax.set_ylabel('Labels réels'); \n",
    "ax.set_title('Matrice de confusion'); \n",
    "plt.show() # not bad"
   ]
  },
  {
   "cell_type": "markdown",
   "metadata": {},
   "source": [
    "### SVM"
   ]
  },
  {
   "cell_type": "code",
   "execution_count": 131,
   "metadata": {},
   "outputs": [],
   "source": [
    "from sklearn import svm"
   ]
  },
  {
   "cell_type": "code",
   "execution_count": 132,
   "metadata": {},
   "outputs": [
    {
     "data": {
      "text/plain": [
       "SVC()"
      ]
     },
     "execution_count": 132,
     "metadata": {},
     "output_type": "execute_result"
    }
   ],
   "source": [
    "clf_svm = svm.SVC()\n",
    "clf_svm.fit(X_train_s, y_train)"
   ]
  },
  {
   "cell_type": "code",
   "execution_count": 133,
   "metadata": {},
   "outputs": [
    {
     "name": "stdout",
     "output_type": "stream",
     "text": [
      "0.7692307692307693\n"
     ]
    }
   ],
   "source": [
    "score = clf_svm.score(X_test_s, y_test.values)\n",
    "print(score)"
   ]
  },
  {
   "cell_type": "code",
   "execution_count": 71,
   "metadata": {},
   "outputs": [
    {
     "data": {
      "image/png": "[encoded data removed]",
      "text/plain": [
       "<Figure size 720x720 with 2 Axes>"
      ]
     },
     "metadata": {},
     "output_type": "display_data"
    }
   ],
   "source": [
    "pred = clf_svm.predict(X_test_s)\n",
    "\n",
    "cm = metrics.confusion_matrix(y_test, pred)\n",
    "\n",
    "ax = plt.subplot()\n",
    "sns.heatmap(cm,annot=True,fmt=\"d\") \n",
    "ax.set_xlabel('Prediction'); ax.set_ylabel('True labels'); \n",
    "ax.set_title('Confusion matrix'); \n",
    "plt.show()"
   ]
  },
  {
   "cell_type": "markdown",
   "metadata": {},
   "source": [
    "### Recursive feature selection and Decision Tree"
   ]
  },
  {
   "cell_type": "code",
   "execution_count": 118,
   "metadata": {
    "scrolled": true
   },
   "outputs": [
    {
     "name": "stdout",
     "output_type": "stream",
     "text": [
      ">10 0.665 (0.089)\n",
      ">11 0.654 (0.086)\n",
      ">12 0.664 (0.092)\n",
      ">13 0.670 (0.081)\n",
      ">14 0.659 (0.078)\n",
      ">15 0.679 (0.063)\n",
      ">16 0.692 (0.080)\n",
      ">17 0.670 (0.083)\n",
      ">18 0.674 (0.084)\n",
      ">19 0.670 (0.083)\n",
      ">20 0.678 (0.091)\n",
      ">21 0.674 (0.092)\n",
      ">22 0.681 (0.099)\n",
      ">23 0.684 (0.086)\n",
      ">24 0.671 (0.091)\n",
      ">25 0.679 (0.086)\n",
      ">26 0.672 (0.088)\n",
      ">27 0.690 (0.092)\n",
      ">28 0.679 (0.101)\n",
      ">29 0.663 (0.098)\n",
      ">30 0.691 (0.091)\n"
     ]
    },
    {
     "data": {
      "image/png": "[encoded data removed]",
      "text/plain": [
       "<Figure size 720x720 with 1 Axes>"
      ]
     },
     "metadata": {},
     "output_type": "display_data"
    }
   ],
   "source": [
    "# get a list of models to evaluate\n",
    "def get_models():\n",
    "    models = dict()\n",
    "    for i in range(10, 31):\n",
    "        rfe = RFE(estimator=DecisionTreeClassifier(), n_features_to_select=i)\n",
    "        model = DecisionTreeClassifier()\n",
    "        models[str(i)] = Pipeline(steps=[('s',rfe),('m',model)])\n",
    "    return models\n",
    " \n",
    "# evaluate a give model using cross-validation\n",
    "def evaluate_model(model, X, y):\n",
    "    cv = RepeatedStratifiedKFold(n_splits=10, n_repeats=3, random_state=1)\n",
    "    scores = cross_val_score(model, X, y, scoring='accuracy', cv=cv, n_jobs=-1, error_score='raise')\n",
    "    return scores\n",
    " \n",
    "# define dataset\n",
    "#X, y = get_dataset()\n",
    "# get the models to evaluate\n",
    "models = get_models()\n",
    "# evaluate the models and store results\n",
    "results, names = list(), list()\n",
    "for name, model in models.items():\n",
    "    scores = evaluate_model(model, X, y)\n",
    "    results.append(scores)\n",
    "    names.append(name)\n",
    "    print('>%s %.3f (%.3f)' % (name, mean(scores), std(scores)))\n",
    "# plot model performance for comparison\n",
    "pyplot.boxplot(results, labels=names, showmeans=True)\n",
    "pyplot.show() # not significant changes in score when increasing the number of variables"
   ]
  },
  {
   "cell_type": "code",
   "execution_count": 72,
   "metadata": {},
   "outputs": [
    {
     "data": {
      "text/plain": [
       "DecisionTreeClassifier()"
      ]
     },
     "execution_count": 72,
     "metadata": {},
     "output_type": "execute_result"
    }
   ],
   "source": [
    "tree = DecisionTreeClassifier()\n",
    "tree.fit(X_train, y_train)"
   ]
  },
  {
   "cell_type": "code",
   "execution_count": 75,
   "metadata": {},
   "outputs": [
    {
     "name": "stdout",
     "output_type": "stream",
     "text": [
      "0.7230769230769231\n"
     ]
    }
   ],
   "source": [
    "score = tree.score(X_test, y_test)\n",
    "print(score)"
   ]
  },
  {
   "cell_type": "code",
   "execution_count": 76,
   "metadata": {},
   "outputs": [
    {
     "data": {
      "image/png": "[encoded data removed]",
      "text/plain": [
       "<Figure size 720x720 with 2 Axes>"
      ]
     },
     "metadata": {},
     "output_type": "display_data"
    }
   ],
   "source": [
    "pred = tree.predict(X_test)\n",
    "\n",
    "cm = metrics.confusion_matrix(y_test, pred)\n",
    "\n",
    "ax = plt.subplot()\n",
    "sns.heatmap(cm,annot=True,fmt=\"d\") \n",
    "ax.set_xlabel('Prediction'); ax.set_ylabel('True labels'); \n",
    "ax.set_title('Confusion matrix'); \n",
    "plt.show()"
   ]
  },
  {
   "cell_type": "markdown",
   "metadata": {},
   "source": [
    "### Régression logistique"
   ]
  },
  {
   "cell_type": "code",
   "execution_count": 77,
   "metadata": {},
   "outputs": [
    {
     "data": {
      "text/plain": [
       "LogisticRegression(max_iter=10000)"
      ]
     },
     "execution_count": 77,
     "metadata": {},
     "output_type": "execute_result"
    }
   ],
   "source": [
    "logistic = LogisticRegression(max_iter=10000)\n",
    "logistic.fit(X_train, y_train)"
   ]
  },
  {
   "cell_type": "code",
   "execution_count": 78,
   "metadata": {},
   "outputs": [],
   "source": [
    "pred = logistic.predict(X_test)"
   ]
  },
  {
   "cell_type": "code",
   "execution_count": 79,
   "metadata": {},
   "outputs": [
    {
     "name": "stdout",
     "output_type": "stream",
     "text": [
      "0.7230769230769231\n"
     ]
    }
   ],
   "source": [
    "# Use score method to get accuracy of model\n",
    "score = logistic.score(X_test, y_test)\n",
    "print(score)"
   ]
  },
  {
   "cell_type": "code",
   "execution_count": 80,
   "metadata": {},
   "outputs": [],
   "source": [
    "cm_log = metrics.confusion_matrix(y_test, pred)"
   ]
  },
  {
   "cell_type": "code",
   "execution_count": 81,
   "metadata": {},
   "outputs": [
    {
     "data": {
      "image/png": "[encoded data removed]",
      "text/plain": [
       "<Figure size 720x720 with 2 Axes>"
      ]
     },
     "metadata": {},
     "output_type": "display_data"
    }
   ],
   "source": [
    "ax = plt.subplot()\n",
    "sns.heatmap(cm_log,annot=True,fmt=\"d\") \n",
    "ax.set_xlabel('Prédictionq'); ax.set_ylabel('Labels réels'); \n",
    "ax.set_title('Matrice de confusion'); \n",
    "plt.show()"
   ]
  },
  {
   "cell_type": "markdown",
   "metadata": {},
   "source": [
    "### Random forest"
   ]
  },
  {
   "cell_type": "code",
   "execution_count": 82,
   "metadata": {},
   "outputs": [],
   "source": [
    "# RF (perhaps will improve decision tree performance)\n",
    "rf = RandomForestClassifier(n_estimators = 200,\n",
    "                           n_jobs = 10,\n",
    "                           oob_score = True,\n",
    "                           bootstrap = True,\n",
    "                           random_state = 42)   "
   ]
  },
  {
   "cell_type": "code",
   "execution_count": 83,
   "metadata": {},
   "outputs": [
    {
     "data": {
      "text/plain": [
       "RandomForestClassifier(n_estimators=200, n_jobs=10, oob_score=True,\n",
       "                       random_state=42)"
      ]
     },
     "execution_count": 83,
     "metadata": {},
     "output_type": "execute_result"
    }
   ],
   "source": [
    "rf.fit(X_train.values, y_train.values)"
   ]
  },
  {
   "cell_type": "markdown",
   "metadata": {},
   "source": [
    "#### Evaluation des performances"
   ]
  },
  {
   "cell_type": "code",
   "execution_count": 113,
   "metadata": {},
   "outputs": [],
   "source": [
    "# modules complementaires\n",
    "import shap\n",
    "from sklearn.inspection import permutation_importance"
   ]
  },
  {
   "cell_type": "code",
   "execution_count": 85,
   "metadata": {},
   "outputs": [
    {
     "name": "stdout",
     "output_type": "stream",
     "text": [
      "R^2 Training Score: 1.00 \n",
      "OOB Score: 0.75 \n",
      "R^2 Validation Score: 0.74\n"
     ]
    }
   ],
   "source": [
    "print('R^2 Training Score: {:.2f} \\nOOB Score: {:.2f} \\nR^2 Validation Score: {:.2f}'.format(rf.score(X_train.values, y_train.values), \n",
    "                                                                                             rf.oob_score_,\n",
    "                                                                                             rf.score(X_test.values, y_test.values))) "
   ]
  },
  {
   "cell_type": "code",
   "execution_count": 86,
   "metadata": {},
   "outputs": [
    {
     "data": {
      "text/plain": [
       "array([4.45680000e-02, 2.81742366e-03, 4.24308560e-02, 1.00372244e-02,\n",
       "       5.66974484e-02, 5.91884488e-03, 9.22433736e-03, 1.03153475e-02,\n",
       "       4.37165748e-02, 3.75661139e-02, 1.02905967e-02, 6.49935940e-02,\n",
       "       4.66484460e-02, 5.40501020e-02, 3.89690633e-02, 3.95318928e-02,\n",
       "       3.78461344e-02, 4.92925783e-02, 4.37031871e-02, 3.50668567e-02,\n",
       "       3.57958907e-02, 4.26575399e-02, 5.89150657e-03, 7.74204977e-03,\n",
       "       5.86535056e-03, 4.84976042e-02, 1.11617979e-02, 1.43331704e-02,\n",
       "       1.10115793e-02, 8.20116439e-03, 8.75101498e-03, 1.51647144e-02,\n",
       "       4.30817817e-03, 0.00000000e+00, 6.23316656e-03, 1.41294715e-03,\n",
       "       4.89281325e-05, 7.77492160e-03, 1.49318453e-02, 2.62089125e-02,\n",
       "       8.64426210e-03, 5.80701531e-03, 5.90708025e-03, 7.75344278e-03,\n",
       "       6.37710458e-03, 5.83419032e-03])"
      ]
     },
     "execution_count": 86,
     "metadata": {},
     "output_type": "execute_result"
    }
   ],
   "source": [
    "rf.feature_importances_"
   ]
  },
  {
   "cell_type": "code",
   "execution_count": 87,
   "metadata": {},
   "outputs": [],
   "source": [
    "df_meso = pd.concat([dc,df['class_of_diagnosis']],axis=1).loc[df['class_of_diagnosis'] == 1]"
   ]
  },
  {
   "cell_type": "code",
   "execution_count": 88,
   "metadata": {},
   "outputs": [
    {
     "data": {
      "image/png": "[encoded data removed]",
      "text/plain": [
       "<Figure size 720x720 with 1 Axes>"
      ]
     },
     "metadata": {},
     "output_type": "display_data"
    }
   ],
   "source": [
    "sorted_idx = rf.feature_importances_.argsort()\n",
    "plt.barh(df_meso.columns[sorted_idx], rf.feature_importances_[sorted_idx])\n",
    "plt.xlabel(\"Feature importance when class_of_diagnosis=1 (RF)\")\n",
    "plt.show()"
   ]
  },
  {
   "cell_type": "markdown",
   "metadata": {},
   "source": [
    "Above = feature importance when class_of_diagnosis = 1.\n",
    "\n",
    "Below = permutation feature importance. The permutation feature importance is the decrease in a model score when a single feature value is randomly shuffled. It highlights which features contribute the most to the generalization power of the inspected model. Hence it tells how important the features are."
   ]
  },
  {
   "cell_type": "code",
   "execution_count": 89,
   "metadata": {},
   "outputs": [],
   "source": [
    "perm_importance = permutation_importance(rf, X_test.values, y_test.values)"
   ]
  },
  {
   "cell_type": "code",
   "execution_count": 90,
   "metadata": {},
   "outputs": [
    {
     "data": {
      "image/png": "[encoded data removed]",
      "text/plain": [
       "<Figure size 720x720 with 1 Axes>"
      ]
     },
     "metadata": {},
     "output_type": "display_data"
    }
   ],
   "source": [
    "sorted_idx = perm_importance.importances_mean.argsort()\n",
    "plt.barh(df_meso.columns[sorted_idx], perm_importance.importances_mean[sorted_idx])\n",
    "plt.xlabel(\"Permutation Importance (RF)\")\n",
    "plt.show()"
   ]
  },
  {
   "cell_type": "code",
   "execution_count": 91,
   "metadata": {},
   "outputs": [],
   "source": [
    "explainer = shap.TreeExplainer(rf)\n",
    "shap_values = explainer.shap_values(X_test.values)"
   ]
  },
  {
   "cell_type": "code",
   "execution_count": 92,
   "metadata": {},
   "outputs": [
    {
     "data": {
      "image/png": "[encoded data removed]",
      "text/plain": [
       "<Figure size 576x684 with 1 Axes>"
      ]
     },
     "metadata": {},
     "output_type": "display_data"
    }
   ],
   "source": [
    "shap.summary_plot(shap_values, X_test, plot_type=\"bar\")"
   ]
  },
  {
   "cell_type": "markdown",
   "metadata": {},
   "source": [
    "SHAP values interpret the impact of having a certain value  (in our case class_of_diagnosis = 1) for a given feature in comparison to the prediction we'd make if that feature took some baseline value.\n",
    "\n",
    "Given the three above criterion, the variables with the more importance are:\n",
    "\n",
    "* platelet count\n",
    "* duration of symptoms\n",
    "* glucose\n",
    "* cell_count\n",
    "* C_reactive_protein\n",
    "* lung_side_2\n",
    "* gender_1\n",
    "* lung_side 1\n",
    "* duration_of_asbestos_exposure\n",
    "* age"
   ]
  },
  {
   "cell_type": "code",
   "execution_count": 93,
   "metadata": {},
   "outputs": [
    {
     "name": "stdout",
     "output_type": "stream",
     "text": [
      "0.7384615384615385\n"
     ]
    }
   ],
   "source": [
    "# calcul du score\n",
    "score = rf.score(X_test.values, y_test.values)\n",
    "print(score)"
   ]
  },
  {
   "cell_type": "code",
   "execution_count": 94,
   "metadata": {},
   "outputs": [
    {
     "name": "stdout",
     "output_type": "stream",
     "text": [
      "              precision    recall  f1-score   support\n",
      "\n",
      "           0       0.74      0.98      0.84        47\n",
      "           1       0.67      0.11      0.19        18\n",
      "\n",
      "    accuracy                           0.74        65\n",
      "   macro avg       0.70      0.54      0.52        65\n",
      "weighted avg       0.72      0.74      0.66        65\n",
      "\n"
     ]
    }
   ],
   "source": [
    "# predictions\n",
    "pred = rf.predict(X_test.values)\n",
    "print(metrics.classification_report(y_test.values, pred))"
   ]
  },
  {
   "cell_type": "code",
   "execution_count": 95,
   "metadata": {},
   "outputs": [],
   "source": [
    "# matrice de confusion\n",
    "cm = metrics.confusion_matrix(y_test, pred)"
   ]
  },
  {
   "cell_type": "code",
   "execution_count": 96,
   "metadata": {},
   "outputs": [
    {
     "data": {
      "image/png": "[encoded data removed]",
      "text/plain": [
       "<Figure size 720x720 with 2 Axes>"
      ]
     },
     "metadata": {},
     "output_type": "display_data"
    }
   ],
   "source": [
    "ax = plt.subplot()\n",
    "sns.heatmap(cm,annot=True,fmt=\"d\") \n",
    "ax.set_xlabel('Prediction');ax.set_ylabel('Labels reels'); \n",
    "ax.set_title('Matrice de confusion'); \n",
    "plt.show()"
   ]
  },
  {
   "cell_type": "markdown",
   "metadata": {},
   "source": [
    "Better in predicting 0 but not in predicting 1 (not really good)"
   ]
  },
  {
   "cell_type": "markdown",
   "metadata": {},
   "source": [
    "### AdaBoost"
   ]
  },
  {
   "cell_type": "code",
   "execution_count": 102,
   "metadata": {},
   "outputs": [
    {
     "data": {
      "text/plain": [
       "AdaBoostClassifier(n_estimators=100, random_state=0)"
      ]
     },
     "execution_count": 102,
     "metadata": {},
     "output_type": "execute_result"
    }
   ],
   "source": [
    "clf_ada = AdaBoostClassifier(n_estimators=100, random_state=0)\n",
    "\n",
    "clf_ada.fit(X_train, y_train)"
   ]
  },
  {
   "cell_type": "code",
   "execution_count": 103,
   "metadata": {},
   "outputs": [
    {
     "name": "stdout",
     "output_type": "stream",
     "text": [
      "0.7230769230769231\n"
     ]
    }
   ],
   "source": [
    "# calcul du score\n",
    "score = clf_ada.score(X_test, y_test)\n",
    "print(score)"
   ]
  },
  {
   "cell_type": "code",
   "execution_count": 104,
   "metadata": {},
   "outputs": [
    {
     "name": "stdout",
     "output_type": "stream",
     "text": [
      "              precision    recall  f1-score   support\n",
      "\n",
      "           0       0.78      0.85      0.82        47\n",
      "           1       0.50      0.39      0.44        18\n",
      "\n",
      "    accuracy                           0.72        65\n",
      "   macro avg       0.64      0.62      0.63        65\n",
      "weighted avg       0.71      0.72      0.71        65\n",
      "\n"
     ]
    }
   ],
   "source": [
    "# predictions\n",
    "pred = clf_ada.predict(X_test)\n",
    "print(metrics.classification_report(y_test, pred))"
   ]
  },
  {
   "cell_type": "code",
   "execution_count": 105,
   "metadata": {},
   "outputs": [
    {
     "data": {
      "image/png": "[encoded data removed]",
      "text/plain": [
       "<Figure size 720x720 with 2 Axes>"
      ]
     },
     "metadata": {},
     "output_type": "display_data"
    }
   ],
   "source": [
    "# matrice de confusion\n",
    "cm = metrics.confusion_matrix(y_test, pred)\n",
    "\n",
    "ax = plt.subplot()\n",
    "sns.heatmap(cm,annot=True,fmt=\"d\") \n",
    "ax.set_xlabel('Prediction');ax.set_ylabel('Labels reels'); \n",
    "ax.set_title('Matrice de confusion'); \n",
    "plt.show()"
   ]
  },
  {
   "cell_type": "markdown",
   "metadata": {},
   "source": [
    "Not much difference with AdaBoost. "
   ]
  },
  {
   "cell_type": "markdown",
   "metadata": {},
   "source": [
    "### Comparison of scores\n",
    "Evaluate a score by cross-validation."
   ]
  },
  {
   "cell_type": "code",
   "execution_count": 138,
   "metadata": {},
   "outputs": [],
   "source": [
    "ml_models = []\n",
    "ml_models.append((\"CART\", DecisionTreeClassifier()))\n",
    "ml_models.append((\"LR\", LogisticRegression(max_iter=10000)))\n",
    "ml_models.append((\"RF\", RandomForestClassifier(n_estimators = 150,\n",
    "                           n_jobs = 10,\n",
    "                           oob_score = True,\n",
    "                           bootstrap = True)\n",
    "                 ))\n",
    "ml_models.append((\"AdaBoost\", AdaBoostClassifier(n_estimators=150)))"
   ]
  },
  {
   "cell_type": "code",
   "execution_count": 139,
   "metadata": {},
   "outputs": [
    {
     "name": "stdout",
     "output_type": "stream",
     "text": [
      "CART: 0.614286 (0.190714)\n",
      "LR: 0.642857 (0.161484)\n",
      "RF: 0.659524 (0.229623)\n",
      "AdaBoost: 0.609524 (0.206526)\n"
     ]
    },
    {
     "name": "stderr",
     "output_type": "stream",
     "text": [
      "Stochastic Optimizer: Maximum iterations (1000) reached and the optimization hasn't converged yet.\n",
      "Stochastic Optimizer: Maximum iterations (1000) reached and the optimization hasn't converged yet.\n",
      "Stochastic Optimizer: Maximum iterations (1000) reached and the optimization hasn't converged yet.\n",
      "Stochastic Optimizer: Maximum iterations (1000) reached and the optimization hasn't converged yet.\n",
      "Stochastic Optimizer: Maximum iterations (1000) reached and the optimization hasn't converged yet.\n"
     ]
    },
    {
     "name": "stdout",
     "output_type": "stream",
     "text": [
      "MLP: 0.580952 (0.178238)\n",
      "SVM: 0.707143 (0.198363)\n"
     ]
    },
    {
     "data": {
      "image/png": "[encoded data removed]",
      "text/plain": [
       "<Figure size 720x720 with 1 Axes>"
      ]
     },
     "metadata": {},
     "output_type": "display_data"
    }
   ],
   "source": [
    "from sklearn.model_selection import KFold, cross_val_score\n",
    "\n",
    "# evaluate each model in turn\n",
    "results = []\n",
    "names = []\n",
    "scoring = 'accuracy'\n",
    "for name, model in ml_models:\n",
    "    model.fit(X_train.values, y_train)\n",
    "    kfold = KFold(n_splits=10)\n",
    "    cv_results = cross_val_score(model, X_test.values, y_test, cv=kfold, scoring=scoring)\n",
    "    results.append(cv_results)\n",
    "    names.append(name)\n",
    "    msg = \"%s: %f (%f)\" % (name, cv_results.mean(), cv_results.std())\n",
    "    print(msg)\n",
    "\n",
    "# for MLP Classifier and SVC since they need scaled X_train\n",
    "model = MLPClassifier(activation='tanh', alpha=0.05, solver='sgd', \n",
    "                        learning_rate='constant', learning_rate_init=0.001,\n",
    "                        hidden_layer_sizes=(20,1,2), max_iter=1000)\n",
    "model.fit(X_train_s, y_train)\n",
    "kfold = KFold(n_splits=10)\n",
    "cv_results = cross_val_score(model, X_test_s, y_test, cv=kfold, scoring=scoring)\n",
    "results.append(cv_results)\n",
    "names.append(\"MLP\")\n",
    "msg = \"%s: %f (%f)\" % (\"MLP\", cv_results.mean(), cv_results.std())\n",
    "print(msg)\n",
    "\n",
    "model = svm.SVC()\n",
    "model.fit(X_train_s, y_train)\n",
    "kfold = KFold(n_splits=10)\n",
    "cv_results = cross_val_score(model, X_test_s, y_test, cv=kfold, scoring=scoring)\n",
    "results.append(cv_results)\n",
    "names.append(\"SVM\")\n",
    "msg = \"%s: %f (%f)\" % (\"SVM\", cv_results.mean(), cv_results.std())\n",
    "print(msg)\n",
    "\n",
    "# boxplot algorithm comparison\n",
    "fig = plt.figure()\n",
    "fig.suptitle('Algorithm Comparison')\n",
    "ax = fig.add_subplot(111)\n",
    "plt.boxplot(results)\n",
    "ax.set_xticklabels(names)\n",
    "plt.show()"
   ]
  },
  {
   "cell_type": "markdown",
   "metadata": {},
   "source": [
    "SVM is doing better than other classifiers (on average)."
   ]
  },
  {
   "cell_type": "markdown",
   "metadata": {},
   "source": [
    "#### Hyperparameters tuning for RF algorithm (not conclusive)"
   ]
  },
  {
   "cell_type": "code",
   "execution_count": 369,
   "metadata": {},
   "outputs": [
    {
     "data": {
      "text/plain": [
       "dict_keys(['bootstrap', 'ccp_alpha', 'class_weight', 'criterion', 'max_depth', 'max_features', 'max_leaf_nodes', 'max_samples', 'min_impurity_decrease', 'min_samples_leaf', 'min_samples_split', 'min_weight_fraction_leaf', 'n_estimators', 'n_jobs', 'oob_score', 'random_state', 'verbose', 'warm_start'])"
      ]
     },
     "execution_count": 369,
     "metadata": {},
     "output_type": "execute_result"
    }
   ],
   "source": [
    "RandomForestClassifier().get_params().keys()"
   ]
  },
  {
   "cell_type": "code",
   "execution_count": null,
   "metadata": {},
   "outputs": [],
   "source": [
    "param_grid = {\n",
    "    'n_estimators': range(50, 300, 50),\n",
    "    'max_features': ['auto', 'sqrt'],\n",
    "    'min_samples_split': [2, 5, 10],\n",
    "    'min_samples_leaf': [1, 2, 4],\n",
    "    'bootstrap': [True, False]\n",
    "}\n",
    "pprint(param_grid)\n",
    "\n",
    "optimal_params = GridSearchCV(\n",
    "    estimator=RandomForestClassifier(n_jobs=10, random_state=42),\n",
    "    param_grid=param_grid,\n",
    "#     scoring = 'roc_auc',## For more scoring metics see: \n",
    "        ## https://scikit-learn.org/stable/modules/model_evaluation.html#scoring-parameter\n",
    "    verbose=0, # NOTE: If you want to see what Grid Search is doing, set verbose=2\n",
    "    n_jobs=10,\n",
    "    cv=3\n",
    ")\n",
    "\n",
    "optimal_params.fit(X_train, y_train)\n",
    "print(optimal_params.best_params_)"
   ]
  },
  {
   "cell_type": "code",
   "execution_count": 112,
   "metadata": {},
   "outputs": [
    {
     "data": {
      "text/plain": [
       "RandomForestClassifier(bootstrap=False, min_samples_leaf=2, min_samples_split=5,\n",
       "                       n_estimators=50, random_state=42)"
      ]
     },
     "execution_count": 112,
     "metadata": {},
     "output_type": "execute_result"
    }
   ],
   "source": [
    "rf_opt = RandomForestClassifier(bootstrap=False,\n",
    "                                n_estimators=50, \n",
    "                                min_samples_leaf=2,\n",
    "                                min_samples_split=5,\n",
    "                                max_features='auto',\n",
    "                                random_state=42)\n",
    "rf_opt.fit(X_train, y_train)"
   ]
  },
  {
   "cell_type": "code",
   "execution_count": 113,
   "metadata": {},
   "outputs": [
    {
     "name": "stdout",
     "output_type": "stream",
     "text": [
      "0.6923076923076923\n"
     ]
    }
   ],
   "source": [
    "# calcul du score\n",
    "score = rf_opt.score(X_test, y_test)\n",
    "print(score)"
   ]
  },
  {
   "cell_type": "code",
   "execution_count": 114,
   "metadata": {},
   "outputs": [
    {
     "name": "stdout",
     "output_type": "stream",
     "text": [
      "              precision    recall  f1-score   support\n",
      "\n",
      "           0       0.68      0.98      0.80        42\n",
      "           1       0.80      0.17      0.29        23\n",
      "\n",
      "    accuracy                           0.69        65\n",
      "   macro avg       0.74      0.58      0.54        65\n",
      "weighted avg       0.72      0.69      0.62        65\n",
      "\n"
     ]
    }
   ],
   "source": [
    "# predictions\n",
    "pred = rf_opt.predict(X_test)\n",
    "print(metrics.classification_report(y_test, pred))"
   ]
  },
  {
   "cell_type": "code",
   "execution_count": 115,
   "metadata": {},
   "outputs": [
    {
     "data": {
      "image/png": "[encoded data removed]",
      "text/plain": [
       "<Figure size 720x720 with 2 Axes>"
      ]
     },
     "metadata": {},
     "output_type": "display_data"
    }
   ],
   "source": [
    "# matrice de confusion\n",
    "cm = metrics.confusion_matrix(y_test, pred)\n",
    "\n",
    "ax = plt.subplot()\n",
    "sns.heatmap(cm,annot=True,fmt=\"d\") \n",
    "ax.set_xlabel('Prediction');ax.set_ylabel('Labels reels'); \n",
    "ax.set_title('Matrice de confusion'); \n",
    "plt.show()"
   ]
  },
  {
   "cell_type": "code",
   "execution_count": null,
   "metadata": {},
   "outputs": [],
   "source": []
  }
 ],
 "metadata": {
  "kernelspec": {
   "display_name": "Python 3",
   "language": "python",
   "name": "python3"
  },
  "language_info": {
   "codemirror_mode": {
    "name": "ipython",
    "version": 3
   },
   "file_extension": ".py",
   "mimetype": "text/x-python",
   "name": "python",
   "nbconvert_exporter": "python",
   "pygments_lexer": "ipython3",
   "version": "3.7.4"
  }
 },
 "nbformat": 4,
 "nbformat_minor": 2
}
